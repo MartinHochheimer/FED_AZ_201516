{
 "cells": [
  {
   "cell_type": "markdown",
   "metadata": {},
   "source": [
    "# Segment raw images to get gray matter before normalising.\n",
    "This is to prevent errors in normalisation down the line (e.g. enlargement of ventricles: GM WM growth or shrinkage?)"
   ]
  },
  {
   "cell_type": "code",
   "execution_count": 6,
   "metadata": {},
   "outputs": [],
   "source": [
    "# import everything you need\n",
    "from nipype import Node, Workflow\n",
    "import nipype.interfaces.spm as spm\n",
    "import os"
   ]
  },
  {
   "cell_type": "code",
   "execution_count": 7,
   "metadata": {},
   "outputs": [],
   "source": [
    "# define useful functions\n",
    "\n",
    "# get subject directories from parent directory\n",
    "def get_subdirs(dir):\n",
    "    subdirs=list()\n",
    "    for i in os.listdir(dir):\n",
    "        if os.path.isdir(os.path.join(dir, i)):\n",
    "            subdirs.append(os.path.join(dir, i))\n",
    "    return sorted(subdirs)"
   ]
  },
  {
   "cell_type": "code",
   "execution_count": 8,
   "metadata": {
    "collapsed": true,
    "jupyter": {
     "outputs_hidden": true
    }
   },
   "outputs": [
    {
     "name": "stdout",
     "output_type": "stream",
     "text": [
      "['/VBM/FED006', '/VBM/FED007', '/VBM/FED008', '/VBM/FED009', '/VBM/FED010', '/VBM/FED011', '/VBM/FED012', '/VBM/FED013', '/VBM/FED014', '/VBM/FED015', '/VBM/FED016', '/VBM/FED017', '/VBM/FED018', '/VBM/FED019', '/VBM/FED020', '/VBM/FED021', '/VBM/FED022', '/VBM/FED023', '/VBM/FED024', '/VBM/FED025', '/VBM/FED026', '/VBM/FED027', '/VBM/FED028', '/VBM/FED029', '/VBM/FED030', '/VBM/FED031', '/VBM/FED032', '/VBM/FED033', '/VBM/FED034', '/VBM/FED035', '/VBM/FED036', '/VBM/FED037', '/VBM/FED038', '/VBM/FED039', '/VBM/FED040', '/VBM/FED041', '/VBM/FED042', '/VBM/FED043', '/VBM/FED044', '/VBM/FED045', '/VBM/FED046', '/VBM/FED047', '/VBM/FED048', '/VBM/FED050', '/VBM/FED051', '/VBM/FED052', '/VBM/FED053', '/VBM/FED054', '/VBM/FED055', '/VBM/FED056', '/VBM/FED057', '/VBM/FED058', '/VBM/FED059', '/VBM/FED060', '/VBM/FED061', '/VBM/FED062', '/VBM/FED063', '/VBM/FED064', '/VBM/FED065', '/VBM/FED066', '/VBM/FED067', '/VBM/FED068']\n"
     ]
    }
   ],
   "source": [
    "subdirs=get_subdirs(\"/VBM/\")\n",
    "print(subdirs)"
   ]
  },
  {
   "cell_type": "code",
   "execution_count": 65,
   "metadata": {
    "collapsed": true,
    "jupyter": {
     "outputs_hidden": true
    }
   },
   "outputs": [
    {
     "name": "stdout",
     "output_type": "stream",
     "text": [
      "{'FED006': '/VBM/FED006/T1_MPRAGE_SAG_ISO_0_9_0005_t1_mprage_sag_iso_0.9_20141106153429_5.nii', 'FED007': '/VBM/FED007/T1_MPRAGE_SAG_ISO_0_9_0005_t1_mprage_sag_iso_0.9_20141107104226_5.nii', 'FED008': '/VBM/FED008/T1_MPRAGE_SAG_ISO_0_9_0005_t1_mprage_sag_iso_0.9_20141112155009_5.nii', 'FED009': '/VBM/FED009/T1_MPRAGE_SAG_ISO_0_9_0005_t1_mprage_sag_iso_0.9_20141117154954_5.nii', 'FED010': '/VBM/FED010/T1_MPRAGE_SAG_ISO_0_9_0005_t1_mprage_sag_iso_0.9_20141119091904_5.nii', 'FED011': '/VBM/FED011/T1_MPRAGE_SAG_ISO_0_9_0005_t1_mprage_sag_iso_0.9_20141119161708_5.nii', 'FED012': '/VBM/FED012/T1_MPRAGE_SAG_ISO_0_9_0005_t1_mprage_sag_iso_0.9_20141124150148_5.nii', 'FED013': '/VBM/FED013/T1_MPRAGE_SAG_ISO_0_9_0005_t1_mprage_sag_iso_0.9_20141125093955_5.nii', 'FED014': '/VBM/FED014/T1_MPRAGE_SAG_ISO_0_9_0005_t1_mprage_sag_iso_0.9_20141125153216_5.nii', 'FED015': '/VBM/FED015/T1_MPRAGE_SAG_ISO_0_9_0005_t1_mprage_sag_iso_0.9_20141202145526_5.nii', 'FED016': '/VBM/FED016/T1_MPRAGE_SAG_ISO_0_9_0005_t1_mprage_sag_iso_0.9_20141202164821_5.nii', 'FED017': '/VBM/FED017/T1_MPRAGE_SAG_ISO_0_9_0005_t1_mprage_sag_iso_0.9_20141204151043_5.nii', 'FED018': '/VBM/FED018/T1_MPRAGE_SAG_ISO_0_9_0005_t1_mprage_sag_iso_0.9_20141208163153_5.nii', 'FED019': '/VBM/FED019/T1_MPRAGE_SAG_ISO_0_9_0005_t1_mprage_sag_iso_0.9_20141210090147_5.nii', 'FED020': '/VBM/FED020/T1_MPRAGE_SAG_ISO_0_9_0005_t1_mprage_sag_iso_0.9_20141210170232_5.nii', 'FED021': '/VBM/FED021/T1_MPRAGE_SAG_ISO_0_9_0005_t1_mprage_sag_iso_0.9_20141211095930_5.nii', 'FED022': '/VBM/FED022/T1_MPRAGE_SAG_ISO_0_9_0005_t1_mprage_sag_iso_0.9_20141211155503_5.nii', 'FED023': '/VBM/FED023/T1_MPRAGE_SAG_ISO_0_9_0005_t1_mprage_sag_iso_0.9_20141216144604_5.nii', 'FED024': '/VBM/FED024/T1_MPRAGE_SAG_ISO_0_9_0005_t1_mprage_sag_iso_0.9_20150204145018_5.nii', 'FED025': '/VBM/FED025/T1_MPRAGE_SAG_ISO_0_9_0005_t1_mprage_sag_iso_0.9_20150206123507_5.nii', 'FED026': '/VBM/FED026/T1_MPRAGE_SAG_ISO_0_9_0005_t1_mprage_sag_iso_0.9_20150211171144_5.nii', 'FED027': '/VBM/FED027/T1_MPRAGE_SAG_ISO_0_9_0005_t1_mprage_sag_iso_0.9_20150218162601_5.nii', 'FED028': '/VBM/FED028/T1_MPRAGE_SAG_ISO_0_9_0005_t1_mprage_sag_iso_0.9_20150219142148_5.nii', 'FED029': '/VBM/FED029/T1_MPRAGE_SAG_ISO_0_9_0005_t1_mprage_sag_iso_0.9_20150226091949_5.nii', 'FED030': '/VBM/FED030/T1_MPRAGE_SAG_ISO_0_9_0005_t1_mprage_sag_iso_0.9_20150226154844_5.nii', 'FED031': '/VBM/FED031/T1_MPRAGE_SAG_ISO_0_9_0005_t1_mprage_sag_iso_0.9_20150310152650_5.nii', 'FED032': '/VBM/FED032/T1_MPRAGE_SAG_ISO_0_9_0005_t1_mprage_sag_iso_0.9_20150313125246_5.nii', 'FED033': '/VBM/FED033/T1_MPRAGE_SAG_ISO_0_9_0005_t1_mprage_sag_iso_0.9_20150326151309_5.nii', 'FED034': '/VBM/FED034/T1_MPRAGE_SAG_ISO_0_9_0005_t1_mprage_sag_iso_0.9_20150909125805_5.nii', 'FED035': '/VBM/FED035/T1_MPRAGE_SAG_ISO_0_9_0005_t1_mprage_sag_iso_0.9_20150917120306_5.nii', 'FED036': '/VBM/FED036/T1_MPRAGE_SAG_ISO_0_9_0005_t1_mprage_sag_iso_0.9_20150924172133_5.nii', 'FED037': '/VBM/FED037/T1_MPRAGE_SAG_ISO_0_9_0005_t1_mprage_sag_iso_0.9_20150929162030_5.nii', 'FED038': '/VBM/FED038/T1_MPRAGE_SAG_ISO_0_9_0005_t1_mprage_sag_iso_0.9_20151001125857_5.nii', 'FED039': '/VBM/FED039/T1_MPRAGE_SAG_ISO_0_9_0005_t1_mprage_sag_iso_0.9_20151001173950_5.nii', 'FED040': '/VBM/FED040/T1_MPRAGE_SAG_ISO_0_9_0005_t1_mprage_sag_iso_0.9_20151009111760_5.nii', 'FED041': '/VBM/FED041/T1_MPRAGE_SAG_ISO_0_9_0005_t1_mprage_sag_iso_0.9_20151009164129_5.nii', 'FED042': '/VBM/FED042/T1_MPRAGE_SAG_ISO_0_9_0005_t1_mprage_sag_iso_0.9_20151013110112_5.nii', 'FED043': '/VBM/FED043/T1_MPRAGE_SAG_ISO_0_9_0005_t1_mprage_sag_iso_0.9_20151015122011_5.nii', 'FED044': '/VBM/FED044/T1_MPRAGE_SAG_ISO_0_9_0005_t1_mprage_sag_iso_0.9_20151029121235_5.nii', 'FED045': '/VBM/FED045/T1_MPRAGE_SAG_ISO_0_9_0005_t1_mprage_sag_iso_0.9_20151105173027_5.nii', 'FED046': '/VBM/FED046/T1_MPRAGE_SAG_ISO_0_9_0005_t1_mprage_sag_iso_0.9_20151106125904_5.nii', 'FED047': '/VBM/FED047/T1_MPRAGE_SAG_ISO_0_9_0005_t1_mprage_sag_iso_0.9_20151116144126_5.nii', 'FED048': '/VBM/FED048/T1_MPRAGE_SAG_ISO_0_9_0005_t1_mprage_sag_iso_0.9_20151118152060_5.nii', 'FED050': '/VBM/FED050/T1_MPRAGE_SAG_ISO_0_9_0005_t1_mprage_sag_iso_0.9_20151201165820_5.nii', 'FED051': '/VBM/FED051/T1_MPRAGE_SAG_ISO_0_9_0005_t1_mprage_sag_iso_0.9_20151202153410_5.nii', 'FED052': '/VBM/FED052/T1_MPRAGE_SAG_ISO_0_9_0005_t1_mprage_sag_iso_0.9_20151203172751_5.nii', 'FED053': '/VBM/FED053/T1_MPRAGE_SAG_ISO_0_9_0005_t1_mprage_sag_iso_0.9_20151208115820_5.nii', 'FED054': '/VBM/FED054/T1_MPRAGE_SAG_ISO_0_9_0005_t1_mprage_sag_iso_0.9_20151208140706_5.nii', 'FED055': '/VBM/FED055/T1_MPRAGE_SAG_ISO_0_9_0005_t1_mprage_sag_iso_0.9_20151214092109_5.nii', 'FED056': '/VBM/FED056/T1_MPRAGE_SAG_ISO_0_9_0005_t1_mprage_sag_iso_0.9_20151215155556_5.nii', 'FED057': '/VBM/FED057/T1_MPRAGE_SAG_ISO_0_9_0005_t1_mprage_sag_iso_0.9_20151216154455_5.nii', 'FED058': '/VBM/FED058/T1_MPRAGE_SAG_ISO_0_9_0005_t1_mprage_sag_iso_0.9_20160217151251_5.nii', 'FED059': '/VBM/FED059/T1_MPRAGE_SAG_ISO_0_9_0005_t1_mprage_sag_iso_0.9_20160218100702_5.nii', 'FED060': '/VBM/FED060/T1_MPRAGE_SAG_ISO_0_9_0005_t1_mprage_sag_iso_0.9_20160224151260_5.nii', 'FED061': '/VBM/FED061/T1_MPRAGE_SAG_ISO_0_9_0005_t1_mprage_sag_iso_0.9_20160301111011_5.nii', 'FED062': '/VBM/FED062/T1_MPRAGE_SAG_ISO_0_9_0005_t1_mprage_sag_iso_0.9_20160301164049_5.nii', 'FED063': '/VBM/FED063/T1_MPRAGE_SAG_ISO_0_9_0005_t1_mprage_sag_iso_0.9_20160308162043_5.nii', 'FED064': '/VBM/FED064/T1_MPRAGE_SAG_ISO_0_9_0005_t1_mprage_sag_iso_0.9_20160309173936_5.nii', 'FED065': '/VBM/FED065/T1_MPRAGE_SAG_ISO_0_9_0005_t1_mprage_sag_iso_0.9_20160310090712_5.nii', 'FED066': '/VBM/FED066/T1_MPRAGE_SAG_ISO_0_9_0005_t1_mprage_sag_iso_0.9_20160310171152_5.nii', 'FED067': '/VBM/FED067/T1_MPRAGE_SAG_ISO_0_9_0005_t1_mprage_sag_iso_0.9_20160311133810_5.nii', 'FED068': '/VBM/FED068/T1_MPRAGE_SAG_ISO_0_9_0005_t1_mprage_sag_iso_0.9_20160331140317_5.nii'}\n"
     ]
    }
   ],
   "source": [
    "# make dict with all images as path references\n",
    "images=dict()\n",
    "for i in subdirs:\n",
    "    for j in os.listdir(i):\n",
    "        if j.endswith(\".nii\"):\n",
    "            images[i.rsplit('/', 1)[1]]=os.path.join(i, j)\n",
    "\n",
    "print(images)\n",
    "\n",
    "# load these in different DATA FORMATS (nibabel, pandas) later on"
   ]
  },
  {
   "cell_type": "code",
   "execution_count": 80,
   "metadata": {},
   "outputs": [
    {
     "name": "stdout",
     "output_type": "stream",
     "text": [
      "dict_items([('FED006', '/VBM/FED006/T1_MPRAGE_SAG_ISO_0_9_0005_t1_mprage_sag_iso_0.9_20141106153429_5.nii')])\n"
     ]
    }
   ],
   "source": [
    "# crop down images for testing (only FED006!!!)\n",
    "images2=dict()\n",
    "for i in sorted(images.keys())[0:1]:\n",
    "    images2[i]=images[i]"
   ]
  },
  {
   "cell_type": "code",
   "execution_count": 87,
   "metadata": {},
   "outputs": [],
   "source": [
    "# create SKULLSTRIP segment node\n",
    "segm_skullstrip_T1=Node(spm.preprocess.NewSegment(), name='segment_T1')\n",
    "\n",
    "tissue4 = (('/opt/spm12-r7219/spm12_mcr/spm12/tpm/TPM.nii', 4), 2, (True,False), (False, False)) # bone\n",
    "tissue5 = (('/opt/spm12-r7219/spm12_mcr/spm12/tpm/TPM.nii', 5), 2, (True,False), (False, False)) # soft tissue\n",
    "\n",
    "segm_skullstrip_T1.inputs.tissues=[tissue4, tissue5]\n",
    "segm_skullstrip_T1.inputs.use_v8struct=False # do not generate SPM8 and higher compatible jobs\n",
    "segm_skullstrip_T1.inputs.write_deformation_fields=[True, True] # write forward and inverse deformation fields"
   ]
  },
  {
   "cell_type": "code",
   "execution_count": null,
   "metadata": {},
   "outputs": [],
   "source": [
    "# use segment_T1 from spm to segment anatomical images (TEST)\n",
    "#for i in images.keys():\n",
    "for i in images2.keys():\n",
    "    print(images2[i])\n",
    "    segment_T1.inputs.channel_files=images2[i]\n",
    "    for j in subdirs:\n",
    "        if j.rsplit('/', 1)[1]==i:\n",
    "            print(j)\n",
    "            segment_T1.base_dir=j\n",
    "\n",
    "results=segment_T1.run()\n",
    "print(results.outputs)"
   ]
  },
  {
   "cell_type": "code",
   "execution_count": null,
   "metadata": {},
   "outputs": [],
   "source": [
    "# try to get equal orientation of center of origin in all \"raw\" images (native space) before segmenting\n"
   ]
  },
  {
   "cell_type": "code",
   "execution_count": 88,
   "metadata": {},
   "outputs": [],
   "source": [
    "# create FULL segment node\n",
    "segment_T1=Node(spm.preprocess.NewSegment(), name='segment_T1')\n",
    "tissue1 = (('/opt/spm12-r7219/spm12_mcr/spm12/tpm/TPM.nii', 1), 2, (True,True), (False, False)) # GM\n",
    "tissue2 = (('/opt/spm12-r7219/spm12_mcr/spm12/tpm/TPM.nii', 2), 2, (True,True), (False, False)) # WM\n",
    "tissue3 = (('/opt/spm12-r7219/spm12_mcr/spm12/tpm/TPM.nii', 3), 2, (True,True), (False, False)) # CSF\n",
    "tissue4 = (('/opt/spm12-r7219/spm12_mcr/spm12/tpm/TPM.nii', 4), 2, (True,False), (False, False)) # bone\n",
    "tissue5 = (('/opt/spm12-r7219/spm12_mcr/spm12/tpm/TPM.nii', 5), 2, (True,False), (False, False)) # soft tissue\n",
    "tissue6 = (('/opt/spm12-r7219/spm12_mcr/spm12/tpm/TPM.nii', 6), 2, (False,False), (False, False)) # air and background\n",
    "segment_T1.inputs.tissues=[tissue1, tissue2, tissue3, tissue4, tissue5, tissue6]\n",
    "segment_T1.inputs.use_v8struct=False # do not generate SPM8 and higher compatible jobs\n",
    "segment_T1.inputs.write_deformation_fields=[True, True] # write forward and inverse deformation fields"
   ]
  },
  {
   "cell_type": "code",
   "execution_count": 84,
   "metadata": {},
   "outputs": [
    {
     "name": "stdout",
     "output_type": "stream",
     "text": [
      "/VBM/FED006/T1_MPRAGE_SAG_ISO_0_9_0005_t1_mprage_sag_iso_0.9_20141106153429_5.nii\n",
      "/VBM/FED006\n",
      "191218-17:30:49,25 nipype.workflow INFO:\n",
      "\t [Node] Setting-up \"segment_T1\" in \"/VBM/FED006/segment_T1\".\n",
      "191218-17:30:49,32 nipype.workflow INFO:\n",
      "\t [Node] Running \"segment_T1\" (\"nipype.interfaces.spm.preprocess.NewSegment\")\n",
      "191218-17:34:38,384 nipype.workflow INFO:\n",
      "\t [Node] Finished \"segment_T1\".\n",
      "\n",
      "bias_corrected_images = <undefined>\n",
      "bias_field_images = <undefined>\n",
      "dartel_input_images = [['/VBM/FED006/segment_T1/rc1T1_MPRAGE_SAG_ISO_0_9_0005_t1_mprage_sag_iso_0.9_20141106153429_5.nii'], ['/VBM/FED006/segment_T1/rc2T1_MPRAGE_SAG_ISO_0_9_0005_t1_mprage_sag_iso_0.9_20141106153429_5.nii'], ['/VBM/FED006/segment_T1/rc3T1_MPRAGE_SAG_ISO_0_9_0005_t1_mprage_sag_iso_0.9_20141106153429_5.nii'], [], [], []]\n",
      "forward_deformation_field = /VBM/FED006/segment_T1/y_T1_MPRAGE_SAG_ISO_0_9_0005_t1_mprage_sag_iso_0.9_20141106153429_5.nii\n",
      "inverse_deformation_field = /VBM/FED006/segment_T1/iy_T1_MPRAGE_SAG_ISO_0_9_0005_t1_mprage_sag_iso_0.9_20141106153429_5.nii\n",
      "modulated_class_images = [[], [], [], [], [], []]\n",
      "native_class_images = [['/VBM/FED006/segment_T1/c1T1_MPRAGE_SAG_ISO_0_9_0005_t1_mprage_sag_iso_0.9_20141106153429_5.nii'], ['/VBM/FED006/segment_T1/c2T1_MPRAGE_SAG_ISO_0_9_0005_t1_mprage_sag_iso_0.9_20141106153429_5.nii'], ['/VBM/FED006/segment_T1/c3T1_MPRAGE_SAG_ISO_0_9_0005_t1_mprage_sag_iso_0.9_20141106153429_5.nii'], ['/VBM/FED006/segment_T1/c4T1_MPRAGE_SAG_ISO_0_9_0005_t1_mprage_sag_iso_0.9_20141106153429_5.nii'], ['/VBM/FED006/segment_T1/c5T1_MPRAGE_SAG_ISO_0_9_0005_t1_mprage_sag_iso_0.9_20141106153429_5.nii'], []]\n",
      "normalized_class_images = [[], [], [], [], [], []]\n",
      "transformation_mat = /VBM/FED006/segment_T1/T1_MPRAGE_SAG_ISO_0_9_0005_t1_mprage_sag_iso_0.9_20141106153429_5_seg8.mat\n",
      "\n"
     ]
    }
   ],
   "source": [
    "# use segment_T1 from spm to segment anatomical images (TEST)\n",
    "#for i in images.keys():\n",
    "for i in images2.keys():\n",
    "    print(images2[i])\n",
    "    segment_T1.inputs.channel_files=images2[i]\n",
    "    for j in subdirs:\n",
    "        if j.rsplit('/', 1)[1]==i:\n",
    "            print(j)\n",
    "            segment_T1.base_dir=j\n",
    "\n",
    "results=segment_T1.run()\n",
    "print(results.outputs)"
   ]
  },
  {
   "cell_type": "markdown",
   "metadata": {},
   "source": [
    "Create the study specific, non-linear GM template"
   ]
  },
  {
   "cell_type": "code",
   "execution_count": null,
   "metadata": {},
   "outputs": [],
   "source": []
  }
 ],
 "metadata": {
  "kernelspec": {
   "display_name": "Python [conda env:neuro] *",
   "language": "python",
   "name": "conda-env-neuro-py"
  },
  "language_info": {
   "codemirror_mode": {
    "name": "ipython",
    "version": 3
   },
   "file_extension": ".py",
   "mimetype": "text/x-python",
   "name": "python",
   "nbconvert_exporter": "python",
   "pygments_lexer": "ipython3",
   "version": "3.7.3"
  }
 },
 "nbformat": 4,
 "nbformat_minor": 4
}
