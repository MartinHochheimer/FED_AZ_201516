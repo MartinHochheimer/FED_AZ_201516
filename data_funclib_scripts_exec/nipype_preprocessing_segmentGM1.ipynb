{
 "cells": [
  {
   "cell_type": "markdown",
   "metadata": {},
   "source": [
    "# Segment raw images to get gray matter before normalising.\n",
    "This is to prevent errors in normalisation down the line (e.g. enlargement of ventricles: GM WM growth or shrinkage?)"
   ]
  },
  {
   "cell_type": "code",
   "execution_count": 1,
   "metadata": {},
   "outputs": [
    {
     "name": "stdout",
     "output_type": "stream",
     "text": [
      "191217-16:33:59,911 nipype.utils INFO:\n",
      "\t Running nipype version 1.4.0-dev (latest: 1.3.1)\n"
     ]
    }
   ],
   "source": [
    "# import everything you need\n",
    "from nipype import Node, Workflow\n",
    "import nipype.interfaces.spm as spm\n",
    "from nipype.interfaces.fsl import \n",
    "import os"
   ]
  },
  {
   "cell_type": "code",
   "execution_count": 2,
   "metadata": {},
   "outputs": [],
   "source": [
    "# define useful functions\n",
    "\n",
    "# get subject directories from parent directory\n",
    "def get_subdirs(dir):\n",
    "    subdirs=list()\n",
    "    for i in os.listdir(dir):\n",
    "        if os.path.isdir(os.path.join(dir, i)):\n",
    "            subdirs.append(os.path.join(dir, i))\n",
    "    return sorted(subdirs)"
   ]
  },
  {
   "cell_type": "code",
   "execution_count": 3,
   "metadata": {},
   "outputs": [
    {
     "name": "stdout",
     "output_type": "stream",
     "text": [
      "['/VBM/FED006', '/VBM/FED007', '/VBM/FED008', '/VBM/FED009', '/VBM/FED010', '/VBM/FED011', '/VBM/FED012', '/VBM/FED013', '/VBM/FED014', '/VBM/FED015', '/VBM/FED016', '/VBM/FED017', '/VBM/FED018', '/VBM/FED019', '/VBM/FED020', '/VBM/FED021', '/VBM/FED022', '/VBM/FED023', '/VBM/FED024', '/VBM/FED025', '/VBM/FED026', '/VBM/FED027', '/VBM/FED028', '/VBM/FED029', '/VBM/FED030', '/VBM/FED031', '/VBM/FED032', '/VBM/FED033', '/VBM/FED034', '/VBM/FED035', '/VBM/FED036', '/VBM/FED037', '/VBM/FED038', '/VBM/FED039', '/VBM/FED040', '/VBM/FED041', '/VBM/FED042', '/VBM/FED043', '/VBM/FED044', '/VBM/FED045', '/VBM/FED046', '/VBM/FED047', '/VBM/FED048', '/VBM/FED050', '/VBM/FED051', '/VBM/FED052', '/VBM/FED053', '/VBM/FED054', '/VBM/FED055', '/VBM/FED056', '/VBM/FED057', '/VBM/FED058', '/VBM/FED059', '/VBM/FED060', '/VBM/FED061', '/VBM/FED062', '/VBM/FED063', '/VBM/FED064', '/VBM/FED065', '/VBM/FED066', '/VBM/FED067', '/VBM/FED068']\n"
     ]
    }
   ],
   "source": [
    "subdirs=get_subdirs(\"/VBM/\")\n",
    "print(subdirs)"
   ]
  },
  {
   "cell_type": "code",
   "execution_count": 4,
   "metadata": {},
   "outputs": [],
   "source": [
    "# make dict with all images\n",
    "images=dict()\n",
    "for i in subdirs:\n",
    "    for j in os.listdir(i):\n",
    "        if j.endswith(\".nii\"):\n",
    "            images[i.rsplit('/', 1)[1]]=os.path.join(i, j)\n",
    "\n",
    "# load these in different DATA FORMATS (nibabel, pandas) later on"
   ]
  },
  {
   "cell_type": "code",
   "execution_count": 5,
   "metadata": {},
   "outputs": [],
   "source": [
    "# create segment node\n",
    "segment_T1=Node(spm.preprocess.NewSegment(), name='segment_T1')\n",
    "tissue1 = (('/opt/spm12-r7219/spm12_mcr/spm12/tpm/TPM.nii', 1), 2, (True,True), (False, False)) # GM\n",
    "tissue2 = (('/opt/spm12-r7219/spm12_mcr/spm12/tpm/TPM.nii', 2), 2, (True,True), (False, False)) # WM\n",
    "tissue3 = (('/opt/spm12-r7219/spm12_mcr/spm12/tpm/TPM.nii', 3), 2, (True,False), (False, False)) # CSF\n",
    "tissue4 = (('/opt/spm12-r7219/spm12_mcr/spm12/tpm/TPM.nii', 4), 2, (False,False), (False, False)) # bone\n",
    "tissue5 = (('/opt/spm12-r7219/spm12_mcr/spm12/tpm/TPM.nii', 5), 2, (False,False), (False, False)) # soft tissue\n",
    "tissue6 = (('/opt/spm12-r7219/spm12_mcr/spm12/tpm/TPM.nii', 6), 2, (False,False), (False, False)) # air and background\n",
    "segment_T1.inputs.tissues=[tissue1, tissue2, tissue3, tissue4, tissue5, tissue6]\n",
    "segment_T1.inputs.use_v8struct=False # do not create SPM8 and higher compatible jobs\n",
    "segment_T1.inputs.write_deformation_fields=[True, True] # write forward and inverse deformation fields"
   ]
  },
  {
   "cell_type": "code",
   "execution_count": 6,
   "metadata": {},
   "outputs": [
    {
     "name": "stdout",
     "output_type": "stream",
     "text": [
      "/VBM/FED006/T1_MPRAGE_SAG_ISO_0_9_0005_t1_mprage_sag_iso_0.9_20141106153429_5.nii\n",
      "191217-16:34:15,776 nipype.workflow INFO:\n",
      "\t [Node] Setting-up \"segment_T1\" in \"/VBM/FED006/segment_T1\".\n",
      "191217-16:34:15,785 nipype.workflow INFO:\n",
      "\t [Node] Running \"segment_T1\" (\"nipype.interfaces.spm.preprocess.NewSegment\")\n",
      "191217-16:38:04,867 nipype.workflow INFO:\n",
      "\t [Node] Finished \"segment_T1\".\n",
      "\n",
      "bias_corrected_images = <undefined>\n",
      "bias_field_images = <undefined>\n",
      "dartel_input_images = [['/VBM/FED006/segment_T1/rc1T1_MPRAGE_SAG_ISO_0_9_0005_t1_mprage_sag_iso_0.9_20141106153429_5.nii'], ['/VBM/FED006/segment_T1/rc2T1_MPRAGE_SAG_ISO_0_9_0005_t1_mprage_sag_iso_0.9_20141106153429_5.nii'], [], [], [], []]\n",
      "forward_deformation_field = /VBM/FED006/segment_T1/y_T1_MPRAGE_SAG_ISO_0_9_0005_t1_mprage_sag_iso_0.9_20141106153429_5.nii\n",
      "inverse_deformation_field = /VBM/FED006/segment_T1/iy_T1_MPRAGE_SAG_ISO_0_9_0005_t1_mprage_sag_iso_0.9_20141106153429_5.nii\n",
      "modulated_class_images = [[], [], [], [], [], []]\n",
      "native_class_images = [['/VBM/FED006/segment_T1/c1T1_MPRAGE_SAG_ISO_0_9_0005_t1_mprage_sag_iso_0.9_20141106153429_5.nii'], ['/VBM/FED006/segment_T1/c2T1_MPRAGE_SAG_ISO_0_9_0005_t1_mprage_sag_iso_0.9_20141106153429_5.nii'], ['/VBM/FED006/segment_T1/c3T1_MPRAGE_SAG_ISO_0_9_0005_t1_mprage_sag_iso_0.9_20141106153429_5.nii'], [], [], []]\n",
      "normalized_class_images = [[], [], [], [], [], []]\n",
      "transformation_mat = /VBM/FED006/segment_T1/T1_MPRAGE_SAG_ISO_0_9_0005_t1_mprage_sag_iso_0.9_20141106153429_5_seg8.mat\n",
      "\n"
     ]
    }
   ],
   "source": [
    "# use segment_T1 from spm to segment image of first subject (TEST)\n",
    "#for i in images.keys():\n",
    "print(images[\"FED006\"])\n",
    "segment_T1.inputs.channel_files=images[\"FED006\"]\n",
    "segment_T1.base_dir=subdirs[0]\n",
    "\n",
    "results=segment_T1.run()\n",
    "#print(results.outputs)"
   ]
  },
  {
   "cell_type": "markdown",
   "metadata": {},
   "source": [
    "Create the study specific, non-linear GM template"
   ]
  },
  {
   "cell_type": "code",
   "execution_count": null,
   "metadata": {},
   "outputs": [],
   "source": []
  }
 ],
 "metadata": {
  "kernelspec": {
   "display_name": "Python [conda env:neuro] *",
   "language": "python",
   "name": "conda-env-neuro-py"
  },
  "language_info": {
   "codemirror_mode": {
    "name": "ipython",
    "version": 3
   },
   "file_extension": ".py",
   "mimetype": "text/x-python",
   "name": "python",
   "nbconvert_exporter": "python",
   "pygments_lexer": "ipython3",
   "version": "3.7.3"
  }
 },
 "nbformat": 4,
 "nbformat_minor": 4
}
