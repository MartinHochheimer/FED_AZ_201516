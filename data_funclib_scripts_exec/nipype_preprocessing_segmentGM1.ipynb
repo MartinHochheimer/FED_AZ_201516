{
 "cells": [
  {
   "cell_type": "markdown",
   "metadata": {},
   "source": [
    "# Segment raw images to get gray matter before normalising.\n",
    "This is to prevent errors in normalisation down the line (e.g. enlargement of ventricles: GM WM growth or shrinkage?)"
   ]
  },
  {
   "cell_type": "code",
   "execution_count": 16,
   "metadata": {},
   "outputs": [],
   "source": [
    "# import everything you need\n",
    "from nipype import Node, Workflow\n",
    "import nipype.interfaces.spm as spm\n",
    "import numpy as np\n",
    "import os"
   ]
  },
  {
   "cell_type": "code",
   "execution_count": 2,
   "metadata": {},
   "outputs": [],
   "source": [
    "# define useful functions\n",
    "\n",
    "# get subject directories from parent directory\n",
    "def get_subdirs(dir):\n",
    "    subdirs=list()\n",
    "    for i in os.listdir(dir):\n",
    "        if os.path.isdir(os.path.join(dir, i)):\n",
    "            subdirs.append(os.path.join(dir, i))\n",
    "    return sorted(subdirs)"
   ]
  },
  {
   "cell_type": "code",
   "execution_count": 3,
   "metadata": {
    "collapsed": true,
    "jupyter": {
     "outputs_hidden": true
    }
   },
   "outputs": [
    {
     "name": "stdout",
     "output_type": "stream",
     "text": [
      "['/VBM/FED006', '/VBM/FED007', '/VBM/FED008', '/VBM/FED009', '/VBM/FED010', '/VBM/FED011', '/VBM/FED012', '/VBM/FED013', '/VBM/FED014', '/VBM/FED015', '/VBM/FED016', '/VBM/FED017', '/VBM/FED018', '/VBM/FED019', '/VBM/FED020', '/VBM/FED021', '/VBM/FED022', '/VBM/FED023', '/VBM/FED024', '/VBM/FED025', '/VBM/FED026', '/VBM/FED027', '/VBM/FED028', '/VBM/FED029', '/VBM/FED030', '/VBM/FED031', '/VBM/FED032', '/VBM/FED033', '/VBM/FED034', '/VBM/FED035', '/VBM/FED036', '/VBM/FED037', '/VBM/FED038', '/VBM/FED039', '/VBM/FED040', '/VBM/FED041', '/VBM/FED042', '/VBM/FED043', '/VBM/FED044', '/VBM/FED045', '/VBM/FED046', '/VBM/FED047', '/VBM/FED048', '/VBM/FED050', '/VBM/FED051', '/VBM/FED052', '/VBM/FED053', '/VBM/FED054', '/VBM/FED055', '/VBM/FED056', '/VBM/FED057', '/VBM/FED058', '/VBM/FED059', '/VBM/FED060', '/VBM/FED061', '/VBM/FED062', '/VBM/FED063', '/VBM/FED064', '/VBM/FED065', '/VBM/FED066', '/VBM/FED067', '/VBM/FED068']\n"
     ]
    }
   ],
   "source": [
    "subdirs=get_subdirs(\"/VBM/\")\n",
    "print(subdirs)"
   ]
  },
  {
   "cell_type": "code",
   "execution_count": 4,
   "metadata": {
    "collapsed": true,
    "jupyter": {
     "outputs_hidden": true
    }
   },
   "outputs": [
    {
     "name": "stdout",
     "output_type": "stream",
     "text": [
      "{'FED006': '/VBM/FED006/T1_MPRAGE_SAG_ISO_0_9_0005_t1_mprage_sag_iso_0.9_20141106153429_5.nii', 'FED007': '/VBM/FED007/T1_MPRAGE_SAG_ISO_0_9_0005_t1_mprage_sag_iso_0.9_20141107104226_5.nii', 'FED008': '/VBM/FED008/T1_MPRAGE_SAG_ISO_0_9_0005_t1_mprage_sag_iso_0.9_20141112155009_5.nii', 'FED009': '/VBM/FED009/T1_MPRAGE_SAG_ISO_0_9_0005_t1_mprage_sag_iso_0.9_20141117154954_5.nii', 'FED010': '/VBM/FED010/T1_MPRAGE_SAG_ISO_0_9_0005_t1_mprage_sag_iso_0.9_20141119091904_5.nii', 'FED011': '/VBM/FED011/T1_MPRAGE_SAG_ISO_0_9_0005_t1_mprage_sag_iso_0.9_20141119161708_5.nii', 'FED012': '/VBM/FED012/T1_MPRAGE_SAG_ISO_0_9_0005_t1_mprage_sag_iso_0.9_20141124150148_5.nii', 'FED013': '/VBM/FED013/T1_MPRAGE_SAG_ISO_0_9_0005_t1_mprage_sag_iso_0.9_20141125093955_5.nii', 'FED014': '/VBM/FED014/T1_MPRAGE_SAG_ISO_0_9_0005_t1_mprage_sag_iso_0.9_20141125153216_5.nii', 'FED015': '/VBM/FED015/T1_MPRAGE_SAG_ISO_0_9_0005_t1_mprage_sag_iso_0.9_20141202145526_5.nii', 'FED016': '/VBM/FED016/T1_MPRAGE_SAG_ISO_0_9_0005_t1_mprage_sag_iso_0.9_20141202164821_5.nii', 'FED017': '/VBM/FED017/T1_MPRAGE_SAG_ISO_0_9_0005_t1_mprage_sag_iso_0.9_20141204151043_5.nii', 'FED018': '/VBM/FED018/T1_MPRAGE_SAG_ISO_0_9_0005_t1_mprage_sag_iso_0.9_20141208163153_5.nii', 'FED019': '/VBM/FED019/T1_MPRAGE_SAG_ISO_0_9_0005_t1_mprage_sag_iso_0.9_20141210090147_5.nii', 'FED020': '/VBM/FED020/T1_MPRAGE_SAG_ISO_0_9_0005_t1_mprage_sag_iso_0.9_20141210170232_5.nii', 'FED021': '/VBM/FED021/T1_MPRAGE_SAG_ISO_0_9_0005_t1_mprage_sag_iso_0.9_20141211095930_5.nii', 'FED022': '/VBM/FED022/T1_MPRAGE_SAG_ISO_0_9_0005_t1_mprage_sag_iso_0.9_20141211155503_5.nii', 'FED023': '/VBM/FED023/T1_MPRAGE_SAG_ISO_0_9_0005_t1_mprage_sag_iso_0.9_20141216144604_5.nii', 'FED024': '/VBM/FED024/T1_MPRAGE_SAG_ISO_0_9_0005_t1_mprage_sag_iso_0.9_20150204145018_5.nii', 'FED025': '/VBM/FED025/T1_MPRAGE_SAG_ISO_0_9_0005_t1_mprage_sag_iso_0.9_20150206123507_5.nii', 'FED026': '/VBM/FED026/T1_MPRAGE_SAG_ISO_0_9_0005_t1_mprage_sag_iso_0.9_20150211171144_5.nii', 'FED027': '/VBM/FED027/T1_MPRAGE_SAG_ISO_0_9_0005_t1_mprage_sag_iso_0.9_20150218162601_5.nii', 'FED028': '/VBM/FED028/T1_MPRAGE_SAG_ISO_0_9_0005_t1_mprage_sag_iso_0.9_20150219142148_5.nii', 'FED029': '/VBM/FED029/T1_MPRAGE_SAG_ISO_0_9_0005_t1_mprage_sag_iso_0.9_20150226091949_5.nii', 'FED030': '/VBM/FED030/T1_MPRAGE_SAG_ISO_0_9_0005_t1_mprage_sag_iso_0.9_20150226154844_5.nii', 'FED031': '/VBM/FED031/T1_MPRAGE_SAG_ISO_0_9_0005_t1_mprage_sag_iso_0.9_20150310152650_5.nii', 'FED032': '/VBM/FED032/T1_MPRAGE_SAG_ISO_0_9_0005_t1_mprage_sag_iso_0.9_20150313125246_5.nii', 'FED033': '/VBM/FED033/T1_MPRAGE_SAG_ISO_0_9_0005_t1_mprage_sag_iso_0.9_20150326151309_5.nii', 'FED034': '/VBM/FED034/T1_MPRAGE_SAG_ISO_0_9_0005_t1_mprage_sag_iso_0.9_20150909125805_5.nii', 'FED035': '/VBM/FED035/T1_MPRAGE_SAG_ISO_0_9_0005_t1_mprage_sag_iso_0.9_20150917120306_5.nii', 'FED036': '/VBM/FED036/T1_MPRAGE_SAG_ISO_0_9_0005_t1_mprage_sag_iso_0.9_20150924172133_5.nii', 'FED037': '/VBM/FED037/T1_MPRAGE_SAG_ISO_0_9_0005_t1_mprage_sag_iso_0.9_20150929162030_5.nii', 'FED038': '/VBM/FED038/T1_MPRAGE_SAG_ISO_0_9_0005_t1_mprage_sag_iso_0.9_20151001125857_5.nii', 'FED039': '/VBM/FED039/T1_MPRAGE_SAG_ISO_0_9_0005_t1_mprage_sag_iso_0.9_20151001173950_5.nii', 'FED040': '/VBM/FED040/T1_MPRAGE_SAG_ISO_0_9_0005_t1_mprage_sag_iso_0.9_20151009111760_5.nii', 'FED041': '/VBM/FED041/T1_MPRAGE_SAG_ISO_0_9_0005_t1_mprage_sag_iso_0.9_20151009164129_5.nii', 'FED042': '/VBM/FED042/T1_MPRAGE_SAG_ISO_0_9_0005_t1_mprage_sag_iso_0.9_20151013110112_5.nii', 'FED043': '/VBM/FED043/T1_MPRAGE_SAG_ISO_0_9_0005_t1_mprage_sag_iso_0.9_20151015122011_5.nii', 'FED044': '/VBM/FED044/T1_MPRAGE_SAG_ISO_0_9_0005_t1_mprage_sag_iso_0.9_20151029121235_5.nii', 'FED045': '/VBM/FED045/T1_MPRAGE_SAG_ISO_0_9_0005_t1_mprage_sag_iso_0.9_20151105173027_5.nii', 'FED046': '/VBM/FED046/T1_MPRAGE_SAG_ISO_0_9_0005_t1_mprage_sag_iso_0.9_20151106125904_5.nii', 'FED047': '/VBM/FED047/T1_MPRAGE_SAG_ISO_0_9_0005_t1_mprage_sag_iso_0.9_20151116144126_5.nii', 'FED048': '/VBM/FED048/T1_MPRAGE_SAG_ISO_0_9_0005_t1_mprage_sag_iso_0.9_20151118152060_5.nii', 'FED050': '/VBM/FED050/T1_MPRAGE_SAG_ISO_0_9_0005_t1_mprage_sag_iso_0.9_20151201165820_5.nii', 'FED051': '/VBM/FED051/T1_MPRAGE_SAG_ISO_0_9_0005_t1_mprage_sag_iso_0.9_20151202153410_5.nii', 'FED052': '/VBM/FED052/T1_MPRAGE_SAG_ISO_0_9_0005_t1_mprage_sag_iso_0.9_20151203172751_5.nii', 'FED053': '/VBM/FED053/T1_MPRAGE_SAG_ISO_0_9_0005_t1_mprage_sag_iso_0.9_20151208115820_5.nii', 'FED054': '/VBM/FED054/T1_MPRAGE_SAG_ISO_0_9_0005_t1_mprage_sag_iso_0.9_20151208140706_5.nii', 'FED055': '/VBM/FED055/T1_MPRAGE_SAG_ISO_0_9_0005_t1_mprage_sag_iso_0.9_20151214092109_5.nii', 'FED056': '/VBM/FED056/T1_MPRAGE_SAG_ISO_0_9_0005_t1_mprage_sag_iso_0.9_20151215155556_5.nii', 'FED057': '/VBM/FED057/T1_MPRAGE_SAG_ISO_0_9_0005_t1_mprage_sag_iso_0.9_20151216154455_5.nii', 'FED058': '/VBM/FED058/T1_MPRAGE_SAG_ISO_0_9_0005_t1_mprage_sag_iso_0.9_20160217151251_5.nii', 'FED059': '/VBM/FED059/T1_MPRAGE_SAG_ISO_0_9_0005_t1_mprage_sag_iso_0.9_20160218100702_5.nii', 'FED060': '/VBM/FED060/T1_MPRAGE_SAG_ISO_0_9_0005_t1_mprage_sag_iso_0.9_20160224151260_5.nii', 'FED061': '/VBM/FED061/T1_MPRAGE_SAG_ISO_0_9_0005_t1_mprage_sag_iso_0.9_20160301111011_5.nii', 'FED062': '/VBM/FED062/T1_MPRAGE_SAG_ISO_0_9_0005_t1_mprage_sag_iso_0.9_20160301164049_5.nii', 'FED063': '/VBM/FED063/T1_MPRAGE_SAG_ISO_0_9_0005_t1_mprage_sag_iso_0.9_20160308162043_5.nii', 'FED064': '/VBM/FED064/T1_MPRAGE_SAG_ISO_0_9_0005_t1_mprage_sag_iso_0.9_20160309173936_5.nii', 'FED065': '/VBM/FED065/T1_MPRAGE_SAG_ISO_0_9_0005_t1_mprage_sag_iso_0.9_20160310090712_5.nii', 'FED066': '/VBM/FED066/T1_MPRAGE_SAG_ISO_0_9_0005_t1_mprage_sag_iso_0.9_20160310171152_5.nii', 'FED067': '/VBM/FED067/T1_MPRAGE_SAG_ISO_0_9_0005_t1_mprage_sag_iso_0.9_20160311133810_5.nii', 'FED068': '/VBM/FED068/T1_MPRAGE_SAG_ISO_0_9_0005_t1_mprage_sag_iso_0.9_20160331140317_5.nii'}\n"
     ]
    }
   ],
   "source": [
    "# make dict with all images as path references\n",
    "images=dict()\n",
    "for i in subdirs:\n",
    "    for j in os.listdir(i):\n",
    "        if j.endswith(\".nii\"):\n",
    "            images[i.rsplit('/', 1)[1]]=os.path.join(i, j)\n",
    "\n",
    "print(images)\n",
    "\n",
    "# load these in different DATA FORMATS (nibabel, pandas) later on"
   ]
  },
  {
   "cell_type": "code",
   "execution_count": 23,
   "metadata": {},
   "outputs": [],
   "source": [
    "# crop down images for testing (only FED006!!!)\n",
    "images2=dict()\n",
    "for i in sorted(images.keys())[0:1]:\n",
    "    images2[i]=images[i]"
   ]
  },
  {
   "cell_type": "raw",
   "metadata": {},
   "source": [
    "# tried this bash code with example T1 from FED006 -- see results in folder\n",
    "%%bash\n",
    "bet T1_MPRAGE_SAG_ISO_0_9_0005_t1_mprage_sag_iso_0.9_20141106153429_5.nii T1_MPRAGE_SAG_ISO_bet2.nii \\\n",
    "&& bet T1_MPRAGE_SAG_ISO_0_9_0005_t1_mprage_sag_iso_0.9_20141106153429_5.nii T1_MPRAGE_SAG_ISO_R_bcest.nii -R \\\n",
    "&& bet T1_MPRAGE_SAG_ISO_0_9_0005_t1_mprage_sag_iso_0.9_20141106153429_5.nii T1_MPRAGE_SAG_ISO_S_eyenerve.nii -S \\\n",
    "&& bet T1_MPRAGE_SAG_ISO_0_9_0005_t1_mprage_sag_iso_0.9_20141106153429_5.nii T1_MPRAGE_SAG_ISO_B_neckclean.nii -B\n"
   ]
  },
  {
   "cell_type": "code",
   "execution_count": 14,
   "metadata": {},
   "outputs": [],
   "source": [
    "# create SKULLSTRIP segment node\n",
    "# need to perform segmentation with full tissue information, or brain will be classified as \"soft tissue\" etc. -> see examples in \"/VBM/FED006/\"\n",
    "segm_skullstrip_T1=Node(spm.preprocess.NewSegment(), name='segm_skullstrip_T1')\n",
    "tissue1 = (('/opt/spm12-r7219/spm12_mcr/spm12/tpm/TPM.nii', 1), 2, (False,False), (False, False)) # GM\n",
    "tissue2 = (('/opt/spm12-r7219/spm12_mcr/spm12/tpm/TPM.nii', 2), 2, (False,False), (False, False)) # WM\n",
    "tissue3 = (('/opt/spm12-r7219/spm12_mcr/spm12/tpm/TPM.nii', 3), 2, (False,False), (False, False)) # CSF\n",
    "tissue4 = (('/opt/spm12-r7219/spm12_mcr/spm12/tpm/TPM.nii', 4), 2, (True,True), (False, False)) # bone\n",
    "tissue5 = (('/opt/spm12-r7219/spm12_mcr/spm12/tpm/TPM.nii', 5), 2, (True,True), (False, False)) # soft tissue\n",
    "tissue6 = (('/opt/spm12-r7219/spm12_mcr/spm12/tpm/TPM.nii', 6), 2, (False,False), (False, False)) # air and background\n",
    "segm_skullstrip_T1.inputs.tissues=[tissue1, tissue2, tissue3, tissue4, tissue5, tissue6]\n",
    "segm_skullstrip_T1.inputs.use_v8struct=False # do not generate SPM8 and higher compatible jobs\n",
    "segm_skullstrip_T1.inputs.affine_regularization='none'\n",
    "#segm_skullstrip_T1.inputs.write_deformation_fields=[True, True] # write forward and inverse deformation fields"
   ]
  },
  {
   "cell_type": "code",
   "execution_count": 15,
   "metadata": {
    "collapsed": true,
    "jupyter": {
     "outputs_hidden": true
    }
   },
   "outputs": [
    {
     "name": "stdout",
     "output_type": "stream",
     "text": [
      "191219-11:27:32,184 nipype.workflow INFO:\n",
      "\t [Node] Setting-up \"segm_skullstrip_T1\" in \"/VBM/FED006/segm_skullstrip_T1\".\n",
      "191219-11:27:32,190 nipype.workflow INFO:\n",
      "\t [Node] Running \"segm_skullstrip_T1\" (\"nipype.interfaces.spm.preprocess.NewSegment\")\n",
      "191219-11:31:30,498 nipype.workflow INFO:\n",
      "\t [Node] Finished \"segm_skullstrip_T1\".\n",
      "\n",
      "bias_corrected_images = <undefined>\n",
      "bias_field_images = <undefined>\n",
      "dartel_input_images = [[], [], [], ['/VBM/FED006/segm_skullstrip_T1/rc4T1_MPRAGE_SAG_ISO_0_9_0005_t1_mprage_sag_iso_0.9_20141106153429_5.nii'], ['/VBM/FED006/segm_skullstrip_T1/rc5T1_MPRAGE_SAG_ISO_0_9_0005_t1_mprage_sag_iso_0.9_20141106153429_5.nii'], []]\n",
      "forward_deformation_field = <undefined>\n",
      "inverse_deformation_field = <undefined>\n",
      "modulated_class_images = [[], [], [], [], [], []]\n",
      "native_class_images = [[], [], [], ['/VBM/FED006/segm_skullstrip_T1/c4T1_MPRAGE_SAG_ISO_0_9_0005_t1_mprage_sag_iso_0.9_20141106153429_5.nii'], ['/VBM/FED006/segm_skullstrip_T1/c5T1_MPRAGE_SAG_ISO_0_9_0005_t1_mprage_sag_iso_0.9_20141106153429_5.nii'], []]\n",
      "normalized_class_images = [[], [], [], [], [], []]\n",
      "transformation_mat = /VBM/FED006/segm_skullstrip_T1/T1_MPRAGE_SAG_ISO_0_9_0005_t1_mprage_sag_iso_0.9_20141106153429_5_seg8.mat\n",
      "\n"
     ]
    }
   ],
   "source": [
    "# use NewSegment from spm to segment unimportant anatomical landmarks and perform \"brain-extraction\" (TEST FED006)\n",
    "#for i in images.keys():\n",
    "for i in images2.keys():\n",
    "    segm_skullstrip_T1.inputs.channel_files=images2[i]\n",
    "    for j in subdirs:\n",
    "        if j.rsplit('/', 1)[1]==i:\n",
    "            segm_skullstrip_T1.base_dir=j\n",
    "\n",
    "results=segm_skullstrip_T1.run()\n",
    "print(results.outputs)"
   ]
  },
  {
   "cell_type": "code",
   "execution_count": 230,
   "metadata": {},
   "outputs": [
    {
     "name": "stdout",
     "output_type": "stream",
     "text": [
      "[<nibabel.nifti1.Nifti1Image object at 0x7f55e93707f0>, <nibabel.nifti1.Nifti1Image object at 0x7f55e9370ef0>]\n"
     ]
    }
   ],
   "source": [
    "# transform posthoc probability maps for bone and soft tissues into nibabel objects\n",
    "import nibabel as nib\n",
    "import re\n",
    "\n",
    "posttpms=dict()\n",
    "segmdirs=dict()\n",
    "\n",
    "# define start of dirname for segmentation\n",
    "targetnode=\"segm\"\n",
    "\n",
    "for i in images2.keys():\n",
    "    for j in subdirs:\n",
    "        # match keys with subdir list\n",
    "        if j.rsplit('/',1)[1] == i: \n",
    "            for k in os.listdir(j):\n",
    "                if os.path.isdir(os.path.join(j, k)): # go through content of subdirs and look for \"true\" directories\n",
    "                    # regex functions match=exact match of pattern, search=finds elements that contain pattern\n",
    "                    # regex matches entries in j with targetnode k\n",
    "                    match=re.match(r'(' + targetnode + ').*', k)\n",
    "                    # ? This is needed to recognize the attribute group from the regex output\n",
    "                    if match: \n",
    "                        segmdirs[j]=os.path.join(j, match.group(0))\n",
    "\n",
    "\n",
    "# enter tissue class name from segment.output=native-space drawn from TPM.nii classifications\n",
    "targettp=[\"c4T1\", \"c5T1\"]\n",
    "for i in segmdirs.keys():\n",
    "    objects=list()\n",
    "    for j in os.listdir(segmdirs[i]):\n",
    "        for t in targettp:\n",
    "            # match entries in j with targettp in t\n",
    "            match=re.match(r'(' + t + ').*', j)\n",
    "            # appends to the objects list, if match is found\n",
    "            if match:\n",
    "                objects.append(nib.load(os.path.join(segmdirs[i], match.group(0))))\n",
    "    # connects the objects list to subjects entry in posttpms dict\n",
    "    posttpms[i]=objects\n",
    "        \n",
    "# explore posttpms\n",
    "print(posttpms[\"/VBM/FED006\"][0:2])"
   ]
  },
  {
   "cell_type": "code",
   "execution_count": 232,
   "metadata": {},
   "outputs": [
    {
     "name": "stdout",
     "output_type": "stream",
     "text": [
      "<class 'nibabel.nifti1.Nifti1Image'>\n",
      "data shape (192, 256, 256)\n",
      "affine: \n",
      "[[ 8.97385120e-01 -2.61366367e-03  7.12976456e-02 -9.42629852e+01]\n",
      " [-1.32349730e-02  9.12595689e-01  2.14208603e-01 -1.39385727e+02]\n",
      " [-6.72004223e-02 -2.14635849e-01  9.09910738e-01 -7.46116333e+01]\n",
      " [ 0.00000000e+00  0.00000000e+00  0.00000000e+00  1.00000000e+00]]\n",
      "metadata:\n",
      "<class 'nibabel.nifti1.Nifti1Header'> object, endian='<'\n",
      "sizeof_hdr      : 348\n",
      "data_type       : b''\n",
      "db_name         : b''\n",
      "extents         : 0\n",
      "session_error   : 0\n",
      "regular         : b'r'\n",
      "dim_info        : 0\n",
      "dim             : [  3 192 256 256   1   1   1   1]\n",
      "intent_p1       : 0.0\n",
      "intent_p2       : 0.0\n",
      "intent_p3       : 0.0\n",
      "intent_code     : none\n",
      "datatype        : uint8\n",
      "bitpix          : 8\n",
      "slice_start     : 0\n",
      "pixdim          : [1.        0.8999951 0.9375    0.9375    0.        0.        0.\n",
      " 0.       ]\n",
      "vox_offset      : 0.0\n",
      "scl_slope       : nan\n",
      "scl_inter       : nan\n",
      "slice_end       : 0\n",
      "slice_code      : unknown\n",
      "xyzt_units      : 10\n",
      "cal_max         : 0.0\n",
      "cal_min         : 0.0\n",
      "slice_duration  : 0.0\n",
      "toffset         : 0.0\n",
      "glmax           : 0\n",
      "glmin           : 0\n",
      "descrip         : b'Tissue class 5'\n",
      "aux_file        : b''\n",
      "qform_code      : aligned\n",
      "sform_code      : aligned\n",
      "quatern_b       : -0.115209796\n",
      "quatern_c       : 0.03796008\n",
      "quatern_d       : -0.0030016035\n",
      "qoffset_x       : -94.262985\n",
      "qoffset_y       : -139.38573\n",
      "qoffset_z       : -74.61163\n",
      "srow_x          : [ 8.9738512e-01 -2.6136637e-03  7.1297646e-02 -9.4262985e+01]\n",
      "srow_y          : [-1.3234973e-02  9.1259569e-01  2.1420860e-01 -1.3938573e+02]\n",
      "srow_z          : [-6.7200422e-02 -2.1463585e-01  9.0991074e-01 -7.4611633e+01]\n",
      "intent_name     : b''\n",
      "magic           : b'n+1'\n"
     ]
    }
   ],
   "source": [
    "print(posttpms[\"/VBM/FED006\"][1])"
   ]
  },
  {
   "cell_type": "code",
   "execution_count": 88,
   "metadata": {},
   "outputs": [],
   "source": [
    "# create FULL segment node\n",
    "segment_T1=Node(spm.preprocess.NewSegment(), name='segment_T1')\n",
    "tissue1 = (('/opt/spm12-r7219/spm12_mcr/spm12/tpm/TPM.nii', 1), 2, (True,True), (False, False)) # GM\n",
    "tissue2 = (('/opt/spm12-r7219/spm12_mcr/spm12/tpm/TPM.nii', 2), 2, (True,True), (False, False)) # WM\n",
    "tissue3 = (('/opt/spm12-r7219/spm12_mcr/spm12/tpm/TPM.nii', 3), 2, (True,True), (False, False)) # CSF\n",
    "tissue4 = (('/opt/spm12-r7219/spm12_mcr/spm12/tpm/TPM.nii', 4), 2, (True,False), (False, False)) # bone\n",
    "tissue5 = (('/opt/spm12-r7219/spm12_mcr/spm12/tpm/TPM.nii', 5), 2, (True,False), (False, False)) # soft tissue\n",
    "tissue6 = (('/opt/spm12-r7219/spm12_mcr/spm12/tpm/TPM.nii', 6), 2, (False,False), (False, False)) # air and background\n",
    "segment_T1.inputs.tissues=[tissue1, tissue2, tissue3, tissue4, tissue5, tissue6]\n",
    "segment_T1.inputs.use_v8struct=False # do not generate SPM8 and higher compatible jobs\n",
    "segment_T1.inputs.write_deformation_fields=[True, True] # write forward and inverse deformation fields"
   ]
  },
  {
   "cell_type": "code",
   "execution_count": 84,
   "metadata": {},
   "outputs": [
    {
     "name": "stdout",
     "output_type": "stream",
     "text": [
      "/VBM/FED006/T1_MPRAGE_SAG_ISO_0_9_0005_t1_mprage_sag_iso_0.9_20141106153429_5.nii\n",
      "/VBM/FED006\n",
      "191218-17:30:49,25 nipype.workflow INFO:\n",
      "\t [Node] Setting-up \"segment_T1\" in \"/VBM/FED006/segment_T1\".\n",
      "191218-17:30:49,32 nipype.workflow INFO:\n",
      "\t [Node] Running \"segment_T1\" (\"nipype.interfaces.spm.preprocess.NewSegment\")\n",
      "191218-17:34:38,384 nipype.workflow INFO:\n",
      "\t [Node] Finished \"segment_T1\".\n",
      "\n",
      "bias_corrected_images = <undefined>\n",
      "bias_field_images = <undefined>\n",
      "dartel_input_images = [['/VBM/FED006/segment_T1/rc1T1_MPRAGE_SAG_ISO_0_9_0005_t1_mprage_sag_iso_0.9_20141106153429_5.nii'], ['/VBM/FED006/segment_T1/rc2T1_MPRAGE_SAG_ISO_0_9_0005_t1_mprage_sag_iso_0.9_20141106153429_5.nii'], ['/VBM/FED006/segment_T1/rc3T1_MPRAGE_SAG_ISO_0_9_0005_t1_mprage_sag_iso_0.9_20141106153429_5.nii'], [], [], []]\n",
      "forward_deformation_field = /VBM/FED006/segment_T1/y_T1_MPRAGE_SAG_ISO_0_9_0005_t1_mprage_sag_iso_0.9_20141106153429_5.nii\n",
      "inverse_deformation_field = /VBM/FED006/segment_T1/iy_T1_MPRAGE_SAG_ISO_0_9_0005_t1_mprage_sag_iso_0.9_20141106153429_5.nii\n",
      "modulated_class_images = [[], [], [], [], [], []]\n",
      "native_class_images = [['/VBM/FED006/segment_T1/c1T1_MPRAGE_SAG_ISO_0_9_0005_t1_mprage_sag_iso_0.9_20141106153429_5.nii'], ['/VBM/FED006/segment_T1/c2T1_MPRAGE_SAG_ISO_0_9_0005_t1_mprage_sag_iso_0.9_20141106153429_5.nii'], ['/VBM/FED006/segment_T1/c3T1_MPRAGE_SAG_ISO_0_9_0005_t1_mprage_sag_iso_0.9_20141106153429_5.nii'], ['/VBM/FED006/segment_T1/c4T1_MPRAGE_SAG_ISO_0_9_0005_t1_mprage_sag_iso_0.9_20141106153429_5.nii'], ['/VBM/FED006/segment_T1/c5T1_MPRAGE_SAG_ISO_0_9_0005_t1_mprage_sag_iso_0.9_20141106153429_5.nii'], []]\n",
      "normalized_class_images = [[], [], [], [], [], []]\n",
      "transformation_mat = /VBM/FED006/segment_T1/T1_MPRAGE_SAG_ISO_0_9_0005_t1_mprage_sag_iso_0.9_20141106153429_5_seg8.mat\n",
      "\n"
     ]
    }
   ],
   "source": [
    "# use segment_T1 from spm to segment anatomical images (TEST)\n",
    "#for i in images.keys():\n",
    "for i in images2.keys():\n",
    "    print(images2[i])\n",
    "    segment_T1.inputs.channel_files=images2[i]\n",
    "    for j in subdirs:\n",
    "        if j.rsplit('/', 1)[1]==i:\n",
    "            print(j)\n",
    "            segment_T1.base_dir=j\n",
    "\n",
    "results=segment_T1.run()\n",
    "print(results.outputs)"
   ]
  },
  {
   "cell_type": "markdown",
   "metadata": {},
   "source": [
    "Create the study specific, non-linear GM template"
   ]
  },
  {
   "cell_type": "code",
   "execution_count": null,
   "metadata": {},
   "outputs": [],
   "source": []
  }
 ],
 "metadata": {
  "kernelspec": {
   "display_name": "Python [conda env:neuro] *",
   "language": "python",
   "name": "conda-env-neuro-py"
  },
  "language_info": {
   "codemirror_mode": {
    "name": "ipython",
    "version": 3
   },
   "file_extension": ".py",
   "mimetype": "text/x-python",
   "name": "python",
   "nbconvert_exporter": "python",
   "pygments_lexer": "ipython3",
   "version": "3.7.3"
  }
 },
 "nbformat": 4,
 "nbformat_minor": 4
}
