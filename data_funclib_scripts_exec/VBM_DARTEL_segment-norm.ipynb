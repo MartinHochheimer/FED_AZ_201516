{
 "cells": [
  {
   "cell_type": "markdown",
   "metadata": {},
   "source": [
    "# Segment raw images to get gray matter before normalising.\n",
    "This is to prevent errors in normalisation down the line (e.g. enlargement of ventricles: GM WM growth or shrinkage?)"
   ]
  },
  {
   "cell_type": "markdown",
   "metadata": {},
   "source": [
    "Gather necessary pre-requisites:"
   ]
  },
  {
   "cell_type": "code",
   "execution_count": 1,
   "metadata": {
    "collapsed": true,
    "jupyter": {
     "outputs_hidden": true
    }
   },
   "outputs": [
    {
     "name": "stdout",
     "output_type": "stream",
     "text": [
      "200303-21:50:46,578 nipype.utils INFO:\n",
      "\t Running nipype version 1.5.0-dev (latest: 1.4.2)\n"
     ]
    }
   ],
   "source": [
    "# import everything you need\n",
    "from nipype import Node, Workflow\n",
    "import nipype.interfaces.spm as spm\n",
    "import nibabel as nb\n",
    "import numpy as np\n",
    "import pandas as pd\n",
    "import os, re, random\n",
    "from itertools import zip_longest"
   ]
  },
  {
   "cell_type": "code",
   "execution_count": 2,
   "metadata": {},
   "outputs": [],
   "source": [
    "# define useful functions\n",
    "\n",
    "# get subject directories from parent directory\n",
    "def get_subdirs(dir):\n",
    "    subdirs=[]\n",
    "    for i in os.listdir(dir):\n",
    "        # verify subject number in directory and exclude other dirs\n",
    "        match=re.match(r'(.*\\d{3}$)', i)\n",
    "        if os.path.isdir(os.path.join(dir, i)) and match:\n",
    "            subdirs.append(os.path.join(dir, match.group(0)))\n",
    "    return sorted(subdirs)"
   ]
  },
  {
   "cell_type": "markdown",
   "metadata": {},
   "source": [
    "Get files"
   ]
  },
  {
   "cell_type": "code",
   "execution_count": 3,
   "metadata": {
    "collapsed": true,
    "jupyter": {
     "outputs_hidden": true
    }
   },
   "outputs": [
    {
     "name": "stdout",
     "output_type": "stream",
     "text": [
      "['/VBM/FED006', '/VBM/FED007', '/VBM/FED008', '/VBM/FED009', '/VBM/FED010', '/VBM/FED011', '/VBM/FED012', '/VBM/FED013', '/VBM/FED014', '/VBM/FED015', '/VBM/FED016', '/VBM/FED017', '/VBM/FED018', '/VBM/FED019', '/VBM/FED020', '/VBM/FED021', '/VBM/FED022', '/VBM/FED023', '/VBM/FED024', '/VBM/FED025', '/VBM/FED026', '/VBM/FED027', '/VBM/FED028', '/VBM/FED029', '/VBM/FED030', '/VBM/FED031', '/VBM/FED032', '/VBM/FED033', '/VBM/FED034', '/VBM/FED035', '/VBM/FED036', '/VBM/FED037', '/VBM/FED038', '/VBM/FED039', '/VBM/FED040', '/VBM/FED041', '/VBM/FED042', '/VBM/FED043', '/VBM/FED044', '/VBM/FED045', '/VBM/FED046', '/VBM/FED047', '/VBM/FED048', '/VBM/FED049', '/VBM/FED050', '/VBM/FED051', '/VBM/FED052', '/VBM/FED053', '/VBM/FED054', '/VBM/FED055', '/VBM/FED056', '/VBM/FED057', '/VBM/FED058', '/VBM/FED059', '/VBM/FED060', '/VBM/FED061', '/VBM/FED062', '/VBM/FED063', '/VBM/FED064', '/VBM/FED065', '/VBM/FED066', '/VBM/FED067', '/VBM/FED068']\n"
     ]
    }
   ],
   "source": [
    "# set VBM analysis directory\n",
    "VBM_dir = \"/VBM\"\n",
    "\n",
    "# get FEDXXX dirs\n",
    "subdirs=get_subdirs(VBM_dir)\n",
    "print(subdirs)"
   ]
  },
  {
   "cell_type": "code",
   "execution_count": 4,
   "metadata": {},
   "outputs": [],
   "source": [
    "# make dict with all T1-images as pathlike objects\n",
    "images_T1={}\n",
    "for i in subdirs:\n",
    "    for j in os.listdir(i):\n",
    "        match=re.match(r'(.*T1_MPRAGE.*\\d{14,}.*.nii)', j)\n",
    "        if match:\n",
    "            images_T1[i]=os.path.join(i, match.group(0))"
   ]
  },
  {
   "cell_type": "code",
   "execution_count": 5,
   "metadata": {
    "collapsed": true,
    "jupyter": {
     "outputs_hidden": true
    }
   },
   "outputs": [
    {
     "name": "stdout",
     "output_type": "stream",
     "text": [
      "{'/VBM/FED006': '/VBM/FED006/CON_FED006_T1_MPRAGE_SAG_ISO_0_9_0005_20141106153429.nii', '/VBM/FED007': '/VBM/FED007/CON_FED007_T1_MPRAGE_SAG_ISO_0_9_0005_20141107104226.nii', '/VBM/FED008': '/VBM/FED008/CON_FED008_T1_MPRAGE_SAG_ISO_0_9_0005_20141112155009.nii', '/VBM/FED009': '/VBM/FED009/CON_FED009_T1_MPRAGE_SAG_ISO_0_9_0005_20141117154954.nii', '/VBM/FED010': '/VBM/FED010/CON_FED010_T1_MPRAGE_SAG_ISO_0_9_0005_20141119091904.nii', '/VBM/FED011': '/VBM/FED011/DEP_FED011_T1_MPRAGE_SAG_ISO_0_9_0005_20141119161708.nii', '/VBM/FED012': '/VBM/FED012/CON_FED012_T1_MPRAGE_SAG_ISO_0_9_0005_20141124150148.nii', '/VBM/FED013': '/VBM/FED013/CON_FED013_T1_MPRAGE_SAG_ISO_0_9_0005_20141125093955.nii', '/VBM/FED014': '/VBM/FED014/DEP_FED014_T1_MPRAGE_SAG_ISO_0_9_0005_20141125153216.nii', '/VBM/FED015': '/VBM/FED015/CON_FED015_T1_MPRAGE_SAG_ISO_0_9_0005_20141202145526.nii', '/VBM/FED016': '/VBM/FED016/CON_FED016_T1_MPRAGE_SAG_ISO_0_9_0005_20141202164821.nii', '/VBM/FED017': '/VBM/FED017/CON_FED017_T1_MPRAGE_SAG_ISO_0_9_0005_20141204151043.nii', '/VBM/FED018': '/VBM/FED018/DEP_FED018_T1_MPRAGE_SAG_ISO_0_9_0005_20141208163153.nii', '/VBM/FED019': '/VBM/FED019/CON_FED019_T1_MPRAGE_SAG_ISO_0_9_0005_20141210090147.nii', '/VBM/FED020': '/VBM/FED020/CON_FED020_T1_MPRAGE_SAG_ISO_0_9_0005_20141210170232.nii', '/VBM/FED021': '/VBM/FED021/CON_FED021_T1_MPRAGE_SAG_ISO_0_9_0005_20141211095930.nii', '/VBM/FED022': '/VBM/FED022/CON_FED022_T1_MPRAGE_SAG_ISO_0_9_0005_20141211155503.nii', '/VBM/FED023': '/VBM/FED023/CON_FED023_T1_MPRAGE_SAG_ISO_0_9_0005_20141216144604.nii', '/VBM/FED024': '/VBM/FED024/CON_FED024_T1_MPRAGE_SAG_ISO_0_9_0005_20150204145018.nii', '/VBM/FED025': '/VBM/FED025/CON_FED025_T1_MPRAGE_SAG_ISO_0_9_0005_20150206123507.nii', '/VBM/FED026': '/VBM/FED026/CON_FED026_T1_MPRAGE_SAG_ISO_0_9_0005_20150211171144.nii', '/VBM/FED027': '/VBM/FED027/DEP_FED027_T1_MPRAGE_SAG_ISO_0_9_0005_20150218162601.nii', '/VBM/FED028': '/VBM/FED028/DEP_FED028_T1_MPRAGE_SAG_ISO_0_9_0005_20150219142148.nii', '/VBM/FED029': '/VBM/FED029/DEP_FED029_T1_MPRAGE_SAG_ISO_0_9_0005_20150226091949.nii', '/VBM/FED030': '/VBM/FED030/DEP_FED030_T1_MPRAGE_SAG_ISO_0_9_0005_20150226154844.nii', '/VBM/FED031': '/VBM/FED031/DEP_FED031_T1_MPRAGE_SAG_ISO_0_9_0005_20150310152650.nii', '/VBM/FED032': '/VBM/FED032/DEP_FED032_T1_MPRAGE_SAG_ISO_0_9_0005_20150313125246.nii', '/VBM/FED033': '/VBM/FED033/DEP_FED033_T1_MPRAGE_SAG_ISO_0_9_0005_20150326151309.nii', '/VBM/FED034': '/VBM/FED034/DEP_FED034_T1_MPRAGE_SAG_ISO_0_9_0005_20150909125805.nii', '/VBM/FED035': '/VBM/FED035/DEP_FED035_T1_MPRAGE_SAG_ISO_0_9_0005_20150917120306.nii', '/VBM/FED036': '/VBM/FED036/DEP_FED036_T1_MPRAGE_SAG_ISO_0_9_0005_20150924172133.nii', '/VBM/FED037': '/VBM/FED037/DEP_FED037_T1_MPRAGE_SAG_ISO_0_9_0005_20150929162030.nii', '/VBM/FED038': '/VBM/FED038/DEP_FED038_T1_MPRAGE_SAG_ISO_0_9_0005_20151001125857.nii', '/VBM/FED039': '/VBM/FED039/DEP_FED039_T1_MPRAGE_SAG_ISO_0_9_0005_20151001173950.nii', '/VBM/FED040': '/VBM/FED040/DEP_FED040_T1_MPRAGE_SAG_ISO_0_9_0005_20151009111760.nii', '/VBM/FED041': '/VBM/FED041/DEP_FED041_T1_MPRAGE_SAG_ISO_0_9_0005_20151009164129.nii', '/VBM/FED042': '/VBM/FED042/DEP_FED042_T1_MPRAGE_SAG_ISO_0_9_0005_20151013110112.nii', '/VBM/FED043': '/VBM/FED043/DEP_FED043_T1_MPRAGE_SAG_ISO_0_9_0005_20151015122011.nii', '/VBM/FED044': '/VBM/FED044/DEP_FED044_T1_MPRAGE_SAG_ISO_0_9_0005_20151029121235.nii', '/VBM/FED045': '/VBM/FED045/DEP_FED045_T1_MPRAGE_SAG_ISO_0_9_0005_20151105173027.nii', '/VBM/FED046': '/VBM/FED046/DEP_FED046_T1_MPRAGE_SAG_ISO_0_9_0005_20151106125904.nii', '/VBM/FED047': '/VBM/FED047/DEP_FED047_T1_MPRAGE_SAG_ISO_0_9_0005_20151116144126.nii', '/VBM/FED048': '/VBM/FED048/DEP_FED048_T1_MPRAGE_SAG_ISO_0_9_0005_20151118152060.nii', '/VBM/FED049': '/VBM/FED049/CON_FED049_T1_MPRAGE_SAG_ISO_0_9_0009_20151123115353.nii', '/VBM/FED050': '/VBM/FED050/CON_FED050_T1_MPRAGE_SAG_ISO_0_9_0005_20151201165820.nii', '/VBM/FED051': '/VBM/FED051/DEP_FED051_T1_MPRAGE_SAG_ISO_0_9_0005_20151202153410.nii', '/VBM/FED052': '/VBM/FED052/DEP_FED052_T1_MPRAGE_SAG_ISO_0_9_0005_20151203172751.nii', '/VBM/FED053': '/VBM/FED053/CON_FED053_T1_MPRAGE_SAG_ISO_0_9_0005_20151208115820.nii', '/VBM/FED054': '/VBM/FED054/CON_FED054_T1_MPRAGE_SAG_ISO_0_9_0005_20151208140706.nii', '/VBM/FED055': '/VBM/FED055/DEP_FED055_T1_MPRAGE_SAG_ISO_0_9_0005_20151214092109.nii', '/VBM/FED056': '/VBM/FED056/CON_FED056_T1_MPRAGE_SAG_ISO_0_9_0005_20151215155556.nii', '/VBM/FED057': '/VBM/FED057/DEP_FED057_T1_MPRAGE_SAG_ISO_0_9_0005_20151216154455.nii', '/VBM/FED058': '/VBM/FED058/CON_FED058_T1_MPRAGE_SAG_ISO_0_9_0005_20160217151251.nii', '/VBM/FED059': '/VBM/FED059/DEP_FED059_T1_MPRAGE_SAG_ISO_0_9_0005_20160218100702.nii', '/VBM/FED060': '/VBM/FED060/CON_FED060_T1_MPRAGE_SAG_ISO_0_9_0005_20160224151260.nii', '/VBM/FED061': '/VBM/FED061/CON_FED061_T1_MPRAGE_SAG_ISO_0_9_0005_20160301111011.nii', '/VBM/FED062': '/VBM/FED062/CON_FED062_T1_MPRAGE_SAG_ISO_0_9_0005_20160301164049.nii', '/VBM/FED063': '/VBM/FED063/CON_FED063_T1_MPRAGE_SAG_ISO_0_9_0005_20160308162043.nii', '/VBM/FED064': '/VBM/FED064/CON_FED064_T1_MPRAGE_SAG_ISO_0_9_0005_20160309173936.nii', '/VBM/FED065': '/VBM/FED065/CON_FED065_T1_MPRAGE_SAG_ISO_0_9_0005_20160310090712.nii', '/VBM/FED066': '/VBM/FED066/DEP_FED066_T1_MPRAGE_SAG_ISO_0_9_0005_20160310171152.nii', '/VBM/FED067': '/VBM/FED067/CON_FED067_T1_MPRAGE_SAG_ISO_0_9_0005_20160311133810.nii', '/VBM/FED068': '/VBM/FED068/CON_FED068_T1_MPRAGE_SAG_ISO_0_9_0005_20160331140317.nii'}\n"
     ]
    }
   ],
   "source": [
    "# control T1 list\n",
    "print(images_T1)"
   ]
  },
  {
   "cell_type": "raw",
   "metadata": {},
   "source": [
    "# fsl bash code with example T1 from FED006,07,08 -- see results in folders\n",
    "%%bash\n",
    "bet T1_MPRAGE_SAG_ISO_0_9_0005_t1_mprage_sag_iso*.nii T1_MPRAGE_SAG_ISO_bet2.nii && \n",
    "bet T1_MPRAGE_SAG_ISO_0_9_0005_t1_mprage_sag_iso*.nii T1_MPRAGE_SAG_ISO_R_bcest.nii -R && bet T1_MPRAGE_SAG_ISO_0_9_0005_t1_mprage_sag_iso*.nii T1_MPRAGE_SAG_ISO_S_eyenerve.nii -S && bet T1_MPRAGE_SAG_ISO_0_9_0005_t1_mprage_sag_iso*.nii T1_MPRAGE_SAG_ISO_B_neckclean.nii -B\n"
   ]
  },
  {
   "cell_type": "markdown",
   "metadata": {},
   "source": [
    "Run NewSegment from SPM12 using tissue probabilities for substance classification"
   ]
  },
  {
   "cell_type": "code",
   "execution_count": 6,
   "metadata": {},
   "outputs": [],
   "source": [
    "# use NewSegment from spm to segment unimportant anatomical landmarks and perform \"brain-extraction\" (TEST FED006)\n",
    "#for i in images.keys(): use this when ready to segment full subject list\n",
    "\n",
    "# classify tissues from tpm.nii\n",
    "# need to perform segmentation with full tissue information, or brain will be classified as \"soft tissue\" etc. -> see examples in \"/VBM/FED006/\"\n",
    "TPM_dir = '/opt/spm12-r7219/spm12_mcr/spm12/tpm/TPM.nii'\n",
    "tissue1 = ((TPM_dir, 1), 2, (True,True), (False, False)) # GM\n",
    "tissue2 = ((TPM_dir, 2), 2, (True,True), (False, False)) # WM\n",
    "tissue3 = ((TPM_dir, 3), 2, (True,True), (False, False)) # CSF\n",
    "tissue4 = ((TPM_dir, 4), 2, (False,False), (False, False)) # bone\n",
    "tissue5 = ((TPM_dir, 5), 2, (False,False), (False, False)) # soft tissue\n",
    "tissue6 = ((TPM_dir, 6), 2, (False,False), (False, False)) # air and background\n",
    "\n",
    "# create SKULLSTRIP segment nodes for each subject\n",
    "for k,v in images_T1.items():\n",
    "    segm_skullstrip_T1=Node(spm.preprocess.NewSegment(), name='DARTEL_newsegment')\n",
    "    segm_skullstrip_T1.inputs.tissues=[tissue1, tissue2, tissue3, tissue4, tissue5, tissue6]\n",
    "    # do not generate SPM8 and higher compatible jobs\n",
    "    segm_skullstrip_T1.inputs.use_v8struct=False\n",
    "    segm_skullstrip_T1.inputs.affine_regularization='none'\n",
    "    # write forward and inverse deformation fields\n",
    "    #segm_skullstrip_T1.inputs.write_deformation_fields=[True, True]\n",
    "    # establish input files from subject\n",
    "    segm_skullstrip_T1.inputs.channel_files=v\n",
    "    # establish basedir for output of subject node\n",
    "    segm_skullstrip_T1.base_dir=k"
   ]
  },
  {
   "cell_type": "code",
   "execution_count": null,
   "metadata": {},
   "outputs": [],
   "source": [
    "# run segm_skullstrip_T1 and print outputs\n",
    "results=segm_skullstrip_T1.run()\n",
    "print(results.outputs)"
   ]
  },
  {
   "cell_type": "markdown",
   "metadata": {},
   "source": [
    "Gather requirements for DARTEL template creation and check their order (assumptions!)"
   ]
  },
  {
   "cell_type": "code",
   "execution_count": 6,
   "metadata": {},
   "outputs": [],
   "source": [
    "# get segmentation directory for each subject\n",
    "\n",
    "# define start of segmentation directory name\n",
    "targetnode=\"segm\"\n",
    "taskdirs={}\n",
    "\n",
    "for i in images_T1.keys():\n",
    "    for j in subdirs:\n",
    "        # match keys with subdir list\n",
    "        if j == i: \n",
    "            for k in os.listdir(j):\n",
    "                # go through content of subdirs and look for \"true\" directories\n",
    "                if os.path.isdir(os.path.join(j, k)):\n",
    "                    # regex functions match=exact match of pattern, search=finds elements that contain pattern\n",
    "                    # regex matches entries in j with targetnode k\n",
    "                    match=re.match(r'.*(' + targetnode + ').*', k)\n",
    "                    # ? This is needed to recognize the attribute group from the regex output\n",
    "                    if match: \n",
    "                        taskdirs[j]=os.path.join(j, match.group(0))"
   ]
  },
  {
   "cell_type": "code",
   "execution_count": 7,
   "metadata": {},
   "outputs": [],
   "source": [
    "# split taskdirs in control and depressed\n",
    "\n",
    "# define and load from .xls(x) files\n",
    "sub_control_ID=\"FED_Subject_Assignments.xlsx\"\n",
    "control_ID=pd.read_excel(sub_control_ID, sheet_name=\"Sheet2\").astype(str)\n",
    "ID=control_ID['Sub Num FED_XXX'].str.zfill(3).tolist()\n",
    "status=control_ID['BDI 22 Score'].tolist()\n",
    "\n",
    "\n",
    "control_taskdir={}\n",
    "depress_taskdir={}\n",
    "\n",
    "for i in taskdirs.keys():\n",
    "    for x,y in zip(ID,status):\n",
    "        if i.rsplit('/',1)[1] == \"FED\"+x and y == \"0\":\n",
    "            control_taskdir[i]=taskdirs[i]\n",
    "\n",
    "for i in taskdirs.keys():\n",
    "    if i not in control_taskdir.keys():\n",
    "        depress_taskdir[i]=taskdirs[i]"
   ]
  },
  {
   "cell_type": "code",
   "execution_count": 8,
   "metadata": {
    "collapsed": true,
    "jupyter": {
     "outputs_hidden": true
    }
   },
   "outputs": [
    {
     "name": "stdout",
     "output_type": "stream",
     "text": [
      "dict_keys(['/VBM/FED006', '/VBM/FED007', '/VBM/FED008', '/VBM/FED009', '/VBM/FED010', '/VBM/FED012', '/VBM/FED013', '/VBM/FED015', '/VBM/FED016', '/VBM/FED017', '/VBM/FED019', '/VBM/FED020', '/VBM/FED021', '/VBM/FED022', '/VBM/FED023', '/VBM/FED024', '/VBM/FED025', '/VBM/FED026', '/VBM/FED049', '/VBM/FED050', '/VBM/FED053', '/VBM/FED054', '/VBM/FED056', '/VBM/FED058', '/VBM/FED060', '/VBM/FED061', '/VBM/FED062', '/VBM/FED063', '/VBM/FED064', '/VBM/FED065', '/VBM/FED067', '/VBM/FED068'])\n",
      "dict_keys(['/VBM/FED011', '/VBM/FED014', '/VBM/FED018', '/VBM/FED027', '/VBM/FED028', '/VBM/FED029', '/VBM/FED030', '/VBM/FED031', '/VBM/FED032', '/VBM/FED033', '/VBM/FED034', '/VBM/FED035', '/VBM/FED036', '/VBM/FED037', '/VBM/FED038', '/VBM/FED039', '/VBM/FED040', '/VBM/FED041', '/VBM/FED042', '/VBM/FED043', '/VBM/FED044', '/VBM/FED045', '/VBM/FED046', '/VBM/FED047', '/VBM/FED048', '/VBM/FED051', '/VBM/FED052', '/VBM/FED055', '/VBM/FED057', '/VBM/FED059', '/VBM/FED066'])\n",
      "32 31\n",
      "dict_items([('/VBM/FED006', '/VBM/FED006/DARTEL_newsegment'), ('/VBM/FED007', '/VBM/FED007/DARTEL_newsegment'), ('/VBM/FED008', '/VBM/FED008/DARTEL_newsegment'), ('/VBM/FED009', '/VBM/FED009/DARTEL_newsegment'), ('/VBM/FED010', '/VBM/FED010/DARTEL_newsegment'), ('/VBM/FED011', '/VBM/FED011/DARTEL_newsegment'), ('/VBM/FED012', '/VBM/FED012/DARTEL_newsegment'), ('/VBM/FED013', '/VBM/FED013/DARTEL_newsegment'), ('/VBM/FED014', '/VBM/FED014/DARTEL_newsegment'), ('/VBM/FED015', '/VBM/FED015/DARTEL_newsegment'), ('/VBM/FED016', '/VBM/FED016/DARTEL_newsegment'), ('/VBM/FED017', '/VBM/FED017/DARTEL_newsegment'), ('/VBM/FED018', '/VBM/FED018/DARTEL_newsegment'), ('/VBM/FED019', '/VBM/FED019/DARTEL_newsegment'), ('/VBM/FED020', '/VBM/FED020/DARTEL_newsegment'), ('/VBM/FED021', '/VBM/FED021/DARTEL_newsegment'), ('/VBM/FED022', '/VBM/FED022/DARTEL_newsegment'), ('/VBM/FED023', '/VBM/FED023/DARTEL_newsegment'), ('/VBM/FED024', '/VBM/FED024/DARTEL_newsegment'), ('/VBM/FED025', '/VBM/FED025/DARTEL_newsegment'), ('/VBM/FED026', '/VBM/FED026/DARTEL_newsegment'), ('/VBM/FED027', '/VBM/FED027/DARTEL_newsegment'), ('/VBM/FED028', '/VBM/FED028/DARTEL_newsegment'), ('/VBM/FED029', '/VBM/FED029/DARTEL_newsegment'), ('/VBM/FED030', '/VBM/FED030/DARTEL_newsegment'), ('/VBM/FED031', '/VBM/FED031/DARTEL_newsegment'), ('/VBM/FED032', '/VBM/FED032/DARTEL_newsegment'), ('/VBM/FED033', '/VBM/FED033/DARTEL_newsegment'), ('/VBM/FED034', '/VBM/FED034/DARTEL_newsegment'), ('/VBM/FED035', '/VBM/FED035/DARTEL_newsegment'), ('/VBM/FED036', '/VBM/FED036/DARTEL_newsegment'), ('/VBM/FED037', '/VBM/FED037/DARTEL_newsegment'), ('/VBM/FED038', '/VBM/FED038/DARTEL_newsegment'), ('/VBM/FED039', '/VBM/FED039/DARTEL_newsegment'), ('/VBM/FED040', '/VBM/FED040/DARTEL_newsegment'), ('/VBM/FED041', '/VBM/FED041/DARTEL_newsegment'), ('/VBM/FED042', '/VBM/FED042/DARTEL_newsegment'), ('/VBM/FED043', '/VBM/FED043/DARTEL_newsegment'), ('/VBM/FED044', '/VBM/FED044/DARTEL_newsegment'), ('/VBM/FED045', '/VBM/FED045/DARTEL_newsegment'), ('/VBM/FED046', '/VBM/FED046/DARTEL_newsegment'), ('/VBM/FED047', '/VBM/FED047/DARTEL_newsegment'), ('/VBM/FED048', '/VBM/FED048/DARTEL_newsegment'), ('/VBM/FED049', '/VBM/FED049/DARTEL_newsegment'), ('/VBM/FED050', '/VBM/FED050/DARTEL_newsegment'), ('/VBM/FED051', '/VBM/FED051/DARTEL_newsegment'), ('/VBM/FED052', '/VBM/FED052/DARTEL_newsegment'), ('/VBM/FED053', '/VBM/FED053/DARTEL_newsegment'), ('/VBM/FED054', '/VBM/FED054/DARTEL_newsegment'), ('/VBM/FED055', '/VBM/FED055/DARTEL_newsegment'), ('/VBM/FED056', '/VBM/FED056/DARTEL_newsegment'), ('/VBM/FED057', '/VBM/FED057/DARTEL_newsegment'), ('/VBM/FED058', '/VBM/FED058/DARTEL_newsegment'), ('/VBM/FED059', '/VBM/FED059/DARTEL_newsegment'), ('/VBM/FED060', '/VBM/FED060/DARTEL_newsegment'), ('/VBM/FED061', '/VBM/FED061/DARTEL_newsegment'), ('/VBM/FED062', '/VBM/FED062/DARTEL_newsegment'), ('/VBM/FED063', '/VBM/FED063/DARTEL_newsegment'), ('/VBM/FED064', '/VBM/FED064/DARTEL_newsegment'), ('/VBM/FED065', '/VBM/FED065/DARTEL_newsegment'), ('/VBM/FED066', '/VBM/FED066/DARTEL_newsegment'), ('/VBM/FED067', '/VBM/FED067/DARTEL_newsegment'), ('/VBM/FED068', '/VBM/FED068/DARTEL_newsegment')]) \n",
      " 63\n"
     ]
    }
   ],
   "source": [
    "# check dicts\n",
    "print(control_taskdir.keys())\n",
    "print(depress_taskdir.keys())\n",
    "# see, if sizes are about equal\n",
    "print(len(control_taskdir.keys()), len(depress_taskdir.keys()))\n",
    "\n",
    "print(taskdirs.items(), \"\\n\", len(taskdirs.items()))"
   ]
  },
  {
   "cell_type": "code",
   "execution_count": 9,
   "metadata": {},
   "outputs": [],
   "source": [
    "# create template dict\n",
    "\n",
    "# only 31 depressed, so take all into template\n",
    "template_dirs=depress_taskdir.copy()\n",
    "# collect random keys (31 from control)\n",
    "#keys=random.sample([control_taskdir.keys()], 31)\n",
    "\n",
    "# for speed reasons use this short cut during de-bugging ELIMINATE WHEN DONE\n",
    "keys=[i for i in control_taskdir.keys() if i != os.path.join(VBM_dir, \"FED010\")]\n",
    "\n",
    "# integrate both dicts for template_dirs\n",
    "for i in keys:\n",
    "    template_dirs[i]=control_taskdir[i]\n",
    "\n",
    "# get rc1 and rc2 files as path-like objects\n",
    "rc1=[]\n",
    "rc2=[]\n",
    "rc3=[]\n",
    "# append files to lists\n",
    "for k,v in template_dirs.items():\n",
    "    for i in os.listdir(v):\n",
    "        # look for rc1(GM)\n",
    "        match1=re.match(r'(^rc1.*.nii)', i)\n",
    "        if match1:\n",
    "            rc1.append(os.path.join(v, match1.group(0)))\n",
    "        # look for rc2(WM)\n",
    "        match2=re.match(r'(^rc2.*.nii)', i)\n",
    "        if match2:\n",
    "            rc2.append(os.path.join(v, match2.group(0)))\n",
    "        # look for rc3(CSF)\n",
    "        match3=re.match(r'(^rc3.*.nii)', i)\n",
    "        if match3:\n",
    "            rc3.append(os.path.join(v, match3.group(0)))\n",
    "# sort lists\n",
    "rc1=sorted(rc1)\n",
    "rc2=sorted(rc2)\n",
    "rc3=sorted(rc3)"
   ]
  },
  {
   "cell_type": "code",
   "execution_count": 10,
   "metadata": {
    "collapsed": true,
    "jupyter": {
     "outputs_hidden": true
    }
   },
   "outputs": [
    {
     "name": "stdout",
     "output_type": "stream",
     "text": [
      "The excluded FED subject is:    {'/VBM/FED010'}\n",
      "['/VBM/FED006/DARTEL_newsegment/rc1CON_FED006_T1_MPRAGE_SAG_ISO_0_9_0005_20141106153429.nii', '/VBM/FED007/DARTEL_newsegment/rc1CON_FED007_T1_MPRAGE_SAG_ISO_0_9_0005_20141107104226.nii', '/VBM/FED008/DARTEL_newsegment/rc1CON_FED008_T1_MPRAGE_SAG_ISO_0_9_0005_20141112155009.nii', '/VBM/FED009/DARTEL_newsegment/rc1CON_FED009_T1_MPRAGE_SAG_ISO_0_9_0005_20141117154954.nii', '/VBM/FED011/DARTEL_newsegment/rc1DEP_FED011_T1_MPRAGE_SAG_ISO_0_9_0005_20141119161708.nii', '/VBM/FED012/DARTEL_newsegment/rc1CON_FED012_T1_MPRAGE_SAG_ISO_0_9_0005_20141124150148.nii', '/VBM/FED013/DARTEL_newsegment/rc1CON_FED013_T1_MPRAGE_SAG_ISO_0_9_0005_20141125093955.nii'] \n",
      " 62\n",
      "['/VBM/FED006/DARTEL_newsegment/rc2CON_FED006_T1_MPRAGE_SAG_ISO_0_9_0005_20141106153429.nii', '/VBM/FED007/DARTEL_newsegment/rc2CON_FED007_T1_MPRAGE_SAG_ISO_0_9_0005_20141107104226.nii', '/VBM/FED008/DARTEL_newsegment/rc2CON_FED008_T1_MPRAGE_SAG_ISO_0_9_0005_20141112155009.nii', '/VBM/FED009/DARTEL_newsegment/rc2CON_FED009_T1_MPRAGE_SAG_ISO_0_9_0005_20141117154954.nii', '/VBM/FED011/DARTEL_newsegment/rc2DEP_FED011_T1_MPRAGE_SAG_ISO_0_9_0005_20141119161708.nii', '/VBM/FED012/DARTEL_newsegment/rc2CON_FED012_T1_MPRAGE_SAG_ISO_0_9_0005_20141124150148.nii', '/VBM/FED013/DARTEL_newsegment/rc2CON_FED013_T1_MPRAGE_SAG_ISO_0_9_0005_20141125093955.nii'] \n",
      " 62\n",
      "['/VBM/FED006/DARTEL_newsegment/rc3CON_FED006_T1_MPRAGE_SAG_ISO_0_9_0005_20141106153429.nii', '/VBM/FED007/DARTEL_newsegment/rc3CON_FED007_T1_MPRAGE_SAG_ISO_0_9_0005_20141107104226.nii', '/VBM/FED008/DARTEL_newsegment/rc3CON_FED008_T1_MPRAGE_SAG_ISO_0_9_0005_20141112155009.nii', '/VBM/FED009/DARTEL_newsegment/rc3CON_FED009_T1_MPRAGE_SAG_ISO_0_9_0005_20141117154954.nii', '/VBM/FED011/DARTEL_newsegment/rc3DEP_FED011_T1_MPRAGE_SAG_ISO_0_9_0005_20141119161708.nii', '/VBM/FED012/DARTEL_newsegment/rc3CON_FED012_T1_MPRAGE_SAG_ISO_0_9_0005_20141124150148.nii', '/VBM/FED013/DARTEL_newsegment/rc3CON_FED013_T1_MPRAGE_SAG_ISO_0_9_0005_20141125093955.nii'] \n",
      " 62\n"
     ]
    }
   ],
   "source": [
    "# compare contrcontrol_taskdir and template_dirs to determined the omitted subject\n",
    "omitted=set(control_taskdir.keys()) - set(template_dirs.keys())\n",
    "# print excluded FED subject\n",
    "print(\"The excluded FED subject is:   \", omitted)\n",
    "\n",
    "# print lists\n",
    "print(rc1[:7], \"\\n\", len(rc1))\n",
    "print(rc2[:7], \"\\n\", len(rc2))\n",
    "print(rc3[:7], \"\\n\", len(rc3))"
   ]
  },
  {
   "cell_type": "code",
   "execution_count": 11,
   "metadata": {
    "collapsed": true,
    "jupyter": {
     "outputs_hidden": true
    }
   },
   "outputs": [
    {
     "name": "stdout",
     "output_type": "stream",
     "text": [
      "Yes!\n",
      "FED006   is the same as   FED006  and  FED006\n",
      "Yes!\n",
      "FED007   is the same as   FED007  and  FED007\n",
      "Yes!\n",
      "FED008   is the same as   FED008  and  FED008\n",
      "Yes!\n",
      "FED009   is the same as   FED009  and  FED009\n",
      "Yes!\n",
      "FED011   is the same as   FED011  and  FED011\n",
      "Yes!\n",
      "FED012   is the same as   FED012  and  FED012\n",
      "Yes!\n",
      "FED013   is the same as   FED013  and  FED013\n",
      "Yes!\n",
      "FED014   is the same as   FED014  and  FED014\n",
      "Yes!\n",
      "FED015   is the same as   FED015  and  FED015\n",
      "Yes!\n",
      "FED016   is the same as   FED016  and  FED016\n",
      "Yes!\n",
      "FED017   is the same as   FED017  and  FED017\n",
      "Yes!\n",
      "FED018   is the same as   FED018  and  FED018\n",
      "Yes!\n",
      "FED019   is the same as   FED019  and  FED019\n",
      "Yes!\n",
      "FED020   is the same as   FED020  and  FED020\n",
      "Yes!\n",
      "FED021   is the same as   FED021  and  FED021\n",
      "Yes!\n",
      "FED022   is the same as   FED022  and  FED022\n",
      "Yes!\n",
      "FED023   is the same as   FED023  and  FED023\n",
      "Yes!\n",
      "FED024   is the same as   FED024  and  FED024\n",
      "Yes!\n",
      "FED025   is the same as   FED025  and  FED025\n",
      "Yes!\n",
      "FED026   is the same as   FED026  and  FED026\n",
      "Yes!\n",
      "FED027   is the same as   FED027  and  FED027\n",
      "Yes!\n",
      "FED028   is the same as   FED028  and  FED028\n",
      "Yes!\n",
      "FED029   is the same as   FED029  and  FED029\n",
      "Yes!\n",
      "FED030   is the same as   FED030  and  FED030\n",
      "Yes!\n",
      "FED031   is the same as   FED031  and  FED031\n",
      "Yes!\n",
      "FED032   is the same as   FED032  and  FED032\n",
      "Yes!\n",
      "FED033   is the same as   FED033  and  FED033\n",
      "Yes!\n",
      "FED034   is the same as   FED034  and  FED034\n",
      "Yes!\n",
      "FED035   is the same as   FED035  and  FED035\n",
      "Yes!\n",
      "FED036   is the same as   FED036  and  FED036\n",
      "Yes!\n",
      "FED037   is the same as   FED037  and  FED037\n",
      "Yes!\n",
      "FED038   is the same as   FED038  and  FED038\n",
      "Yes!\n",
      "FED039   is the same as   FED039  and  FED039\n",
      "Yes!\n",
      "FED040   is the same as   FED040  and  FED040\n",
      "Yes!\n",
      "FED041   is the same as   FED041  and  FED041\n",
      "Yes!\n",
      "FED042   is the same as   FED042  and  FED042\n",
      "Yes!\n",
      "FED043   is the same as   FED043  and  FED043\n",
      "Yes!\n",
      "FED044   is the same as   FED044  and  FED044\n",
      "Yes!\n",
      "FED045   is the same as   FED045  and  FED045\n",
      "Yes!\n",
      "FED046   is the same as   FED046  and  FED046\n",
      "Yes!\n",
      "FED047   is the same as   FED047  and  FED047\n",
      "Yes!\n",
      "FED048   is the same as   FED048  and  FED048\n",
      "Yes!\n",
      "FED049   is the same as   FED049  and  FED049\n",
      "Yes!\n",
      "FED050   is the same as   FED050  and  FED050\n",
      "Yes!\n",
      "FED051   is the same as   FED051  and  FED051\n",
      "Yes!\n",
      "FED052   is the same as   FED052  and  FED052\n",
      "Yes!\n",
      "FED053   is the same as   FED053  and  FED053\n",
      "Yes!\n",
      "FED054   is the same as   FED054  and  FED054\n",
      "Yes!\n",
      "FED055   is the same as   FED055  and  FED055\n",
      "Yes!\n",
      "FED056   is the same as   FED056  and  FED056\n",
      "Yes!\n",
      "FED057   is the same as   FED057  and  FED057\n",
      "Yes!\n",
      "FED058   is the same as   FED058  and  FED058\n",
      "Yes!\n",
      "FED059   is the same as   FED059  and  FED059\n",
      "Yes!\n",
      "FED060   is the same as   FED060  and  FED060\n",
      "Yes!\n",
      "FED061   is the same as   FED061  and  FED061\n",
      "Yes!\n",
      "FED062   is the same as   FED062  and  FED062\n",
      "Yes!\n",
      "FED063   is the same as   FED063  and  FED063\n",
      "Yes!\n",
      "FED064   is the same as   FED064  and  FED064\n",
      "Yes!\n",
      "FED065   is the same as   FED065  and  FED065\n",
      "Yes!\n",
      "FED066   is the same as   FED066  and  FED066\n",
      "Yes!\n",
      "FED067   is the same as   FED067  and  FED067\n",
      "Yes!\n",
      "FED068   is the same as   FED068  and  FED068\n"
     ]
    }
   ],
   "source": [
    "# check that lists are both in the same subject order and template generation will not make wrong assumptions ...^^\n",
    "for x,y,z in zip_longest(rc1,rc2,rc3):\n",
    "    if x.rsplit('/', 3)[1] ==  y.rsplit('/', 3)[1] and x.rsplit('/', 3)[1] ==  z.rsplit('/', 3)[1]:\n",
    "        print(\"Yes!\")\n",
    "        print(x.rsplit('/', 3)[1],\"  is the same as  \", y.rsplit('/', 3)[1], \" and \", z.rsplit('/', 3)[1])\n",
    "    else:\n",
    "        print(\"Noooooooooooooooooooooooooooooooooo\")\n",
    "        print(x.rsplit('/', 3)[1],\"  is neither  \", y.rsplit('/', 3)[1], \" nor \", z.rsplit('/', 3)[1])"
   ]
  },
  {
   "cell_type": "markdown",
   "metadata": {},
   "source": [
    "create GM template using SPM DARTEL"
   ]
  },
  {
   "cell_type": "code",
   "execution_count": 12,
   "metadata": {},
   "outputs": [],
   "source": [
    "# create DARTEL node and template\n",
    "dartel_template = Node(spm.DARTEL(), name='DARTEL_template')\n",
    "dartel_template.inputs.image_files = [rc1, rc2, rc3] # simultaneously register/warp GM, WM and CSF together\n",
    "dartel_template.inputs.template_prefix = \"template\"\n",
    "dartel_template.base_dir = VBM_dir\n",
    "# do not generate SPM8 and higher compatible jobs\n",
    "dartel_template.inputs.use_v8struct = False"
   ]
  },
  {
   "cell_type": "code",
   "execution_count": null,
   "metadata": {},
   "outputs": [],
   "source": [
    "# THINK ABOUT INCLUDING CSF FROM HERE ON!!! -> IMPLICATIONS FOR DEFORMATION FIELDS (accuracy, specificity etc)???"
   ]
  },
  {
   "cell_type": "markdown",
   "metadata": {
    "jupyter": {
     "source_hidden": true
    }
   },
   "source": [
    "Gather requirements for DARTEL Normalisation to MNI space and check their order (assumptions!)"
   ]
  },
  {
   "cell_type": "code",
   "execution_count": null,
   "metadata": {},
   "outputs": [],
   "source": [
    "# run dartel_template and print outputs\n",
    "results=dartel_template.run()\n",
    "print(results.outputs)"
   ]
  },
  {
   "cell_type": "code",
   "execution_count": 13,
   "metadata": {},
   "outputs": [],
   "source": [
    "# get required file lists and check that theyre in the same order\n",
    "\n",
    "# template dir\n",
    "finaltemplate_dir= os.path.join(dartel_template.base_dir, dartel_template.name)\n",
    "\n",
    "# flowfields\n",
    "flowfields = [i for i in os.listdir(finaltemplate_dir) if re.match(r'(^u_rc1.*.nii)', i)]\n",
    "# convert flowfield niftis into full-path objects\n",
    "flowfields = [os.path.join(finaltemplate_dir, i) for i in flowfields]\n",
    "\n",
    "# GM, WM and CSF (for Quality control and normalisation)\n",
    "c1 = []\n",
    "c2 = []\n",
    "c3 = []\n",
    "\n",
    "# get c1/2/3 dirs from template-subjects\n",
    "intemplate_dirs={}\n",
    "for i in flowfields:\n",
    "    for k,v in taskdirs.items():\n",
    "        if i.split('_',4)[3] == k.rsplit('/',1)[1]:\n",
    "            intemplate_dirs[v]=i\n",
    "\n",
    "# fill c1, c2 and c3 lists\n",
    "# look for c1(GM)\n",
    "c1 = [os.path.join(k, i) for k,v in intemplate_dirs.items() for i in os.listdir(k) if re.match(r'(^c1.*.nii)', i)]\n",
    "# look for c2(WM)\n",
    "c2 = [os.path.join(k, i) for k,v in intemplate_dirs.items() for i in os.listdir(k) if re.match(r'(^c2.*.nii)', i)]\n",
    "# look for c3(CSF)\n",
    "c3 = [os.path.join(k, i) for k,v in intemplate_dirs.items() for i in os.listdir(k) if re.match(r'(^c3.*.nii)', i)]"
   ]
  },
  {
   "cell_type": "code",
   "execution_count": 14,
   "metadata": {
    "collapsed": true,
    "jupyter": {
     "outputs_hidden": true
    }
   },
   "outputs": [
    {
     "name": "stdout",
     "output_type": "stream",
     "text": [
      "['/VBM/DARTEL_template/u_rc1CON_FED049_T1_MPRAGE_SAG_ISO_0_9_0009_20151123115353_template.nii', '/VBM/DARTEL_template/u_rc1DEP_FED059_T1_MPRAGE_SAG_ISO_0_9_0005_20160218100702_template.nii', '/VBM/DARTEL_template/u_rc1DEP_FED033_T1_MPRAGE_SAG_ISO_0_9_0005_20150326151309_template.nii', '/VBM/DARTEL_template/u_rc1DEP_FED035_T1_MPRAGE_SAG_ISO_0_9_0005_20150917120306_template.nii'] \n",
      "\n",
      "['/VBM/FED049/DARTEL_newsegment/c1CON_FED049_T1_MPRAGE_SAG_ISO_0_9_0009_20151123115353.nii', '/VBM/FED059/DARTEL_newsegment/c1DEP_FED059_T1_MPRAGE_SAG_ISO_0_9_0005_20160218100702.nii', '/VBM/FED033/DARTEL_newsegment/c1DEP_FED033_T1_MPRAGE_SAG_ISO_0_9_0005_20150326151309.nii', '/VBM/FED035/DARTEL_newsegment/c1DEP_FED035_T1_MPRAGE_SAG_ISO_0_9_0005_20150917120306.nii'] \n",
      "\n",
      "['/VBM/FED049/DARTEL_newsegment/c2CON_FED049_T1_MPRAGE_SAG_ISO_0_9_0009_20151123115353.nii', '/VBM/FED059/DARTEL_newsegment/c2DEP_FED059_T1_MPRAGE_SAG_ISO_0_9_0005_20160218100702.nii', '/VBM/FED033/DARTEL_newsegment/c2DEP_FED033_T1_MPRAGE_SAG_ISO_0_9_0005_20150326151309.nii', '/VBM/FED035/DARTEL_newsegment/c2DEP_FED035_T1_MPRAGE_SAG_ISO_0_9_0005_20150917120306.nii'] \n",
      "\n",
      "Yes!\n",
      "FED049   is the same as   FED049 FED049 and FED049\n",
      "Yes!\n",
      "FED059   is the same as   FED059 FED059 and FED059\n",
      "Yes!\n",
      "FED033   is the same as   FED033 FED033 and FED033\n",
      "Yes!\n",
      "FED035   is the same as   FED035 FED035 and FED035\n",
      "Yes!\n",
      "FED065   is the same as   FED065 FED065 and FED065\n",
      "Yes!\n",
      "FED058   is the same as   FED058 FED058 and FED058\n",
      "Yes!\n",
      "FED052   is the same as   FED052 FED052 and FED052\n",
      "Yes!\n",
      "FED062   is the same as   FED062 FED062 and FED062\n",
      "Yes!\n",
      "FED028   is the same as   FED028 FED028 and FED028\n",
      "Yes!\n",
      "FED060   is the same as   FED060 FED060 and FED060\n",
      "Yes!\n",
      "FED039   is the same as   FED039 FED039 and FED039\n",
      "Yes!\n",
      "FED045   is the same as   FED045 FED045 and FED045\n",
      "Yes!\n",
      "FED042   is the same as   FED042 FED042 and FED042\n",
      "Yes!\n",
      "FED064   is the same as   FED064 FED064 and FED064\n",
      "Yes!\n",
      "FED016   is the same as   FED016 FED016 and FED016\n",
      "Yes!\n",
      "FED030   is the same as   FED030 FED030 and FED030\n",
      "Yes!\n",
      "FED018   is the same as   FED018 FED018 and FED018\n",
      "Yes!\n",
      "FED037   is the same as   FED037 FED037 and FED037\n",
      "Yes!\n",
      "FED014   is the same as   FED014 FED014 and FED014\n",
      "Yes!\n",
      "FED038   is the same as   FED038 FED038 and FED038\n",
      "Yes!\n",
      "FED012   is the same as   FED012 FED012 and FED012\n",
      "Yes!\n",
      "FED066   is the same as   FED066 FED066 and FED066\n",
      "Yes!\n",
      "FED024   is the same as   FED024 FED024 and FED024\n",
      "Yes!\n",
      "FED047   is the same as   FED047 FED047 and FED047\n",
      "Yes!\n",
      "FED046   is the same as   FED046 FED046 and FED046\n",
      "Yes!\n",
      "FED068   is the same as   FED068 FED068 and FED068\n",
      "Yes!\n",
      "FED053   is the same as   FED053 FED053 and FED053\n",
      "Yes!\n",
      "FED017   is the same as   FED017 FED017 and FED017\n",
      "Yes!\n",
      "FED063   is the same as   FED063 FED063 and FED063\n",
      "Yes!\n",
      "FED048   is the same as   FED048 FED048 and FED048\n",
      "Yes!\n",
      "FED043   is the same as   FED043 FED043 and FED043\n",
      "Yes!\n",
      "FED029   is the same as   FED029 FED029 and FED029\n",
      "Yes!\n",
      "FED034   is the same as   FED034 FED034 and FED034\n",
      "Yes!\n",
      "FED013   is the same as   FED013 FED013 and FED013\n",
      "Yes!\n",
      "FED022   is the same as   FED022 FED022 and FED022\n",
      "Yes!\n",
      "FED015   is the same as   FED015 FED015 and FED015\n",
      "Yes!\n",
      "FED040   is the same as   FED040 FED040 and FED040\n",
      "Yes!\n",
      "FED051   is the same as   FED051 FED051 and FED051\n",
      "Yes!\n",
      "FED006   is the same as   FED006 FED006 and FED006\n",
      "Yes!\n",
      "FED057   is the same as   FED057 FED057 and FED057\n",
      "Yes!\n",
      "FED036   is the same as   FED036 FED036 and FED036\n",
      "Yes!\n",
      "FED007   is the same as   FED007 FED007 and FED007\n",
      "Yes!\n",
      "FED067   is the same as   FED067 FED067 and FED067\n",
      "Yes!\n",
      "FED032   is the same as   FED032 FED032 and FED032\n",
      "Yes!\n",
      "FED011   is the same as   FED011 FED011 and FED011\n",
      "Yes!\n",
      "FED026   is the same as   FED026 FED026 and FED026\n",
      "Yes!\n",
      "FED050   is the same as   FED050 FED050 and FED050\n",
      "Yes!\n",
      "FED041   is the same as   FED041 FED041 and FED041\n",
      "Yes!\n",
      "FED061   is the same as   FED061 FED061 and FED061\n",
      "Yes!\n",
      "FED027   is the same as   FED027 FED027 and FED027\n",
      "Yes!\n",
      "FED008   is the same as   FED008 FED008 and FED008\n",
      "Yes!\n",
      "FED031   is the same as   FED031 FED031 and FED031\n",
      "Yes!\n",
      "FED044   is the same as   FED044 FED044 and FED044\n",
      "Yes!\n",
      "FED055   is the same as   FED055 FED055 and FED055\n",
      "Yes!\n",
      "FED056   is the same as   FED056 FED056 and FED056\n",
      "Yes!\n",
      "FED023   is the same as   FED023 FED023 and FED023\n",
      "Yes!\n",
      "FED009   is the same as   FED009 FED009 and FED009\n",
      "Yes!\n",
      "FED054   is the same as   FED054 FED054 and FED054\n",
      "Yes!\n",
      "FED020   is the same as   FED020 FED020 and FED020\n",
      "Yes!\n",
      "FED019   is the same as   FED019 FED019 and FED019\n",
      "Yes!\n",
      "FED021   is the same as   FED021 FED021 and FED021\n",
      "Yes!\n",
      "FED025   is the same as   FED025 FED025 and FED025\n"
     ]
    }
   ],
   "source": [
    "# check flowfields, c1 , c2, c3\n",
    "print(flowfields[0:4], \"\\n\")\n",
    "print(c1[0:4], \"\\n\")\n",
    "print(c2[0:4], \"\\n\")\n",
    "print(c3[0:4], \"\\n\")\n",
    "# check order -> avoid wrong assumptions in normalisation^^\n",
    "for w,x,y,z in zip_longest(flowfields,c1,c2,c3):\n",
    "    if w.split('_', 4)[3] ==  x.split('_', 3)[2] and y.split('_', 3)[2] and z.split('_', 3)[2]:\n",
    "        print(\"Yes!\")\n",
    "        print(w.split('_', 4)[3], \"  is the same as  \",x.split('_', 3)[2], y.split('_', 3)[2], \"and\",z.split('_', 3)[2])\n",
    "    else:\n",
    "        print(\"Nope! Have another look ... \")\n",
    "        print(w.split('_', 4)[3], \"  is not  \", x.split('_', 3)[2], y.split('_', 3)[2], \"or\", z.split('_', 3)[2])"
   ]
  },
  {
   "cell_type": "code",
   "execution_count": 15,
   "metadata": {},
   "outputs": [],
   "source": [
    "# grouptemplate_6 has two volumes!!!!!! GM & WM -> seperate them\n",
    "# get template \n",
    "grouptemplate = os.path.join(finaltemplate_dir, dartel_template.inputs.template_prefix)"
   ]
  },
  {
   "cell_type": "code",
   "execution_count": null,
   "metadata": {},
   "outputs": [],
   "source": [
    "# convert to nb object\n",
    "grouptemplate_nb = nb.load(grouptemplate + \"_6.nii\")\n",
    "\n",
    "# get seperate GM and WM volumes\n",
    "grouptemplate_GM_WM_CSF = nb.funcs.four_to_three(grouptemplate_nb)\n",
    "\n",
    "# save each volume as nifti file\n",
    "grouptemplate_GM_WM_CSF[0].to_filename(grouptemplate + \"_6_GM.nii\")\n",
    "grouptemplate_GM_WM_CSF[1].to_filename(grouptemplate + \"_6_WM.nii\")\n",
    "grouptemplate_GM_WM_CSF[2].to_filename(grouptemplate + \"_6_CSF.nii\")"
   ]
  },
  {
   "cell_type": "markdown",
   "metadata": {
    "jupyter": {
     "outputs_hidden": true
    }
   },
   "source": [
    "normalise to MNI space"
   ]
  },
  {
   "cell_type": "code",
   "execution_count": 16,
   "metadata": {
    "collapsed": true,
    "jupyter": {
     "outputs_hidden": true
    }
   },
   "outputs": [
    {
     "name": "stdout",
     "output_type": "stream",
     "text": [
      "200303-21:54:32,240 nipype.workflow INFO:\n",
      "\t [Node] Setting-up \"DARTEL_norm2mni_c1\" in \"/VBM/DARTEL_norm2mni_c1\".\n",
      "200303-21:54:32,267 nipype.workflow INFO:\n",
      "\t [Node] Running \"DARTEL_norm2mni_c1\" (\"nipype.interfaces.spm.preprocess.DARTELNorm2MNI\")\n",
      "200303-22:00:46,582 nipype.workflow INFO:\n",
      "\t [Node] Finished \"DARTEL_norm2mni_c1\".\n",
      "\n",
      "normalization_parameter_file = /VBM/DARTEL_norm2mni_c1/template_6_GM_2mni.mat\n",
      "normalized_files = ['/VBM/DARTEL_norm2mni_c1/smwc1CON_FED049_T1_MPRAGE_SAG_ISO_0_9_0009_20151123115353.nii', '/VBM/DARTEL_norm2mni_c1/smwc1DEP_FED059_T1_MPRAGE_SAG_ISO_0_9_0005_20160218100702.nii', '/VBM/DARTEL_norm2mni_c1/smwc1DEP_FED033_T1_MPRAGE_SAG_ISO_0_9_0005_20150326151309.nii', '/VBM/DARTEL_norm2mni_c1/smwc1DEP_FED035_T1_MPRAGE_SAG_ISO_0_9_0005_20150917120306.nii', '/VBM/DARTEL_norm2mni_c1/smwc1CON_FED065_T1_MPRAGE_SAG_ISO_0_9_0005_20160310090712.nii', '/VBM/DARTEL_norm2mni_c1/smwc1CON_FED058_T1_MPRAGE_SAG_ISO_0_9_0005_20160217151251.nii', '/VBM/DARTEL_norm2mni_c1/smwc1DEP_FED052_T1_MPRAGE_SAG_ISO_0_9_0005_20151203172751.nii', '/VBM/DARTEL_norm2mni_c1/smwc1CON_FED062_T1_MPRAGE_SAG_ISO_0_9_0005_20160301164049.nii', '/VBM/DARTEL_norm2mni_c1/smwc1DEP_FED028_T1_MPRAGE_SAG_ISO_0_9_0005_20150219142148.nii', '/VBM/DARTEL_norm2mni_c1/smwc1CON_FED060_T1_MPRAGE_SAG_ISO_0_9_0005_20160224151260.nii', '/VBM/DARTEL_norm2mni_c1/smwc1DEP_FED039_T1_MPRAGE_SAG_ISO_0_9_0005_20151001173950.nii', '/VBM/DARTEL_norm2mni_c1/smwc1DEP_FED045_T1_MPRAGE_SAG_ISO_0_9_0005_20151105173027.nii', '/VBM/DARTEL_norm2mni_c1/smwc1DEP_FED042_T1_MPRAGE_SAG_ISO_0_9_0005_20151013110112.nii', '/VBM/DARTEL_norm2mni_c1/smwc1CON_FED064_T1_MPRAGE_SAG_ISO_0_9_0005_20160309173936.nii', '/VBM/DARTEL_norm2mni_c1/smwc1CON_FED016_T1_MPRAGE_SAG_ISO_0_9_0005_20141202164821.nii', '/VBM/DARTEL_norm2mni_c1/smwc1DEP_FED030_T1_MPRAGE_SAG_ISO_0_9_0005_20150226154844.nii', '/VBM/DARTEL_norm2mni_c1/smwc1DEP_FED018_T1_MPRAGE_SAG_ISO_0_9_0005_20141208163153.nii', '/VBM/DARTEL_norm2mni_c1/smwc1DEP_FED037_T1_MPRAGE_SAG_ISO_0_9_0005_20150929162030.nii', '/VBM/DARTEL_norm2mni_c1/smwc1DEP_FED014_T1_MPRAGE_SAG_ISO_0_9_0005_20141125153216.nii', '/VBM/DARTEL_norm2mni_c1/smwc1DEP_FED038_T1_MPRAGE_SAG_ISO_0_9_0005_20151001125857.nii', '/VBM/DARTEL_norm2mni_c1/smwc1CON_FED012_T1_MPRAGE_SAG_ISO_0_9_0005_20141124150148.nii', '/VBM/DARTEL_norm2mni_c1/smwc1DEP_FED066_T1_MPRAGE_SAG_ISO_0_9_0005_20160310171152.nii', '/VBM/DARTEL_norm2mni_c1/smwc1CON_FED024_T1_MPRAGE_SAG_ISO_0_9_0005_20150204145018.nii', '/VBM/DARTEL_norm2mni_c1/smwc1DEP_FED047_T1_MPRAGE_SAG_ISO_0_9_0005_20151116144126.nii', '/VBM/DARTEL_norm2mni_c1/smwc1DEP_FED046_T1_MPRAGE_SAG_ISO_0_9_0005_20151106125904.nii', '/VBM/DARTEL_norm2mni_c1/smwc1CON_FED068_T1_MPRAGE_SAG_ISO_0_9_0005_20160331140317.nii', '/VBM/DARTEL_norm2mni_c1/smwc1CON_FED053_T1_MPRAGE_SAG_ISO_0_9_0005_20151208115820.nii', '/VBM/DARTEL_norm2mni_c1/smwc1CON_FED017_T1_MPRAGE_SAG_ISO_0_9_0005_20141204151043.nii', '/VBM/DARTEL_norm2mni_c1/smwc1CON_FED063_T1_MPRAGE_SAG_ISO_0_9_0005_20160308162043.nii', '/VBM/DARTEL_norm2mni_c1/smwc1DEP_FED048_T1_MPRAGE_SAG_ISO_0_9_0005_20151118152060.nii', '/VBM/DARTEL_norm2mni_c1/smwc1DEP_FED043_T1_MPRAGE_SAG_ISO_0_9_0005_20151015122011.nii', '/VBM/DARTEL_norm2mni_c1/smwc1DEP_FED029_T1_MPRAGE_SAG_ISO_0_9_0005_20150226091949.nii', '/VBM/DARTEL_norm2mni_c1/smwc1DEP_FED034_T1_MPRAGE_SAG_ISO_0_9_0005_20150909125805.nii', '/VBM/DARTEL_norm2mni_c1/smwc1CON_FED013_T1_MPRAGE_SAG_ISO_0_9_0005_20141125093955.nii', '/VBM/DARTEL_norm2mni_c1/smwc1CON_FED022_T1_MPRAGE_SAG_ISO_0_9_0005_20141211155503.nii', '/VBM/DARTEL_norm2mni_c1/smwc1CON_FED015_T1_MPRAGE_SAG_ISO_0_9_0005_20141202145526.nii', '/VBM/DARTEL_norm2mni_c1/smwc1DEP_FED040_T1_MPRAGE_SAG_ISO_0_9_0005_20151009111760.nii', '/VBM/DARTEL_norm2mni_c1/smwc1DEP_FED051_T1_MPRAGE_SAG_ISO_0_9_0005_20151202153410.nii', '/VBM/DARTEL_norm2mni_c1/smwc1CON_FED006_T1_MPRAGE_SAG_ISO_0_9_0005_20141106153429.nii', '/VBM/DARTEL_norm2mni_c1/smwc1DEP_FED057_T1_MPRAGE_SAG_ISO_0_9_0005_20151216154455.nii', '/VBM/DARTEL_norm2mni_c1/smwc1DEP_FED036_T1_MPRAGE_SAG_ISO_0_9_0005_20150924172133.nii', '/VBM/DARTEL_norm2mni_c1/smwc1CON_FED007_T1_MPRAGE_SAG_ISO_0_9_0005_20141107104226.nii', '/VBM/DARTEL_norm2mni_c1/smwc1CON_FED067_T1_MPRAGE_SAG_ISO_0_9_0005_20160311133810.nii', '/VBM/DARTEL_norm2mni_c1/smwc1DEP_FED032_T1_MPRAGE_SAG_ISO_0_9_0005_20150313125246.nii', '/VBM/DARTEL_norm2mni_c1/smwc1DEP_FED011_T1_MPRAGE_SAG_ISO_0_9_0005_20141119161708.nii', '/VBM/DARTEL_norm2mni_c1/smwc1CON_FED026_T1_MPRAGE_SAG_ISO_0_9_0005_20150211171144.nii', '/VBM/DARTEL_norm2mni_c1/smwc1CON_FED050_T1_MPRAGE_SAG_ISO_0_9_0005_20151201165820.nii', '/VBM/DARTEL_norm2mni_c1/smwc1DEP_FED041_T1_MPRAGE_SAG_ISO_0_9_0005_20151009164129.nii', '/VBM/DARTEL_norm2mni_c1/smwc1CON_FED061_T1_MPRAGE_SAG_ISO_0_9_0005_20160301111011.nii', '/VBM/DARTEL_norm2mni_c1/smwc1DEP_FED027_T1_MPRAGE_SAG_ISO_0_9_0005_20150218162601.nii', '/VBM/DARTEL_norm2mni_c1/smwc1CON_FED008_T1_MPRAGE_SAG_ISO_0_9_0005_20141112155009.nii', '/VBM/DARTEL_norm2mni_c1/smwc1DEP_FED031_T1_MPRAGE_SAG_ISO_0_9_0005_20150310152650.nii', '/VBM/DARTEL_norm2mni_c1/smwc1DEP_FED044_T1_MPRAGE_SAG_ISO_0_9_0005_20151029121235.nii', '/VBM/DARTEL_norm2mni_c1/smwc1DEP_FED055_T1_MPRAGE_SAG_ISO_0_9_0005_20151214092109.nii', '/VBM/DARTEL_norm2mni_c1/smwc1CON_FED056_T1_MPRAGE_SAG_ISO_0_9_0005_20151215155556.nii', '/VBM/DARTEL_norm2mni_c1/smwc1CON_FED023_T1_MPRAGE_SAG_ISO_0_9_0005_20141216144604.nii', '/VBM/DARTEL_norm2mni_c1/smwc1CON_FED009_T1_MPRAGE_SAG_ISO_0_9_0005_20141117154954.nii', '/VBM/DARTEL_norm2mni_c1/smwc1CON_FED054_T1_MPRAGE_SAG_ISO_0_9_0005_20151208140706.nii', '/VBM/DARTEL_norm2mni_c1/smwc1CON_FED020_T1_MPRAGE_SAG_ISO_0_9_0005_20141210170232.nii', '/VBM/DARTEL_norm2mni_c1/smwc1CON_FED019_T1_MPRAGE_SAG_ISO_0_9_0005_20141210090147.nii', '/VBM/DARTEL_norm2mni_c1/smwc1CON_FED021_T1_MPRAGE_SAG_ISO_0_9_0005_20141211095930.nii', '/VBM/DARTEL_norm2mni_c1/smwc1CON_FED025_T1_MPRAGE_SAG_ISO_0_9_0005_20150206123507.nii']\n",
      "\n",
      "200303-22:00:46,590 nipype.workflow INFO:\n",
      "\t [Node] Setting-up \"DARTEL_norm2mni_c2\" in \"/VBM/DARTEL_norm2mni_c2\".\n",
      "200303-22:00:46,614 nipype.workflow INFO:\n",
      "\t [Node] Running \"DARTEL_norm2mni_c2\" (\"nipype.interfaces.spm.preprocess.DARTELNorm2MNI\")\n",
      "200303-22:07:22,908 nipype.workflow INFO:\n",
      "\t [Node] Finished \"DARTEL_norm2mni_c2\".\n",
      "\n",
      "normalization_parameter_file = /VBM/DARTEL_norm2mni_c2/template_6_GM_2mni.mat\n",
      "normalized_files = ['/VBM/DARTEL_norm2mni_c2/smwc2CON_FED049_T1_MPRAGE_SAG_ISO_0_9_0009_20151123115353.nii', '/VBM/DARTEL_norm2mni_c2/smwc2DEP_FED059_T1_MPRAGE_SAG_ISO_0_9_0005_20160218100702.nii', '/VBM/DARTEL_norm2mni_c2/smwc2DEP_FED033_T1_MPRAGE_SAG_ISO_0_9_0005_20150326151309.nii', '/VBM/DARTEL_norm2mni_c2/smwc2DEP_FED035_T1_MPRAGE_SAG_ISO_0_9_0005_20150917120306.nii', '/VBM/DARTEL_norm2mni_c2/smwc2CON_FED065_T1_MPRAGE_SAG_ISO_0_9_0005_20160310090712.nii', '/VBM/DARTEL_norm2mni_c2/smwc2CON_FED058_T1_MPRAGE_SAG_ISO_0_9_0005_20160217151251.nii', '/VBM/DARTEL_norm2mni_c2/smwc2DEP_FED052_T1_MPRAGE_SAG_ISO_0_9_0005_20151203172751.nii', '/VBM/DARTEL_norm2mni_c2/smwc2CON_FED062_T1_MPRAGE_SAG_ISO_0_9_0005_20160301164049.nii', '/VBM/DARTEL_norm2mni_c2/smwc2DEP_FED028_T1_MPRAGE_SAG_ISO_0_9_0005_20150219142148.nii', '/VBM/DARTEL_norm2mni_c2/smwc2CON_FED060_T1_MPRAGE_SAG_ISO_0_9_0005_20160224151260.nii', '/VBM/DARTEL_norm2mni_c2/smwc2DEP_FED039_T1_MPRAGE_SAG_ISO_0_9_0005_20151001173950.nii', '/VBM/DARTEL_norm2mni_c2/smwc2DEP_FED045_T1_MPRAGE_SAG_ISO_0_9_0005_20151105173027.nii', '/VBM/DARTEL_norm2mni_c2/smwc2DEP_FED042_T1_MPRAGE_SAG_ISO_0_9_0005_20151013110112.nii', '/VBM/DARTEL_norm2mni_c2/smwc2CON_FED064_T1_MPRAGE_SAG_ISO_0_9_0005_20160309173936.nii', '/VBM/DARTEL_norm2mni_c2/smwc2CON_FED016_T1_MPRAGE_SAG_ISO_0_9_0005_20141202164821.nii', '/VBM/DARTEL_norm2mni_c2/smwc2DEP_FED030_T1_MPRAGE_SAG_ISO_0_9_0005_20150226154844.nii', '/VBM/DARTEL_norm2mni_c2/smwc2DEP_FED018_T1_MPRAGE_SAG_ISO_0_9_0005_20141208163153.nii', '/VBM/DARTEL_norm2mni_c2/smwc2DEP_FED037_T1_MPRAGE_SAG_ISO_0_9_0005_20150929162030.nii', '/VBM/DARTEL_norm2mni_c2/smwc2DEP_FED014_T1_MPRAGE_SAG_ISO_0_9_0005_20141125153216.nii', '/VBM/DARTEL_norm2mni_c2/smwc2DEP_FED038_T1_MPRAGE_SAG_ISO_0_9_0005_20151001125857.nii', '/VBM/DARTEL_norm2mni_c2/smwc2CON_FED012_T1_MPRAGE_SAG_ISO_0_9_0005_20141124150148.nii', '/VBM/DARTEL_norm2mni_c2/smwc2DEP_FED066_T1_MPRAGE_SAG_ISO_0_9_0005_20160310171152.nii', '/VBM/DARTEL_norm2mni_c2/smwc2CON_FED024_T1_MPRAGE_SAG_ISO_0_9_0005_20150204145018.nii', '/VBM/DARTEL_norm2mni_c2/smwc2DEP_FED047_T1_MPRAGE_SAG_ISO_0_9_0005_20151116144126.nii', '/VBM/DARTEL_norm2mni_c2/smwc2DEP_FED046_T1_MPRAGE_SAG_ISO_0_9_0005_20151106125904.nii', '/VBM/DARTEL_norm2mni_c2/smwc2CON_FED068_T1_MPRAGE_SAG_ISO_0_9_0005_20160331140317.nii', '/VBM/DARTEL_norm2mni_c2/smwc2CON_FED053_T1_MPRAGE_SAG_ISO_0_9_0005_20151208115820.nii', '/VBM/DARTEL_norm2mni_c2/smwc2CON_FED017_T1_MPRAGE_SAG_ISO_0_9_0005_20141204151043.nii', '/VBM/DARTEL_norm2mni_c2/smwc2CON_FED063_T1_MPRAGE_SAG_ISO_0_9_0005_20160308162043.nii', '/VBM/DARTEL_norm2mni_c2/smwc2DEP_FED048_T1_MPRAGE_SAG_ISO_0_9_0005_20151118152060.nii', '/VBM/DARTEL_norm2mni_c2/smwc2DEP_FED043_T1_MPRAGE_SAG_ISO_0_9_0005_20151015122011.nii', '/VBM/DARTEL_norm2mni_c2/smwc2DEP_FED029_T1_MPRAGE_SAG_ISO_0_9_0005_20150226091949.nii', '/VBM/DARTEL_norm2mni_c2/smwc2DEP_FED034_T1_MPRAGE_SAG_ISO_0_9_0005_20150909125805.nii', '/VBM/DARTEL_norm2mni_c2/smwc2CON_FED013_T1_MPRAGE_SAG_ISO_0_9_0005_20141125093955.nii', '/VBM/DARTEL_norm2mni_c2/smwc2CON_FED022_T1_MPRAGE_SAG_ISO_0_9_0005_20141211155503.nii', '/VBM/DARTEL_norm2mni_c2/smwc2CON_FED015_T1_MPRAGE_SAG_ISO_0_9_0005_20141202145526.nii', '/VBM/DARTEL_norm2mni_c2/smwc2DEP_FED040_T1_MPRAGE_SAG_ISO_0_9_0005_20151009111760.nii', '/VBM/DARTEL_norm2mni_c2/smwc2DEP_FED051_T1_MPRAGE_SAG_ISO_0_9_0005_20151202153410.nii', '/VBM/DARTEL_norm2mni_c2/smwc2CON_FED006_T1_MPRAGE_SAG_ISO_0_9_0005_20141106153429.nii', '/VBM/DARTEL_norm2mni_c2/smwc2DEP_FED057_T1_MPRAGE_SAG_ISO_0_9_0005_20151216154455.nii', '/VBM/DARTEL_norm2mni_c2/smwc2DEP_FED036_T1_MPRAGE_SAG_ISO_0_9_0005_20150924172133.nii', '/VBM/DARTEL_norm2mni_c2/smwc2CON_FED007_T1_MPRAGE_SAG_ISO_0_9_0005_20141107104226.nii', '/VBM/DARTEL_norm2mni_c2/smwc2CON_FED067_T1_MPRAGE_SAG_ISO_0_9_0005_20160311133810.nii', '/VBM/DARTEL_norm2mni_c2/smwc2DEP_FED032_T1_MPRAGE_SAG_ISO_0_9_0005_20150313125246.nii', '/VBM/DARTEL_norm2mni_c2/smwc2DEP_FED011_T1_MPRAGE_SAG_ISO_0_9_0005_20141119161708.nii', '/VBM/DARTEL_norm2mni_c2/smwc2CON_FED026_T1_MPRAGE_SAG_ISO_0_9_0005_20150211171144.nii', '/VBM/DARTEL_norm2mni_c2/smwc2CON_FED050_T1_MPRAGE_SAG_ISO_0_9_0005_20151201165820.nii', '/VBM/DARTEL_norm2mni_c2/smwc2DEP_FED041_T1_MPRAGE_SAG_ISO_0_9_0005_20151009164129.nii', '/VBM/DARTEL_norm2mni_c2/smwc2CON_FED061_T1_MPRAGE_SAG_ISO_0_9_0005_20160301111011.nii', '/VBM/DARTEL_norm2mni_c2/smwc2DEP_FED027_T1_MPRAGE_SAG_ISO_0_9_0005_20150218162601.nii', '/VBM/DARTEL_norm2mni_c2/smwc2CON_FED008_T1_MPRAGE_SAG_ISO_0_9_0005_20141112155009.nii', '/VBM/DARTEL_norm2mni_c2/smwc2DEP_FED031_T1_MPRAGE_SAG_ISO_0_9_0005_20150310152650.nii', '/VBM/DARTEL_norm2mni_c2/smwc2DEP_FED044_T1_MPRAGE_SAG_ISO_0_9_0005_20151029121235.nii', '/VBM/DARTEL_norm2mni_c2/smwc2DEP_FED055_T1_MPRAGE_SAG_ISO_0_9_0005_20151214092109.nii', '/VBM/DARTEL_norm2mni_c2/smwc2CON_FED056_T1_MPRAGE_SAG_ISO_0_9_0005_20151215155556.nii', '/VBM/DARTEL_norm2mni_c2/smwc2CON_FED023_T1_MPRAGE_SAG_ISO_0_9_0005_20141216144604.nii', '/VBM/DARTEL_norm2mni_c2/smwc2CON_FED009_T1_MPRAGE_SAG_ISO_0_9_0005_20141117154954.nii', '/VBM/DARTEL_norm2mni_c2/smwc2CON_FED054_T1_MPRAGE_SAG_ISO_0_9_0005_20151208140706.nii', '/VBM/DARTEL_norm2mni_c2/smwc2CON_FED020_T1_MPRAGE_SAG_ISO_0_9_0005_20141210170232.nii', '/VBM/DARTEL_norm2mni_c2/smwc2CON_FED019_T1_MPRAGE_SAG_ISO_0_9_0005_20141210090147.nii', '/VBM/DARTEL_norm2mni_c2/smwc2CON_FED021_T1_MPRAGE_SAG_ISO_0_9_0005_20141211095930.nii', '/VBM/DARTEL_norm2mni_c2/smwc2CON_FED025_T1_MPRAGE_SAG_ISO_0_9_0005_20150206123507.nii']\n",
      "\n"
     ]
    }
   ],
   "source": [
    "# create DARTEL node to norm2MNI for GM and WM\n",
    "tissues={\"c1\": [\"_6_GM.nii\",c1],  \"c2\": [\"_6_GM.nii\",c2]} # add:, \"c3\": [\"_6_CSF.nii\",c3]\n",
    "for k,v in tissues.items():\n",
    "    dartel_norm2mni=Node(spm.DARTELNorm2MNI(), name='DARTEL_norm2mni_' + k)\n",
    "    dartel_norm2mni.inputs.template_file = grouptemplate + v[0]\n",
    "    dartel_norm2mni.inputs.flowfield_files = flowfields # using same flowfields here creates overblown WM when normalising to WM template!\n",
    "    dartel_norm2mni.inputs.apply_to_files = v[1]\n",
    "    # \"modulate (a boolean) – Modulate out images - no modulation preserves concentrations.\"(nipype documentation)\n",
    "    dartel_norm2mni.inputs.modulate = True\n",
    "    dartel_norm2mni.base_dir = VBM_dir\n",
    "    # think about smoothing kernel below: btw 4mm and 12mm -> ROI sizes?\n",
    "    dartel_norm2mni.inputs.fwhm = 10\n",
    "    # do not generate SPM8 and higher compatible jobs\n",
    "    dartel_norm2mni.inputs.use_v8struct = False\n",
    "    # run normalisation and print outputs\n",
    "    results = dartel_norm2mni.run()\n",
    "    print(results.outputs)"
   ]
  },
  {
   "cell_type": "markdown",
   "metadata": {},
   "source": [
    "Order and Quality Control:"
   ]
  },
  {
   "cell_type": "code",
   "execution_count": 17,
   "metadata": {},
   "outputs": [],
   "source": [
    "# get normalised GM/WM images to analyse in MultipleRegression model\n",
    "# change norm_dir to vary between GM and WM analysis\n",
    "norm_dirs = [os.path.join(VBM_dir, \"%s\") %(i) for i in os.listdir(VBM_dir) if i.startswith(\"DARTEL_norm2mni\")]\n",
    "\n",
    "# grep files according to regex\n",
    "images_mreg_GM=[i for i in os.listdir(norm_dirs[0]) if re.match(r'(smwc.*\\d{14,}.*.nii)', i)]\n",
    "images_mreg_WM=[i for i in os.listdir(norm_dirs[1]) if re.match(r'(smwc.*\\d{14,}.*.nii)', i)]\n",
    "\n",
    "# turn filenames into full-path objects\n",
    "images_mreg_GM=[os.path.join(norm_dirs[0], i) for i in images_mreg_GM]\n",
    "images_mreg_WM=[os.path.join(norm_dirs[1], i) for i in images_mreg_WM]"
   ]
  },
  {
   "cell_type": "code",
   "execution_count": 18,
   "metadata": {},
   "outputs": [],
   "source": [
    "# create 4D control volume for visual inspection\n",
    "for dirs,files in zip(norm_dirs,[images_mreg_GM,images_mreg_WM]):\n",
    "    # create 4D control-volume of all smwc1/2 images\n",
    "    FED_norm2MNI_control = nb.funcs.concat_images(files, check_affines=True, axis=None)\n",
    "    \n",
    "    # save the files (gzipped!)\n",
    "    FED_norm2MNI_control.to_filename(os.path.join(dirs, \"FED_smw\" + dirs[-2:] + \"_4D_control.nii.gz\"))\n",
    "   \n",
    "    # un-cache\n",
    "    FED_norm2MNI_control.uncache()\n",
    "    \n",
    "    \n",
    "# -> also do this for Template images (u_rc1) and all segmented images (c1-3)\n",
    "\n",
    "# same for the flowfields created by the DARTEL template algorithm\n",
    "#FED_templateflowfields_control = nb.funcs.concat_images(flowfields, check_affines=False, axis=None)\n",
    "#FED_templateflowfields_control.to_filename(os.path.join(norm_dir, \"FED_u_rc1-flowfields_4D_control.nii.gz\"))\n",
    "#FED_templateflowfields_control.uncache()\n",
    "\n",
    "# use c1 images first (too little space on local)\n",
    "#FED_c1_control = nb.funcs.concat_images(c1, check_affines=False, axis=None)\n",
    "#FED_c1_control.to_filename(os.path.join(norm_dir, \"FED_c1_4D_control.nii.gz\"))\n",
    "#FED_c1_control.to_filename(os.path.join(norm_dir, \"FED_c1_4D_control.nii.gz\"))\n",
    "\n",
    "#FED_c2_control = nb.funcs.concat_images(c2, check_affines=False, axis=None)\n",
    "\n",
    "# save the files (gzipped!)\n",
    "#FED_c2_control.to_filename(os.path.join(norm_dir, \"FED_c2_4D_control.nii.gz\"))\n",
    "\n",
    "# un-cache\n",
    "#FED_c2_control.uncache()\n",
    "\n",
    "#FED_c3_control = nb.funcs.concat_images(c3, check_affines=False, axis=None)\n",
    "\n",
    "# save the files (gzipped!)\n",
    "#FED_c3_control.to_filename(os.path.join(norm_dir, \"FED_c3_4D_control.nii.gz\"))\n",
    "\n",
    "# un-cache\n",
    "#FED_c3_control.uncache()"
   ]
  },
  {
   "cell_type": "markdown",
   "metadata": {},
   "source": [
    "# -> view fsleyes -movie-mode to select possible errors"
   ]
  }
 ],
 "metadata": {
  "kernelspec": {
   "display_name": "Python [conda env:neuro] *",
   "language": "python",
   "name": "conda-env-neuro-py"
  },
  "language_info": {
   "codemirror_mode": {
    "name": "ipython",
    "version": 3
   },
   "file_extension": ".py",
   "mimetype": "text/x-python",
   "name": "python",
   "nbconvert_exporter": "python",
   "pygments_lexer": "ipython3",
   "version": "3.7.8"
  }
 },
 "nbformat": 4,
 "nbformat_minor": 4
}
