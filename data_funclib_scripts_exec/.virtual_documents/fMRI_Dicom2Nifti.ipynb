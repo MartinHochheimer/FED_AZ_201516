# import everything you need
from nipype.interfaces.dcm2nii import Dcm2niix
from nipype import Node, Workflow
import os, re


# define useful functions

# get subject directories from parent directory
def get_subdirs(dir):
    """get subject directories from parent directory"""
    subdirs = []
    for i in os.listdir(dir):
        # verify subject number in directory and exclude other dirs
        if os.path.isdir(os.path.join(dir, i))
        and re.match(r'(.*\d{3}$)', i):
            subdirs.append(os.path.join(dir, i))
    return sorted(subdirs)

# get iterator to go over multiple objects at once
def grouped(iterable, n):
    """get iterator to go over multiple objects at once"""
    "s -> (s0,s1,s2,...sn-1), (sn,sn+1,sn+2,...s2n-1), (s2n,s2n+1,s2n+2,...s3n-1), ..."
    return zip(*[iter(iterable)] * n)


# get subject dir-list
subdirs = get_subdirs("/fMRI/")
print(subdirs)
print(len(subdirs))


# get fMRI sequence dirs via subject lists
FMRIdirs = []
for i in subdirs:
    for j in os.listdir(i):
        if os.path.isdir(os.path.join(i, j))
        and re.match(r'((WIP840|FMRI).*\d{4}$)', j):
            FMRIdirs.append(os.path.join(i,j))

# get structural sequence dirs via subject lists
T1dirs = []
for i in subdirs:
    for j in os.listdir(i):
        if os.path.isdir(os.path.join(i, j))
        and re.match(r'((T1_MPRAGE).*\d{4}$)', j):
            T1dirs.append(os.path.join(i,j))

# same for gradient field maps
GREfielddirs = []
for i in subdirs:
    for j in os.listdir(i):
        if os.path.isdir(os.path.join(i, j))
        and re.match(r'((GRE_FIELD).*\d{4}$)', j):
            GREfielddirs.append(os.path.join(i, j))

# sort the list entries
FMRIdirs = sorted(FMRIdirs)
T1dirs = sorted(T1dirs)
GREfielddirs = sorted(GREfielddirs)

# extract the middle number of however many fMRI sequence dirs 
# there are to select the functional runs (VARIATIONS. SOLVE.)
funcdirs = []
for i in subdirs:
    dirs = []
    for j in FMRIdirs:
        if i.rsplit('/', 1)[1] == j.rsplit('/', 2)[1]:
            dirs.append(j)
            if len(dirs) > 3:
                print(j.rsplit('/', 2)[1], "\n",
                     f"has more than 3({len(dirs)}) "\
                      "functional runs ...investigate")
    funcdirs.append(sorted(dirs)[len(dirs) // 2])

# manual selection for individual "problem subjects"
problem_sub = "FED030"
rep_string = "14"
for i in funcdirs:
    if re.match(fr'.*({problem_sub}).*', i):
        # correct the sequence to the right parameters
        # by changing the last two digits of the sequence number
        funcdirs[funcdirs.index(i)] = i[:-2] + rep_string

# think of pattern for selecting the "right maps"..."
distcordirs = []
for i in subdirs:
    dirs = []
    for j in GREfielddirs:
        if i.rsplit('/', 1)[1] == j.rsplit('/', 2)[1]:
            dirs.append(j)
    # integrate dirs lists into one big list
    distcordirs.extend(sorted(dirs))


print(FMRIdirs)
print(len(FMRIdirs))


print(T1dirs)
print(len(T1dirs))


print(GREfielddirs)
print(len(GREfielddirs))


print(funcdirs)
print(len(funcdirs))


# distcordirs and subdirs have different lengths -> fix using re-matching
# (need more than one GRE map / subject)

subdirs_corr = []
for i in subdirs:
    FEDnum = i.rsplit('/', 1)[1]
    for j in distcordirs:
        if re.match(fr'(.*{FEDnum}.*)', j):
            print(i,j)
            subdirs_corr.append(i)


print(distcordirs)
print(len(distcordirs))


print(subdirs_corr)
print(len(subdirs_corr))


# use sequence-list as source_dir and save output of converter in parent dir
# iterate over sequence and subject dirs, create nodes and run them to create NIFTI files
subjectdirs = [subdirs, subdirs, subdirs_corr]
sequencedirs  =[funcdirs, T1dirs, distcordirs]

# adapt index in lists to specify which files to convert
for i, j in zip(subjectdirs, sequencedirs):
    print(i, j)
    # create DICOM-to-NIFTI converter node
    converter = Node(Dcm2niix(), name='converter')
    converter.inputs.compress = 'n'  # do not compress -> SPM options etc.
    converter.inputs.source_dir = j
    converter.inputs.output_dir = i
    converter.run()


# for single subject post-correction/re-calculation
# adapt index in lists to specify which files to convert

for i, j in zip(subdirs, T1dirs):
    # insert subject ID into regex pattern
    if re.match(r'.*(FED015).*', i) and re.match(r'.*(FED015).*', j):
        print(i, j)
        # create DICOM-to-NIFTI converter node
        converter = Node(Dcm2niix(), name='converter')
        converter.inputs.compress = 'n'  # do not compress -> SPM options etc.
        converter.inputs.source_dir = j
        converter.inputs.output_dir = i
        converter.run()
