get_ipython().run_line_magic("run", " fMRI_prestats0_general.ipynb")


# control results
key = random.sample(data.keys(), 1)
print(data[key[0]])
print(data["FED012"])


# prepare the gradient field scans (1 phase and 1 magnitude image)
# for usage in distortion correction: fieldmap FSL, rest SPM

# BET on magnitude images
# collect magnitude images
magnit = [i for sub in FEDs
          for i in data[sub]["files"]
          if re.match(r'.*(_e1(?!mag)).*.nii', i)]

# perform brain extraction
for file in magnit:
    bet = pe.Node(fsl.BET(), name="bet")
    bet.inputs.in_file = file
    bet.inputs.out_file = f"{file.split('_', 1)[0]}_e1mag_bet_B.nii"
    bet.inputs.reduce_bias = True
    bet.inputs.output_type = "NIFTI"
    res = bet.run()
    print(res.outputs)
    # plot before after comparison
    plot_anat(bet.inputs.in_file, title='BET input', cut_coords=(10, 10, 10),
              display_mode='ortho', dim=-1, draw_cross=False, annotate=False);
    plot_anat(res.outputs.out_file, title='BET output', cut_coords=(10, 10, 10),
              display_mode='ortho', dim=-1, draw_cross=False, annotate=False);

# update files
update_files()


# plot before after comparison of BET
for sub in FEDs:
    for file in data[sub]["files"]:
        if re.match(r'.*(_e1(?!mag)).*.nii', file):
            print(sub)
            plot_anat(file, title=f'{sub}: BET input', cut_coords=(10, 10, 10), display_mode='ortho',
                      dim=-1, draw_cross=False, annotate=False);
        elif re.match(r'.*(e1mag_bet).*(?<!_mask).nii', x):
            plot_anat(file, title=f'{sub}: BET output', cut_coords=(10, 10, 10), display_mode='ortho',
                      dim=-1, draw_cross=False, annotate=False);


# unwrap raw phase images
#for sub in FEDs:
    # collect raw phase images and bet-magnitude-mask images for masking
#    for i in data[sub]["files"]:
#        if re.match(r'.*(_ph).*.nii', i):
#            phase=i
#        elif re.match(r'.*(_e1mag_bet).*(?<!_mask).nii', i):
#            mag=i
#        elif re.match(r'.*(_e1mag_bet).*(?<=_mask).nii', i):
#            mask=i
    # print all parameters
#    print(phase,"\n", mag, "\n", mask)
    # call FSL PRELUDE to do the unwrapping
#    ph_unwrap=pe.Node(fsl.PRELUDE(), name='GRE_phaseunwrap')
#    ph_unwrap.inputs.phase_file=phase
#    ph_unwrap.inputs.magnitude_file=mag
#    ph_unwrap.inputs.mask_file=mask
#    ph_unwrap,inputs.unwrapped_phase_file=f"{os.path.join(basedir, sub)}/GRE_e1_ph_unwrapped.nii"
#    ph_unwrap.inputs.output_type="NIFTI"
    # run it
#    results= ph_unwrap.run()
    # print output
#    print(results.outputs)

# update files
#update_files()


# build the fieldmaps
for sub in FEDs:
    # collect relevant data
    for i in data[sub]["files"]:
        if re.match(r'.*(_ph).*.nii', i):
            phase = i
        elif re.match(r'.*(_e1mag_bet).*(?<!_mask).nii', i):
            mag = i
        deltaTE = data[sub]["parameters"]["DeltaTE"]
    # print all parameters
    print(mag, "\n", phase, "\n", deltaTE)
    # call FSL interface to calculate fieldmaps
    build_fieldmap = pe.Node(fsl.PrepareFieldmap(), name='GRE_fieldmap')
    build_fieldmap.inputs.in_phase = phase
    build_fieldmap.inputs.in_magnitude = mag
    build_fieldmap.inputs.delta_TE = deltaTE
    build_fieldmap.inputs.out_fieldmap = f"{os.path.join(basedir, sub)}/GRE_fieldmap.nii"
    build_fieldmap.inputs.output_type = "NIFTI"
    # run it
    results = build_fieldmap.run()
    # print output
    print(results.outputs)

# update files
update_files()


# apply the distortion correction
for sub in FEDs:
    # collect relevant data
    for i in data[sub]["files"]:
        if re.match(r'.*(FMRI).*.nii', i):
            epi = i
        elif re.match(r'.*(fieldmap).*.nii', i):
            fieldmap = i
    dwelltime = data[sub]["parameters"]["EPI_DT"][0]
    epi_phasecodedir = data[sub]["parameters"]["EPI_PED"][0]
    # print all parameters
    print(epi, "\n", fieldmap, "\n", dwelltime, "\n", epi_phasecodedir)
    # call FSL FUGUE to apply distortion correction to the EPI images
    epi_dist_correct = pe.Node(fsl.FUGUE(), name='EPI_distcorrect')
    epi_dist_correct.inputs.in_file = epi
    epi_dist_correct.inputs.fmap_in_file = fieldmap
    epi_dist_correct.inputs.dwell_time = dwelltime
    epi_dist_correct.inputs.unwarp_direction = epi_phasecodedir
    epi_dist_correct.inputs.output_type = "NIFTI"
    epi_dist_correct.inputs.unwarped_file = f"{epi[:-4]}_distcor.nii"
    # run it
    results = epi_dist_correct.run()
    # print output
    print(results.outputs)

# update files
update_files()


# compute and print difference image
# between original and distortion corrected FMRIs

for sub in FEDs:
    # collect fMRI volumes
    for i in data[sub]["files"]:
        if re.match(r'.*(FMRI).*(?<!_distcor).nii', i):
            predist = i
        elif re.match(r'.*(FMRI).*(?<=_distcor).nii', i):
            postdist = i
        # create FslMaths node and calculate difference image
        maths = fsl.ImageMaths(in_file=predist, in_file2=postdist,
                               op_string= '-sub', output_type = "NIFTI",
                               out_file=f'{os.path.join(basedir, sub)}/FMRI_distcor_effect.nii')
        # run it
        results = maths.run()
        # print output
        print(results.outputs)

# update files
update_files()



