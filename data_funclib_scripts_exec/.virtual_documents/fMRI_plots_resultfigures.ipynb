# import everything you need
from nipype import Node, Workflow
import nipype.interfaces.spm as spm
from nilearn import plotting, datasets
import numpy as np
import matplotlib.pyplot as plt
import pandas as pd
import nibabel as nb
import os, re
from itertools import zip_longest









