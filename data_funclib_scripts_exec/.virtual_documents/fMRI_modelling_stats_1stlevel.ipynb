# import everything you need
from nipype import Node, Workflow
import nipype.interfaces.spm as spm
import nipype.interfaces.fsl as fsl
from nipype.interfaces.base import CommandLine
import numpy as np
import pandas as pd
import nibabel as nb
import os, re
from itertools import zip_longest


# exclude FEDs missing GRE_fieldmaps or condition/onset data





















