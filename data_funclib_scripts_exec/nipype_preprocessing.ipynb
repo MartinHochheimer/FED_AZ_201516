{
 "cells": [
  {
   "cell_type": "code",
   "execution_count": 17,
   "metadata": {},
   "outputs": [],
   "source": [
    "from nipype.interfaces.dcm2nii import Dcm2niix\n",
    "from nipype import Node, Workflow\n",
    "import os"
   ]
  },
  {
   "cell_type": "code",
   "execution_count": 11,
   "metadata": {},
   "outputs": [],
   "source": [
    "# create DICOM-to-NIFTI converter node\n",
    "converter=Node(Dcm2niix(), name='converter')"
   ]
  },
  {
   "cell_type": "code",
   "execution_count": 12,
   "metadata": {},
   "outputs": [
    {
     "name": "stdout",
     "output_type": "stream",
     "text": [
      "['/VBM/FED006', '/VBM/FED007', '/VBM/FED008', '/VBM/FED009', '/VBM/FED010', '/VBM/FED011', '/VBM/FED012', '/VBM/FED013', '/VBM/FED014', '/VBM/FED015', '/VBM/FED016', '/VBM/FED017', '/VBM/FED018', '/VBM/FED019', '/VBM/FED020', '/VBM/FED021', '/VBM/FED022', '/VBM/FED023', '/VBM/FED024', '/VBM/FED025', '/VBM/FED026', '/VBM/FED027', '/VBM/FED028', '/VBM/FED029', '/VBM/FED030', '/VBM/FED031', '/VBM/FED032', '/VBM/FED033', '/VBM/FED034', '/VBM/FED035', '/VBM/FED036', '/VBM/FED037', '/VBM/FED038', '/VBM/FED039', '/VBM/FED040', '/VBM/FED041', '/VBM/FED042', '/VBM/FED043', '/VBM/FED044', '/VBM/FED045', '/VBM/FED046', '/VBM/FED047', '/VBM/FED048', '/VBM/FED050', '/VBM/FED051', '/VBM/FED052', '/VBM/FED053', '/VBM/FED054', '/VBM/FED055', '/VBM/FED056', '/VBM/FED057', '/VBM/FED058', '/VBM/FED059', '/VBM/FED060', '/VBM/FED061', '/VBM/FED062', '/VBM/FED063', '/VBM/FED064', '/VBM/FED065', '/VBM/FED066', '/VBM/FED067', '/VBM/FED068']\n"
     ]
    }
   ],
   "source": [
    "# get dirlist\n",
    "studydir=\"/VBM/\"\n",
    "\n",
    "subdirs=[i for i in os.listdir(str(studydir)) if os.path.isdir(os.path.join(str(studydir), i))]\n",
    "\n",
    "# create subject-list\n",
    "subjects=list()\n",
    "for i in subdirs:\n",
    "    subjects.append(str(studydir)+i)\n",
    "\n",
    "subjects=sorted(subjects)\n",
    "print(subjects)"
   ]
  },
  {
   "cell_type": "code",
   "execution_count": 20,
   "metadata": {},
   "outputs": [],
   "source": [
    "# get files from common subdir in each subject folder\n",
    "files=dict()\n",
    "\n",
    "for s in subjects:\n",
    "    entry=s.rsplit('/',1)[1]\n",
    "    files[entry]=os.listdir(s)"
   ]
  },
  {
   "cell_type": "code",
   "execution_count": 21,
   "metadata": {},
   "outputs": [],
   "source": [
    "# use files as source_dir and save output of converter in subjects\n"
   ]
  },
  {
   "cell_type": "code",
   "execution_count": null,
   "metadata": {},
   "outputs": [],
   "source": []
  },
  {
   "cell_type": "code",
   "execution_count": 16,
   "metadata": {},
   "outputs": [
    {
     "name": "stdout",
     "output_type": "stream",
     "text": [
      "Help on class Dcm2nii in module nipype.interfaces.dcm2nii:\n",
      "\n",
      "class Dcm2nii(nipype.interfaces.base.core.CommandLine)\n",
      " |  Dcm2nii(command=None, terminal_output=None, **inputs)\n",
      " |  \n",
      " |  Uses MRIcron's dcm2nii to convert dicom files\n",
      " |  \n",
      " |  Examples\n",
      " |  ========\n",
      " |  \n",
      " |  >>> from nipype.interfaces.dcm2nii import Dcm2nii\n",
      " |  >>> converter = Dcm2nii()\n",
      " |  >>> converter.inputs.source_names = ['functional_1.dcm', 'functional_2.dcm']\n",
      " |  >>> converter.inputs.gzip_output = True\n",
      " |  >>> converter.inputs.output_dir = '.'\n",
      " |  >>> converter.cmdline  # doctest: +ELLIPSIS\n",
      " |  'dcm2nii -a y -c y -b config.ini -v y -d y -e y -g y -i n -n y -o . -p y -x n -f n functional_1.dcm'\n",
      " |  \n",
      " |  Method resolution order:\n",
      " |      Dcm2nii\n",
      " |      nipype.interfaces.base.core.CommandLine\n",
      " |      nipype.interfaces.base.core.BaseInterface\n",
      " |      nipype.interfaces.base.core.Interface\n",
      " |      builtins.object\n",
      " |  \n",
      " |  Data and other attributes defined here:\n",
      " |  \n",
      " |  __slotnames__ = []\n",
      " |  \n",
      " |  input_spec = <class 'nipype.interfaces.dcm2nii.Dcm2niiInputSpec'>\n",
      " |      Create a subclass with strict traits.\n",
      " |      \n",
      " |      This is used in 90% of the cases.\n",
      " |  \n",
      " |  output_spec = <class 'nipype.interfaces.dcm2nii.Dcm2niiOutputSpec'>\n",
      " |      Create a subclass with strict traits.\n",
      " |      \n",
      " |      This is used in 90% of the cases.\n",
      " |  \n",
      " |  ----------------------------------------------------------------------\n",
      " |  Methods inherited from nipype.interfaces.base.core.CommandLine:\n",
      " |  \n",
      " |  __init__(self, command=None, terminal_output=None, **inputs)\n",
      " |      Subclasses must implement __init__\n",
      " |  \n",
      " |  raise_exception(self, runtime)\n",
      " |  \n",
      " |  version_from_command(self, flag='-v', cmd=None)\n",
      " |  \n",
      " |  ----------------------------------------------------------------------\n",
      " |  Class methods inherited from nipype.interfaces.base.core.CommandLine:\n",
      " |  \n",
      " |  set_default_terminal_output(output_type) from builtins.type\n",
      " |      Set the default terminal output for CommandLine Interfaces.\n",
      " |      \n",
      " |      This method is used to set default terminal output for\n",
      " |      CommandLine Interfaces.  However, setting this will not\n",
      " |      update the output type for any existing instances.  For these,\n",
      " |      assign the <instance>.terminal_output.\n",
      " |  \n",
      " |  ----------------------------------------------------------------------\n",
      " |  Data descriptors inherited from nipype.interfaces.base.core.CommandLine:\n",
      " |  \n",
      " |  cmd\n",
      " |      sets base command, immutable\n",
      " |  \n",
      " |  cmdline\n",
      " |      `command` plus any arguments (args)\n",
      " |      validates arguments and generates command line\n",
      " |  \n",
      " |  terminal_output\n",
      " |  \n",
      " |  ----------------------------------------------------------------------\n",
      " |  Methods inherited from nipype.interfaces.base.core.BaseInterface:\n",
      " |  \n",
      " |  aggregate_outputs(self, runtime=None, needed_outputs=None)\n",
      " |      Collate expected outputs and apply output traits validation.\n",
      " |  \n",
      " |  load_inputs_from_json(self, json_file, overwrite=True)\n",
      " |      A convenient way to load pre-set inputs from a JSON file.\n",
      " |  \n",
      " |  run(self, cwd=None, ignore_exception=None, **inputs)\n",
      " |      Execute this interface.\n",
      " |      \n",
      " |      This interface will not raise an exception if runtime.returncode is\n",
      " |      non-zero.\n",
      " |      \n",
      " |      Parameters\n",
      " |      ----------\n",
      " |      \n",
      " |      cwd : specify a folder where the interface should be run\n",
      " |      inputs : allows the interface settings to be updated\n",
      " |      \n",
      " |      Returns\n",
      " |      -------\n",
      " |      results :  an InterfaceResult object containing a copy of the instance\n",
      " |      that was executed, provenance information and, if successful, results\n",
      " |  \n",
      " |  save_inputs_to_json(self, json_file)\n",
      " |      A convenient way to save current inputs to a JSON file.\n",
      " |  \n",
      " |  ----------------------------------------------------------------------\n",
      " |  Data descriptors inherited from nipype.interfaces.base.core.BaseInterface:\n",
      " |  \n",
      " |  version\n",
      " |      interfaces should implement a version property\n",
      " |  \n",
      " |  ----------------------------------------------------------------------\n",
      " |  Data and other attributes inherited from nipype.interfaces.base.core.BaseInterface:\n",
      " |  \n",
      " |  references_ = []\n",
      " |  \n",
      " |  resource_monitor = True\n",
      " |  \n",
      " |  ----------------------------------------------------------------------\n",
      " |  Class methods inherited from nipype.interfaces.base.core.Interface:\n",
      " |  \n",
      " |  help(returnhelp=False) from builtins.type\n",
      " |      Prints class help\n",
      " |  \n",
      " |  ----------------------------------------------------------------------\n",
      " |  Data descriptors inherited from nipype.interfaces.base.core.Interface:\n",
      " |  \n",
      " |  __dict__\n",
      " |      dictionary for instance variables (if defined)\n",
      " |  \n",
      " |  __weakref__\n",
      " |      list of weak references to the object (if defined)\n",
      " |  \n",
      " |  always_run\n",
      " |      Should the interface be always run even if the inputs were not changed?\n",
      " |      Only applies to interfaces being run within a workflow context.\n",
      " |  \n",
      " |  can_resume\n",
      " |      Defines if the interface can reuse partial results after interruption.\n",
      " |      Only applies to interfaces being run within a workflow context.\n",
      "\n"
     ]
    }
   ],
   "source": [
    "help(Dcm2nii)"
   ]
  }
 ],
 "metadata": {
  "kernelspec": {
   "display_name": "Python [conda env:neuro] *",
   "language": "python",
   "name": "conda-env-neuro-py"
  },
  "language_info": {
   "codemirror_mode": {
    "name": "ipython",
    "version": 3
   },
   "file_extension": ".py",
   "mimetype": "text/x-python",
   "name": "python",
   "nbconvert_exporter": "python",
   "pygments_lexer": "ipython3",
   "version": "3.7.3"
  }
 },
 "nbformat": 4,
 "nbformat_minor": 4
}
