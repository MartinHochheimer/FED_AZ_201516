{
 "cells": [
  {
   "cell_type": "markdown",
   "metadata": {},
   "source": [
    "Import all necessary libraries and functions, as well as the primary data-structure"
   ]
  },
  {
   "cell_type": "code",
   "execution_count": 1,
   "metadata": {
    "collapsed": true,
    "jupyter": {
     "outputs_hidden": true
    },
    "tags": []
   },
   "outputs": [
    {
     "name": "stderr",
     "output_type": "stream",
     "text": [
      "/opt/miniconda-latest/envs/neuro/lib/python3.7/site-packages/nilearn/datasets/__init__.py:90: FutureWarning: Fetchers from the nilearn.datasets module will be updated in version 0.9 to return python strings instead of bytes and Pandas dataframes instead of Numpy arrays.\n",
      "  \"Numpy arrays.\", FutureWarning)\n"
     ]
    },
    {
     "name": "stdout",
     "output_type": "stream",
     "text": [
      "subject(s) missing!\n",
      "First line of list-alignment:   FED006 FED006 FED007\n",
      "Control relevant files!\n",
      "\n",
      "\n",
      " The following subjects where excluded from further analysis due to false file numbers or missing data:  \n",
      " EPI:  ['FED006'] T1:  ['FED006']\n",
      "The new subject list after initial data and image file checkup:\n",
      "\n",
      "['FED007', 'FED008', 'FED009', 'FED010', 'FED011', 'FED012', 'FED013', 'FED014', 'FED015', 'FED016', 'FED017', 'FED018', 'FED019', 'FED020', 'FED021', 'FED022', 'FED023', 'FED024', 'FED025', 'FED026', 'FED027', 'FED028', 'FED029', 'FED030', 'FED031', 'FED032', 'FED033', 'FED034', 'FED035', 'FED036', 'FED037', 'FED038', 'FED039', 'FED040', 'FED041', 'FED042', 'FED043', 'FED044', 'FED045', 'FED046', 'FED047', 'FED048', 'FED049', 'FED050', 'FED051', 'FED052', 'FED053', 'FED054', 'FED055', 'FED056', 'FED057', 'FED058', 'FED059', 'FED060', 'FED061', 'FED062', 'FED063', 'FED064', 'FED065', 'FED066', 'FED067', 'FED068']\n",
      "\n",
      "\n",
      "That leaves a total of  62 remaining subjects.\n",
      "\n",
      "\n",
      "The following parameters where not available from subjects' json files: \n",
      " ['FED063_EPI-DwellTime', 'FED064_EPI-DwellTime', 'FED065_EPI-DwellTime', 'FED066_EPI-DwellTime']\n",
      "The following parameters where available multiple times from subjects' json files: \n",
      " []\n",
      "\n",
      " edited missing parameters ['FED063_EPI-DwellTime', 'FED064_EPI-DwellTime', 'FED065_EPI-DwellTime', 'FED066_EPI-DwellTime'] and inferred them from the other subjects. \n",
      " Parameter list is now full-rank. \n",
      "\n",
      "\n",
      "\n",
      "FED048, with 44 motion-related outliers,  exceeds an outlier threshold of 2z in a normal distribution of the outlier numbers. \n",
      "FED048 will therefore be excluded from further analysis\n",
      "\n",
      "\n",
      "The new subject list after motion correction and additional parameter calculations:\n",
      "\n",
      "['FED007', 'FED008', 'FED009', 'FED010', 'FED011', 'FED012', 'FED013', 'FED014', 'FED015', 'FED016', 'FED017', 'FED018', 'FED019', 'FED020', 'FED021', 'FED022', 'FED023', 'FED024', 'FED025', 'FED026', 'FED027', 'FED028', 'FED029', 'FED030', 'FED031', 'FED032', 'FED033', 'FED034', 'FED035', 'FED036', 'FED037', 'FED038', 'FED039', 'FED040', 'FED041', 'FED042', 'FED043', 'FED044', 'FED045', 'FED046', 'FED047', 'FED049', 'FED050', 'FED051', 'FED052', 'FED053', 'FED054', 'FED055', 'FED056', 'FED057', 'FED058', 'FED059', 'FED060', 'FED061', 'FED062', 'FED063', 'FED064', 'FED065', 'FED066', 'FED067', 'FED068']\n",
      "\n",
      "\n",
      "That leaves a total of  61 remaining subjects.\n",
      "\n",
      "\n"
     ]
    }
   ],
   "source": [
    "# This builds the full data-structure, including\n",
    "# 1. initial parameter and covariate sets\n",
    "# 2. pre-processing settings and additional parameters-induced changes to data\n",
    "\n",
    "%run fMRI_prestats_data-struct.ipynb"
   ]
  },
  {
   "cell_type": "code",
   "execution_count": 2,
   "metadata": {
    "tags": []
   },
   "outputs": [],
   "source": [
    "# Delete all variables in the current namespace from globals except those defined at the initiation of the data structure\n",
    "for var in dir():\n",
    "    if (var != 'data_varspace_init' and var not in data_varspace_init):\n",
    "        #print(var, \" will be deleted from this notebook's global namespace\")\n",
    "        del globals()[var]"
   ]
  },
  {
   "cell_type": "code",
   "execution_count": 3,
   "metadata": {
    "code_folding": [],
    "collapsed": true,
    "jupyter": {
     "outputs_hidden": true
    }
   },
   "outputs": [
    {
     "name": "stdout",
     "output_type": "stream",
     "text": [
      "{'files': ['/fMRI/FED026/FMRI_0010_20150211171144.json', '/fMRI/FED026/FMRI_0010_20150211171144.nii', '/fMRI/FED026/FMRI_0010_20150211171144_distcor.nii', '/fMRI/FED026/FMRI_distcor_effect.nii', '/fMRI/FED026/FMRI_mc-ri-s5-cr-m-in.nii.gz', '/fMRI/FED026/FMRI_mc-ri-s5-cr-m-in2x-hp.nii.gz', '/fMRI/FED026/FMRI_mc-ri-s5-cr-m-in2x.nii.gz', '/fMRI/FED026/FMRI_mc-ri-s5-cr-m.nii.gz', '/fMRI/FED026/FMRI_mc-ri-s5-cr.nii.gz', '/fMRI/FED026/FMRI_mc-ri-s5-cr_mean.nii.gz', '/fMRI/FED026/FMRI_mc-ri-s5.nii.gz', '/fMRI/FED026/FMRI_mc-ri-s5.nii.gz_cr-matrix', '/fMRI/FED026/FMRI_mc-ri-s5.nii.gz_usan_size.nii.gz', '/fMRI/FED026/FMRI_mc-ri-s8.nii.gz', '/fMRI/FED026/FMRI_mc-ri-s8.nii.gz_usan_size.nii.gz', '/fMRI/FED026/FMRI_mc-ri.nii.gz', '/fMRI/FED026/FMRI_mc-ri_mean.nii.gz', '/fMRI/FED026/FMRI_mc.nii.gz', '/fMRI/FED026/FMRI_mc.nii.gz.par', '/fMRI/FED026/FMRI_mc.nii.gz_disp.png', '/fMRI/FED026/FMRI_mc_mask.nii.gz', '/fMRI/FED026/FMRI_mc_masked.nii.gz', '/fMRI/FED026/FMRI_mc_mean.nii.gz', '/fMRI/FED026/FMRI_mc_overlay.nii.gz', '/fMRI/FED026/FMRI_robintthresh.nii.gz', '/fMRI/FED026/FMRI_robintthresh_dil.nii.gz', '/fMRI/FED026/GMtpm-cr_mask.nii.gz', '/fMRI/FED026/GMtpm-cr_mask_dil33.nii.gz', '/fMRI/FED026/GMtpm-cr_mask_wholebrain.nii.gz', '/fMRI/FED026/GMtpm-robint_mask.nii.gz', '/fMRI/FED026/GMtpm-robint_mask_dil33.nii.gz', '/fMRI/FED026/GRE_FIELD_MAPPING_0006_20150211171144_e1.json', '/fMRI/FED026/GRE_FIELD_MAPPING_0006_20150211171144_e1.nii', '/fMRI/FED026/GRE_FIELD_MAPPING_0006_20150211171144_e2.json', '/fMRI/FED026/GRE_FIELD_MAPPING_0006_20150211171144_e2.nii', '/fMRI/FED026/GRE_FIELD_MAPPING_0007_20150211171144_e2_ph.json', '/fMRI/FED026/GRE_FIELD_MAPPING_0007_20150211171144_e2_ph.nii', '/fMRI/FED026/GRE_e1mag_bet_B.nii', '/fMRI/FED026/GRE_e1mag_bet_B_mask.nii', '/fMRI/FED026/T1_BETBf35.nii', '/fMRI/FED026/T1_BETBf35_mask.nii', '/fMRI/FED026/T1_BETBf35_overlay.nii', '/fMRI/FED026/T1_MPRAGE_0005_20150211171144.json', '/fMRI/FED026/T1_MPRAGE_0005_20150211171144.nii', '/fMRI/FED026/T1based-GM-tpm_mask.nii.gz', '/fMRI/FED026/T1based-WM-tpm_mask.nii.gz', '/VBM/FED026/DARTEL_newsegment/c1CON_FED026_T1_MPRAGE_SAG_ISO_0_9_0005_20150211171144.nii', '/VBM/FED026/DARTEL_newsegment/c2CON_FED026_T1_MPRAGE_SAG_ISO_0_9_0005_20150211171144.nii'], 'parameters': {'T1_ET': 0.00232, 'T1_RT': 2.3, 'T1_PES': 255, 'T1_IT': 0.9, 'T1_PB': 200, 'EPI_ET': 0.025, 'EPI_RT': 1.8, 'EPI_ETL': 33, 'EPI_PES': 67, 'EPI_PED': 'y-', 'EPI_DT': 3e-06, 'EPI_TRT': 0.01742, 'EPI_EES': 0.00026, 'EPI_PB': 2315, 'covariates':     Sub Num FED_XXX  Gender  Age  BDI 22 Score model_FED_ID\n",
      "20               26       1   18             0           26, 'modelparams':       Sub Num FED_XXX  Condition      RT  COTcorrect model_FED_ID\n",
      "3524               26          1  313.44    62608.11           26\n",
      "3511               26          1  232.91    77153.49           26\n",
      "3526               26          1  371.14   119004.84           26\n",
      "3510               26          1  361.14   121456.88           26\n",
      "3512               26          1  301.61   131148.23           26\n",
      "...               ...        ...     ...         ...          ...\n",
      "3676               26         12  341.76   393849.17           26\n",
      "3673               26         12  361.03   398669.83           26\n",
      "3681               26         12  295.37   407043.43           26\n",
      "3674               26         12  417.62   424241.00           26\n",
      "3682               26         12  519.28   469728.69           26\n",
      "\n",
      "[179 rows x 5 columns], 'robintrange': [0.0, 840.0], 'medianint': 679.0, 'usantuple': ['/fMRI/FED026/FMRI_mc-ri_mean.nii.gz', 679.0]}}\n",
      "{'files': ['/fMRI/FED015/FMRI_0010_20141202145526.json', '/fMRI/FED015/FMRI_0010_20141202145526.nii', '/fMRI/FED015/FMRI_distcor_effect.nii', '/fMRI/FED015/FMRI_mc-ri-s5-cr-m-in.nii.gz', '/fMRI/FED015/FMRI_mc-ri-s5-cr-m-in2x-hp.nii.gz', '/fMRI/FED015/FMRI_mc-ri-s5-cr-m-in2x.nii.gz', '/fMRI/FED015/FMRI_mc-ri-s5-cr-m.nii.gz', '/fMRI/FED015/FMRI_mc-ri-s5-cr.nii.gz', '/fMRI/FED015/FMRI_mc-ri-s5-cr_mean.nii.gz', '/fMRI/FED015/FMRI_mc-ri-s5.nii.gz', '/fMRI/FED015/FMRI_mc-ri-s5.nii.gz_cr-matrix', '/fMRI/FED015/FMRI_mc-ri-s5.nii.gz_usan_size.nii.gz', '/fMRI/FED015/FMRI_mc-ri-s8.nii.gz', '/fMRI/FED015/FMRI_mc-ri-s8.nii.gz_usan_size.nii.gz', '/fMRI/FED015/FMRI_mc-ri.nii.gz', '/fMRI/FED015/FMRI_mc-ri_mean.nii.gz', '/fMRI/FED015/FMRI_mc.nii.gz', '/fMRI/FED015/FMRI_mc.nii.gz.par', '/fMRI/FED015/FMRI_mc.nii.gz_disp.png', '/fMRI/FED015/FMRI_mc_mask.nii.gz', '/fMRI/FED015/FMRI_mc_masked.nii.gz', '/fMRI/FED015/FMRI_mc_mean.nii.gz', '/fMRI/FED015/FMRI_mc_overlay.nii.gz', '/fMRI/FED015/FMRI_robintthresh.nii.gz', '/fMRI/FED015/FMRI_robintthresh_dil.nii.gz', '/fMRI/FED015/GMtpm-cr_mask.nii.gz', '/fMRI/FED015/GMtpm-cr_mask_dil33.nii.gz', '/fMRI/FED015/GMtpm-cr_mask_wholebrain.nii.gz', '/fMRI/FED015/GMtpm-robint_mask.nii.gz', '/fMRI/FED015/GMtpm-robint_mask_dil33.nii.gz', '/fMRI/FED015/GRE_FIELD_MAPPING_0006_20141202145526_e1.json', '/fMRI/FED015/GRE_FIELD_MAPPING_0006_20141202145526_e2.json', '/fMRI/FED015/GRE_FIELD_MAPPING_0007_20141202145526_e2_ph.json', '/fMRI/FED015/GRE_e1mag_bet_B.nii', '/fMRI/FED015/GRE_e1mag_bet_B_mask.nii', '/fMRI/FED015/T1_BETBf35.nii', '/fMRI/FED015/T1_BETBf35_mask.nii', '/fMRI/FED015/T1_BETBf35_overlay.nii', '/fMRI/FED015/T1_MPRAGE_0005_20141202145526.json', '/fMRI/FED015/T1_MPRAGE_0005_20141202145526.nii', '/fMRI/FED015/T1based-GM-tpm_mask.nii.gz', '/fMRI/FED015/T1based-WM-tpm_mask.nii.gz', '/VBM/FED015/DARTEL_newsegment/c1CON_FED015_T1_MPRAGE_SAG_ISO_0_9_0005_20141202145526.nii', '/VBM/FED015/DARTEL_newsegment/c2CON_FED015_T1_MPRAGE_SAG_ISO_0_9_0005_20141202145526.nii'], 'parameters': {'T1_ET': 0.00232, 'T1_RT': 2.3, 'T1_PES': 255, 'T1_IT': 0.9, 'T1_PB': 200, 'EPI_ET': 0.025, 'EPI_RT': 1.8, 'EPI_ETL': 33, 'EPI_PES': 67, 'EPI_PED': 'y-', 'EPI_DT': 3e-06, 'EPI_TRT': 0.01742, 'EPI_EES': 0.00026, 'EPI_PB': 2315, 'covariates':    Sub Num FED_XXX  Gender  Age  BDI 22 Score model_FED_ID\n",
      "9               15       1   18             0           15, 'modelparams':       Sub Num FED_XXX  Condition      RT  COTcorrect model_FED_ID\n",
      "1406               15          1  386.01    13217.18           15\n",
      "1401               15          1  390.46    33450.60           15\n",
      "1408               15          1  475.79    86911.55           15\n",
      "1422               15          1  514.57   121690.36           15\n",
      "1403               15          1  319.17   139321.62           15\n",
      "...               ...        ...     ...         ...          ...\n",
      "1566               15         12  394.46   266576.97           15\n",
      "1569               15         12  332.12   283174.04           15\n",
      "1570               15         12  454.36   313949.52           15\n",
      "1577               15         12  411.82   349588.67           15\n",
      "1565               15         12  375.39   385358.63           15\n",
      "\n",
      "[178 rows x 5 columns], 'robintrange': [0.0, 901.0], 'medianint': 720.0, 'usantuple': ['/fMRI/FED015/FMRI_mc-ri_mean.nii.gz', 720.0]}}\n"
     ]
    }
   ],
   "source": [
    "# control results\n",
    "key = random.sample(data.keys(), 1)\n",
    "print(data[key[0]])\n",
    "print(data[\"FED015\"])"
   ]
  },
  {
   "cell_type": "markdown",
   "metadata": {},
   "source": [
    " Pre-configurations"
   ]
  },
  {
   "cell_type": "code",
   "execution_count": null,
   "metadata": {},
   "outputs": [],
   "source": [
    "# (Re-)activate nipype's INFO output for interfaces and workflows , as we want to see what's going on\n",
    "logging.getLogger('nipype.interface').setLevel(\"INFO\")\n",
    "logging.getLogger('nipype.workflow').setLevel(\"INFO\")"
   ]
  },
  {
   "cell_type": "code",
   "execution_count": 134,
   "metadata": {},
   "outputs": [],
   "source": [
    "# set default data ouput for all FSL operations\n",
    "fsl.FSLCommand.set_default_output_type('NIFTI_GZ')"
   ]
  },
  {
   "cell_type": "code",
   "execution_count": null,
   "metadata": {},
   "outputs": [],
   "source": [
    "# define additional directories and files\n",
    "grouptemplate_dir = f\"{basedir}MNI_templates/\""
   ]
  },
  {
   "cell_type": "markdown",
   "metadata": {},
   "source": [
    "# 2nd-level modelling"
   ]
  },
  {
   "cell_type": "code",
   "execution_count": null,
   "metadata": {},
   "outputs": [],
   "source": [
    "# Group FEDs etc. into Dep and Con conditions\n"
   ]
  },
  {
   "cell_type": "code",
   "execution_count": null,
   "metadata": {},
   "outputs": [],
   "source": [
    "# define input files\n",
    "cr_wbmasks = sorted([i for sub in FEDs\n",
    "                    for i in data[sub][\"files\"]\n",
    "                    if re.match(r'.*(?<=cr_wholebrain).nii.gz$', i)])"
   ]
  },
  {
   "cell_type": "code",
   "execution_count": null,
   "metadata": {},
   "outputs": [],
   "source": [
    "# Options for group analysis in SPM12 via nipype:\n",
    "# A factorial design, a multiple regression design, one-sample T-Test design, a paired T-Test design or a two-sample T-Test design.\n",
    "\n",
    "# Initiate the OneSampleTTestDesign node and\n",
    "# add group masks for anatomical reagions and different functional networks\n",
    "ttest_group = pe.Node(spm.TwoSampleTTestDesign(), name = \"group_model\")\n",
    "ttest_group.inputs.in_files = \n",
    "ttest_group.inputs.explicit_mask_file = \n",
    "ttest_group.inputs.\n",
    "# run it\n",
    "res = ttest_group.run()\n",
    "# print it\n",
    "print(res.outputs)"
   ]
  },
  {
   "cell_type": "code",
   "execution_count": null,
   "metadata": {},
   "outputs": [],
   "source": [
    "# Estimate 2nd level model\n",
    "ttest_group_modest = pe.Node(spm.EstimateModel(), name = \"ttest_2S_modest\")\n",
    "ttest_group_modest.inputs.spm_mat_file = \n",
    "# run it\n",
    "res = ttest_group_modest.run()\n",
    "# print it\n",
    "print(res.outputs)"
   ]
  },
  {
   "cell_type": "code",
   "execution_count": null,
   "metadata": {},
   "outputs": [],
   "source": [
    "# Specify 2nd level contrasts\n",
    "\n",
    "# (condition: numbers):\n",
    "# L-I-Neg: 1 L-I-Pos: 2 L-I-Neu: 3   R-I-Neg: 4 R-I-Pos: 5 R-I-Neu: 6\n",
    "# L-V-Neg: 7 L-V-Pos: 8 L-V-Neu: 9   R-V-Neg: 10 R-V-Pos: 11 R-V-Neu: 12\n",
    "\n",
    "# based on Koster et al. 2005:\n",
    "# ENHANCED CUE VALIDITY:\n",
    "# MDD: 1,4 - 7,10 (p<0.05); 2,5 - 8,11 (n.s.); 3,6 - 9,12 (n.s.)\n",
    "# Control: 1,4 - 7,10 (p<0.05); 2,5 - 8,11 (p<0.05); 3,6 - 9,12 (n.s.)\n",
    "# DIFFICULTY IN ATTENTIONAL DISENGAGEMENT:\n",
    "# MDD: 1,4 - 3,6 (p<0.05); 2,5 - 3,6 (n.s.)\n",
    "# Control: 1,4 - 3,6 (n.s.); 2,5 - 3,6 (n.s.)\n",
    "# ATTENTIONAL DISENGAGEMENT:\n",
    "# no distinguishing feature in previous publications -> None\n",
    "\n",
    "# For a 2nd-level two-sample t-test design in SPM12, this runs as follows:\n",
    "# Identify the regions of difference between MDD and Control (see above)\n",
    "#ecv1_g = [\"NegI-NegV\", \"T\", [\"MDD\", \"CON\"], [1, -1]]\n",
    "ecv2_g = [\"PosI-PosV\", \"T\", [\"MDD\", \"CON\"], [-1, 1]]  # CON expected to reach significance, MDD not\n",
    "#ecv3_g = [\"NeuI-NeuV\", \"T\", [\"MDD\", \"CON\"], [1, -1]]\n",
    "dad1_g = [\"NegI-NeuI\", \"T\", [\"MDD\", \"CON\"], [1, -1]]  # MDD expected to reach significance, CON not\n",
    "#dad2_g = [\"PosI-NeuI\", \"T\", [\"MDD\", \"CON\"], [1, -1]]\n",
    "ecvF_g = [\"Enhanced Cue Validity\", \"F\", [1, -1]]  # see, whether variations in any Enhanced-Cue-Validity contrast differ between MDD and CON\n",
    "dadF_g = [\"Difficulty Attentional Disengagement\", \"F\", [1, -1]]  # see, whether variations in any Difficulty-in-Attentional-Disengagement contrast differ between MDD and CON\n",
    "# put all together for 2nd level design\n",
    "groupcons = [ecv2_g, dad1_g, ecvF_g, dadF_g]\n",
    "\n",
    "\n",
    "# SAVE FOR DIFFERENT ATTEMPT, SHOULD THE ABOVE NOT WORK OUT^^\n",
    "# # For a 2nd-level two-sample t-test design in SPM12, this runs as follows:\n",
    "# ecv1_g = [\"NegI-NegV\", \"T\", [\"1\", \"4\", \"7\", \"10\"], [1, -1]]\n",
    "# ecv2_g = [\"PosI-PosV\", \"T\", [\"2\", \"5\", \"8\", \"11\"], [1, -1]]\n",
    "# ecv3_g = [\"NeuI-NeuV\", \"T\", [\"3\", \"6\", \"9\", \"12\"], [1, -1]]\n",
    "# dad1_g = [\"NegI-NeuI\", \"T\", [\"1\", \"4\", \"3\", \"6\"], [1, -1]]\n",
    "# dad2_g = [\"PosI-NeuI\", \"T\", [\"2\", \"5\", \"3\", \"6\"], [1, -1]]\n",
    "# ecvF_g = [\"Enhanced Cue Validity\", \"F\", [ecv1_g, ecv2_g, ecv3_g]]\n",
    "# dadF_g = [\"Difficulty Attentional Disengagement\", \"F\", [dad1_g, dad2_g]]\n",
    "# # put all together for 2nd level design\n",
    "# groupcons = [ecv1_g, ecv2_g, ecv3_g, dad1_g, dad2_g, ecvF_g, dadF_g]"
   ]
  },
  {
   "cell_type": "code",
   "execution_count": 4,
   "metadata": {},
   "outputs": [
    {
     "ename": "NameError",
     "evalue": "name 'np' is not defined",
     "output_type": "error",
     "traceback": [
      "\u001b[0;31m---------------------------------------------------------------------------\u001b[0m",
      "\u001b[0;31mNameError\u001b[0m                                 Traceback (most recent call last)",
      "\u001b[0;32m<ipython-input-4-ffe22e95e72c>\u001b[0m in \u001b[0;36m<module>\u001b[0;34m\u001b[0m\n\u001b[0;32m----> 1\u001b[0;31m \u001b[0ma\u001b[0m \u001b[0;34m=\u001b[0m \u001b[0mnp\u001b[0m\u001b[0;34m.\u001b[0m\u001b[0marray\u001b[0m\u001b[0;34m(\u001b[0m\u001b[0;34m(\u001b[0m\u001b[0;36m1\u001b[0m\u001b[0;34m,\u001b[0m \u001b[0;34m-\u001b[0m\u001b[0;36m1\u001b[0m\u001b[0;34m,\u001b[0m \u001b[0;34m-\u001b[0m\u001b[0;36m1\u001b[0m\u001b[0;34m,\u001b[0m \u001b[0;36m1\u001b[0m\u001b[0;34m)\u001b[0m\u001b[0;34m)\u001b[0m\u001b[0;34m\u001b[0m\u001b[0;34m\u001b[0m\u001b[0m\n\u001b[0m\u001b[1;32m      2\u001b[0m \u001b[0;34m\u001b[0m\u001b[0m\n\u001b[1;32m      3\u001b[0m \u001b[0mprint\u001b[0m\u001b[0;34m(\u001b[0m\u001b[0ma\u001b[0m\u001b[0;34m)\u001b[0m\u001b[0;34m\u001b[0m\u001b[0;34m\u001b[0m\u001b[0m\n",
      "\u001b[0;31mNameError\u001b[0m: name 'np' is not defined"
     ]
    }
   ],
   "source": [
    "# adapt weights for F testing on 2nd level above\n",
    "a = np.array((1, -1,\n",
    "              -1, 1))\n",
    "\n",
    "print(a)"
   ]
  },
  {
   "cell_type": "code",
   "execution_count": null,
   "metadata": {},
   "outputs": [],
   "source": [
    "# Estimate 2nd level contrasts\n",
    "ttest_group_conest = pe.Node(spm.EstimateContrast(), name = \"ttest_2S_conest\")\n",
    "ttest_group_conest.inputs.group_contrast = True\n",
    "ttest_group_conest.inputs.contrasts = groupcons\n",
    "ttest_group_conest.inputs.spm_mat_file = \n",
    "ttest_group_conest.inputs.beta_images = \n",
    "ttest_group_conest.inputs.residual_image = \n",
    "# run it\n",
    "res = ttest_group_conest.run()\n",
    "# print it\n",
    "print(res.outputs)"
   ]
  },
  {
   "cell_type": "code",
   "execution_count": null,
   "metadata": {},
   "outputs": [],
   "source": [
    "# Thresholding of output contrast\n",
    "# To close, we will use SPM Threshold. With this routine, we can set a specific voxel threshold (i.e. p<0.001)\n",
    "# and apply an FDR cluster threshold (i.e. p<0.05).  # EXPERIMENT WITH THESE VALUES\n",
    "\n",
    "fdr_thresh = pe.Node(spm.Threshold(), name = \"FDR_thresh\")\n",
    "fdr_thresh.inputs.contrast_index = 1\n",
    "fdr_thresh.inputs.use_topo_fdr = True\n",
    "fdr_thresh.inputs.use_fwe_correction = False\n",
    "fdr_thresh.inputs.extent_threshold = 0\n",
    "fdr_thresh.inputs.height_threshold = 0.001\n",
    "fdr_thresh.inputs.height_threshold_type = 'p-value'\n",
    "fdr_thresh.inputs.extent_fdr_p_threshold = 0.05\n",
    "fdr_thresh.inputs.spm_mat_file = \n",
    "fdr_thresh.inputs.stat_image = \n",
    "# run it\n",
    "res = fdr_thresh.run()\n",
    "# print it\n",
    "print(res.outputs)"
   ]
  }
 ],
 "metadata": {
  "kernelspec": {
   "display_name": "Python [conda env:neuro] *",
   "language": "python",
   "name": "conda-env-neuro-py"
  },
  "language_info": {
   "codemirror_mode": {
    "name": "ipython",
    "version": 3
   },
   "file_extension": ".py",
   "mimetype": "text/x-python",
   "name": "python",
   "nbconvert_exporter": "python",
   "pygments_lexer": "ipython3",
   "version": "3.7.10"
  }
 },
 "nbformat": 4,
 "nbformat_minor": 4
}
