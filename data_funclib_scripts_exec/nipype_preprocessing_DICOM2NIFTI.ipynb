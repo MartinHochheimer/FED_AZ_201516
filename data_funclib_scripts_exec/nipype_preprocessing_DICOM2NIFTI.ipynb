{
 "cells": [
  {
   "cell_type": "markdown",
   "metadata": {},
   "source": [
    "# Convert DICOM to NIFTI"
   ]
  },
  {
   "cell_type": "code",
   "execution_count": 1,
   "metadata": {},
   "outputs": [
    {
     "name": "stdout",
     "output_type": "stream",
     "text": [
      "200106-11:50:23,828 nipype.utils INFO:\n",
      "\t Running nipype version 1.4.0-dev (latest: 1.4.0)\n"
     ]
    }
   ],
   "source": [
    "# import everything you need\n",
    "from nipype.interfaces.dcm2nii import Dcm2niix\n",
    "from nipype import Node, Workflow\n",
    "import os\n",
    "# from custom file\n"
   ]
  },
  {
   "cell_type": "code",
   "execution_count": 2,
   "metadata": {},
   "outputs": [],
   "source": [
    "### define useful functions\n",
    "\n",
    "# get subject directories from parent directory\n",
    "def get_subdirs(dir):\n",
    "    subdirs=list()\n",
    "    for i in os.listdir(dir):\n",
    "        if os.path.isdir(os.path.join(dir, i)):\n",
    "            subdirs.append(os.path.join(dir, i))\n",
    "    return sorted(subdirs)"
   ]
  },
  {
   "cell_type": "code",
   "execution_count": 3,
   "metadata": {},
   "outputs": [
    {
     "name": "stdout",
     "output_type": "stream",
     "text": [
      "['/VBM/FED006', '/VBM/FED007', '/VBM/FED008', '/VBM/FED009', '/VBM/FED010', '/VBM/FED011', '/VBM/FED012', '/VBM/FED013', '/VBM/FED014', '/VBM/FED015', '/VBM/FED016', '/VBM/FED017', '/VBM/FED018', '/VBM/FED019', '/VBM/FED020', '/VBM/FED021', '/VBM/FED022', '/VBM/FED023', '/VBM/FED024', '/VBM/FED025', '/VBM/FED026', '/VBM/FED027', '/VBM/FED028', '/VBM/FED029', '/VBM/FED030', '/VBM/FED031', '/VBM/FED032', '/VBM/FED033', '/VBM/FED034', '/VBM/FED035', '/VBM/FED036', '/VBM/FED037', '/VBM/FED038', '/VBM/FED039', '/VBM/FED040', '/VBM/FED041', '/VBM/FED042', '/VBM/FED043', '/VBM/FED044', '/VBM/FED045', '/VBM/FED046', '/VBM/FED047', '/VBM/FED048', '/VBM/FED050', '/VBM/FED051', '/VBM/FED052', '/VBM/FED053', '/VBM/FED054', '/VBM/FED055', '/VBM/FED056', '/VBM/FED057', '/VBM/FED058', '/VBM/FED059', '/VBM/FED060', '/VBM/FED061', '/VBM/FED062', '/VBM/FED063', '/VBM/FED064', '/VBM/FED065', '/VBM/FED066', '/VBM/FED067', '/VBM/FED068']\n"
     ]
    }
   ],
   "source": [
    "# get dir-list\n",
    "subdirs=get_subdirs(\"/VBM/\")\n",
    "print(subdirs)"
   ]
  },
  {
   "cell_type": "code",
   "execution_count": 4,
   "metadata": {},
   "outputs": [],
   "source": [
    "# get sequence-list\n",
    "sequencedirs=list()\n",
    "for i in subdirs:\n",
    "    for j in os.listdir(i):\n",
    "        if os.path.isdir(os.path.join(i, j)):\n",
    "            sequencedirs.append(os.path.join(i, j))\n",
    "            \n",
    "# sort the list entries\n",
    "sequencedirs=sorted(sequencedirs)"
   ]
  },
  {
   "cell_type": "code",
   "execution_count": 9,
   "metadata": {},
   "outputs": [
    {
     "name": "stdout",
     "output_type": "stream",
     "text": [
      "/ /\n",
      "V V\n",
      "B B\n",
      "M M\n",
      "/ /\n",
      "F F\n",
      "E E\n",
      "D D\n",
      "0 0\n",
      "0 0\n",
      "7 7\n"
     ]
    }
   ],
   "source": [
    "# use sequence-list as source_dir and save output of converter in parent dir\n",
    "\n",
    "# iterate over sequence and subject dirs, create nodes and run them to create NIFTI files\n",
    "for i,j in zip(sequencedirs, subdirs):\n",
    "    print(i,j)\n",
    "    # create DICOM-to-NIFTI converter node\n",
    "    converter=Node(Dcm2niix(), name='converter')\n",
    "    converter.inputs.compress='n' # do not compress -> SPM options etc.\n",
    "    converter.inputs.source_dir=i\n",
    "    converter.inputs.output_dir=j\n",
    "    converter.run()"
   ]
  },
  {
   "cell_type": "markdown",
   "metadata": {},
   "source": [
    "For testing or re-doing single subjects:"
   ]
  },
  {
   "cell_type": "code",
   "execution_count": 5,
   "metadata": {},
   "outputs": [
    {
     "name": "stdout",
     "output_type": "stream",
     "text": [
      "/VBM/FED007/T1_MPRAGE_SAG_ISO_0_9_0005 /VBM/FED007\n"
     ]
    }
   ],
   "source": [
    "# print sequencedirs + subdirs and crop, if testing\n",
    "sequencedir=sequencedirs[2]\n",
    "subdir=subdirs[1]\n",
    "\n",
    "print(sequencedirs, subdirs)"
   ]
  },
  {
   "cell_type": "code",
   "execution_count": 17,
   "metadata": {},
   "outputs": [
    {
     "name": "stdout",
     "output_type": "stream",
     "text": [
      "200106-12:08:23,785 nipype.workflow INFO:\n",
      "\t [Node] Setting-up \"converter\" in \"/tmp/tmpr2rv491o/converter\".\n",
      "200106-12:08:23,790 nipype.workflow INFO:\n",
      "\t [Node] Running \"converter\" (\"nipype.interfaces.dcm2nii.Dcm2niix\"), a CommandLine Interface with command:\n",
      "dcm2niix -b y -z n -x n -t n -m n -o /VBM/FED007 -s n -v n /VBM/FED007/T1_MPRAGE_SAG_ISO_0_9_0005\n",
      "200106-12:08:24,461 nipype.interface INFO:\n",
      "\t stdout 2020-01-06T12:08:24.461805:Chris Rorden's dcm2niiX version v1.0.20190902  (JP2:OpenJPEG) GCC6.3.0 (64-bit Linux)\n",
      "200106-12:08:24,463 nipype.interface INFO:\n",
      "\t stdout 2020-01-06T12:08:24.461805:Found 192 DICOM file(s)\n",
      "200106-12:08:24,463 nipype.interface INFO:\n",
      "\t stdout 2020-01-06T12:08:24.461805:Convert 192 DICOM as /VBM/FED007/T1_MPRAGE_SAG_ISO_0_9_0005_t1_mprage_sag_iso_0.9_20141107104226_5 (256x256x192x1)\n",
      "200106-12:08:24,712 nipype.interface INFO:\n",
      "\t stdout 2020-01-06T12:08:24.712417:Conversion required 0.798372 seconds (0.576451 for core code).\n",
      "200106-12:08:24,766 nipype.workflow INFO:\n",
      "\t [Node] Finished \"converter\".\n"
     ]
    },
    {
     "data": {
      "text/plain": [
       "<nipype.interfaces.base.support.InterfaceResult at 0x7f5ed8187fd0>"
      ]
     },
     "execution_count": 17,
     "metadata": {},
     "output_type": "execute_result"
    }
   ],
   "source": [
    "# use sequence-list as source_dir and save output of converter in parent dir\n",
    "\n",
    "# insert the two variable values directly, create nodes and run them to create NIFTI files\n",
    "\n",
    "# create DICOM-to-NIFTI converter node\n",
    "converter=Node(Dcm2niix(), name='converter')\n",
    "converter.inputs.compress='n' # do not compress -> SPM options etc.\n",
    "converter.inputs.source_dir=sequencedir\n",
    "converter.inputs.output_dir=subdir\n",
    "converter.run()"
   ]
  }
 ],
 "metadata": {
  "kernelspec": {
   "display_name": "Python [conda env:neuro] *",
   "language": "python",
   "name": "conda-env-neuro-py"
  },
  "language_info": {
   "codemirror_mode": {
    "name": "ipython",
    "version": 3
   },
   "file_extension": ".py",
   "mimetype": "text/x-python",
   "name": "python",
   "nbconvert_exporter": "python",
   "pygments_lexer": "ipython3",
   "version": "3.7.3"
  }
 },
 "nbformat": 4,
 "nbformat_minor": 4
}
