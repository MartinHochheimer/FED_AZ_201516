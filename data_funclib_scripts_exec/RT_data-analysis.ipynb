{
 "cells": [
  {
   "cell_type": "code",
   "execution_count": 1,
   "id": "unavailable-hungary",
   "metadata": {
    "tags": []
   },
   "outputs": [],
   "source": [
    "# import everything you need\n",
    "import numpy as np\n",
    "import scipy as sp\n",
    "import pandas as pd\n",
    "# activate inline magics\n",
    "%matplotlib inline \n",
    "import matplotlib.pyplot as plt\n",
    "import matplotlib.image as mpl_img\n",
    "#import os, operator, re, json, random\n",
    "#from functools import reduce\n",
    "#from itertools import zip_longest, tee"
   ]
  },
  {
   "cell_type": "markdown",
   "id": "developing-european",
   "metadata": {},
   "source": [
    "Define neccesary parameters"
   ]
  },
  {
   "cell_type": "code",
   "execution_count": 2,
   "id": "designed-appendix",
   "metadata": {},
   "outputs": [],
   "source": [
    "data_file = \"FED_fMRI_fullcodesfixed_final.xls\"\n",
    "covariate_file = \"FED_Subject_Covariates.xls\""
   ]
  },
  {
   "cell_type": "markdown",
   "id": "golden-jumping",
   "metadata": {},
   "source": [
    "Create the neccessary factors and sort all variables appropriately"
   ]
  },
  {
   "cell_type": "code",
   "execution_count": 3,
   "id": "brutal-drilling",
   "metadata": {
    "tags": []
   },
   "outputs": [],
   "source": [
    "# extract - data from list in .xls file(s)\n",
    "# read relevant content\n",
    "anova = pd.read_excel(data_file, sheet_name=\"Sheet1\",\n",
    "                     usecols = ['Subject', 'Condition', 'RT'])\n",
    "covariates = pd.read_excel(covariate_file, sheet_name=\"analysis\",\n",
    "                           usecols = ['FED_ID', 'BDI_22_Score', 'Gender', 'Age', 'Race'])\n",
    "\n",
    "# remove first six subjects\n",
    "anova = anova[(anova.Subject.isin(range(7, 69)))]\n",
    "covariates = covariates[(covariates.FED_ID.isin(range(7, 69)))]\n",
    "\n",
    "# create variables cue_valence and cue_validity after Condition and assign values according to trial codings (1=neg, 2=pos, 3=neu) (1=valid, 2=invalid)\n",
    "neg, pos, neu = [1, 4, 7, 10], [2, 5, 8, 11], [3, 6, 9, 12]\n",
    "valid, invalid = [val for val in range(7, 13)], [val for val in range(1, 7)]\n",
    "# copy Condition list and replace\n",
    "anova['Cue_Valence'] = anova['Condition']\n",
    "for valence, index in zip([neg, pos, neu], [1, 2, 3]):\n",
    "    anova.loc[anova['Condition'].isin(valence), 'Cue_Valence'] = index\n",
    "\n",
    "anova['Cue_Validity'] = anova['Condition']\n",
    "for validity, index in zip([valid, invalid], [1, 2]):\n",
    "    anova.loc[anova['Condition'].isin(validity), 'Cue_Validity'] = index\n",
    "\n",
    "# create variable DStatus after Subject and replace each subject value with the corresponding group identity\n",
    "# separate covariate FED_IDs by BDI22\n",
    "mdd = covariates.FED_ID[covariates['BDI_22_Score'] == 1]\n",
    "control = covariates.FED_ID[covariates['BDI_22_Score'] == 0]\n",
    "# copy Subject list and replace\n",
    "anova['DStatus'] = anova['Subject']\n",
    "anova.loc[anova['Subject'].isin(mdd), 'DStatus'] = 1\n",
    "anova.loc[anova['Subject'].isin(control), 'DStatus'] = 0\n",
    "\n",
    "# sort values by DStatus, valence and validity (by factor, starting with largest increment)\n",
    "anova.sort_values(['DStatus', 'Cue_Valence', 'Cue_Validity'], inplace = True)"
   ]
  },
  {
   "cell_type": "markdown",
   "id": "missing-asian",
   "metadata": {},
   "source": [
    "Build two-way ANOVA design and calculate the F-test"
   ]
  },
  {
   "cell_type": "code",
   "execution_count": null,
   "id": "unlikely-ownership",
   "metadata": {},
   "outputs": [],
   "source": []
  },
  {
   "cell_type": "markdown",
   "id": "accompanied-terrace",
   "metadata": {},
   "source": [
    "Plot two-way ANOVA results"
   ]
  },
  {
   "cell_type": "code",
   "execution_count": null,
   "id": "indian-institution",
   "metadata": {},
   "outputs": [],
   "source": []
  },
  {
   "cell_type": "markdown",
   "id": "elder-class",
   "metadata": {},
   "source": [
    "Calculate Enhanced cue Validity (ECV), Attentional Engagement (AE), and Difficulty in Attentional Disengagement (DAD) - subject means"
   ]
  },
  {
   "cell_type": "code",
   "execution_count": 97,
   "id": "flush-cattle",
   "metadata": {
    "tags": []
   },
   "outputs": [],
   "source": [
    "# create RT means for smallest increment (validity)\n",
    "# copy data to avoid accidents\n",
    "eect_ttest = anova.copy()\n",
    "\n",
    "# sort data by subject, valence and validity\n",
    "eect_ttest.sort_values(['Subject', 'Cue_Valence', 'Cue_Validity'], inplace = True)\n",
    "\n",
    "# list RT by subject, valence and validity, respectively\n",
    "rts = {}\n",
    "for sub in eect_ttest['Subject'].unique():\n",
    "    for valence in eect_ttest['Cue_Valence'].unique():\n",
    "        for valid in eect_ttest['Cue_Validity'].unique():\n",
    "            rts[f\"{sub}_{valence}_{valid}\"] = eect_ttest.loc[(eect_ttest['Subject'] == sub)\n",
    "                                                            & (eect_ttest['Cue_Valence'] == valence) \n",
    "                                                            & (eect_ttest['Cue_Validity'] == valid), 'RT'].tolist()"
   ]
  },
  {
   "cell_type": "code",
   "execution_count": null,
   "id": "varied-hundred",
   "metadata": {},
   "outputs": [],
   "source": [
    "# calculate ECV for each valence per subject\n",
    "mean_ecv = {}\n",
    "# start at subject index level\n",
    "for sub in [num for num in range(7, 69)]:\n",
    "    # iterate across valences\n",
    "    for val in [1, 2, 3]:\n",
    "        # create list for validity\n",
    "        validity = []\n",
    "        # go through combinations of conditions by subject\n",
    "        for combo in rts.keys():\n",
    "            # fix the subject ID\n",
    "            if (int(combo.split('_', 1)[0]) == sub and int(combo.split('_', 2)[1]) == val):\n",
    "                # collect validities\n",
    "                validity.append(combo)\n",
    "        # calculate the mean of the inv-v difference by valence\n",
    "        mean_ecv[f\"{sub}_{val}\"] = np.mean([inv - v for inv, v in zip(rts[validity[1]], rts[validity[0]])])"
   ]
  },
  {
   "cell_type": "code",
   "execution_count": null,
   "id": "sexual-cincinnati",
   "metadata": {},
   "outputs": [],
   "source": [
    "# calculate AE for each valence per subject\n",
    "mean_ae = {}\n",
    "# start at subject index level\n",
    "for sub in [num for num in range(7, 69)]:\n",
    "    # iterate across valences\n",
    "    for val in [1, 2, 3]:\n",
    "        # create list for validity\n",
    "        validity = []\n",
    "        # go through combinations of conditions by subject\n",
    "        for combo in rts.keys():\n",
    "            # fix the subject ID\n",
    "            if (int(combo.split('_', 1)[0]) == sub and int(combo.split('_', 2)[1]) == val):\n",
    "                # collect validities\n",
    "                validity.append(combo)\n",
    "        # calculate the mean of the inv-v difference by valence\n",
    "        mean_ae[f\"{sub}_{val}\"] = np.mean([vneu - vemo for vneu, vemo in zip(rts[validity[1]], rts[validity[0]])])"
   ]
  },
  {
   "cell_type": "code",
   "execution_count": null,
   "id": "satisfied-struggle",
   "metadata": {},
   "outputs": [],
   "source": [
    "# calculate DAD for each valence per subject\n",
    "mean_dad = {}\n",
    "# start at subject index level\n",
    "for sub in [num for num in range(7, 69)]:\n",
    "    # iterate across valences\n",
    "    for val in [1, 2, 3]:\n",
    "        # create list for validity\n",
    "        validity = []\n",
    "        # go through combinations of conditions by subject\n",
    "        for combo in rts.keys():\n",
    "            # fix the subject ID\n",
    "            if (int(combo.split('_', 1)[0]) == sub and int(combo.split('_', 2)[1]) == val):\n",
    "                # collect validities\n",
    "                validity.append(combo)\n",
    "        # calculate the mean of the inv-v difference by valence\n",
    "        mean_dad[f\"{sub}_{val}\"] = np.mean([invemo - invneu for invemo, invneu in zip(rts[validity[1]], rts[validity[0]])])"
   ]
  },
  {
   "cell_type": "code",
   "execution_count": null,
   "id": "expanded-strike",
   "metadata": {},
   "outputs": [],
   "source": [
    "\n",
    "\n",
    "# # transfer to pd.dataframe\n",
    "# rts_pd = (pd.DataFrame.from_dict(rts, orient='index', columns=['mean_RT']).rename_axis('condition').reset_index())"
   ]
  },
  {
   "cell_type": "code",
   "execution_count": 95,
   "id": "grave-dominican",
   "metadata": {
    "collapsed": true,
    "jupyter": {
     "outputs_hidden": true
    },
    "tags": []
   },
   "outputs": [
    {
     "name": "stdout",
     "output_type": "stream",
     "text": [
      "dict_items([('7_1', -14.277241379310341), ('7_2', 10.638333333333337), ('7_3', 10.128666666666675), ('8_1', 28.25827586206897), ('8_2', -13.365), ('8_3', -21.97833333333334), ('9_1', 16.102413793103448), ('9_2', -15.075666666666667), ('9_3', -40.04766666666668), ('10_1', 34.36965517241379), ('10_2', -6.903666666666677), ('10_3', -18.759333333333334), ('11_1', 20.67896551724138), ('11_2', 27.865999999999996), ('11_3', 13.378333333333336), ('12_1', 35.43206896551724), ('12_2', -3.2273333333333416), ('12_3', -10.084999999999999), ('13_1', 53.188965517241385), ('13_2', -31.712666666666678), ('13_3', 25.831999999999994), ('14_1', -51.30827586206895), ('14_2', -39.513333333333335), ('14_3', -46.84033333333333), ('15_1', 54.70275862068966), ('15_2', 20.813999999999997), ('15_3', 34.77299999999999), ('16_1', 9.54827586206897), ('16_2', 19.568333333333328), ('16_3', -34.38000000000001), ('17_1', 7.442068965517244), ('17_2', -19.795333333333318), ('17_3', 1.8326666666666682), ('18_1', 45.64413793103449), ('18_2', -1.099333333333332), ('18_3', -1.81833333333333), ('19_1', 6.040689655172418), ('19_2', -15.576333333333327), ('19_3', -24.394333333333325), ('20_1', -10.347241379310343), ('20_2', -21.473000000000003), ('20_3', -36.31366666666667), ('21_1', 17.744482758620688), ('21_2', -25.24466666666668), ('21_3', 9.513999999999989), ('22_1', -22.302758620689662), ('22_2', -38.13800000000001), ('22_3', -31.158000000000005), ('23_1', 24.33448275862069), ('23_2', 5.671), ('23_3', 44.95366666666667), ('24_1', 26.828620689655178), ('24_2', -3.4353333333333333), ('24_3', 11.014333333333335), ('25_1', -13.355172413793104), ('25_2', -19.328333333333337), ('25_3', 10.099999999999996), ('26_1', 30.38172413793104), ('26_2', 19.957000000000004), ('26_3', -15.011999999999997), ('27_1', 21.34344827586207), ('27_2', -14.429333333333338), ('27_3', -15.91533333333334), ('28_1', -110.26034482758621), ('28_2', -65.37533333333334), ('28_3', -67.12266666666666), ('29_1', -72.6710344827586), ('29_2', 83.225), ('29_3', -25.68733333333333), ('30_1', 21.83620689655172), ('30_2', 12.72533333333333), ('30_3', -16.92433333333334), ('31_1', -15.722413793103454), ('31_2', 32.723), ('31_3', 5.080000000000001), ('32_1', 26.513103448275864), ('32_2', -16.455333333333332), ('32_3', -32.97466666666667), ('33_1', 25.761724137931036), ('33_2', -19.044666666666675), ('33_3', -32.059333333333335), ('34_1', 41.371724137931025), ('34_2', -64.15866666666666), ('34_3', -16.830333333333332), ('35_1', -30.812758620689657), ('35_2', -58.07933333333333), ('35_3', -37.01566666666666), ('36_1', 5.372413793103454), ('36_2', -23.901), ('36_3', -2.1059999999999954), ('37_1', 5.158275862068978), ('37_2', -65.738), ('37_3', -32.833000000000006), ('38_1', 54.57896551724138), ('38_2', -17.026), ('38_3', 10.105333333333336), ('39_1', 26.653448275862058), ('39_2', -25.48766666666667), ('39_3', -6.229333333333339), ('40_1', 20.19172413793104), ('40_2', 12.230000000000011), ('40_3', 34.59233333333332), ('41_1', 19.057241379310344), ('41_2', -8.863666666666665), ('41_3', 40.527), ('42_1', -87.57931034482758), ('42_2', -8.91933333333333), ('42_3', 39.04666666666666), ('43_1', 17.619655172413783), ('43_2', 25.487000000000005), ('43_3', 4.3523333333333385), ('44_1', 126.30206896551725), ('44_2', 26.674), ('44_3', 71.76733333333333), ('45_1', 24.730689655172416), ('45_2', -3.690333333333328), ('45_3', -9.769), ('46_1', 167.60172413793103), ('46_2', -88.27000000000001), ('46_3', -19.524333333333324), ('47_1', 6.426206896551735), ('47_2', -5.529999999999998), ('47_3', 7.250666666666672), ('48_1', 6.424827586206894), ('48_2', -26.026999999999997), ('48_3', -86.41066666666666), ('49_1', -23.253793103448274), ('49_2', -60.59000000000001), ('49_3', -61.25066666666667), ('50_1', 17.104827586206902), ('50_2', -12.147666666666662), ('50_3', -4.59466666666667), ('51_1', 31.68517241379309), ('51_2', -12.830666666666666), ('51_3', -20.34533333333333), ('52_1', -19.21241379310345), ('52_2', -30.002666666666673), ('52_3', -59.14733333333332), ('53_1', 38.00413793103448), ('53_2', -10.664999999999997), ('53_3', 8.141333333333332), ('54_1', 17.347241379310347), ('54_2', -9.265333333333338), ('54_3', -15.566), ('55_1', 21.95103448275862), ('55_2', -45.31933333333333), ('55_3', -46.85066666666667), ('56_1', 45.22758620689656), ('56_2', -26.50433333333334), ('56_3', -3.5536666666666643), ('57_1', 33.45862068965517), ('57_2', -17.329999999999988), ('57_3', -17.388666666666666), ('58_1', 94.11448275862068), ('58_2', -4.730333333333325), ('58_3', -0.6063333333333427), ('59_1', 34.124827586206905), ('59_2', -65.51500000000001), ('59_3', 2.6693333333333396), ('60_1', 34.04931034482759), ('60_2', -4.990000000000007), ('60_3', -6.267999999999999), ('61_1', -44.746206896551726), ('61_2', -73.04766666666667), ('61_3', -52.96566666666668), ('62_1', 2.0796551724137924), ('62_2', -7.050333333333333), ('62_3', -5.731999999999999), ('63_1', -32.56068965517241), ('63_2', 21.496000000000002), ('63_3', -3.014999999999994), ('64_1', -27.83448275862068), ('64_2', 44.995666666666665), ('64_3', 28.70533333333333), ('65_1', 49.51448275862071), ('65_2', 12.520999999999994), ('65_3', 33.974000000000004), ('66_1', 53.60724137931035), ('66_2', -44.623000000000005), ('66_3', -15.555999999999994), ('67_1', 20.727241379310342), ('67_2', -27.44866666666666), ('67_3', -12.120333333333338), ('68_1', 62.07206896551724), ('68_2', 13.543000000000006), ('68_3', -21.624666666666666)])\n"
     ]
    }
   ],
   "source": [
    "# pd.set_option('display.max_rows', None)\n",
    "print(mean_ecv.items())"
   ]
  },
  {
   "cell_type": "code",
   "execution_count": null,
   "id": "fewer-speech",
   "metadata": {},
   "outputs": [],
   "source": []
  }
 ],
 "metadata": {
  "kernelspec": {
   "display_name": "Python [conda env:neuro] *",
   "language": "python",
   "name": "conda-env-neuro-py"
  },
  "language_info": {
   "codemirror_mode": {
    "name": "ipython",
    "version": 3
   },
   "file_extension": ".py",
   "mimetype": "text/x-python",
   "name": "python",
   "nbconvert_exporter": "python",
   "pygments_lexer": "ipython3",
   "version": "3.7.10"
  }
 },
 "nbformat": 4,
 "nbformat_minor": 5
}
