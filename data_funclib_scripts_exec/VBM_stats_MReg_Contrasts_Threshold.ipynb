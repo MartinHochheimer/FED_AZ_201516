{
 "cells": [
  {
   "cell_type": "markdown",
   "metadata": {},
   "source": [
    "Gather necessary pre-requisites:"
   ]
  },
  {
   "cell_type": "code",
   "execution_count": 1,
   "metadata": {},
   "outputs": [
    {
     "name": "stdout",
     "output_type": "stream",
     "text": [
      "200226-13:56:35,628 nipype.utils INFO:\n",
      "\t Running nipype version 1.5.0-dev (latest: 1.4.2)\n"
     ]
    }
   ],
   "source": [
    "# import everything you need\n",
    "from nipype import Node, Workflow\n",
    "import nipype.interfaces.spm as spm\n",
    "from nipype.interfaces.base import CommandLine\n",
    "from nilearn import image as nlimg\n",
    "from nilearn import masking as nlmask\n",
    "from nilearn.plotting import plot_anat, plot_epi, plot_roi\n",
    "import numpy as np\n",
    "import matplotlib.pyplot as plt\n",
    "import pandas as pd\n",
    "import nibabel as nb\n",
    "import os, re\n",
    "from itertools import zip_longest"
   ]
  },
  {
   "cell_type": "code",
   "execution_count": 2,
   "metadata": {},
   "outputs": [],
   "source": [
    "# define useful functions\n",
    "# define show-slices function\n",
    "def show_slices(slices):\n",
    "    \"\"\" Function to display row of image slices \"\"\"\n",
    "    fig, axes = plt.subplots(1, len(slices))\n",
    "    for i, slice in enumerate(slices):\n",
    "        axes[i].imshow(slice.T, cmap=\"gray\", origin=\"lower\")\n",
    "# add suptitle via plt.suptitle\n",
    "        \n",
    "# check size of items and delete them when above a certain threshold\n",
    "from sys import getsizeof # function is not fully indicative -> look for better option\n",
    "def check_itemsize(items):\n",
    "    for i in items:\n",
    "        # return size of object in bytes\n",
    "        print(\"size of item\", i, \"is:\", getsizeof(i))\n",
    "        if getsizeof(i) > 10000: # think about dynamic coding for this\n",
    "            del i\n",
    "            print(\"deleted, object exceeded set threshold.\")\n",
    "        else:\n",
    "            print(\"retained, object is sufficiently small.\")"
   ]
  },
  {
   "cell_type": "markdown",
   "metadata": {},
   "source": [
    "Get files"
   ]
  },
  {
   "cell_type": "code",
   "execution_count": 3,
   "metadata": {},
   "outputs": [],
   "source": [
    "# set VBM analysis directory\n",
    "VBM_dir = \"/VBM/\"\n",
    "\n",
    "# get normalised GM/WM images to analyse in MultipleRegression model\n",
    "# change norm_dir to vary between GM and WM analysis\n",
    "norm_dir=\"/VBM/DARTEL_norm2mni_c1/\"\n",
    "\n",
    "# grep files according to regex\n",
    "images_mreg=[i for i in os.listdir(norm_dir) if re.match(r'(smwc.*\\d{14,}.*.nii)', i)]\n",
    "\n",
    "# turn filenames into full-path objects\n",
    "images_mreg=[os.path.join(norm_dir, i) for i in images_mreg]"
   ]
  },
  {
   "cell_type": "code",
   "execution_count": 4,
   "metadata": {
    "collapsed": true,
    "jupyter": {
     "outputs_hidden": true
    }
   },
   "outputs": [
    {
     "name": "stdout",
     "output_type": "stream",
     "text": [
      "['/VBM/DARTEL_norm2mni_c1/smwc1DEP_FED032_T1_MPRAGE_SAG_ISO_0_9_0005_20150313125246.nii', '/VBM/DARTEL_norm2mni_c1/smwc1CON_FED058_T1_MPRAGE_SAG_ISO_0_9_0005_20160217151251.nii', '/VBM/DARTEL_norm2mni_c1/smwc1CON_FED022_T1_MPRAGE_SAG_ISO_0_9_0005_20141211155503.nii', '/VBM/DARTEL_norm2mni_c1/smwc1DEP_FED011_T1_MPRAGE_SAG_ISO_0_9_0005_20141119161708.nii', '/VBM/DARTEL_norm2mni_c1/smwc1DEP_FED045_T1_MPRAGE_SAG_ISO_0_9_0005_20151105173027.nii', '/VBM/DARTEL_norm2mni_c1/smwc1CON_FED021_T1_MPRAGE_SAG_ISO_0_9_0005_20141211095930.nii', '/VBM/DARTEL_norm2mni_c1/smwc1DEP_FED030_T1_MPRAGE_SAG_ISO_0_9_0005_20150226154844.nii', '/VBM/DARTEL_norm2mni_c1/smwc1DEP_FED052_T1_MPRAGE_SAG_ISO_0_9_0005_20151203172751.nii', '/VBM/DARTEL_norm2mni_c1/smwc1DEP_FED055_T1_MPRAGE_SAG_ISO_0_9_0005_20151214092109.nii', '/VBM/DARTEL_norm2mni_c1/smwc1DEP_FED046_T1_MPRAGE_SAG_ISO_0_9_0005_20151106125904.nii', '/VBM/DARTEL_norm2mni_c1/smwc1DEP_FED029_T1_MPRAGE_SAG_ISO_0_9_0005_20150226091949.nii', '/VBM/DARTEL_norm2mni_c1/smwc1CON_FED019_T1_MPRAGE_SAG_ISO_0_9_0005_20141210090147.nii', '/VBM/DARTEL_norm2mni_c1/smwc1CON_FED067_T1_MPRAGE_SAG_ISO_0_9_0005_20160311133810.nii', '/VBM/DARTEL_norm2mni_c1/smwc1DEP_FED042_T1_MPRAGE_SAG_ISO_0_9_0005_20151013110112.nii', '/VBM/DARTEL_norm2mni_c1/smwc1CON_FED056_T1_MPRAGE_SAG_ISO_0_9_0005_20151215155556.nii', '/VBM/DARTEL_norm2mni_c1/smwc1CON_FED006_T1_MPRAGE_SAG_ISO_0_9_0005_20141106153429.nii', '/VBM/DARTEL_norm2mni_c1/smwc1CON_FED053_T1_MPRAGE_SAG_ISO_0_9_0005_20151208115820.nii', '/VBM/DARTEL_norm2mni_c1/smwc1CON_FED007_T1_MPRAGE_SAG_ISO_0_9_0005_20141107104226.nii', '/VBM/DARTEL_norm2mni_c1/smwc1DEP_FED059_T1_MPRAGE_SAG_ISO_0_9_0005_20160218100702.nii', '/VBM/DARTEL_norm2mni_c1/smwc1DEP_FED018_T1_MPRAGE_SAG_ISO_0_9_0005_20141208163153.nii', '/VBM/DARTEL_norm2mni_c1/smwc1CON_FED064_T1_MPRAGE_SAG_ISO_0_9_0005_20160309173936.nii', '/VBM/DARTEL_norm2mni_c1/smwc1CON_FED008_T1_MPRAGE_SAG_ISO_0_9_0005_20141112155009.nii', '/VBM/DARTEL_norm2mni_c1/smwc1CON_FED068_T1_MPRAGE_SAG_ISO_0_9_0005_20160331140317.nii', '/VBM/DARTEL_norm2mni_c1/smwc1CON_FED063_T1_MPRAGE_SAG_ISO_0_9_0005_20160308162043.nii', '/VBM/DARTEL_norm2mni_c1/smwc1CON_FED015_T1_MPRAGE_SAG_ISO_0_9_0005_20141202145526.nii', '/VBM/DARTEL_norm2mni_c1/smwc1DEP_FED037_T1_MPRAGE_SAG_ISO_0_9_0005_20150929162030.nii', '/VBM/DARTEL_norm2mni_c1/smwc1CON_FED050_T1_MPRAGE_SAG_ISO_0_9_0005_20151201165820.nii', '/VBM/DARTEL_norm2mni_c1/smwc1DEP_FED034_T1_MPRAGE_SAG_ISO_0_9_0005_20150909125805.nii', '/VBM/DARTEL_norm2mni_c1/smwc1DEP_FED035_T1_MPRAGE_SAG_ISO_0_9_0005_20150917120306.nii', '/VBM/DARTEL_norm2mni_c1/smwc1CON_FED017_T1_MPRAGE_SAG_ISO_0_9_0005_20141204151043.nii', '/VBM/DARTEL_norm2mni_c1/smwc1CON_FED026_T1_MPRAGE_SAG_ISO_0_9_0005_20150211171144.nii', '/VBM/DARTEL_norm2mni_c1/smwc1CON_FED065_T1_MPRAGE_SAG_ISO_0_9_0005_20160310090712.nii', '/VBM/DARTEL_norm2mni_c1/smwc1CON_FED023_T1_MPRAGE_SAG_ISO_0_9_0005_20141216144604.nii', '/VBM/DARTEL_norm2mni_c1/smwc1DEP_FED057_T1_MPRAGE_SAG_ISO_0_9_0005_20151216154455.nii', '/VBM/DARTEL_norm2mni_c1/smwc1CON_FED060_T1_MPRAGE_SAG_ISO_0_9_0005_20160224151260.nii', '/VBM/DARTEL_norm2mni_c1/smwc1DEP_FED048_T1_MPRAGE_SAG_ISO_0_9_0005_20151118152060.nii', '/VBM/DARTEL_norm2mni_c1/smwc1DEP_FED039_T1_MPRAGE_SAG_ISO_0_9_0005_20151001173950.nii', '/VBM/DARTEL_norm2mni_c1/smwc1DEP_FED014_T1_MPRAGE_SAG_ISO_0_9_0005_20141125153216.nii', '/VBM/DARTEL_norm2mni_c1/smwc1CON_FED061_T1_MPRAGE_SAG_ISO_0_9_0005_20160301111011.nii', '/VBM/DARTEL_norm2mni_c1/smwc1DEP_FED031_T1_MPRAGE_SAG_ISO_0_9_0005_20150310152650.nii', '/VBM/DARTEL_norm2mni_c1/smwc1DEP_FED051_T1_MPRAGE_SAG_ISO_0_9_0005_20151202153410.nii', '/VBM/DARTEL_norm2mni_c1/smwc1CON_FED062_T1_MPRAGE_SAG_ISO_0_9_0005_20160301164049.nii', '/VBM/DARTEL_norm2mni_c1/smwc1DEP_FED036_T1_MPRAGE_SAG_ISO_0_9_0005_20150924172133.nii', '/VBM/DARTEL_norm2mni_c1/smwc1CON_FED013_T1_MPRAGE_SAG_ISO_0_9_0005_20141125093955.nii', '/VBM/DARTEL_norm2mni_c1/smwc1DEP_FED027_T1_MPRAGE_SAG_ISO_0_9_0005_20150218162601.nii', '/VBM/DARTEL_norm2mni_c1/smwc1DEP_FED047_T1_MPRAGE_SAG_ISO_0_9_0005_20151116144126.nii', '/VBM/DARTEL_norm2mni_c1/smwc1DEP_FED040_T1_MPRAGE_SAG_ISO_0_9_0005_20151009111760.nii', '/VBM/DARTEL_norm2mni_c1/smwc1DEP_FED066_T1_MPRAGE_SAG_ISO_0_9_0005_20160310171152.nii', '/VBM/DARTEL_norm2mni_c1/smwc1DEP_FED044_T1_MPRAGE_SAG_ISO_0_9_0005_20151029121235.nii', '/VBM/DARTEL_norm2mni_c1/smwc1CON_FED025_T1_MPRAGE_SAG_ISO_0_9_0005_20150206123507.nii', '/VBM/DARTEL_norm2mni_c1/smwc1CON_FED024_T1_MPRAGE_SAG_ISO_0_9_0005_20150204145018.nii', '/VBM/DARTEL_norm2mni_c1/smwc1DEP_FED028_T1_MPRAGE_SAG_ISO_0_9_0005_20150219142148.nii', '/VBM/DARTEL_norm2mni_c1/smwc1CON_FED012_T1_MPRAGE_SAG_ISO_0_9_0005_20141124150148.nii', '/VBM/DARTEL_norm2mni_c1/smwc1DEP_FED033_T1_MPRAGE_SAG_ISO_0_9_0005_20150326151309.nii', '/VBM/DARTEL_norm2mni_c1/smwc1CON_FED016_T1_MPRAGE_SAG_ISO_0_9_0005_20141202164821.nii', '/VBM/DARTEL_norm2mni_c1/smwc1DEP_FED041_T1_MPRAGE_SAG_ISO_0_9_0005_20151009164129.nii', '/VBM/DARTEL_norm2mni_c1/smwc1CON_FED009_T1_MPRAGE_SAG_ISO_0_9_0005_20141117154954.nii', '/VBM/DARTEL_norm2mni_c1/smwc1CON_FED020_T1_MPRAGE_SAG_ISO_0_9_0005_20141210170232.nii', '/VBM/DARTEL_norm2mni_c1/smwc1CON_FED054_T1_MPRAGE_SAG_ISO_0_9_0005_20151208140706.nii', '/VBM/DARTEL_norm2mni_c1/smwc1DEP_FED038_T1_MPRAGE_SAG_ISO_0_9_0005_20151001125857.nii', '/VBM/DARTEL_norm2mni_c1/smwc1DEP_FED043_T1_MPRAGE_SAG_ISO_0_9_0005_20151015122011.nii', '/VBM/DARTEL_norm2mni_c1/smwc1CON_FED049_T1_MPRAGE_SAG_ISO_0_9_0009_20151123115353.nii'] 62\n"
     ]
    }
   ],
   "source": [
    "#print(\"Images where normalised only if included in study specific template!\")\n",
    "print(images_mreg, len(images_mreg))"
   ]
  },
  {
   "cell_type": "code",
   "execution_count": 5,
   "metadata": {},
   "outputs": [],
   "source": [
    "# group smwc1/2 images by condition\n",
    "dep_norm=[]\n",
    "con_norm=[]\n",
    "\n",
    "for i in images_mreg:\n",
    "    match_dep=re.match(r'.*DEP_.*.nii', i)\n",
    "    match_con=re.match(r'.*CON_.*.nii', i)\n",
    "    if match_dep:\n",
    "        dep_norm.append(match_dep.group(0))\n",
    "    elif match_con:\n",
    "        con_norm.append(match_con.group(0))\n",
    "    else:\n",
    "        print(\"item in images_mreg does not match regex pattern! Investigate ... \")\n",
    "        \n",
    "# sort lists by FED Nr.\n",
    "dep_norm = sorted(dep_norm)\n",
    "con_norm = sorted(con_norm)\n",
    "\n",
    "imreg_norm = dep_norm + con_norm"
   ]
  },
  {
   "cell_type": "code",
   "execution_count": 6,
   "metadata": {
    "collapsed": true,
    "jupyter": {
     "outputs_hidden": true
    }
   },
   "outputs": [
    {
     "name": "stdout",
     "output_type": "stream",
     "text": [
      "['/VBM/DARTEL_norm2mni_c1/smwc1DEP_FED011_T1_MPRAGE_SAG_ISO_0_9_0005_20141119161708.nii', '/VBM/DARTEL_norm2mni_c1/smwc1DEP_FED014_T1_MPRAGE_SAG_ISO_0_9_0005_20141125153216.nii', '/VBM/DARTEL_norm2mni_c1/smwc1DEP_FED018_T1_MPRAGE_SAG_ISO_0_9_0005_20141208163153.nii', '/VBM/DARTEL_norm2mni_c1/smwc1DEP_FED027_T1_MPRAGE_SAG_ISO_0_9_0005_20150218162601.nii', '/VBM/DARTEL_norm2mni_c1/smwc1DEP_FED028_T1_MPRAGE_SAG_ISO_0_9_0005_20150219142148.nii', '/VBM/DARTEL_norm2mni_c1/smwc1DEP_FED029_T1_MPRAGE_SAG_ISO_0_9_0005_20150226091949.nii', '/VBM/DARTEL_norm2mni_c1/smwc1DEP_FED030_T1_MPRAGE_SAG_ISO_0_9_0005_20150226154844.nii', '/VBM/DARTEL_norm2mni_c1/smwc1DEP_FED031_T1_MPRAGE_SAG_ISO_0_9_0005_20150310152650.nii', '/VBM/DARTEL_norm2mni_c1/smwc1DEP_FED032_T1_MPRAGE_SAG_ISO_0_9_0005_20150313125246.nii', '/VBM/DARTEL_norm2mni_c1/smwc1DEP_FED033_T1_MPRAGE_SAG_ISO_0_9_0005_20150326151309.nii', '/VBM/DARTEL_norm2mni_c1/smwc1DEP_FED034_T1_MPRAGE_SAG_ISO_0_9_0005_20150909125805.nii', '/VBM/DARTEL_norm2mni_c1/smwc1DEP_FED035_T1_MPRAGE_SAG_ISO_0_9_0005_20150917120306.nii', '/VBM/DARTEL_norm2mni_c1/smwc1DEP_FED036_T1_MPRAGE_SAG_ISO_0_9_0005_20150924172133.nii', '/VBM/DARTEL_norm2mni_c1/smwc1DEP_FED037_T1_MPRAGE_SAG_ISO_0_9_0005_20150929162030.nii', '/VBM/DARTEL_norm2mni_c1/smwc1DEP_FED038_T1_MPRAGE_SAG_ISO_0_9_0005_20151001125857.nii', '/VBM/DARTEL_norm2mni_c1/smwc1DEP_FED039_T1_MPRAGE_SAG_ISO_0_9_0005_20151001173950.nii', '/VBM/DARTEL_norm2mni_c1/smwc1DEP_FED040_T1_MPRAGE_SAG_ISO_0_9_0005_20151009111760.nii', '/VBM/DARTEL_norm2mni_c1/smwc1DEP_FED041_T1_MPRAGE_SAG_ISO_0_9_0005_20151009164129.nii', '/VBM/DARTEL_norm2mni_c1/smwc1DEP_FED042_T1_MPRAGE_SAG_ISO_0_9_0005_20151013110112.nii', '/VBM/DARTEL_norm2mni_c1/smwc1DEP_FED043_T1_MPRAGE_SAG_ISO_0_9_0005_20151015122011.nii', '/VBM/DARTEL_norm2mni_c1/smwc1DEP_FED044_T1_MPRAGE_SAG_ISO_0_9_0005_20151029121235.nii', '/VBM/DARTEL_norm2mni_c1/smwc1DEP_FED045_T1_MPRAGE_SAG_ISO_0_9_0005_20151105173027.nii', '/VBM/DARTEL_norm2mni_c1/smwc1DEP_FED046_T1_MPRAGE_SAG_ISO_0_9_0005_20151106125904.nii', '/VBM/DARTEL_norm2mni_c1/smwc1DEP_FED047_T1_MPRAGE_SAG_ISO_0_9_0005_20151116144126.nii', '/VBM/DARTEL_norm2mni_c1/smwc1DEP_FED048_T1_MPRAGE_SAG_ISO_0_9_0005_20151118152060.nii', '/VBM/DARTEL_norm2mni_c1/smwc1DEP_FED051_T1_MPRAGE_SAG_ISO_0_9_0005_20151202153410.nii', '/VBM/DARTEL_norm2mni_c1/smwc1DEP_FED052_T1_MPRAGE_SAG_ISO_0_9_0005_20151203172751.nii', '/VBM/DARTEL_norm2mni_c1/smwc1DEP_FED055_T1_MPRAGE_SAG_ISO_0_9_0005_20151214092109.nii', '/VBM/DARTEL_norm2mni_c1/smwc1DEP_FED057_T1_MPRAGE_SAG_ISO_0_9_0005_20151216154455.nii', '/VBM/DARTEL_norm2mni_c1/smwc1DEP_FED059_T1_MPRAGE_SAG_ISO_0_9_0005_20160218100702.nii', '/VBM/DARTEL_norm2mni_c1/smwc1DEP_FED066_T1_MPRAGE_SAG_ISO_0_9_0005_20160310171152.nii'] 31\n",
      "['/VBM/DARTEL_norm2mni_c1/smwc1CON_FED006_T1_MPRAGE_SAG_ISO_0_9_0005_20141106153429.nii', '/VBM/DARTEL_norm2mni_c1/smwc1CON_FED007_T1_MPRAGE_SAG_ISO_0_9_0005_20141107104226.nii', '/VBM/DARTEL_norm2mni_c1/smwc1CON_FED008_T1_MPRAGE_SAG_ISO_0_9_0005_20141112155009.nii', '/VBM/DARTEL_norm2mni_c1/smwc1CON_FED009_T1_MPRAGE_SAG_ISO_0_9_0005_20141117154954.nii', '/VBM/DARTEL_norm2mni_c1/smwc1CON_FED012_T1_MPRAGE_SAG_ISO_0_9_0005_20141124150148.nii', '/VBM/DARTEL_norm2mni_c1/smwc1CON_FED013_T1_MPRAGE_SAG_ISO_0_9_0005_20141125093955.nii', '/VBM/DARTEL_norm2mni_c1/smwc1CON_FED015_T1_MPRAGE_SAG_ISO_0_9_0005_20141202145526.nii', '/VBM/DARTEL_norm2mni_c1/smwc1CON_FED016_T1_MPRAGE_SAG_ISO_0_9_0005_20141202164821.nii', '/VBM/DARTEL_norm2mni_c1/smwc1CON_FED017_T1_MPRAGE_SAG_ISO_0_9_0005_20141204151043.nii', '/VBM/DARTEL_norm2mni_c1/smwc1CON_FED019_T1_MPRAGE_SAG_ISO_0_9_0005_20141210090147.nii', '/VBM/DARTEL_norm2mni_c1/smwc1CON_FED020_T1_MPRAGE_SAG_ISO_0_9_0005_20141210170232.nii', '/VBM/DARTEL_norm2mni_c1/smwc1CON_FED021_T1_MPRAGE_SAG_ISO_0_9_0005_20141211095930.nii', '/VBM/DARTEL_norm2mni_c1/smwc1CON_FED022_T1_MPRAGE_SAG_ISO_0_9_0005_20141211155503.nii', '/VBM/DARTEL_norm2mni_c1/smwc1CON_FED023_T1_MPRAGE_SAG_ISO_0_9_0005_20141216144604.nii', '/VBM/DARTEL_norm2mni_c1/smwc1CON_FED024_T1_MPRAGE_SAG_ISO_0_9_0005_20150204145018.nii', '/VBM/DARTEL_norm2mni_c1/smwc1CON_FED025_T1_MPRAGE_SAG_ISO_0_9_0005_20150206123507.nii', '/VBM/DARTEL_norm2mni_c1/smwc1CON_FED026_T1_MPRAGE_SAG_ISO_0_9_0005_20150211171144.nii', '/VBM/DARTEL_norm2mni_c1/smwc1CON_FED049_T1_MPRAGE_SAG_ISO_0_9_0009_20151123115353.nii', '/VBM/DARTEL_norm2mni_c1/smwc1CON_FED050_T1_MPRAGE_SAG_ISO_0_9_0005_20151201165820.nii', '/VBM/DARTEL_norm2mni_c1/smwc1CON_FED053_T1_MPRAGE_SAG_ISO_0_9_0005_20151208115820.nii', '/VBM/DARTEL_norm2mni_c1/smwc1CON_FED054_T1_MPRAGE_SAG_ISO_0_9_0005_20151208140706.nii', '/VBM/DARTEL_norm2mni_c1/smwc1CON_FED056_T1_MPRAGE_SAG_ISO_0_9_0005_20151215155556.nii', '/VBM/DARTEL_norm2mni_c1/smwc1CON_FED058_T1_MPRAGE_SAG_ISO_0_9_0005_20160217151251.nii', '/VBM/DARTEL_norm2mni_c1/smwc1CON_FED060_T1_MPRAGE_SAG_ISO_0_9_0005_20160224151260.nii', '/VBM/DARTEL_norm2mni_c1/smwc1CON_FED061_T1_MPRAGE_SAG_ISO_0_9_0005_20160301111011.nii', '/VBM/DARTEL_norm2mni_c1/smwc1CON_FED062_T1_MPRAGE_SAG_ISO_0_9_0005_20160301164049.nii', '/VBM/DARTEL_norm2mni_c1/smwc1CON_FED063_T1_MPRAGE_SAG_ISO_0_9_0005_20160308162043.nii', '/VBM/DARTEL_norm2mni_c1/smwc1CON_FED064_T1_MPRAGE_SAG_ISO_0_9_0005_20160309173936.nii', '/VBM/DARTEL_norm2mni_c1/smwc1CON_FED065_T1_MPRAGE_SAG_ISO_0_9_0005_20160310090712.nii', '/VBM/DARTEL_norm2mni_c1/smwc1CON_FED067_T1_MPRAGE_SAG_ISO_0_9_0005_20160311133810.nii', '/VBM/DARTEL_norm2mni_c1/smwc1CON_FED068_T1_MPRAGE_SAG_ISO_0_9_0005_20160331140317.nii'] 31\n",
      "['/VBM/DARTEL_norm2mni_c1/smwc1DEP_FED011_T1_MPRAGE_SAG_ISO_0_9_0005_20141119161708.nii', '/VBM/DARTEL_norm2mni_c1/smwc1DEP_FED014_T1_MPRAGE_SAG_ISO_0_9_0005_20141125153216.nii', '/VBM/DARTEL_norm2mni_c1/smwc1DEP_FED018_T1_MPRAGE_SAG_ISO_0_9_0005_20141208163153.nii', '/VBM/DARTEL_norm2mni_c1/smwc1DEP_FED027_T1_MPRAGE_SAG_ISO_0_9_0005_20150218162601.nii', '/VBM/DARTEL_norm2mni_c1/smwc1DEP_FED028_T1_MPRAGE_SAG_ISO_0_9_0005_20150219142148.nii', '/VBM/DARTEL_norm2mni_c1/smwc1DEP_FED029_T1_MPRAGE_SAG_ISO_0_9_0005_20150226091949.nii', '/VBM/DARTEL_norm2mni_c1/smwc1DEP_FED030_T1_MPRAGE_SAG_ISO_0_9_0005_20150226154844.nii', '/VBM/DARTEL_norm2mni_c1/smwc1DEP_FED031_T1_MPRAGE_SAG_ISO_0_9_0005_20150310152650.nii', '/VBM/DARTEL_norm2mni_c1/smwc1DEP_FED032_T1_MPRAGE_SAG_ISO_0_9_0005_20150313125246.nii', '/VBM/DARTEL_norm2mni_c1/smwc1DEP_FED033_T1_MPRAGE_SAG_ISO_0_9_0005_20150326151309.nii', '/VBM/DARTEL_norm2mni_c1/smwc1DEP_FED034_T1_MPRAGE_SAG_ISO_0_9_0005_20150909125805.nii', '/VBM/DARTEL_norm2mni_c1/smwc1DEP_FED035_T1_MPRAGE_SAG_ISO_0_9_0005_20150917120306.nii', '/VBM/DARTEL_norm2mni_c1/smwc1DEP_FED036_T1_MPRAGE_SAG_ISO_0_9_0005_20150924172133.nii', '/VBM/DARTEL_norm2mni_c1/smwc1DEP_FED037_T1_MPRAGE_SAG_ISO_0_9_0005_20150929162030.nii', '/VBM/DARTEL_norm2mni_c1/smwc1DEP_FED038_T1_MPRAGE_SAG_ISO_0_9_0005_20151001125857.nii', '/VBM/DARTEL_norm2mni_c1/smwc1DEP_FED039_T1_MPRAGE_SAG_ISO_0_9_0005_20151001173950.nii', '/VBM/DARTEL_norm2mni_c1/smwc1DEP_FED040_T1_MPRAGE_SAG_ISO_0_9_0005_20151009111760.nii', '/VBM/DARTEL_norm2mni_c1/smwc1DEP_FED041_T1_MPRAGE_SAG_ISO_0_9_0005_20151009164129.nii', '/VBM/DARTEL_norm2mni_c1/smwc1DEP_FED042_T1_MPRAGE_SAG_ISO_0_9_0005_20151013110112.nii', '/VBM/DARTEL_norm2mni_c1/smwc1DEP_FED043_T1_MPRAGE_SAG_ISO_0_9_0005_20151015122011.nii', '/VBM/DARTEL_norm2mni_c1/smwc1DEP_FED044_T1_MPRAGE_SAG_ISO_0_9_0005_20151029121235.nii', '/VBM/DARTEL_norm2mni_c1/smwc1DEP_FED045_T1_MPRAGE_SAG_ISO_0_9_0005_20151105173027.nii', '/VBM/DARTEL_norm2mni_c1/smwc1DEP_FED046_T1_MPRAGE_SAG_ISO_0_9_0005_20151106125904.nii', '/VBM/DARTEL_norm2mni_c1/smwc1DEP_FED047_T1_MPRAGE_SAG_ISO_0_9_0005_20151116144126.nii', '/VBM/DARTEL_norm2mni_c1/smwc1DEP_FED048_T1_MPRAGE_SAG_ISO_0_9_0005_20151118152060.nii', '/VBM/DARTEL_norm2mni_c1/smwc1DEP_FED051_T1_MPRAGE_SAG_ISO_0_9_0005_20151202153410.nii', '/VBM/DARTEL_norm2mni_c1/smwc1DEP_FED052_T1_MPRAGE_SAG_ISO_0_9_0005_20151203172751.nii', '/VBM/DARTEL_norm2mni_c1/smwc1DEP_FED055_T1_MPRAGE_SAG_ISO_0_9_0005_20151214092109.nii', '/VBM/DARTEL_norm2mni_c1/smwc1DEP_FED057_T1_MPRAGE_SAG_ISO_0_9_0005_20151216154455.nii', '/VBM/DARTEL_norm2mni_c1/smwc1DEP_FED059_T1_MPRAGE_SAG_ISO_0_9_0005_20160218100702.nii', '/VBM/DARTEL_norm2mni_c1/smwc1DEP_FED066_T1_MPRAGE_SAG_ISO_0_9_0005_20160310171152.nii', '/VBM/DARTEL_norm2mni_c1/smwc1CON_FED006_T1_MPRAGE_SAG_ISO_0_9_0005_20141106153429.nii', '/VBM/DARTEL_norm2mni_c1/smwc1CON_FED007_T1_MPRAGE_SAG_ISO_0_9_0005_20141107104226.nii', '/VBM/DARTEL_norm2mni_c1/smwc1CON_FED008_T1_MPRAGE_SAG_ISO_0_9_0005_20141112155009.nii', '/VBM/DARTEL_norm2mni_c1/smwc1CON_FED009_T1_MPRAGE_SAG_ISO_0_9_0005_20141117154954.nii', '/VBM/DARTEL_norm2mni_c1/smwc1CON_FED012_T1_MPRAGE_SAG_ISO_0_9_0005_20141124150148.nii', '/VBM/DARTEL_norm2mni_c1/smwc1CON_FED013_T1_MPRAGE_SAG_ISO_0_9_0005_20141125093955.nii', '/VBM/DARTEL_norm2mni_c1/smwc1CON_FED015_T1_MPRAGE_SAG_ISO_0_9_0005_20141202145526.nii', '/VBM/DARTEL_norm2mni_c1/smwc1CON_FED016_T1_MPRAGE_SAG_ISO_0_9_0005_20141202164821.nii', '/VBM/DARTEL_norm2mni_c1/smwc1CON_FED017_T1_MPRAGE_SAG_ISO_0_9_0005_20141204151043.nii', '/VBM/DARTEL_norm2mni_c1/smwc1CON_FED019_T1_MPRAGE_SAG_ISO_0_9_0005_20141210090147.nii', '/VBM/DARTEL_norm2mni_c1/smwc1CON_FED020_T1_MPRAGE_SAG_ISO_0_9_0005_20141210170232.nii', '/VBM/DARTEL_norm2mni_c1/smwc1CON_FED021_T1_MPRAGE_SAG_ISO_0_9_0005_20141211095930.nii', '/VBM/DARTEL_norm2mni_c1/smwc1CON_FED022_T1_MPRAGE_SAG_ISO_0_9_0005_20141211155503.nii', '/VBM/DARTEL_norm2mni_c1/smwc1CON_FED023_T1_MPRAGE_SAG_ISO_0_9_0005_20141216144604.nii', '/VBM/DARTEL_norm2mni_c1/smwc1CON_FED024_T1_MPRAGE_SAG_ISO_0_9_0005_20150204145018.nii', '/VBM/DARTEL_norm2mni_c1/smwc1CON_FED025_T1_MPRAGE_SAG_ISO_0_9_0005_20150206123507.nii', '/VBM/DARTEL_norm2mni_c1/smwc1CON_FED026_T1_MPRAGE_SAG_ISO_0_9_0005_20150211171144.nii', '/VBM/DARTEL_norm2mni_c1/smwc1CON_FED049_T1_MPRAGE_SAG_ISO_0_9_0009_20151123115353.nii', '/VBM/DARTEL_norm2mni_c1/smwc1CON_FED050_T1_MPRAGE_SAG_ISO_0_9_0005_20151201165820.nii', '/VBM/DARTEL_norm2mni_c1/smwc1CON_FED053_T1_MPRAGE_SAG_ISO_0_9_0005_20151208115820.nii', '/VBM/DARTEL_norm2mni_c1/smwc1CON_FED054_T1_MPRAGE_SAG_ISO_0_9_0005_20151208140706.nii', '/VBM/DARTEL_norm2mni_c1/smwc1CON_FED056_T1_MPRAGE_SAG_ISO_0_9_0005_20151215155556.nii', '/VBM/DARTEL_norm2mni_c1/smwc1CON_FED058_T1_MPRAGE_SAG_ISO_0_9_0005_20160217151251.nii', '/VBM/DARTEL_norm2mni_c1/smwc1CON_FED060_T1_MPRAGE_SAG_ISO_0_9_0005_20160224151260.nii', '/VBM/DARTEL_norm2mni_c1/smwc1CON_FED061_T1_MPRAGE_SAG_ISO_0_9_0005_20160301111011.nii', '/VBM/DARTEL_norm2mni_c1/smwc1CON_FED062_T1_MPRAGE_SAG_ISO_0_9_0005_20160301164049.nii', '/VBM/DARTEL_norm2mni_c1/smwc1CON_FED063_T1_MPRAGE_SAG_ISO_0_9_0005_20160308162043.nii', '/VBM/DARTEL_norm2mni_c1/smwc1CON_FED064_T1_MPRAGE_SAG_ISO_0_9_0005_20160309173936.nii', '/VBM/DARTEL_norm2mni_c1/smwc1CON_FED065_T1_MPRAGE_SAG_ISO_0_9_0005_20160310090712.nii', '/VBM/DARTEL_norm2mni_c1/smwc1CON_FED067_T1_MPRAGE_SAG_ISO_0_9_0005_20160311133810.nii', '/VBM/DARTEL_norm2mni_c1/smwc1CON_FED068_T1_MPRAGE_SAG_ISO_0_9_0005_20160331140317.nii'] 62\n"
     ]
    }
   ],
   "source": [
    "# control resulting lists and their length\n",
    "print(dep_norm, len(dep_norm))\n",
    "print(con_norm, len(con_norm))\n",
    "\n",
    "print(imreg_norm, len(imreg_norm))"
   ]
  },
  {
   "cell_type": "markdown",
   "metadata": {},
   "source": [
    "Calculate Global Values (used for relating each subject's GM/WM/CSF volume to the total intracranial volume)"
   ]
  },
  {
   "cell_type": "code",
   "execution_count": 7,
   "metadata": {},
   "outputs": [],
   "source": [
    "# calculate \"global values\" via nibabel objects: sum up the values and multiply by volume of each voxel\n",
    "# from: total volume GM, WM and CSF\n",
    "\n",
    "# find all the files starting with \"c1,c2,c3\" in all subdirs of the VBM directory via CommandLine interface from nipype\n",
    "c1_files=CommandLine('find', args='/VBM/FED* -maxdepth 2 -type f -name c1*.nii', terminal_output='allatonce')\n",
    "c1=c1_files.run()\n",
    "c2_files=CommandLine('find', args='/VBM/FED* -maxdepth 2 -type f -name c2*.nii', terminal_output='allatonce')\n",
    "c2=c2_files.run()\n",
    "c3_files=CommandLine('find', args='/VBM/FED* -maxdepth 2 -type f -name c3*.nii', terminal_output='allatonce')\n",
    "c3=c3_files.run()\n",
    "\n",
    "# read the output (find stdout) line by line to list object\n",
    "globals_GM = c1.runtime.stdout.splitlines()\n",
    "globals_WM = c2.runtime.stdout.splitlines()\n",
    "globals_CSF = c3.runtime.stdout.splitlines()\n",
    "\n",
    "# remove subject 10 from lists(-> was not normalised or in template)\n",
    "globals_GM = [i for i in globals_GM if i.split('/',3)[2] != \"FED010\"]\n",
    "globals_WM = [i for i in globals_WM if i.split('/',3)[2] != \"FED010\"]\n",
    "globals_CSF = [i for i in globals_CSF if i.split('/',3)[2] != \"FED010\"]\n",
    "\n",
    "# sort globals lists according to subject sequence in imreg_norm\n",
    "globals_GM_sorted = []\n",
    "globals_WM_sorted = []\n",
    "globals_CSF_sorted = []\n",
    "\n",
    "for i in imreg_norm:\n",
    "    for j in globals_GM:\n",
    "        if i.split('_',4)[3] == j.split('/',3)[2]:\n",
    "            globals_GM_sorted.append(j)\n",
    "    for k in globals_WM:\n",
    "        if i.split('_',4)[3] == k.split('/',3)[2]:\n",
    "            globals_WM_sorted.append(k)\n",
    "    for l in globals_CSF:\n",
    "        if i.split('_',4)[3] == l.split('/',3)[2]:\n",
    "            globals_CSF_sorted.append(l)"
   ]
  },
  {
   "cell_type": "code",
   "execution_count": 8,
   "metadata": {
    "collapsed": true,
    "jupyter": {
     "outputs_hidden": true
    }
   },
   "outputs": [
    {
     "name": "stdout",
     "output_type": "stream",
     "text": [
      "['/VBM/FED011/DARTEL_newsegment/c1DEP_FED011_T1_MPRAGE_SAG_ISO_0_9_0005_20141119161708.nii', '/VBM/FED014/DARTEL_newsegment/c1DEP_FED014_T1_MPRAGE_SAG_ISO_0_9_0005_20141125153216.nii', '/VBM/FED018/DARTEL_newsegment/c1DEP_FED018_T1_MPRAGE_SAG_ISO_0_9_0005_20141208163153.nii', '/VBM/FED027/DARTEL_newsegment/c1DEP_FED027_T1_MPRAGE_SAG_ISO_0_9_0005_20150218162601.nii'] 62\n",
      "['/VBM/FED011/DARTEL_newsegment/c2DEP_FED011_T1_MPRAGE_SAG_ISO_0_9_0005_20141119161708.nii', '/VBM/FED014/DARTEL_newsegment/c2DEP_FED014_T1_MPRAGE_SAG_ISO_0_9_0005_20141125153216.nii', '/VBM/FED018/DARTEL_newsegment/c2DEP_FED018_T1_MPRAGE_SAG_ISO_0_9_0005_20141208163153.nii', '/VBM/FED027/DARTEL_newsegment/c2DEP_FED027_T1_MPRAGE_SAG_ISO_0_9_0005_20150218162601.nii'] 62\n",
      "['/VBM/FED011/DARTEL_newsegment/c3DEP_FED011_T1_MPRAGE_SAG_ISO_0_9_0005_20141119161708.nii', '/VBM/FED014/DARTEL_newsegment/c3DEP_FED014_T1_MPRAGE_SAG_ISO_0_9_0005_20141125153216.nii', '/VBM/FED018/DARTEL_newsegment/c3DEP_FED018_T1_MPRAGE_SAG_ISO_0_9_0005_20141208163153.nii', '/VBM/FED027/DARTEL_newsegment/c3DEP_FED027_T1_MPRAGE_SAG_ISO_0_9_0005_20150218162601.nii'] 62\n",
      "['/VBM/DARTEL_norm2mni_c1/smwc1DEP_FED011_T1_MPRAGE_SAG_ISO_0_9_0005_20141119161708.nii', '/VBM/DARTEL_norm2mni_c1/smwc1DEP_FED014_T1_MPRAGE_SAG_ISO_0_9_0005_20141125153216.nii', '/VBM/DARTEL_norm2mni_c1/smwc1DEP_FED018_T1_MPRAGE_SAG_ISO_0_9_0005_20141208163153.nii', '/VBM/DARTEL_norm2mni_c1/smwc1DEP_FED027_T1_MPRAGE_SAG_ISO_0_9_0005_20150218162601.nii'] 62\n"
     ]
    }
   ],
   "source": [
    "# control results\n",
    "print(globals_GM_sorted[0:4], len(globals_GM_sorted))\n",
    "print(globals_WM_sorted[0:4], len(globals_WM_sorted))\n",
    "print(globals_CSF_sorted[0:4], len(globals_CSF_sorted))\n",
    "print(imreg_norm[0:4], len(imreg_norm))"
   ]
  },
  {
   "cell_type": "code",
   "execution_count": 9,
   "metadata": {},
   "outputs": [],
   "source": [
    "# create nibabel objects from all files\n",
    "globals_GM_nb=[nb.load(i) for i in globals_GM_sorted]\n",
    "globals_WM_nb=[nb.load(i) for i in globals_WM_sorted]\n",
    "globals_CSF_nb=[nb.load(i) for i in globals_CSF_sorted]\n",
    "\n",
    "# create list with the func data via dataobj property (avoids caching entire object (.fdata()) but gets func data as well)\n",
    "globals_GM_fvals=[i.dataobj for i in globals_GM_nb]\n",
    "globals_WM_fvals=[i.dataobj for i in globals_WM_nb]\n",
    "globals_CSF_fvals=[i.dataobj for i in globals_CSF_nb]"
   ]
  },
  {
   "cell_type": "code",
   "execution_count": 10,
   "metadata": {},
   "outputs": [],
   "source": [
    "# 0 values outside the brain in each volume -> 0 vals overbias and make globals smaller\n",
    "# c1,2,3 also are not normalised -> different positions for different subjects\n",
    "# -> take all c images and calculate below values for each matter ;)\n",
    "\n",
    "# re-asign lists\n",
    "globals_GM=[]\n",
    "globals_WM=[]\n",
    "globals_CSF=[]\n",
    "\n",
    "# loop over GM WM CSF lists and calculate globals\n",
    "for a,b in zip_longest(globals_GM_fvals,globals_GM_nb):\n",
    "    globals_GM.append((np.sum(a[:,:,:][a[:,:,:] != 0])\n",
    "                       * np.product(b.header['pixdim'][1:4]))\n",
    "                       / np.size(a[:,:,:][a[:,:,:] != 0]))\n",
    "\n",
    "for a,b in zip_longest(globals_WM_fvals,globals_WM_nb):\n",
    "    globals_WM.append((np.sum(a[:,:,:][a[:,:,:] != 0])\n",
    "                       * np.product(b.header['pixdim'][1:4]))\n",
    "                       / np.size(a[:,:,:][a[:,:,:] != 0]))\n",
    "\n",
    "for a,b in zip_longest(globals_CSF_fvals,globals_CSF_nb):\n",
    "    globals_CSF.append((np.sum(a[:,:,:][a[:,:,:] != 0])\n",
    "                        * np.product(b.header['pixdim'][1:4]))\n",
    "                        / np.size(a[:,:,:][a[:,:,:] != 0]))\n",
    "\n",
    "# combine globals to get total intracranial volume (TiCV)\n",
    "globals_TiCV=[]\n",
    "\n",
    "for a,b,c in zip_longest(globals_GM,globals_WM,globals_CSF):\n",
    "    globals_TiCV.append(np.sum([a,b,c]))"
   ]
  },
  {
   "cell_type": "code",
   "execution_count": 11,
   "metadata": {},
   "outputs": [
    {
     "name": "stdout",
     "output_type": "stream",
     "text": [
      "range of globals_TiCV is:      1.1573917414830786  -  1.4875706951988656\n",
      "range of values in c images is always the same: 0.0  -  1.0000000591389835\n"
     ]
    }
   ],
   "source": [
    "# establish range of TiCV globals\n",
    "print(\"range of globals_TiCV is:     \", np.min(globals_TiCV), \" - \", np.max(globals_TiCV))\n",
    "# establish range of values in c files\n",
    "#for a,b,c in zip_longest(globals_GM_fvals, globals_WM_fvals, globals_CSF_fvals):\n",
    "#    print(np.amin(a), np.amax(a),np.amin(b), np.amax(b),np.amin(c), np.amax(c))\n",
    "print(\"range of values in c images is always the same:\", np.mean([np.amin(i) for i in globals_CSF_fvals]),\n",
    "      \" - \", np.mean([np.amax(i) for i in globals_CSF_fvals]))"
   ]
  },
  {
   "cell_type": "markdown",
   "metadata": {},
   "source": [
    "Get all necessary Covariates (Condition and Nuisance)"
   ]
  },
  {
   "cell_type": "code",
   "execution_count": 12,
   "metadata": {},
   "outputs": [],
   "source": [
    "# create covariates (SPM makes NO DIFFERENCE btw covariates and conditions)\n",
    "# get depression, sex and age - data from list in .xlsx file \n",
    "cov_file_ID=\"FED_Subject_Assignments.xlsx\"\n",
    "content=pd.read_excel(cov_file_ID, sheet_name=\"Sheet2\", usecols=['Sub Num FED_XXX', 'BDI 22 Score', 'Gender', 'Age'])\n",
    "\n",
    "# remove subject 10 from lists(-> was not normalised or in template)\n",
    "content=content[content[\"Sub Num FED_XXX\"] != 10]\n",
    "\n",
    "# sort panda dataframe according to subject sequence in imreg_norm\n",
    "# define sort-by list (get FED_ID and format to fit entries in dataframe)\n",
    "mreg_ID = [i.split('_',4)[3][3:].lstrip(\"0\") for i in imreg_norm]\n",
    "# transform values to integers\n",
    "mreg_ID = [np.int(i) for i in mreg_ID]\n",
    "# define a categorical variable to sort a column and corresponding lines after\n",
    "content['mreg_ID'] = pd.Categorical(content['Sub Num FED_XXX'], categories = mreg_ID, ordered = True)\n",
    "# sort dataframe\n",
    "content.sort_values('mreg_ID', inplace=True)\n",
    "\n",
    "# get relevant covariates\n",
    "dep=content['BDI 22 Score'].tolist()\n",
    "sex=content['Gender'].tolist()\n",
    "age=content['Age'].tolist()\n",
    "\n",
    "# depression dep: 1, con: 0\n",
    "cov_dep={\"vector\":dep, \"name\":\"MDD\", \"centering\":0}\n",
    "\n",
    "# sex - dictionary {vector, name, centering} female: 1, male: 0\n",
    "cov_sex={\"vector\":sex, \"name\":\"Sex\", \"centering\":0}\n",
    "\n",
    "# age - dictionary {vector, name, centering}\n",
    "cov_age={\"vector\":age, \"name\":\"Age\", \"centering\":0}"
   ]
  },
  {
   "cell_type": "code",
   "execution_count": 13,
   "metadata": {},
   "outputs": [
    {
     "name": "stdout",
     "output_type": "stream",
     "text": [
      "[11, 14, 18, 27, 28, 29, 30, 31, 32, 33, 34, 35, 36, 37, 38, 39, 40, 41, 42, 43, 44, 45, 46, 47, 48, 51, 52, 55, 57, 59, 66, 6, 7, 8, 9, 12, 13, 15, 16, 17, 19, 20, 21, 22, 23, 24, 25, 26, 49, 50, 53, 54, 56, 58, 60, 61, 62, 63, 64, 65, 67, 68]\n",
      "    Sub Num FED_XXX  Gender  Age  BDI 22 Score mreg_ID\n",
      "5                11       0   18             1      11\n",
      "8                14       1   18             1      14\n",
      "12               18       1   18             1      18\n",
      "21               27       1   19             1      27\n",
      "22               28       1   20             1      28\n",
      "..              ...     ...  ...           ...     ...\n",
      "57               63       0   19             0      63\n",
      "58               64       1   19             0      64\n",
      "59               65       1   18             0      65\n",
      "61               67       1   20             0      67\n",
      "62               68       1   18             0      68\n",
      "\n",
      "[62 rows x 5 columns]\n"
     ]
    }
   ],
   "source": [
    "# control results\n",
    "print(mreg_ID)\n",
    "print(content)"
   ]
  },
  {
   "cell_type": "code",
   "execution_count": 15,
   "metadata": {},
   "outputs": [
    {
     "name": "stdout",
     "output_type": "stream",
     "text": [
      "62 62 62 62 62\n"
     ]
    }
   ],
   "source": [
    "# control input length of all mreg inputs\n",
    "print(len(imreg_norm),\n",
    "     len(globals_TiCV),\n",
    "     len(cov_dep['vector']),\n",
    "     len(cov_sex['vector']),\n",
    "     len(cov_age['vector']))"
   ]
  },
  {
   "cell_type": "markdown",
   "metadata": {},
   "source": [
    "Write and Estimate Your Model"
   ]
  },
  {
   "cell_type": "code",
   "execution_count": 16,
   "metadata": {},
   "outputs": [],
   "source": [
    "# create multiple regression Node\n",
    "mreg = Node(spm.MultipleRegressionDesign(), name=\"SPM_MultiReg\")\n",
    "mreg.base_dir= VBM_dir\n",
    "mreg.inputs.in_files = imreg_norm\n",
    "mreg.inputs.global_calc_values = globals_TiCV\n",
    "# use proportional global normalization\n",
    "mreg.inputs.global_normalization = 2\n",
    "# cut-off value for a-posteriori probability of GM at a given voxel: 5%, [maybe 20%? -> Ashburner VBM Tutorial]\n",
    "mreg.inputs.threshold_mask_absolute = 0.05\n",
    "# think of mask image to threshold\n",
    "#mreg.inputs.explicit_mask_file=\n",
    "mreg.inputs.covariates = [cov_dep, cov_sex, cov_age]"
   ]
  },
  {
   "cell_type": "code",
   "execution_count": 15,
   "metadata": {},
   "outputs": [
    {
     "name": "stdout",
     "output_type": "stream",
     "text": [
      "200225-15:03:31,665 nipype.workflow INFO:\n",
      "\t [Node] Setting-up \"MultipleRegression\" in \"/VBM/MultipleRegression\".\n",
      "200225-15:03:31,680 nipype.workflow INFO:\n",
      "\t [Node] Running \"MultipleRegression\" (\"nipype.interfaces.spm.model.MultipleRegressionDesign\")\n",
      "200225-15:03:39,908 nipype.workflow INFO:\n",
      "\t [Node] Finished \"MultipleRegression\".\n",
      "\n",
      "spm_mat_file = /VBM/MultipleRegression/SPM.mat\n",
      "\n"
     ]
    }
   ],
   "source": [
    "# make model (design, not estimate) and print results\n",
    "results = mreg.run()\n",
    "print(results.outputs)"
   ]
  },
  {
   "cell_type": "code",
   "execution_count": 16,
   "metadata": {},
   "outputs": [],
   "source": [
    "# specify MReg directory\n",
    "MReg_dir = mreg.base_dir + mreg.name\n",
    "\n",
    "# estimate model\n",
    "est_mreg = Node(spm.EstimateModel(), name=\"estimate_MReg\")\n",
    "est_mreg.base_dir = MReg_dir\n",
    "est_mreg.inputs.spm_mat_file = MReg_dir+\"SPM.mat\"\n",
    "est_mreg.inputs.estimation_method = {\"Classical\":1}"
   ]
  },
  {
   "cell_type": "code",
   "execution_count": 17,
   "metadata": {
    "collapsed": true,
    "jupyter": {
     "outputs_hidden": true
    }
   },
   "outputs": [
    {
     "name": "stdout",
     "output_type": "stream",
     "text": [
      "200225-15:03:46,0 nipype.workflow INFO:\n",
      "\t [Node] Setting-up \"estimate_MReg\" in \"/VBM/MultipleRegression/estimate_MReg\".\n",
      "200225-15:03:46,3 nipype.workflow INFO:\n",
      "\t [Node] Running \"estimate_MReg\" (\"nipype.interfaces.spm.model.EstimateModel\")\n",
      "200225-15:04:11,60 nipype.workflow INFO:\n",
      "\t [Node] Finished \"estimate_MReg\".\n",
      "\n",
      "ARcoef = <undefined>\n",
      "Cbetas = <undefined>\n",
      "RPVimage = /VBM/MultipleRegression/estimate_MReg/RPV.nii\n",
      "SDbetas = <undefined>\n",
      "SDerror = <undefined>\n",
      "beta_images = ['/VBM/MultipleRegression/estimate_MReg/beta_0001.nii', '/VBM/MultipleRegression/estimate_MReg/beta_0002.nii', '/VBM/MultipleRegression/estimate_MReg/beta_0003.nii', '/VBM/MultipleRegression/estimate_MReg/beta_0004.nii']\n",
      "labels = <undefined>\n",
      "mask_image = /VBM/MultipleRegression/estimate_MReg/mask.nii\n",
      "residual_image = /VBM/MultipleRegression/estimate_MReg/ResMS.nii\n",
      "residual_images = <undefined>\n",
      "spm_mat_file = /VBM/MultipleRegression/estimate_MReg/SPM.mat\n",
      "\n"
     ]
    }
   ],
   "source": [
    "# run estimation and print output\n",
    "results = est_mreg.run()\n",
    "print(results.outputs)"
   ]
  },
  {
   "cell_type": "markdown",
   "metadata": {},
   "source": [
    "Write and Estimate Contrasts to run for the Model above"
   ]
  },
  {
   "cell_type": "code",
   "execution_count": 18,
   "metadata": {},
   "outputs": [],
   "source": [
    "# specify MReg directory\n",
    "MReg_dir = est_mreg.base_dir + est_mreg.name\n",
    "\n",
    "# collect beta images from Model estimation\n",
    "beta_img = sorted([i for i in os.listdir(MReg_dir) if re.match(r'^beta.*.nii', i)])\n",
    "# turn beta filenames into full-path objects\n",
    "beta_img = [os.path.join(MReg_dir, i) for i in beta_img]\n",
    "\n",
    "# define contrasts\n",
    "cont1 = ('Dep > Con', 'T', ['mean','MDD','Sex','Age'], [0, 1, 0, 0])\n",
    "cont2 = ('Male > Female', 'T', ['mean','MDD','Sex','Age'], [0, 0, -1, 0])\n",
    "cont3 = ('Young > Old', 'T', ['mean','MDD','Sex','Age'], [0, 0, 0, -1])\n",
    "contrasts = [cont1,cont2,cont3]\n",
    "\n",
    "# estimate contrast\n",
    "est_contrasts = Node(spm.EstimateContrast(), name=\"estimate_Contrats\")\n",
    "est_contrasts.base_dir = MReg_dir\n",
    "est_contrasts.inputs.spm_mat_file = MReg_dir+\"SPM.mat\"\n",
    "est_contrasts.inputs.residual_image = MReg_dir+\"ResMS.nii\"\n",
    "est_contrasts.inputs.beta_images = beta_img\n",
    "est_contrasts.inputs.contrasts = contrasts\n",
    "# clarify this as 2nd level contrast\n",
    "est_contrasts.inputs.group_contrast = True"
   ]
  },
  {
   "cell_type": "code",
   "execution_count": 19,
   "metadata": {
    "collapsed": true,
    "jupyter": {
     "outputs_hidden": true
    }
   },
   "outputs": [
    {
     "name": "stdout",
     "output_type": "stream",
     "text": [
      "200225-15:05:43,587 nipype.workflow INFO:\n",
      "\t [Node] Setting-up \"estimate_Contrats\" in \"/VBM/MultipleRegression/estimate_MReg/estimate_Contrats\".\n",
      "200225-15:05:43,598 nipype.workflow INFO:\n",
      "\t [Node] Running \"estimate_Contrats\" (\"nipype.interfaces.spm.model.EstimateContrast\")\n",
      "200225-15:05:51,817 nipype.workflow INFO:\n",
      "\t [Node] Finished \"estimate_Contrats\".\n",
      "\n",
      "con_images = ['/VBM/MultipleRegression/estimate_MReg/estimate_Contrats/con_0001.nii', '/VBM/MultipleRegression/estimate_MReg/estimate_Contrats/con_0002.nii', '/VBM/MultipleRegression/estimate_MReg/estimate_Contrats/con_0003.nii']\n",
      "ess_images = <undefined>\n",
      "spmF_images = <undefined>\n",
      "spmT_images = ['/VBM/MultipleRegression/estimate_MReg/estimate_Contrats/spmT_0001.nii', '/VBM/MultipleRegression/estimate_MReg/estimate_Contrats/spmT_0002.nii', '/VBM/MultipleRegression/estimate_MReg/estimate_Contrats/spmT_0003.nii']\n",
      "spm_mat_file = /VBM/MultipleRegression/estimate_MReg/estimate_Contrats/SPM.mat\n",
      "\n"
     ]
    }
   ],
   "source": [
    "# run estimation and print output\n",
    "results = est_contrasts.run() \n",
    "print(results.outputs)"
   ]
  },
  {
   "cell_type": "markdown",
   "metadata": {},
   "source": [
    "Threshold statistics and plot results"
   ]
  },
  {
   "cell_type": "code",
   "execution_count": 50,
   "metadata": {
    "collapsed": true,
    "jupyter": {
     "outputs_hidden": true
    }
   },
   "outputs": [
    {
     "name": "stdout",
     "output_type": "stream",
     "text": [
      "200225-16:19:30,675 nipype.workflow INFO:\n",
      "\t [Node] Setting-up \"FDR_spmT1\" in \"/VBM/MultipleRegression/estimate_MReg/estimate_Contrats/FDR_spmT1\".\n",
      "200225-16:19:30,681 nipype.workflow INFO:\n",
      "\t [Node] Running \"FDR_spmT1\" (\"nipype.interfaces.spm.model.Threshold\")\n",
      "200225-16:19:33,664 nipype.workflow INFO:\n",
      "\t [Node] Finished \"FDR_spmT1\".\n",
      "\n",
      "activation_forced = False\n",
      "cluster_forming_thr = 5.038015\n",
      "n_clusters = 0\n",
      "pre_topo_fdr_map = /VBM/MultipleRegression/estimate_MReg/estimate_Contrats/FDR_spmT1/spmT_0001_pre_topo_thr.nii\n",
      "pre_topo_n_clusters = 0\n",
      "thresholded_map = /VBM/MultipleRegression/estimate_MReg/estimate_Contrats/FDR_spmT1/spmT_0001_thr.nii\n",
      "\n",
      "200225-16:19:33,668 nipype.workflow INFO:\n",
      "\t [Node] Setting-up \"FDR_spmT2\" in \"/VBM/MultipleRegression/estimate_MReg/estimate_Contrats/FDR_spmT2\".\n",
      "200225-16:19:33,676 nipype.workflow INFO:\n",
      "\t [Node] Running \"FDR_spmT2\" (\"nipype.interfaces.spm.model.Threshold\")\n",
      "200225-16:19:36,594 nipype.workflow INFO:\n",
      "\t [Node] Finished \"FDR_spmT2\".\n",
      "\n",
      "activation_forced = False\n",
      "cluster_forming_thr = 5.038015\n",
      "n_clusters = 8\n",
      "pre_topo_fdr_map = /VBM/MultipleRegression/estimate_MReg/estimate_Contrats/FDR_spmT2/spmT_0002_pre_topo_thr.nii\n",
      "pre_topo_n_clusters = 44\n",
      "thresholded_map = /VBM/MultipleRegression/estimate_MReg/estimate_Contrats/FDR_spmT2/spmT_0002_thr.nii\n",
      "\n",
      "200225-16:19:36,598 nipype.workflow INFO:\n",
      "\t [Node] Setting-up \"FDR_spmT3\" in \"/VBM/MultipleRegression/estimate_MReg/estimate_Contrats/FDR_spmT3\".\n",
      "200225-16:19:36,605 nipype.workflow INFO:\n",
      "\t [Node] Running \"FDR_spmT3\" (\"nipype.interfaces.spm.model.Threshold\")\n",
      "200225-16:19:39,625 nipype.workflow INFO:\n",
      "\t [Node] Finished \"FDR_spmT3\".\n",
      "\n",
      "activation_forced = False\n",
      "cluster_forming_thr = 5.038015\n",
      "n_clusters = 0\n",
      "pre_topo_fdr_map = /VBM/MultipleRegression/estimate_MReg/estimate_Contrats/FDR_spmT3/spmT_0003_pre_topo_thr.nii\n",
      "pre_topo_n_clusters = 0\n",
      "thresholded_map = /VBM/MultipleRegression/estimate_MReg/estimate_Contrats/FDR_spmT3/spmT_0003_thr.nii\n",
      "\n"
     ]
    }
   ],
   "source": [
    "# define statistics directory\n",
    "stats_dir = est_contrasts.base_dir + est_contrasts.name\n",
    "stat_images = sorted([os.path.join(stats_dir, i) for i in os.listdir(stats_dir) if re.match(r'(^spmT_)', i)])\n",
    "\n",
    "# apply FDR correction to statistical contrasts\n",
    "# adapt index to matlab index\n",
    "for i in range(1, len(stat_images)+1):\n",
    "    FDR_thresh = Node(spm.Threshold(), name=\"FDR_spmT\" + str(i))\n",
    "    FDR_thresh.base_dir = stats_dir\n",
    "    FDR_thresh.inputs.spm_mat_file = stats_dir + '/SPM.mat'\n",
    "    FDR_thresh.inputs.contrast_index = i\n",
    "    FDR_thresh.inputs.stat_image = stat_images[i-1] # need python indexing here\n",
    "    FDR_thresh.inputs.extent_fdr_p_threshold = 0.05\n",
    "    # minimal cluster size in voxels\n",
    "    #FDR_thresh.inputs.extent_threshold =\n",
    "    # default: 0.05; for initial thresholding (defining clusters)\n",
    "    #FDR_thresh.inputs.height_threshold = \n",
    "    # default: p-value; p-value or stat\n",
    "    FDR_thresh.inputs.height_threshold_type = \"p-value\"\n",
    "    # run thresholding and print output\n",
    "    results = FDR_thresh.run() \n",
    "    print(results.outputs)"
   ]
  },
  {
   "cell_type": "code",
   "execution_count": null,
   "metadata": {},
   "outputs": [],
   "source": []
  },
  {
   "cell_type": "code",
   "execution_count": null,
   "metadata": {},
   "outputs": [],
   "source": [
    "# prepare plotting of SPM12 stats results\n",
    "\n"
   ]
  },
  {
   "cell_type": "markdown",
   "metadata": {},
   "source": [
    "Testing Zone:"
   ]
  },
  {
   "cell_type": "code",
   "execution_count": 107,
   "metadata": {},
   "outputs": [
    {
     "ename": "TypeError",
     "evalue": "__init__() takes 1 positional argument but 2 were given",
     "output_type": "error",
     "traceback": [
      "\u001b[0;31m---------------------------------------------------------------------------\u001b[0m",
      "\u001b[0;31mTypeError\u001b[0m                                 Traceback (most recent call last)",
      "\u001b[0;32m<ipython-input-107-b4a52689bf59>\u001b[0m in \u001b[0;36m<module>\u001b[0;34m\u001b[0m\n\u001b[1;32m     11\u001b[0m \u001b[0;34m\u001b[0m\u001b[0m\n\u001b[1;32m     12\u001b[0m \u001b[0;31m# calculate mean image\u001b[0m\u001b[0;34m\u001b[0m\u001b[0;34m\u001b[0m\u001b[0;34m\u001b[0m\u001b[0m\n\u001b[0;32m---> 13\u001b[0;31m \u001b[0mmean_struct\u001b[0m \u001b[0;34m=\u001b[0m \u001b[0mfslmaths\u001b[0m\u001b[0;34m.\u001b[0m\u001b[0mMeanImage\u001b[0m\u001b[0;34m(\u001b[0m\u001b[0mstruct_all\u001b[0m\u001b[0;34m)\u001b[0m\u001b[0;34m\u001b[0m\u001b[0;34m\u001b[0m\u001b[0m\n\u001b[0m\u001b[1;32m     14\u001b[0m \u001b[0;31m# save mean image to VBM directory\u001b[0m\u001b[0;34m\u001b[0m\u001b[0;34m\u001b[0m\u001b[0;34m\u001b[0m\u001b[0m\n",
      "\u001b[0;31mTypeError\u001b[0m: __init__() takes 1 positional argument but 2 were given"
     ]
    }
   ],
   "source": [
    "\n",
    "# get original T1 images for all FEDs\n",
    "struct_DEP=CommandLine('ls', args='/VBM/FED*/DEP*T1*.nii', terminal_output='allatonce')\n",
    "structD=struct_DEP.run()\n",
    "struct_CON=CommandLine('ls', args='/VBM/FED*/CON*T1*.nii', terminal_output='allatonce')\n",
    "structC=struct_CON.run()\n",
    "# read the output (find stdout) line by line to list object\n",
    "struct_all = structD.runtime.stdout.splitlines() + structC.runtime.stdout.splitlines()\n",
    "struct_all = []\n",
    "# calculate mean image\n",
    "\n",
    "# save mean image to VBM directory\n"
   ]
  },
  {
   "cell_type": "code",
   "execution_count": 35,
   "metadata": {},
   "outputs": [
    {
     "ename": "NameError",
     "evalue": "name 'ThresholdStatistics' is not defined",
     "output_type": "error",
     "traceback": [
      "\u001b[0;31m---------------------------------------------------------------------------\u001b[0m",
      "\u001b[0;31mNameError\u001b[0m                                 Traceback (most recent call last)",
      "\u001b[0;32m<ipython-input-35-98e00dfbfd1f>\u001b[0m in \u001b[0;36m<module>\u001b[0;34m\u001b[0m\n\u001b[1;32m      1\u001b[0m \u001b[0;31m# apply full set of thresholds from SPM12\u001b[0m\u001b[0;34m\u001b[0m\u001b[0;34m\u001b[0m\u001b[0;34m\u001b[0m\u001b[0m\n\u001b[0;32m----> 2\u001b[0;31m \u001b[0mthresh_all\u001b[0m \u001b[0;34m=\u001b[0m \u001b[0mThresholdStatistics\u001b[0m\u001b[0;34m(\u001b[0m\u001b[0;34m)\u001b[0m\u001b[0;34m\u001b[0m\u001b[0;34m\u001b[0m\u001b[0m\n\u001b[0m\u001b[1;32m      3\u001b[0m \u001b[0mthresh_all\u001b[0m\u001b[0;34m.\u001b[0m\u001b[0minputs\u001b[0m\u001b[0;34m.\u001b[0m\u001b[0mspm_mat_file\u001b[0m \u001b[0;34m=\u001b[0m \u001b[0mstats_dir\u001b[0m \u001b[0;34m+\u001b[0m \u001b[0;34m'/SPM.mat'\u001b[0m\u001b[0;34m\u001b[0m\u001b[0;34m\u001b[0m\u001b[0m\n\u001b[1;32m      4\u001b[0m \u001b[0mthresh_all\u001b[0m\u001b[0;34m.\u001b[0m\u001b[0minputs\u001b[0m\u001b[0;34m.\u001b[0m\u001b[0mcontrast_index\u001b[0m \u001b[0;34m=\u001b[0m \u001b[0;36m1\u001b[0m\u001b[0;34m\u001b[0m\u001b[0;34m\u001b[0m\u001b[0m\n\u001b[1;32m      5\u001b[0m \u001b[0mthresh_all\u001b[0m\u001b[0;34m.\u001b[0m\u001b[0minputs\u001b[0m\u001b[0;34m.\u001b[0m\u001b[0mstat_image\u001b[0m \u001b[0;34m=\u001b[0m \u001b[0mstat_images\u001b[0m\u001b[0;34m[\u001b[0m\u001b[0;36m0\u001b[0m\u001b[0;34m]\u001b[0m\u001b[0;34m\u001b[0m\u001b[0;34m\u001b[0m\u001b[0m\n",
      "\u001b[0;31mNameError\u001b[0m: name 'ThresholdStatistics' is not defined"
     ]
    }
   ],
   "source": [
    "# apply full set of thresholds from SPM12\n",
    "thresh_all = Node(, name=\"SPM_thresholds\")\n",
    "thresh_all.base_dir = stats_dir\n",
    "thresh_all.inputs.spm_mat_file = stats_dir + '/SPM.mat'\n",
    "thresh_all.inputs.contrast_index = 1\n",
    "thresh_all.inputs.stat_image = stat_images[0]\n",
    "thresh_all.inputs.height_threshold = 4.5\n",
    "# minimal cluster size in voxels\n",
    "#thresh_all.inputs.extent_threshold ="
   ]
  },
  {
   "cell_type": "code",
   "execution_count": null,
   "metadata": {},
   "outputs": [],
   "source": [
    "# run thresholding and print output\n",
    "results = thresh_all.run() \n",
    "print(results.outputs)"
   ]
  }
 ],
 "metadata": {
  "kernelspec": {
   "display_name": "Python [conda env:neuro] *",
   "language": "python",
   "name": "conda-env-neuro-py"
  },
  "language_info": {
   "codemirror_mode": {
    "name": "ipython",
    "version": 3
   },
   "file_extension": ".py",
   "mimetype": "text/x-python",
   "name": "python",
   "nbconvert_exporter": "python",
   "pygments_lexer": "ipython3",
   "version": "3.7.6"
  }
 },
 "nbformat": 4,
 "nbformat_minor": 4
}
