{
 "cells": [
  {
   "cell_type": "markdown",
   "metadata": {},
   "source": [
    "# Prepare and perform modelling and statistical analysis"
   ]
  },
  {
   "cell_type": "markdown",
   "metadata": {},
   "source": [
    "Gather necessary pre-requisites:"
   ]
  },
  {
   "cell_type": "code",
   "execution_count": 1,
   "metadata": {},
   "outputs": [
    {
     "name": "stdout",
     "output_type": "stream",
     "text": [
      "200418-07:27:55,113 nipype.utils INFO:\n",
      "\t Running nipype version 1.5.0-dev (latest: 1.4.2)\n"
     ]
    }
   ],
   "source": [
    "# import everything you need\n",
    "from nipype import Node, Workflow\n",
    "import nipype.interfaces.spm as spm\n",
    "import nipype.interfaces.fsl as fsl\n",
    "from nipype.interfaces.base import CommandLine\n",
    "import numpy as np\n",
    "import pandas as pd\n",
    "import nibabel as nb\n",
    "import os, re\n",
    "from itertools import zip_longest"
   ]
  },
  {
   "cell_type": "markdown",
   "metadata": {},
   "source": [
    "Get files"
   ]
  },
  {
   "cell_type": "code",
   "execution_count": 2,
   "metadata": {},
   "outputs": [],
   "source": [
    "# set VBM analysis directory\n",
    "VBM_dir = \"/VBM\"\n",
    "\n",
    "# get normalised GM/WM images to analyse in MultipleRegression model\n",
    "# change norm_dir to vary between GM and WM analysis\n",
    "norm_dirs = [os.path.join(VBM_dir, normdir)\n",
    "             for normdir in os.listdir(VBM_dir)\n",
    "             if normdir.startswith(\"DARTEL_norm2mni\")]\n",
    "\n",
    "# grep files according to regex\n",
    "images_mreg_GM = [i for i in os.listdir(norm_dirs[0]) if re.match(r'(smwc.*\\d{14,}.*.nii)', i)]\n",
    "images_mreg_WM = [i for i in os.listdir(norm_dirs[1]) if re.match(r'(smwc.*\\d{14,}.*.nii)', i)]\n",
    "\n",
    "# turn filenames into full-path objects and sort\n",
    "images_mreg_GM = sorted([os.path.join(norm_dirs[0], i) for i in images_mreg_GM])\n",
    "images_mreg_WM = sorted([os.path.join(norm_dirs[1], i) for i in images_mreg_WM])\n",
    "\n",
    "# make dict for GM and WM\n",
    "images_mreg = {\"GM\":images_mreg_GM, \"WM\":images_mreg_WM}"
   ]
  },
  {
   "cell_type": "code",
   "execution_count": 3,
   "metadata": {
    "collapsed": true,
    "jupyter": {
     "outputs_hidden": true
    }
   },
   "outputs": [
    {
     "name": "stdout",
     "output_type": "stream",
     "text": [
      "Images where normalised only if included in study specific template!\n",
      "GM , length: 62 ['/VBM/DARTEL_norm2mni_c1/smwc1CON_FED006_T1_MPRAGE_SAG_ISO_0_9_0005_20141106153429.nii', '/VBM/DARTEL_norm2mni_c1/smwc1CON_FED007_T1_MPRAGE_SAG_ISO_0_9_0005_20141107104226.nii', '/VBM/DARTEL_norm2mni_c1/smwc1CON_FED008_T1_MPRAGE_SAG_ISO_0_9_0005_20141112155009.nii', '/VBM/DARTEL_norm2mni_c1/smwc1CON_FED009_T1_MPRAGE_SAG_ISO_0_9_0005_20141117154954.nii']\n",
      "WM , length: 62 ['/VBM/DARTEL_norm2mni_c2/smwc2CON_FED006_T1_MPRAGE_SAG_ISO_0_9_0005_20141106153429.nii', '/VBM/DARTEL_norm2mni_c2/smwc2CON_FED007_T1_MPRAGE_SAG_ISO_0_9_0005_20141107104226.nii', '/VBM/DARTEL_norm2mni_c2/smwc2CON_FED008_T1_MPRAGE_SAG_ISO_0_9_0005_20141112155009.nii', '/VBM/DARTEL_norm2mni_c2/smwc2CON_FED009_T1_MPRAGE_SAG_ISO_0_9_0005_20141117154954.nii']\n"
     ]
    }
   ],
   "source": [
    "print(\"Images where normalised only if included in study specific template!\")\n",
    "\n",
    "for k,v in images_mreg.items():\n",
    "    print(k, \", length:\", len(v), v[0:4])"
   ]
  },
  {
   "cell_type": "code",
   "execution_count": 4,
   "metadata": {},
   "outputs": [],
   "source": [
    "# group smwc1/2 images by condition\n",
    "imreg_norm={}\n",
    "imreg_norm[\"dep_GM\"]=[i for i in images_mreg[\"GM\"] if re.match(r'.*DEP_.*.nii', i)]\n",
    "imreg_norm[\"con_GM\"]=[i for i in images_mreg[\"GM\"] if re.match(r'.*CON_.*.nii', i)]\n",
    "imreg_norm[\"dep_WM\"]=[i for i in images_mreg[\"WM\"] if re.match(r'.*DEP_.*.nii', i)]\n",
    "imreg_norm[\"con_WM\"]=[i for i in images_mreg[\"WM\"] if re.match(r'.*CON_.*.nii', i)]"
   ]
  },
  {
   "cell_type": "code",
   "execution_count": 5,
   "metadata": {},
   "outputs": [
    {
     "name": "stdout",
     "output_type": "stream",
     "text": [
      "dep_GM , length: 31 ['/VBM/DARTEL_norm2mni_c1/smwc1DEP_FED011_T1_MPRAGE_SAG_ISO_0_9_0005_20141119161708.nii', '/VBM/DARTEL_norm2mni_c1/smwc1DEP_FED014_T1_MPRAGE_SAG_ISO_0_9_0005_20141125153216.nii', '/VBM/DARTEL_norm2mni_c1/smwc1DEP_FED018_T1_MPRAGE_SAG_ISO_0_9_0005_20141208163153.nii', '/VBM/DARTEL_norm2mni_c1/smwc1DEP_FED027_T1_MPRAGE_SAG_ISO_0_9_0005_20150218162601.nii']\n",
      "con_GM , length: 31 ['/VBM/DARTEL_norm2mni_c1/smwc1CON_FED006_T1_MPRAGE_SAG_ISO_0_9_0005_20141106153429.nii', '/VBM/DARTEL_norm2mni_c1/smwc1CON_FED007_T1_MPRAGE_SAG_ISO_0_9_0005_20141107104226.nii', '/VBM/DARTEL_norm2mni_c1/smwc1CON_FED008_T1_MPRAGE_SAG_ISO_0_9_0005_20141112155009.nii', '/VBM/DARTEL_norm2mni_c1/smwc1CON_FED009_T1_MPRAGE_SAG_ISO_0_9_0005_20141117154954.nii']\n",
      "dep_WM , length: 31 ['/VBM/DARTEL_norm2mni_c2/smwc2DEP_FED011_T1_MPRAGE_SAG_ISO_0_9_0005_20141119161708.nii', '/VBM/DARTEL_norm2mni_c2/smwc2DEP_FED014_T1_MPRAGE_SAG_ISO_0_9_0005_20141125153216.nii', '/VBM/DARTEL_norm2mni_c2/smwc2DEP_FED018_T1_MPRAGE_SAG_ISO_0_9_0005_20141208163153.nii', '/VBM/DARTEL_norm2mni_c2/smwc2DEP_FED027_T1_MPRAGE_SAG_ISO_0_9_0005_20150218162601.nii']\n",
      "con_WM , length: 31 ['/VBM/DARTEL_norm2mni_c2/smwc2CON_FED006_T1_MPRAGE_SAG_ISO_0_9_0005_20141106153429.nii', '/VBM/DARTEL_norm2mni_c2/smwc2CON_FED007_T1_MPRAGE_SAG_ISO_0_9_0005_20141107104226.nii', '/VBM/DARTEL_norm2mni_c2/smwc2CON_FED008_T1_MPRAGE_SAG_ISO_0_9_0005_20141112155009.nii', '/VBM/DARTEL_norm2mni_c2/smwc2CON_FED009_T1_MPRAGE_SAG_ISO_0_9_0005_20141117154954.nii']\n"
     ]
    }
   ],
   "source": [
    "# control resulting lists and their length\n",
    "for k,v in imreg_norm.items():\n",
    "    print(k, \", length:\", len(v), v[0:4])"
   ]
  },
  {
   "cell_type": "markdown",
   "metadata": {},
   "source": [
    "Calculate Global Values (used for relating each subject's GM/WM/CSF volume to the total intracranial volume)"
   ]
  },
  {
   "cell_type": "code",
   "execution_count": 6,
   "metadata": {},
   "outputs": [],
   "source": [
    "# calculate \"global values\" via nibabel objects: sum up the values and multiply by volume of each voxel\n",
    "# from: total volume GM, WM and CSF\n",
    "\n",
    "# find all the files starting with \"c1,c2,c3\" in all subdirs of the VBM directory via CommandLine interface from nipype\n",
    "c1_files=CommandLine('find', args='/VBM/FED* -maxdepth 2 -type f -name c1*.nii', terminal_output='allatonce')\n",
    "c1=c1_files.run()\n",
    "c2_files=CommandLine('find', args='/VBM/FED* -maxdepth 2 -type f -name c2*.nii', terminal_output='allatonce')\n",
    "c2=c2_files.run()\n",
    "c3_files=CommandLine('find', args='/VBM/FED* -maxdepth 2 -type f -name c3*.nii', terminal_output='allatonce')\n",
    "c3=c3_files.run()\n",
    "\n",
    "# read the output (find stdout) line by line to list object\n",
    "globals_GM = c1.runtime.stdout.splitlines()\n",
    "globals_WM = c2.runtime.stdout.splitlines()\n",
    "globals_CSF = c3.runtime.stdout.splitlines()\n",
    "\n",
    "# remove subject 10 from lists(-> was not normalised or in template)\n",
    "globals_GM = [i for i in globals_GM if i.split('/',3)[2] != \"FED010\"]\n",
    "globals_WM = [i for i in globals_WM if i.split('/',3)[2] != \"FED010\"]\n",
    "globals_CSF = [i for i in globals_CSF if i.split('/',3)[2] != \"FED010\"]\n",
    "\n",
    "# sort globals lists according to GM file hierarchy in FED subject sequence\n",
    "globals_GM_sorted = []\n",
    "globals_WM_sorted = []\n",
    "globals_CSF_sorted = []\n",
    "\n",
    "for i in imreg_norm[\"dep_GM\"]+imreg_norm[\"con_GM\"]:\n",
    "    for j in globals_GM:\n",
    "        if i.split('_',4)[3] == j.split('/',3)[2]:\n",
    "            globals_GM_sorted.append(j)\n",
    "    for k in globals_WM:\n",
    "        if i.split('_',4)[3] == k.split('/',3)[2]:\n",
    "            globals_WM_sorted.append(k)\n",
    "    for l in globals_CSF:\n",
    "        if i.split('_',4)[3] == l.split('/',3)[2]:\n",
    "            globals_CSF_sorted.append(l)"
   ]
  },
  {
   "cell_type": "code",
   "execution_count": 7,
   "metadata": {
    "collapsed": true,
    "jupyter": {
     "outputs_hidden": true
    }
   },
   "outputs": [
    {
     "name": "stdout",
     "output_type": "stream",
     "text": [
      "['/VBM/FED011/DARTEL_newsegment/c1DEP_FED011_T1_MPRAGE_SAG_ISO_0_9_0005_20141119161708.nii', '/VBM/FED014/DARTEL_newsegment/c1DEP_FED014_T1_MPRAGE_SAG_ISO_0_9_0005_20141125153216.nii', '/VBM/FED018/DARTEL_newsegment/c1DEP_FED018_T1_MPRAGE_SAG_ISO_0_9_0005_20141208163153.nii', '/VBM/FED027/DARTEL_newsegment/c1DEP_FED027_T1_MPRAGE_SAG_ISO_0_9_0005_20150218162601.nii'] \n",
      " length: 62\n",
      "['/VBM/FED011/DARTEL_newsegment/c2DEP_FED011_T1_MPRAGE_SAG_ISO_0_9_0005_20141119161708.nii', '/VBM/FED014/DARTEL_newsegment/c2DEP_FED014_T1_MPRAGE_SAG_ISO_0_9_0005_20141125153216.nii', '/VBM/FED018/DARTEL_newsegment/c2DEP_FED018_T1_MPRAGE_SAG_ISO_0_9_0005_20141208163153.nii', '/VBM/FED027/DARTEL_newsegment/c2DEP_FED027_T1_MPRAGE_SAG_ISO_0_9_0005_20150218162601.nii'] \n",
      " length: 62\n",
      "['/VBM/FED011/DARTEL_newsegment/c3DEP_FED011_T1_MPRAGE_SAG_ISO_0_9_0005_20141119161708.nii', '/VBM/FED014/DARTEL_newsegment/c3DEP_FED014_T1_MPRAGE_SAG_ISO_0_9_0005_20141125153216.nii', '/VBM/FED018/DARTEL_newsegment/c3DEP_FED018_T1_MPRAGE_SAG_ISO_0_9_0005_20141208163153.nii', '/VBM/FED027/DARTEL_newsegment/c3DEP_FED027_T1_MPRAGE_SAG_ISO_0_9_0005_20150218162601.nii'] \n",
      " length: 62\n",
      "['/VBM/DARTEL_norm2mni_c1/smwc1DEP_FED011_T1_MPRAGE_SAG_ISO_0_9_0005_20141119161708.nii', '/VBM/DARTEL_norm2mni_c1/smwc1DEP_FED014_T1_MPRAGE_SAG_ISO_0_9_0005_20141125153216.nii', '/VBM/DARTEL_norm2mni_c1/smwc1DEP_FED018_T1_MPRAGE_SAG_ISO_0_9_0005_20141208163153.nii', '/VBM/DARTEL_norm2mni_c1/smwc1DEP_FED027_T1_MPRAGE_SAG_ISO_0_9_0005_20150218162601.nii'] \n",
      " length: 62\n"
     ]
    }
   ],
   "source": [
    "# control results\n",
    "print(globals_GM_sorted[0:4],'\\n', 'length:', len(globals_GM_sorted))\n",
    "print(globals_WM_sorted[0:4], '\\n', 'length:', len(globals_WM_sorted))\n",
    "print(globals_CSF_sorted[0:4], '\\n', 'length:', len(globals_CSF_sorted))\n",
    "print(imreg_norm[\"dep_GM\"][0:4], '\\n', 'length:', len(imreg_norm[\"dep_GM\"]+imreg_norm[\"dep_WM\"]))"
   ]
  },
  {
   "cell_type": "code",
   "execution_count": 8,
   "metadata": {},
   "outputs": [],
   "source": [
    "# create nibabel objects from all files\n",
    "globals_GM_nb = [nb.load(i) for i in globals_GM_sorted]\n",
    "globals_WM_nb = [nb.load(i) for i in globals_WM_sorted]\n",
    "globals_CSF_nb = [nb.load(i) for i in globals_CSF_sorted]\n",
    "\n",
    "# create list with the func data via dataobj property as a proxy (caches object once instead of loading it from disk again)\n",
    "globals_GM_fvals = [i.dataobj for i in globals_GM_nb]\n",
    "globals_WM_fvals = [i.dataobj for i in globals_WM_nb]\n",
    "globals_CSF_fvals = [i.dataobj for i in globals_CSF_nb]"
   ]
  },
  {
   "cell_type": "code",
   "execution_count": 9,
   "metadata": {},
   "outputs": [],
   "source": [
    "# 0 values outside the brain in each volume -> 0 vals overbias and make globals smaller\n",
    "# c1,2,3 also are not normalised -> different positions for different subjects\n",
    "# -> take all c images and calculate below values for each matter ;)\n",
    "\n",
    "# FOR USING PROPORTIONAL SCALING\n",
    "\n",
    "# re-asign lists\n",
    "globals_GM=[]\n",
    "globals_WM=[]\n",
    "globals_CSF=[]\n",
    "\n",
    "# loop over GM WM CSF lists and calculate globals in ml (volume^^) \n",
    "# -> TODO: THIS DOES NOT WORK (using proportional scaling in model estimation), EVEN IF SCALED BY 1000 -> FIX\n",
    "for a,b in zip_longest(globals_GM_fvals,globals_GM_nb):\n",
    "    globals_GM.append(np.sum(a[:,:,:][a[:,:,:] > 0])\n",
    "                       * np.product(b.header['pixdim'][1:4])\n",
    "                       / np.size(a[:,:,:][a[:,:,:] > 0]) # FOR PRACTICALITY, ACTUALLY 1000 because voxelsize is in mm^3 (= 0.001 ml)\n",
    "                     )\n",
    "\n",
    "for a,b in zip_longest(globals_WM_fvals,globals_WM_nb):\n",
    "    globals_WM.append(np.sum(a[:,:,:][a[:,:,:] > 0])\n",
    "                       * np.product(b.header['pixdim'][1:4])\n",
    "                       / np.size(a[:,:,:][a[:,:,:] > 0]) # FOR PRACTICALITY, ACTUALLY 1000 because voxelsize is in mm^3 (= 0.001 ml)\n",
    "                     )\n",
    "\n",
    "for a,b in zip_longest(globals_CSF_fvals,globals_CSF_nb):\n",
    "    globals_CSF.append(np.sum(a[:,:,:][a[:,:,:] > 0])\n",
    "                        * np.product(b.header['pixdim'][1:4])\n",
    "                        / np.size(a[:,:,:][a[:,:,:] > 0]) # FOR PRACTICALITY, ACTUALLY 1000 because voxelsize is in mm^3 (= 0.001 ml)\n",
    "                      )\n",
    "\n",
    "# combine globals to get total intracranial volume (TiCV)\n",
    "globals_TiCV_propscale=[]\n",
    "\n",
    "for a,b,c in zip_longest(globals_GM,globals_WM,globals_CSF):\n",
    "    globals_TiCV_propscale.append(np.sum([a,b,c]))"
   ]
  },
  {
   "cell_type": "code",
   "execution_count": 10,
   "metadata": {},
   "outputs": [],
   "source": [
    "# correct calculation of global values taken from \"get_totals.m\" script from SPM proprietors\n",
    "\n",
    "# FOR USING ANCOVA SCALING\n",
    "\n",
    "# re-asign lists\n",
    "globals_GM=[]\n",
    "globals_WM=[]\n",
    "globals_CSF=[]\n",
    "\n",
    "# loop over GM WM CSF lists and calculate globals in ml (volume^^)\n",
    "for a,b in zip_longest(globals_GM_fvals,globals_GM_nb):\n",
    "    globals_GM.append(np.sum(a[:,:,:][a[:,:,:] > 0])\n",
    "                       * np.product(b.header['pixdim'][1:4])\n",
    "                       / 1000 # voxelsize is in mm^3 (= 0.001 ml)\n",
    "                     )\n",
    "\n",
    "for a,b in zip_longest(globals_WM_fvals,globals_WM_nb):\n",
    "    globals_WM.append(np.sum(a[:,:,:][a[:,:,:] > 0])\n",
    "                       * np.product(b.header['pixdim'][1:4])\n",
    "                       / 1000 # voxelsize is in mm^3 (= 0.001 ml)                     \n",
    "                     )\n",
    "\n",
    "for a,b in zip_longest(globals_CSF_fvals,globals_CSF_nb):\n",
    "    globals_CSF.append(np.sum(a[:,:,:][a[:,:,:] > 0])\n",
    "                        * np.product(b.header['pixdim'][1:4])\n",
    "                        / 1000 # voxelsize is in mm^3 (= 0.001 ml)                      \n",
    "                      )\n",
    "\n",
    "# combine globals to get total intracranial volume (TiCV)\n",
    "globals_TiCV_ANCscale=[]\n",
    "\n",
    "for a,b,c in zip_longest(globals_GM,globals_WM,globals_CSF):\n",
    "    globals_TiCV_ANCscale.append(np.sum([a,b,c]))"
   ]
  },
  {
   "cell_type": "code",
   "execution_count": 11,
   "metadata": {
    "collapsed": true,
    "jupyter": {
     "outputs_hidden": true
    }
   },
   "outputs": [
    {
     "name": "stdout",
     "output_type": "stream",
     "text": [
      "The range of globals_TiCV for use with proportional scaling is:      \n",
      " 1.1573917414830786  -  1.4875706951988656 \n",
      " The first 4 values are:   [1.395190074663154, 1.321959342933752, 1.3187153317198244, 1.4448610312857435] \n",
      "\n",
      "The range of globals_TiCV for use with ANCOVA scaling is:      \n",
      " 1136.4004505186865  -  1810.969282792519 \n",
      " The first 4 values are:   [1804.6625259115267, 1393.4684956280423, 1452.5649777612593, 1516.8245994690847] \n",
      "\n",
      "The range of values in c images is always the same: \n",
      " 0.0  -  1.0000000591389835\n"
     ]
    }
   ],
   "source": [
    "# establish range of TiCV globals\n",
    "print(\"The range of globals_TiCV for use with proportional scaling is:     \",\n",
    "      \"\\n\", np.min(globals_TiCV_propscale), \" - \", np.max(globals_TiCV_propscale), \"\\n\",\n",
    "      \"The first 4 values are:  \", globals_TiCV_propscale[0:4], \"\\n\")\n",
    "print(\"The range of globals_TiCV for use with ANCOVA scaling is:     \",\n",
    "      \"\\n\", np.min(globals_TiCV_ANCscale), \" - \", np.max(globals_TiCV_ANCscale), \"\\n\",\n",
    "      \"The first 4 values are:  \", globals_TiCV_ANCscale[0:4], \"\\n\")\n",
    "# establish range of values in c files\n",
    "#for a,b,c in zip_longest(globals_GM_fvals, globals_WM_fvals, globals_CSF_fvals):\n",
    "#    print(np.amin(a), np.amax(a),np.amin(b), np.amax(b),np.amin(c), np.amax(c))\n",
    "print(\"The range of values in c images is always the same:\", \"\\n\",\n",
    "      np.mean([np.amin(i) for i in globals_CSF_fvals]), \" - \", np.mean([np.amax(i) for i in globals_CSF_fvals]))"
   ]
  },
  {
   "cell_type": "markdown",
   "metadata": {},
   "source": [
    "Get all necessary Covariates (Condition and Nuisance)"
   ]
  },
  {
   "cell_type": "code",
   "execution_count": 12,
   "metadata": {},
   "outputs": [],
   "source": [
    "# create covariates (SPM makes NO DIFFERENCE btw covariates and conditions)\n",
    "# get depression, sex and age - data from list in .xlsx file \n",
    "cov_file_ID=\"FED_Subject_Assignments.xlsx\"\n",
    "content=pd.read_excel(cov_file_ID, sheet_name=\"analysis\", usecols=['Sub Num FED_XXX', 'BDI 22 Score', 'Gender', 'Age'])\n",
    "\n",
    "# remove subject 10 from lists(-> was not normalised or in template)\n",
    "content=content[content[\"Sub Num FED_XXX\"] != 10]\n",
    "\n",
    "# sort panda dataframe according to GM file hierarchy in FED subject sequence\n",
    "# define sort-by list (get FED_ID and format to fit entries in dataframe)\n",
    "mreg_ID = [i.split('_',4)[3][3:].lstrip(\"0\") for i in imreg_norm[\"dep_GM\"]+imreg_norm[\"con_GM\"]]\n",
    "# transform values to integers\n",
    "mreg_ID = [np.int(i) for i in mreg_ID]\n",
    "# define a categorical variable to sort a column and corresponding lines after\n",
    "content['mreg_ID'] = pd.Categorical(content['Sub Num FED_XXX'], categories = mreg_ID, ordered = True)\n",
    "# sort dataframe\n",
    "content.sort_values('mreg_ID', inplace=True)\n",
    "\n",
    "# get relevant covariates\n",
    "dep=content['BDI 22 Score'].tolist()\n",
    "sex=content['Gender'].tolist()\n",
    "age=content['Age'].tolist()\n",
    "\n",
    "# create dictionaries - think about modelling the interaction between different factors here\n",
    "# depression dep: 1, con: 0\n",
    "cov_dep={\"vector\":dep, \"name\":\"MDD\", \"centering\":0}\n",
    "\n",
    "# sex - dictionary {vector, name, centering} female: 1, male: 0\n",
    "cov_sex={\"vector\":sex, \"name\":\"Sex\", \"centering\":0}\n",
    "\n",
    "# age - dictionary {vector, name, centering}\n",
    "cov_age={\"vector\":age, \"name\":\"Age\", \"centering\":0}"
   ]
  },
  {
   "cell_type": "code",
   "execution_count": 13,
   "metadata": {
    "collapsed": true,
    "jupyter": {
     "outputs_hidden": true
    }
   },
   "outputs": [
    {
     "name": "stdout",
     "output_type": "stream",
     "text": [
      "[11, 14, 18, 27, 28, 29, 30, 31, 32, 33, 34, 35, 36, 37, 38, 39, 40, 41, 42, 43, 44, 45, 46, 47, 48, 51, 52, 55, 57, 59, 66, 6, 7, 8, 9, 12, 13, 15, 16, 17, 19, 20, 21, 22, 23, 24, 25, 26, 49, 50, 53, 54, 56, 58, 60, 61, 62, 63, 64, 65, 67, 68]\n",
      "    Sub Num FED_XXX  Gender  Age  BDI 22 Score mreg_ID\n",
      "5                11       0   18             1      11\n",
      "8                14       1   18             1      14\n",
      "12               18       1   18             1      18\n",
      "21               27       1   19             1      27\n",
      "22               28       1   20             1      28\n",
      "..              ...     ...  ...           ...     ...\n",
      "57               63       0   19             0      63\n",
      "58               64       1   19             0      64\n",
      "59               65       1   18             0      65\n",
      "61               67       1   20             0      67\n",
      "62               68       1   18             0      68\n",
      "\n",
      "[62 rows x 5 columns]\n"
     ]
    }
   ],
   "source": [
    "# control results\n",
    "print(mreg_ID)\n",
    "print(content)"
   ]
  },
  {
   "cell_type": "code",
   "execution_count": 14,
   "metadata": {},
   "outputs": [
    {
     "name": "stdout",
     "output_type": "stream",
     "text": [
      "['/VBM/DARTEL_norm2mni_c1/smwc1DEP_FED011_T1_MPRAGE_SAG_ISO_0_9_0005_20141119161708.nii', '/VBM/DARTEL_norm2mni_c1/smwc1DEP_FED014_T1_MPRAGE_SAG_ISO_0_9_0005_20141125153216.nii', '/VBM/DARTEL_norm2mni_c1/smwc1DEP_FED018_T1_MPRAGE_SAG_ISO_0_9_0005_20141208163153.nii', '/VBM/DARTEL_norm2mni_c1/smwc1DEP_FED027_T1_MPRAGE_SAG_ISO_0_9_0005_20150218162601.nii', '/VBM/DARTEL_norm2mni_c1/smwc1DEP_FED028_T1_MPRAGE_SAG_ISO_0_9_0005_20150219142148.nii'] \n",
      "\n",
      " ['/VBM/DARTEL_norm2mni_c2/smwc2DEP_FED011_T1_MPRAGE_SAG_ISO_0_9_0005_20141119161708.nii', '/VBM/DARTEL_norm2mni_c2/smwc2DEP_FED014_T1_MPRAGE_SAG_ISO_0_9_0005_20141125153216.nii', '/VBM/DARTEL_norm2mni_c2/smwc2DEP_FED018_T1_MPRAGE_SAG_ISO_0_9_0005_20141208163153.nii', '/VBM/DARTEL_norm2mni_c2/smwc2DEP_FED027_T1_MPRAGE_SAG_ISO_0_9_0005_20150218162601.nii', '/VBM/DARTEL_norm2mni_c2/smwc2DEP_FED028_T1_MPRAGE_SAG_ISO_0_9_0005_20150219142148.nii'] \n",
      "\n",
      " [1.395190074663154, 1.321959342933752, 1.3187153317198244, 1.4448610312857435, 1.4875706951988656] \n",
      " [1804.6625259115267, 1393.4684956280423, 1452.5649777612593, 1516.8245994690847, 1355.789279323083] \n",
      "\n",
      "62 62 62 62 62 62 62\n"
     ]
    }
   ],
   "source": [
    "# control input length of all mreg inputs\n",
    "print(imreg_norm[\"dep_GM\"][:5], \"\\n\\n\",\n",
    "      imreg_norm[\"dep_WM\"][:5], \"\\n\\n\",\n",
    "      globals_TiCV_propscale[:5], \"\\n\",\n",
    "      globals_TiCV_ANCscale[:5], \"\\n\"\n",
    "     )\n",
    "print(len(imreg_norm[\"dep_GM\"]+imreg_norm[\"con_GM\"]),\n",
    "      len(imreg_norm[\"dep_WM\"]+imreg_norm[\"con_WM\"]),\n",
    "      len(globals_TiCV_propscale),\n",
    "      len(globals_TiCV_ANCscale),\n",
    "      len(cov_dep['vector']),\n",
    "      len(cov_sex['vector']),\n",
    "      len(cov_age['vector']))"
   ]
  },
  {
   "cell_type": "code",
   "execution_count": 19,
   "metadata": {},
   "outputs": [],
   "source": [
    "# collect relevant model input\n",
    "tool=\"SPM\"\n",
    "model_name=\"MReg\"\n",
    "Mreg_inputs = {\"GM\":(norm_dirs[0], imreg_norm[\"dep_GM\"]+imreg_norm[\"con_GM\"]),\n",
    "              \"WM\":(norm_dirs[1], imreg_norm[\"dep_WM\"]+imreg_norm[\"con_WM\"])}\n",
    "\n",
    "# correct globals for both scalings - propscale model estimation error: no inmask voxels\n",
    "global_norm_scaling = {\"PropScale\": (2, globals_TiCV_propscale), \"ANCScale\": (3, globals_TiCV_ANCscale)}\n",
    "\n",
    "# get intra-cranial volume mask from tpm dir in spm12\n",
    "explicit_mask = '/opt/spm12-r7219/spm12_mcr/spm12/tpm/mask_ICV.nii'\n",
    "# when tying to assign operator as v[0] from MreMreg_inputs: TypeError: 'tuple' object does not support item assignment"
   ]
  },
  {
   "cell_type": "markdown",
   "metadata": {},
   "source": [
    "Write and Estimate Your Model in SPM"
   ]
  },
  {
   "cell_type": "code",
   "execution_count": 20,
   "metadata": {
    "collapsed": true,
    "jupyter": {
     "outputs_hidden": true
    }
   },
   "outputs": [
    {
     "name": "stdout",
     "output_type": "stream",
     "text": [
      "200418-07:40:36,299 nipype.workflow INFO:\n",
      "\t [Node] Setting-up \"GM_SPM_MReg_PropScale\" in \"/VBM/DARTEL_norm2mni_c1/GM_SPM_MReg_PropScale\".\n",
      "200418-07:40:36,316 nipype.workflow INFO:\n",
      "\t [Node] Running \"GM_SPM_MReg_PropScale\" (\"nipype.interfaces.spm.model.MultipleRegressionDesign\")\n",
      "200418-07:40:41,586 nipype.workflow INFO:\n",
      "\t [Node] Finished \"GM_SPM_MReg_PropScale\".\n",
      "\n",
      "spm_mat_file = /VBM/DARTEL_norm2mni_c1/GM_SPM_MReg_PropScale/SPM.mat\n",
      "\n",
      "200418-07:40:41,592 nipype.workflow INFO:\n",
      "\t [Node] Setting-up \"GM_SPM_MReg_ANCScale\" in \"/VBM/DARTEL_norm2mni_c1/GM_SPM_MReg_ANCScale\".\n",
      "200418-07:40:41,607 nipype.workflow INFO:\n",
      "\t [Node] Running \"GM_SPM_MReg_ANCScale\" (\"nipype.interfaces.spm.model.MultipleRegressionDesign\")\n",
      "200418-07:40:46,737 nipype.workflow INFO:\n",
      "\t [Node] Finished \"GM_SPM_MReg_ANCScale\".\n",
      "\n",
      "spm_mat_file = /VBM/DARTEL_norm2mni_c1/GM_SPM_MReg_ANCScale/SPM.mat\n",
      "\n",
      "200418-07:40:46,743 nipype.workflow INFO:\n",
      "\t [Node] Setting-up \"WM_SPM_MReg_PropScale\" in \"/VBM/DARTEL_norm2mni_c2/WM_SPM_MReg_PropScale\".\n",
      "200418-07:40:46,759 nipype.workflow INFO:\n",
      "\t [Node] Running \"WM_SPM_MReg_PropScale\" (\"nipype.interfaces.spm.model.MultipleRegressionDesign\")\n",
      "200418-07:40:51,732 nipype.workflow INFO:\n",
      "\t [Node] Finished \"WM_SPM_MReg_PropScale\".\n",
      "\n",
      "spm_mat_file = /VBM/DARTEL_norm2mni_c2/WM_SPM_MReg_PropScale/SPM.mat\n",
      "\n",
      "200418-07:40:51,738 nipype.workflow INFO:\n",
      "\t [Node] Setting-up \"WM_SPM_MReg_ANCScale\" in \"/VBM/DARTEL_norm2mni_c2/WM_SPM_MReg_ANCScale\".\n",
      "200418-07:40:51,753 nipype.workflow INFO:\n",
      "\t [Node] Running \"WM_SPM_MReg_ANCScale\" (\"nipype.interfaces.spm.model.MultipleRegressionDesign\")\n",
      "200418-07:40:56,897 nipype.workflow INFO:\n",
      "\t [Node] Finished \"WM_SPM_MReg_ANCScale\".\n",
      "\n",
      "spm_mat_file = /VBM/DARTEL_norm2mni_c2/WM_SPM_MReg_ANCScale/SPM.mat\n",
      "\n"
     ]
    }
   ],
   "source": [
    "# create multiple regression Nodes for GM and WM separately\n",
    "for tissue,value in Mreg_inputs.items():\n",
    "    for scaleID,scalevalues in global_norm_scaling.items():\n",
    "        mreg = Node(spm.MultipleRegressionDesign(), name=f\"{tissue}_{tool}_{model_name}_{scaleID}\")\n",
    "        mreg.base_dir= value[0]\n",
    "        mreg.inputs.in_files = value[1]\n",
    "        mreg.inputs.global_calc_values = scalevalues[1]\n",
    "        # use proportional global normalization\n",
    "        mreg.inputs.global_normalization = scalevalues[0]\n",
    "        # cut-off value for a-posteriori probability of GM at a given voxel: 20% [ -> Ashburner VBM Tutorial]\n",
    "        mreg.inputs.threshold_mask_absolute = 0.2\n",
    "        # set explicit mask to set voxels to analyse\n",
    "        mreg.inputs.explicit_mask_file= explicit_mask\n",
    "        mreg.inputs.covariates = [cov_dep, cov_sex, cov_age]\n",
    "        # make model (design, not estimate) and print results\n",
    "        results = mreg.run()\n",
    "        print(results.outputs)"
   ]
  },
  {
   "cell_type": "code",
   "execution_count": 21,
   "metadata": {
    "collapsed": true,
    "jupyter": {
     "outputs_hidden": true
    }
   },
   "outputs": [
    {
     "name": "stdout",
     "output_type": "stream",
     "text": [
      "['/VBM/DARTEL_norm2mni_c1/GM_SPM_MReg_ANCScale', '/VBM/DARTEL_norm2mni_c1/GM_SPM_MReg_PropScale', '/VBM/DARTEL_norm2mni_c2/WM_SPM_MReg_PropScale', '/VBM/DARTEL_norm2mni_c2/WM_SPM_MReg_ANCScale']\n"
     ]
    }
   ],
   "source": [
    "# specify MReg directory\n",
    "MReg_dirs = [os.path.join(normdir, regdir)\n",
    "             for normdir in norm_dirs \n",
    "             for regdir in os.listdir(normdir)\n",
    "             if re.match(r'.*SPM_M.*', regdir)]\n",
    "\n",
    "print(MReg_dirs)"
   ]
  },
  {
   "cell_type": "code",
   "execution_count": 22,
   "metadata": {
    "collapsed": true,
    "jupyter": {
     "outputs_hidden": true
    }
   },
   "outputs": [
    {
     "name": "stdout",
     "output_type": "stream",
     "text": [
      "200418-07:41:17,696 nipype.workflow INFO:\n",
      "\t [Node] Setting-up \"estimate_MReg\" in \"/VBM/DARTEL_norm2mni_c1/GM_SPM_MReg_ANCScale/estimate_MReg\".\n",
      "200418-07:41:17,701 nipype.workflow INFO:\n",
      "\t [Node] Running \"estimate_MReg\" (\"nipype.interfaces.spm.model.EstimateModel\")\n",
      "200418-07:41:34,283 nipype.workflow INFO:\n",
      "\t [Node] Finished \"estimate_MReg\".\n",
      "\n",
      "ARcoef = <undefined>\n",
      "Cbetas = <undefined>\n",
      "RPVimage = /VBM/DARTEL_norm2mni_c1/GM_SPM_MReg_ANCScale/estimate_MReg/RPV.nii\n",
      "SDbetas = <undefined>\n",
      "SDerror = <undefined>\n",
      "beta_images = ['/VBM/DARTEL_norm2mni_c1/GM_SPM_MReg_ANCScale/estimate_MReg/beta_0001.nii', '/VBM/DARTEL_norm2mni_c1/GM_SPM_MReg_ANCScale/estimate_MReg/beta_0002.nii', '/VBM/DARTEL_norm2mni_c1/GM_SPM_MReg_ANCScale/estimate_MReg/beta_0003.nii', '/VBM/DARTEL_norm2mni_c1/GM_SPM_MReg_ANCScale/estimate_MReg/beta_0004.nii', '/VBM/DARTEL_norm2mni_c1/GM_SPM_MReg_ANCScale/estimate_MReg/beta_0005.nii']\n",
      "labels = <undefined>\n",
      "mask_image = /VBM/DARTEL_norm2mni_c1/GM_SPM_MReg_ANCScale/estimate_MReg/mask.nii\n",
      "residual_image = /VBM/DARTEL_norm2mni_c1/GM_SPM_MReg_ANCScale/estimate_MReg/ResMS.nii\n",
      "residual_images = <undefined>\n",
      "spm_mat_file = /VBM/DARTEL_norm2mni_c1/GM_SPM_MReg_ANCScale/estimate_MReg/SPM.mat\n",
      "\n",
      "200418-07:41:34,285 nipype.workflow INFO:\n",
      "\t [Node] Setting-up \"estimate_MReg\" in \"/VBM/DARTEL_norm2mni_c1/GM_SPM_MReg_PropScale/estimate_MReg\".\n",
      "200418-07:41:34,289 nipype.workflow INFO:\n",
      "\t [Node] Running \"estimate_MReg\" (\"nipype.interfaces.spm.model.EstimateModel\")\n",
      "200418-07:41:54,29 nipype.workflow INFO:\n",
      "\t [Node] Finished \"estimate_MReg\".\n",
      "\n",
      "ARcoef = <undefined>\n",
      "Cbetas = <undefined>\n",
      "RPVimage = /VBM/DARTEL_norm2mni_c1/GM_SPM_MReg_PropScale/estimate_MReg/RPV.nii\n",
      "SDbetas = <undefined>\n",
      "SDerror = <undefined>\n",
      "beta_images = ['/VBM/DARTEL_norm2mni_c1/GM_SPM_MReg_PropScale/estimate_MReg/beta_0001.nii', '/VBM/DARTEL_norm2mni_c1/GM_SPM_MReg_PropScale/estimate_MReg/beta_0002.nii', '/VBM/DARTEL_norm2mni_c1/GM_SPM_MReg_PropScale/estimate_MReg/beta_0003.nii', '/VBM/DARTEL_norm2mni_c1/GM_SPM_MReg_PropScale/estimate_MReg/beta_0004.nii']\n",
      "labels = <undefined>\n",
      "mask_image = /VBM/DARTEL_norm2mni_c1/GM_SPM_MReg_PropScale/estimate_MReg/mask.nii\n",
      "residual_image = /VBM/DARTEL_norm2mni_c1/GM_SPM_MReg_PropScale/estimate_MReg/ResMS.nii\n",
      "residual_images = <undefined>\n",
      "spm_mat_file = /VBM/DARTEL_norm2mni_c1/GM_SPM_MReg_PropScale/estimate_MReg/SPM.mat\n",
      "\n",
      "200418-07:41:54,31 nipype.workflow INFO:\n",
      "\t [Node] Setting-up \"estimate_MReg\" in \"/VBM/DARTEL_norm2mni_c2/WM_SPM_MReg_PropScale/estimate_MReg\".\n",
      "200418-07:41:54,34 nipype.workflow INFO:\n",
      "\t [Node] Running \"estimate_MReg\" (\"nipype.interfaces.spm.model.EstimateModel\")\n",
      "200418-07:42:14,117 nipype.workflow INFO:\n",
      "\t [Node] Finished \"estimate_MReg\".\n",
      "\n",
      "ARcoef = <undefined>\n",
      "Cbetas = <undefined>\n",
      "RPVimage = /VBM/DARTEL_norm2mni_c2/WM_SPM_MReg_PropScale/estimate_MReg/RPV.nii\n",
      "SDbetas = <undefined>\n",
      "SDerror = <undefined>\n",
      "beta_images = ['/VBM/DARTEL_norm2mni_c2/WM_SPM_MReg_PropScale/estimate_MReg/beta_0001.nii', '/VBM/DARTEL_norm2mni_c2/WM_SPM_MReg_PropScale/estimate_MReg/beta_0002.nii', '/VBM/DARTEL_norm2mni_c2/WM_SPM_MReg_PropScale/estimate_MReg/beta_0003.nii', '/VBM/DARTEL_norm2mni_c2/WM_SPM_MReg_PropScale/estimate_MReg/beta_0004.nii']\n",
      "labels = <undefined>\n",
      "mask_image = /VBM/DARTEL_norm2mni_c2/WM_SPM_MReg_PropScale/estimate_MReg/mask.nii\n",
      "residual_image = /VBM/DARTEL_norm2mni_c2/WM_SPM_MReg_PropScale/estimate_MReg/ResMS.nii\n",
      "residual_images = <undefined>\n",
      "spm_mat_file = /VBM/DARTEL_norm2mni_c2/WM_SPM_MReg_PropScale/estimate_MReg/SPM.mat\n",
      "\n",
      "200418-07:42:14,119 nipype.workflow INFO:\n",
      "\t [Node] Setting-up \"estimate_MReg\" in \"/VBM/DARTEL_norm2mni_c2/WM_SPM_MReg_ANCScale/estimate_MReg\".\n",
      "200418-07:42:14,123 nipype.workflow INFO:\n",
      "\t [Node] Running \"estimate_MReg\" (\"nipype.interfaces.spm.model.EstimateModel\")\n",
      "200418-07:42:28,885 nipype.workflow INFO:\n",
      "\t [Node] Finished \"estimate_MReg\".\n",
      "\n",
      "ARcoef = <undefined>\n",
      "Cbetas = <undefined>\n",
      "RPVimage = /VBM/DARTEL_norm2mni_c2/WM_SPM_MReg_ANCScale/estimate_MReg/RPV.nii\n",
      "SDbetas = <undefined>\n",
      "SDerror = <undefined>\n",
      "beta_images = ['/VBM/DARTEL_norm2mni_c2/WM_SPM_MReg_ANCScale/estimate_MReg/beta_0001.nii', '/VBM/DARTEL_norm2mni_c2/WM_SPM_MReg_ANCScale/estimate_MReg/beta_0002.nii', '/VBM/DARTEL_norm2mni_c2/WM_SPM_MReg_ANCScale/estimate_MReg/beta_0003.nii', '/VBM/DARTEL_norm2mni_c2/WM_SPM_MReg_ANCScale/estimate_MReg/beta_0004.nii', '/VBM/DARTEL_norm2mni_c2/WM_SPM_MReg_ANCScale/estimate_MReg/beta_0005.nii']\n",
      "labels = <undefined>\n",
      "mask_image = /VBM/DARTEL_norm2mni_c2/WM_SPM_MReg_ANCScale/estimate_MReg/mask.nii\n",
      "residual_image = /VBM/DARTEL_norm2mni_c2/WM_SPM_MReg_ANCScale/estimate_MReg/ResMS.nii\n",
      "residual_images = <undefined>\n",
      "spm_mat_file = /VBM/DARTEL_norm2mni_c2/WM_SPM_MReg_ANCScale/estimate_MReg/SPM.mat\n",
      "\n"
     ]
    }
   ],
   "source": [
    "# estimate model\n",
    "for i in MReg_dirs:\n",
    "    est_mreg = Node(spm.EstimateModel(), name=\"estimate_MReg\")\n",
    "    est_mreg.base_dir = i\n",
    "    est_mreg.inputs.spm_mat_file = os.path.join(i, \"SPM.mat\")\n",
    "    est_mreg.inputs.estimation_method = {\"Classical\":1}\n",
    "    # run estimation and print output\n",
    "    results = est_mreg.run()\n",
    "    print(results.outputs)"
   ]
  },
  {
   "cell_type": "markdown",
   "metadata": {},
   "source": [
    "Write and Estimate Contrasts to run for the Model above"
   ]
  },
  {
   "cell_type": "code",
   "execution_count": 23,
   "metadata": {
    "collapsed": true,
    "jupyter": {
     "outputs_hidden": true
    }
   },
   "outputs": [
    {
     "name": "stdout",
     "output_type": "stream",
     "text": [
      "['/VBM/DARTEL_norm2mni_c1/GM_SPM_MReg_ANCScale/estimate_MReg', '/VBM/DARTEL_norm2mni_c1/GM_SPM_MReg_PropScale/estimate_MReg', '/VBM/DARTEL_norm2mni_c2/WM_SPM_MReg_PropScale/estimate_MReg', '/VBM/DARTEL_norm2mni_c2/WM_SPM_MReg_ANCScale/estimate_MReg']\n"
     ]
    }
   ],
   "source": [
    "# re-specify MReg directory\n",
    "MReg_ests = [os.path.join(regdir, estdir)\n",
    "             for regdir in MReg_dirs \n",
    "             for estdir in os.listdir(regdir)\n",
    "             if re.match(r'est.*', estdir)]\n",
    "\n",
    "print(MReg_ests)"
   ]
  },
  {
   "cell_type": "code",
   "execution_count": 24,
   "metadata": {
    "collapsed": true,
    "jupyter": {
     "outputs_hidden": true
    }
   },
   "outputs": [
    {
     "name": "stdout",
     "output_type": "stream",
     "text": [
      "200418-07:44:09,745 nipype.workflow INFO:\n",
      "\t [Node] Setting-up \"estimate_Contrasts\" in \"/VBM/DARTEL_norm2mni_c1/GM_SPM_MReg_ANCScale/estimate_MReg/estimate_Contrasts\".\n",
      "200418-07:44:09,755 nipype.workflow INFO:\n",
      "\t [Node] Running \"estimate_Contrasts\" (\"nipype.interfaces.spm.model.EstimateContrast\")\n",
      "200418-07:44:16,628 nipype.workflow INFO:\n",
      "\t [Node] Finished \"estimate_Contrasts\".\n",
      "\n",
      "con_images = ['/VBM/DARTEL_norm2mni_c1/GM_SPM_MReg_ANCScale/estimate_MReg/estimate_Contrasts/con_0001.nii', '/VBM/DARTEL_norm2mni_c1/GM_SPM_MReg_ANCScale/estimate_MReg/estimate_Contrasts/con_0002.nii', '/VBM/DARTEL_norm2mni_c1/GM_SPM_MReg_ANCScale/estimate_MReg/estimate_Contrasts/con_0003.nii', '/VBM/DARTEL_norm2mni_c1/GM_SPM_MReg_ANCScale/estimate_MReg/estimate_Contrasts/con_0004.nii']\n",
      "ess_images = <undefined>\n",
      "spmF_images = <undefined>\n",
      "spmT_images = ['/VBM/DARTEL_norm2mni_c1/GM_SPM_MReg_ANCScale/estimate_MReg/estimate_Contrasts/spmT_0001.nii', '/VBM/DARTEL_norm2mni_c1/GM_SPM_MReg_ANCScale/estimate_MReg/estimate_Contrasts/spmT_0002.nii', '/VBM/DARTEL_norm2mni_c1/GM_SPM_MReg_ANCScale/estimate_MReg/estimate_Contrasts/spmT_0003.nii', '/VBM/DARTEL_norm2mni_c1/GM_SPM_MReg_ANCScale/estimate_MReg/estimate_Contrasts/spmT_0004.nii']\n",
      "spm_mat_file = /VBM/DARTEL_norm2mni_c1/GM_SPM_MReg_ANCScale/estimate_MReg/estimate_Contrasts/SPM.mat\n",
      "\n",
      "200418-07:44:16,631 nipype.workflow INFO:\n",
      "\t [Node] Setting-up \"estimate_Contrasts\" in \"/VBM/DARTEL_norm2mni_c1/GM_SPM_MReg_PropScale/estimate_MReg/estimate_Contrasts\".\n",
      "200418-07:44:16,638 nipype.workflow INFO:\n",
      "\t [Node] Running \"estimate_Contrasts\" (\"nipype.interfaces.spm.model.EstimateContrast\")\n",
      "200418-07:44:23,785 nipype.workflow INFO:\n",
      "\t [Node] Finished \"estimate_Contrasts\".\n",
      "\n",
      "con_images = ['/VBM/DARTEL_norm2mni_c1/GM_SPM_MReg_PropScale/estimate_MReg/estimate_Contrasts/con_0001.nii', '/VBM/DARTEL_norm2mni_c1/GM_SPM_MReg_PropScale/estimate_MReg/estimate_Contrasts/con_0002.nii', '/VBM/DARTEL_norm2mni_c1/GM_SPM_MReg_PropScale/estimate_MReg/estimate_Contrasts/con_0003.nii', '/VBM/DARTEL_norm2mni_c1/GM_SPM_MReg_PropScale/estimate_MReg/estimate_Contrasts/con_0004.nii']\n",
      "ess_images = <undefined>\n",
      "spmF_images = <undefined>\n",
      "spmT_images = ['/VBM/DARTEL_norm2mni_c1/GM_SPM_MReg_PropScale/estimate_MReg/estimate_Contrasts/spmT_0001.nii', '/VBM/DARTEL_norm2mni_c1/GM_SPM_MReg_PropScale/estimate_MReg/estimate_Contrasts/spmT_0002.nii', '/VBM/DARTEL_norm2mni_c1/GM_SPM_MReg_PropScale/estimate_MReg/estimate_Contrasts/spmT_0003.nii', '/VBM/DARTEL_norm2mni_c1/GM_SPM_MReg_PropScale/estimate_MReg/estimate_Contrasts/spmT_0004.nii']\n",
      "spm_mat_file = /VBM/DARTEL_norm2mni_c1/GM_SPM_MReg_PropScale/estimate_MReg/estimate_Contrasts/SPM.mat\n",
      "\n",
      "200418-07:44:23,789 nipype.workflow INFO:\n",
      "\t [Node] Setting-up \"estimate_Contrasts\" in \"/VBM/DARTEL_norm2mni_c2/WM_SPM_MReg_PropScale/estimate_MReg/estimate_Contrasts\".\n",
      "200418-07:44:23,796 nipype.workflow INFO:\n",
      "\t [Node] Running \"estimate_Contrasts\" (\"nipype.interfaces.spm.model.EstimateContrast\")\n",
      "200418-07:44:31,70 nipype.workflow INFO:\n",
      "\t [Node] Finished \"estimate_Contrasts\".\n",
      "\n",
      "con_images = ['/VBM/DARTEL_norm2mni_c2/WM_SPM_MReg_PropScale/estimate_MReg/estimate_Contrasts/con_0001.nii', '/VBM/DARTEL_norm2mni_c2/WM_SPM_MReg_PropScale/estimate_MReg/estimate_Contrasts/con_0002.nii', '/VBM/DARTEL_norm2mni_c2/WM_SPM_MReg_PropScale/estimate_MReg/estimate_Contrasts/con_0003.nii', '/VBM/DARTEL_norm2mni_c2/WM_SPM_MReg_PropScale/estimate_MReg/estimate_Contrasts/con_0004.nii']\n",
      "ess_images = <undefined>\n",
      "spmF_images = <undefined>\n",
      "spmT_images = ['/VBM/DARTEL_norm2mni_c2/WM_SPM_MReg_PropScale/estimate_MReg/estimate_Contrasts/spmT_0001.nii', '/VBM/DARTEL_norm2mni_c2/WM_SPM_MReg_PropScale/estimate_MReg/estimate_Contrasts/spmT_0002.nii', '/VBM/DARTEL_norm2mni_c2/WM_SPM_MReg_PropScale/estimate_MReg/estimate_Contrasts/spmT_0003.nii', '/VBM/DARTEL_norm2mni_c2/WM_SPM_MReg_PropScale/estimate_MReg/estimate_Contrasts/spmT_0004.nii']\n",
      "spm_mat_file = /VBM/DARTEL_norm2mni_c2/WM_SPM_MReg_PropScale/estimate_MReg/estimate_Contrasts/SPM.mat\n",
      "\n",
      "200418-07:44:31,74 nipype.workflow INFO:\n",
      "\t [Node] Setting-up \"estimate_Contrasts\" in \"/VBM/DARTEL_norm2mni_c2/WM_SPM_MReg_ANCScale/estimate_MReg/estimate_Contrasts\".\n",
      "200418-07:44:31,83 nipype.workflow INFO:\n",
      "\t [Node] Running \"estimate_Contrasts\" (\"nipype.interfaces.spm.model.EstimateContrast\")\n",
      "200418-07:44:37,906 nipype.workflow INFO:\n",
      "\t [Node] Finished \"estimate_Contrasts\".\n",
      "\n",
      "con_images = ['/VBM/DARTEL_norm2mni_c2/WM_SPM_MReg_ANCScale/estimate_MReg/estimate_Contrasts/con_0001.nii', '/VBM/DARTEL_norm2mni_c2/WM_SPM_MReg_ANCScale/estimate_MReg/estimate_Contrasts/con_0002.nii', '/VBM/DARTEL_norm2mni_c2/WM_SPM_MReg_ANCScale/estimate_MReg/estimate_Contrasts/con_0003.nii', '/VBM/DARTEL_norm2mni_c2/WM_SPM_MReg_ANCScale/estimate_MReg/estimate_Contrasts/con_0004.nii']\n",
      "ess_images = <undefined>\n",
      "spmF_images = <undefined>\n",
      "spmT_images = ['/VBM/DARTEL_norm2mni_c2/WM_SPM_MReg_ANCScale/estimate_MReg/estimate_Contrasts/spmT_0001.nii', '/VBM/DARTEL_norm2mni_c2/WM_SPM_MReg_ANCScale/estimate_MReg/estimate_Contrasts/spmT_0002.nii', '/VBM/DARTEL_norm2mni_c2/WM_SPM_MReg_ANCScale/estimate_MReg/estimate_Contrasts/spmT_0003.nii', '/VBM/DARTEL_norm2mni_c2/WM_SPM_MReg_ANCScale/estimate_MReg/estimate_Contrasts/spmT_0004.nii']\n",
      "spm_mat_file = /VBM/DARTEL_norm2mni_c2/WM_SPM_MReg_ANCScale/estimate_MReg/estimate_Contrasts/SPM.mat\n",
      "\n"
     ]
    }
   ],
   "source": [
    "# full model: \"mean\" + \"MDD\" + \"Sex\" + \"Age\" + \"global\"\n",
    "# define contrasts (leave \"mean\" and \"global\" out)\n",
    "cont1 = ('Dep > Con', 'T', ['MDD','Sex','Age'], [1, 0, 0])\n",
    "cont2 = ('Con > Dep', 'T', ['MDD','Sex','Age'], [-1, 0, 0])\n",
    "cont3 = ('Male > Female', 'T', ['MDD','Sex','Age'], [0, -1, 0])\n",
    "cont4 = ('Young > Old', 'T', ['MDD','Sex','Age'], [0, 0, -1])\n",
    "contrasts = [cont1,cont2,cont3, cont4]\n",
    "\n",
    "for i in MReg_ests:\n",
    "    # collect beta images from Model estimation\n",
    "    beta_img = sorted([img for img in os.listdir(i) if re.match(r'^beta.*.nii', img)])\n",
    "    # turn beta filenames into full-path objects\n",
    "    beta_img = [os.path.join(i, img) for img in beta_img]\n",
    "\n",
    "    # estimate contrast\n",
    "    est_contrasts = Node(spm.EstimateContrast(), name=\"estimate_Contrasts\")\n",
    "    est_contrasts.base_dir = i\n",
    "    est_contrasts.inputs.spm_mat_file = os.path.join(i, \"SPM.mat\")\n",
    "    est_contrasts.inputs.residual_image = os.path.join(i, \"ResMS.nii\")\n",
    "    est_contrasts.inputs.beta_images = beta_img\n",
    "    est_contrasts.inputs.contrasts = contrasts\n",
    "    # clarify this as 2nd level contrast\n",
    "    est_contrasts.inputs.group_contrast = True\n",
    "    # run estimation and print output\n",
    "    results = est_contrasts.run() \n",
    "    print(results.outputs)"
   ]
  },
  {
   "cell_type": "markdown",
   "metadata": {},
   "source": [
    "Threshold statistics and plot results"
   ]
  },
  {
   "cell_type": "code",
   "execution_count": 25,
   "metadata": {
    "collapsed": true,
    "jupyter": {
     "outputs_hidden": true
    }
   },
   "outputs": [
    {
     "name": "stdout",
     "output_type": "stream",
     "text": [
      "Is   /VBM/DARTEL_norm2mni_c1/GM_SPM_MReg_ANCScale/estimate_MReg/estimate_Contrasts \n",
      "\n",
      " the directory in which \n",
      "\n",
      " ['/VBM/DARTEL_norm2mni_c1/GM_SPM_MReg_ANCScale/estimate_MReg/estimate_Contrasts/spmT_0001.nii', '/VBM/DARTEL_norm2mni_c1/GM_SPM_MReg_ANCScale/estimate_MReg/estimate_Contrasts/spmT_0002.nii', '/VBM/DARTEL_norm2mni_c1/GM_SPM_MReg_ANCScale/estimate_MReg/estimate_Contrasts/spmT_0003.nii', '/VBM/DARTEL_norm2mni_c1/GM_SPM_MReg_ANCScale/estimate_MReg/estimate_Contrasts/spmT_0004.nii']  \n",
      "\n",
      " are supposed to be put? ...\n",
      "Yes!\n",
      "Yes!\n",
      "Yes!\n",
      "Yes!\n",
      "4 statistical images are in this directory.\n",
      "\n",
      "\n",
      "\n",
      "Is   /VBM/DARTEL_norm2mni_c1/GM_SPM_MReg_PropScale/estimate_MReg/estimate_Contrasts \n",
      "\n",
      " the directory in which \n",
      "\n",
      " ['/VBM/DARTEL_norm2mni_c1/GM_SPM_MReg_PropScale/estimate_MReg/estimate_Contrasts/spmT_0001.nii', '/VBM/DARTEL_norm2mni_c1/GM_SPM_MReg_PropScale/estimate_MReg/estimate_Contrasts/spmT_0002.nii', '/VBM/DARTEL_norm2mni_c1/GM_SPM_MReg_PropScale/estimate_MReg/estimate_Contrasts/spmT_0003.nii', '/VBM/DARTEL_norm2mni_c1/GM_SPM_MReg_PropScale/estimate_MReg/estimate_Contrasts/spmT_0004.nii']  \n",
      "\n",
      " are supposed to be put? ...\n",
      "Yes!\n",
      "Yes!\n",
      "Yes!\n",
      "Yes!\n",
      "4 statistical images are in this directory.\n",
      "\n",
      "\n",
      "\n",
      "Is   /VBM/DARTEL_norm2mni_c2/WM_SPM_MReg_ANCScale/estimate_MReg/estimate_Contrasts \n",
      "\n",
      " the directory in which \n",
      "\n",
      " ['/VBM/DARTEL_norm2mni_c2/WM_SPM_MReg_ANCScale/estimate_MReg/estimate_Contrasts/spmT_0001.nii', '/VBM/DARTEL_norm2mni_c2/WM_SPM_MReg_ANCScale/estimate_MReg/estimate_Contrasts/spmT_0002.nii', '/VBM/DARTEL_norm2mni_c2/WM_SPM_MReg_ANCScale/estimate_MReg/estimate_Contrasts/spmT_0003.nii', '/VBM/DARTEL_norm2mni_c2/WM_SPM_MReg_ANCScale/estimate_MReg/estimate_Contrasts/spmT_0004.nii']  \n",
      "\n",
      " are supposed to be put? ...\n",
      "Yes!\n",
      "Yes!\n",
      "Yes!\n",
      "Yes!\n",
      "4 statistical images are in this directory.\n",
      "\n",
      "\n",
      "\n",
      "Is   /VBM/DARTEL_norm2mni_c2/WM_SPM_MReg_PropScale/estimate_MReg/estimate_Contrasts \n",
      "\n",
      " the directory in which \n",
      "\n",
      " ['/VBM/DARTEL_norm2mni_c2/WM_SPM_MReg_PropScale/estimate_MReg/estimate_Contrasts/spmT_0001.nii', '/VBM/DARTEL_norm2mni_c2/WM_SPM_MReg_PropScale/estimate_MReg/estimate_Contrasts/spmT_0002.nii', '/VBM/DARTEL_norm2mni_c2/WM_SPM_MReg_PropScale/estimate_MReg/estimate_Contrasts/spmT_0003.nii', '/VBM/DARTEL_norm2mni_c2/WM_SPM_MReg_PropScale/estimate_MReg/estimate_Contrasts/spmT_0004.nii']  \n",
      "\n",
      " are supposed to be put? ...\n",
      "Yes!\n",
      "Yes!\n",
      "Yes!\n",
      "Yes!\n",
      "4 statistical images are in this directory.\n",
      "\n",
      "\n",
      "\n"
     ]
    }
   ],
   "source": [
    "# define statistics directory\n",
    "Contrast_dirs = sorted([os.path.join(estdir, contdir)\n",
    "                        for estdir in MReg_ests \n",
    "                        for contdir in os.listdir(estdir)\n",
    "                        if re.match(r'est.*Cont.*', contdir)])\n",
    "\n",
    "# make one dict of all stat images sorted into lists by content\n",
    "stat_images={}\n",
    "\n",
    "# enter content in alphabetically sorted order\n",
    "stat_images[\"GM_ANCscale\"] = sorted([os.path.join(contdir, stat_img) \n",
    "                                  for contdir in Contrast_dirs \n",
    "                                  for stat_img in os.listdir(contdir) \n",
    "                                  if re.match(r'.*GM.*ANCScale.*', contdir) and re.match(r'(^spmT_)', stat_img)])\n",
    "\n",
    "stat_images[\"GM_propscale\"] = sorted([os.path.join(contdir, stat_img) \n",
    "                                   for contdir in Contrast_dirs \n",
    "                                   for stat_img in os.listdir(contdir) \n",
    "                                   if re.match(r'.*GM.*PropScale.*', contdir) and re.match(r'(^spmT_)', stat_img)])\n",
    "\n",
    "stat_images[\"WM_ANCscale\"] = sorted([os.path.join(contdir, stat_img) \n",
    "                                  for contdir in Contrast_dirs \n",
    "                                  for stat_img in os.listdir(contdir) \n",
    "                                  if re.match(r'.*WM.*ANCScale.*', contdir) and re.match(r'(^spmT_)', stat_img)])\n",
    "\n",
    "stat_images[\"WM_propscale\"] = sorted([os.path.join(contdir, stat_img) \n",
    "                                   for contdir in Contrast_dirs \n",
    "                                   for stat_img in os.listdir(contdir) \n",
    "                                   if re.match(r'.*WM.*PropScale.*', contdir) and re.match(r'(^spmT_)', stat_img)])\n",
    "\n",
    "# control contrast directories and T-stat images\n",
    "# put everything where it belongs\n",
    "for contdir, stat_imgs in zip(Contrast_dirs, [stat_images[i] for i in stat_images.keys()]):\n",
    "    print(\"Is  \", contdir, \"\\n\\n the directory in which \\n\\n\", stat_imgs, \" \\n\\n are supposed to be put? ...\")\n",
    "    for img in stat_imgs:\n",
    "        if contdir == img.rsplit('/',1)[0]:\n",
    "            print(\"Yes!\")\n",
    "        else:\n",
    "            print(\"Nope, check again ...\")\n",
    "    \n",
    "    print(len(stat_imgs), \"statistical images are in this directory.\")\n",
    "    print(\"\\n\\n\")"
   ]
  },
  {
   "cell_type": "code",
   "execution_count": 26,
   "metadata": {
    "collapsed": true,
    "jupyter": {
     "outputs_hidden": true
    }
   },
   "outputs": [
    {
     "name": "stdout",
     "output_type": "stream",
     "text": [
      "200418-07:46:38,471 nipype.workflow INFO:\n",
      "\t [Node] Setting-up \"FDR_spmT1\" in \"/VBM/DARTEL_norm2mni_c1/GM_SPM_MReg_ANCScale/estimate_MReg/estimate_Contrasts/FDR_spmT1\".\n",
      "200418-07:46:38,477 nipype.workflow INFO:\n",
      "\t [Node] Running \"FDR_spmT1\" (\"nipype.interfaces.spm.model.Threshold\")\n",
      "200418-07:46:41,15 nipype.workflow INFO:\n",
      "\t [Node] Finished \"FDR_spmT1\".\n",
      "\n",
      "activation_forced = False\n",
      "cluster_forming_thr = 4.688689\n",
      "n_clusters = 0\n",
      "pre_topo_fdr_map = /VBM/DARTEL_norm2mni_c1/GM_SPM_MReg_ANCScale/estimate_MReg/estimate_Contrasts/FDR_spmT1/spmT_0001_pre_topo_thr.nii\n",
      "pre_topo_n_clusters = 0\n",
      "thresholded_map = /VBM/DARTEL_norm2mni_c1/GM_SPM_MReg_ANCScale/estimate_MReg/estimate_Contrasts/FDR_spmT1/spmT_0001_thr.nii\n",
      "\n",
      "200418-07:46:41,19 nipype.workflow INFO:\n",
      "\t [Node] Setting-up \"FDR_spmT2\" in \"/VBM/DARTEL_norm2mni_c1/GM_SPM_MReg_ANCScale/estimate_MReg/estimate_Contrasts/FDR_spmT2\".\n",
      "200418-07:46:41,25 nipype.workflow INFO:\n",
      "\t [Node] Running \"FDR_spmT2\" (\"nipype.interfaces.spm.model.Threshold\")\n",
      "200418-07:46:43,575 nipype.workflow INFO:\n",
      "\t [Node] Finished \"FDR_spmT2\".\n",
      "\n",
      "activation_forced = False\n",
      "cluster_forming_thr = 4.688689\n",
      "n_clusters = 0\n",
      "pre_topo_fdr_map = /VBM/DARTEL_norm2mni_c1/GM_SPM_MReg_ANCScale/estimate_MReg/estimate_Contrasts/FDR_spmT2/spmT_0002_pre_topo_thr.nii\n",
      "pre_topo_n_clusters = 0\n",
      "thresholded_map = /VBM/DARTEL_norm2mni_c1/GM_SPM_MReg_ANCScale/estimate_MReg/estimate_Contrasts/FDR_spmT2/spmT_0002_thr.nii\n",
      "\n",
      "200418-07:46:43,579 nipype.workflow INFO:\n",
      "\t [Node] Setting-up \"FDR_spmT3\" in \"/VBM/DARTEL_norm2mni_c1/GM_SPM_MReg_ANCScale/estimate_MReg/estimate_Contrasts/FDR_spmT3\".\n",
      "200418-07:46:43,585 nipype.workflow INFO:\n",
      "\t [Node] Running \"FDR_spmT3\" (\"nipype.interfaces.spm.model.Threshold\")\n",
      "200418-07:46:46,90 nipype.workflow INFO:\n",
      "\t [Node] Finished \"FDR_spmT3\".\n",
      "\n",
      "activation_forced = False\n",
      "cluster_forming_thr = 4.688689\n",
      "n_clusters = 0\n",
      "pre_topo_fdr_map = /VBM/DARTEL_norm2mni_c1/GM_SPM_MReg_ANCScale/estimate_MReg/estimate_Contrasts/FDR_spmT3/spmT_0003_pre_topo_thr.nii\n",
      "pre_topo_n_clusters = 0\n",
      "thresholded_map = /VBM/DARTEL_norm2mni_c1/GM_SPM_MReg_ANCScale/estimate_MReg/estimate_Contrasts/FDR_spmT3/spmT_0003_thr.nii\n",
      "\n",
      "200418-07:46:46,94 nipype.workflow INFO:\n",
      "\t [Node] Setting-up \"FDR_spmT4\" in \"/VBM/DARTEL_norm2mni_c1/GM_SPM_MReg_ANCScale/estimate_MReg/estimate_Contrasts/FDR_spmT4\".\n",
      "200418-07:46:46,100 nipype.workflow INFO:\n",
      "\t [Node] Running \"FDR_spmT4\" (\"nipype.interfaces.spm.model.Threshold\")\n",
      "200418-07:46:48,650 nipype.workflow INFO:\n",
      "\t [Node] Finished \"FDR_spmT4\".\n",
      "\n",
      "activation_forced = False\n",
      "cluster_forming_thr = 4.688689\n",
      "n_clusters = 0\n",
      "pre_topo_fdr_map = /VBM/DARTEL_norm2mni_c1/GM_SPM_MReg_ANCScale/estimate_MReg/estimate_Contrasts/FDR_spmT4/spmT_0004_pre_topo_thr.nii\n",
      "pre_topo_n_clusters = 0\n",
      "thresholded_map = /VBM/DARTEL_norm2mni_c1/GM_SPM_MReg_ANCScale/estimate_MReg/estimate_Contrasts/FDR_spmT4/spmT_0004_thr.nii\n",
      "\n",
      "200418-07:46:48,653 nipype.workflow INFO:\n",
      "\t [Node] Setting-up \"FDR_spmT1\" in \"/VBM/DARTEL_norm2mni_c1/GM_SPM_MReg_PropScale/estimate_MReg/estimate_Contrasts/FDR_spmT1\".\n",
      "200418-07:46:48,661 nipype.workflow INFO:\n",
      "\t [Node] Running \"FDR_spmT1\" (\"nipype.interfaces.spm.model.Threshold\")\n",
      "200418-07:46:51,167 nipype.workflow INFO:\n",
      "\t [Node] Finished \"FDR_spmT1\".\n",
      "\n",
      "activation_forced = False\n",
      "cluster_forming_thr = 4.713316\n",
      "n_clusters = 0\n",
      "pre_topo_fdr_map = /VBM/DARTEL_norm2mni_c1/GM_SPM_MReg_PropScale/estimate_MReg/estimate_Contrasts/FDR_spmT1/spmT_0001_pre_topo_thr.nii\n",
      "pre_topo_n_clusters = 0\n",
      "thresholded_map = /VBM/DARTEL_norm2mni_c1/GM_SPM_MReg_PropScale/estimate_MReg/estimate_Contrasts/FDR_spmT1/spmT_0001_thr.nii\n",
      "\n",
      "200418-07:46:51,171 nipype.workflow INFO:\n",
      "\t [Node] Setting-up \"FDR_spmT2\" in \"/VBM/DARTEL_norm2mni_c1/GM_SPM_MReg_PropScale/estimate_MReg/estimate_Contrasts/FDR_spmT2\".\n",
      "200418-07:46:51,178 nipype.workflow INFO:\n",
      "\t [Node] Running \"FDR_spmT2\" (\"nipype.interfaces.spm.model.Threshold\")\n",
      "200418-07:46:53,757 nipype.workflow INFO:\n",
      "\t [Node] Finished \"FDR_spmT2\".\n",
      "\n",
      "activation_forced = False\n",
      "cluster_forming_thr = 4.713316\n",
      "n_clusters = 0\n",
      "pre_topo_fdr_map = /VBM/DARTEL_norm2mni_c1/GM_SPM_MReg_PropScale/estimate_MReg/estimate_Contrasts/FDR_spmT2/spmT_0002_pre_topo_thr.nii\n",
      "pre_topo_n_clusters = 0\n",
      "thresholded_map = /VBM/DARTEL_norm2mni_c1/GM_SPM_MReg_PropScale/estimate_MReg/estimate_Contrasts/FDR_spmT2/spmT_0002_thr.nii\n",
      "\n",
      "200418-07:46:53,761 nipype.workflow INFO:\n",
      "\t [Node] Setting-up \"FDR_spmT3\" in \"/VBM/DARTEL_norm2mni_c1/GM_SPM_MReg_PropScale/estimate_MReg/estimate_Contrasts/FDR_spmT3\".\n",
      "200418-07:46:53,769 nipype.workflow INFO:\n",
      "\t [Node] Running \"FDR_spmT3\" (\"nipype.interfaces.spm.model.Threshold\")\n",
      "200418-07:46:56,254 nipype.workflow INFO:\n",
      "\t [Node] Finished \"FDR_spmT3\".\n",
      "\n",
      "activation_forced = False\n",
      "cluster_forming_thr = 4.713316\n",
      "n_clusters = 3\n",
      "pre_topo_fdr_map = /VBM/DARTEL_norm2mni_c1/GM_SPM_MReg_PropScale/estimate_MReg/estimate_Contrasts/FDR_spmT3/spmT_0003_pre_topo_thr.nii\n",
      "pre_topo_n_clusters = 16\n",
      "thresholded_map = /VBM/DARTEL_norm2mni_c1/GM_SPM_MReg_PropScale/estimate_MReg/estimate_Contrasts/FDR_spmT3/spmT_0003_thr.nii\n",
      "\n",
      "200418-07:46:56,257 nipype.workflow INFO:\n",
      "\t [Node] Setting-up \"FDR_spmT4\" in \"/VBM/DARTEL_norm2mni_c1/GM_SPM_MReg_PropScale/estimate_MReg/estimate_Contrasts/FDR_spmT4\".\n",
      "200418-07:46:56,265 nipype.workflow INFO:\n",
      "\t [Node] Running \"FDR_spmT4\" (\"nipype.interfaces.spm.model.Threshold\")\n",
      "200418-07:46:58,778 nipype.workflow INFO:\n",
      "\t [Node] Finished \"FDR_spmT4\".\n",
      "\n",
      "activation_forced = False\n",
      "cluster_forming_thr = 4.713316\n",
      "n_clusters = 0\n",
      "pre_topo_fdr_map = /VBM/DARTEL_norm2mni_c1/GM_SPM_MReg_PropScale/estimate_MReg/estimate_Contrasts/FDR_spmT4/spmT_0004_pre_topo_thr.nii\n",
      "pre_topo_n_clusters = 0\n",
      "thresholded_map = /VBM/DARTEL_norm2mni_c1/GM_SPM_MReg_PropScale/estimate_MReg/estimate_Contrasts/FDR_spmT4/spmT_0004_thr.nii\n",
      "\n",
      "200418-07:46:58,781 nipype.workflow INFO:\n",
      "\t [Node] Setting-up \"FDR_spmT1\" in \"/VBM/DARTEL_norm2mni_c2/WM_SPM_MReg_ANCScale/estimate_MReg/estimate_Contrasts/FDR_spmT1\".\n",
      "200418-07:46:58,787 nipype.workflow INFO:\n",
      "\t [Node] Running \"FDR_spmT1\" (\"nipype.interfaces.spm.model.Threshold\")\n",
      "200418-07:47:01,291 nipype.workflow INFO:\n",
      "\t [Node] Finished \"FDR_spmT1\".\n",
      "\n",
      "activation_forced = False\n",
      "cluster_forming_thr = 4.468295\n",
      "n_clusters = 0\n",
      "pre_topo_fdr_map = /VBM/DARTEL_norm2mni_c2/WM_SPM_MReg_ANCScale/estimate_MReg/estimate_Contrasts/FDR_spmT1/spmT_0001_pre_topo_thr.nii\n",
      "pre_topo_n_clusters = 0\n",
      "thresholded_map = /VBM/DARTEL_norm2mni_c2/WM_SPM_MReg_ANCScale/estimate_MReg/estimate_Contrasts/FDR_spmT1/spmT_0001_thr.nii\n",
      "\n",
      "200418-07:47:01,294 nipype.workflow INFO:\n",
      "\t [Node] Setting-up \"FDR_spmT2\" in \"/VBM/DARTEL_norm2mni_c2/WM_SPM_MReg_ANCScale/estimate_MReg/estimate_Contrasts/FDR_spmT2\".\n",
      "200418-07:47:01,300 nipype.workflow INFO:\n",
      "\t [Node] Running \"FDR_spmT2\" (\"nipype.interfaces.spm.model.Threshold\")\n",
      "200418-07:47:03,789 nipype.workflow INFO:\n",
      "\t [Node] Finished \"FDR_spmT2\".\n",
      "\n",
      "activation_forced = False\n",
      "cluster_forming_thr = 4.468295\n",
      "n_clusters = 0\n",
      "pre_topo_fdr_map = /VBM/DARTEL_norm2mni_c2/WM_SPM_MReg_ANCScale/estimate_MReg/estimate_Contrasts/FDR_spmT2/spmT_0002_pre_topo_thr.nii\n",
      "pre_topo_n_clusters = 0\n",
      "thresholded_map = /VBM/DARTEL_norm2mni_c2/WM_SPM_MReg_ANCScale/estimate_MReg/estimate_Contrasts/FDR_spmT2/spmT_0002_thr.nii\n",
      "\n",
      "200418-07:47:03,792 nipype.workflow INFO:\n",
      "\t [Node] Setting-up \"FDR_spmT3\" in \"/VBM/DARTEL_norm2mni_c2/WM_SPM_MReg_ANCScale/estimate_MReg/estimate_Contrasts/FDR_spmT3\".\n",
      "200418-07:47:03,798 nipype.workflow INFO:\n",
      "\t [Node] Running \"FDR_spmT3\" (\"nipype.interfaces.spm.model.Threshold\")\n",
      "200418-07:47:06,276 nipype.workflow INFO:\n",
      "\t [Node] Finished \"FDR_spmT3\".\n",
      "\n",
      "activation_forced = False\n",
      "cluster_forming_thr = 4.468295\n",
      "n_clusters = 0\n",
      "pre_topo_fdr_map = /VBM/DARTEL_norm2mni_c2/WM_SPM_MReg_ANCScale/estimate_MReg/estimate_Contrasts/FDR_spmT3/spmT_0003_pre_topo_thr.nii\n",
      "pre_topo_n_clusters = 0\n",
      "thresholded_map = /VBM/DARTEL_norm2mni_c2/WM_SPM_MReg_ANCScale/estimate_MReg/estimate_Contrasts/FDR_spmT3/spmT_0003_thr.nii\n",
      "\n",
      "200418-07:47:06,280 nipype.workflow INFO:\n",
      "\t [Node] Setting-up \"FDR_spmT4\" in \"/VBM/DARTEL_norm2mni_c2/WM_SPM_MReg_ANCScale/estimate_MReg/estimate_Contrasts/FDR_spmT4\".\n",
      "200418-07:47:06,285 nipype.workflow INFO:\n",
      "\t [Node] Running \"FDR_spmT4\" (\"nipype.interfaces.spm.model.Threshold\")\n",
      "200418-07:47:08,843 nipype.workflow INFO:\n",
      "\t [Node] Finished \"FDR_spmT4\".\n",
      "\n",
      "activation_forced = False\n",
      "cluster_forming_thr = 4.468295\n",
      "n_clusters = 0\n",
      "pre_topo_fdr_map = /VBM/DARTEL_norm2mni_c2/WM_SPM_MReg_ANCScale/estimate_MReg/estimate_Contrasts/FDR_spmT4/spmT_0004_pre_topo_thr.nii\n",
      "pre_topo_n_clusters = 0\n",
      "thresholded_map = /VBM/DARTEL_norm2mni_c2/WM_SPM_MReg_ANCScale/estimate_MReg/estimate_Contrasts/FDR_spmT4/spmT_0004_thr.nii\n",
      "\n",
      "200418-07:47:08,846 nipype.workflow INFO:\n",
      "\t [Node] Setting-up \"FDR_spmT1\" in \"/VBM/DARTEL_norm2mni_c2/WM_SPM_MReg_PropScale/estimate_MReg/estimate_Contrasts/FDR_spmT1\".\n",
      "200418-07:47:08,853 nipype.workflow INFO:\n",
      "\t [Node] Running \"FDR_spmT1\" (\"nipype.interfaces.spm.model.Threshold\")\n",
      "200418-07:47:11,339 nipype.workflow INFO:\n",
      "\t [Node] Finished \"FDR_spmT1\".\n",
      "\n",
      "activation_forced = False\n",
      "cluster_forming_thr = 4.762407\n",
      "n_clusters = 0\n",
      "pre_topo_fdr_map = /VBM/DARTEL_norm2mni_c2/WM_SPM_MReg_PropScale/estimate_MReg/estimate_Contrasts/FDR_spmT1/spmT_0001_pre_topo_thr.nii\n",
      "pre_topo_n_clusters = 0\n",
      "thresholded_map = /VBM/DARTEL_norm2mni_c2/WM_SPM_MReg_PropScale/estimate_MReg/estimate_Contrasts/FDR_spmT1/spmT_0001_thr.nii\n",
      "\n",
      "200418-07:47:11,342 nipype.workflow INFO:\n",
      "\t [Node] Setting-up \"FDR_spmT2\" in \"/VBM/DARTEL_norm2mni_c2/WM_SPM_MReg_PropScale/estimate_MReg/estimate_Contrasts/FDR_spmT2\".\n",
      "200418-07:47:11,348 nipype.workflow INFO:\n",
      "\t [Node] Running \"FDR_spmT2\" (\"nipype.interfaces.spm.model.Threshold\")\n",
      "200418-07:47:13,885 nipype.workflow INFO:\n",
      "\t [Node] Finished \"FDR_spmT2\".\n",
      "\n",
      "activation_forced = False\n",
      "cluster_forming_thr = 4.762407\n",
      "n_clusters = 0\n",
      "pre_topo_fdr_map = /VBM/DARTEL_norm2mni_c2/WM_SPM_MReg_PropScale/estimate_MReg/estimate_Contrasts/FDR_spmT2/spmT_0002_pre_topo_thr.nii\n",
      "pre_topo_n_clusters = 0\n",
      "thresholded_map = /VBM/DARTEL_norm2mni_c2/WM_SPM_MReg_PropScale/estimate_MReg/estimate_Contrasts/FDR_spmT2/spmT_0002_thr.nii\n",
      "\n",
      "200418-07:47:13,888 nipype.workflow INFO:\n",
      "\t [Node] Setting-up \"FDR_spmT3\" in \"/VBM/DARTEL_norm2mni_c2/WM_SPM_MReg_PropScale/estimate_MReg/estimate_Contrasts/FDR_spmT3\".\n",
      "200418-07:47:13,896 nipype.workflow INFO:\n",
      "\t [Node] Running \"FDR_spmT3\" (\"nipype.interfaces.spm.model.Threshold\")\n",
      "200418-07:47:16,371 nipype.workflow INFO:\n",
      "\t [Node] Finished \"FDR_spmT3\".\n",
      "\n",
      "activation_forced = False\n",
      "cluster_forming_thr = 4.762407\n",
      "n_clusters = 1\n",
      "pre_topo_fdr_map = /VBM/DARTEL_norm2mni_c2/WM_SPM_MReg_PropScale/estimate_MReg/estimate_Contrasts/FDR_spmT3/spmT_0003_pre_topo_thr.nii\n",
      "pre_topo_n_clusters = 29\n",
      "thresholded_map = /VBM/DARTEL_norm2mni_c2/WM_SPM_MReg_PropScale/estimate_MReg/estimate_Contrasts/FDR_spmT3/spmT_0003_thr.nii\n",
      "\n",
      "200418-07:47:16,375 nipype.workflow INFO:\n",
      "\t [Node] Setting-up \"FDR_spmT4\" in \"/VBM/DARTEL_norm2mni_c2/WM_SPM_MReg_PropScale/estimate_MReg/estimate_Contrasts/FDR_spmT4\".\n",
      "200418-07:47:16,381 nipype.workflow INFO:\n",
      "\t [Node] Running \"FDR_spmT4\" (\"nipype.interfaces.spm.model.Threshold\")\n",
      "200418-07:47:18,935 nipype.workflow INFO:\n",
      "\t [Node] Finished \"FDR_spmT4\".\n",
      "\n",
      "activation_forced = False\n",
      "cluster_forming_thr = 4.762407\n",
      "n_clusters = 0\n",
      "pre_topo_fdr_map = /VBM/DARTEL_norm2mni_c2/WM_SPM_MReg_PropScale/estimate_MReg/estimate_Contrasts/FDR_spmT4/spmT_0004_pre_topo_thr.nii\n",
      "pre_topo_n_clusters = 0\n",
      "thresholded_map = /VBM/DARTEL_norm2mni_c2/WM_SPM_MReg_PropScale/estimate_MReg/estimate_Contrasts/FDR_spmT4/spmT_0004_thr.nii\n",
      "\n"
     ]
    }
   ],
   "source": [
    "# apply FDR correction to statistical contrast-images\n",
    "for contdir, stat_imgs in zip(Contrast_dirs, [stat_images[i] for i in stat_images.keys()]):\n",
    "    # adapt index to matlab indexing\n",
    "    for img_index in range(1, len(stat_imgs)+1):\n",
    "        FDR_thresh = Node(spm.Threshold(), name=f\"FDR_spmT{img_index}\")\n",
    "        FDR_thresh.base_dir = contdir\n",
    "        FDR_thresh.inputs.spm_mat_file = os.path.join(contdir, 'SPM.mat')\n",
    "        FDR_thresh.inputs.contrast_index = img_index\n",
    "        FDR_thresh.inputs.stat_image = stat_imgs[img_index-1]  # need python indexing here\n",
    "        # default: 0.05; p threshold on FDR corrected cluster size probabilities\n",
    "        FDR_thresh.inputs.extent_fdr_p_threshold = 0.05\n",
    "        # default: 0; minimal cluster size in voxels\n",
    "        FDR_thresh.inputs.extent_threshold = 4\n",
    "        # default: p-value; p-value or stat\n",
    "        FDR_thresh.inputs.height_threshold_type = \"p-value\"\n",
    "        # default: 0.05; for initial thresholding (defining clusters)\n",
    "        FDR_thresh.inputs.height_threshold = 0.05\n",
    "        # run thresholding and print output\n",
    "        results = FDR_thresh.run() \n",
    "        print(results.outputs)"
   ]
  },
  {
   "cell_type": "markdown",
   "metadata": {},
   "source": [
    "Control final results"
   ]
  },
  {
   "cell_type": "code",
   "execution_count": 28,
   "metadata": {
    "collapsed": true,
    "jupyter": {
     "outputs_hidden": true
    }
   },
   "outputs": [
    {
     "name": "stdout",
     "output_type": "stream",
     "text": [
      "dict_keys(['GM_ANCscale', 'GM_propscale', 'WM_ANCscale', 'WM_propscale']) \n",
      " 4 \n",
      " ['/VBM/DARTEL_norm2mni_c1/GM_SPM_MReg_ANCScale/estimate_MReg/estimate_Contrasts', '/VBM/DARTEL_norm2mni_c1/GM_SPM_MReg_PropScale/estimate_MReg/estimate_Contrasts', '/VBM/DARTEL_norm2mni_c2/WM_SPM_MReg_ANCScale/estimate_MReg/estimate_Contrasts', '/VBM/DARTEL_norm2mni_c2/WM_SPM_MReg_PropScale/estimate_MReg/estimate_Contrasts'] \n",
      " 4 \n",
      " ['/VBM/DARTEL_norm2mni_c1/GM_SPM_MReg_PropScale/estimate_MReg/estimate_Contrasts/spmT_0001.nii', '/VBM/DARTEL_norm2mni_c1/GM_SPM_MReg_PropScale/estimate_MReg/estimate_Contrasts/spmT_0002.nii', '/VBM/DARTEL_norm2mni_c1/GM_SPM_MReg_PropScale/estimate_MReg/estimate_Contrasts/spmT_0003.nii', '/VBM/DARTEL_norm2mni_c1/GM_SPM_MReg_PropScale/estimate_MReg/estimate_Contrasts/spmT_0004.nii'] \n",
      " 4 \n",
      " ['/VBM/DARTEL_norm2mni_c2/WM_SPM_MReg_PropScale/estimate_MReg/estimate_Contrasts/spmT_0001.nii', '/VBM/DARTEL_norm2mni_c2/WM_SPM_MReg_PropScale/estimate_MReg/estimate_Contrasts/spmT_0002.nii', '/VBM/DARTEL_norm2mni_c2/WM_SPM_MReg_PropScale/estimate_MReg/estimate_Contrasts/spmT_0003.nii', '/VBM/DARTEL_norm2mni_c2/WM_SPM_MReg_PropScale/estimate_MReg/estimate_Contrasts/spmT_0004.nii'] \n",
      " 4 \n",
      " ['/VBM/DARTEL_norm2mni_c1/GM_SPM_MReg_ANCScale/estimate_MReg/estimate_Contrasts/spmT_0001.nii', '/VBM/DARTEL_norm2mni_c1/GM_SPM_MReg_ANCScale/estimate_MReg/estimate_Contrasts/spmT_0002.nii', '/VBM/DARTEL_norm2mni_c1/GM_SPM_MReg_ANCScale/estimate_MReg/estimate_Contrasts/spmT_0003.nii', '/VBM/DARTEL_norm2mni_c1/GM_SPM_MReg_ANCScale/estimate_MReg/estimate_Contrasts/spmT_0004.nii'] \n",
      " 4 \n",
      " ['/VBM/DARTEL_norm2mni_c2/WM_SPM_MReg_ANCScale/estimate_MReg/estimate_Contrasts/spmT_0001.nii', '/VBM/DARTEL_norm2mni_c2/WM_SPM_MReg_ANCScale/estimate_MReg/estimate_Contrasts/spmT_0002.nii', '/VBM/DARTEL_norm2mni_c2/WM_SPM_MReg_ANCScale/estimate_MReg/estimate_Contrasts/spmT_0003.nii', '/VBM/DARTEL_norm2mni_c2/WM_SPM_MReg_ANCScale/estimate_MReg/estimate_Contrasts/spmT_0004.nii'] \n",
      " 4\n"
     ]
    }
   ],
   "source": [
    "print(stat_images.keys(), \"\\n\",\n",
    "      len(stat_images.keys()), \"\\n\", \n",
    "      sorted(Contrast_dirs), \"\\n\",\n",
    "      len(Contrast_dirs), \"\\n\",\n",
    "      stat_images[\"GM_propscale\"], \"\\n\",\n",
    "      len(stat_images[\"GM_propscale\"]), \"\\n\",\n",
    "      stat_images[\"WM_propscale\"], \"\\n\",\n",
    "      len(stat_images[\"WM_propscale\"]), \"\\n\",\n",
    "      stat_images[\"GM_ANCscale\"], \"\\n\",\n",
    "      len(stat_images[\"GM_ANCscale\"]), \"\\n\",\n",
    "      stat_images[\"WM_ANCscale\"], \"\\n\",\n",
    "      len(stat_images[\"WM_ANCscale\"])\n",
    "     )"
   ]
  },
  {
   "cell_type": "markdown",
   "metadata": {},
   "source": [
    "Write and Estimate Your Model in FSL"
   ]
  },
  {
   "cell_type": "code",
   "execution_count": null,
   "metadata": {},
   "outputs": [],
   "source": [
    "# make model (design, not??? estimate) and print results"
   ]
  },
  {
   "cell_type": "markdown",
   "metadata": {},
   "source": [
    "Testing Zone:"
   ]
  },
  {
   "cell_type": "code",
   "execution_count": 107,
   "metadata": {
    "collapsed": true,
    "jupyter": {
     "outputs_hidden": true
    }
   },
   "outputs": [
    {
     "ename": "TypeError",
     "evalue": "__init__() takes 1 positional argument but 2 were given",
     "output_type": "error",
     "traceback": [
      "\u001b[0;31m---------------------------------------------------------------------------\u001b[0m",
      "\u001b[0;31mTypeError\u001b[0m                                 Traceback (most recent call last)",
      "\u001b[0;32m<ipython-input-107-b4a52689bf59>\u001b[0m in \u001b[0;36m<module>\u001b[0;34m\u001b[0m\n\u001b[1;32m     11\u001b[0m \u001b[0;34m\u001b[0m\u001b[0m\n\u001b[1;32m     12\u001b[0m \u001b[0;31m# calculate mean image\u001b[0m\u001b[0;34m\u001b[0m\u001b[0;34m\u001b[0m\u001b[0;34m\u001b[0m\u001b[0m\n\u001b[0;32m---> 13\u001b[0;31m \u001b[0mmean_struct\u001b[0m \u001b[0;34m=\u001b[0m \u001b[0mfslmaths\u001b[0m\u001b[0;34m.\u001b[0m\u001b[0mMeanImage\u001b[0m\u001b[0;34m(\u001b[0m\u001b[0mstruct_all\u001b[0m\u001b[0;34m)\u001b[0m\u001b[0;34m\u001b[0m\u001b[0;34m\u001b[0m\u001b[0m\n\u001b[0m\u001b[1;32m     14\u001b[0m \u001b[0;31m# save mean image to VBM directory\u001b[0m\u001b[0;34m\u001b[0m\u001b[0;34m\u001b[0m\u001b[0;34m\u001b[0m\u001b[0m\n",
      "\u001b[0;31mTypeError\u001b[0m: __init__() takes 1 positional argument but 2 were given"
     ]
    }
   ],
   "source": [
    "\n",
    "# get original T1 images for all FEDs\n",
    "struct_DEP=CommandLine('ls', args='/VBM/FED*/DEP*T1*.nii', terminal_output='allatonce')\n",
    "structD=struct_DEP.run()\n",
    "struct_CON=CommandLine('ls', args='/VBM/FED*/CON*T1*.nii', terminal_output='allatonce')\n",
    "structC=struct_CON.run()\n",
    "# read the output (find stdout) line by line to list object\n",
    "struct_all = structD.runtime.stdout.splitlines() + structC.runtime.stdout.splitlines()\n",
    "struct_all = []\n",
    "# calculate mean image\n",
    "\n",
    "# save mean image to VBM directory\n"
   ]
  },
  {
   "cell_type": "code",
   "execution_count": 35,
   "metadata": {
    "collapsed": true,
    "jupyter": {
     "outputs_hidden": true
    }
   },
   "outputs": [
    {
     "ename": "NameError",
     "evalue": "name 'ThresholdStatistics' is not defined",
     "output_type": "error",
     "traceback": [
      "\u001b[0;31m---------------------------------------------------------------------------\u001b[0m",
      "\u001b[0;31mNameError\u001b[0m                                 Traceback (most recent call last)",
      "\u001b[0;32m<ipython-input-35-98e00dfbfd1f>\u001b[0m in \u001b[0;36m<module>\u001b[0;34m\u001b[0m\n\u001b[1;32m      1\u001b[0m \u001b[0;31m# apply full set of thresholds from SPM12\u001b[0m\u001b[0;34m\u001b[0m\u001b[0;34m\u001b[0m\u001b[0;34m\u001b[0m\u001b[0m\n\u001b[0;32m----> 2\u001b[0;31m \u001b[0mthresh_all\u001b[0m \u001b[0;34m=\u001b[0m \u001b[0mThresholdStatistics\u001b[0m\u001b[0;34m(\u001b[0m\u001b[0;34m)\u001b[0m\u001b[0;34m\u001b[0m\u001b[0;34m\u001b[0m\u001b[0m\n\u001b[0m\u001b[1;32m      3\u001b[0m \u001b[0mthresh_all\u001b[0m\u001b[0;34m.\u001b[0m\u001b[0minputs\u001b[0m\u001b[0;34m.\u001b[0m\u001b[0mspm_mat_file\u001b[0m \u001b[0;34m=\u001b[0m \u001b[0mstats_dir\u001b[0m \u001b[0;34m+\u001b[0m \u001b[0;34m'/SPM.mat'\u001b[0m\u001b[0;34m\u001b[0m\u001b[0;34m\u001b[0m\u001b[0m\n\u001b[1;32m      4\u001b[0m \u001b[0mthresh_all\u001b[0m\u001b[0;34m.\u001b[0m\u001b[0minputs\u001b[0m\u001b[0;34m.\u001b[0m\u001b[0mcontrast_index\u001b[0m \u001b[0;34m=\u001b[0m \u001b[0;36m1\u001b[0m\u001b[0;34m\u001b[0m\u001b[0;34m\u001b[0m\u001b[0m\n\u001b[1;32m      5\u001b[0m \u001b[0mthresh_all\u001b[0m\u001b[0;34m.\u001b[0m\u001b[0minputs\u001b[0m\u001b[0;34m.\u001b[0m\u001b[0mstat_image\u001b[0m \u001b[0;34m=\u001b[0m \u001b[0mstat_images\u001b[0m\u001b[0;34m[\u001b[0m\u001b[0;36m0\u001b[0m\u001b[0;34m]\u001b[0m\u001b[0;34m\u001b[0m\u001b[0;34m\u001b[0m\u001b[0m\n",
      "\u001b[0;31mNameError\u001b[0m: name 'ThresholdStatistics' is not defined"
     ]
    }
   ],
   "source": [
    "# apply full set of thresholds from SPM12\n",
    "thresh_all = Node(, name=\"SPM_thresholds\")\n",
    "thresh_all.base_dir = stats_dir\n",
    "thresh_all.inputs.spm_mat_file = stats_dir + '/SPM.mat'\n",
    "thresh_all.inputs.contrast_index = 1\n",
    "thresh_all.inputs.stat_image = stat_images[0]\n",
    "thresh_all.inputs.height_threshold = 4.5\n",
    "# minimal cluster size in voxels\n",
    "#thresh_all.inputs.extent_threshold ="
   ]
  },
  {
   "cell_type": "code",
   "execution_count": null,
   "metadata": {},
   "outputs": [],
   "source": [
    "# run thresholding and print output\n",
    "results = thresh_all.run() \n",
    "print(results.outputs)"
   ]
  }
 ],
 "metadata": {
  "kernelspec": {
   "display_name": "Python [conda env:neuro] *",
   "language": "python",
   "name": "conda-env-neuro-py"
  },
  "language_info": {
   "codemirror_mode": {
    "name": "ipython",
    "version": 3
   },
   "file_extension": ".py",
   "mimetype": "text/x-python",
   "name": "python",
   "nbconvert_exporter": "python",
   "pygments_lexer": "ipython3",
   "version": "3.7.9"
  }
 },
 "nbformat": 4,
 "nbformat_minor": 4
}
