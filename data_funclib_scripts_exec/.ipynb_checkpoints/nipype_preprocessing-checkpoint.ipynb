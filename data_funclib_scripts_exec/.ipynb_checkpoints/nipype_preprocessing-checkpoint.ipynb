{
 "cells": [
  {
   "cell_type": "markdown",
   "metadata": {},
   "source": [
    "# Import and Prep-steps"
   ]
  },
  {
   "cell_type": "code",
   "execution_count": 23,
   "metadata": {},
   "outputs": [],
   "source": [
    "from nipype.interfaces.dcm2nii import Dcm2niix\n",
    "from nipype import Node, Workflow\n",
    "import os"
   ]
  },
  {
   "cell_type": "code",
   "execution_count": 11,
   "metadata": {},
   "outputs": [],
   "source": [
    "# get dir-list\n",
    "studydir=\"/VBM/\" # make this part interactive later on\n",
    "\n",
    "subdirs=list()\n",
    "for i in os.listdir(studydir):\n",
    "    if os.path.isdir(os.path.join(studydir, i)):\n",
    "        subdirs.append(os.path.join(studydir, i))\n",
    "        \n",
    "# sort the list entries\n",
    "subdirs=sorted(subdirs)"
   ]
  },
  {
   "cell_type": "code",
   "execution_count": 12,
   "metadata": {},
   "outputs": [],
   "source": [
    "# get sequence-list\n",
    "sequencedir=list()\n",
    "for i in subdirs:\n",
    "    for j in os.listdir(i):\n",
    "        if os.path.isdir(os.path.join(i, j)):\n",
    "            sequencedir.append(os.path.join(i, j))\n",
    "            \n",
    "# sort the list entries\n",
    "sequencedir=sorted(sequencedir)"
   ]
  },
  {
   "cell_type": "markdown",
   "metadata": {},
   "source": [
    "# Use Nodes to analyse individual subjects for now, but design every function to be heritable"
   ]
  },
  {
   "cell_type": "code",
   "execution_count": 19,
   "metadata": {},
   "outputs": [],
   "source": [
    "# create DICOM-to-NIFTI converter node\n",
    "# converter=Node(Dcm2niix(), name='converter')\n",
    "\n"
   ]
  },
  {
   "cell_type": "code",
   "execution_count": 22,
   "metadata": {},
   "outputs": [
    {
     "name": "stdout",
     "output_type": "stream",
     "text": [
      "/VBM/FED006/T1_MPRAGE_SAG_ISO_0_9_0005 /VBM/FED006\n",
      "191216-15:04:50,54 nipype.workflow INFO:\n",
      "\t [Node] Setting-up \"converter\" in \"/tmp/tmp_8lbtkn4/converter\".\n",
      "191216-15:04:50,59 nipype.workflow INFO:\n",
      "\t [Node] Running \"converter\" (\"nipype.interfaces.dcm2nii.Dcm2niix\"), a CommandLine Interface with command:\n",
      "dcm2niix -b y -z y -x n -t n -m n -o /VBM/FED006 -s n -v n /VBM/FED006/T1_MPRAGE_SAG_ISO_0_9_0005\n",
      "191216-15:04:50,80 nipype.workflow WARNING:\n",
      "\t Storing result file without outputs\n",
      "191216-15:04:50,82 nipype.workflow WARNING:\n",
      "\t [Node] Error on \"converter\" (/tmp/tmp_8lbtkn4/converter)\n"
     ]
    },
    {
     "ename": "OSError",
     "evalue": "No command \"dcm2niix\" found on host 15e905044d7e. Please check that the corresponding package is installed.",
     "output_type": "error",
     "traceback": [
      "\u001b[0;31m---------------------------------------------------------------------------\u001b[0m",
      "\u001b[0;31mOSError\u001b[0m                                   Traceback (most recent call last)",
      "\u001b[0;32m<ipython-input-22-7c490206652a>\u001b[0m in \u001b[0;36m<module>\u001b[0;34m\u001b[0m\n\u001b[1;32m      8\u001b[0m     \u001b[0mconverter\u001b[0m\u001b[0;34m.\u001b[0m\u001b[0minputs\u001b[0m\u001b[0;34m.\u001b[0m\u001b[0msource_dir\u001b[0m\u001b[0;34m=\u001b[0m\u001b[0mi\u001b[0m\u001b[0;34m\u001b[0m\u001b[0;34m\u001b[0m\u001b[0m\n\u001b[1;32m      9\u001b[0m     \u001b[0mconverter\u001b[0m\u001b[0;34m.\u001b[0m\u001b[0minputs\u001b[0m\u001b[0;34m.\u001b[0m\u001b[0moutput_dir\u001b[0m\u001b[0;34m=\u001b[0m\u001b[0mj\u001b[0m\u001b[0;34m\u001b[0m\u001b[0;34m\u001b[0m\u001b[0m\n\u001b[0;32m---> 10\u001b[0;31m     \u001b[0mconverter\u001b[0m\u001b[0;34m.\u001b[0m\u001b[0mrun\u001b[0m\u001b[0;34m(\u001b[0m\u001b[0;34m)\u001b[0m\u001b[0;34m\u001b[0m\u001b[0;34m\u001b[0m\u001b[0m\n\u001b[0m",
      "\u001b[0;32m/opt/miniconda-latest/envs/neuro/lib/python3.7/site-packages/nipype/pipeline/engine/nodes.py\u001b[0m in \u001b[0;36mrun\u001b[0;34m(self, updatehash)\u001b[0m\n\u001b[1;32m    514\u001b[0m \u001b[0;34m\u001b[0m\u001b[0m\n\u001b[1;32m    515\u001b[0m         \u001b[0;32mtry\u001b[0m\u001b[0;34m:\u001b[0m\u001b[0;34m\u001b[0m\u001b[0;34m\u001b[0m\u001b[0m\n\u001b[0;32m--> 516\u001b[0;31m             \u001b[0mresult\u001b[0m \u001b[0;34m=\u001b[0m \u001b[0mself\u001b[0m\u001b[0;34m.\u001b[0m\u001b[0m_run_interface\u001b[0m\u001b[0;34m(\u001b[0m\u001b[0mexecute\u001b[0m\u001b[0;34m=\u001b[0m\u001b[0;32mTrue\u001b[0m\u001b[0;34m)\u001b[0m\u001b[0;34m\u001b[0m\u001b[0;34m\u001b[0m\u001b[0m\n\u001b[0m\u001b[1;32m    517\u001b[0m         \u001b[0;32mexcept\u001b[0m \u001b[0mException\u001b[0m\u001b[0;34m:\u001b[0m\u001b[0;34m\u001b[0m\u001b[0;34m\u001b[0m\u001b[0m\n\u001b[1;32m    518\u001b[0m             \u001b[0mlogger\u001b[0m\u001b[0;34m.\u001b[0m\u001b[0mwarning\u001b[0m\u001b[0;34m(\u001b[0m\u001b[0;34m'[Node] Error on \"%s\" (%s)'\u001b[0m\u001b[0;34m,\u001b[0m \u001b[0mself\u001b[0m\u001b[0;34m.\u001b[0m\u001b[0mfullname\u001b[0m\u001b[0;34m,\u001b[0m \u001b[0moutdir\u001b[0m\u001b[0;34m)\u001b[0m\u001b[0;34m\u001b[0m\u001b[0;34m\u001b[0m\u001b[0m\n",
      "\u001b[0;32m/opt/miniconda-latest/envs/neuro/lib/python3.7/site-packages/nipype/pipeline/engine/nodes.py\u001b[0m in \u001b[0;36m_run_interface\u001b[0;34m(self, execute, updatehash)\u001b[0m\n\u001b[1;32m    633\u001b[0m             \u001b[0mself\u001b[0m\u001b[0;34m.\u001b[0m\u001b[0m_update_hash\u001b[0m\u001b[0;34m(\u001b[0m\u001b[0;34m)\u001b[0m\u001b[0;34m\u001b[0m\u001b[0;34m\u001b[0m\u001b[0m\n\u001b[1;32m    634\u001b[0m             \u001b[0;32mreturn\u001b[0m \u001b[0mself\u001b[0m\u001b[0;34m.\u001b[0m\u001b[0m_load_results\u001b[0m\u001b[0;34m(\u001b[0m\u001b[0;34m)\u001b[0m\u001b[0;34m\u001b[0m\u001b[0;34m\u001b[0m\u001b[0m\n\u001b[0;32m--> 635\u001b[0;31m         \u001b[0;32mreturn\u001b[0m \u001b[0mself\u001b[0m\u001b[0;34m.\u001b[0m\u001b[0m_run_command\u001b[0m\u001b[0;34m(\u001b[0m\u001b[0mexecute\u001b[0m\u001b[0;34m)\u001b[0m\u001b[0;34m\u001b[0m\u001b[0;34m\u001b[0m\u001b[0m\n\u001b[0m\u001b[1;32m    636\u001b[0m \u001b[0;34m\u001b[0m\u001b[0m\n\u001b[1;32m    637\u001b[0m     \u001b[0;32mdef\u001b[0m \u001b[0m_load_results\u001b[0m\u001b[0;34m(\u001b[0m\u001b[0mself\u001b[0m\u001b[0;34m)\u001b[0m\u001b[0;34m:\u001b[0m\u001b[0;34m\u001b[0m\u001b[0;34m\u001b[0m\u001b[0m\n",
      "\u001b[0;32m/opt/miniconda-latest/envs/neuro/lib/python3.7/site-packages/nipype/pipeline/engine/nodes.py\u001b[0m in \u001b[0;36m_run_command\u001b[0;34m(self, execute, copyfiles)\u001b[0m\n\u001b[1;32m    739\u001b[0m         \u001b[0mlogger\u001b[0m\u001b[0;34m.\u001b[0m\u001b[0minfo\u001b[0m\u001b[0;34m(\u001b[0m\u001b[0mmessage\u001b[0m\u001b[0;34m)\u001b[0m\u001b[0;34m\u001b[0m\u001b[0;34m\u001b[0m\u001b[0m\n\u001b[1;32m    740\u001b[0m         \u001b[0;32mtry\u001b[0m\u001b[0;34m:\u001b[0m\u001b[0;34m\u001b[0m\u001b[0;34m\u001b[0m\u001b[0m\n\u001b[0;32m--> 741\u001b[0;31m             \u001b[0mresult\u001b[0m \u001b[0;34m=\u001b[0m \u001b[0mself\u001b[0m\u001b[0;34m.\u001b[0m\u001b[0m_interface\u001b[0m\u001b[0;34m.\u001b[0m\u001b[0mrun\u001b[0m\u001b[0;34m(\u001b[0m\u001b[0mcwd\u001b[0m\u001b[0;34m=\u001b[0m\u001b[0moutdir\u001b[0m\u001b[0;34m)\u001b[0m\u001b[0;34m\u001b[0m\u001b[0;34m\u001b[0m\u001b[0m\n\u001b[0m\u001b[1;32m    742\u001b[0m         \u001b[0;32mexcept\u001b[0m \u001b[0mException\u001b[0m \u001b[0;32mas\u001b[0m \u001b[0mmsg\u001b[0m\u001b[0;34m:\u001b[0m\u001b[0;34m\u001b[0m\u001b[0;34m\u001b[0m\u001b[0m\n\u001b[1;32m    743\u001b[0m             result.runtime.stderr = \"%s\\n\\n%s\".format(\n",
      "\u001b[0;32m/opt/miniconda-latest/envs/neuro/lib/python3.7/site-packages/nipype/interfaces/base/core.py\u001b[0m in \u001b[0;36mrun\u001b[0;34m(self, cwd, ignore_exception, **inputs)\u001b[0m\n\u001b[1;32m    393\u001b[0m         \u001b[0;32mtry\u001b[0m\u001b[0;34m:\u001b[0m\u001b[0;34m\u001b[0m\u001b[0;34m\u001b[0m\u001b[0m\n\u001b[1;32m    394\u001b[0m             \u001b[0mruntime\u001b[0m \u001b[0;34m=\u001b[0m \u001b[0mself\u001b[0m\u001b[0;34m.\u001b[0m\u001b[0m_pre_run_hook\u001b[0m\u001b[0;34m(\u001b[0m\u001b[0mruntime\u001b[0m\u001b[0;34m)\u001b[0m\u001b[0;34m\u001b[0m\u001b[0;34m\u001b[0m\u001b[0m\n\u001b[0;32m--> 395\u001b[0;31m             \u001b[0mruntime\u001b[0m \u001b[0;34m=\u001b[0m \u001b[0mself\u001b[0m\u001b[0;34m.\u001b[0m\u001b[0m_run_interface\u001b[0m\u001b[0;34m(\u001b[0m\u001b[0mruntime\u001b[0m\u001b[0;34m)\u001b[0m\u001b[0;34m\u001b[0m\u001b[0;34m\u001b[0m\u001b[0m\n\u001b[0m\u001b[1;32m    396\u001b[0m             \u001b[0mruntime\u001b[0m \u001b[0;34m=\u001b[0m \u001b[0mself\u001b[0m\u001b[0;34m.\u001b[0m\u001b[0m_post_run_hook\u001b[0m\u001b[0;34m(\u001b[0m\u001b[0mruntime\u001b[0m\u001b[0;34m)\u001b[0m\u001b[0;34m\u001b[0m\u001b[0;34m\u001b[0m\u001b[0m\n\u001b[1;32m    397\u001b[0m             \u001b[0moutputs\u001b[0m \u001b[0;34m=\u001b[0m \u001b[0mself\u001b[0m\u001b[0;34m.\u001b[0m\u001b[0maggregate_outputs\u001b[0m\u001b[0;34m(\u001b[0m\u001b[0mruntime\u001b[0m\u001b[0;34m)\u001b[0m\u001b[0;34m\u001b[0m\u001b[0;34m\u001b[0m\u001b[0m\n",
      "\u001b[0;32m/opt/miniconda-latest/envs/neuro/lib/python3.7/site-packages/nipype/interfaces/dcm2nii.py\u001b[0m in \u001b[0;36m_run_interface\u001b[0;34m(self, runtime)\u001b[0m\n\u001b[1;32m    444\u001b[0m         \u001b[0;31m# may use return code 1 despite conversion\u001b[0m\u001b[0;34m\u001b[0m\u001b[0;34m\u001b[0m\u001b[0;34m\u001b[0m\u001b[0m\n\u001b[1;32m    445\u001b[0m         runtime = super(Dcm2niix, self)._run_interface(\n\u001b[0;32m--> 446\u001b[0;31m             \u001b[0mruntime\u001b[0m\u001b[0;34m,\u001b[0m \u001b[0mcorrect_return_codes\u001b[0m\u001b[0;34m=\u001b[0m\u001b[0;34m(\u001b[0m\u001b[0;36m0\u001b[0m\u001b[0;34m,\u001b[0m \u001b[0;36m1\u001b[0m\u001b[0;34m,\u001b[0m\u001b[0;34m)\u001b[0m\u001b[0;34m\u001b[0m\u001b[0;34m\u001b[0m\u001b[0m\n\u001b[0m\u001b[1;32m    447\u001b[0m         )\n\u001b[1;32m    448\u001b[0m         \u001b[0mself\u001b[0m\u001b[0;34m.\u001b[0m\u001b[0m_parse_files\u001b[0m\u001b[0;34m(\u001b[0m\u001b[0mself\u001b[0m\u001b[0;34m.\u001b[0m\u001b[0m_parse_stdout\u001b[0m\u001b[0;34m(\u001b[0m\u001b[0mruntime\u001b[0m\u001b[0;34m.\u001b[0m\u001b[0mstdout\u001b[0m\u001b[0;34m)\u001b[0m\u001b[0;34m)\u001b[0m\u001b[0;34m\u001b[0m\u001b[0;34m\u001b[0m\u001b[0m\n",
      "\u001b[0;32m/opt/miniconda-latest/envs/neuro/lib/python3.7/site-packages/nipype/interfaces/base/core.py\u001b[0m in \u001b[0;36m_run_interface\u001b[0;34m(self, runtime, correct_return_codes)\u001b[0m\n\u001b[1;32m    779\u001b[0m                 \u001b[0;34m'No command \"%s\" found on host %s. Please check that the '\u001b[0m\u001b[0;34m\u001b[0m\u001b[0;34m\u001b[0m\u001b[0m\n\u001b[1;32m    780\u001b[0m                 \u001b[0;34m\"corresponding package is installed.\"\u001b[0m\u001b[0;34m\u001b[0m\u001b[0;34m\u001b[0m\u001b[0m\n\u001b[0;32m--> 781\u001b[0;31m                 \u001b[0;34m%\u001b[0m \u001b[0;34m(\u001b[0m\u001b[0mexecutable_name\u001b[0m\u001b[0;34m,\u001b[0m \u001b[0mruntime\u001b[0m\u001b[0;34m.\u001b[0m\u001b[0mhostname\u001b[0m\u001b[0;34m)\u001b[0m\u001b[0;34m\u001b[0m\u001b[0;34m\u001b[0m\u001b[0m\n\u001b[0m\u001b[1;32m    782\u001b[0m             )\n\u001b[1;32m    783\u001b[0m \u001b[0;34m\u001b[0m\u001b[0m\n",
      "\u001b[0;31mOSError\u001b[0m: No command \"dcm2niix\" found on host 15e905044d7e. Please check that the corresponding package is installed."
     ]
    }
   ],
   "source": [
    "# use sequence-list as source_dir and save output of converter in parent dir\n",
    "\n",
    "# drop index when youre finished writing the workflow\n",
    "for i,j in zip(sequencedir, subdirs):\n",
    "    print(i,j)\n",
    "    # create DICOM-to-NIFTI converter node\n",
    "    converter=Node(Dcm2niix(), name='converter')\n",
    "    converter.inputs.source_dir=i\n",
    "    converter.inputs.output_dir=j\n",
    "    converter.run()\n"
   ]
  },
  {
   "cell_type": "code",
   "execution_count": 20,
   "metadata": {},
   "outputs": [],
   "source": [
    "# get files from each folder in sequence-list\n",
    "files=dict()\n",
    "\n",
    "for s in subjects:\n",
    "    entry=s.rsplit('/',1)[1] # reverse-split the string in s\n",
    "    files[entry]=os.listdir(s)"
   ]
  },
  {
   "cell_type": "code",
   "execution_count": 16,
   "metadata": {
    "collapsed": true,
    "jupyter": {
     "outputs_hidden": true
    }
   },
   "outputs": [
    {
     "name": "stdout",
     "output_type": "stream",
     "text": [
      "Help on class Dcm2nii in module nipype.interfaces.dcm2nii:\n",
      "\n",
      "class Dcm2nii(nipype.interfaces.base.core.CommandLine)\n",
      " |  Dcm2nii(command=None, terminal_output=None, **inputs)\n",
      " |  \n",
      " |  Uses MRIcron's dcm2nii to convert dicom files\n",
      " |  \n",
      " |  Examples\n",
      " |  ========\n",
      " |  \n",
      " |  >>> from nipype.interfaces.dcm2nii import Dcm2nii\n",
      " |  >>> converter = Dcm2nii()\n",
      " |  >>> converter.inputs.source_names = ['functional_1.dcm', 'functional_2.dcm']\n",
      " |  >>> converter.inputs.gzip_output = True\n",
      " |  >>> converter.inputs.output_dir = '.'\n",
      " |  >>> converter.cmdline  # doctest: +ELLIPSIS\n",
      " |  'dcm2nii -a y -c y -b config.ini -v y -d y -e y -g y -i n -n y -o . -p y -x n -f n functional_1.dcm'\n",
      " |  \n",
      " |  Method resolution order:\n",
      " |      Dcm2nii\n",
      " |      nipype.interfaces.base.core.CommandLine\n",
      " |      nipype.interfaces.base.core.BaseInterface\n",
      " |      nipype.interfaces.base.core.Interface\n",
      " |      builtins.object\n",
      " |  \n",
      " |  Data and other attributes defined here:\n",
      " |  \n",
      " |  __slotnames__ = []\n",
      " |  \n",
      " |  input_spec = <class 'nipype.interfaces.dcm2nii.Dcm2niiInputSpec'>\n",
      " |      Create a subclass with strict traits.\n",
      " |      \n",
      " |      This is used in 90% of the cases.\n",
      " |  \n",
      " |  output_spec = <class 'nipype.interfaces.dcm2nii.Dcm2niiOutputSpec'>\n",
      " |      Create a subclass with strict traits.\n",
      " |      \n",
      " |      This is used in 90% of the cases.\n",
      " |  \n",
      " |  ----------------------------------------------------------------------\n",
      " |  Methods inherited from nipype.interfaces.base.core.CommandLine:\n",
      " |  \n",
      " |  __init__(self, command=None, terminal_output=None, **inputs)\n",
      " |      Subclasses must implement __init__\n",
      " |  \n",
      " |  raise_exception(self, runtime)\n",
      " |  \n",
      " |  version_from_command(self, flag='-v', cmd=None)\n",
      " |  \n",
      " |  ----------------------------------------------------------------------\n",
      " |  Class methods inherited from nipype.interfaces.base.core.CommandLine:\n",
      " |  \n",
      " |  set_default_terminal_output(output_type) from builtins.type\n",
      " |      Set the default terminal output for CommandLine Interfaces.\n",
      " |      \n",
      " |      This method is used to set default terminal output for\n",
      " |      CommandLine Interfaces.  However, setting this will not\n",
      " |      update the output type for any existing instances.  For these,\n",
      " |      assign the <instance>.terminal_output.\n",
      " |  \n",
      " |  ----------------------------------------------------------------------\n",
      " |  Data descriptors inherited from nipype.interfaces.base.core.CommandLine:\n",
      " |  \n",
      " |  cmd\n",
      " |      sets base command, immutable\n",
      " |  \n",
      " |  cmdline\n",
      " |      `command` plus any arguments (args)\n",
      " |      validates arguments and generates command line\n",
      " |  \n",
      " |  terminal_output\n",
      " |  \n",
      " |  ----------------------------------------------------------------------\n",
      " |  Methods inherited from nipype.interfaces.base.core.BaseInterface:\n",
      " |  \n",
      " |  aggregate_outputs(self, runtime=None, needed_outputs=None)\n",
      " |      Collate expected outputs and apply output traits validation.\n",
      " |  \n",
      " |  load_inputs_from_json(self, json_file, overwrite=True)\n",
      " |      A convenient way to load pre-set inputs from a JSON file.\n",
      " |  \n",
      " |  run(self, cwd=None, ignore_exception=None, **inputs)\n",
      " |      Execute this interface.\n",
      " |      \n",
      " |      This interface will not raise an exception if runtime.returncode is\n",
      " |      non-zero.\n",
      " |      \n",
      " |      Parameters\n",
      " |      ----------\n",
      " |      \n",
      " |      cwd : specify a folder where the interface should be run\n",
      " |      inputs : allows the interface settings to be updated\n",
      " |      \n",
      " |      Returns\n",
      " |      -------\n",
      " |      results :  an InterfaceResult object containing a copy of the instance\n",
      " |      that was executed, provenance information and, if successful, results\n",
      " |  \n",
      " |  save_inputs_to_json(self, json_file)\n",
      " |      A convenient way to save current inputs to a JSON file.\n",
      " |  \n",
      " |  ----------------------------------------------------------------------\n",
      " |  Data descriptors inherited from nipype.interfaces.base.core.BaseInterface:\n",
      " |  \n",
      " |  version\n",
      " |      interfaces should implement a version property\n",
      " |  \n",
      " |  ----------------------------------------------------------------------\n",
      " |  Data and other attributes inherited from nipype.interfaces.base.core.BaseInterface:\n",
      " |  \n",
      " |  references_ = []\n",
      " |  \n",
      " |  resource_monitor = True\n",
      " |  \n",
      " |  ----------------------------------------------------------------------\n",
      " |  Class methods inherited from nipype.interfaces.base.core.Interface:\n",
      " |  \n",
      " |  help(returnhelp=False) from builtins.type\n",
      " |      Prints class help\n",
      " |  \n",
      " |  ----------------------------------------------------------------------\n",
      " |  Data descriptors inherited from nipype.interfaces.base.core.Interface:\n",
      " |  \n",
      " |  __dict__\n",
      " |      dictionary for instance variables (if defined)\n",
      " |  \n",
      " |  __weakref__\n",
      " |      list of weak references to the object (if defined)\n",
      " |  \n",
      " |  always_run\n",
      " |      Should the interface be always run even if the inputs were not changed?\n",
      " |      Only applies to interfaces being run within a workflow context.\n",
      " |  \n",
      " |  can_resume\n",
      " |      Defines if the interface can reuse partial results after interruption.\n",
      " |      Only applies to interfaces being run within a workflow context.\n",
      "\n"
     ]
    }
   ],
   "source": [
    "help(Dcm2nii)"
   ]
  }
 ],
 "metadata": {
  "kernelspec": {
   "display_name": "Python [conda env:neuro] *",
   "language": "python",
   "name": "conda-env-neuro-py"
  },
  "language_info": {
   "codemirror_mode": {
    "name": "ipython",
    "version": 3
   },
   "file_extension": ".py",
   "mimetype": "text/x-python",
   "name": "python",
   "nbconvert_exporter": "python",
   "pygments_lexer": "ipython3",
   "version": "3.7.3"
  }
 },
 "nbformat": 4,
 "nbformat_minor": 4
}
