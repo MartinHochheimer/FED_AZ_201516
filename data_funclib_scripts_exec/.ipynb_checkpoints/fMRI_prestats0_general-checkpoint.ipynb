{
 "cells": [
  {
   "cell_type": "markdown",
   "metadata": {},
   "source": [
    "Gather necessary pre-requisites:"
   ]
  },
  {
   "cell_type": "code",
   "execution_count": 7,
   "metadata": {},
   "outputs": [],
   "source": [
    "## import everything you need\n",
    "from nipype import Node, Workflow\n",
    "import nipype.interfaces.fsl as fsl\n",
    "#import nipype.interfaces.spm as spm\n",
    "#import nibabel as nb\n",
    "from nilearn.plotting import plot_anat\n",
    "import numpy as np\n",
    "import pandas as pd\n",
    "# activate inline magics\n",
    "%matplotlib inline \n",
    "import matplotlib.pyplot as plt\n",
    "import os, operator, re, json, random\n",
    "from functools import reduce"
   ]
  },
  {
   "cell_type": "markdown",
   "metadata": {},
   "source": [
    "Write useful functions"
   ]
  },
  {
   "cell_type": "code",
   "execution_count": 8,
   "metadata": {},
   "outputs": [],
   "source": [
    "## write update function for file list to data dictionary\n",
    "def update_files():\n",
    "    for sub in FEDs:\n",
    "        # collect image files from source dirs\n",
    "        files=sorted([os.path.join(subdir, content)\n",
    "                      for subdir in FED_dirs\n",
    "                      for content in os.listdir(subdir)\n",
    "                      if re.match(r'(.*.(nii|json))', content)])\n",
    "        # extend content\n",
    "        content=[file for file in files\n",
    "                 if re.match(fr'(.*{sub}.*)', file)]\n",
    "        # update files in data\n",
    "        data[sub][\"files\"]=content"
   ]
  },
  {
   "cell_type": "markdown",
   "metadata": {},
   "source": [
    "Build data structure that holds all relevant information"
   ]
  },
  {
   "cell_type": "code",
   "execution_count": 9,
   "metadata": {},
   "outputs": [],
   "source": [
    "## define base diectory for data, fMRI folder structure and FEDs\n",
    "scriptdatadir=\"/home/martin/FED/\"\n",
    "basedir=\"/fMRI/\"\n",
    "FED_dirs=[os.path.join(basedir, FED) \n",
    "          for FED in os.listdir(basedir)\n",
    "          if os.path.isdir(os.path.join(basedir, FED))]"
   ]
  },
  {
   "cell_type": "code",
   "execution_count": 10,
   "metadata": {},
   "outputs": [],
   "source": [
    "# collect image files\n",
    "files=sorted([os.path.join(subdir, content)\n",
    "       for subdir in FED_dirs\n",
    "       for content in os.listdir(subdir)\n",
    "       if re.match(r'(.*.(nii|json))', content)])\n",
    "# create a dictionary storing all files/subject\n",
    "data={}\n",
    "for fed in FED_dirs:\n",
    "    ID=fed.rsplit('/', 1)[1]\n",
    "    # define partition for each subject\n",
    "    subject={\"files\":[], \"parameters\":{}}\n",
    "    content=[]\n",
    "    for file in files:\n",
    "        if re.match(fr'(.*{ID}.*)', file):\n",
    "            content.append(file)\n",
    "    subject[\"files\"].extend(content)\n",
    "    data[ID]=subject\n",
    "    \n",
    "# create shortcut to FEDs\n",
    "FEDs=sorted([key for key in data.keys()])"
   ]
  },
  {
   "cell_type": "markdown",
   "metadata": {},
   "source": [
    "Get relevant parameters"
   ]
  },
  {
   "cell_type": "code",
   "execution_count": 25,
   "metadata": {},
   "outputs": [
    {
     "name": "stdout",
     "output_type": "stream",
     "text": [
      "\n",
      "\n",
      " The following subjects where excluded from further analysis due to false file numbers:  \n",
      " EPI:  [] T1:  []\n"
     ]
    }
   ],
   "source": [
    "## define exclusion set for FEDs that do not meet the requirements\n",
    "#GRE_excluded=[]\n",
    "EPI_excluded=[]\n",
    "T1_excluded=[]\n",
    "\n",
    "## FED control\n",
    "for subject in FEDs:\n",
    "    # collect relevant files/FED for parameter extraction\n",
    "#    GREs=[file for file in data[subject][\"files\"]\n",
    "#           if re.match(r'(.*(_e1|_e2(?!_ph)).*.json)', file)]\n",
    "    EPIs=[file for file in data[subject][\"files\"]\n",
    "           if re.match(r'(.*(FMRI).*.json)', file)]\n",
    "    T1s=[file for file in data[subject][\"files\"]\n",
    "           if re.match(r'(.*(T1_MPRAGE).*.json)', file)]\n",
    "\n",
    "    # control number of files\n",
    "    if len(EPIs) != 1:\n",
    "        print(subject, \"\\n\", f\"Not exactly one FMRI sequence to read out ({len(EPIs)}).... investigate\", \"\\n\")\n",
    "        EPI_excluded.append(subject)\n",
    "\n",
    "    if len(T1s) != 1:\n",
    "        print(subject, \"\\n\", f\"Not exactly one T1 sequence to read out ({len(T1)}).... investigate\", \"\\n\")\n",
    "        T1_excluded.append(subject)    \n",
    "\n",
    "    # There seem to be several omissions in the GRER_FIELD data -> investigate\n",
    "#    elif len(GREs) < 2:\n",
    "#        print(subject, \"\\n\", f\"Not enough GRE_FIELD sequences to read out ({len(GREs)}).... exclude/investigate\", \"\\n\")\n",
    "#        GRE_excluded.append(subject)\n",
    "      \n",
    "    # if there is more than one pair of magnitude images (e1+e2),\n",
    "    # take the first one as they are likely to be closer to the fMRI acquisition\n",
    "#    elif len(GREs) > 2:\n",
    "#        print(subject, \"\\n\", \"More than 2 GRE_FIELD sequences\",\n",
    "#              \"(\"+str(len(GREs))+\")\", \".... select only first two for TE extraction\", \"\\n\")\n",
    "\n",
    "\n",
    "## control presence of other relevant file content (presence of condition onset times, covariates of interest etc.)\n",
    "# define files\n",
    "credentials=f\"{scriptdatadir}FED_Subject_Assignments.xlsx\"\n",
    "modelinfo=f\"{scriptdatadir}FED_Day_2_RAW_Coded_ALLCODESFIXED_Kontrolle_Truncated_Correct_and_Incorrect_3SDRemoved_46Fixed.xls\"\n",
    "# read relevant content\n",
    "ID_cre=pd.read_excel(credentials, sheet_name=\"analysis\", usecols=['Sub Num FED_XXX'])\n",
    "ID_mod=pd.read_excel(modelinfo, sheet_name=\"analysis\", usecols=['Sub Num FED_XXX'])\n",
    "# bring content to list\n",
    "ID_cre=ID_cre['Sub Num FED_XXX'].tolist()\n",
    "ID_mod=ID_mod['Sub Num FED_XXX'].tolist()\n",
    "\n",
    "\n",
    "## exclude FEDs based on file criteria\n",
    "print(\"\\n\\n\", \"The following subjects where excluded from further analysis due to false file numbers: \",\\\n",
    "      \"\\n\", \"EPI: \", sorted(EPI_excluded), \"T1: \", sorted(T1_excluded))\n",
    "\n",
    "## update FEDs based on prior exclusion\n",
    "#FEDs=[sub for sub in FEDs if sub not in GRE_excluded and sub not in EPI_excluded]"
   ]
  },
  {
   "cell_type": "code",
   "execution_count": 24,
   "metadata": {},
   "outputs": [
    {
     "name": "stdout",
     "output_type": "stream",
     "text": [
      "    Sub Num FED_XXX\n",
      "0                 6\n",
      "1                 7\n",
      "2                 8\n",
      "3                 9\n",
      "4                10\n",
      "..              ...\n",
      "58               64\n",
      "59               65\n",
      "60               66\n",
      "61               67\n",
      "62               68\n",
      "\n",
      "[63 rows x 1 columns]\n"
     ]
    }
   ],
   "source": [
    "# control presence of other relevant file content (presence of condition onset times, covariates of interest etc.)\n",
    "for subject in FEDs:\n",
    "    print(subject[-2:])"
   ]
  },
  {
   "cell_type": "code",
   "execution_count": 22,
   "metadata": {
    "collapsed": true,
    "jupyter": {
     "outputs_hidden": true
    }
   },
   "outputs": [
    {
     "name": "stdout",
     "output_type": "stream",
     "text": [
      "The following parameters where not available from subjects' json files: \n",
      " ['FED006_T1-DwellTime', 'FED006_T1-PhaseEncodingDirection', 'FED007_T1-PhaseEncodingDirection', 'FED008_T1-PhaseEncodingDirection', 'FED009_T1-PhaseEncodingDirection', 'FED010_T1-DwellTime', 'FED010_T1-PhaseEncodingDirection', 'FED011_T1-PhaseEncodingDirection', 'FED012_T1-PhaseEncodingDirection', 'FED013_T1-DwellTime', 'FED013_T1-PhaseEncodingDirection', 'FED014_T1-PhaseEncodingDirection', 'FED015_T1-PhaseEncodingDirection', 'FED016_T1-PhaseEncodingDirection', 'FED017_T1-DwellTime', 'FED017_T1-PhaseEncodingDirection', 'FED018_T1-DwellTime', 'FED018_T1-PhaseEncodingDirection', 'FED019_T1-DwellTime', 'FED019_T1-PhaseEncodingDirection', 'FED020_T1-PhaseEncodingDirection', 'FED021_T1-DwellTime', 'FED021_T1-PhaseEncodingDirection', 'FED022_T1-PhaseEncodingDirection', 'FED023_T1-PhaseEncodingDirection', 'FED024_T1-DwellTime', 'FED024_T1-PhaseEncodingDirection', 'FED025_T1-DwellTime', 'FED025_T1-PhaseEncodingDirection', 'FED026_T1-DwellTime', 'FED026_T1-PhaseEncodingDirection', 'FED027_T1-DwellTime', 'FED027_T1-PhaseEncodingDirection', 'FED028_T1-DwellTime', 'FED028_T1-PhaseEncodingDirection', 'FED029_T1-DwellTime', 'FED029_T1-PhaseEncodingDirection', 'FED030_T1-PhaseEncodingDirection', 'FED031_T1-PhaseEncodingDirection', 'FED032_T1-PhaseEncodingDirection', 'FED033_T1-PhaseEncodingDirection', 'FED034_T1-PhaseEncodingDirection', 'FED035_T1-PhaseEncodingDirection', 'FED036_T1-PhaseEncodingDirection', 'FED037_T1-PhaseEncodingDirection', 'FED038_T1-PhaseEncodingDirection', 'FED039_T1-PhaseEncodingDirection', 'FED040_T1-PhaseEncodingDirection', 'FED041_T1-PhaseEncodingDirection', 'FED042_T1-PhaseEncodingDirection', 'FED043_T1-PhaseEncodingDirection', 'FED044_T1-PhaseEncodingDirection', 'FED045_T1-DwellTime', 'FED045_T1-PhaseEncodingDirection', 'FED046_T1-PhaseEncodingDirection', 'FED047_T1-DwellTime', 'FED047_T1-PhaseEncodingDirection', 'FED048_T1-DwellTime', 'FED048_T1-PhaseEncodingDirection', 'FED049_T1-PhaseEncodingDirection', 'FED050_T1-DwellTime', 'FED050_T1-PhaseEncodingDirection', 'FED051_T1-PhaseEncodingDirection', 'FED052_T1-DwellTime', 'FED052_T1-PhaseEncodingDirection', 'FED053_T1-PhaseEncodingDirection', 'FED054_T1-DwellTime', 'FED054_T1-PhaseEncodingDirection', 'FED055_T1-PhaseEncodingDirection', 'FED056_T1-PhaseEncodingDirection', 'FED057_T1-PhaseEncodingDirection', 'FED058_T1-PhaseEncodingDirection', 'FED059_T1-PhaseEncodingDirection', 'FED060_T1-PhaseEncodingDirection', 'FED061_T1-PhaseEncodingDirection', 'FED062_T1-PhaseEncodingDirection', 'FED063_EPI-DwellTime', 'FED063_T1-DwellTime', 'FED063_T1-PhaseEncodingDirection', 'FED064_EPI-DwellTime', 'FED064_T1-DwellTime', 'FED064_T1-PhaseEncodingDirection', 'FED065_EPI-DwellTime', 'FED065_T1-DwellTime', 'FED065_T1-PhaseEncodingDirection', 'FED066_EPI-DwellTime', 'FED066_T1-DwellTime', 'FED066_T1-PhaseEncodingDirection', 'FED067_T1-PhaseEncodingDirection', 'FED068_T1-PhaseEncodingDirection']\n"
     ]
    }
   ],
   "source": [
    "## Read json info data for all relevant parameters\n",
    "# define info of interest\n",
    "#GREspecs=[\"EchoTime\", \"PhaseEncodingDirection\"]\n",
    "EPIspecs=[\"EchoTime\", \"RepetitionTime\", \"EchoTrainLength\", \n",
    "          \"PhaseEncodingSteps\", \"PhaseEncodingDirection\",\n",
    "          \"DwellTime\", \"TotalReadoutTime\", \"EffectiveEchoSpacing\", \"PixelBandwidth\"]\n",
    "T1specs=[\"EchoTime\", \"RepetitionTime\",\n",
    "          \"PhaseEncodingSteps\", \"InversionTime\", \"PixelBandwidth\"]\n",
    "# create list to record missing parameters\n",
    "missing_params=[]\n",
    "\n",
    "# Now for the parameter extraction\n",
    "for subject in FEDs:\n",
    "    # collect relevant files/FED for parameter extraction\n",
    "#    GREs=[file for file in data[subject][\"files\"]\n",
    "#           if re.match(r'(.*(_e1|_e2(?!_ph)).*.json)', file)]\n",
    "    T1s=[file for file in data[subject][\"files\"]\n",
    "           if re.match(r'(.*(T1_MPRAGE).*.json)', file)]\n",
    "    EPIs=[file for file in data[subject][\"files\"]\n",
    "           if re.match(r'(.*(FMRI).*.json)', file)]\n",
    "\n",
    "    # if there is more than one pair of magnitude images (e1+e2),\n",
    "    # take the first one as they are likely to be closer to the fMRI acquisition\n",
    "#    if len(GREs) > 2:\n",
    "#        print(subject, \"\\n\", \"More than 2 GRE_FIELD sequences\",\n",
    "#              \"(\"+str(len(GREs))+\")\", \".... selecting first two for TE extraction\", \"\\n\")\n",
    "#        GREs = GREs[0:2] \n",
    "    \n",
    "    # T1 PARAMETERS\n",
    "    # collect parameters from the respective scan's json file\n",
    "    for file in T1s:\n",
    "        with open(file) as json_file:\n",
    "            info=json.load(json_file)\n",
    "            for param in T1specs:\n",
    "                # put params into data; use capital letters of parameter name as indicator in key\n",
    "                key=f\"T1_{''.join([char for char in param if char.isupper()])}\"\n",
    "                # if key does not exist -> create list with parameter\n",
    "                if key not in data[subject][\"parameters\"].keys():\n",
    "                    try: data[subject][\"parameters\"][key]=[info[param]]\n",
    "                    # if parameter does not exist in json file -> missing_params\n",
    "                    # append to GRE_excluded\n",
    "                    except KeyError:\n",
    "#                        print(f\"{subject}'s json file does not specify {param}\", \"\\n\",\n",
    "#                             \"noting issue ... \")\n",
    "                        missing_params.append(f\"{subject}_T1-{param}\")\n",
    "                        T1_excluded.append(subject)\n",
    "                        pass\n",
    "                # if key does exist -> append parameter to the list\n",
    "                if key in data[subject][\"parameters\"].keys():\n",
    "                    if info[param] not in data[subject][\"parameters\"][key]:\n",
    "                        data[subject][\"parameters\"][key].append(info[param])\n",
    "                    elif info[param] in data[subject][\"parameters\"][key]:\n",
    "                        pass\n",
    "\n",
    "    # EPI PARAMETERS\n",
    "    # collect parameters from the respective scan's json file\n",
    "    for file in EPIs:\n",
    "        with open(file) as json_file:\n",
    "            info=json.load(json_file)\n",
    "            for param in EPIspecs:\n",
    "                # put params into data; use capital letters of parameter name as indicator in key\n",
    "                key=f\"EPI_{''.join([char for char in param if char.isupper()])}\"\n",
    "                # if key does not exist -> create list with parameter\n",
    "                if key not in data[subject][\"parameters\"].keys():\n",
    "                    try: data[subject][\"parameters\"][key]=[info[param]]\n",
    "                    # if parameter does not exist in json file -> missing_params\n",
    "                    # append to EPI_excluded\n",
    "                    except KeyError:\n",
    "#                        print(f\"{subject}'s json file does not specify {param}\", \"\\n\",\n",
    "#                             \"noting issue ... \")\n",
    "                        missing_params.append(f\"{subject}_EPI-{param}\")\n",
    "                        EPI_excluded.append(subject)\n",
    "                        pass\n",
    "                # if key does exist -> append to the list\n",
    "                if key in data[subject][\"parameters\"].keys():\n",
    "                    if info[param] not in data[subject][\"parameters\"][key]:\n",
    "                        data[subject][\"parameters\"][key].append(info[param])\n",
    "                    elif info[param] in data[subject][\"parameters\"][key]:\n",
    "                        pass\n",
    "\n",
    "## show missing parameters from json files:\n",
    "print(\"The following parameters where not available from subjects' json files:\", \n",
    "      \"\\n\",sorted(missing_params))\n",
    "\n",
    "## exclude FEDs based on file criteria\n",
    "#print(\"\\n\\n\", \"The following subjects where excluded from further analysis due to false file numbers or missing parameters: \",\\\n",
    "#      \"\\n\", \"EPI: \", sorted(EPI_excluded), \"\\n\\n\",\n",
    "#     len(EPI_excluded), \"  subjects in total\")\n",
    "\n",
    "## update FEDs based on prior exclusion\n",
    "#FEDs=[sub for sub in FEDs if sub not in GRE_excluded and sub not in EPI_excluded]"
   ]
  },
  {
   "cell_type": "code",
   "execution_count": 24,
   "metadata": {},
   "outputs": [],
   "source": [
    "## Edit the read-in parameters into analysis format\n",
    "for sub in sorted(FEDs):\n",
    "    # calculate necessary parameters that are not in header information\n",
    "    # deltaTE for GRE_FIELD echo-based comparison\n",
    "#    data[subject][\"parameters\"][\"DeltaTE\"]= reduce(operator.sub, data[subject][\"parameters\"][\"GRE_ET\"])*-1*1000\n",
    "    \n",
    "    # transfer phase encoding directions from field axes to voxel axes\n",
    "    # control field axes values\n",
    "#    print(sub)\n",
    "#    print(data[sub][\"parameters\"][\"EPI_PED\"][0])\n",
    "    epi_phasecodedir=data[sub][\"parameters\"][\"EPI_PED\"][0]\n",
    "    for char in epi_phasecodedir:\n",
    "        if char == \"i\":\n",
    "            data[sub][\"parameters\"][\"EPI_PED\"][0]=f\"x{epi_phasecodedir[1:]}\"\n",
    "        elif char == \"j\":\n",
    "            data[sub][\"parameters\"][\"EPI_PED\"][0]=f\"y{epi_phasecodedir[1:]}\"\n",
    "        elif char == \"k\":\n",
    "            data[sub][\"parameters\"][\"EPI_PED\"][0]=f\"z{epi_phasecodedir[1:]}\"\n",
    "    \n",
    "    # same for T1s\n",
    "#    T1_phasecodedir=data[sub][\"parameters\"][\"T1_PED\"][0]\n",
    "#    for char in T1_phasecodedir:\n",
    "#        if char == \"i\":\n",
    "#            data[sub][\"parameters\"][\"T1_PED\"][0]=f\"x{T1_phasecodedir[1:]}\"\n",
    "#        elif char == \"j\":\n",
    "#            data[sub][\"parameters\"][\"T1_PED\"][0]=f\"y{T1_phasecodedir[1:]}\"\n",
    "#        elif char == \"k\":\n",
    "#            data[sub][\"parameters\"][\"T1_PED\"][0]=f\"z{T1_phasecodedir[1:]}\""
   ]
  },
  {
   "cell_type": "code",
   "execution_count": null,
   "metadata": {},
   "outputs": [],
   "source": [
    "# control new values\n",
    "# print(data[\"FED015\"][\"parameters\"][\"EPI_PED\"][0])"
   ]
  },
  {
   "cell_type": "markdown",
   "metadata": {},
   "source": [
    "Get/create relevant covariates"
   ]
  },
  {
   "cell_type": "code",
   "execution_count": null,
   "metadata": {},
   "outputs": [],
   "source": [
    "## create covariates (FSL -> \"EVs\")\n",
    "# get sex, age, depression, latency since clinical episode, severity of clinical episodes, number of clinical episodes, - data from list in .xlsx file(s)\n",
    "\n",
    "# files are already defined ^^\n",
    "# read relevant content\n",
    "content_cre=pd.read_excel(credentials, sheet_name=\"analysis\", usecols=['Sub Num FED_XXX'])\n",
    "content_mod=pd.read_excel(modelinfo, sheet_name=\"analysis\", usecols=['Sub Num FED_XXX'])\n",
    "\n",
    "# sort panda dataframe according to GM file hierarchy in FED subject sequence\n",
    "# define sort-by list (get FED_ID and format to fit entries in dataframe)\n",
    "model_FED_ID = [i.split('_',4)[3][3:].lstrip(\"0\") for i in \n",
    "# transform values to integers\n",
    "model_FED_ID = [np.int(i) for i in model_FED_ID]\n",
    "# define a categorical variable to sort a column and corresponding lines after\n",
    "content_cre['model_FED_ID'] = pd.Categorical(content_cre['Sub Num FED_XXX'], categories = model_FED_ID, ordered = True)\n",
    "# sort dataframe\n",
    "content_cre.sort_values('model_FED_ID', inplace=True)\n",
    "\n",
    "# get relevant covariates\n",
    "dep=content_cre['BDI 22 Score'].tolist()\n",
    "sex=content_cre['Gender'].tolist()\n",
    "age=content_cre['Age'].tolist()\n"
   ]
  }
 ],
 "metadata": {
  "kernelspec": {
   "display_name": "Python [conda env:neuro] *",
   "language": "python",
   "name": "conda-env-neuro-py"
  },
  "language_info": {
   "codemirror_mode": {
    "name": "ipython",
    "version": 3
   },
   "file_extension": ".py",
   "mimetype": "text/x-python",
   "name": "python",
   "nbconvert_exporter": "python",
   "pygments_lexer": "ipython3",
   "version": "3.7.8"
  }
 },
 "nbformat": 4,
 "nbformat_minor": 4
}
