{
 "cells": [
  {
   "cell_type": "markdown",
   "metadata": {},
   "source": [
    "Gather necessary pre-requisites:"
   ]
  },
  {
   "cell_type": "code",
   "execution_count": 15,
   "metadata": {},
   "outputs": [
    {
     "name": "stdout",
     "output_type": "stream",
     "text": [
      "200302-07:59:50,918 nipype.utils INFO:\n",
      "\t Running nipype version 1.5.0-dev (latest: 1.4.2)\n"
     ]
    }
   ],
   "source": [
    "# import everything you need\n",
    "from nipype import Node, Workflow\n",
    "import nipype.interfaces.spm as spm\n",
    "from nilearn import plotting, datasets\n",
    "import numpy as np\n",
    "import matplotlib.pyplot as plt\n",
    "import pandas as pd\n",
    "import nibabel as nb\n",
    "import os, re\n",
    "from itertools import zip_longest"
   ]
  },
  {
   "cell_type": "code",
   "execution_count": 2,
   "metadata": {},
   "outputs": [],
   "source": [
    "# define useful functions\n",
    "# define show-slices function\n",
    "def show_slices(slices):\n",
    "    \"\"\" Function to display row of image slices \"\"\"\n",
    "    fig, axes = plt.subplots(1, len(slices))\n",
    "    for i, slice in enumerate(slices):\n",
    "        axes[i].imshow(slice.T, cmap=\"gray\", origin=\"lower\")\n",
    "# add suptitle via plt.suptitle\n",
    "        \n",
    "# check size of items and delete them when above a certain threshold\n",
    "from sys import getsizeof # function is not fully indicative -> look for better option\n",
    "def check_itemsize(items):\n",
    "    for i in items:\n",
    "        # return size of object in bytes\n",
    "        print(\"size of item\", i, \"is:\", getsizeof(i))\n",
    "        if getsizeof(i) > 10000: # think about dynamic coding for this\n",
    "            del i\n",
    "            print(\"deleted, object exceeded set threshold.\")\n",
    "        else:\n",
    "            print(\"retained, object is sufficiently small.\")"
   ]
  },
  {
   "cell_type": "markdown",
   "metadata": {},
   "source": [
    "Get files"
   ]
  },
  {
   "cell_type": "code",
   "execution_count": 62,
   "metadata": {},
   "outputs": [],
   "source": [
    "# collect all spmT images [contrasts 1-4: dep>con, con>dep, male>female, young>old]\n",
    "# specify relevant directories\n",
    "VBM_dir = \"/VBM/\"\n",
    "norm_dirs = [os.path.join(VBM_dir, f\"{normdir}\") for normdir in os.listdir(VBM_dir) \n",
    "                          if re.match(r'DARTEL_norm2mni.*', normdir)]\n",
    "MReg_dirs = [os.path.join(normdir, regdir) for normdir in norm_dirs \n",
    "             for regdir in os.listdir(normdir) if re.match(r'SPM_M.*', regdir)]\n",
    "MReg_ests = [os.path.join(regdir, estdir) for regdir in MReg_dirs \n",
    "             for estdir in os.listdir(regdir) if re.match(r'est.*', estdir)]\n",
    "Contrast_dirs = [os.path.join(estdir, contdir) for estdir in MReg_ests \n",
    "              for contdir in os.listdir(estdir) if re.match(r'est.*Cont.*', contdir)]\n",
    "\n",
    "# define the split GM and WM templates\n",
    "DARTEL_templates = [VBM_dir + f\"DARTEL_template/grouptemplate_6_{i}.nii\" for i in [\"GM\", \"WM\"]]\n",
    "\n",
    "# get spmT images\n",
    "spmT_img = sorted([os.path.join(contdir, img) for contdir in Contrast_dirs for img in os.listdir(contdir) \n",
    "                   if re.match(r'(^spmT.*)', img)])\n",
    "\n",
    "# get directories of FDR thresholded images\n",
    "FDR_dirs = [os.path.join(contdir, f\"FDR_spmT{contrast_index}\") \n",
    "            for contdir in Contrast_dirs for contrast_index in range(1, (len(spmT_img)//2)+1)]\n",
    "\n",
    "# get the spmT images after FDR thresholding (show only surviving clusters)\n",
    "spmT_img_FDR = [os.path.join(fdrdir, img) for fdrdir in FDR_dirs for img in os.listdir(fdrdir) \n",
    "                if re.match(r'(^spmT.*\\d{4}_thr.nii)', img)]\n",
    "\n",
    "# define contrast names in order of creation (MReg model)\n",
    "con_names = [\"dep>con\", \"con>dep\", \"male>female\", \"young>old\"]"
   ]
  },
  {
   "cell_type": "markdown",
   "metadata": {},
   "source": [
    "Plot VBM results"
   ]
  },
  {
   "cell_type": "code",
   "execution_count": 63,
   "metadata": {},
   "outputs": [],
   "source": [
    "# get surf_mesh background for 3D plotting\n",
    "#fsaverage = datasets.fetch_surf_fsaverage()\n",
    "\n",
    "# prep image\n",
    "# flexible type error -> look at nb object and access datatype\n",
    "#malefemale_nb = nb.load(spmT_img_FDR[2])\n",
    "# get func data, change datatype from nan to float32\n",
    "#malefemale_fdata = malefemale_nb.dataobj[:].astype(np.float32)\n",
    "# save back to nifti, using Identity matrix as affine transformation\n",
    "#malefemale_fdata_img = nb.Nifti1Image(malefemale_fdata, np.eye(4))\n",
    "#malefemale_fdata_img.to_filename(os.path.join(FDR_dirs[2], \"spmT3.nii.gz\"))\n",
    "\n",
    "#stat_img_surf_3D = plotting.plot_surf_stat_map(stat_map=os.path.join(FDR_dirs[2], \"spmT3.nii.gz\"), title=con_names[2], \n",
    "#                                       surf_mesh=fsaverage['pial_left'], bg_map=fsaverage['sulc_left'], \n",
    "#                                       hemi='left', view='medial', bg_on_data=True)\n",
    "#stat_img_surf3D = plotting.view_img_on_surf(spmT_img_FDR[2], cmap=\"black_red\", colorbar=True, colorbar_height=0.5, \n",
    "#                                            surf_mesh='fsaverage', title=con_names[2])\n",
    "\n",
    "# plot results only for relevant contrast male>female\n",
    "# for GM\n",
    "stat_img_3D_GM = plotting.view_img(spmT_img_FDR[2], threshold=0, cut_coords=[-42, -16, 52], title=con_names[2])\n",
    "stat_img_3D_GM.save_as_html(os.path.join(FDR_dirs[2], \"spmT3_img_GM.html\"))\n",
    "stat_map_zslice10_GM = plotting.plot_stat_map(spmT_img_FDR[2], threshold=0, display_mode=\"z\", cut_coords=10, title=con_names[2])\n",
    "stat_map_zslice10_GM.savefig(os.path.join(FDR_dirs[2], \"spmT3_statmap_Zslice10_GM.png\"))\n",
    "stat_map_zslice10_ontemplate_GM = plotting.plot_stat_map(spmT_img_FDR[2], threshold=0, display_mode=\"z\", cut_coords=10, \n",
    "                                                         bg_img=DARTEL_templates[0], title=con_names[2])\n",
    "stat_map_zslice10_ontemplate_GM.savefig(os.path.join(FDR_dirs[2], \"spmT3_statmap_Zslice10_ontemplate_GM.png\"))\n",
    "\n",
    "# for WM\n",
    "stat_img_3D_GM = plotting.view_img(spmT_img_FDR[6], threshold=0, cut_coords=[-42, -16, 52], title=con_names[2])\n",
    "stat_img_3D_GM.save_as_html(os.path.join(FDR_dirs[6], \"spmT3_img_WM.html\"))\n",
    "stat_map_zslice10_GM = plotting.plot_stat_map(spmT_img_FDR[6], threshold=0, display_mode=\"z\", cut_coords=10, title=con_names[2])\n",
    "stat_map_zslice10_GM.savefig(os.path.join(FDR_dirs[6], \"spmT3_statmap_Zslice10_WM.png\"))\n",
    "stat_map_zslice10_ontemplate_GM = plotting.plot_stat_map(spmT_img_FDR[6], threshold=0, display_mode=\"z\", cut_coords=10, \n",
    "                                                         bg_img=DARTEL_templates[1], title=con_names[2])\n",
    "stat_map_zslice10_ontemplate_GM.savefig(os.path.join(FDR_dirs[6], \"spmT3_statmap_Zslice10_ontemplate_WM.png\"))"
   ]
  },
  {
   "cell_type": "code",
   "execution_count": null,
   "metadata": {},
   "outputs": [],
   "source": []
  },
  {
   "cell_type": "markdown",
   "metadata": {},
   "source": [
    "Testing Zone"
   ]
  },
  {
   "cell_type": "code",
   "execution_count": 61,
   "metadata": {},
   "outputs": [
    {
     "name": "stdout",
     "output_type": "stream",
     "text": [
      "/VBM/DARTEL_norm2mni_c2/SPM_MultiReg_WM/estimate_MReg/estimate_Contrats/FDR_spmT3\n"
     ]
    }
   ],
   "source": [
    "print(FDR_dirs[6])"
   ]
  },
  {
   "cell_type": "code",
   "execution_count": null,
   "metadata": {},
   "outputs": [],
   "source": [
    "# make presentation figure showing middle slice of one struct and one fMRI\n",
    "# activate in-line magic\n",
    "%matplotlib inline\n",
    "\n",
    "# get the relevant volume out of the 4D nifti\n",
    "fmri1=nimg.load_img(FMRI[0])\n",
    "fmri1_middle=nimg.index_img(fmri1, fmri1.shape[3] // 2)\n",
    "\n",
    "#plot everything\n",
    "bettercolours=plot_epi(fmri1_middle, cut_coords=(10,10,40),\n",
    "          display_mode='ortho', cmap=\"CMRmap\", draw_cross=False, annotate=False)\n",
    "normal=plot_epi(fmri1_middle, cut_coords=(10,10,40),\n",
    "          display_mode='ortho', cmap=\"gray\", draw_cross=False, annotate=False)\n",
    "\n",
    "# safe files for presentation\n",
    "\n",
    "bettercolours.savefig(\"/fMRI/fMRI_bettercolours.png\")\n",
    "normal.savefig(\"/fMRI/fMRI_normal.png\")\n",
    "struct.savefig(\"/fMRI/structMRI_normal.png\")"
   ]
  }
 ],
 "metadata": {
  "kernelspec": {
   "display_name": "Python [conda env:neuro] *",
   "language": "python",
   "name": "conda-env-neuro-py"
  },
  "language_info": {
   "codemirror_mode": {
    "name": "ipython",
    "version": 3
   },
   "file_extension": ".py",
   "mimetype": "text/x-python",
   "name": "python",
   "nbconvert_exporter": "python",
   "pygments_lexer": "ipython3",
   "version": "3.7.6"
  }
 },
 "nbformat": 4,
 "nbformat_minor": 4
}
