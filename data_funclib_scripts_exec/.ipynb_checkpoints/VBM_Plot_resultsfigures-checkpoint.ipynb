{
 "cells": [
  {
   "cell_type": "markdown",
   "metadata": {},
   "source": [
    "Gather necessary pre-requisites:"
   ]
  },
  {
   "cell_type": "code",
   "execution_count": 1,
   "metadata": {},
   "outputs": [
    {
     "name": "stdout",
     "output_type": "stream",
     "text": [
      "200303-16:39:09,288 nipype.utils INFO:\n",
      "\t Running nipype version 1.5.0-dev (latest: 1.4.2)\n"
     ]
    }
   ],
   "source": [
    "# import everything you need\n",
    "from nipype import Node, Workflow\n",
    "import nipype.interfaces.spm as spm\n",
    "from nilearn import plotting, datasets\n",
    "import numpy as np\n",
    "import matplotlib.pyplot as plt\n",
    "import pandas as pd\n",
    "import nibabel as nb\n",
    "import os, re\n",
    "from itertools import zip_longest"
   ]
  },
  {
   "cell_type": "code",
   "execution_count": 2,
   "metadata": {},
   "outputs": [],
   "source": [
    "# define useful functions\n",
    "# define show-slices function\n",
    "def show_slices(slices):\n",
    "    \"\"\" Function to display row of image slices \"\"\"\n",
    "    fig, axes = plt.subplots(1, len(slices))\n",
    "    for i, slice in enumerate(slices):\n",
    "        axes[i].imshow(slice.T, cmap=\"gray\", origin=\"lower\")\n",
    "# add suptitle via plt.suptitle\n",
    "        \n",
    "# check size of items and delete them when above a certain threshold\n",
    "from sys import getsizeof # function is not fully indicative -> look for better option\n",
    "def check_itemsize(items):\n",
    "    for i in items:\n",
    "        # return size of object in bytes\n",
    "        print(\"size of item\", i, \"is:\", getsizeof(i))\n",
    "        if getsizeof(i) > 10000: # think about dynamic coding for this\n",
    "            del i\n",
    "            print(\"deleted, object exceeded set threshold.\")\n",
    "        else:\n",
    "            print(\"retained, object is sufficiently small.\")"
   ]
  },
  {
   "cell_type": "markdown",
   "metadata": {},
   "source": [
    "Get files"
   ]
  },
  {
   "cell_type": "code",
   "execution_count": 3,
   "metadata": {},
   "outputs": [],
   "source": [
    "# collect all spmT images [contrasts 1-4: dep>con, con>dep, male>female, young>old]\n",
    "# specify relevant directories\n",
    "VBM_dir = \"/VBM/\"\n",
    "norm_dirs = [os.path.join(VBM_dir, f\"{normdir}\") for normdir in os.listdir(VBM_dir) \n",
    "                          if re.match(r'DARTEL_norm2mni.*', normdir)]\n",
    "MReg_dirs = [os.path.join(normdir, regdir) for normdir in norm_dirs \n",
    "             for regdir in os.listdir(normdir) if re.match(r'SPM_M.*', regdir)]\n",
    "MReg_ests = [os.path.join(regdir, estdir) for regdir in MReg_dirs \n",
    "             for estdir in os.listdir(regdir) if re.match(r'est.*', estdir)]\n",
    "Contrast_dirs = [os.path.join(estdir, contdir) for estdir in MReg_ests \n",
    "              for contdir in os.listdir(estdir) if re.match(r'est.*Cont.*', contdir)]\n",
    "\n",
    "# define the split GM and WM templates\n",
    "DARTEL_templates = [VBM_dir + f\"DARTEL_template/template_6_{i}.nii\" for i in [\"GM\", \"WM\"]]\n",
    "\n",
    "# get spmT images\n",
    "spmT_img = sorted([os.path.join(contdir, img) for contdir in Contrast_dirs for img in os.listdir(contdir) \n",
    "                   if re.match(r'(^spmT.*)', img)])\n",
    "\n",
    "# get directories of FDR thresholded images\n",
    "FDR_dirs = [os.path.join(contdir, f\"FDR_spmT{contrast_index}\") \n",
    "            for contdir in Contrast_dirs for contrast_index in range(1, (len(spmT_img)//2)+1)]\n",
    "\n",
    "# get the spmT images after FDR thresholding (show only surviving clusters)\n",
    "spmT_img_FDR = [os.path.join(fdrdir, img) for fdrdir in FDR_dirs for img in os.listdir(fdrdir) \n",
    "                if re.match(r'(^spmT.*\\d{4}_thr.nii)', img)]\n",
    "\n",
    "# define contrast names in order of creation (MReg model)\n",
    "con_names = [\"dep>con\", \"con>dep\", \"male>female\", \"young>old\"]"
   ]
  },
  {
   "cell_type": "markdown",
   "metadata": {},
   "source": [
    "Plot VBM results"
   ]
  },
  {
   "cell_type": "code",
   "execution_count": 4,
   "metadata": {},
   "outputs": [
    {
     "name": "stderr",
     "output_type": "stream",
     "text": [
      "/opt/miniconda-latest/envs/neuro/lib/python3.7/site-packages/nilearn/plotting/displays.py:780: UserWarning: empty mask\n",
      "  get_mask_bounds(new_img_like(img, not_mask, affine))\n"
     ]
    },
    {
     "ename": "ValueError",
     "evalue": "File not found: '/VBM/DARTEL_template/grouptemplate_6_GM.nii'",
     "output_type": "error",
     "traceback": [
      "\u001b[0;31m---------------------------------------------------------------------------\u001b[0m",
      "\u001b[0;31mValueError\u001b[0m                                Traceback (most recent call last)",
      "\u001b[0;32m<ipython-input-4-d9cf023e0e72>\u001b[0m in \u001b[0;36m<module>\u001b[0;34m\u001b[0m\n\u001b[1;32m     33\u001b[0m \u001b[0;34m\u001b[0m\u001b[0m\n\u001b[1;32m     34\u001b[0m stat_map_zslice10_ontemplate_GM = plotting.plot_stat_map(spmT_img_FDR[2], threshold=0, display_mode=\"z\", cut_coords=10, \n\u001b[0;32m---> 35\u001b[0;31m                                                          bg_img=DARTEL_templates[0], title=con_names[2])\n\u001b[0m\u001b[1;32m     36\u001b[0m \u001b[0mstat_map_zslice10_ontemplate_GM\u001b[0m\u001b[0;34m.\u001b[0m\u001b[0msavefig\u001b[0m\u001b[0;34m(\u001b[0m\u001b[0mos\u001b[0m\u001b[0;34m.\u001b[0m\u001b[0mpath\u001b[0m\u001b[0;34m.\u001b[0m\u001b[0mjoin\u001b[0m\u001b[0;34m(\u001b[0m\u001b[0mFDR_dirs\u001b[0m\u001b[0;34m[\u001b[0m\u001b[0;36m2\u001b[0m\u001b[0;34m]\u001b[0m\u001b[0;34m,\u001b[0m \u001b[0;34m\"spmT3_statmap_Zslice10_ontemplate_GM.png\"\u001b[0m\u001b[0;34m)\u001b[0m\u001b[0;34m)\u001b[0m\u001b[0;34m\u001b[0m\u001b[0;34m\u001b[0m\u001b[0m\n\u001b[1;32m     37\u001b[0m \u001b[0;34m\u001b[0m\u001b[0m\n",
      "\u001b[0;32m/opt/miniconda-latest/envs/neuro/lib/python3.7/site-packages/nilearn/plotting/img_plotting.py\u001b[0m in \u001b[0;36mplot_stat_map\u001b[0;34m(stat_map_img, bg_img, cut_coords, output_file, display_mode, colorbar, figure, axes, title, threshold, annotate, draw_cross, black_bg, cmap, symmetric_cbar, dim, vmax, resampling_interpolation, **kwargs)\u001b[0m\n\u001b[1;32m   1051\u001b[0m     \u001b[0;31m# dim the background\u001b[0m\u001b[0;34m\u001b[0m\u001b[0;34m\u001b[0m\u001b[0;34m\u001b[0m\u001b[0m\n\u001b[1;32m   1052\u001b[0m     bg_img, black_bg, bg_vmin, bg_vmax = _load_anat(bg_img, dim=dim,\n\u001b[0;32m-> 1053\u001b[0;31m                                                     black_bg=black_bg)\n\u001b[0m\u001b[1;32m   1054\u001b[0m \u001b[0;34m\u001b[0m\u001b[0m\n\u001b[1;32m   1055\u001b[0m     \u001b[0mstat_map_img\u001b[0m \u001b[0;34m=\u001b[0m \u001b[0m_utils\u001b[0m\u001b[0;34m.\u001b[0m\u001b[0mcheck_niimg_3d\u001b[0m\u001b[0;34m(\u001b[0m\u001b[0mstat_map_img\u001b[0m\u001b[0;34m,\u001b[0m \u001b[0mdtype\u001b[0m\u001b[0;34m=\u001b[0m\u001b[0;34m'auto'\u001b[0m\u001b[0;34m)\u001b[0m\u001b[0;34m\u001b[0m\u001b[0;34m\u001b[0m\u001b[0m\n",
      "\u001b[0;32m/opt/miniconda-latest/envs/neuro/lib/python3.7/site-packages/nilearn/plotting/img_plotting.py\u001b[0m in \u001b[0;36m_load_anat\u001b[0;34m(anat_img, dim, black_bg)\u001b[0m\n\u001b[1;32m    413\u001b[0m             \u001b[0mblack_bg\u001b[0m \u001b[0;34m=\u001b[0m \u001b[0;32mFalse\u001b[0m\u001b[0;34m\u001b[0m\u001b[0;34m\u001b[0m\u001b[0m\n\u001b[1;32m    414\u001b[0m     \u001b[0;32melse\u001b[0m\u001b[0;34m:\u001b[0m\u001b[0;34m\u001b[0m\u001b[0;34m\u001b[0m\u001b[0m\n\u001b[0;32m--> 415\u001b[0;31m         \u001b[0manat_img\u001b[0m \u001b[0;34m=\u001b[0m \u001b[0m_utils\u001b[0m\u001b[0;34m.\u001b[0m\u001b[0mcheck_niimg_3d\u001b[0m\u001b[0;34m(\u001b[0m\u001b[0manat_img\u001b[0m\u001b[0;34m)\u001b[0m\u001b[0;34m\u001b[0m\u001b[0;34m\u001b[0m\u001b[0m\n\u001b[0m\u001b[1;32m    416\u001b[0m         \u001b[0;31m# Clean anat_img for non-finite values to avoid computing unnecessary\u001b[0m\u001b[0;34m\u001b[0m\u001b[0;34m\u001b[0m\u001b[0;34m\u001b[0m\u001b[0m\n\u001b[1;32m    417\u001b[0m         \u001b[0;31m# border data values.\u001b[0m\u001b[0;34m\u001b[0m\u001b[0;34m\u001b[0m\u001b[0;34m\u001b[0m\u001b[0m\n",
      "\u001b[0;32m/opt/miniconda-latest/envs/neuro/lib/python3.7/site-packages/nilearn/_utils/niimg_conversions.py\u001b[0m in \u001b[0;36mcheck_niimg_3d\u001b[0;34m(niimg, dtype)\u001b[0m\n\u001b[1;32m    314\u001b[0m     \u001b[0mIts\u001b[0m \u001b[0mapplication\u001b[0m \u001b[0;32mis\u001b[0m \u001b[0midempotent\u001b[0m\u001b[0;34m.\u001b[0m\u001b[0;34m\u001b[0m\u001b[0;34m\u001b[0m\u001b[0m\n\u001b[1;32m    315\u001b[0m     \"\"\"\n\u001b[0;32m--> 316\u001b[0;31m     \u001b[0;32mreturn\u001b[0m \u001b[0mcheck_niimg\u001b[0m\u001b[0;34m(\u001b[0m\u001b[0mniimg\u001b[0m\u001b[0;34m,\u001b[0m \u001b[0mensure_ndim\u001b[0m\u001b[0;34m=\u001b[0m\u001b[0;36m3\u001b[0m\u001b[0;34m,\u001b[0m \u001b[0mdtype\u001b[0m\u001b[0;34m=\u001b[0m\u001b[0mdtype\u001b[0m\u001b[0;34m)\u001b[0m\u001b[0;34m\u001b[0m\u001b[0;34m\u001b[0m\u001b[0m\n\u001b[0m\u001b[1;32m    317\u001b[0m \u001b[0;34m\u001b[0m\u001b[0m\n\u001b[1;32m    318\u001b[0m \u001b[0;34m\u001b[0m\u001b[0m\n",
      "\u001b[0;32m/opt/miniconda-latest/envs/neuro/lib/python3.7/site-packages/nilearn/_utils/niimg_conversions.py\u001b[0m in \u001b[0;36mcheck_niimg\u001b[0;34m(niimg, ensure_ndim, atleast_4d, dtype, return_iterator, wildcards)\u001b[0m\n\u001b[1;32m    249\u001b[0m                 \u001b[0;32mraise\u001b[0m \u001b[0mValueError\u001b[0m\u001b[0;34m(\u001b[0m\u001b[0mmessage\u001b[0m\u001b[0;34m)\u001b[0m\u001b[0;34m\u001b[0m\u001b[0;34m\u001b[0m\u001b[0m\n\u001b[1;32m    250\u001b[0m             \u001b[0;32melse\u001b[0m\u001b[0;34m:\u001b[0m\u001b[0;34m\u001b[0m\u001b[0;34m\u001b[0m\u001b[0m\n\u001b[0;32m--> 251\u001b[0;31m                 \u001b[0;32mraise\u001b[0m \u001b[0mValueError\u001b[0m\u001b[0;34m(\u001b[0m\u001b[0;34m\"File not found: '%s'\"\u001b[0m \u001b[0;34m%\u001b[0m \u001b[0mniimg\u001b[0m\u001b[0;34m)\u001b[0m\u001b[0;34m\u001b[0m\u001b[0;34m\u001b[0m\u001b[0m\n\u001b[0m\u001b[1;32m    252\u001b[0m         \u001b[0;32melif\u001b[0m \u001b[0;32mnot\u001b[0m \u001b[0mos\u001b[0m\u001b[0;34m.\u001b[0m\u001b[0mpath\u001b[0m\u001b[0;34m.\u001b[0m\u001b[0mexists\u001b[0m\u001b[0;34m(\u001b[0m\u001b[0mniimg\u001b[0m\u001b[0;34m)\u001b[0m\u001b[0;34m:\u001b[0m\u001b[0;34m\u001b[0m\u001b[0;34m\u001b[0m\u001b[0m\n\u001b[1;32m    253\u001b[0m             \u001b[0;32mraise\u001b[0m \u001b[0mValueError\u001b[0m\u001b[0;34m(\u001b[0m\u001b[0;34m\"File not found: '%s'\"\u001b[0m \u001b[0;34m%\u001b[0m \u001b[0mniimg\u001b[0m\u001b[0;34m)\u001b[0m\u001b[0;34m\u001b[0m\u001b[0;34m\u001b[0m\u001b[0m\n",
      "\u001b[0;31mValueError\u001b[0m: File not found: '/VBM/DARTEL_template/grouptemplate_6_GM.nii'"
     ]
    }
   ],
   "source": [
    "# get surf_mesh background for 3D plotting\n",
    "#fsaverage = datasets.fetch_surf_fsaverage()\n",
    "\n",
    "# prep image\n",
    "# flexible type error -> look at nb object and access datatype\n",
    "#malefemale_nb = nb.load(spmT_img_FDR[2])\n",
    "# get func data, change datatype from nan to float32\n",
    "#malefemale_fdata = malefemale_nb.dataobj[:].astype(np.float32)\n",
    "# save back to nifti, using Identity matrix as affine transformation\n",
    "#malefemale_fdata_img = nb.Nifti1Image(malefemale_fdata, np.eye(4))\n",
    "#malefemale_fdata_img.to_filename(os.path.join(FDR_dirs[2], \"spmT3.nii.gz\"))\n",
    "\n",
    "#stat_img_surf_3D = plotting.plot_surf_stat_map(stat_map=os.path.join(FDR_dirs[2], \"spmT3.nii.gz\"), title=con_names[2], \n",
    "#                                       surf_mesh=fsaverage['pial_left'], bg_map=fsaverage['sulc_left'], \n",
    "#                                       hemi='left', view='medial', bg_on_data=True)\n",
    "#stat_img_surf3D = plotting.view_img_on_surf(spmT_img_FDR[2], cmap=\"black_red\", colorbar=True, colorbar_height=0.5, \n",
    "#                                            surf_mesh='fsaverage', title=con_names[2])\n",
    "\n",
    "# plot results only for relevant contrast male>female\n",
    "# for GM\n",
    "stat_img_3D_GM = plotting.view_img(spmT_img_FDR[2], threshold=0, cut_coords=[-42, -16, 52], title=con_names[2])\n",
    "stat_img_3D_GM.save_as_html(os.path.join(FDR_dirs[2], \"spmT3_3Dimg_GM.html\"))\n",
    "\n",
    "stat_map_zslice10_GM = plotting.plot_stat_map(spmT_img_FDR[2], threshold=0, display_mode=\"z\", cut_coords=10, title=con_names[2])\n",
    "stat_map_zslice10_GM.savefig(os.path.join(FDR_dirs[2], \"spmT3_statmap_Zslice10_GM.png\"))\n",
    "\n",
    "stat_map_xslice10_GM = plotting.plot_stat_map(spmT_img_FDR[2], threshold=0, display_mode=\"x\", cut_coords=10, title=con_names[2])\n",
    "stat_map_xslice10_GM.savefig(os.path.join(FDR_dirs[2], \"spmT3_statmap_Xslice10_GM.png\"))\n",
    "\n",
    "stat_map_yslice10_GM = plotting.plot_stat_map(spmT_img_FDR[2], threshold=0, display_mode=\"y\", cut_coords=10, title=con_names[2])\n",
    "stat_map_yslice10_GM.savefig(os.path.join(FDR_dirs[2], \"spmT3_statmap_Yslice10_GM.png\"))\n",
    "\n",
    "\n",
    "stat_map_zslice10_ontemplate_GM = plotting.plot_stat_map(spmT_img_FDR[2], threshold=0, display_mode=\"z\", cut_coords=10, \n",
    "                                                         bg_img=DARTEL_templates[0], title=con_names[2])\n",
    "stat_map_zslice10_ontemplate_GM.savefig(os.path.join(FDR_dirs[2], \"spmT3_statmap_Zslice10_ontemplate_GM.png\"))\n",
    "\n",
    "# for WM\n",
    "stat_img_3D_WM = plotting.view_img(spmT_img_FDR[6], threshold=0, cut_coords=[-42, -16, 52], title=con_names[2])\n",
    "stat_img_3D_WM.save_as_html(os.path.join(FDR_dirs[6], \"spmT3_3Dimg_WM.html\"))\n",
    "\n",
    "stat_map_zslice10_WM = plotting.plot_stat_map(spmT_img_FDR[6], threshold=0, display_mode=\"z\", cut_coords=10, title=con_names[2])\n",
    "stat_map_zslice10_WM.savefig(os.path.join(FDR_dirs[6], \"spmT3_statmap_Zslice10_WM.png\"))\n",
    "\n",
    "stat_map_xslice10_WM = plotting.plot_stat_map(spmT_img_FDR[6], threshold=0, display_mode=\"x\", cut_coords=10, title=con_names[2])\n",
    "stat_map_xslice10_WM.savefig(os.path.join(FDR_dirs[6], \"spmT3_statmap_Xslice10_WM.png\"))\n",
    "\n",
    "stat_map_yslice10_WM = plotting.plot_stat_map(spmT_img_FDR[6], threshold=0, display_mode=\"y\", cut_coords=10, title=con_names[2])\n",
    "stat_map_yslice10_WM.savefig(os.path.join(FDR_dirs[6], \"spmT3_statmap_Yslice10_WM.png\"))\n",
    "\n",
    "stat_map_zslice10_ontemplate_WM = plotting.plot_stat_map(spmT_img_FDR[6], threshold=0, display_mode=\"z\", cut_coords=10, \n",
    "                                                         bg_img=DARTEL_templates[1], title=con_names[2])\n",
    "stat_map_zslice10_ontemplate_WM.savefig(os.path.join(FDR_dirs[6], \"spmT3_statmap_Zslice10_ontemplate_WM.png\"))"
   ]
  },
  {
   "cell_type": "code",
   "execution_count": null,
   "metadata": {},
   "outputs": [],
   "source": []
  },
  {
   "cell_type": "markdown",
   "metadata": {},
   "source": [
    "Testing Zone"
   ]
  },
  {
   "cell_type": "code",
   "execution_count": 61,
   "metadata": {},
   "outputs": [
    {
     "name": "stdout",
     "output_type": "stream",
     "text": [
      "/VBM/DARTEL_norm2mni_c2/SPM_MultiReg_WM/estimate_MReg/estimate_Contrats/FDR_spmT3\n"
     ]
    }
   ],
   "source": [
    "print(FDR_dirs[6])"
   ]
  },
  {
   "cell_type": "code",
   "execution_count": null,
   "metadata": {},
   "outputs": [],
   "source": [
    "# make presentation figure showing middle slice of one struct and one fMRI\n",
    "# activate in-line magic\n",
    "%matplotlib inline\n",
    "\n",
    "# get the relevant volume out of the 4D nifti\n",
    "fmri1=nimg.load_img(FMRI[0])\n",
    "fmri1_middle=nimg.index_img(fmri1, fmri1.shape[3] // 2)\n",
    "\n",
    "#plot everything\n",
    "bettercolours=plot_epi(fmri1_middle, cut_coords=(10,10,40),\n",
    "          display_mode='ortho', cmap=\"CMRmap\", draw_cross=False, annotate=False)\n",
    "normal=plot_epi(fmri1_middle, cut_coords=(10,10,40),\n",
    "          display_mode='ortho', cmap=\"gray\", draw_cross=False, annotate=False)\n",
    "\n",
    "# safe files for presentation\n",
    "\n",
    "bettercolours.savefig(\"/fMRI/fMRI_bettercolours.png\")\n",
    "normal.savefig(\"/fMRI/fMRI_normal.png\")\n",
    "struct.savefig(\"/fMRI/structMRI_normal.png\")"
   ]
  }
 ],
 "metadata": {
  "kernelspec": {
   "display_name": "Python [conda env:neuro] *",
   "language": "python",
   "name": "conda-env-neuro-py"
  },
  "language_info": {
   "codemirror_mode": {
    "name": "ipython",
    "version": 3
   },
   "file_extension": ".py",
   "mimetype": "text/x-python",
   "name": "python",
   "nbconvert_exporter": "python",
   "pygments_lexer": "ipython3",
   "version": "3.7.6"
  }
 },
 "nbformat": 4,
 "nbformat_minor": 4
}
