{
 "cells": [
  {
   "cell_type": "markdown",
   "metadata": {},
   "source": [
    "# Create your desired plots for statistical results and other helpful graphics"
   ]
  },
  {
   "cell_type": "markdown",
   "metadata": {},
   "source": [
    "Gather necessary pre-requisites:"
   ]
  },
  {
   "cell_type": "code",
   "execution_count": 1,
   "metadata": {},
   "outputs": [
    {
     "name": "stdout",
     "output_type": "stream",
     "text": [
      "200418-07:49:23,949 nipype.utils INFO:\n",
      "\t Running nipype version 1.5.0-dev (latest: 1.4.2)\n"
     ]
    }
   ],
   "source": [
    "# import everything you need\n",
    "import nilearn.plotting as ni_plt\n",
    "import matplotlib.pyplot as plt\n",
    "import nibabel as nb\n",
    "import os, re\n",
    "from sys import getsizeof  # function is not fully indicative -> look for better option"
   ]
  },
  {
   "cell_type": "code",
   "execution_count": 2,
   "metadata": {},
   "outputs": [],
   "source": [
    "# define useful functions\n",
    "# define show-slices function\n",
    "def show_slices(slices):\n",
    "    \"\"\" Function to display row of image slices \"\"\"\n",
    "    fig, axes = plt.subplots(1, len(slices))\n",
    "    for i, slice in enumerate(slices):\n",
    "        axes[i].imshow(slice.T, cmap=\"gray\", origin=\"lower\")\n",
    "# add suptitle via plt.suptitle\n",
    "\n",
    "# check size of items and delete them when above a certain threshold\n",
    "def check_itemsize(items):\n",
    "    for i in items:\n",
    "        # return size of object in bytes\n",
    "        print(\"size of item\", i, \"is:\", getsizeof(i))\n",
    "        if getsizeof(i) > 10000: # think about dynamic coding for this\n",
    "            del i\n",
    "            print(\"deleted, object exceeded set threshold.\")\n",
    "        else:\n",
    "            print(\"retained, object is sufficiently small.\")"
   ]
  },
  {
   "cell_type": "code",
   "execution_count": 3,
   "metadata": {},
   "outputs": [],
   "source": [
    "# specify relevant directories\n",
    "VBM_dir = \"/VBM/\"\n",
    "norm_dirs = [os.path.join(VBM_dir, normdir)\n",
    "             for normdir in os.listdir(VBM_dir)\n",
    "             if normdir.startswith(\"DARTEL_norm2mni\")]\n",
    "\n",
    "MReg_dirs = [os.path.join(normdir, regdir)\n",
    "             for normdir in norm_dirs \n",
    "             for regdir in os.listdir(normdir)\n",
    "             if re.match(r'.*SPM_M.*', regdir)]\n",
    "\n",
    "MReg_ests = [os.path.join(regdir, estdir)\n",
    "             for regdir in MReg_dirs \n",
    "             for estdir in os.listdir(regdir)\n",
    "             if re.match(r'est.*', estdir)]\n",
    "\n",
    "Contrast_dirs = sorted([os.path.join(estdir, contdir)\n",
    "                        for estdir in MReg_ests \n",
    "                        for contdir in os.listdir(estdir)\n",
    "                        if re.match(r'est.*Cont.*', contdir)])\n"
   ]
  },
  {
   "cell_type": "code",
   "execution_count": 4,
   "metadata": {
    "collapsed": true,
    "jupyter": {
     "outputs_hidden": true
    }
   },
   "outputs": [
    {
     "name": "stdout",
     "output_type": "stream",
     "text": [
      "['/VBM/DARTEL_norm2mni_c1/GM_SPM_MReg_ANCScale/estimate_MReg/estimate_Contrasts', '/VBM/DARTEL_norm2mni_c1/GM_SPM_MReg_PropScale/estimate_MReg/estimate_Contrasts', '/VBM/DARTEL_norm2mni_c2/WM_SPM_MReg_ANCScale/estimate_MReg/estimate_Contrasts', '/VBM/DARTEL_norm2mni_c2/WM_SPM_MReg_PropScale/estimate_MReg/estimate_Contrasts']\n"
     ]
    }
   ],
   "source": [
    "print(Contrast_dirs)"
   ]
  },
  {
   "cell_type": "markdown",
   "metadata": {},
   "source": [
    "Get files"
   ]
  },
  {
   "cell_type": "code",
   "execution_count": 5,
   "metadata": {},
   "outputs": [],
   "source": [
    "# make one dict of all post-FDR dirs sorted into lists by content\n",
    "# [contrasts 1-4: dep>con, con>dep, male>female, young>old]\n",
    "\n",
    "# specify number of spmT_images\n",
    "spmT_img_len=4\n",
    "stat_dirs_FDR={}\n",
    "\n",
    "# enter content in alphabetically sorted order\n",
    "stat_dirs_FDR[\"GM_ANCscale\"] = sorted([os.path.join(contdir, f\"FDR_spmT{contrast_index}\")\n",
    "                                  for contdir in Contrast_dirs \n",
    "                                  for contrast_index in range(1, (spmT_img_len + 1))\n",
    "                                  if re.match(r'.*GM.*ANCScale.*', contdir)])\n",
    "\n",
    "stat_dirs_FDR[\"GM_propscale\"] = sorted([os.path.join(contdir, f\"FDR_spmT{contrast_index}\")\n",
    "                                   for contdir in Contrast_dirs \n",
    "                                   for contrast_index in range(1, (spmT_img_len + 1))\n",
    "                                   if re.match(r'.*GM.*PropScale.*', contdir)])\n",
    "\n",
    "stat_dirs_FDR[\"WM_ANCscale\"] = sorted([os.path.join(contdir, f\"FDR_spmT{contrast_index}\")\n",
    "                                  for contdir in Contrast_dirs \n",
    "                                  for contrast_index in range(1, (spmT_img_len + 1))\n",
    "                                  if re.match(r'.*WM.*ANCScale.*', contdir)])\n",
    "\n",
    "stat_dirs_FDR[\"WM_propscale\"] = sorted([os.path.join(contdir, f\"FDR_spmT{contrast_index}\")\n",
    "                                       for contdir in Contrast_dirs \n",
    "                                       for contrast_index in range(1, (spmT_img_len + 1))\n",
    "                                       if re.match(r'.*WM.*PropScale.*', contdir)])\n",
    "\n",
    "# get the spmT images after FDR thresholding (show only surviving clusters)\n",
    "stat_images_postFDR={}\n",
    "\n",
    "for key in stat_dirs_FDR.keys():\n",
    "    stat_images_postFDR[key] = sorted([os.path.join(stat_dirs_FDR[key][index], img)\n",
    "                                       for index in range(0, len(stat_dirs_FDR[key]))\n",
    "                                       for img in os.listdir(stat_dirs_FDR[key][index])\n",
    "                                       if re.match(r'(^spmT.*\\d{4}_thr.nii)', img)])\n",
    "\n",
    "# define contrast names in order of creation (MReg model)\n",
    "con_names = [\"dep>con\", \"con>dep\", \"male>female\", \"young>old\"]\n",
    "\n",
    "# define the split GM and WM templates\n",
    "DARTEL_templates = [VBM_dir + f\"DARTEL_template/template_6_{i}.nii\" for i in [\"GM\", \"WM\"]]"
   ]
  },
  {
   "cell_type": "code",
   "execution_count": 6,
   "metadata": {
    "collapsed": true,
    "jupyter": {
     "outputs_hidden": true
    }
   },
   "outputs": [
    {
     "name": "stdout",
     "output_type": "stream",
     "text": [
      "FDR directories ...\n",
      "\n",
      "GM_ANCscale \n",
      " ['/VBM/DARTEL_norm2mni_c1/GM_SPM_MReg_ANCScale/estimate_MReg/estimate_Contrasts/FDR_spmT1', '/VBM/DARTEL_norm2mni_c1/GM_SPM_MReg_ANCScale/estimate_MReg/estimate_Contrasts/FDR_spmT2', '/VBM/DARTEL_norm2mni_c1/GM_SPM_MReg_ANCScale/estimate_MReg/estimate_Contrasts/FDR_spmT3', '/VBM/DARTEL_norm2mni_c1/GM_SPM_MReg_ANCScale/estimate_MReg/estimate_Contrasts/FDR_spmT4'] \n",
      " 4\n",
      "GM_propscale \n",
      " ['/VBM/DARTEL_norm2mni_c1/GM_SPM_MReg_PropScale/estimate_MReg/estimate_Contrasts/FDR_spmT1', '/VBM/DARTEL_norm2mni_c1/GM_SPM_MReg_PropScale/estimate_MReg/estimate_Contrasts/FDR_spmT2', '/VBM/DARTEL_norm2mni_c1/GM_SPM_MReg_PropScale/estimate_MReg/estimate_Contrasts/FDR_spmT3', '/VBM/DARTEL_norm2mni_c1/GM_SPM_MReg_PropScale/estimate_MReg/estimate_Contrasts/FDR_spmT4'] \n",
      " 4\n",
      "WM_ANCscale \n",
      " ['/VBM/DARTEL_norm2mni_c2/WM_SPM_MReg_ANCScale/estimate_MReg/estimate_Contrasts/FDR_spmT1', '/VBM/DARTEL_norm2mni_c2/WM_SPM_MReg_ANCScale/estimate_MReg/estimate_Contrasts/FDR_spmT2', '/VBM/DARTEL_norm2mni_c2/WM_SPM_MReg_ANCScale/estimate_MReg/estimate_Contrasts/FDR_spmT3', '/VBM/DARTEL_norm2mni_c2/WM_SPM_MReg_ANCScale/estimate_MReg/estimate_Contrasts/FDR_spmT4'] \n",
      " 4\n",
      "WM_propscale \n",
      " ['/VBM/DARTEL_norm2mni_c2/WM_SPM_MReg_PropScale/estimate_MReg/estimate_Contrasts/FDR_spmT1', '/VBM/DARTEL_norm2mni_c2/WM_SPM_MReg_PropScale/estimate_MReg/estimate_Contrasts/FDR_spmT2', '/VBM/DARTEL_norm2mni_c2/WM_SPM_MReg_PropScale/estimate_MReg/estimate_Contrasts/FDR_spmT3', '/VBM/DARTEL_norm2mni_c2/WM_SPM_MReg_PropScale/estimate_MReg/estimate_Contrasts/FDR_spmT4'] \n",
      " 4\n",
      "FDR thresholded statistical images ...\n",
      "\n",
      "GM_ANCscale \n",
      " ['/VBM/DARTEL_norm2mni_c1/GM_SPM_MReg_ANCScale/estimate_MReg/estimate_Contrasts/FDR_spmT1/spmT_0001_thr.nii', '/VBM/DARTEL_norm2mni_c1/GM_SPM_MReg_ANCScale/estimate_MReg/estimate_Contrasts/FDR_spmT2/spmT_0002_thr.nii', '/VBM/DARTEL_norm2mni_c1/GM_SPM_MReg_ANCScale/estimate_MReg/estimate_Contrasts/FDR_spmT3/spmT_0003_thr.nii', '/VBM/DARTEL_norm2mni_c1/GM_SPM_MReg_ANCScale/estimate_MReg/estimate_Contrasts/FDR_spmT4/spmT_0004_thr.nii'] \n",
      " 4\n",
      "GM_propscale \n",
      " ['/VBM/DARTEL_norm2mni_c1/GM_SPM_MReg_PropScale/estimate_MReg/estimate_Contrasts/FDR_spmT1/spmT_0001_thr.nii', '/VBM/DARTEL_norm2mni_c1/GM_SPM_MReg_PropScale/estimate_MReg/estimate_Contrasts/FDR_spmT2/spmT_0002_thr.nii', '/VBM/DARTEL_norm2mni_c1/GM_SPM_MReg_PropScale/estimate_MReg/estimate_Contrasts/FDR_spmT3/spmT_0003_thr.nii', '/VBM/DARTEL_norm2mni_c1/GM_SPM_MReg_PropScale/estimate_MReg/estimate_Contrasts/FDR_spmT4/spmT_0004_thr.nii'] \n",
      " 4\n",
      "WM_ANCscale \n",
      " ['/VBM/DARTEL_norm2mni_c2/WM_SPM_MReg_ANCScale/estimate_MReg/estimate_Contrasts/FDR_spmT1/spmT_0001_thr.nii', '/VBM/DARTEL_norm2mni_c2/WM_SPM_MReg_ANCScale/estimate_MReg/estimate_Contrasts/FDR_spmT2/spmT_0002_thr.nii', '/VBM/DARTEL_norm2mni_c2/WM_SPM_MReg_ANCScale/estimate_MReg/estimate_Contrasts/FDR_spmT3/spmT_0003_thr.nii', '/VBM/DARTEL_norm2mni_c2/WM_SPM_MReg_ANCScale/estimate_MReg/estimate_Contrasts/FDR_spmT4/spmT_0004_thr.nii'] \n",
      " 4\n",
      "WM_propscale \n",
      " ['/VBM/DARTEL_norm2mni_c2/WM_SPM_MReg_PropScale/estimate_MReg/estimate_Contrasts/FDR_spmT1/spmT_0001_thr.nii', '/VBM/DARTEL_norm2mni_c2/WM_SPM_MReg_PropScale/estimate_MReg/estimate_Contrasts/FDR_spmT2/spmT_0002_thr.nii', '/VBM/DARTEL_norm2mni_c2/WM_SPM_MReg_PropScale/estimate_MReg/estimate_Contrasts/FDR_spmT3/spmT_0003_thr.nii', '/VBM/DARTEL_norm2mni_c2/WM_SPM_MReg_PropScale/estimate_MReg/estimate_Contrasts/FDR_spmT4/spmT_0004_thr.nii'] \n",
      " 4\n"
     ]
    }
   ],
   "source": [
    "# control results \n",
    "print(\"FDR directories ...\\n\")\n",
    "for k,v in stat_dirs_FDR.items():\n",
    "    print(k,\"\\n\",v,\"\\n\",len(v))\n",
    "    \n",
    "print(\"FDR thresholded statistical images ...\\n\")\n",
    "for k,v in stat_images_postFDR.items():\n",
    "    print(k,\"\\n\",v,\"\\n\",len(v))"
   ]
  },
  {
   "cell_type": "markdown",
   "metadata": {},
   "source": [
    "Plot VBM results"
   ]
  },
  {
   "cell_type": "code",
   "execution_count": 7,
   "metadata": {},
   "outputs": [
    {
     "name": "stdout",
     "output_type": "stream",
     "text": [
      "This image seems to be empty. Continuing with next image ...\n",
      "This image seems to be empty. Continuing with next image ...\n",
      "This image seems to be empty. Continuing with next image ...\n",
      "This image seems to be empty. Continuing with next image ...\n",
      "This image seems to be empty. Continuing with next image ...\n",
      "This image seems to be empty. Continuing with next image ...\n",
      " Statistical image   /VBM/DARTEL_norm2mni_c1/GM_SPM_MReg_PropScale/estimate_MReg/estimate_Contrasts/FDR_spmT3/spmT_0003_thr.nii   contains significant values.\n",
      "Proceeding with figure creation ...\n"
     ]
    },
    {
     "name": "stderr",
     "output_type": "stream",
     "text": [
      "/opt/miniconda-latest/envs/neuro/lib/python3.7/site-packages/ipykernel_launcher.py:8: RuntimeWarning: invalid value encountered in greater\n",
      "  \n"
     ]
    },
    {
     "name": "stdout",
     "output_type": "stream",
     "text": [
      "This image seems to be empty. Continuing with next image ...\n",
      "This image seems to be empty. Continuing with next image ...\n",
      "This image seems to be empty. Continuing with next image ...\n",
      "This image seems to be empty. Continuing with next image ...\n",
      "This image seems to be empty. Continuing with next image ...\n",
      "This image seems to be empty. Continuing with next image ...\n",
      "This image seems to be empty. Continuing with next image ...\n",
      " Statistical image   /VBM/DARTEL_norm2mni_c2/WM_SPM_MReg_PropScale/estimate_MReg/estimate_Contrasts/FDR_spmT3/spmT_0003_thr.nii   contains significant values.\n",
      "Proceeding with figure creation ...\n"
     ]
    },
    {
     "name": "stderr",
     "output_type": "stream",
     "text": [
      "/opt/miniconda-latest/envs/neuro/lib/python3.7/site-packages/ipykernel_launcher.py:8: RuntimeWarning: invalid value encountered in greater\n",
      "  \n"
     ]
    },
    {
     "name": "stdout",
     "output_type": "stream",
     "text": [
      "This image seems to be empty. Continuing with next image ...\n",
      "This image seems to be empty. Continuing with next image ...\n",
      "This image seems to be empty. Continuing with next image ...\n",
      "This image seems to be empty. Continuing with next image ...\n",
      "This image seems to be empty. Continuing with next image ...\n",
      "This image seems to be empty. Continuing with next image ...\n",
      "This image seems to be empty. Continuing with next image ...\n",
      " Statistical image   /VBM/DARTEL_norm2mni_c1/GM_SPM_MReg_PropScale/estimate_MReg/estimate_Contrasts/FDR_spmT3/spmT_0003_thr.nii   contains significant values.\n",
      "Proceeding with figure creation ...\n"
     ]
    },
    {
     "name": "stderr",
     "output_type": "stream",
     "text": [
      "/opt/miniconda-latest/envs/neuro/lib/python3.7/site-packages/ipykernel_launcher.py:39: RuntimeWarning: invalid value encountered in greater\n"
     ]
    },
    {
     "name": "stdout",
     "output_type": "stream",
     "text": [
      "This image seems to be empty. Continuing with next image ...\n",
      "This image seems to be empty. Continuing with next image ...\n",
      "This image seems to be empty. Continuing with next image ...\n",
      "This image seems to be empty. Continuing with next image ...\n",
      "This image seems to be empty. Continuing with next image ...\n",
      "This image seems to be empty. Continuing with next image ...\n",
      "This image seems to be empty. Continuing with next image ...\n",
      " Statistical image   /VBM/DARTEL_norm2mni_c2/WM_SPM_MReg_PropScale/estimate_MReg/estimate_Contrasts/FDR_spmT3/spmT_0003_thr.nii   contains significant values.\n",
      "Proceeding with figure creation ...\n",
      "This image seems to be empty. Continuing with next image ...\n"
     ]
    }
   ],
   "source": [
    "# plot results only for any non-empty contrast after thresholding\n",
    "# for GM and WM (separately for proportional and ANCOVA scaling)\n",
    "\n",
    "for img_list,dir_list in zip(stat_images_postFDR.keys(),stat_dirs_FDR.keys()):\n",
    "    for index in range(0, len(stat_images_postFDR[img_list])):\n",
    "        index_nb = nb.load(stat_images_postFDR[img_list][index])\n",
    "        # if there are any values above zero in the thresholded T-stat image, create figures\n",
    "        if index_nb.dataobj[:,:,:][index_nb.dataobj[:,:,:] > 0].any():\n",
    "            print(\" Statistical image  \", stat_images_postFDR[img_list][index], \"  contains significant values.\")\n",
    "            print(\"Proceeding with figure creation ...\")\n",
    "            stat_img_3D_GM = ni_plt.view_img(stat_images_postFDR[img_list][index],\n",
    "                                               threshold=0, cut_coords=[-42, -16, 52],\n",
    "                                               title=con_names[2])\n",
    "            stat_map_zslice10_GM = ni_plt.plot_stat_map(stat_images_postFDR[img_list][index],\n",
    "                                                          threshold=0, display_mode=\"z\",\n",
    "                                                          cut_coords=10, title=con_names[2])\n",
    "            stat_map_xslice10_GM = ni_plt.plot_stat_map(stat_images_postFDR[img_list][index],\n",
    "                                                          threshold=0, display_mode=\"x\",\n",
    "                                                          cut_coords=10, title=con_names[2])\n",
    "            stat_map_yslice10_GM = ni_plt.plot_stat_map(stat_images_postFDR[img_list][index],\n",
    "                                                          threshold=0, display_mode=\"y\",\n",
    "                                                          cut_coords=10, title=con_names[2])\n",
    "            stat_img_3D_GM.save_as_html(os.path.join(stat_dirs_FDR[dir_list][index],\n",
    "                                                     f\"{stat_dirs_FDR[dir_list][index].rsplit('_', 1)[1]}_3Dimg_{dir_list.split('_', 1)[0]}.html\"))\n",
    "            stat_map_zslice10_GM.savefig(os.path.join(stat_dirs_FDR[dir_list][index],\n",
    "                                                      f\"{stat_dirs_FDR[dir_list][index].rsplit('_', 1)[1]}_statmap_Zslice10_{dir_list.split('_', 1)[0]}.png\"))\n",
    "            stat_map_xslice10_GM.savefig(os.path.join(stat_dirs_FDR[dir_list][index],\n",
    "                                                      f\"{stat_dirs_FDR[dir_list][index].rsplit('_', 1)[1]}_statmap_Xslice10_{dir_list.split('_', 1)[0]}.png\"))\n",
    "            stat_map_yslice10_GM.savefig(os.path.join(stat_dirs_FDR[dir_list][index],\n",
    "                                                      f\"{stat_dirs_FDR[dir_list][index].rsplit('_', 1)[1]}_statmap_Yslice10_{dir_list.split('_', 1)[0]}.png\"))\n",
    "        else:\n",
    "            print(\"This image seems to be empty. Continuing with next image ...\")\n",
    "\n",
    "\n",
    "for img_list,dir_list in zip(stat_images_postFDR.keys(),stat_dirs_FDR.keys()):\n",
    "    for index in range(0, len(stat_images_postFDR[img_list])):\n",
    "        index_nb = nb.load(stat_images_postFDR[img_list][index])\n",
    "        # if there are any values above zero in the thresholded T-stat image, create figures\n",
    "        if index_nb.dataobj[:,:,:][index_nb.dataobj[:,:,:] > 0].any():\n",
    "            print(\" Statistical image  \", stat_images_postFDR[img_list][index], \"  contains significant values.\")\n",
    "            print(\"Proceeding with figure creation ...\")\n",
    "            index_nb = nb.load(stat_images_postFDR[img_list][index])\n",
    "            for temp in range(0, len(DARTEL_templates)):\n",
    "                stat_map_zslice10_ontemplate_GM = ni_plt.plot_stat_map(stat_images_postFDR[img_list][index],\n",
    "                                                                         threshold=0, display_mode=\"z\",\n",
    "                                                                         cut_coords=10, title=con_names[index],\n",
    "                                                                         bg_img=DARTEL_templates[temp])\n",
    "                stat_map_zslice10_ontemplate_GM.savefig(os.path.join(stat_dirs_FDR[dir_list][index],\n",
    "                                                                     f\"{stat_dirs_FDR[dir_list][index].rsplit('_', 1)[1]}_statmap_Zslice10_ontemplate_{dir_list.split('_', 1)[0]}.png\"))\n",
    "        else:\n",
    "            print(\"This image seems to be empty. Continuing with next image ...\")"
   ]
  },
  {
   "cell_type": "markdown",
   "metadata": {},
   "source": [
    "Testing Zone"
   ]
  },
  {
   "cell_type": "code",
   "execution_count": 10,
   "metadata": {},
   "outputs": [
    {
     "name": "stdout",
     "output_type": "stream",
     "text": [
      "['/VBM/DARTEL_norm2mni_c1/GM_SPM_MReg_PropScale/estimate_MReg/estimate_Contrasts/con_0001.nii', '/VBM/DARTEL_norm2mni_c1/GM_SPM_MReg_PropScale/estimate_MReg/estimate_Contrasts/con_0002.nii', '/VBM/DARTEL_norm2mni_c1/GM_SPM_MReg_PropScale/estimate_MReg/estimate_Contrasts/con_0003.nii', '/VBM/DARTEL_norm2mni_c1/GM_SPM_MReg_PropScale/estimate_MReg/estimate_Contrasts/con_0004.nii']\n"
     ]
    }
   ],
   "source": [
    "# plot medial slices of all con images pre-threshold\n",
    "\n",
    "# get con files for GM Proportional Scaling\n",
    "con_img = sorted([os.path.join(con_dir, con)\n",
    "                  for con_dir in Contrast_dirs\n",
    "                  for con in os.listdir(con_dir)\n",
    "                  if re.match(r'^.*GM.*PropScale', con_dir)\n",
    "                  and re.match(r'^con_\\d{4}.nii', con)])\n",
    "\n",
    "# check con images\n",
    "print(con_img)\n",
    "\n",
    "# loop plotting and plot saving for all con_img\n",
    "con_img_plot = {}\n",
    "\n",
    "for i in con_img:\n",
    "    # images are centered at AC-PC line. don't need centre coordiantes -> take origin\n",
    "    #dimensions = nb.load(i).header['dim'][1:4]\n",
    "    con_img_plot[i] = ni_plt.plot_anat(i, display_mode='ortho', draw_cross=False, black_bg=True, cut_coords=[0,0,0])\n",
    "    con_img_plot[i].savefig(os.path.join(i.rsplit('/', 1)[0], f\"{i.rsplit('/', 1)[1][:-4]}\"))"
   ]
  },
  {
   "cell_type": "code",
   "execution_count": 38,
   "metadata": {},
   "outputs": [
    {
     "name": "stdout",
     "output_type": "stream",
     "text": [
      "[70 82 70]\n"
     ]
    }
   ],
   "source": []
  }
 ],
 "metadata": {
  "kernelspec": {
   "display_name": "Python [conda env:neuro] *",
   "language": "python",
   "name": "conda-env-neuro-py"
  },
  "language_info": {
   "codemirror_mode": {
    "name": "ipython",
    "version": 3
   },
   "file_extension": ".py",
   "mimetype": "text/x-python",
   "name": "python",
   "nbconvert_exporter": "python",
   "pygments_lexer": "ipython3",
   "version": "3.7.10"
  }
 },
 "nbformat": 4,
 "nbformat_minor": 4
}
