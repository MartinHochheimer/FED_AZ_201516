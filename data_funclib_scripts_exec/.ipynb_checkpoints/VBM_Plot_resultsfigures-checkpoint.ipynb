{
 "cells": [
  {
   "cell_type": "markdown",
   "metadata": {},
   "source": [
    "Gather necessary pre-requisites:"
   ]
  },
  {
   "cell_type": "code",
   "execution_count": 1,
   "metadata": {},
   "outputs": [
    {
     "name": "stdout",
     "output_type": "stream",
     "text": [
      "200228-16:39:38,725 nipype.utils INFO:\n",
      "\t Running nipype version 1.5.0-dev (latest: 1.4.2)\n"
     ]
    }
   ],
   "source": [
    "# import everything you need\n",
    "from nipype import Node, Workflow\n",
    "import nipype.interfaces.spm as spm\n",
    "from nilearn import plotting, datasets\n",
    "import numpy as np\n",
    "import matplotlib.pyplot as plt\n",
    "import pandas as pd\n",
    "import nibabel as nb\n",
    "import os, re\n",
    "from itertools import zip_longest"
   ]
  },
  {
   "cell_type": "code",
   "execution_count": 2,
   "metadata": {},
   "outputs": [],
   "source": [
    "# define useful functions\n",
    "# define show-slices function\n",
    "def show_slices(slices):\n",
    "    \"\"\" Function to display row of image slices \"\"\"\n",
    "    fig, axes = plt.subplots(1, len(slices))\n",
    "    for i, slice in enumerate(slices):\n",
    "        axes[i].imshow(slice.T, cmap=\"gray\", origin=\"lower\")\n",
    "# add suptitle via plt.suptitle\n",
    "        \n",
    "# check size of items and delete them when above a certain threshold\n",
    "from sys import getsizeof # function is not fully indicative -> look for better option\n",
    "def check_itemsize(items):\n",
    "    for i in items:\n",
    "        # return size of object in bytes\n",
    "        print(\"size of item\", i, \"is:\", getsizeof(i))\n",
    "        if getsizeof(i) > 10000: # think about dynamic coding for this\n",
    "            del i\n",
    "            print(\"deleted, object exceeded set threshold.\")\n",
    "        else:\n",
    "            print(\"retained, object is sufficiently small.\")"
   ]
  },
  {
   "cell_type": "markdown",
   "metadata": {},
   "source": [
    "Get files"
   ]
  },
  {
   "cell_type": "code",
   "execution_count": 3,
   "metadata": {},
   "outputs": [],
   "source": [
    "# collect all spmT images [contrasts 1-4: dep>con, con>dep, male>female, young>old]\n",
    "# specify relevant directories\n",
    "VBM_dir = \"/VBM/\"\n",
    "DARTEL_template_dir = VBM_dir + \"DARTEL_template/\"\n",
    "MReg_dir = VBM_dir + \"SPM_MultiReg/estimate_MReg/\"\n",
    "con_dir = MReg_dir + \"estimate_Contrats/\"\n",
    "\n",
    "# get spmT images\n",
    "spmT_img = sorted([i for i in os.listdir(con_dir) if re.match(r'(^spmT.*)', i)])\n",
    "\n",
    "# get directories of FDR thresholded images\n",
    "FDR_dirs = [os.path.join(con_dir, \"FDR_spmT%s\" %(contrast_index)) for contrast_index in range(1, len(spmT_img)+1)]\n",
    "\n",
    "# get the spmT images after FDR thresholding (show only surviving clusters)\n",
    "spmT_img_FDR = [os.path.join(subdir, item) for subdir in FDR_dirs for item in os.listdir(subdir) \n",
    "                if re.match(r'(^spmT.*\\d{4}_thr.nii)', item)]\n",
    "\n",
    "# define contrast names in order of creation (MReg model)\n",
    "con_names = [\"dep>con\", \"con>dep\", \"male>female\", \"young>old\"]"
   ]
  },
  {
   "cell_type": "code",
   "execution_count": 4,
   "metadata": {},
   "outputs": [
    {
     "name": "stdout",
     "output_type": "stream",
     "text": [
      "['/VBM/SPM_MultiReg/estimate_MReg/estimate_Contrats/FDR_spmT1/spmT_0001_thr.nii', '/VBM/SPM_MultiReg/estimate_MReg/estimate_Contrats/FDR_spmT2/spmT_0002_thr.nii', '/VBM/SPM_MultiReg/estimate_MReg/estimate_Contrats/FDR_spmT3/spmT_0003_thr.nii', '/VBM/SPM_MultiReg/estimate_MReg/estimate_Contrats/FDR_spmT4/spmT_0004_thr.nii']\n"
     ]
    }
   ],
   "source": [
    "print(spmT_img_FDR)"
   ]
  },
  {
   "cell_type": "markdown",
   "metadata": {},
   "source": [
    "Plot VBM results"
   ]
  },
  {
   "cell_type": "code",
   "execution_count": 5,
   "metadata": {},
   "outputs": [],
   "source": [
    "# get surf_mesh background for 3D plotting\n",
    "#fsaverage = datasets.fetch_surf_fsaverage()\n",
    "\n",
    "# prep image\n",
    "# flexible type error -> look at nb object and access datatype\n",
    "#malefemale_nb = nb.load(spmT_img_FDR[2])\n",
    "# get func data, change datatype from nan to float32\n",
    "#malefemale_fdata = malefemale_nb.dataobj[:].astype(np.float32)\n",
    "# save back to nifti, using Identity matrix as affine transformation\n",
    "#malefemale_fdata_img = nb.Nifti1Image(malefemale_fdata, np.eye(4))\n",
    "#malefemale_fdata_img.to_filename(os.path.join(FDR_dirs[2], \"spmT3.nii.gz\"))\n",
    "\n",
    "#stat_img_surf_3D = plotting.plot_surf_stat_map(stat_map=os.path.join(FDR_dirs[2], \"spmT3.nii.gz\"), title=con_names[2], \n",
    "#                                       surf_mesh=fsaverage['pial_left'], bg_map=fsaverage['sulc_left'], \n",
    "#                                       hemi='left', view='medial', bg_on_data=True)\n",
    "#stat_img_surf3D = plotting.view_img_on_surf(spmT_img_FDR[2], cmap=\"black_red\", colorbar=True, colorbar_height=0.5, \n",
    "#                                            surf_mesh='fsaverage', title=con_names[2])\n",
    "stat_img_stat_map_slize = plotting.view_img(spmT_img_FDR[2], threshold=0, cut_coords=[-42, -16, 52], title=con_names[2])\n",
    "stat_img_stat_map_slize.save_as_html(os.path.join(FDR_dirs[2], \"spmT3_splittemplate_GM.html\"))\n",
    "stat_img = plotting.plot_stat_map(spmT_img_FDR[2], threshold=0, display_mode=\"z\", cut_coords=10, title=con_names[2])\n",
    "stat_img.savefig(os.path.join(FDR_dirs[2], \"spmT3_Zslice10splittemplate_GM.png\"))\n",
    "stat_img2 = plotting.plot_stat_map(spmT_img_FDR[2], threshold=0, display_mode=\"z\", cut_coords=10, bg_img=DARTEL_template_dir + \"grouptemplate_6_GM.nii\", title=con_names[2])\n",
    "stat_img2.savefig(os.path.join(FDR_dirs[2], \"spmT3_Zslice10_ontemplate_splittemplate_GM.png\"))"
   ]
  },
  {
   "cell_type": "code",
   "execution_count": null,
   "metadata": {},
   "outputs": [],
   "source": []
  },
  {
   "cell_type": "markdown",
   "metadata": {},
   "source": [
    "Testing Zone"
   ]
  },
  {
   "cell_type": "code",
   "execution_count": 219,
   "metadata": {
    "collapsed": true,
    "jupyter": {
     "outputs_hidden": true
    }
   },
   "outputs": [
    {
     "name": "stdout",
     "output_type": "stream",
     "text": [
      "[0. 0. 0. 0. 0. 0. 0. 0. 0. 0. 0. 0. 0. 0. 0. 0. 0. 0. 0. 0. 0. 0. 0. 0.\n",
      " 0. 0. 0. 0. 0. 0. 0. 0. 0. 0. 0. 0. 0. 0. 0. 0. 0. 0. 0. 0. 0. 0. 0. 0.\n",
      " 0. 0. 0. 0. 0. 0. 0. 0. 0. 0. 0. 0. 0. 0. 0. 0. 0. 0. 0. 0. 0. 0. 0. 0.\n",
      " 0. 0. 0. 0. 0. 0. 0. 0. 0. 0. 0. 0. 0. 0. 0. 0. 0. 0. 0. 0. 0. 0. 0. 0.\n",
      " 0. 0. 0. 0. 0. 0. 0. 0. 0. 0. 0. 0. 0. 0. 0. 0. 0. 0. 0. 0. 0. 0. 0. 0.\n",
      " 0.]\n"
     ]
    }
   ],
   "source": [
    "print(malefemale_fdata[100,100,:].astype(np.float32))"
   ]
  },
  {
   "cell_type": "code",
   "execution_count": null,
   "metadata": {},
   "outputs": [],
   "source": [
    "# make presentation figure showing middle slice of one struct and one fMRI\n",
    "# activate in-line magic\n",
    "%matplotlib inline\n",
    "\n",
    "# get the relevant volume out of the 4D nifti\n",
    "fmri1=nimg.load_img(FMRI[0])\n",
    "fmri1_middle=nimg.index_img(fmri1, fmri1.shape[3] // 2)\n",
    "\n",
    "#plot everything\n",
    "bettercolours=plot_epi(fmri1_middle, cut_coords=(10,10,40),\n",
    "          display_mode='ortho', cmap=\"CMRmap\", draw_cross=False, annotate=False)\n",
    "normal=plot_epi(fmri1_middle, cut_coords=(10,10,40),\n",
    "          display_mode='ortho', cmap=\"gray\", draw_cross=False, annotate=False)\n",
    "\n",
    "# safe files for presentation\n",
    "\n",
    "bettercolours.savefig(\"/fMRI/fMRI_bettercolours.png\")\n",
    "normal.savefig(\"/fMRI/fMRI_normal.png\")\n",
    "struct.savefig(\"/fMRI/structMRI_normal.png\")"
   ]
  }
 ],
 "metadata": {
  "kernelspec": {
   "display_name": "Python [conda env:neuro] *",
   "language": "python",
   "name": "conda-env-neuro-py"
  },
  "language_info": {
   "codemirror_mode": {
    "name": "ipython",
    "version": 3
   },
   "file_extension": ".py",
   "mimetype": "text/x-python",
   "name": "python",
   "nbconvert_exporter": "python",
   "pygments_lexer": "ipython3",
   "version": "3.7.6"
  }
 },
 "nbformat": 4,
 "nbformat_minor": 4
}
