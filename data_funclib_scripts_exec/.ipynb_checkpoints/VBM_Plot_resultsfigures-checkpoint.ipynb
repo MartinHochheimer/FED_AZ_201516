{
 "cells": [
  {
   "cell_type": "markdown",
   "metadata": {},
   "source": [
    "Gather necessary pre-requisites:"
   ]
  },
  {
   "cell_type": "code",
   "execution_count": null,
   "metadata": {},
   "outputs": [],
   "source": [
    "# import everything you need\n",
    "from nipype import Node, Workflow\n",
    "import nipype.interfaces.spm as spm\n",
    "from nipype.interfaces.base import CommandLine\n",
    "from nilearn import image as nlimg\n",
    "from nilearn import masking as nlmask\n",
    "from nilearn.plotting import plot_anat, plot_epi, plot_roi\n",
    "import numpy as np\n",
    "import matplotlib.pyplot as plt\n",
    "import pandas as pd\n",
    "import nibabel as nb\n",
    "import os, re\n",
    "from itertools import zip_longest"
   ]
  },
  {
   "cell_type": "markdown",
   "metadata": {},
   "source": [
    "Get files"
   ]
  },
  {
   "cell_type": "code",
   "execution_count": null,
   "metadata": {},
   "outputs": [],
   "source": [
    "# collect all the fMRI volumes from the subjects' folders via CommandLine interface from nipype\n",
    "fmri=CommandLine('find', args='/fMRI/FED* -maxdepth 2 -type f -name FMRI*.nii', terminal_output='allatonce')\n",
    "fmri=fmri.run()\n",
    "# read the output (find stdout) line by line to list object\n",
    "FMRI=fmri.runtime.stdout.splitlines()"
   ]
  },
  {
   "cell_type": "markdown",
   "metadata": {},
   "source": [
    "Plot VBM results"
   ]
  },
  {
   "cell_type": "code",
   "execution_count": null,
   "metadata": {},
   "outputs": [],
   "source": []
  },
  {
   "cell_type": "code",
   "execution_count": null,
   "metadata": {},
   "outputs": [],
   "source": []
  },
  {
   "cell_type": "markdown",
   "metadata": {},
   "source": [
    "Create any additional plots"
   ]
  },
  {
   "cell_type": "code",
   "execution_count": null,
   "metadata": {},
   "outputs": [],
   "source": [
    "# make presentation figure showing middle slice of one struct and one fMRI\n",
    "# activate in-line magic\n",
    "%matplotlib inline\n",
    "\n",
    "# get the relevant volume out of the 4D nifti\n",
    "fmri1=nimg.load_img(FMRI[0])\n",
    "fmri1_middle=nimg.index_img(fmri1, fmri1.shape[3] // 2)\n",
    "\n",
    "#plot everything\n",
    "bettercolours=plot_epi(fmri1_middle, cut_coords=(10,10,40),\n",
    "          display_mode='ortho', cmap=\"CMRmap\", draw_cross=False, annotate=False)\n",
    "normal=plot_epi(fmri1_middle, cut_coords=(10,10,40),\n",
    "          display_mode='ortho', cmap=\"gray\", draw_cross=False, annotate=False)\n",
    "\n",
    "# safe files for presentation\n",
    "\n",
    "bettercolours.savefig(\"/fMRI/fMRI_bettercolours.png\")\n",
    "normal.savefig(\"/fMRI/fMRI_normal.png\")\n",
    "struct.savefig(\"/fMRI/structMRI_normal.png\")"
   ]
  }
 ],
 "metadata": {
  "kernelspec": {
   "display_name": "Python [conda env:neuro] *",
   "language": "python",
   "name": "conda-env-neuro-py"
  },
  "language_info": {
   "codemirror_mode": {
    "name": "ipython",
    "version": 3
   },
   "file_extension": ".py",
   "mimetype": "text/x-python",
   "name": "python",
   "nbconvert_exporter": "python",
   "pygments_lexer": "ipython3",
   "version": "3.7.6"
  }
 },
 "nbformat": 4,
 "nbformat_minor": 4
}
