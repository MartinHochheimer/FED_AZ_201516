{
 "cells": [
  {
   "cell_type": "markdown",
   "metadata": {},
   "source": [
    "# Convert DICOM to NIFTI"
   ]
  },
  {
   "cell_type": "code",
   "execution_count": 1,
   "metadata": {},
   "outputs": [
    {
     "name": "stdout",
     "output_type": "stream",
     "text": [
      "200124-14:15:40,429 nipype.utils INFO:\n",
      "\t Running nipype version 1.4.0-dev (latest: 1.4.0)\n"
     ]
    }
   ],
   "source": [
    "# import everything you need\n",
    "from nipype.interfaces.dcm2nii import Dcm2niix\n",
    "from nipype import Node, Workflow\n",
    "import os, re\n"
   ]
  },
  {
   "cell_type": "code",
   "execution_count": 2,
   "metadata": {},
   "outputs": [],
   "source": [
    "# define useful functions\n",
    "\n",
    "# get subject directories from parent directory\n",
    "def get_subdirs(dir):\n",
    "    subdirs=[]\n",
    "    for i in os.listdir(dir):\n",
    "        # verify subject number in directory and exclude other dirs\n",
    "        match=re.match(r'(.*\\d{3}$)', i)\n",
    "        if os.path.isdir(os.path.join(dir, i)) and match:\n",
    "            subdirs.append(os.path.join(dir, match.group(0)))\n",
    "    return sorted(subdirs)"
   ]
  },
  {
   "cell_type": "code",
   "execution_count": 3,
   "metadata": {},
   "outputs": [
    {
     "name": "stdout",
     "output_type": "stream",
     "text": [
      "['/VBM/FED006', '/VBM/FED007', '/VBM/FED008', '/VBM/FED009', '/VBM/FED010', '/VBM/FED011', '/VBM/FED012', '/VBM/FED013', '/VBM/FED014', '/VBM/FED015', '/VBM/FED016', '/VBM/FED017', '/VBM/FED018', '/VBM/FED019', '/VBM/FED020', '/VBM/FED021', '/VBM/FED022', '/VBM/FED023', '/VBM/FED024', '/VBM/FED025', '/VBM/FED026', '/VBM/FED027', '/VBM/FED028', '/VBM/FED029', '/VBM/FED030', '/VBM/FED031', '/VBM/FED032', '/VBM/FED033', '/VBM/FED034', '/VBM/FED035', '/VBM/FED036', '/VBM/FED037', '/VBM/FED038', '/VBM/FED039', '/VBM/FED040', '/VBM/FED041', '/VBM/FED042', '/VBM/FED043', '/VBM/FED044', '/VBM/FED045', '/VBM/FED046', '/VBM/FED047', '/VBM/FED048', '/VBM/FED049', '/VBM/FED050', '/VBM/FED051', '/VBM/FED052', '/VBM/FED053', '/VBM/FED054', '/VBM/FED055', '/VBM/FED056', '/VBM/FED057', '/VBM/FED058', '/VBM/FED059', '/VBM/FED060', '/VBM/FED061', '/VBM/FED062', '/VBM/FED063', '/VBM/FED064', '/VBM/FED065', '/VBM/FED066', '/VBM/FED067', '/VBM/FED068']\n"
     ]
    }
   ],
   "source": [
    "# get subject dir-list\n",
    "subdirs=get_subdirs(\"/VBM/\")\n",
    "print(subdirs)"
   ]
  },
  {
   "cell_type": "code",
   "execution_count": 4,
   "metadata": {},
   "outputs": [],
   "source": [
    "# get T1-MPRAGE source list via subject lists\n",
    "sequencedirs=[]\n",
    "for i in subdirs:\n",
    "    for j in os.listdir(i):\n",
    "        if os.path.isdir(os.path.join(i, j)) and j.endswith(\"05\") or j.endswith(\"09\"):\n",
    "            sequencedirs.append(os.path.join(i, j))\n",
    "            \n",
    "# sort the list entries\n",
    "sequencedirs=sorted(sequencedirs)"
   ]
  },
  {
   "cell_type": "code",
   "execution_count": 5,
   "metadata": {},
   "outputs": [
    {
     "name": "stdout",
     "output_type": "stream",
     "text": [
      "['/VBM/FED006/T1_MPRAGE_SAG_ISO_0_9_0005', '/VBM/FED007/T1_MPRAGE_SAG_ISO_0_9_0005', '/VBM/FED008/T1_MPRAGE_SAG_ISO_0_9_0005', '/VBM/FED009/T1_MPRAGE_SAG_ISO_0_9_0005', '/VBM/FED010/T1_MPRAGE_SAG_ISO_0_9_0005', '/VBM/FED011/T1_MPRAGE_SAG_ISO_0_9_0005', '/VBM/FED012/T1_MPRAGE_SAG_ISO_0_9_0005', '/VBM/FED013/T1_MPRAGE_SAG_ISO_0_9_0005', '/VBM/FED014/T1_MPRAGE_SAG_ISO_0_9_0005', '/VBM/FED015/T1_MPRAGE_SAG_ISO_0_9_0005', '/VBM/FED016/T1_MPRAGE_SAG_ISO_0_9_0005', '/VBM/FED017/T1_MPRAGE_SAG_ISO_0_9_0005', '/VBM/FED018/T1_MPRAGE_SAG_ISO_0_9_0005', '/VBM/FED019/T1_MPRAGE_SAG_ISO_0_9_0005', '/VBM/FED020/T1_MPRAGE_SAG_ISO_0_9_0005', '/VBM/FED021/T1_MPRAGE_SAG_ISO_0_9_0005', '/VBM/FED022/T1_MPRAGE_SAG_ISO_0_9_0005', '/VBM/FED023/T1_MPRAGE_SAG_ISO_0_9_0005', '/VBM/FED024/T1_MPRAGE_SAG_ISO_0_9_0005', '/VBM/FED025/T1_MPRAGE_SAG_ISO_0_9_0005', '/VBM/FED026/T1_MPRAGE_SAG_ISO_0_9_0005', '/VBM/FED027/T1_MPRAGE_SAG_ISO_0_9_0005', '/VBM/FED028/T1_MPRAGE_SAG_ISO_0_9_0005', '/VBM/FED029/T1_MPRAGE_SAG_ISO_0_9_0005', '/VBM/FED030/T1_MPRAGE_SAG_ISO_0_9_0005', '/VBM/FED031/T1_MPRAGE_SAG_ISO_0_9_0005', '/VBM/FED032/T1_MPRAGE_SAG_ISO_0_9_0005', '/VBM/FED033/T1_MPRAGE_SAG_ISO_0_9_0005', '/VBM/FED034/T1_MPRAGE_SAG_ISO_0_9_0005', '/VBM/FED035/T1_MPRAGE_SAG_ISO_0_9_0005', '/VBM/FED036/T1_MPRAGE_SAG_ISO_0_9_0005', '/VBM/FED037/T1_MPRAGE_SAG_ISO_0_9_0005', '/VBM/FED038/T1_MPRAGE_SAG_ISO_0_9_0005', '/VBM/FED039/T1_MPRAGE_SAG_ISO_0_9_0005', '/VBM/FED040/T1_MPRAGE_SAG_ISO_0_9_0005', '/VBM/FED041/T1_MPRAGE_SAG_ISO_0_9_0005', '/VBM/FED042/T1_MPRAGE_SAG_ISO_0_9_0005', '/VBM/FED043/T1_MPRAGE_SAG_ISO_0_9_0005', '/VBM/FED044/T1_MPRAGE_SAG_ISO_0_9_0005', '/VBM/FED045/T1_MPRAGE_SAG_ISO_0_9_0005', '/VBM/FED046/T1_MPRAGE_SAG_ISO_0_9_0005', '/VBM/FED047/T1_MPRAGE_SAG_ISO_0_9_0005', '/VBM/FED048/T1_MPRAGE_SAG_ISO_0_9_0005', '/VBM/FED049/T1_MPRAGE_SAG_ISO_0_9_0009', '/VBM/FED050/T1_MPRAGE_SAG_ISO_0_9_0005', '/VBM/FED051/T1_MPRAGE_SAG_ISO_0_9_0005', '/VBM/FED052/T1_MPRAGE_SAG_ISO_0_9_0005', '/VBM/FED053/T1_MPRAGE_SAG_ISO_0_9_0005', '/VBM/FED054/T1_MPRAGE_SAG_ISO_0_9_0005', '/VBM/FED055/T1_MPRAGE_SAG_ISO_0_9_0005', '/VBM/FED056/T1_MPRAGE_SAG_ISO_0_9_0005', '/VBM/FED057/T1_MPRAGE_SAG_ISO_0_9_0005', '/VBM/FED058/T1_MPRAGE_SAG_ISO_0_9_0005', '/VBM/FED059/T1_MPRAGE_SAG_ISO_0_9_0005', '/VBM/FED060/T1_MPRAGE_SAG_ISO_0_9_0005', '/VBM/FED061/T1_MPRAGE_SAG_ISO_0_9_0005', '/VBM/FED062/T1_MPRAGE_SAG_ISO_0_9_0005', '/VBM/FED063/T1_MPRAGE_SAG_ISO_0_9_0005', '/VBM/FED064/T1_MPRAGE_SAG_ISO_0_9_0005', '/VBM/FED065/T1_MPRAGE_SAG_ISO_0_9_0005', '/VBM/FED066/T1_MPRAGE_SAG_ISO_0_9_0005', '/VBM/FED067/T1_MPRAGE_SAG_ISO_0_9_0005', '/VBM/FED068/T1_MPRAGE_SAG_ISO_0_9_0005']\n"
     ]
    }
   ],
   "source": [
    "print(sequencedirs)"
   ]
  },
  {
   "cell_type": "code",
   "execution_count": 6,
   "metadata": {},
   "outputs": [
    {
     "name": "stdout",
     "output_type": "stream",
     "text": [
      "/VBM/FED006/T1_MPRAGE_SAG_ISO_0_9_0005 /VBM/FED006\n",
      "200124-14:16:04,591 nipype.workflow INFO:\n",
      "\t [Node] Setting-up \"converter\" in \"/tmp/tmprdd645jp/converter\".\n",
      "200124-14:16:04,595 nipype.workflow INFO:\n",
      "\t [Node] Running \"converter\" (\"nipype.interfaces.dcm2nii.Dcm2niix\"), a CommandLine Interface with command:\n",
      "dcm2niix -b y -z n -x n -t n -m n -o /VBM/FED006 -s n -v n /VBM/FED006/T1_MPRAGE_SAG_ISO_0_9_0005\n",
      "200124-14:16:04,680 nipype.interface INFO:\n",
      "\t stdout 2020-01-24T14:16:04.680390:Chris Rorden's dcm2niiX version v1.0.20190902  (JP2:OpenJPEG) GCC6.3.0 (64-bit Linux)\n",
      "200124-14:16:04,682 nipype.interface INFO:\n",
      "\t stderr 2020-01-24T14:16:04.682273:Error: Unable to find any DICOM images in /VBM/FED006/T1_MPRAGE_SAG_ISO_0_9_0005 (or subfolders 5 deep)\n",
      "200124-14:16:04,710 nipype.workflow WARNING:\n",
      "\t Storing result file without outputs\n",
      "200124-14:16:04,712 nipype.workflow WARNING:\n",
      "\t [Node] Error on \"converter\" (/tmp/tmprdd645jp/converter)\n"
     ]
    },
    {
     "ename": "RuntimeError",
     "evalue": "Command:\ndcm2niix -b y -z n -x n -t n -m n -o /VBM/FED006 -s n -v n /VBM/FED006/T1_MPRAGE_SAG_ISO_0_9_0005\nStandard output:\nChris Rorden's dcm2niiX version v1.0.20190902  (JP2:OpenJPEG) GCC6.3.0 (64-bit Linux)\nStandard error:\nError: Unable to find any DICOM images in /VBM/FED006/T1_MPRAGE_SAG_ISO_0_9_0005 (or subfolders 5 deep)\nReturn code: 2",
     "output_type": "error",
     "traceback": [
      "\u001b[0;31m---------------------------------------------------------------------------\u001b[0m",
      "\u001b[0;31mRuntimeError\u001b[0m                              Traceback (most recent call last)",
      "\u001b[0;32m<ipython-input-6-c24271dbbd96>\u001b[0m in \u001b[0;36m<module>\u001b[0;34m\u001b[0m\n\u001b[1;32m      9\u001b[0m     \u001b[0mconverter\u001b[0m\u001b[0;34m.\u001b[0m\u001b[0minputs\u001b[0m\u001b[0;34m.\u001b[0m\u001b[0msource_dir\u001b[0m\u001b[0;34m=\u001b[0m\u001b[0mi\u001b[0m\u001b[0;34m\u001b[0m\u001b[0;34m\u001b[0m\u001b[0m\n\u001b[1;32m     10\u001b[0m     \u001b[0mconverter\u001b[0m\u001b[0;34m.\u001b[0m\u001b[0minputs\u001b[0m\u001b[0;34m.\u001b[0m\u001b[0moutput_dir\u001b[0m\u001b[0;34m=\u001b[0m\u001b[0mj\u001b[0m\u001b[0;34m\u001b[0m\u001b[0;34m\u001b[0m\u001b[0m\n\u001b[0;32m---> 11\u001b[0;31m     \u001b[0mconverter\u001b[0m\u001b[0;34m.\u001b[0m\u001b[0mrun\u001b[0m\u001b[0;34m(\u001b[0m\u001b[0;34m)\u001b[0m\u001b[0;34m\u001b[0m\u001b[0;34m\u001b[0m\u001b[0m\n\u001b[0m",
      "\u001b[0;32m/opt/miniconda-latest/envs/neuro/lib/python3.7/site-packages/nipype/pipeline/engine/nodes.py\u001b[0m in \u001b[0;36mrun\u001b[0;34m(self, updatehash)\u001b[0m\n\u001b[1;32m    514\u001b[0m \u001b[0;34m\u001b[0m\u001b[0m\n\u001b[1;32m    515\u001b[0m         \u001b[0;32mtry\u001b[0m\u001b[0;34m:\u001b[0m\u001b[0;34m\u001b[0m\u001b[0;34m\u001b[0m\u001b[0m\n\u001b[0;32m--> 516\u001b[0;31m             \u001b[0mresult\u001b[0m \u001b[0;34m=\u001b[0m \u001b[0mself\u001b[0m\u001b[0;34m.\u001b[0m\u001b[0m_run_interface\u001b[0m\u001b[0;34m(\u001b[0m\u001b[0mexecute\u001b[0m\u001b[0;34m=\u001b[0m\u001b[0;32mTrue\u001b[0m\u001b[0;34m)\u001b[0m\u001b[0;34m\u001b[0m\u001b[0;34m\u001b[0m\u001b[0m\n\u001b[0m\u001b[1;32m    517\u001b[0m         \u001b[0;32mexcept\u001b[0m \u001b[0mException\u001b[0m\u001b[0;34m:\u001b[0m\u001b[0;34m\u001b[0m\u001b[0;34m\u001b[0m\u001b[0m\n\u001b[1;32m    518\u001b[0m             \u001b[0mlogger\u001b[0m\u001b[0;34m.\u001b[0m\u001b[0mwarning\u001b[0m\u001b[0;34m(\u001b[0m\u001b[0;34m'[Node] Error on \"%s\" (%s)'\u001b[0m\u001b[0;34m,\u001b[0m \u001b[0mself\u001b[0m\u001b[0;34m.\u001b[0m\u001b[0mfullname\u001b[0m\u001b[0;34m,\u001b[0m \u001b[0moutdir\u001b[0m\u001b[0;34m)\u001b[0m\u001b[0;34m\u001b[0m\u001b[0;34m\u001b[0m\u001b[0m\n",
      "\u001b[0;32m/opt/miniconda-latest/envs/neuro/lib/python3.7/site-packages/nipype/pipeline/engine/nodes.py\u001b[0m in \u001b[0;36m_run_interface\u001b[0;34m(self, execute, updatehash)\u001b[0m\n\u001b[1;32m    633\u001b[0m             \u001b[0mself\u001b[0m\u001b[0;34m.\u001b[0m\u001b[0m_update_hash\u001b[0m\u001b[0;34m(\u001b[0m\u001b[0;34m)\u001b[0m\u001b[0;34m\u001b[0m\u001b[0;34m\u001b[0m\u001b[0m\n\u001b[1;32m    634\u001b[0m             \u001b[0;32mreturn\u001b[0m \u001b[0mself\u001b[0m\u001b[0;34m.\u001b[0m\u001b[0m_load_results\u001b[0m\u001b[0;34m(\u001b[0m\u001b[0;34m)\u001b[0m\u001b[0;34m\u001b[0m\u001b[0;34m\u001b[0m\u001b[0m\n\u001b[0;32m--> 635\u001b[0;31m         \u001b[0;32mreturn\u001b[0m \u001b[0mself\u001b[0m\u001b[0;34m.\u001b[0m\u001b[0m_run_command\u001b[0m\u001b[0;34m(\u001b[0m\u001b[0mexecute\u001b[0m\u001b[0;34m)\u001b[0m\u001b[0;34m\u001b[0m\u001b[0;34m\u001b[0m\u001b[0m\n\u001b[0m\u001b[1;32m    636\u001b[0m \u001b[0;34m\u001b[0m\u001b[0m\n\u001b[1;32m    637\u001b[0m     \u001b[0;32mdef\u001b[0m \u001b[0m_load_results\u001b[0m\u001b[0;34m(\u001b[0m\u001b[0mself\u001b[0m\u001b[0;34m)\u001b[0m\u001b[0;34m:\u001b[0m\u001b[0;34m\u001b[0m\u001b[0;34m\u001b[0m\u001b[0m\n",
      "\u001b[0;32m/opt/miniconda-latest/envs/neuro/lib/python3.7/site-packages/nipype/pipeline/engine/nodes.py\u001b[0m in \u001b[0;36m_run_command\u001b[0;34m(self, execute, copyfiles)\u001b[0m\n\u001b[1;32m    739\u001b[0m         \u001b[0mlogger\u001b[0m\u001b[0;34m.\u001b[0m\u001b[0minfo\u001b[0m\u001b[0;34m(\u001b[0m\u001b[0mmessage\u001b[0m\u001b[0;34m)\u001b[0m\u001b[0;34m\u001b[0m\u001b[0;34m\u001b[0m\u001b[0m\n\u001b[1;32m    740\u001b[0m         \u001b[0;32mtry\u001b[0m\u001b[0;34m:\u001b[0m\u001b[0;34m\u001b[0m\u001b[0;34m\u001b[0m\u001b[0m\n\u001b[0;32m--> 741\u001b[0;31m             \u001b[0mresult\u001b[0m \u001b[0;34m=\u001b[0m \u001b[0mself\u001b[0m\u001b[0;34m.\u001b[0m\u001b[0m_interface\u001b[0m\u001b[0;34m.\u001b[0m\u001b[0mrun\u001b[0m\u001b[0;34m(\u001b[0m\u001b[0mcwd\u001b[0m\u001b[0;34m=\u001b[0m\u001b[0moutdir\u001b[0m\u001b[0;34m)\u001b[0m\u001b[0;34m\u001b[0m\u001b[0;34m\u001b[0m\u001b[0m\n\u001b[0m\u001b[1;32m    742\u001b[0m         \u001b[0;32mexcept\u001b[0m \u001b[0mException\u001b[0m \u001b[0;32mas\u001b[0m \u001b[0mmsg\u001b[0m\u001b[0;34m:\u001b[0m\u001b[0;34m\u001b[0m\u001b[0;34m\u001b[0m\u001b[0m\n\u001b[1;32m    743\u001b[0m             result.runtime.stderr = \"%s\\n\\n%s\".format(\n",
      "\u001b[0;32m/opt/miniconda-latest/envs/neuro/lib/python3.7/site-packages/nipype/interfaces/base/core.py\u001b[0m in \u001b[0;36mrun\u001b[0;34m(self, cwd, ignore_exception, **inputs)\u001b[0m\n\u001b[1;32m    393\u001b[0m         \u001b[0;32mtry\u001b[0m\u001b[0;34m:\u001b[0m\u001b[0;34m\u001b[0m\u001b[0;34m\u001b[0m\u001b[0m\n\u001b[1;32m    394\u001b[0m             \u001b[0mruntime\u001b[0m \u001b[0;34m=\u001b[0m \u001b[0mself\u001b[0m\u001b[0;34m.\u001b[0m\u001b[0m_pre_run_hook\u001b[0m\u001b[0;34m(\u001b[0m\u001b[0mruntime\u001b[0m\u001b[0;34m)\u001b[0m\u001b[0;34m\u001b[0m\u001b[0;34m\u001b[0m\u001b[0m\n\u001b[0;32m--> 395\u001b[0;31m             \u001b[0mruntime\u001b[0m \u001b[0;34m=\u001b[0m \u001b[0mself\u001b[0m\u001b[0;34m.\u001b[0m\u001b[0m_run_interface\u001b[0m\u001b[0;34m(\u001b[0m\u001b[0mruntime\u001b[0m\u001b[0;34m)\u001b[0m\u001b[0;34m\u001b[0m\u001b[0;34m\u001b[0m\u001b[0m\n\u001b[0m\u001b[1;32m    396\u001b[0m             \u001b[0mruntime\u001b[0m \u001b[0;34m=\u001b[0m \u001b[0mself\u001b[0m\u001b[0;34m.\u001b[0m\u001b[0m_post_run_hook\u001b[0m\u001b[0;34m(\u001b[0m\u001b[0mruntime\u001b[0m\u001b[0;34m)\u001b[0m\u001b[0;34m\u001b[0m\u001b[0;34m\u001b[0m\u001b[0m\n\u001b[1;32m    397\u001b[0m             \u001b[0moutputs\u001b[0m \u001b[0;34m=\u001b[0m \u001b[0mself\u001b[0m\u001b[0;34m.\u001b[0m\u001b[0maggregate_outputs\u001b[0m\u001b[0;34m(\u001b[0m\u001b[0mruntime\u001b[0m\u001b[0;34m)\u001b[0m\u001b[0;34m\u001b[0m\u001b[0;34m\u001b[0m\u001b[0m\n",
      "\u001b[0;32m/opt/miniconda-latest/envs/neuro/lib/python3.7/site-packages/nipype/interfaces/dcm2nii.py\u001b[0m in \u001b[0;36m_run_interface\u001b[0;34m(self, runtime)\u001b[0m\n\u001b[1;32m    444\u001b[0m         \u001b[0;31m# may use return code 1 despite conversion\u001b[0m\u001b[0;34m\u001b[0m\u001b[0;34m\u001b[0m\u001b[0;34m\u001b[0m\u001b[0m\n\u001b[1;32m    445\u001b[0m         runtime = super(Dcm2niix, self)._run_interface(\n\u001b[0;32m--> 446\u001b[0;31m             \u001b[0mruntime\u001b[0m\u001b[0;34m,\u001b[0m \u001b[0mcorrect_return_codes\u001b[0m\u001b[0;34m=\u001b[0m\u001b[0;34m(\u001b[0m\u001b[0;36m0\u001b[0m\u001b[0;34m,\u001b[0m \u001b[0;36m1\u001b[0m\u001b[0;34m,\u001b[0m\u001b[0;34m)\u001b[0m\u001b[0;34m\u001b[0m\u001b[0;34m\u001b[0m\u001b[0m\n\u001b[0m\u001b[1;32m    447\u001b[0m         )\n\u001b[1;32m    448\u001b[0m         \u001b[0mself\u001b[0m\u001b[0;34m.\u001b[0m\u001b[0m_parse_files\u001b[0m\u001b[0;34m(\u001b[0m\u001b[0mself\u001b[0m\u001b[0;34m.\u001b[0m\u001b[0m_parse_stdout\u001b[0m\u001b[0;34m(\u001b[0m\u001b[0mruntime\u001b[0m\u001b[0;34m.\u001b[0m\u001b[0mstdout\u001b[0m\u001b[0;34m)\u001b[0m\u001b[0;34m)\u001b[0m\u001b[0;34m\u001b[0m\u001b[0;34m\u001b[0m\u001b[0m\n",
      "\u001b[0;32m/opt/miniconda-latest/envs/neuro/lib/python3.7/site-packages/nipype/interfaces/base/core.py\u001b[0m in \u001b[0;36m_run_interface\u001b[0;34m(self, runtime, correct_return_codes)\u001b[0m\n\u001b[1;32m    790\u001b[0m         \u001b[0mruntime\u001b[0m \u001b[0;34m=\u001b[0m \u001b[0mrun_command\u001b[0m\u001b[0;34m(\u001b[0m\u001b[0mruntime\u001b[0m\u001b[0;34m,\u001b[0m \u001b[0moutput\u001b[0m\u001b[0;34m=\u001b[0m\u001b[0mself\u001b[0m\u001b[0;34m.\u001b[0m\u001b[0mterminal_output\u001b[0m\u001b[0;34m)\u001b[0m\u001b[0;34m\u001b[0m\u001b[0;34m\u001b[0m\u001b[0m\n\u001b[1;32m    791\u001b[0m         \u001b[0;32mif\u001b[0m \u001b[0mruntime\u001b[0m\u001b[0;34m.\u001b[0m\u001b[0mreturncode\u001b[0m \u001b[0;32mis\u001b[0m \u001b[0;32mNone\u001b[0m \u001b[0;32mor\u001b[0m \u001b[0mruntime\u001b[0m\u001b[0;34m.\u001b[0m\u001b[0mreturncode\u001b[0m \u001b[0;32mnot\u001b[0m \u001b[0;32min\u001b[0m \u001b[0mcorrect_return_codes\u001b[0m\u001b[0;34m:\u001b[0m\u001b[0;34m\u001b[0m\u001b[0;34m\u001b[0m\u001b[0m\n\u001b[0;32m--> 792\u001b[0;31m             \u001b[0mself\u001b[0m\u001b[0;34m.\u001b[0m\u001b[0mraise_exception\u001b[0m\u001b[0;34m(\u001b[0m\u001b[0mruntime\u001b[0m\u001b[0;34m)\u001b[0m\u001b[0;34m\u001b[0m\u001b[0;34m\u001b[0m\u001b[0m\n\u001b[0m\u001b[1;32m    793\u001b[0m \u001b[0;34m\u001b[0m\u001b[0m\n\u001b[1;32m    794\u001b[0m         \u001b[0;32mreturn\u001b[0m \u001b[0mruntime\u001b[0m\u001b[0;34m\u001b[0m\u001b[0;34m\u001b[0m\u001b[0m\n",
      "\u001b[0;32m/opt/miniconda-latest/envs/neuro/lib/python3.7/site-packages/nipype/interfaces/base/core.py\u001b[0m in \u001b[0;36mraise_exception\u001b[0;34m(self, runtime)\u001b[0m\n\u001b[1;32m    722\u001b[0m                 \u001b[0;34m\"Command:\\n{cmdline}\\nStandard output:\\n{stdout}\\n\"\u001b[0m\u001b[0;34m\u001b[0m\u001b[0;34m\u001b[0m\u001b[0m\n\u001b[1;32m    723\u001b[0m                 \u001b[0;34m\"Standard error:\\n{stderr}\\nReturn code: {returncode}\"\u001b[0m\u001b[0;34m\u001b[0m\u001b[0;34m\u001b[0m\u001b[0m\n\u001b[0;32m--> 724\u001b[0;31m             ).format(**runtime.dictcopy())\n\u001b[0m\u001b[1;32m    725\u001b[0m         )\n\u001b[1;32m    726\u001b[0m \u001b[0;34m\u001b[0m\u001b[0m\n",
      "\u001b[0;31mRuntimeError\u001b[0m: Command:\ndcm2niix -b y -z n -x n -t n -m n -o /VBM/FED006 -s n -v n /VBM/FED006/T1_MPRAGE_SAG_ISO_0_9_0005\nStandard output:\nChris Rorden's dcm2niiX version v1.0.20190902  (JP2:OpenJPEG) GCC6.3.0 (64-bit Linux)\nStandard error:\nError: Unable to find any DICOM images in /VBM/FED006/T1_MPRAGE_SAG_ISO_0_9_0005 (or subfolders 5 deep)\nReturn code: 2"
     ]
    }
   ],
   "source": [
    "# use sequence-list as source_dir and save output of converter in parent dir\n",
    "\n",
    "# iterate over sequence and subject dirs, create nodes and run them to create NIFTI files\n",
    "for i,j in zip(sequencedirs, subdirs):\n",
    "    print(i,j)\n",
    "    # create DICOM-to-NIFTI converter node\n",
    "    converter=Node(Dcm2niix(), name='converter')\n",
    "    converter.inputs.compress='n' # do not compress -> SPM options etc.\n",
    "    converter.inputs.source_dir=i\n",
    "    converter.inputs.output_dir=j\n",
    "    converter.run()"
   ]
  },
  {
   "cell_type": "markdown",
   "metadata": {},
   "source": [
    "For testing or re-doing single subjects:"
   ]
  },
  {
   "cell_type": "code",
   "execution_count": 9,
   "metadata": {},
   "outputs": [
    {
     "name": "stdout",
     "output_type": "stream",
     "text": [
      "/VBM/FED006/T1_MPRAGE_SAG_ISO_0_9_0005 /VBM/FED006\n"
     ]
    }
   ],
   "source": [
    "# print sequencedirs + subdirs and crop, if testing\n",
    "sequencedir=sequencedirs[0]\n",
    "subdir=subdirs[0]\n",
    "\n",
    "print(sequencedir, subdir)"
   ]
  },
  {
   "cell_type": "code",
   "execution_count": 10,
   "metadata": {},
   "outputs": [
    {
     "name": "stdout",
     "output_type": "stream",
     "text": [
      "200124-13:58:02,789 nipype.workflow INFO:\n",
      "\t [Node] Setting-up \"converter\" in \"/tmp/tmphvoh_a66/converter\".\n",
      "200124-13:58:02,793 nipype.workflow INFO:\n",
      "\t [Node] Running \"converter\" (\"nipype.interfaces.dcm2nii.Dcm2niix\"), a CommandLine Interface with command:\n",
      "dcm2niix -b y -z n -x n -t n -m n -o /VBM/FED006 -s n -v n /VBM/FED006/T1_MPRAGE_SAG_ISO_0_9_0005\n",
      "200124-13:58:02,836 nipype.interface INFO:\n",
      "\t stdout 2020-01-24T13:58:02.835886:Chris Rorden's dcm2niiX version v1.0.20190902  (JP2:OpenJPEG) GCC6.3.0 (64-bit Linux)\n",
      "200124-13:58:02,839 nipype.interface INFO:\n",
      "\t stderr 2020-01-24T13:58:02.837663:Error: Unable to find any DICOM images in /VBM/FED006/T1_MPRAGE_SAG_ISO_0_9_0005 (or subfolders 5 deep)\n",
      "200124-13:58:02,896 nipype.workflow WARNING:\n",
      "\t Storing result file without outputs\n",
      "200124-13:58:02,898 nipype.workflow WARNING:\n",
      "\t [Node] Error on \"converter\" (/tmp/tmphvoh_a66/converter)\n"
     ]
    },
    {
     "ename": "RuntimeError",
     "evalue": "Command:\ndcm2niix -b y -z n -x n -t n -m n -o /VBM/FED006 -s n -v n /VBM/FED006/T1_MPRAGE_SAG_ISO_0_9_0005\nStandard output:\nChris Rorden's dcm2niiX version v1.0.20190902  (JP2:OpenJPEG) GCC6.3.0 (64-bit Linux)\nStandard error:\nError: Unable to find any DICOM images in /VBM/FED006/T1_MPRAGE_SAG_ISO_0_9_0005 (or subfolders 5 deep)\nReturn code: 2",
     "output_type": "error",
     "traceback": [
      "\u001b[0;31m---------------------------------------------------------------------------\u001b[0m",
      "\u001b[0;31mRuntimeError\u001b[0m                              Traceback (most recent call last)",
      "\u001b[0;32m<ipython-input-10-2dcf949148f5>\u001b[0m in \u001b[0;36m<module>\u001b[0;34m\u001b[0m\n\u001b[1;32m      8\u001b[0m \u001b[0mconverter\u001b[0m\u001b[0;34m.\u001b[0m\u001b[0minputs\u001b[0m\u001b[0;34m.\u001b[0m\u001b[0msource_dir\u001b[0m\u001b[0;34m=\u001b[0m\u001b[0msequencedir\u001b[0m\u001b[0;34m\u001b[0m\u001b[0;34m\u001b[0m\u001b[0m\n\u001b[1;32m      9\u001b[0m \u001b[0mconverter\u001b[0m\u001b[0;34m.\u001b[0m\u001b[0minputs\u001b[0m\u001b[0;34m.\u001b[0m\u001b[0moutput_dir\u001b[0m\u001b[0;34m=\u001b[0m\u001b[0msubdir\u001b[0m\u001b[0;34m\u001b[0m\u001b[0;34m\u001b[0m\u001b[0m\n\u001b[0;32m---> 10\u001b[0;31m \u001b[0mconverter\u001b[0m\u001b[0;34m.\u001b[0m\u001b[0mrun\u001b[0m\u001b[0;34m(\u001b[0m\u001b[0;34m)\u001b[0m\u001b[0;34m\u001b[0m\u001b[0;34m\u001b[0m\u001b[0m\n\u001b[0m",
      "\u001b[0;32m/opt/miniconda-latest/envs/neuro/lib/python3.7/site-packages/nipype/pipeline/engine/nodes.py\u001b[0m in \u001b[0;36mrun\u001b[0;34m(self, updatehash)\u001b[0m\n\u001b[1;32m    514\u001b[0m \u001b[0;34m\u001b[0m\u001b[0m\n\u001b[1;32m    515\u001b[0m         \u001b[0;32mtry\u001b[0m\u001b[0;34m:\u001b[0m\u001b[0;34m\u001b[0m\u001b[0;34m\u001b[0m\u001b[0m\n\u001b[0;32m--> 516\u001b[0;31m             \u001b[0mresult\u001b[0m \u001b[0;34m=\u001b[0m \u001b[0mself\u001b[0m\u001b[0;34m.\u001b[0m\u001b[0m_run_interface\u001b[0m\u001b[0;34m(\u001b[0m\u001b[0mexecute\u001b[0m\u001b[0;34m=\u001b[0m\u001b[0;32mTrue\u001b[0m\u001b[0;34m)\u001b[0m\u001b[0;34m\u001b[0m\u001b[0;34m\u001b[0m\u001b[0m\n\u001b[0m\u001b[1;32m    517\u001b[0m         \u001b[0;32mexcept\u001b[0m \u001b[0mException\u001b[0m\u001b[0;34m:\u001b[0m\u001b[0;34m\u001b[0m\u001b[0;34m\u001b[0m\u001b[0m\n\u001b[1;32m    518\u001b[0m             \u001b[0mlogger\u001b[0m\u001b[0;34m.\u001b[0m\u001b[0mwarning\u001b[0m\u001b[0;34m(\u001b[0m\u001b[0;34m'[Node] Error on \"%s\" (%s)'\u001b[0m\u001b[0;34m,\u001b[0m \u001b[0mself\u001b[0m\u001b[0;34m.\u001b[0m\u001b[0mfullname\u001b[0m\u001b[0;34m,\u001b[0m \u001b[0moutdir\u001b[0m\u001b[0;34m)\u001b[0m\u001b[0;34m\u001b[0m\u001b[0;34m\u001b[0m\u001b[0m\n",
      "\u001b[0;32m/opt/miniconda-latest/envs/neuro/lib/python3.7/site-packages/nipype/pipeline/engine/nodes.py\u001b[0m in \u001b[0;36m_run_interface\u001b[0;34m(self, execute, updatehash)\u001b[0m\n\u001b[1;32m    633\u001b[0m             \u001b[0mself\u001b[0m\u001b[0;34m.\u001b[0m\u001b[0m_update_hash\u001b[0m\u001b[0;34m(\u001b[0m\u001b[0;34m)\u001b[0m\u001b[0;34m\u001b[0m\u001b[0;34m\u001b[0m\u001b[0m\n\u001b[1;32m    634\u001b[0m             \u001b[0;32mreturn\u001b[0m \u001b[0mself\u001b[0m\u001b[0;34m.\u001b[0m\u001b[0m_load_results\u001b[0m\u001b[0;34m(\u001b[0m\u001b[0;34m)\u001b[0m\u001b[0;34m\u001b[0m\u001b[0;34m\u001b[0m\u001b[0m\n\u001b[0;32m--> 635\u001b[0;31m         \u001b[0;32mreturn\u001b[0m \u001b[0mself\u001b[0m\u001b[0;34m.\u001b[0m\u001b[0m_run_command\u001b[0m\u001b[0;34m(\u001b[0m\u001b[0mexecute\u001b[0m\u001b[0;34m)\u001b[0m\u001b[0;34m\u001b[0m\u001b[0;34m\u001b[0m\u001b[0m\n\u001b[0m\u001b[1;32m    636\u001b[0m \u001b[0;34m\u001b[0m\u001b[0m\n\u001b[1;32m    637\u001b[0m     \u001b[0;32mdef\u001b[0m \u001b[0m_load_results\u001b[0m\u001b[0;34m(\u001b[0m\u001b[0mself\u001b[0m\u001b[0;34m)\u001b[0m\u001b[0;34m:\u001b[0m\u001b[0;34m\u001b[0m\u001b[0;34m\u001b[0m\u001b[0m\n",
      "\u001b[0;32m/opt/miniconda-latest/envs/neuro/lib/python3.7/site-packages/nipype/pipeline/engine/nodes.py\u001b[0m in \u001b[0;36m_run_command\u001b[0;34m(self, execute, copyfiles)\u001b[0m\n\u001b[1;32m    739\u001b[0m         \u001b[0mlogger\u001b[0m\u001b[0;34m.\u001b[0m\u001b[0minfo\u001b[0m\u001b[0;34m(\u001b[0m\u001b[0mmessage\u001b[0m\u001b[0;34m)\u001b[0m\u001b[0;34m\u001b[0m\u001b[0;34m\u001b[0m\u001b[0m\n\u001b[1;32m    740\u001b[0m         \u001b[0;32mtry\u001b[0m\u001b[0;34m:\u001b[0m\u001b[0;34m\u001b[0m\u001b[0;34m\u001b[0m\u001b[0m\n\u001b[0;32m--> 741\u001b[0;31m             \u001b[0mresult\u001b[0m \u001b[0;34m=\u001b[0m \u001b[0mself\u001b[0m\u001b[0;34m.\u001b[0m\u001b[0m_interface\u001b[0m\u001b[0;34m.\u001b[0m\u001b[0mrun\u001b[0m\u001b[0;34m(\u001b[0m\u001b[0mcwd\u001b[0m\u001b[0;34m=\u001b[0m\u001b[0moutdir\u001b[0m\u001b[0;34m)\u001b[0m\u001b[0;34m\u001b[0m\u001b[0;34m\u001b[0m\u001b[0m\n\u001b[0m\u001b[1;32m    742\u001b[0m         \u001b[0;32mexcept\u001b[0m \u001b[0mException\u001b[0m \u001b[0;32mas\u001b[0m \u001b[0mmsg\u001b[0m\u001b[0;34m:\u001b[0m\u001b[0;34m\u001b[0m\u001b[0;34m\u001b[0m\u001b[0m\n\u001b[1;32m    743\u001b[0m             result.runtime.stderr = \"%s\\n\\n%s\".format(\n",
      "\u001b[0;32m/opt/miniconda-latest/envs/neuro/lib/python3.7/site-packages/nipype/interfaces/base/core.py\u001b[0m in \u001b[0;36mrun\u001b[0;34m(self, cwd, ignore_exception, **inputs)\u001b[0m\n\u001b[1;32m    393\u001b[0m         \u001b[0;32mtry\u001b[0m\u001b[0;34m:\u001b[0m\u001b[0;34m\u001b[0m\u001b[0;34m\u001b[0m\u001b[0m\n\u001b[1;32m    394\u001b[0m             \u001b[0mruntime\u001b[0m \u001b[0;34m=\u001b[0m \u001b[0mself\u001b[0m\u001b[0;34m.\u001b[0m\u001b[0m_pre_run_hook\u001b[0m\u001b[0;34m(\u001b[0m\u001b[0mruntime\u001b[0m\u001b[0;34m)\u001b[0m\u001b[0;34m\u001b[0m\u001b[0;34m\u001b[0m\u001b[0m\n\u001b[0;32m--> 395\u001b[0;31m             \u001b[0mruntime\u001b[0m \u001b[0;34m=\u001b[0m \u001b[0mself\u001b[0m\u001b[0;34m.\u001b[0m\u001b[0m_run_interface\u001b[0m\u001b[0;34m(\u001b[0m\u001b[0mruntime\u001b[0m\u001b[0;34m)\u001b[0m\u001b[0;34m\u001b[0m\u001b[0;34m\u001b[0m\u001b[0m\n\u001b[0m\u001b[1;32m    396\u001b[0m             \u001b[0mruntime\u001b[0m \u001b[0;34m=\u001b[0m \u001b[0mself\u001b[0m\u001b[0;34m.\u001b[0m\u001b[0m_post_run_hook\u001b[0m\u001b[0;34m(\u001b[0m\u001b[0mruntime\u001b[0m\u001b[0;34m)\u001b[0m\u001b[0;34m\u001b[0m\u001b[0;34m\u001b[0m\u001b[0m\n\u001b[1;32m    397\u001b[0m             \u001b[0moutputs\u001b[0m \u001b[0;34m=\u001b[0m \u001b[0mself\u001b[0m\u001b[0;34m.\u001b[0m\u001b[0maggregate_outputs\u001b[0m\u001b[0;34m(\u001b[0m\u001b[0mruntime\u001b[0m\u001b[0;34m)\u001b[0m\u001b[0;34m\u001b[0m\u001b[0;34m\u001b[0m\u001b[0m\n",
      "\u001b[0;32m/opt/miniconda-latest/envs/neuro/lib/python3.7/site-packages/nipype/interfaces/dcm2nii.py\u001b[0m in \u001b[0;36m_run_interface\u001b[0;34m(self, runtime)\u001b[0m\n\u001b[1;32m    444\u001b[0m         \u001b[0;31m# may use return code 1 despite conversion\u001b[0m\u001b[0;34m\u001b[0m\u001b[0;34m\u001b[0m\u001b[0;34m\u001b[0m\u001b[0m\n\u001b[1;32m    445\u001b[0m         runtime = super(Dcm2niix, self)._run_interface(\n\u001b[0;32m--> 446\u001b[0;31m             \u001b[0mruntime\u001b[0m\u001b[0;34m,\u001b[0m \u001b[0mcorrect_return_codes\u001b[0m\u001b[0;34m=\u001b[0m\u001b[0;34m(\u001b[0m\u001b[0;36m0\u001b[0m\u001b[0;34m,\u001b[0m \u001b[0;36m1\u001b[0m\u001b[0;34m,\u001b[0m\u001b[0;34m)\u001b[0m\u001b[0;34m\u001b[0m\u001b[0;34m\u001b[0m\u001b[0m\n\u001b[0m\u001b[1;32m    447\u001b[0m         )\n\u001b[1;32m    448\u001b[0m         \u001b[0mself\u001b[0m\u001b[0;34m.\u001b[0m\u001b[0m_parse_files\u001b[0m\u001b[0;34m(\u001b[0m\u001b[0mself\u001b[0m\u001b[0;34m.\u001b[0m\u001b[0m_parse_stdout\u001b[0m\u001b[0;34m(\u001b[0m\u001b[0mruntime\u001b[0m\u001b[0;34m.\u001b[0m\u001b[0mstdout\u001b[0m\u001b[0;34m)\u001b[0m\u001b[0;34m)\u001b[0m\u001b[0;34m\u001b[0m\u001b[0;34m\u001b[0m\u001b[0m\n",
      "\u001b[0;32m/opt/miniconda-latest/envs/neuro/lib/python3.7/site-packages/nipype/interfaces/base/core.py\u001b[0m in \u001b[0;36m_run_interface\u001b[0;34m(self, runtime, correct_return_codes)\u001b[0m\n\u001b[1;32m    790\u001b[0m         \u001b[0mruntime\u001b[0m \u001b[0;34m=\u001b[0m \u001b[0mrun_command\u001b[0m\u001b[0;34m(\u001b[0m\u001b[0mruntime\u001b[0m\u001b[0;34m,\u001b[0m \u001b[0moutput\u001b[0m\u001b[0;34m=\u001b[0m\u001b[0mself\u001b[0m\u001b[0;34m.\u001b[0m\u001b[0mterminal_output\u001b[0m\u001b[0;34m)\u001b[0m\u001b[0;34m\u001b[0m\u001b[0;34m\u001b[0m\u001b[0m\n\u001b[1;32m    791\u001b[0m         \u001b[0;32mif\u001b[0m \u001b[0mruntime\u001b[0m\u001b[0;34m.\u001b[0m\u001b[0mreturncode\u001b[0m \u001b[0;32mis\u001b[0m \u001b[0;32mNone\u001b[0m \u001b[0;32mor\u001b[0m \u001b[0mruntime\u001b[0m\u001b[0;34m.\u001b[0m\u001b[0mreturncode\u001b[0m \u001b[0;32mnot\u001b[0m \u001b[0;32min\u001b[0m \u001b[0mcorrect_return_codes\u001b[0m\u001b[0;34m:\u001b[0m\u001b[0;34m\u001b[0m\u001b[0;34m\u001b[0m\u001b[0m\n\u001b[0;32m--> 792\u001b[0;31m             \u001b[0mself\u001b[0m\u001b[0;34m.\u001b[0m\u001b[0mraise_exception\u001b[0m\u001b[0;34m(\u001b[0m\u001b[0mruntime\u001b[0m\u001b[0;34m)\u001b[0m\u001b[0;34m\u001b[0m\u001b[0;34m\u001b[0m\u001b[0m\n\u001b[0m\u001b[1;32m    793\u001b[0m \u001b[0;34m\u001b[0m\u001b[0m\n\u001b[1;32m    794\u001b[0m         \u001b[0;32mreturn\u001b[0m \u001b[0mruntime\u001b[0m\u001b[0;34m\u001b[0m\u001b[0;34m\u001b[0m\u001b[0m\n",
      "\u001b[0;32m/opt/miniconda-latest/envs/neuro/lib/python3.7/site-packages/nipype/interfaces/base/core.py\u001b[0m in \u001b[0;36mraise_exception\u001b[0;34m(self, runtime)\u001b[0m\n\u001b[1;32m    722\u001b[0m                 \u001b[0;34m\"Command:\\n{cmdline}\\nStandard output:\\n{stdout}\\n\"\u001b[0m\u001b[0;34m\u001b[0m\u001b[0;34m\u001b[0m\u001b[0m\n\u001b[1;32m    723\u001b[0m                 \u001b[0;34m\"Standard error:\\n{stderr}\\nReturn code: {returncode}\"\u001b[0m\u001b[0;34m\u001b[0m\u001b[0;34m\u001b[0m\u001b[0m\n\u001b[0;32m--> 724\u001b[0;31m             ).format(**runtime.dictcopy())\n\u001b[0m\u001b[1;32m    725\u001b[0m         )\n\u001b[1;32m    726\u001b[0m \u001b[0;34m\u001b[0m\u001b[0m\n",
      "\u001b[0;31mRuntimeError\u001b[0m: Command:\ndcm2niix -b y -z n -x n -t n -m n -o /VBM/FED006 -s n -v n /VBM/FED006/T1_MPRAGE_SAG_ISO_0_9_0005\nStandard output:\nChris Rorden's dcm2niiX version v1.0.20190902  (JP2:OpenJPEG) GCC6.3.0 (64-bit Linux)\nStandard error:\nError: Unable to find any DICOM images in /VBM/FED006/T1_MPRAGE_SAG_ISO_0_9_0005 (or subfolders 5 deep)\nReturn code: 2"
     ]
    }
   ],
   "source": [
    "# use sequence-list as source_dir and save output of converter in parent dir\n",
    "\n",
    "# insert the two variable values directly, create nodes and run them to create NIFTI files\n",
    "\n",
    "# create DICOM-to-NIFTI converter node\n",
    "converter=Node(Dcm2niix(), name='converter')\n",
    "converter.inputs.compress='n' # do not compress -> SPM options etc.\n",
    "converter.inputs.source_dir=sequencedir\n",
    "converter.inputs.output_dir=subdir\n",
    "converter.run()"
   ]
  }
 ],
 "metadata": {
  "kernelspec": {
   "display_name": "Python [conda env:neuro] *",
   "language": "python",
   "name": "conda-env-neuro-py"
  },
  "language_info": {
   "codemirror_mode": {
    "name": "ipython",
    "version": 3
   },
   "file_extension": ".py",
   "mimetype": "text/x-python",
   "name": "python",
   "nbconvert_exporter": "python",
   "pygments_lexer": "ipython3",
   "version": "3.7.3"
  }
 },
 "nbformat": 4,
 "nbformat_minor": 4
}
