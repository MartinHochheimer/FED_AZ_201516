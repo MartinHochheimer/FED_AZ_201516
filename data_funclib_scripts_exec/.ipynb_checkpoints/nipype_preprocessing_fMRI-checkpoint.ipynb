{
 "cells": [
  {
   "cell_type": "markdown",
   "metadata": {},
   "source": [
    "Gather necessary pre-requisites:"
   ]
  },
  {
   "cell_type": "code",
   "execution_count": 43,
   "metadata": {},
   "outputs": [],
   "source": [
    "# import everything you need\n",
    "from nipype import Node, Workflow\n",
    "import nipype.interfaces.spm as spm\n",
    "from nipype.interfaces.base import CommandLine\n",
    "#import nibabel as nb\n",
    "import numpy as np\n",
    "#import pandas as pd\n",
    "from nilearn import image as nimg\n",
    "import matplotlib.pyplot as plt\n",
    "from nilearn.plotting import plot_anat, plot_epi\n",
    "import os, re"
   ]
  },
  {
   "cell_type": "code",
   "execution_count": 5,
   "metadata": {},
   "outputs": [],
   "source": [
    "# collect all the fMRI volumes from the subjects' folders via CommandLine interface from nipype\n",
    "fmri=CommandLine('find', args='/fMRI/FED* -maxdepth 2 -type f -name FMRI*.nii', terminal_output='allatonce')\n",
    "fmri=fmri.run()\n",
    "# read the output (find stdout) line by line to list object\n",
    "FMRI=fmri.runtime.stdout.splitlines()"
   ]
  },
  {
   "cell_type": "code",
   "execution_count": 9,
   "metadata": {},
   "outputs": [],
   "source": [
    "# collect all the sMRI volumes from the subjects' folders via CommandLine interface from nipype\n",
    "structs=CommandLine('find', args='/fMRI/FED* -maxdepth 2 -type f -name T1*.nii', terminal_output='allatonce')\n",
    "structs=structs.run()\n",
    "# read the output (find stdout) line by line to list object\n",
    "STRUCT=structs.runtime.stdout.splitlines()"
   ]
  },
  {
   "cell_type": "code",
   "execution_count": 34,
   "metadata": {},
   "outputs": [],
   "source": []
  }
 ],
 "metadata": {
  "kernelspec": {
   "display_name": "Python [conda env:neuro] *",
   "language": "python",
   "name": "conda-env-neuro-py"
  },
  "language_info": {
   "codemirror_mode": {
    "name": "ipython",
    "version": 3
   },
   "file_extension": ".py",
   "mimetype": "text/x-python",
   "name": "python",
   "nbconvert_exporter": "python",
   "pygments_lexer": "ipython3",
   "version": "3.7.6"
  }
 },
 "nbformat": 4,
 "nbformat_minor": 4
}
