{
 "cells": [
  {
   "cell_type": "code",
   "execution_count": 1,
   "metadata": {},
   "outputs": [
    {
     "name": "stdout",
     "output_type": "stream",
     "text": [
      "200218-17:59:47,366 nipype.utils INFO:\n",
      "\t Running nipype version 1.5.0-dev (latest: 1.4.2)\n"
     ]
    }
   ],
   "source": [
    "# import everything you need\n",
    "from nipype import Node, Workflow\n",
    "import nipype.interfaces.spm as spm\n",
    "from nipype.interfaces.base import CommandLine\n",
    "from nilearn import image as nlimg\n",
    "from nilearn import masking as nlmask\n",
    "from nilearn.plotting import plot_anat, plot_epi, plot_roi\n",
    "import numpy as np\n",
    "import matplotlib.pyplot as plt\n",
    "import pandas as pd\n",
    "import nibabel as nb\n",
    "import os, re\n",
    "from itertools import zip_longest"
   ]
  },
  {
   "cell_type": "markdown",
   "metadata": {},
   "source": [
    "Gather necessary pre-requisites:"
   ]
  },
  {
   "cell_type": "code",
   "execution_count": 2,
   "metadata": {},
   "outputs": [],
   "source": [
    "# define useful functions\n",
    "# define show-slices function\n",
    "def show_slices(slices):\n",
    "    \"\"\" Function to display row of image slices \"\"\"\n",
    "    fig, axes = plt.subplots(1, len(slices))\n",
    "    for i, slice in enumerate(slices):\n",
    "        axes[i].imshow(slice.T, cmap=\"gray\", origin=\"lower\")\n",
    "# add suptitle via plt.suptitle\n",
    "        \n",
    "# check size of items and delete them when above a certain threshold\n",
    "from sys import getsizeof # function is not fully indicative -> look for better option\n",
    "def check_itemsize(items):\n",
    "    for i in items:\n",
    "        # return size of object in bytes\n",
    "        print(\"size of item\", i, \"is:\", getsizeof(i))\n",
    "        if getsizeof(i) > 10000: # think about dynamic coding for this\n",
    "            del i\n",
    "            print(\"deleted, object exceeded set threshold.\")\n",
    "        else:\n",
    "            print(\"retained, object is sufficiently small.\")"
   ]
  },
  {
   "cell_type": "code",
   "execution_count": 3,
   "metadata": {},
   "outputs": [],
   "source": [
    "# calculate \"global values\" via nibabel objects: sum up the values and multiply by volume of each voxel\n",
    "# from: total volume GM, WM and CSF\n",
    "\n",
    "# find all the files starting with \"c1,c2,c3\" in all subdirs of the VBM directory via CommandLine interface from nipype\n",
    "c1_files=CommandLine('find', args='/VBM/FED* -maxdepth 2 -type f -name c1*.nii', terminal_output='allatonce')\n",
    "c1=c1_files.run()\n",
    "c2_files=CommandLine('find', args='/VBM/FED* -maxdepth 2 -type f -name c2*.nii', terminal_output='allatonce')\n",
    "c2=c2_files.run()\n",
    "c3_files=CommandLine('find', args='/VBM/FED* -maxdepth 2 -type f -name c3*.nii', terminal_output='allatonce')\n",
    "c3=c3_files.run()\n",
    "# read the output (find stdout) line by line to list object\n",
    "globals_GM=c1.runtime.stdout.splitlines()\n",
    "globals_WM=c2.runtime.stdout.splitlines()\n",
    "globals_CSF=c3.runtime.stdout.splitlines()\n",
    "# remove subject 56 from lists(-> was not normalised or in template)\n",
    "globals_GM=[i for i in globals_GM if i.rsplit('/',3)[1] != \"FED056\"]\n",
    "globals_WM=[i for i in globals_WM if i.rsplit('/',3)[1] != \"FED056\"]\n",
    "globals_CSF=[i for i in globals_CSF if i.rsplit('/',3)[1] != \"FED056\"]\n",
    "# create nibabel objects from all files\n",
    "globals_GM_nb=[nb.load(i) for i in globals_GM]\n",
    "globals_WM_nb=[nb.load(i) for i in globals_WM]\n",
    "globals_CSF_nb=[nb.load(i) for i in globals_CSF]\n",
    "# create list with the func data via dataobj property (avoids caching entire object (.fdata()) but gets func data as well)\n",
    "globals_GM_fvals=[i.dataobj for i in globals_GM_nb]\n",
    "globals_WM_fvals=[i.dataobj for i in globals_WM_nb]\n",
    "globals_CSF_fvals=[i.dataobj for i in globals_CSF_nb]"
   ]
  },
  {
   "cell_type": "code",
   "execution_count": 24,
   "metadata": {
    "collapsed": true,
    "jupyter": {
     "outputs_hidden": true
    }
   },
   "outputs": [
    {
     "name": "stdout",
     "output_type": "stream",
     "text": [
      "['/VBM/FED006/DARTEL_newsegment/c1CON_T1_MPRAGE_SAG_ISO_0_9_0005_20141106153429.nii', '/VBM/FED007/DARTEL_newsegment/c1CON_T1_MPRAGE_SAG_ISO_0_9_0005_20141107104226.nii', '/VBM/FED008/DARTEL_newsegment/c1CON_T1_MPRAGE_SAG_ISO_0_9_0005_20141112155009.nii', '/VBM/FED009/DARTEL_newsegment/c1CON_T1_MPRAGE_SAG_ISO_0_9_0005_20141117154954.nii', '/VBM/FED010/DARTEL_newsegment/c1CON_T1_MPRAGE_SAG_ISO_0_9_0005_20141119091904.nii', '/VBM/FED011/DARTEL_newsegment/c1DEP_T1_MPRAGE_SAG_ISO_0_9_0005_20141119161708.nii', '/VBM/FED012/DARTEL_newsegment/c1CON_T1_MPRAGE_SAG_ISO_0_9_0005_20141124150148.nii', '/VBM/FED013/DARTEL_newsegment/c1CON_T1_MPRAGE_SAG_ISO_0_9_0005_20141125093955.nii', '/VBM/FED014/DARTEL_newsegment/c1DEP_T1_MPRAGE_SAG_ISO_0_9_0005_20141125153216.nii', '/VBM/FED015/DARTEL_newsegment/c1CON_T1_MPRAGE_SAG_ISO_0_9_0005_20141202145526.nii', '/VBM/FED016/DARTEL_newsegment/c1CON_T1_MPRAGE_SAG_ISO_0_9_0005_20141202164821.nii', '/VBM/FED017/DARTEL_newsegment/c1CON_T1_MPRAGE_SAG_ISO_0_9_0005_20141204151043.nii', '/VBM/FED018/DARTEL_newsegment/c1DEP_T1_MPRAGE_SAG_ISO_0_9_0005_20141208163153.nii', '/VBM/FED019/DARTEL_newsegment/c1CON_T1_MPRAGE_SAG_ISO_0_9_0005_20141210090147.nii', '/VBM/FED020/DARTEL_newsegment/c1CON_T1_MPRAGE_SAG_ISO_0_9_0005_20141210170232.nii', '/VBM/FED021/DARTEL_newsegment/c1CON_T1_MPRAGE_SAG_ISO_0_9_0005_20141211095930.nii', '/VBM/FED022/DARTEL_newsegment/c1CON_T1_MPRAGE_SAG_ISO_0_9_0005_20141211155503.nii', '/VBM/FED023/DARTEL_newsegment/c1CON_T1_MPRAGE_SAG_ISO_0_9_0005_20141216144604.nii', '/VBM/FED024/DARTEL_newsegment/c1CON_T1_MPRAGE_SAG_ISO_0_9_0005_20150204145018.nii', '/VBM/FED025/DARTEL_newsegment/c1CON_T1_MPRAGE_SAG_ISO_0_9_0005_20150206123507.nii', '/VBM/FED026/DARTEL_newsegment/c1CON_T1_MPRAGE_SAG_ISO_0_9_0005_20150211171144.nii', '/VBM/FED027/DARTEL_newsegment/c1DEP_T1_MPRAGE_SAG_ISO_0_9_0005_20150218162601.nii', '/VBM/FED028/DARTEL_newsegment/c1DEP_T1_MPRAGE_SAG_ISO_0_9_0005_20150219142148.nii', '/VBM/FED029/DARTEL_newsegment/c1DEP_T1_MPRAGE_SAG_ISO_0_9_0005_20150226091949.nii', '/VBM/FED030/DARTEL_newsegment/c1DEP_T1_MPRAGE_SAG_ISO_0_9_0005_20150226154844.nii', '/VBM/FED031/DARTEL_newsegment/c1DEP_T1_MPRAGE_SAG_ISO_0_9_0005_20150310152650.nii', '/VBM/FED032/DARTEL_newsegment/c1DEP_T1_MPRAGE_SAG_ISO_0_9_0005_20150313125246.nii', '/VBM/FED033/DARTEL_newsegment/c1DEP_T1_MPRAGE_SAG_ISO_0_9_0005_20150326151309.nii', '/VBM/FED034/DARTEL_newsegment/c1DEP_T1_MPRAGE_SAG_ISO_0_9_0005_20150909125805.nii', '/VBM/FED035/DARTEL_newsegment/c1DEP_T1_MPRAGE_SAG_ISO_0_9_0005_20150917120306.nii', '/VBM/FED036/DARTEL_newsegment/c1DEP_T1_MPRAGE_SAG_ISO_0_9_0005_20150924172133.nii', '/VBM/FED037/DARTEL_newsegment/c1DEP_T1_MPRAGE_SAG_ISO_0_9_0005_20150929162030.nii', '/VBM/FED038/DARTEL_newsegment/c1DEP_T1_MPRAGE_SAG_ISO_0_9_0005_20151001125857.nii', '/VBM/FED039/DARTEL_newsegment/c1DEP_T1_MPRAGE_SAG_ISO_0_9_0005_20151001173950.nii', '/VBM/FED040/DARTEL_newsegment/c1DEP_T1_MPRAGE_SAG_ISO_0_9_0005_20151009111760.nii', '/VBM/FED041/DARTEL_newsegment/c1DEP_T1_MPRAGE_SAG_ISO_0_9_0005_20151009164129.nii', '/VBM/FED042/DARTEL_newsegment/c1DEP_T1_MPRAGE_SAG_ISO_0_9_0005_20151013110112.nii', '/VBM/FED043/DARTEL_newsegment/c1DEP_T1_MPRAGE_SAG_ISO_0_9_0005_20151015122011.nii', '/VBM/FED044/DARTEL_newsegment/c1DEP_T1_MPRAGE_SAG_ISO_0_9_0005_20151029121235.nii', '/VBM/FED045/DARTEL_newsegment/c1DEP_T1_MPRAGE_SAG_ISO_0_9_0005_20151105173027.nii', '/VBM/FED046/DARTEL_newsegment/c1DEP_T1_MPRAGE_SAG_ISO_0_9_0005_20151106125904.nii', '/VBM/FED047/DARTEL_newsegment/c1DEP_T1_MPRAGE_SAG_ISO_0_9_0005_20151116144126.nii', '/VBM/FED048/DARTEL_newsegment/c1DEP_T1_MPRAGE_SAG_ISO_0_9_0005_20151118152060.nii', '/VBM/FED049/DARTEL_newsegment/c1CON_T1_MPRAGE_SAG_ISO_0_9_0009_20151123115353.nii', '/VBM/FED050/DARTEL_newsegment/c1CON_T1_MPRAGE_SAG_ISO_0_9_0005_20151201165820.nii', '/VBM/FED051/DARTEL_newsegment/c1DEP_T1_MPRAGE_SAG_ISO_0_9_0005_20151202153410.nii', '/VBM/FED052/DARTEL_newsegment/c1DEP_T1_MPRAGE_SAG_ISO_0_9_0005_20151203172751.nii', '/VBM/FED053/DARTEL_newsegment/c1CON_T1_MPRAGE_SAG_ISO_0_9_0005_20151208115820.nii', '/VBM/FED054/DARTEL_newsegment/c1CON_T1_MPRAGE_SAG_ISO_0_9_0005_20151208140706.nii', '/VBM/FED055/DARTEL_newsegment/c1DEP_T1_MPRAGE_SAG_ISO_0_9_0005_20151214092109.nii', '/VBM/FED057/DARTEL_newsegment/c1DEP_T1_MPRAGE_SAG_ISO_0_9_0005_20151216154455.nii', '/VBM/FED058/DARTEL_newsegment/c1CON_T1_MPRAGE_SAG_ISO_0_9_0005_20160217151251.nii', '/VBM/FED059/DARTEL_newsegment/c1DEP_T1_MPRAGE_SAG_ISO_0_9_0005_20160218100702.nii', '/VBM/FED060/DARTEL_newsegment/c1CON_T1_MPRAGE_SAG_ISO_0_9_0005_20160224151260.nii', '/VBM/FED061/DARTEL_newsegment/c1CON_T1_MPRAGE_SAG_ISO_0_9_0005_20160301111011.nii', '/VBM/FED062/DARTEL_newsegment/c1CON_T1_MPRAGE_SAG_ISO_0_9_0005_20160301164049.nii', '/VBM/FED063/DARTEL_newsegment/c1CON_T1_MPRAGE_SAG_ISO_0_9_0005_20160308162043.nii', '/VBM/FED064/DARTEL_newsegment/c1CON_T1_MPRAGE_SAG_ISO_0_9_0005_20160309173936.nii', '/VBM/FED065/DARTEL_newsegment/c1CON_T1_MPRAGE_SAG_ISO_0_9_0005_20160310090712.nii', '/VBM/FED066/DARTEL_newsegment/c1DEP_T1_MPRAGE_SAG_ISO_0_9_0005_20160310171152.nii', '/VBM/FED067/DARTEL_newsegment/c1CON_T1_MPRAGE_SAG_ISO_0_9_0005_20160311133810.nii', '/VBM/FED068/DARTEL_newsegment/c1CON_T1_MPRAGE_SAG_ISO_0_9_0005_20160331140317.nii']\n"
     ]
    }
   ],
   "source": [
    "print(globals_GM)"
   ]
  },
  {
   "cell_type": "code",
   "execution_count": 4,
   "metadata": {},
   "outputs": [],
   "source": [
    "# 0 values outside the brain in each volume -> 0 vals overbias and make globals smaller\n",
    "# c1,2,3 also are not normalised -> different positions for different subjects\n",
    "# -> take all c images and calculate below values for each matter ;)\n",
    "\n",
    "# reasign lists\n",
    "globals_GM=[]\n",
    "globals_WM=[]\n",
    "globals_CSF=[]\n",
    "# loop over GM WM CSF lists and calculate globals\n",
    "for a,b in zip_longest(globals_GM_fvals,globals_GM_nb):\n",
    "    globals_GM.append((np.sum(a[:,:,:][a[:,:,:] != 0])\n",
    "                       * np.product(b.header['pixdim'][1:4]))\n",
    "                       / np.size(a[:,:,:][a[:,:,:] != 0]))\n",
    "\n",
    "for a,b in zip_longest(globals_WM_fvals,globals_WM_nb):\n",
    "    globals_WM.append((np.sum(a[:,:,:][a[:,:,:] != 0])\n",
    "                       * np.product(b.header['pixdim'][1:4]))\n",
    "                       / np.size(a[:,:,:][a[:,:,:] != 0]))\n",
    "\n",
    "for a,b in zip_longest(globals_CSF_fvals,globals_CSF_nb):\n",
    "    globals_CSF.append((np.sum(a[:,:,:][a[:,:,:] != 0])\n",
    "                        * np.product(b.header['pixdim'][1:4]))\n",
    "                        / np.size(a[:,:,:][a[:,:,:] != 0]))\n",
    "\n",
    "# combine globals to get total intracranial volume (TiCV)\n",
    "globals_TiCV=[]\n",
    "\n",
    "for a,b,c in zip_longest(globals_GM,globals_WM,globals_CSF):\n",
    "    globals_TiCV.append(np.sum([a,b,c]))\n",
    "    \n",
    "# establish range of values\n",
    "#for a,b,c in zip_longest(globals_GM_fvals, globals_WM_fvals, globals_CSF_fvals):\n",
    "#    print(np.amin(a), np.amax(a),np.amin(b), np.amax(b),np.amin(c), np.amax(c))\n",
    "# always the same: 0.0 - 1.0000000591389835"
   ]
  },
  {
   "cell_type": "code",
   "execution_count": 5,
   "metadata": {
    "collapsed": true,
    "jupyter": {
     "outputs_hidden": true
    }
   },
   "outputs": [
    {
     "name": "stdout",
     "output_type": "stream",
     "text": [
      "['/VBM/DARTEL_norm2mni_c1/smwc1DEP_T1_MPRAGE_SAG_ISO_0_9_0005_20151216154455.nii', '/VBM/DARTEL_norm2mni_c1/smwc1DEP_T1_MPRAGE_SAG_ISO_0_9_0005_20151001173950.nii', '/VBM/DARTEL_norm2mni_c1/smwc1DEP_T1_MPRAGE_SAG_ISO_0_9_0005_20150929162030.nii', '/VBM/DARTEL_norm2mni_c1/smwc1DEP_T1_MPRAGE_SAG_ISO_0_9_0005_20151009111760.nii', '/VBM/DARTEL_norm2mni_c1/smwc1DEP_T1_MPRAGE_SAG_ISO_0_9_0005_20150219142148.nii', '/VBM/DARTEL_norm2mni_c1/smwc1DEP_T1_MPRAGE_SAG_ISO_0_9_0005_20141208163153.nii', '/VBM/DARTEL_norm2mni_c1/smwc1DEP_T1_MPRAGE_SAG_ISO_0_9_0005_20151001125857.nii', '/VBM/DARTEL_norm2mni_c1/smwc1DEP_T1_MPRAGE_SAG_ISO_0_9_0005_20150313125246.nii', '/VBM/DARTEL_norm2mni_c1/smwc1DEP_T1_MPRAGE_SAG_ISO_0_9_0005_20151015122011.nii', '/VBM/DARTEL_norm2mni_c1/smwc1DEP_T1_MPRAGE_SAG_ISO_0_9_0005_20150917120306.nii', '/VBM/DARTEL_norm2mni_c1/smwc1DEP_T1_MPRAGE_SAG_ISO_0_9_0005_20150310152650.nii', '/VBM/DARTEL_norm2mni_c1/smwc1DEP_T1_MPRAGE_SAG_ISO_0_9_0005_20160310171152.nii', '/VBM/DARTEL_norm2mni_c1/smwc1DEP_T1_MPRAGE_SAG_ISO_0_9_0005_20151214092109.nii', '/VBM/DARTEL_norm2mni_c1/smwc1DEP_T1_MPRAGE_SAG_ISO_0_9_0005_20141125153216.nii', '/VBM/DARTEL_norm2mni_c1/smwc1DEP_T1_MPRAGE_SAG_ISO_0_9_0005_20151105173027.nii', '/VBM/DARTEL_norm2mni_c1/smwc1DEP_T1_MPRAGE_SAG_ISO_0_9_0005_20151009164129.nii', '/VBM/DARTEL_norm2mni_c1/smwc1DEP_T1_MPRAGE_SAG_ISO_0_9_0005_20150924172133.nii', '/VBM/DARTEL_norm2mni_c1/smwc1DEP_T1_MPRAGE_SAG_ISO_0_9_0005_20150226154844.nii', '/VBM/DARTEL_norm2mni_c1/smwc1DEP_T1_MPRAGE_SAG_ISO_0_9_0005_20150326151309.nii', '/VBM/DARTEL_norm2mni_c1/smwc1DEP_T1_MPRAGE_SAG_ISO_0_9_0005_20151029121235.nii', '/VBM/DARTEL_norm2mni_c1/smwc1DEP_T1_MPRAGE_SAG_ISO_0_9_0005_20151116144126.nii', '/VBM/DARTEL_norm2mni_c1/smwc1DEP_T1_MPRAGE_SAG_ISO_0_9_0005_20151106125904.nii', '/VBM/DARTEL_norm2mni_c1/smwc1DEP_T1_MPRAGE_SAG_ISO_0_9_0005_20151013110112.nii', '/VBM/DARTEL_norm2mni_c1/smwc1DEP_T1_MPRAGE_SAG_ISO_0_9_0005_20151118152060.nii', '/VBM/DARTEL_norm2mni_c1/smwc1DEP_T1_MPRAGE_SAG_ISO_0_9_0005_20141119161708.nii', '/VBM/DARTEL_norm2mni_c1/smwc1DEP_T1_MPRAGE_SAG_ISO_0_9_0005_20150909125805.nii', '/VBM/DARTEL_norm2mni_c1/smwc1DEP_T1_MPRAGE_SAG_ISO_0_9_0005_20151202153410.nii', '/VBM/DARTEL_norm2mni_c1/smwc1DEP_T1_MPRAGE_SAG_ISO_0_9_0005_20150226091949.nii', '/VBM/DARTEL_norm2mni_c1/smwc1DEP_T1_MPRAGE_SAG_ISO_0_9_0005_20150218162601.nii', '/VBM/DARTEL_norm2mni_c1/smwc1DEP_T1_MPRAGE_SAG_ISO_0_9_0005_20151203172751.nii', '/VBM/DARTEL_norm2mni_c1/smwc1DEP_T1_MPRAGE_SAG_ISO_0_9_0005_20160218100702.nii'] 31\n",
      "['/VBM/DARTEL_norm2mni_c1/smwc1CON_T1_MPRAGE_SAG_ISO_0_9_0005_20160308162043.nii', '/VBM/DARTEL_norm2mni_c1/smwc1CON_T1_MPRAGE_SAG_ISO_0_9_0005_20160310090712.nii', '/VBM/DARTEL_norm2mni_c1/smwc1CON_T1_MPRAGE_SAG_ISO_0_9_0005_20141210170232.nii', '/VBM/DARTEL_norm2mni_c1/smwc1CON_T1_MPRAGE_SAG_ISO_0_9_0005_20150211171144.nii', '/VBM/DARTEL_norm2mni_c1/smwc1CON_T1_MPRAGE_SAG_ISO_0_9_0005_20160331140317.nii', '/VBM/DARTEL_norm2mni_c1/smwc1CON_T1_MPRAGE_SAG_ISO_0_9_0005_20141119091904.nii', '/VBM/DARTEL_norm2mni_c1/smwc1CON_T1_MPRAGE_SAG_ISO_0_9_0005_20141211155503.nii', '/VBM/DARTEL_norm2mni_c1/smwc1CON_T1_MPRAGE_SAG_ISO_0_9_0005_20160224151260.nii', '/VBM/DARTEL_norm2mni_c1/smwc1CON_T1_MPRAGE_SAG_ISO_0_9_0005_20151208115820.nii', '/VBM/DARTEL_norm2mni_c1/smwc1CON_T1_MPRAGE_SAG_ISO_0_9_0005_20141202164821.nii', '/VBM/DARTEL_norm2mni_c1/smwc1CON_T1_MPRAGE_SAG_ISO_0_9_0005_20141112155009.nii', '/VBM/DARTEL_norm2mni_c1/smwc1CON_T1_MPRAGE_SAG_ISO_0_9_0005_20151208140706.nii', '/VBM/DARTEL_norm2mni_c1/smwc1CON_T1_MPRAGE_SAG_ISO_0_9_0005_20150204145018.nii', '/VBM/DARTEL_norm2mni_c1/smwc1CON_T1_MPRAGE_SAG_ISO_0_9_0005_20141124150148.nii', '/VBM/DARTEL_norm2mni_c1/smwc1CON_T1_MPRAGE_SAG_ISO_0_9_0005_20160309173936.nii', '/VBM/DARTEL_norm2mni_c1/smwc1CON_T1_MPRAGE_SAG_ISO_0_9_0005_20160301164049.nii', '/VBM/DARTEL_norm2mni_c1/smwc1CON_T1_MPRAGE_SAG_ISO_0_9_0005_20141125093955.nii', '/VBM/DARTEL_norm2mni_c1/smwc1CON_T1_MPRAGE_SAG_ISO_0_9_0009_20151123115353.nii', '/VBM/DARTEL_norm2mni_c1/smwc1CON_T1_MPRAGE_SAG_ISO_0_9_0005_20141210090147.nii', '/VBM/DARTEL_norm2mni_c1/smwc1CON_T1_MPRAGE_SAG_ISO_0_9_0005_20141117154954.nii', '/VBM/DARTEL_norm2mni_c1/smwc1CON_T1_MPRAGE_SAG_ISO_0_9_0005_20141204151043.nii', '/VBM/DARTEL_norm2mni_c1/smwc1CON_T1_MPRAGE_SAG_ISO_0_9_0005_20141202145526.nii', '/VBM/DARTEL_norm2mni_c1/smwc1CON_T1_MPRAGE_SAG_ISO_0_9_0005_20160311133810.nii', '/VBM/DARTEL_norm2mni_c1/smwc1CON_T1_MPRAGE_SAG_ISO_0_9_0005_20151201165820.nii', '/VBM/DARTEL_norm2mni_c1/smwc1CON_T1_MPRAGE_SAG_ISO_0_9_0005_20141211095930.nii', '/VBM/DARTEL_norm2mni_c1/smwc1CON_T1_MPRAGE_SAG_ISO_0_9_0005_20141107104226.nii', '/VBM/DARTEL_norm2mni_c1/smwc1CON_T1_MPRAGE_SAG_ISO_0_9_0005_20160217151251.nii', '/VBM/DARTEL_norm2mni_c1/smwc1CON_T1_MPRAGE_SAG_ISO_0_9_0005_20141216144604.nii', '/VBM/DARTEL_norm2mni_c1/smwc1CON_T1_MPRAGE_SAG_ISO_0_9_0005_20150206123507.nii', '/VBM/DARTEL_norm2mni_c1/smwc1CON_T1_MPRAGE_SAG_ISO_0_9_0005_20141106153429.nii', '/VBM/DARTEL_norm2mni_c1/smwc1CON_T1_MPRAGE_SAG_ISO_0_9_0005_20160301111011.nii'] 31\n"
     ]
    }
   ],
   "source": [
    "# get normalised GM/WM images to analyse in MultipleRegression model\n",
    "# change norm_dir to vary between GM and WM analysis\n",
    "norm_dir=\"/VBM/DARTEL_norm2mni_c1/\"\n",
    "images_mreg=[]\n",
    "\n",
    "for i in os.listdir(norm_dir):\n",
    "    match=re.match(r'(smwc.*\\d{14,}.*.nii)', i)\n",
    "    if match:\n",
    "        images_mreg.append(os.path.join(norm_dir, match.group(0)))\n",
    "\n",
    "#print(\"Images where normalised only if included in study specific template!\")\n",
    "#print(images_mreg, len(images_mreg))\n",
    "\n",
    "# group them correctly\n",
    "dep_norm=[]\n",
    "con_norm=[]\n",
    "\n",
    "for i in images_mreg:\n",
    "    match_dep=re.match(r'.*DEP_.*.nii', i)\n",
    "    match_con=re.match(r'.*CON_.*.nii', i)\n",
    "    if match_dep:\n",
    "        dep_norm.append(match_dep.group(0))\n",
    "    elif match_con:\n",
    "        con_norm.append(match_con.group(0))\n",
    "    else:\n",
    "        print(\"item in images_mreg does not match regex pattern! Investigate ... \")\n",
    "    \n",
    "print(dep_norm, len(dep_norm))\n",
    "print(con_norm, len(con_norm))"
   ]
  },
  {
   "cell_type": "code",
   "execution_count": 6,
   "metadata": {},
   "outputs": [],
   "source": [
    "# get covariates from list in .xlsx file \n",
    "cov_file_ID=\"FED_Subject_Assignments.xlsx\"\n",
    "content=pd.read_excel(cov_file_ID, sheet_name=\"Sheet2\")\n",
    "# remove subject 56 from lists(-> was not normalised or in template)\n",
    "content=content[content[\"Sub Num FED_XXX\"] != 56]\n",
    "sex=content['Gender'].tolist()\n",
    "age=content['Age'].tolist()\n",
    "\n",
    "# sex - dictionary {vector, name, centering} female: 1, male: 0\n",
    "cov_sex={\"vector\":sex, \"name\":\"Sex\", \"centering\":0}\n",
    "#cov_sex={\"vector\":sex, \"name\":\"Sex\", \"centering\":\"No centering\"}\n",
    "# age - dictionary {vector, name, centering}\n",
    "cov_age={\"vector\":age, \"name\":\"Age\", \"centering\":0}\n",
    "#cov_age={\"vector\":age, \"name\":\"Age\", \"centering\":\"No centering\"}"
   ]
  },
  {
   "cell_type": "code",
   "execution_count": 34,
   "metadata": {},
   "outputs": [
    {
     "name": "stdout",
     "output_type": "stream",
     "text": [
      "\n"
     ]
    }
   ],
   "source": [
    "print()"
   ]
  },
  {
   "cell_type": "code",
   "execution_count": 7,
   "metadata": {},
   "outputs": [
    {
     "name": "stdout",
     "output_type": "stream",
     "text": [
      "62 62 62 62\n"
     ]
    }
   ],
   "source": [
    "# control input length of all mreg inputs\n",
    "print(len(dep_norm + con_norm),\n",
    "     len(globals_TiCV),\n",
    "     len(cov_sex['vector']),\n",
    "     len(cov_age['vector']))"
   ]
  },
  {
   "cell_type": "code",
   "execution_count": 8,
   "metadata": {},
   "outputs": [
    {
     "name": "stdout",
     "output_type": "stream",
     "text": [
      "200218-18:01:53,718 nipype.workflow INFO:\n",
      "\t [Node] Setting-up \"MultipleRegression\" in \"/VBM/MultipleRegression\".\n",
      "200218-18:01:53,734 nipype.workflow INFO:\n",
      "\t [Node] Running \"MultipleRegression\" (\"nipype.interfaces.spm.model.MultipleRegressionDesign\")\n",
      "200218-18:02:00,86 nipype.workflow INFO:\n",
      "\t [Node] Finished \"MultipleRegression\".\n",
      "\n",
      "spm_mat_file = /VBM/MultipleRegression/SPM.mat\n",
      "\n"
     ]
    }
   ],
   "source": [
    "# create multiple regression Node\n",
    "mreg=Node(spm.MultipleRegressionDesign(), name=\"MultipleRegression\")\n",
    "mreg.base_dir=\"/VBM/\"\n",
    "mreg.inputs.in_files= dep_norm + con_norm\n",
    "mreg.inputs.global_calc_values= globals_TiCV\n",
    "# use proportional global normalization\n",
    "mreg.inputs.global_normalization=2\n",
    "# cut-off value for a-posteriori probability of GM at a given voxel: 5%, [maybe 20%? -> Ashburner VBM Tutorial]\n",
    "mreg.inputs.threshold_mask_absolute= 0.05\n",
    "# think of mask image to threshold\n",
    "#mreg.inputs.explicit_mask_file=\n",
    "mreg.inputs.covariates= [cov_sex, cov_age]\n",
    "\n",
    "# make model (design, not estimate) and print results\n",
    "results=mreg.run()\n",
    "print(results.outputs)"
   ]
  },
  {
   "cell_type": "code",
   "execution_count": 29,
   "metadata": {
    "collapsed": true,
    "jupyter": {
     "outputs_hidden": true
    }
   },
   "outputs": [
    {
     "name": "stdout",
     "output_type": "stream",
     "text": [
      "200218-17:25:58,248 nipype.workflow INFO:\n",
      "\t [Node] Setting-up \"MultipleRegression\" in \"/VBM/MultipleRegression\".\n",
      "200218-17:25:58,264 nipype.workflow INFO:\n",
      "\t [Node] Running \"MultipleRegression\" (\"nipype.interfaces.spm.model.MultipleRegressionDesign\")\n",
      "200218-17:26:03,559 nipype.workflow INFO:\n",
      "\t [Node] Finished \"MultipleRegression\".\n",
      "\n",
      "spm_mat_file = /VBM/MultipleRegression/SPM.mat\n",
      "\n"
     ]
    }
   ],
   "source": [
    "# estimate model\n"
   ]
  },
  {
   "cell_type": "code",
   "execution_count": null,
   "metadata": {},
   "outputs": [],
   "source": [
    "# estimate contrast(s)\n"
   ]
  },
  {
   "cell_type": "markdown",
   "metadata": {},
   "source": [
    "Testing Zone:"
   ]
  },
  {
   "cell_type": "code",
   "execution_count": 44,
   "metadata": {
    "collapsed": true,
    "jupyter": {
     "outputs_hidden": true
    }
   },
   "outputs": [
    {
     "name": "stdout",
     "output_type": "stream",
     "text": [
      "63 63 63 63\n",
      "[1.430426183986627, 1.350242574608008, 1.4075377454887115, 1.3672833244927223, 1.3971714186878994, 1.395190074663154, 1.3987529174850863, 1.3888242157747714, 1.321959342933752, 1.4139250254728586, 1.4809676027144687, 1.355321874811061, 1.3187153317198244, 1.3607076476719495, 1.3110926139141037, 1.3395236359201377, 1.3360971392782333, 1.371552790859582, 1.3897510983306969, 1.3444363298681172, 1.3776900555659704, 1.4448610312857435, 1.4875706951988656, 1.3853045381333036, 1.3906175517930426, 1.4312112640146974, 1.4014850453333243, 1.3888299889367555, 1.4070924597473202, 1.4825215199446327, 1.3751651775260707, 1.4449654653842705, 1.4032655816282624, 1.409961871467868, 1.3739481727168397, 1.368877571648446, 1.1573917414830786, 1.3981658392854373, 1.3372065284201091, 1.453951328970498, 1.3881255196159765, 1.4101797882536795, 1.4431767925385799, 1.4095946017761634, 1.335946169373656, 1.370206030458431, 1.3997911318455731, 1.3907072340951674, 1.408577028798606, 1.290139091142213, 1.4156134007961265, 1.3804772218754082, 1.4013429746576866, 1.3794417704790902, 1.425819031706481, 1.378030317515673, 1.363612892583813, 1.375746717229586, 1.3994564990282552, 1.3604227722487465, 1.377730998876158, 1.4702321633675288, 1.2888883913382836]\n"
     ]
    }
   ],
   "source": [
    "# TODO: think about sorting values of different lists (globals, covariates all assigned to right subject)\n",
    "\n"
   ]
  }
 ],
 "metadata": {
  "kernelspec": {
   "display_name": "Python [conda env:neuro] *",
   "language": "python",
   "name": "conda-env-neuro-py"
  },
  "language_info": {
   "codemirror_mode": {
    "name": "ipython",
    "version": 3
   },
   "file_extension": ".py",
   "mimetype": "text/x-python",
   "name": "python",
   "nbconvert_exporter": "python",
   "pygments_lexer": "ipython3",
   "version": "3.7.6"
  }
 },
 "nbformat": 4,
 "nbformat_minor": 4
}
