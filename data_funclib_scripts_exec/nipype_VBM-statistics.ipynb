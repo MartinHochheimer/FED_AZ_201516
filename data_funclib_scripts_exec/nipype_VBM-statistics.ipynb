{
 "cells": [
  {
   "cell_type": "code",
   "execution_count": 1,
   "metadata": {},
   "outputs": [
    {
     "name": "stdout",
     "output_type": "stream",
     "text": [
      "200217-17:13:02,410 nipype.utils INFO:\n",
      "\t Running nipype version 1.5.0-dev (latest: 1.4.2)\n"
     ]
    }
   ],
   "source": [
    "# import everything you need\n",
    "from nipype import Node, Workflow\n",
    "import nipype.interfaces.spm as spm\n",
    "from nipype.interfaces.base import CommandLine\n",
    "from nilearn import image as nlimg\n",
    "from nilearn import masking as nlmask\n",
    "from nilearn.plotting import plot_anat, plot_epi, plot_roi\n",
    "import numpy as np\n",
    "import matplotlib.pyplot as plt\n",
    "import pandas as pd\n",
    "import nibabel as nb\n",
    "import os, re"
   ]
  },
  {
   "cell_type": "markdown",
   "metadata": {},
   "source": [
    "Gather necessary pre-requisites:"
   ]
  },
  {
   "cell_type": "code",
   "execution_count": 2,
   "metadata": {},
   "outputs": [],
   "source": [
    "# define useful functions\n",
    "# define show-slices function\n",
    "def show_slices(slices):\n",
    "    \"\"\" Function to display row of image slices \"\"\"\n",
    "    fig, axes = plt.subplots(1, len(slices))\n",
    "    for i, slice in enumerate(slices):\n",
    "        axes[i].imshow(slice.T, cmap=\"gray\", origin=\"lower\")\n"
   ]
  },
  {
   "cell_type": "code",
   "execution_count": 3,
   "metadata": {
    "collapsed": true,
    "jupyter": {
     "outputs_hidden": true
    }
   },
   "outputs": [
    {
     "name": "stdout",
     "output_type": "stream",
     "text": [
      "Images where normalised only if included in study specific template!\n",
      "['/VBM/DARTEL_norm2mni_c1/smwc1CON_T1_MPRAGE_SAG_ISO_0_9_0005_20160308162043.nii', '/VBM/DARTEL_norm2mni_c1/smwc1CON_T1_MPRAGE_SAG_ISO_0_9_0005_20160310090712.nii', '/VBM/DARTEL_norm2mni_c1/smwc1DEP_T1_MPRAGE_SAG_ISO_0_9_0005_20151216154455.nii', '/VBM/DARTEL_norm2mni_c1/smwc1CON_T1_MPRAGE_SAG_ISO_0_9_0005_20141210170232.nii', '/VBM/DARTEL_norm2mni_c1/smwc1DEP_T1_MPRAGE_SAG_ISO_0_9_0005_20151001173950.nii', '/VBM/DARTEL_norm2mni_c1/smwc1DEP_T1_MPRAGE_SAG_ISO_0_9_0005_20150929162030.nii', '/VBM/DARTEL_norm2mni_c1/smwc1DEP_T1_MPRAGE_SAG_ISO_0_9_0005_20151009111760.nii', '/VBM/DARTEL_norm2mni_c1/smwc1DEP_T1_MPRAGE_SAG_ISO_0_9_0005_20150219142148.nii', '/VBM/DARTEL_norm2mni_c1/smwc1CON_T1_MPRAGE_SAG_ISO_0_9_0005_20150211171144.nii', '/VBM/DARTEL_norm2mni_c1/smwc1DEP_T1_MPRAGE_SAG_ISO_0_9_0005_20141208163153.nii', '/VBM/DARTEL_norm2mni_c1/smwc1CON_T1_MPRAGE_SAG_ISO_0_9_0005_20160331140317.nii', '/VBM/DARTEL_norm2mni_c1/smwc1CON_T1_MPRAGE_SAG_ISO_0_9_0005_20141119091904.nii', '/VBM/DARTEL_norm2mni_c1/smwc1DEP_T1_MPRAGE_SAG_ISO_0_9_0005_20151001125857.nii', '/VBM/DARTEL_norm2mni_c1/smwc1DEP_T1_MPRAGE_SAG_ISO_0_9_0005_20150313125246.nii', '/VBM/DARTEL_norm2mni_c1/smwc1DEP_T1_MPRAGE_SAG_ISO_0_9_0005_20151015122011.nii', '/VBM/DARTEL_norm2mni_c1/smwc1CON_T1_MPRAGE_SAG_ISO_0_9_0005_20141211155503.nii', '/VBM/DARTEL_norm2mni_c1/smwc1CON_T1_MPRAGE_SAG_ISO_0_9_0005_20160224151260.nii', '/VBM/DARTEL_norm2mni_c1/smwc1CON_T1_MPRAGE_SAG_ISO_0_9_0005_20151208115820.nii', '/VBM/DARTEL_norm2mni_c1/smwc1CON_T1_MPRAGE_SAG_ISO_0_9_0005_20141202164821.nii', '/VBM/DARTEL_norm2mni_c1/smwc1DEP_T1_MPRAGE_SAG_ISO_0_9_0005_20150917120306.nii', '/VBM/DARTEL_norm2mni_c1/smwc1DEP_T1_MPRAGE_SAG_ISO_0_9_0005_20150310152650.nii', '/VBM/DARTEL_norm2mni_c1/smwc1CON_T1_MPRAGE_SAG_ISO_0_9_0005_20141112155009.nii', '/VBM/DARTEL_norm2mni_c1/smwc1DEP_T1_MPRAGE_SAG_ISO_0_9_0005_20160310171152.nii', '/VBM/DARTEL_norm2mni_c1/smwc1DEP_T1_MPRAGE_SAG_ISO_0_9_0005_20151214092109.nii', '/VBM/DARTEL_norm2mni_c1/smwc1DEP_T1_MPRAGE_SAG_ISO_0_9_0005_20141125153216.nii', '/VBM/DARTEL_norm2mni_c1/smwc1DEP_T1_MPRAGE_SAG_ISO_0_9_0005_20151105173027.nii', '/VBM/DARTEL_norm2mni_c1/smwc1CON_T1_MPRAGE_SAG_ISO_0_9_0005_20151208140706.nii', '/VBM/DARTEL_norm2mni_c1/smwc1CON_T1_MPRAGE_SAG_ISO_0_9_0005_20150204145018.nii', '/VBM/DARTEL_norm2mni_c1/smwc1CON_T1_MPRAGE_SAG_ISO_0_9_0005_20141124150148.nii', '/VBM/DARTEL_norm2mni_c1/smwc1CON_T1_MPRAGE_SAG_ISO_0_9_0005_20160309173936.nii', '/VBM/DARTEL_norm2mni_c1/smwc1DEP_T1_MPRAGE_SAG_ISO_0_9_0005_20151009164129.nii', '/VBM/DARTEL_norm2mni_c1/smwc1CON_T1_MPRAGE_SAG_ISO_0_9_0005_20160301164049.nii', '/VBM/DARTEL_norm2mni_c1/smwc1DEP_T1_MPRAGE_SAG_ISO_0_9_0005_20150924172133.nii', '/VBM/DARTEL_norm2mni_c1/smwc1DEP_T1_MPRAGE_SAG_ISO_0_9_0005_20150226154844.nii', '/VBM/DARTEL_norm2mni_c1/smwc1DEP_T1_MPRAGE_SAG_ISO_0_9_0005_20150326151309.nii', '/VBM/DARTEL_norm2mni_c1/smwc1CON_T1_MPRAGE_SAG_ISO_0_9_0005_20141125093955.nii', '/VBM/DARTEL_norm2mni_c1/smwc1CON_T1_MPRAGE_SAG_ISO_0_9_0009_20151123115353.nii', '/VBM/DARTEL_norm2mni_c1/smwc1CON_T1_MPRAGE_SAG_ISO_0_9_0005_20141210090147.nii', '/VBM/DARTEL_norm2mni_c1/smwc1DEP_T1_MPRAGE_SAG_ISO_0_9_0005_20151029121235.nii', '/VBM/DARTEL_norm2mni_c1/smwc1DEP_T1_MPRAGE_SAG_ISO_0_9_0005_20151116144126.nii', '/VBM/DARTEL_norm2mni_c1/smwc1DEP_T1_MPRAGE_SAG_ISO_0_9_0005_20151106125904.nii', '/VBM/DARTEL_norm2mni_c1/smwc1CON_T1_MPRAGE_SAG_ISO_0_9_0005_20141117154954.nii', '/VBM/DARTEL_norm2mni_c1/smwc1DEP_T1_MPRAGE_SAG_ISO_0_9_0005_20151013110112.nii', '/VBM/DARTEL_norm2mni_c1/smwc1CON_T1_MPRAGE_SAG_ISO_0_9_0005_20141204151043.nii', '/VBM/DARTEL_norm2mni_c1/smwc1DEP_T1_MPRAGE_SAG_ISO_0_9_0005_20151118152060.nii', '/VBM/DARTEL_norm2mni_c1/smwc1DEP_T1_MPRAGE_SAG_ISO_0_9_0005_20141119161708.nii', '/VBM/DARTEL_norm2mni_c1/smwc1CON_T1_MPRAGE_SAG_ISO_0_9_0005_20141202145526.nii', '/VBM/DARTEL_norm2mni_c1/smwc1CON_T1_MPRAGE_SAG_ISO_0_9_0005_20160311133810.nii', '/VBM/DARTEL_norm2mni_c1/smwc1CON_T1_MPRAGE_SAG_ISO_0_9_0005_20151201165820.nii', '/VBM/DARTEL_norm2mni_c1/smwc1CON_T1_MPRAGE_SAG_ISO_0_9_0005_20141211095930.nii', '/VBM/DARTEL_norm2mni_c1/smwc1DEP_T1_MPRAGE_SAG_ISO_0_9_0005_20150909125805.nii', '/VBM/DARTEL_norm2mni_c1/smwc1DEP_T1_MPRAGE_SAG_ISO_0_9_0005_20151202153410.nii', '/VBM/DARTEL_norm2mni_c1/smwc1CON_T1_MPRAGE_SAG_ISO_0_9_0005_20141107104226.nii', '/VBM/DARTEL_norm2mni_c1/smwc1CON_T1_MPRAGE_SAG_ISO_0_9_0005_20160217151251.nii', '/VBM/DARTEL_norm2mni_c1/smwc1DEP_T1_MPRAGE_SAG_ISO_0_9_0005_20150226091949.nii', '/VBM/DARTEL_norm2mni_c1/smwc1CON_T1_MPRAGE_SAG_ISO_0_9_0005_20141216144604.nii', '/VBM/DARTEL_norm2mni_c1/smwc1DEP_T1_MPRAGE_SAG_ISO_0_9_0005_20150218162601.nii', '/VBM/DARTEL_norm2mni_c1/smwc1CON_T1_MPRAGE_SAG_ISO_0_9_0005_20150206123507.nii', '/VBM/DARTEL_norm2mni_c1/smwc1CON_T1_MPRAGE_SAG_ISO_0_9_0005_20141106153429.nii', '/VBM/DARTEL_norm2mni_c1/smwc1DEP_T1_MPRAGE_SAG_ISO_0_9_0005_20151203172751.nii', '/VBM/DARTEL_norm2mni_c1/smwc1CON_T1_MPRAGE_SAG_ISO_0_9_0005_20160301111011.nii', '/VBM/DARTEL_norm2mni_c1/smwc1DEP_T1_MPRAGE_SAG_ISO_0_9_0005_20160218100702.nii'] 62\n",
      "['/VBM/DARTEL_norm2mni_c1/smwc1DEP_T1_MPRAGE_SAG_ISO_0_9_0005_20151216154455.nii', '/VBM/DARTEL_norm2mni_c1/smwc1DEP_T1_MPRAGE_SAG_ISO_0_9_0005_20151001173950.nii', '/VBM/DARTEL_norm2mni_c1/smwc1DEP_T1_MPRAGE_SAG_ISO_0_9_0005_20150929162030.nii', '/VBM/DARTEL_norm2mni_c1/smwc1DEP_T1_MPRAGE_SAG_ISO_0_9_0005_20151009111760.nii', '/VBM/DARTEL_norm2mni_c1/smwc1DEP_T1_MPRAGE_SAG_ISO_0_9_0005_20150219142148.nii', '/VBM/DARTEL_norm2mni_c1/smwc1DEP_T1_MPRAGE_SAG_ISO_0_9_0005_20141208163153.nii', '/VBM/DARTEL_norm2mni_c1/smwc1DEP_T1_MPRAGE_SAG_ISO_0_9_0005_20151001125857.nii', '/VBM/DARTEL_norm2mni_c1/smwc1DEP_T1_MPRAGE_SAG_ISO_0_9_0005_20150313125246.nii', '/VBM/DARTEL_norm2mni_c1/smwc1DEP_T1_MPRAGE_SAG_ISO_0_9_0005_20151015122011.nii', '/VBM/DARTEL_norm2mni_c1/smwc1DEP_T1_MPRAGE_SAG_ISO_0_9_0005_20150917120306.nii', '/VBM/DARTEL_norm2mni_c1/smwc1DEP_T1_MPRAGE_SAG_ISO_0_9_0005_20150310152650.nii', '/VBM/DARTEL_norm2mni_c1/smwc1DEP_T1_MPRAGE_SAG_ISO_0_9_0005_20160310171152.nii', '/VBM/DARTEL_norm2mni_c1/smwc1DEP_T1_MPRAGE_SAG_ISO_0_9_0005_20151214092109.nii', '/VBM/DARTEL_norm2mni_c1/smwc1DEP_T1_MPRAGE_SAG_ISO_0_9_0005_20141125153216.nii', '/VBM/DARTEL_norm2mni_c1/smwc1DEP_T1_MPRAGE_SAG_ISO_0_9_0005_20151105173027.nii', '/VBM/DARTEL_norm2mni_c1/smwc1DEP_T1_MPRAGE_SAG_ISO_0_9_0005_20151009164129.nii', '/VBM/DARTEL_norm2mni_c1/smwc1DEP_T1_MPRAGE_SAG_ISO_0_9_0005_20150924172133.nii', '/VBM/DARTEL_norm2mni_c1/smwc1DEP_T1_MPRAGE_SAG_ISO_0_9_0005_20150226154844.nii', '/VBM/DARTEL_norm2mni_c1/smwc1DEP_T1_MPRAGE_SAG_ISO_0_9_0005_20150326151309.nii', '/VBM/DARTEL_norm2mni_c1/smwc1DEP_T1_MPRAGE_SAG_ISO_0_9_0005_20151029121235.nii', '/VBM/DARTEL_norm2mni_c1/smwc1DEP_T1_MPRAGE_SAG_ISO_0_9_0005_20151116144126.nii', '/VBM/DARTEL_norm2mni_c1/smwc1DEP_T1_MPRAGE_SAG_ISO_0_9_0005_20151106125904.nii', '/VBM/DARTEL_norm2mni_c1/smwc1DEP_T1_MPRAGE_SAG_ISO_0_9_0005_20151013110112.nii', '/VBM/DARTEL_norm2mni_c1/smwc1DEP_T1_MPRAGE_SAG_ISO_0_9_0005_20151118152060.nii', '/VBM/DARTEL_norm2mni_c1/smwc1DEP_T1_MPRAGE_SAG_ISO_0_9_0005_20141119161708.nii', '/VBM/DARTEL_norm2mni_c1/smwc1DEP_T1_MPRAGE_SAG_ISO_0_9_0005_20150909125805.nii', '/VBM/DARTEL_norm2mni_c1/smwc1DEP_T1_MPRAGE_SAG_ISO_0_9_0005_20151202153410.nii', '/VBM/DARTEL_norm2mni_c1/smwc1DEP_T1_MPRAGE_SAG_ISO_0_9_0005_20150226091949.nii', '/VBM/DARTEL_norm2mni_c1/smwc1DEP_T1_MPRAGE_SAG_ISO_0_9_0005_20150218162601.nii', '/VBM/DARTEL_norm2mni_c1/smwc1DEP_T1_MPRAGE_SAG_ISO_0_9_0005_20151203172751.nii', '/VBM/DARTEL_norm2mni_c1/smwc1DEP_T1_MPRAGE_SAG_ISO_0_9_0005_20160218100702.nii'] 31\n",
      "['/VBM/DARTEL_norm2mni_c1/smwc1CON_T1_MPRAGE_SAG_ISO_0_9_0005_20160308162043.nii', '/VBM/DARTEL_norm2mni_c1/smwc1CON_T1_MPRAGE_SAG_ISO_0_9_0005_20160310090712.nii', '/VBM/DARTEL_norm2mni_c1/smwc1CON_T1_MPRAGE_SAG_ISO_0_9_0005_20141210170232.nii', '/VBM/DARTEL_norm2mni_c1/smwc1CON_T1_MPRAGE_SAG_ISO_0_9_0005_20150211171144.nii', '/VBM/DARTEL_norm2mni_c1/smwc1CON_T1_MPRAGE_SAG_ISO_0_9_0005_20160331140317.nii', '/VBM/DARTEL_norm2mni_c1/smwc1CON_T1_MPRAGE_SAG_ISO_0_9_0005_20141119091904.nii', '/VBM/DARTEL_norm2mni_c1/smwc1CON_T1_MPRAGE_SAG_ISO_0_9_0005_20141211155503.nii', '/VBM/DARTEL_norm2mni_c1/smwc1CON_T1_MPRAGE_SAG_ISO_0_9_0005_20160224151260.nii', '/VBM/DARTEL_norm2mni_c1/smwc1CON_T1_MPRAGE_SAG_ISO_0_9_0005_20151208115820.nii', '/VBM/DARTEL_norm2mni_c1/smwc1CON_T1_MPRAGE_SAG_ISO_0_9_0005_20141202164821.nii', '/VBM/DARTEL_norm2mni_c1/smwc1CON_T1_MPRAGE_SAG_ISO_0_9_0005_20141112155009.nii', '/VBM/DARTEL_norm2mni_c1/smwc1CON_T1_MPRAGE_SAG_ISO_0_9_0005_20151208140706.nii', '/VBM/DARTEL_norm2mni_c1/smwc1CON_T1_MPRAGE_SAG_ISO_0_9_0005_20150204145018.nii', '/VBM/DARTEL_norm2mni_c1/smwc1CON_T1_MPRAGE_SAG_ISO_0_9_0005_20141124150148.nii', '/VBM/DARTEL_norm2mni_c1/smwc1CON_T1_MPRAGE_SAG_ISO_0_9_0005_20160309173936.nii', '/VBM/DARTEL_norm2mni_c1/smwc1CON_T1_MPRAGE_SAG_ISO_0_9_0005_20160301164049.nii', '/VBM/DARTEL_norm2mni_c1/smwc1CON_T1_MPRAGE_SAG_ISO_0_9_0005_20141125093955.nii', '/VBM/DARTEL_norm2mni_c1/smwc1CON_T1_MPRAGE_SAG_ISO_0_9_0009_20151123115353.nii', '/VBM/DARTEL_norm2mni_c1/smwc1CON_T1_MPRAGE_SAG_ISO_0_9_0005_20141210090147.nii', '/VBM/DARTEL_norm2mni_c1/smwc1CON_T1_MPRAGE_SAG_ISO_0_9_0005_20141117154954.nii', '/VBM/DARTEL_norm2mni_c1/smwc1CON_T1_MPRAGE_SAG_ISO_0_9_0005_20141204151043.nii', '/VBM/DARTEL_norm2mni_c1/smwc1CON_T1_MPRAGE_SAG_ISO_0_9_0005_20141202145526.nii', '/VBM/DARTEL_norm2mni_c1/smwc1CON_T1_MPRAGE_SAG_ISO_0_9_0005_20160311133810.nii', '/VBM/DARTEL_norm2mni_c1/smwc1CON_T1_MPRAGE_SAG_ISO_0_9_0005_20151201165820.nii', '/VBM/DARTEL_norm2mni_c1/smwc1CON_T1_MPRAGE_SAG_ISO_0_9_0005_20141211095930.nii', '/VBM/DARTEL_norm2mni_c1/smwc1CON_T1_MPRAGE_SAG_ISO_0_9_0005_20141107104226.nii', '/VBM/DARTEL_norm2mni_c1/smwc1CON_T1_MPRAGE_SAG_ISO_0_9_0005_20160217151251.nii', '/VBM/DARTEL_norm2mni_c1/smwc1CON_T1_MPRAGE_SAG_ISO_0_9_0005_20141216144604.nii', '/VBM/DARTEL_norm2mni_c1/smwc1CON_T1_MPRAGE_SAG_ISO_0_9_0005_20150206123507.nii', '/VBM/DARTEL_norm2mni_c1/smwc1CON_T1_MPRAGE_SAG_ISO_0_9_0005_20141106153429.nii', '/VBM/DARTEL_norm2mni_c1/smwc1CON_T1_MPRAGE_SAG_ISO_0_9_0005_20160301111011.nii'] 31\n"
     ]
    }
   ],
   "source": [
    "# get normalised GM/WM images to analyse in MultipleRegression model\n",
    "# change norm_dir to vary between GM and WM analysis\n",
    "norm_dir=\"/VBM/DARTEL_norm2mni_c1/\"\n",
    "images_mreg=[]\n",
    "\n",
    "for i in os.listdir(norm_dir):\n",
    "    match=re.match(r'(smwc.*\\d{14,}.*.nii)', i)\n",
    "    if match:\n",
    "        images_mreg.append(os.path.join(norm_dir, match.group(0)))\n",
    "\n",
    "print(\"Images where normalised only if included in study specific template!\")\n",
    "print(images_mreg, len(images_mreg))\n",
    "\n",
    "# group them correctly\n",
    "dep_norm=[]\n",
    "con_norm=[]\n",
    "\n",
    "for i in images_mreg:\n",
    "    match_dep=re.match(r'.*DEP_.*.nii', i)\n",
    "    match_con=re.match(r'.*CON_.*.nii', i)\n",
    "    if match_dep:\n",
    "        dep_norm.append(match_dep.group(0))\n",
    "    elif match_con:\n",
    "        con_norm.append(match_con.group(0))\n",
    "    else:\n",
    "        print(\"item in images_mreg does not match regex pattern! Investigate ... \")\n",
    "    \n",
    "print(dep_norm, len(dep_norm))\n",
    "print(con_norm, len(con_norm))"
   ]
  },
  {
   "cell_type": "code",
   "execution_count": 44,
   "metadata": {},
   "outputs": [],
   "source": [
    "# calculate \"global values\" via nibabel objects: sum up the values and multiply by volume of each voxel\n",
    "# from: total volume GM, WM and CSF\n",
    "\n",
    "# find all the files starting with \"c1,c2,c3\" in all subdirs of the VBM directory via CommandLine interface from nipype\n",
    "c1_files=CommandLine('find', args='/VBM/FED* -maxdepth 2 -type f -name c1*.nii', terminal_output='allatonce')\n",
    "c1=c1_files.run()\n",
    "c2_files=CommandLine('find', args='/VBM/FED* -maxdepth 2 -type f -name c2*.nii', terminal_output='allatonce')\n",
    "c2=c2_files.run()\n",
    "c3_files=CommandLine('find', args='/VBM/FED* -maxdepth 2 -type f -name c3*.nii', terminal_output='allatonce')\n",
    "c3=c3_files.run()\n",
    "# read the output (find stdout) line by line to list object\n",
    "globals_GM=c1.runtime.stdout.splitlines()\n",
    "globals_WM=c2.runtime.stdout.splitlines()\n",
    "globals_CSF=c3.runtime.stdout.splitlines()\n",
    "# create nibabel objects from all files\n",
    "globals_GM_nb=[nb.load(i) for i in globals_GM]\n",
    "globals_WM_nb=[nb.load(i) for i in globals_WM]\n",
    "globals_CSF_nb=[nb.load(i) for i in globals_CSF]\n",
    "# create list with the func data via dataobj property (avoids caching entire object (.fdata()) but gets func data as well)\n",
    "globals_GM_fvals=[i.dataobj for i in globals_GM_nb]\n",
    "globals_WM_fvals=[i.dataobj for i in globals_WM_nb]\n",
    "globals_CSF_fvals=[i.dataobj for i in globals_CSF_nb]"
   ]
  },
  {
   "cell_type": "markdown",
   "metadata": {},
   "source": [
    "Testing Zone:"
   ]
  },
  {
   "cell_type": "code",
   "execution_count": 197,
   "metadata": {},
   "outputs": [
    {
     "name": "stdout",
     "output_type": "stream",
     "text": [
      "0.79101133\n"
     ]
    }
   ],
   "source": [
    "# test multiplication scheme\n",
    "#a=np.full((5,5,5,), 2.4567)\n",
    "#a[:, 0] = 0\n",
    "#b=np.full((5,5,5,), 2.4567)\n",
    "#b[:, :,0] = 0\n",
    "#c=np.full((5,5,5,), 2.4567)\n",
    "#c[:, :,-1] = 0\n",
    "#d=np.full((5,5,5,), 2.4567)\n",
    "#d[:, -1,:] = 0\n",
    "#e=a*b*c*d\n",
    "#print(e) # -> seems to work ok, also with float data"
   ]
  },
  {
   "cell_type": "code",
   "execution_count": 202,
   "metadata": {},
   "outputs": [
    {
     "name": "stdout",
     "output_type": "stream",
     "text": [
      "0.3378729847597221\n",
      "0.2672613602167821\n",
      "215391.54268726925\n",
      "93 72.93333764653653 [0.0509804  0.18039217 0.27058825 0.16078432 0.5921569  0.85882358\n",
      " 0.90980398 0.96078437 0.96862751 0.97254908 0.97254908 0.97254908\n",
      " 0.95294123 0.92941182 0.98823535 0.99607849 1.00000006 1.00000006\n",
      " 1.00000006 1.00000006 1.00000006 1.00000006 1.00000006 1.00000006\n",
      " 0.92941182 0.02745098 0.0509804  0.54901964 1.00000006 1.00000006\n",
      " 1.00000006 1.00000006 1.00000006 1.00000006 1.00000006 1.00000006\n",
      " 1.00000006 1.00000006 1.00000006 1.00000006 1.00000006 1.00000006\n",
      " 1.00000006 1.00000006 0.86666672 0.37254904 0.02352941 0.24313727\n",
      " 0.80392162 0.83529417 0.00392157 0.00392157 0.8941177  1.00000006\n",
      " 1.00000006 1.00000006 0.22352942 0.45882356 0.85882358 1.00000006\n",
      " 1.00000006 1.00000006 0.94117653 0.52549023 0.14901962 0.10196079\n",
      " 0.14117648 0.15686275 0.8941177  1.00000006 1.00000006 1.00000006\n",
      " 1.00000006 0.92549025 1.00000006 1.00000006 1.00000006 1.00000006\n",
      " 1.00000006 0.91372554 0.85098044 0.7803922  0.69019612 0.80392162\n",
      " 0.63921572 0.98823535 0.99215692 0.98823535 0.96862751 0.92941182\n",
      " 0.80392162 0.57254905 0.29411766]\n"
     ]
    }
   ],
   "source": [
    "# 0 values outside the brain in each volume -> 0 vals overbias and make globals smaller\n",
    "# c1,2,3 also are not normalised -> different positions for different subjects\n",
    "# -> take all c images and calculate below values for all substances ;)\n",
    "\n",
    "\n",
    "print(np.sum(globals_CSF_fvals[0][:,:,:][globals_CSF_fvals[0][:,:,:] != 0])\n",
    "      / np.size(globals_CSF_fvals[0][:,:,:][globals_CSF_fvals[0][:,:,:] != 0]))\n",
    "\n",
    "print((np.sum(globals_CSF_fvals[0][:,:,:][globals_CSF_fvals[0][:,:,:] != 0])\n",
    "      * np.product(globals_CSF_nb[0].header['pixdim'][1:4]))\n",
    "      / np.size(globals_CSF_fvals[0][:,:,:][globals_CSF_fvals[0][:,:,:] != 0]))\n",
    "\n",
    "print((np.sum(globals_CSF_fvals[0][:,:,:][globals_CSF_fvals[0][:,:,:] != 0])\n",
    "      * np.product(globals_CSF_nb[0].header['pixdim'][1:4])))\n",
    "\n",
    "# for good overview\n",
    "print(np.size(globals_CSF_fvals[0][96,128,:][globals_CSF_fvals[0][96,128,:] != 0]),\n",
    "      np.sum(globals_CSF_fvals[0][96,128,:][globals_CSF_fvals[0][96,128,:] != 0]),\n",
    "      globals_CSF_fvals[0][96,128,:][globals_CSF_fvals[0][96,128,:] != 0])"
   ]
  },
  {
   "cell_type": "code",
   "execution_count": 46,
   "metadata": {
    "collapsed": true,
    "jupyter": {
     "outputs_hidden": true,
     "source_hidden": true
    }
   },
   "outputs": [
    {
     "name": "stdout",
     "output_type": "stream",
     "text": [
      "size of item [<nibabel.nifti1.Nifti1Image object at 0x7f6782eba910>, <nibabel.nifti1.Nifti1Image object at 0x7f6785c21810>, <nibabel.nifti1.Nifti1Image object at 0x7f6782c8d810>, <nibabel.nifti1.Nifti1Image object at 0x7f6782c8de90>, <nibabel.nifti1.Nifti1Image object at 0x7f6782c8d410>, <nibabel.nifti1.Nifti1Image object at 0x7f6782c8df90>, <nibabel.nifti1.Nifti1Image object at 0x7f6782c8d710>, <nibabel.nifti1.Nifti1Image object at 0x7f6782c8d850>, <nibabel.nifti1.Nifti1Image object at 0x7f6782ca3ed0>, <nibabel.nifti1.Nifti1Image object at 0x7f6782ca3550>, <nibabel.nifti1.Nifti1Image object at 0x7f6782ca3290>, <nibabel.nifti1.Nifti1Image object at 0x7f6782ca38d0>, <nibabel.nifti1.Nifti1Image object at 0x7f6782ca3a50>, <nibabel.nifti1.Nifti1Image object at 0x7f6782ca3c50>, <nibabel.nifti1.Nifti1Image object at 0x7f6782ca3790>, <nibabel.nifti1.Nifti1Image object at 0x7f6782ca30d0>, <nibabel.nifti1.Nifti1Image object at 0x7f6782ca7890>, <nibabel.nifti1.Nifti1Image object at 0x7f6782ca7bd0>, <nibabel.nifti1.Nifti1Image object at 0x7f6782ca7390>, <nibabel.nifti1.Nifti1Image object at 0x7f6782ca7fd0>, <nibabel.nifti1.Nifti1Image object at 0x7f6782ca7c90>, <nibabel.nifti1.Nifti1Image object at 0x7f6782ca7190>, <nibabel.nifti1.Nifti1Image object at 0x7f6782ca7710>, <nibabel.nifti1.Nifti1Image object at 0x7f6782ca7cd0>, <nibabel.nifti1.Nifti1Image object at 0x7f6782ca7790>, <nibabel.nifti1.Nifti1Image object at 0x7f6782df4990>, <nibabel.nifti1.Nifti1Image object at 0x7f6782df4490>, <nibabel.nifti1.Nifti1Image object at 0x7f6782df41d0>, <nibabel.nifti1.Nifti1Image object at 0x7f6782df4dd0>, <nibabel.nifti1.Nifti1Image object at 0x7f6782df4710>, <nibabel.nifti1.Nifti1Image object at 0x7f6782df4e50>, <nibabel.nifti1.Nifti1Image object at 0x7f6782eab610>, <nibabel.nifti1.Nifti1Image object at 0x7f6782eab490>, <nibabel.nifti1.Nifti1Image object at 0x7f6782eab9d0>, <nibabel.nifti1.Nifti1Image object at 0x7f6782eab310>, <nibabel.nifti1.Nifti1Image object at 0x7f6782eab450>, <nibabel.nifti1.Nifti1Image object at 0x7f6782eabe50>, <nibabel.nifti1.Nifti1Image object at 0x7f6782eaba10>, <nibabel.nifti1.Nifti1Image object at 0x7f6782eaba90>, <nibabel.nifti1.Nifti1Image object at 0x7f6782ebf190>, <nibabel.nifti1.Nifti1Image object at 0x7f6782ebfe50>, <nibabel.nifti1.Nifti1Image object at 0x7f6782ebf490>, <nibabel.nifti1.Nifti1Image object at 0x7f6782ebfd10>, <nibabel.nifti1.Nifti1Image object at 0x7f6782ebf390>, <nibabel.nifti1.Nifti1Image object at 0x7f6782ebfad0>, <nibabel.nifti1.Nifti1Image object at 0x7f6782ebf590>, <nibabel.nifti1.Nifti1Image object at 0x7f6782ebff10>, <nibabel.nifti1.Nifti1Image object at 0x7f6782ebf8d0>, <nibabel.nifti1.Nifti1Image object at 0x7f6782e2d750>, <nibabel.nifti1.Nifti1Image object at 0x7f6782e2d6d0>, <nibabel.nifti1.Nifti1Image object at 0x7f6782e2da90>, <nibabel.nifti1.Nifti1Image object at 0x7f6782e2dc90>, <nibabel.nifti1.Nifti1Image object at 0x7f6782e2d910>, <nibabel.nifti1.Nifti1Image object at 0x7f6782e2dad0>, <nibabel.nifti1.Nifti1Image object at 0x7f6782e2d810>, <nibabel.nifti1.Nifti1Image object at 0x7f6782e2d3d0>, <nibabel.nifti1.Nifti1Image object at 0x7f6782e2d0d0>, <nibabel.nifti1.Nifti1Image object at 0x7f6782e40550>, <nibabel.nifti1.Nifti1Image object at 0x7f6782e409d0>, <nibabel.nifti1.Nifti1Image object at 0x7f6782e406d0>, <nibabel.nifti1.Nifti1Image object at 0x7f6782e407d0>, <nibabel.nifti1.Nifti1Image object at 0x7f6782e40990>, <nibabel.nifti1.Nifti1Image object at 0x7f6782e40a10>] is: 648\n",
      "retained, object is sufficiently small.\n",
      "size of item [<nibabel.nifti1.Nifti1Image object at 0x7f6782e40810>, <nibabel.nifti1.Nifti1Image object at 0x7f6782e40150>, <nibabel.nifti1.Nifti1Image object at 0x7f6782e25750>, <nibabel.nifti1.Nifti1Image object at 0x7f6782e25410>, <nibabel.nifti1.Nifti1Image object at 0x7f6782e25810>, <nibabel.nifti1.Nifti1Image object at 0x7f6782e25b90>, <nibabel.nifti1.Nifti1Image object at 0x7f6782e25e90>, <nibabel.nifti1.Nifti1Image object at 0x7f6782e25690>, <nibabel.nifti1.Nifti1Image object at 0x7f6782e25790>, <nibabel.nifti1.Nifti1Image object at 0x7f6782e25a10>, <nibabel.nifti1.Nifti1Image object at 0x7f6782e25b50>, <nibabel.nifti1.Nifti1Image object at 0x7f6782dff1d0>, <nibabel.nifti1.Nifti1Image object at 0x7f6782dffc10>, <nibabel.nifti1.Nifti1Image object at 0x7f6782dff510>, <nibabel.nifti1.Nifti1Image object at 0x7f6782dff2d0>, <nibabel.nifti1.Nifti1Image object at 0x7f6782dffed0>, <nibabel.nifti1.Nifti1Image object at 0x7f6782dffdd0>, <nibabel.nifti1.Nifti1Image object at 0x7f6782dffc90>, <nibabel.nifti1.Nifti1Image object at 0x7f6782dff410>, <nibabel.nifti1.Nifti1Image object at 0x7f6782dff0d0>, <nibabel.nifti1.Nifti1Image object at 0x7f6782e05b50>, <nibabel.nifti1.Nifti1Image object at 0x7f6782e05650>, <nibabel.nifti1.Nifti1Image object at 0x7f6782e05990>, <nibabel.nifti1.Nifti1Image object at 0x7f6782e05810>, <nibabel.nifti1.Nifti1Image object at 0x7f6782e05610>, <nibabel.nifti1.Nifti1Image object at 0x7f6782e05f90>, <nibabel.nifti1.Nifti1Image object at 0x7f6782e05fd0>, <nibabel.nifti1.Nifti1Image object at 0x7f6782e05690>, <nibabel.nifti1.Nifti1Image object at 0x7f678461ef90>, <nibabel.nifti1.Nifti1Image object at 0x7f678461ee10>, <nibabel.nifti1.Nifti1Image object at 0x7f6783383b50>, <nibabel.nifti1.Nifti1Image object at 0x7f6783383b10>, <nibabel.nifti1.Nifti1Image object at 0x7f67845214d0>, <nibabel.nifti1.Nifti1Image object at 0x7f6782d28910>, <nibabel.nifti1.Nifti1Image object at 0x7f6782d28990>, <nibabel.nifti1.Nifti1Image object at 0x7f6782d28790>, <nibabel.nifti1.Nifti1Image object at 0x7f6782d28ed0>, <nibabel.nifti1.Nifti1Image object at 0x7f6782d28e90>, <nibabel.nifti1.Nifti1Image object at 0x7f6782d28b10>, <nibabel.nifti1.Nifti1Image object at 0x7f6782d287d0>, <nibabel.nifti1.Nifti1Image object at 0x7f6782d28150>, <nibabel.nifti1.Nifti1Image object at 0x7f6782baa410>, <nibabel.nifti1.Nifti1Image object at 0x7f6782baa910>, <nibabel.nifti1.Nifti1Image object at 0x7f6782baa0d0>, <nibabel.nifti1.Nifti1Image object at 0x7f6782baa850>, <nibabel.nifti1.Nifti1Image object at 0x7f6782baa8d0>, <nibabel.nifti1.Nifti1Image object at 0x7f6782baa610>, <nibabel.nifti1.Nifti1Image object at 0x7f6782baa810>, <nibabel.nifti1.Nifti1Image object at 0x7f6782baa590>, <nibabel.nifti1.Nifti1Image object at 0x7f6782bc1ad0>, <nibabel.nifti1.Nifti1Image object at 0x7f6782bc1210>, <nibabel.nifti1.Nifti1Image object at 0x7f6782bc1690>, <nibabel.nifti1.Nifti1Image object at 0x7f6782bc1e50>, <nibabel.nifti1.Nifti1Image object at 0x7f6782bc1ed0>, <nibabel.nifti1.Nifti1Image object at 0x7f6782bc15d0>, <nibabel.nifti1.Nifti1Image object at 0x7f6782bc1a10>, <nibabel.nifti1.Nifti1Image object at 0x7f6782bc1a90>, <nibabel.nifti1.Nifti1Image object at 0x7f6784514e90>, <nibabel.nifti1.Nifti1Image object at 0x7f6784514450>, <nibabel.nifti1.Nifti1Image object at 0x7f6784514210>, <nibabel.nifti1.Nifti1Image object at 0x7f6782d74210>, <nibabel.nifti1.Nifti1Image object at 0x7f6782d74b10>, <nibabel.nifti1.Nifti1Image object at 0x7f6782d74bd0>] is: 648\n",
      "retained, object is sufficiently small.\n",
      "size of item [<nibabel.nifti1.Nifti1Image object at 0x7f6782d74f90>, <nibabel.nifti1.Nifti1Image object at 0x7f6782d74490>, <nibabel.nifti1.Nifti1Image object at 0x7f6782d74790>, <nibabel.nifti1.Nifti1Image object at 0x7f6782d74710>, <nibabel.nifti1.Nifti1Image object at 0x7f6782d74d90>, <nibabel.nifti1.Nifti1Image object at 0x7f6782d74390>, <nibabel.nifti1.Nifti1Image object at 0x7f6782b11610>, <nibabel.nifti1.Nifti1Image object at 0x7f6782b11f90>, <nibabel.nifti1.Nifti1Image object at 0x7f6782b11ad0>, <nibabel.nifti1.Nifti1Image object at 0x7f6782b11f10>, <nibabel.nifti1.Nifti1Image object at 0x7f6782b117d0>, <nibabel.nifti1.Nifti1Image object at 0x7f6782b11810>, <nibabel.nifti1.Nifti1Image object at 0x7f6782b113d0>, <nibabel.nifti1.Nifti1Image object at 0x7f6782b11990>, <nibabel.nifti1.Nifti1Image object at 0x7f6782b11d10>, <nibabel.nifti1.Nifti1Image object at 0x7f678345e110>, <nibabel.nifti1.Nifti1Image object at 0x7f678345ecd0>, <nibabel.nifti1.Nifti1Image object at 0x7f678345e6d0>, <nibabel.nifti1.Nifti1Image object at 0x7f678345edd0>, <nibabel.nifti1.Nifti1Image object at 0x7f678345e190>, <nibabel.nifti1.Nifti1Image object at 0x7f678345e250>, <nibabel.nifti1.Nifti1Image object at 0x7f678345e290>, <nibabel.nifti1.Nifti1Image object at 0x7f678345e690>, <nibabel.nifti1.Nifti1Image object at 0x7f6782b27fd0>, <nibabel.nifti1.Nifti1Image object at 0x7f6782b27b90>, <nibabel.nifti1.Nifti1Image object at 0x7f6782b27610>, <nibabel.nifti1.Nifti1Image object at 0x7f6782b27ad0>, <nibabel.nifti1.Nifti1Image object at 0x7f6782b27710>, <nibabel.nifti1.Nifti1Image object at 0x7f6782b27250>, <nibabel.nifti1.Nifti1Image object at 0x7f6782b27290>, <nibabel.nifti1.Nifti1Image object at 0x7f6782b27c10>, <nibabel.nifti1.Nifti1Image object at 0x7f6782b273d0>, <nibabel.nifti1.Nifti1Image object at 0x7f6782cfe090>, <nibabel.nifti1.Nifti1Image object at 0x7f6784c02810>, <nibabel.nifti1.Nifti1Image object at 0x7f6782c20c90>, <nibabel.nifti1.Nifti1Image object at 0x7f6782c20c50>, <nibabel.nifti1.Nifti1Image object at 0x7f6782c20f10>, <nibabel.nifti1.Nifti1Image object at 0x7f6782c20610>, <nibabel.nifti1.Nifti1Image object at 0x7f6782c20050>, <nibabel.nifti1.Nifti1Image object at 0x7f6782c20210>, <nibabel.nifti1.Nifti1Image object at 0x7f6782c20510>, <nibabel.nifti1.Nifti1Image object at 0x7f6782c20790>, <nibabel.nifti1.Nifti1Image object at 0x7f6782c20fd0>, <nibabel.nifti1.Nifti1Image object at 0x7f6782c20890>, <nibabel.nifti1.Nifti1Image object at 0x7f6782d9dc50>, <nibabel.nifti1.Nifti1Image object at 0x7f6782d9d2d0>, <nibabel.nifti1.Nifti1Image object at 0x7f6782c2b890>, <nibabel.nifti1.Nifti1Image object at 0x7f6782c2b790>, <nibabel.nifti1.Nifti1Image object at 0x7f6782c2b350>, <nibabel.nifti1.Nifti1Image object at 0x7f6782c2b810>, <nibabel.nifti1.Nifti1Image object at 0x7f6782c2bc10>, <nibabel.nifti1.Nifti1Image object at 0x7f6782c2bf50>, <nibabel.nifti1.Nifti1Image object at 0x7f6782c2bcd0>, <nibabel.nifti1.Nifti1Image object at 0x7f6782c2bdd0>, <nibabel.nifti1.Nifti1Image object at 0x7f6782c2bc50>, <nibabel.nifti1.Nifti1Image object at 0x7f6782ac02d0>, <nibabel.nifti1.Nifti1Image object at 0x7f6782ac0210>, <nibabel.nifti1.Nifti1Image object at 0x7f6782ac0290>, <nibabel.nifti1.Nifti1Image object at 0x7f6782ac06d0>, <nibabel.nifti1.Nifti1Image object at 0x7f6782ac08d0>, <nibabel.nifti1.Nifti1Image object at 0x7f6782ac0a90>, <nibabel.nifti1.Nifti1Image object at 0x7f6782ac0c50>, <nibabel.nifti1.Nifti1Image object at 0x7f6782ac0e50>] is: 648\n",
      "retained, object is sufficiently small.\n",
      "size of item <nipype.interfaces.base.support.InterfaceResult object at 0x7f67844fddd0> is: 64\n",
      "retained, object is sufficiently small.\n",
      "size of item <nipype.interfaces.base.support.InterfaceResult object at 0x7f6782eba450> is: 64\n",
      "retained, object is sufficiently small.\n",
      "size of item <nipype.interfaces.base.support.InterfaceResult object at 0x7f6784ed6290> is: 64\n",
      "retained, object is sufficiently small.\n"
     ]
    }
   ],
   "source": [
    "# check size of items and delete them when above a certain threshold\n",
    "from sys import getsizeof # function is not fully indicative -> look for better option\n",
    "items=[globals_GM_nb,globals_WM_nb,globals_CSF_nb,c1,c2,c3]\n",
    "for i in items:\n",
    "    # return size of object in bytes\n",
    "    print(\"size of item\", i, \"is:\", getsizeof(i))\n",
    "    if getsizeof(i) > 10000: # think about dynamic coding fro this\n",
    "        del i\n",
    "        print(\"deleted, object exceeded set threshold.\")\n",
    "    else:\n",
    "        print(\"retained, object is sufficiently small.\")"
   ]
  },
  {
   "cell_type": "code",
   "execution_count": 10,
   "metadata": {},
   "outputs": [
    {
     "data": {
      "text/plain": [
       "Text(0.5, 0.98, 'Centre slice for c1 struct image')"
      ]
     },
     "execution_count": 10,
     "metadata": {},
     "output_type": "execute_result"
    },
    {
     "data": {
      "image/png": "[encoded data removed]",
      "text/plain": [
       "<Figure size 432x288 with 3 Axes>"
      ]
     },
     "metadata": {
      "needs_background": "light"
     },
     "output_type": "display_data"
    }
   ],
   "source": [
    "show_slices([globals_nbfvals[25][96,:,:],globals_nbfvals[25][:,128,:],globals_nbfvals[25][:,:,128]])\n",
    "plt.suptitle(\"Centre slice for c1 struct image\")"
   ]
  },
  {
   "cell_type": "code",
   "execution_count": null,
   "metadata": {},
   "outputs": [],
   "source": [
    "# create multiple regression Node\n",
    "mreg=Node(spm.MultipleRegressionDesign(), name=\"MultipleRegression\")\n",
    "mreg.inputs.in_files=\n",
    "mreg.inputs.global_calc_values=\n",
    "# use proportional global normalization\n",
    "mreg.inputs.global_normalization=2\n",
    "mreg.inputs.threshold_mask_absolute=\n",
    "# think of mask image to threshold\n",
    "#mreg.inputs.explicit_mask_file=\n",
    "mreg.inputs.covariates=\n",
    "results=mreg.run()\n",
    "print(results.outputs)"
   ]
  },
  {
   "cell_type": "code",
   "execution_count": null,
   "metadata": {},
   "outputs": [],
   "source": []
  }
 ],
 "metadata": {
  "kernelspec": {
   "display_name": "Python [conda env:neuro] *",
   "language": "python",
   "name": "conda-env-neuro-py"
  },
  "language_info": {
   "codemirror_mode": {
    "name": "ipython",
    "version": 3
   },
   "file_extension": ".py",
   "mimetype": "text/x-python",
   "name": "python",
   "nbconvert_exporter": "python",
   "pygments_lexer": "ipython3",
   "version": "3.7.6"
  }
 },
 "nbformat": 4,
 "nbformat_minor": 4
}
