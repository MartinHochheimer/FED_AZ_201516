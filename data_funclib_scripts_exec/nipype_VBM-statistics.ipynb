{
 "cells": [
  {
   "cell_type": "code",
   "execution_count": 1,
   "metadata": {},
   "outputs": [
    {
     "name": "stdout",
     "output_type": "stream",
     "text": [
      "200220-14:48:56,84 nipype.utils INFO:\n",
      "\t Running nipype version 1.5.0-dev (latest: 1.4.2)\n"
     ]
    }
   ],
   "source": [
    "# import everything you need\n",
    "from nipype import Node, Workflow\n",
    "import nipype.interfaces.spm as spm\n",
    "from nipype.interfaces.base import CommandLine\n",
    "from nilearn import image as nlimg\n",
    "from nilearn import masking as nlmask\n",
    "from nilearn.plotting import plot_anat, plot_epi, plot_roi\n",
    "import numpy as np\n",
    "import matplotlib.pyplot as plt\n",
    "import pandas as pd\n",
    "import nibabel as nb\n",
    "import os, re\n",
    "from itertools import zip_longest"
   ]
  },
  {
   "cell_type": "markdown",
   "metadata": {},
   "source": [
    "Gather necessary pre-requisites:"
   ]
  },
  {
   "cell_type": "code",
   "execution_count": 2,
   "metadata": {},
   "outputs": [],
   "source": [
    "# define useful functions\n",
    "# define show-slices function\n",
    "def show_slices(slices):\n",
    "    \"\"\" Function to display row of image slices \"\"\"\n",
    "    fig, axes = plt.subplots(1, len(slices))\n",
    "    for i, slice in enumerate(slices):\n",
    "        axes[i].imshow(slice.T, cmap=\"gray\", origin=\"lower\")\n",
    "# add suptitle via plt.suptitle\n",
    "        \n",
    "# check size of items and delete them when above a certain threshold\n",
    "from sys import getsizeof # function is not fully indicative -> look for better option\n",
    "def check_itemsize(items):\n",
    "    for i in items:\n",
    "        # return size of object in bytes\n",
    "        print(\"size of item\", i, \"is:\", getsizeof(i))\n",
    "        if getsizeof(i) > 10000: # think about dynamic coding for this\n",
    "            del i\n",
    "            print(\"deleted, object exceeded set threshold.\")\n",
    "        else:\n",
    "            print(\"retained, object is sufficiently small.\")"
   ]
  },
  {
   "cell_type": "code",
   "execution_count": 3,
   "metadata": {},
   "outputs": [],
   "source": [
    "# calculate \"global values\" via nibabel objects: sum up the values and multiply by volume of each voxel\n",
    "# from: total volume GM, WM and CSF\n",
    "\n",
    "# find all the files starting with \"c1,c2,c3\" in all subdirs of the VBM directory via CommandLine interface from nipype\n",
    "c1_files=CommandLine('find', args='/VBM/FED* -maxdepth 2 -type f -name c1*.nii', terminal_output='allatonce')\n",
    "c1=c1_files.run()\n",
    "c2_files=CommandLine('find', args='/VBM/FED* -maxdepth 2 -type f -name c2*.nii', terminal_output='allatonce')\n",
    "c2=c2_files.run()\n",
    "c3_files=CommandLine('find', args='/VBM/FED* -maxdepth 2 -type f -name c3*.nii', terminal_output='allatonce')\n",
    "c3=c3_files.run()\n",
    "\n",
    "# read the output (find stdout) line by line to list object\n",
    "globals_GM=c1.runtime.stdout.splitlines()\n",
    "globals_WM=c2.runtime.stdout.splitlines()\n",
    "globals_CSF=c3.runtime.stdout.splitlines()\n",
    "\n",
    "# remove subject 56 from lists(-> was not normalised or in template)\n",
    "globals_GM=[i for i in globals_GM if i.rsplit('/',3)[1] != \"FED056\"]\n",
    "globals_WM=[i for i in globals_WM if i.rsplit('/',3)[1] != \"FED056\"]\n",
    "globals_CSF=[i for i in globals_CSF if i.rsplit('/',3)[1] != \"FED056\"]\n",
    "\n",
    "# create nibabel objects from all files\n",
    "globals_GM_nb=[nb.load(i) for i in globals_GM]\n",
    "globals_WM_nb=[nb.load(i) for i in globals_WM]\n",
    "globals_CSF_nb=[nb.load(i) for i in globals_CSF]\n",
    "\n",
    "# create list with the func data via dataobj property (avoids caching entire object (.fdata()) but gets func data as well)\n",
    "globals_GM_fvals=[i.dataobj for i in globals_GM_nb]\n",
    "globals_WM_fvals=[i.dataobj for i in globals_WM_nb]\n",
    "globals_CSF_fvals=[i.dataobj for i in globals_CSF_nb]"
   ]
  },
  {
   "cell_type": "code",
   "execution_count": 4,
   "metadata": {
    "collapsed": true,
    "jupyter": {
     "outputs_hidden": true
    }
   },
   "outputs": [
    {
     "name": "stdout",
     "output_type": "stream",
     "text": [
      "['/VBM/FED006/DARTEL_newsegment/c1CON_T1_MPRAGE_SAG_ISO_0_9_0005_20141106153429.nii', '/VBM/FED007/DARTEL_newsegment/c1CON_T1_MPRAGE_SAG_ISO_0_9_0005_20141107104226.nii', '/VBM/FED008/DARTEL_newsegment/c1CON_T1_MPRAGE_SAG_ISO_0_9_0005_20141112155009.nii', '/VBM/FED009/DARTEL_newsegment/c1CON_T1_MPRAGE_SAG_ISO_0_9_0005_20141117154954.nii', '/VBM/FED010/DARTEL_newsegment/c1CON_T1_MPRAGE_SAG_ISO_0_9_0005_20141119091904.nii', '/VBM/FED011/DARTEL_newsegment/c1DEP_T1_MPRAGE_SAG_ISO_0_9_0005_20141119161708.nii', '/VBM/FED012/DARTEL_newsegment/c1CON_T1_MPRAGE_SAG_ISO_0_9_0005_20141124150148.nii', '/VBM/FED013/DARTEL_newsegment/c1CON_T1_MPRAGE_SAG_ISO_0_9_0005_20141125093955.nii', '/VBM/FED014/DARTEL_newsegment/c1DEP_T1_MPRAGE_SAG_ISO_0_9_0005_20141125153216.nii', '/VBM/FED015/DARTEL_newsegment/c1CON_T1_MPRAGE_SAG_ISO_0_9_0005_20141202145526.nii', '/VBM/FED016/DARTEL_newsegment/c1CON_T1_MPRAGE_SAG_ISO_0_9_0005_20141202164821.nii', '/VBM/FED017/DARTEL_newsegment/c1CON_T1_MPRAGE_SAG_ISO_0_9_0005_20141204151043.nii', '/VBM/FED018/DARTEL_newsegment/c1DEP_T1_MPRAGE_SAG_ISO_0_9_0005_20141208163153.nii', '/VBM/FED019/DARTEL_newsegment/c1CON_T1_MPRAGE_SAG_ISO_0_9_0005_20141210090147.nii', '/VBM/FED020/DARTEL_newsegment/c1CON_T1_MPRAGE_SAG_ISO_0_9_0005_20141210170232.nii', '/VBM/FED021/DARTEL_newsegment/c1CON_T1_MPRAGE_SAG_ISO_0_9_0005_20141211095930.nii', '/VBM/FED022/DARTEL_newsegment/c1CON_T1_MPRAGE_SAG_ISO_0_9_0005_20141211155503.nii', '/VBM/FED023/DARTEL_newsegment/c1CON_T1_MPRAGE_SAG_ISO_0_9_0005_20141216144604.nii', '/VBM/FED024/DARTEL_newsegment/c1CON_T1_MPRAGE_SAG_ISO_0_9_0005_20150204145018.nii', '/VBM/FED025/DARTEL_newsegment/c1CON_T1_MPRAGE_SAG_ISO_0_9_0005_20150206123507.nii', '/VBM/FED026/DARTEL_newsegment/c1CON_T1_MPRAGE_SAG_ISO_0_9_0005_20150211171144.nii', '/VBM/FED027/DARTEL_newsegment/c1DEP_T1_MPRAGE_SAG_ISO_0_9_0005_20150218162601.nii', '/VBM/FED028/DARTEL_newsegment/c1DEP_T1_MPRAGE_SAG_ISO_0_9_0005_20150219142148.nii', '/VBM/FED029/DARTEL_newsegment/c1DEP_T1_MPRAGE_SAG_ISO_0_9_0005_20150226091949.nii', '/VBM/FED030/DARTEL_newsegment/c1DEP_T1_MPRAGE_SAG_ISO_0_9_0005_20150226154844.nii', '/VBM/FED031/DARTEL_newsegment/c1DEP_T1_MPRAGE_SAG_ISO_0_9_0005_20150310152650.nii', '/VBM/FED032/DARTEL_newsegment/c1DEP_T1_MPRAGE_SAG_ISO_0_9_0005_20150313125246.nii', '/VBM/FED033/DARTEL_newsegment/c1DEP_T1_MPRAGE_SAG_ISO_0_9_0005_20150326151309.nii', '/VBM/FED034/DARTEL_newsegment/c1DEP_T1_MPRAGE_SAG_ISO_0_9_0005_20150909125805.nii', '/VBM/FED035/DARTEL_newsegment/c1DEP_T1_MPRAGE_SAG_ISO_0_9_0005_20150917120306.nii', '/VBM/FED036/DARTEL_newsegment/c1DEP_T1_MPRAGE_SAG_ISO_0_9_0005_20150924172133.nii', '/VBM/FED037/DARTEL_newsegment/c1DEP_T1_MPRAGE_SAG_ISO_0_9_0005_20150929162030.nii', '/VBM/FED038/DARTEL_newsegment/c1DEP_T1_MPRAGE_SAG_ISO_0_9_0005_20151001125857.nii', '/VBM/FED039/DARTEL_newsegment/c1DEP_T1_MPRAGE_SAG_ISO_0_9_0005_20151001173950.nii', '/VBM/FED040/DARTEL_newsegment/c1DEP_T1_MPRAGE_SAG_ISO_0_9_0005_20151009111760.nii', '/VBM/FED041/DARTEL_newsegment/c1DEP_T1_MPRAGE_SAG_ISO_0_9_0005_20151009164129.nii', '/VBM/FED042/DARTEL_newsegment/c1DEP_T1_MPRAGE_SAG_ISO_0_9_0005_20151013110112.nii', '/VBM/FED043/DARTEL_newsegment/c1DEP_T1_MPRAGE_SAG_ISO_0_9_0005_20151015122011.nii', '/VBM/FED044/DARTEL_newsegment/c1DEP_T1_MPRAGE_SAG_ISO_0_9_0005_20151029121235.nii', '/VBM/FED045/DARTEL_newsegment/c1DEP_T1_MPRAGE_SAG_ISO_0_9_0005_20151105173027.nii', '/VBM/FED046/DARTEL_newsegment/c1DEP_T1_MPRAGE_SAG_ISO_0_9_0005_20151106125904.nii', '/VBM/FED047/DARTEL_newsegment/c1DEP_T1_MPRAGE_SAG_ISO_0_9_0005_20151116144126.nii', '/VBM/FED048/DARTEL_newsegment/c1DEP_T1_MPRAGE_SAG_ISO_0_9_0005_20151118152060.nii', '/VBM/FED049/DARTEL_newsegment/c1CON_T1_MPRAGE_SAG_ISO_0_9_0009_20151123115353.nii', '/VBM/FED050/DARTEL_newsegment/c1CON_T1_MPRAGE_SAG_ISO_0_9_0005_20151201165820.nii', '/VBM/FED051/DARTEL_newsegment/c1DEP_T1_MPRAGE_SAG_ISO_0_9_0005_20151202153410.nii', '/VBM/FED052/DARTEL_newsegment/c1DEP_T1_MPRAGE_SAG_ISO_0_9_0005_20151203172751.nii', '/VBM/FED053/DARTEL_newsegment/c1CON_T1_MPRAGE_SAG_ISO_0_9_0005_20151208115820.nii', '/VBM/FED054/DARTEL_newsegment/c1CON_T1_MPRAGE_SAG_ISO_0_9_0005_20151208140706.nii', '/VBM/FED055/DARTEL_newsegment/c1DEP_T1_MPRAGE_SAG_ISO_0_9_0005_20151214092109.nii', '/VBM/FED057/DARTEL_newsegment/c1DEP_T1_MPRAGE_SAG_ISO_0_9_0005_20151216154455.nii', '/VBM/FED058/DARTEL_newsegment/c1CON_T1_MPRAGE_SAG_ISO_0_9_0005_20160217151251.nii', '/VBM/FED059/DARTEL_newsegment/c1DEP_T1_MPRAGE_SAG_ISO_0_9_0005_20160218100702.nii', '/VBM/FED060/DARTEL_newsegment/c1CON_T1_MPRAGE_SAG_ISO_0_9_0005_20160224151260.nii', '/VBM/FED061/DARTEL_newsegment/c1CON_T1_MPRAGE_SAG_ISO_0_9_0005_20160301111011.nii', '/VBM/FED062/DARTEL_newsegment/c1CON_T1_MPRAGE_SAG_ISO_0_9_0005_20160301164049.nii', '/VBM/FED063/DARTEL_newsegment/c1CON_T1_MPRAGE_SAG_ISO_0_9_0005_20160308162043.nii', '/VBM/FED064/DARTEL_newsegment/c1CON_T1_MPRAGE_SAG_ISO_0_9_0005_20160309173936.nii', '/VBM/FED065/DARTEL_newsegment/c1CON_T1_MPRAGE_SAG_ISO_0_9_0005_20160310090712.nii', '/VBM/FED066/DARTEL_newsegment/c1DEP_T1_MPRAGE_SAG_ISO_0_9_0005_20160310171152.nii', '/VBM/FED067/DARTEL_newsegment/c1CON_T1_MPRAGE_SAG_ISO_0_9_0005_20160311133810.nii', '/VBM/FED068/DARTEL_newsegment/c1CON_T1_MPRAGE_SAG_ISO_0_9_0005_20160331140317.nii']\n"
     ]
    }
   ],
   "source": [
    "print(globals_GM)"
   ]
  },
  {
   "cell_type": "code",
   "execution_count": 4,
   "metadata": {},
   "outputs": [],
   "source": [
    "# 0 values outside the brain in each volume -> 0 vals overbias and make globals smaller\n",
    "# c1,2,3 also are not normalised -> different positions for different subjects\n",
    "# -> take all c images and calculate below values for each matter ;)\n",
    "\n",
    "# reasign lists\n",
    "globals_GM=[]\n",
    "globals_WM=[]\n",
    "globals_CSF=[]\n",
    "\n",
    "# loop over GM WM CSF lists and calculate globals\n",
    "for a,b in zip_longest(globals_GM_fvals,globals_GM_nb):\n",
    "    globals_GM.append((np.sum(a[:,:,:][a[:,:,:] != 0])\n",
    "                       * np.product(b.header['pixdim'][1:4]))\n",
    "                       / np.size(a[:,:,:][a[:,:,:] != 0]))\n",
    "\n",
    "for a,b in zip_longest(globals_WM_fvals,globals_WM_nb):\n",
    "    globals_WM.append((np.sum(a[:,:,:][a[:,:,:] != 0])\n",
    "                       * np.product(b.header['pixdim'][1:4]))\n",
    "                       / np.size(a[:,:,:][a[:,:,:] != 0]))\n",
    "\n",
    "for a,b in zip_longest(globals_CSF_fvals,globals_CSF_nb):\n",
    "    globals_CSF.append((np.sum(a[:,:,:][a[:,:,:] != 0])\n",
    "                        * np.product(b.header['pixdim'][1:4]))\n",
    "                        / np.size(a[:,:,:][a[:,:,:] != 0]))\n",
    "\n",
    "# combine globals to get total intracranial volume (TiCV)\n",
    "globals_TiCV=[]\n",
    "\n",
    "for a,b,c in zip_longest(globals_GM,globals_WM,globals_CSF):\n",
    "    globals_TiCV.append(np.sum([a,b,c]))\n",
    "    \n",
    "# establish range of values\n",
    "#for a,b,c in zip_longest(globals_GM_fvals, globals_WM_fvals, globals_CSF_fvals):\n",
    "#    print(np.amin(a), np.amax(a),np.amin(b), np.amax(b),np.amin(c), np.amax(c))\n",
    "# always the same: 0.0 - 1.0000000591389835"
   ]
  },
  {
   "cell_type": "code",
   "execution_count": 5,
   "metadata": {
    "collapsed": true,
    "jupyter": {
     "outputs_hidden": true
    }
   },
   "outputs": [
    {
     "name": "stdout",
     "output_type": "stream",
     "text": [
      "['/VBM/DARTEL_norm2mni_c1/smwc1DEP_T1_MPRAGE_SAG_ISO_0_9_0005_20151216154455.nii', '/VBM/DARTEL_norm2mni_c1/smwc1DEP_T1_MPRAGE_SAG_ISO_0_9_0005_20151001173950.nii', '/VBM/DARTEL_norm2mni_c1/smwc1DEP_T1_MPRAGE_SAG_ISO_0_9_0005_20150929162030.nii', '/VBM/DARTEL_norm2mni_c1/smwc1DEP_T1_MPRAGE_SAG_ISO_0_9_0005_20151009111760.nii', '/VBM/DARTEL_norm2mni_c1/smwc1DEP_T1_MPRAGE_SAG_ISO_0_9_0005_20150219142148.nii', '/VBM/DARTEL_norm2mni_c1/smwc1DEP_T1_MPRAGE_SAG_ISO_0_9_0005_20141208163153.nii', '/VBM/DARTEL_norm2mni_c1/smwc1DEP_T1_MPRAGE_SAG_ISO_0_9_0005_20151001125857.nii', '/VBM/DARTEL_norm2mni_c1/smwc1DEP_T1_MPRAGE_SAG_ISO_0_9_0005_20150313125246.nii', '/VBM/DARTEL_norm2mni_c1/smwc1DEP_T1_MPRAGE_SAG_ISO_0_9_0005_20151015122011.nii', '/VBM/DARTEL_norm2mni_c1/smwc1DEP_T1_MPRAGE_SAG_ISO_0_9_0005_20150917120306.nii', '/VBM/DARTEL_norm2mni_c1/smwc1DEP_T1_MPRAGE_SAG_ISO_0_9_0005_20150310152650.nii', '/VBM/DARTEL_norm2mni_c1/smwc1DEP_T1_MPRAGE_SAG_ISO_0_9_0005_20160310171152.nii', '/VBM/DARTEL_norm2mni_c1/smwc1DEP_T1_MPRAGE_SAG_ISO_0_9_0005_20151214092109.nii', '/VBM/DARTEL_norm2mni_c1/smwc1DEP_T1_MPRAGE_SAG_ISO_0_9_0005_20141125153216.nii', '/VBM/DARTEL_norm2mni_c1/smwc1DEP_T1_MPRAGE_SAG_ISO_0_9_0005_20151105173027.nii', '/VBM/DARTEL_norm2mni_c1/smwc1DEP_T1_MPRAGE_SAG_ISO_0_9_0005_20151009164129.nii', '/VBM/DARTEL_norm2mni_c1/smwc1DEP_T1_MPRAGE_SAG_ISO_0_9_0005_20150924172133.nii', '/VBM/DARTEL_norm2mni_c1/smwc1DEP_T1_MPRAGE_SAG_ISO_0_9_0005_20150226154844.nii', '/VBM/DARTEL_norm2mni_c1/smwc1DEP_T1_MPRAGE_SAG_ISO_0_9_0005_20150326151309.nii', '/VBM/DARTEL_norm2mni_c1/smwc1DEP_T1_MPRAGE_SAG_ISO_0_9_0005_20151029121235.nii', '/VBM/DARTEL_norm2mni_c1/smwc1DEP_T1_MPRAGE_SAG_ISO_0_9_0005_20151116144126.nii', '/VBM/DARTEL_norm2mni_c1/smwc1DEP_T1_MPRAGE_SAG_ISO_0_9_0005_20151106125904.nii', '/VBM/DARTEL_norm2mni_c1/smwc1DEP_T1_MPRAGE_SAG_ISO_0_9_0005_20151013110112.nii', '/VBM/DARTEL_norm2mni_c1/smwc1DEP_T1_MPRAGE_SAG_ISO_0_9_0005_20151118152060.nii', '/VBM/DARTEL_norm2mni_c1/smwc1DEP_T1_MPRAGE_SAG_ISO_0_9_0005_20141119161708.nii', '/VBM/DARTEL_norm2mni_c1/smwc1DEP_T1_MPRAGE_SAG_ISO_0_9_0005_20150909125805.nii', '/VBM/DARTEL_norm2mni_c1/smwc1DEP_T1_MPRAGE_SAG_ISO_0_9_0005_20151202153410.nii', '/VBM/DARTEL_norm2mni_c1/smwc1DEP_T1_MPRAGE_SAG_ISO_0_9_0005_20150226091949.nii', '/VBM/DARTEL_norm2mni_c1/smwc1DEP_T1_MPRAGE_SAG_ISO_0_9_0005_20150218162601.nii', '/VBM/DARTEL_norm2mni_c1/smwc1DEP_T1_MPRAGE_SAG_ISO_0_9_0005_20151203172751.nii', '/VBM/DARTEL_norm2mni_c1/smwc1DEP_T1_MPRAGE_SAG_ISO_0_9_0005_20160218100702.nii'] 31\n",
      "['/VBM/DARTEL_norm2mni_c1/smwc1CON_T1_MPRAGE_SAG_ISO_0_9_0005_20160308162043.nii', '/VBM/DARTEL_norm2mni_c1/smwc1CON_T1_MPRAGE_SAG_ISO_0_9_0005_20160310090712.nii', '/VBM/DARTEL_norm2mni_c1/smwc1CON_T1_MPRAGE_SAG_ISO_0_9_0005_20141210170232.nii', '/VBM/DARTEL_norm2mni_c1/smwc1CON_T1_MPRAGE_SAG_ISO_0_9_0005_20150211171144.nii', '/VBM/DARTEL_norm2mni_c1/smwc1CON_T1_MPRAGE_SAG_ISO_0_9_0005_20160331140317.nii', '/VBM/DARTEL_norm2mni_c1/smwc1CON_T1_MPRAGE_SAG_ISO_0_9_0005_20141119091904.nii', '/VBM/DARTEL_norm2mni_c1/smwc1CON_T1_MPRAGE_SAG_ISO_0_9_0005_20141211155503.nii', '/VBM/DARTEL_norm2mni_c1/smwc1CON_T1_MPRAGE_SAG_ISO_0_9_0005_20160224151260.nii', '/VBM/DARTEL_norm2mni_c1/smwc1CON_T1_MPRAGE_SAG_ISO_0_9_0005_20151208115820.nii', '/VBM/DARTEL_norm2mni_c1/smwc1CON_T1_MPRAGE_SAG_ISO_0_9_0005_20141202164821.nii', '/VBM/DARTEL_norm2mni_c1/smwc1CON_T1_MPRAGE_SAG_ISO_0_9_0005_20141112155009.nii', '/VBM/DARTEL_norm2mni_c1/smwc1CON_T1_MPRAGE_SAG_ISO_0_9_0005_20151208140706.nii', '/VBM/DARTEL_norm2mni_c1/smwc1CON_T1_MPRAGE_SAG_ISO_0_9_0005_20150204145018.nii', '/VBM/DARTEL_norm2mni_c1/smwc1CON_T1_MPRAGE_SAG_ISO_0_9_0005_20141124150148.nii', '/VBM/DARTEL_norm2mni_c1/smwc1CON_T1_MPRAGE_SAG_ISO_0_9_0005_20160309173936.nii', '/VBM/DARTEL_norm2mni_c1/smwc1CON_T1_MPRAGE_SAG_ISO_0_9_0005_20160301164049.nii', '/VBM/DARTEL_norm2mni_c1/smwc1CON_T1_MPRAGE_SAG_ISO_0_9_0005_20141125093955.nii', '/VBM/DARTEL_norm2mni_c1/smwc1CON_T1_MPRAGE_SAG_ISO_0_9_0009_20151123115353.nii', '/VBM/DARTEL_norm2mni_c1/smwc1CON_T1_MPRAGE_SAG_ISO_0_9_0005_20141210090147.nii', '/VBM/DARTEL_norm2mni_c1/smwc1CON_T1_MPRAGE_SAG_ISO_0_9_0005_20141117154954.nii', '/VBM/DARTEL_norm2mni_c1/smwc1CON_T1_MPRAGE_SAG_ISO_0_9_0005_20141204151043.nii', '/VBM/DARTEL_norm2mni_c1/smwc1CON_T1_MPRAGE_SAG_ISO_0_9_0005_20141202145526.nii', '/VBM/DARTEL_norm2mni_c1/smwc1CON_T1_MPRAGE_SAG_ISO_0_9_0005_20160311133810.nii', '/VBM/DARTEL_norm2mni_c1/smwc1CON_T1_MPRAGE_SAG_ISO_0_9_0005_20151201165820.nii', '/VBM/DARTEL_norm2mni_c1/smwc1CON_T1_MPRAGE_SAG_ISO_0_9_0005_20141211095930.nii', '/VBM/DARTEL_norm2mni_c1/smwc1CON_T1_MPRAGE_SAG_ISO_0_9_0005_20141107104226.nii', '/VBM/DARTEL_norm2mni_c1/smwc1CON_T1_MPRAGE_SAG_ISO_0_9_0005_20160217151251.nii', '/VBM/DARTEL_norm2mni_c1/smwc1CON_T1_MPRAGE_SAG_ISO_0_9_0005_20141216144604.nii', '/VBM/DARTEL_norm2mni_c1/smwc1CON_T1_MPRAGE_SAG_ISO_0_9_0005_20150206123507.nii', '/VBM/DARTEL_norm2mni_c1/smwc1CON_T1_MPRAGE_SAG_ISO_0_9_0005_20141106153429.nii', '/VBM/DARTEL_norm2mni_c1/smwc1CON_T1_MPRAGE_SAG_ISO_0_9_0005_20160301111011.nii'] 31\n"
     ]
    }
   ],
   "source": [
    "# get normalised GM/WM images to analyse in MultipleRegression model\n",
    "# change norm_dir to vary between GM and WM analysis\n",
    "norm_dir=\"/VBM/DARTEL_norm2mni_c1/\"\n",
    "images_mreg=[]\n",
    "\n",
    "for i in os.listdir(norm_dir):\n",
    "    match=re.match(r'(smwc.*\\d{14,}.*.nii)', i)\n",
    "    if match:\n",
    "        images_mreg.append(os.path.join(norm_dir, match.group(0)))\n",
    "\n",
    "#print(\"Images where normalised only if included in study specific template!\")\n",
    "#print(images_mreg, len(images_mreg))\n",
    "\n",
    "# group them correctly\n",
    "dep_norm=[]\n",
    "con_norm=[]\n",
    "\n",
    "for i in images_mreg:\n",
    "    match_dep=re.match(r'.*DEP_.*.nii', i)\n",
    "    match_con=re.match(r'.*CON_.*.nii', i)\n",
    "    if match_dep:\n",
    "        dep_norm.append(match_dep.group(0))\n",
    "    elif match_con:\n",
    "        con_norm.append(match_con.group(0))\n",
    "    else:\n",
    "        print(\"item in images_mreg does not match regex pattern! Investigate ... \")\n",
    "    \n",
    "print(dep_norm, len(dep_norm))\n",
    "print(con_norm, len(con_norm))"
   ]
  },
  {
   "cell_type": "code",
   "execution_count": 6,
   "metadata": {},
   "outputs": [],
   "source": [
    "# create covariates (SPM makes NO DIFFERENCE btw covariates and conditions)\n",
    "# get depression, sex and age - data from list in .xlsx file \n",
    "cov_file_ID=\"FED_Subject_Assignments.xlsx\"\n",
    "content=pd.read_excel(cov_file_ID, sheet_name=\"Sheet2\")\n",
    "\n",
    "# remove subject 56 from lists(-> was not normalised or in template)\n",
    "content=content[content[\"Sub Num FED_XXX\"] != 56]\n",
    "depression=content['BDI 22 Score'].tolist()\n",
    "# reverse-sort list to create Regressor (first dep, then con)\n",
    "dep=sorted(depression, reverse=True)\n",
    "sex=content['Gender'].tolist()\n",
    "age=content['Age'].tolist()\n",
    "\n",
    "# depression dep: 1, con: 0\n",
    "cov_dep={\"vector\":dep, \"name\":\"MDD\", \"centering\":0}\n",
    "#cov_con={\"vector\":con, \"name\":\"Control\", \"centering\":0}\n",
    "# sex - dictionary {vector, name, centering} female: 1, male: 0\n",
    "cov_sex={\"vector\":sex, \"name\":\"Sex\", \"centering\":0}\n",
    "#cov_sex={\"vector\":sex, \"name\":\"Sex\", \"centering\":\"No centering\"}\n",
    "# age - dictionary {vector, name, centering}\n",
    "cov_age={\"vector\":age, \"name\":\"Age\", \"centering\":0}\n",
    "#cov_age={\"vector\":age, \"name\":\"Age\", \"centering\":\"No centering\"}"
   ]
  },
  {
   "cell_type": "code",
   "execution_count": 29,
   "metadata": {},
   "outputs": [
    {
     "name": "stdout",
     "output_type": "stream",
     "text": [
      "[1, 1, 1, 1, 1, 1, 1, 1, 1, 1, 1, 1, 1, 1, 1, 1, 1, 1, 1, 1, 1, 1, 1, 1, 1, 1, 1, 1, 1, 1, 1, 0, 0, 0, 0, 0, 0, 0, 0, 0, 0, 0, 0, 0, 0, 0, 0, 0, 0, 0, 0, 0, 0, 0, 0, 0, 0, 0, 0, 0, 0, 0]\n"
     ]
    }
   ],
   "source": [
    "print(dep)"
   ]
  },
  {
   "cell_type": "code",
   "execution_count": 7,
   "metadata": {},
   "outputs": [
    {
     "name": "stdout",
     "output_type": "stream",
     "text": [
      "62 62 62 62 62\n"
     ]
    }
   ],
   "source": [
    "# control input length of all mreg inputs\n",
    "print(len(dep_norm + con_norm),\n",
    "     len(globals_TiCV),\n",
    "     len(cov_dep['vector']),\n",
    "     #len(cov_con['vector']),\n",
    "     len(cov_sex['vector']),\n",
    "     len(cov_age['vector']))"
   ]
  },
  {
   "cell_type": "code",
   "execution_count": 8,
   "metadata": {},
   "outputs": [
    {
     "name": "stdout",
     "output_type": "stream",
     "text": [
      "200220-14:50:05,700 nipype.workflow INFO:\n",
      "\t [Node] Setting-up \"MultipleRegression\" in \"/VBM/MultipleRegression\".\n",
      "200220-14:50:05,716 nipype.workflow INFO:\n",
      "\t [Node] Running \"MultipleRegression\" (\"nipype.interfaces.spm.model.MultipleRegressionDesign\")\n",
      "200220-14:50:12,105 nipype.workflow INFO:\n",
      "\t [Node] Finished \"MultipleRegression\".\n",
      "\n",
      "spm_mat_file = /VBM/MultipleRegression/SPM.mat\n",
      "\n"
     ]
    }
   ],
   "source": [
    "# create multiple regression Node\n",
    "mreg = Node(spm.MultipleRegressionDesign(), name=\"MultipleRegression\")\n",
    "mreg.base_dir=\"/VBM/\"\n",
    "mreg.inputs.in_files = dep_norm + con_norm\n",
    "mreg.inputs.global_calc_values = globals_TiCV\n",
    "# use proportional global normalization\n",
    "mreg.inputs.global_normalization = 2\n",
    "# cut-off value for a-posteriori probability of GM at a given voxel: 5%, [maybe 20%? -> Ashburner VBM Tutorial]\n",
    "mreg.inputs.threshold_mask_absolute = 0.05\n",
    "# think of mask image to threshold\n",
    "#mreg.inputs.explicit_mask_file=\n",
    "mreg.inputs.covariates = [cov_dep, cov_sex, cov_age]\n",
    "\n",
    "# make model (design, not estimate) and print results\n",
    "results = mreg.run()\n",
    "print(results.outputs)"
   ]
  },
  {
   "cell_type": "code",
   "execution_count": 9,
   "metadata": {},
   "outputs": [
    {
     "name": "stdout",
     "output_type": "stream",
     "text": [
      "200220-14:50:14,975 nipype.workflow INFO:\n",
      "\t [Node] Setting-up \"estimate_MReg\" in \"/VBM/MultipleRegression/estimate_MReg\".\n",
      "200220-14:50:14,980 nipype.workflow INFO:\n",
      "\t [Node] Running \"estimate_MReg\" (\"nipype.interfaces.spm.model.EstimateModel\")\n",
      "200220-14:50:36,973 nipype.workflow INFO:\n",
      "\t [Node] Finished \"estimate_MReg\".\n",
      "\n",
      "ARcoef = <undefined>\n",
      "Cbetas = <undefined>\n",
      "RPVimage = /VBM/MultipleRegression/estimate_MReg/RPV.nii\n",
      "SDbetas = <undefined>\n",
      "SDerror = <undefined>\n",
      "beta_images = ['/VBM/MultipleRegression/estimate_MReg/beta_0001.nii', '/VBM/MultipleRegression/estimate_MReg/beta_0002.nii', '/VBM/MultipleRegression/estimate_MReg/beta_0003.nii', '/VBM/MultipleRegression/estimate_MReg/beta_0004.nii']\n",
      "labels = <undefined>\n",
      "mask_image = /VBM/MultipleRegression/estimate_MReg/mask.nii\n",
      "residual_image = /VBM/MultipleRegression/estimate_MReg/ResMS.nii\n",
      "residual_images = <undefined>\n",
      "spm_mat_file = /VBM/MultipleRegression/estimate_MReg/SPM.mat\n",
      "\n"
     ]
    }
   ],
   "source": [
    "# specify MReg directory\n",
    "MReg_dir = \"/VBM/MultipleRegression/\"\n",
    "\n",
    "# estimate model\n",
    "est_mreg = Node(spm.EstimateModel(), name=\"estimate_MReg\")\n",
    "est_mreg.base_dir = MReg_dir\n",
    "est_mreg.inputs.spm_mat_file = MReg_dir+\"SPM.mat\"\n",
    "est_mreg.inputs.estimation_method = {\"Classical\":1}\n",
    "\n",
    "# run estimation and print output\n",
    "results = est_mreg.run()\n",
    "print(results.outputs)"
   ]
  },
  {
   "cell_type": "code",
   "execution_count": 49,
   "metadata": {},
   "outputs": [],
   "source": [
    "# specify MReg directory\n",
    "MReg_dir = \"/VBM/MultipleRegression/\"\n",
    "# specify extended MReg directory\n",
    "MReg_dir = MReg_dir+\"estimate_MReg/\"\n",
    "\n",
    "# collect beta images from Model estimation\n",
    "beta_img = sorted([i for i in os.listdir(MReg_dir) if re.match(r'^beta.*.nii', i)])\n",
    "beta_img = [os.path.join(MReg_dir, i) for i in beta_img]\n",
    "\n",
    "# define contrasts\n",
    "cont1 = ('Dep > Con','T', ['mean','MDD','Sex','Age'],[0, 1, 0, 0])\n",
    "cont2 = ('Male > Female','T', ['mean','MDD','Sex','Age'],[0, 0, -1, 0])\n",
    "cont3 = ('Young > Old','T', ['mean','MDD','Sex','Age'],[0, 0, 0, -1])\n",
    "contrasts = [cont1,cont2,cont3]\n",
    "\n",
    "# estimate contrast\n",
    "est_contrasts = Node(spm.EstimateContrast(), name=\"estimate_Contrats\")\n",
    "est_contrasts.base_dir = MReg_dir\n",
    "est_contrasts.inputs.spm_mat_file = MReg_dir+\"SPM.mat\"\n",
    "est_contrasts.inputs.residual_image = MReg_dir+\"ResMS.nii\"\n",
    "est_contrasts.inputs.beta_images = beta_img\n",
    "est_contrasts.inputs.contrasts = contrasts\n"
   ]
  },
  {
   "cell_type": "code",
   "execution_count": 50,
   "metadata": {
    "collapsed": true,
    "jupyter": {
     "outputs_hidden": true
    }
   },
   "outputs": [
    {
     "name": "stdout",
     "output_type": "stream",
     "text": [
      "200220-16:14:38,503 nipype.workflow INFO:\n",
      "\t [Node] Setting-up \"estimate_Contrats\" in \"/VBM/MultipleRegression/estimate_MReg/estimate_Contrats\".\n",
      "200220-16:14:38,513 nipype.workflow INFO:\n",
      "\t [Node] Running \"estimate_Contrats\" (\"nipype.interfaces.spm.model.EstimateContrast\")\n",
      "200220-16:14:39,999 nipype.workflow WARNING:\n",
      "\t Storing result file without outputs\n",
      "200220-16:14:40,2 nipype.workflow WARNING:\n",
      "\t [Node] Error on \"estimate_Contrats\" (/VBM/MultipleRegression/estimate_MReg/estimate_Contrats)\n"
     ]
    },
    {
     "ename": "RuntimeError",
     "evalue": "Command:\n/opt/spm12-r7219/run_spm12.sh /opt/matlabmcr-2010a/v713 script /VBM/MultipleRegression/estimate_MReg/estimate_Contrats/pyscript_estimatecontrast.m\nStandard output:\nWarning: No display specified.  You will not be able to display graphics on the screen.\nSPM12, version 7219 (standalone)\nMATLAB, version 7.10.0.499 (R2010a)\n ___  ____  __  __                                            \n/ __)(  _ \\(  \\/  )                                           \n\\__ \\ )___/ )    (   Statistical Parametric Mapping           \n(___/(__)  (_/\\/\\_)  SPM12 - http://www.fil.ion.ucl.ac.uk/spm/\n\nExecuting /VBM/MultipleRegression/estimate_MReg/estimate_Contrats/pyscript_estimatecontrast.m at 20-Feb-2020 16:14:39:\n-------------------------------------------------------------------------------------\nMATLAB Version 7.10.0.499 (R2010a)\nMATLAB License Number: unknown\nOperating System: Linux 4.15.0-74-generic #84-Ubuntu SMP Thu Dec 19 08:06:28 UTC 2019 x86_64\nJava VM Version: Java 1.6.0_12-b04 with Sun Microsystems Inc. Java HotSpot(TM) 64-Bit Server VM mixed mode\n-------------------------------------------------------------------------------------\nMATLAB                                                Version 7.10       (R2010a)\nMATLAB Compiler                                       Version 4.13       (R2010a)\nSignal Processing Toolbox                             Version 6.13       (R2010a)\n{\bWarning: The argument for the %s format specifier must be of type char (a\nstring).}\b \n  In spm at 1210\n  In spm_standalone at 115\nStandard error:\nMATLAB code threw an exception:\nIndex exceeds matrix dimensions.\n\nFile:\n/opt/spm12-r7219/spm12_mcr/spm12/spm.m\n\nName:\n/opt/spm12-r7219/spm12_mcr/spm12/spm_standalone.m\n\nLine:\n115\n\nFile:\npm\n\nName:\nspm_standalone\n\nLine:\n1210\n\nFile:\ns\n\nName:\nReturn code: 0",
     "output_type": "error",
     "traceback": [
      "\u001b[0;31m---------------------------------------------------------------------------\u001b[0m",
      "\u001b[0;31mRuntimeError\u001b[0m                              Traceback (most recent call last)",
      "\u001b[0;32m<ipython-input-50-bfad4bb10583>\u001b[0m in \u001b[0;36m<module>\u001b[0;34m\u001b[0m\n\u001b[1;32m      1\u001b[0m \u001b[0;31m# run estimation and print output\u001b[0m\u001b[0;34m\u001b[0m\u001b[0;34m\u001b[0m\u001b[0;34m\u001b[0m\u001b[0m\n\u001b[0;32m----> 2\u001b[0;31m \u001b[0mresults\u001b[0m \u001b[0;34m=\u001b[0m \u001b[0mest_contrasts\u001b[0m\u001b[0;34m.\u001b[0m\u001b[0mrun\u001b[0m\u001b[0;34m(\u001b[0m\u001b[0;34m)\u001b[0m\u001b[0;34m\u001b[0m\u001b[0;34m\u001b[0m\u001b[0m\n\u001b[0m\u001b[1;32m      3\u001b[0m \u001b[0mprint\u001b[0m\u001b[0;34m(\u001b[0m\u001b[0mresults\u001b[0m\u001b[0;34m.\u001b[0m\u001b[0moutputsuts\u001b[0m\u001b[0;34m)\u001b[0m\u001b[0;34m\u001b[0m\u001b[0;34m\u001b[0m\u001b[0m\n",
      "\u001b[0;32m/opt/miniconda-latest/envs/neuro/lib/python3.7/site-packages/nipype/pipeline/engine/nodes.py\u001b[0m in \u001b[0;36mrun\u001b[0;34m(self, updatehash)\u001b[0m\n\u001b[1;32m    514\u001b[0m \u001b[0;34m\u001b[0m\u001b[0m\n\u001b[1;32m    515\u001b[0m         \u001b[0;32mtry\u001b[0m\u001b[0;34m:\u001b[0m\u001b[0;34m\u001b[0m\u001b[0;34m\u001b[0m\u001b[0m\n\u001b[0;32m--> 516\u001b[0;31m             \u001b[0mresult\u001b[0m \u001b[0;34m=\u001b[0m \u001b[0mself\u001b[0m\u001b[0;34m.\u001b[0m\u001b[0m_run_interface\u001b[0m\u001b[0;34m(\u001b[0m\u001b[0mexecute\u001b[0m\u001b[0;34m=\u001b[0m\u001b[0;32mTrue\u001b[0m\u001b[0;34m)\u001b[0m\u001b[0;34m\u001b[0m\u001b[0;34m\u001b[0m\u001b[0m\n\u001b[0m\u001b[1;32m    517\u001b[0m         \u001b[0;32mexcept\u001b[0m \u001b[0mException\u001b[0m\u001b[0;34m:\u001b[0m\u001b[0;34m\u001b[0m\u001b[0;34m\u001b[0m\u001b[0m\n\u001b[1;32m    518\u001b[0m             \u001b[0mlogger\u001b[0m\u001b[0;34m.\u001b[0m\u001b[0mwarning\u001b[0m\u001b[0;34m(\u001b[0m\u001b[0;34m'[Node] Error on \"%s\" (%s)'\u001b[0m\u001b[0;34m,\u001b[0m \u001b[0mself\u001b[0m\u001b[0;34m.\u001b[0m\u001b[0mfullname\u001b[0m\u001b[0;34m,\u001b[0m \u001b[0moutdir\u001b[0m\u001b[0;34m)\u001b[0m\u001b[0;34m\u001b[0m\u001b[0;34m\u001b[0m\u001b[0m\n",
      "\u001b[0;32m/opt/miniconda-latest/envs/neuro/lib/python3.7/site-packages/nipype/pipeline/engine/nodes.py\u001b[0m in \u001b[0;36m_run_interface\u001b[0;34m(self, execute, updatehash)\u001b[0m\n\u001b[1;32m    633\u001b[0m             \u001b[0mself\u001b[0m\u001b[0;34m.\u001b[0m\u001b[0m_update_hash\u001b[0m\u001b[0;34m(\u001b[0m\u001b[0;34m)\u001b[0m\u001b[0;34m\u001b[0m\u001b[0;34m\u001b[0m\u001b[0m\n\u001b[1;32m    634\u001b[0m             \u001b[0;32mreturn\u001b[0m \u001b[0mself\u001b[0m\u001b[0;34m.\u001b[0m\u001b[0m_load_results\u001b[0m\u001b[0;34m(\u001b[0m\u001b[0;34m)\u001b[0m\u001b[0;34m\u001b[0m\u001b[0;34m\u001b[0m\u001b[0m\n\u001b[0;32m--> 635\u001b[0;31m         \u001b[0;32mreturn\u001b[0m \u001b[0mself\u001b[0m\u001b[0;34m.\u001b[0m\u001b[0m_run_command\u001b[0m\u001b[0;34m(\u001b[0m\u001b[0mexecute\u001b[0m\u001b[0;34m)\u001b[0m\u001b[0;34m\u001b[0m\u001b[0;34m\u001b[0m\u001b[0m\n\u001b[0m\u001b[1;32m    636\u001b[0m \u001b[0;34m\u001b[0m\u001b[0m\n\u001b[1;32m    637\u001b[0m     \u001b[0;32mdef\u001b[0m \u001b[0m_load_results\u001b[0m\u001b[0;34m(\u001b[0m\u001b[0mself\u001b[0m\u001b[0;34m)\u001b[0m\u001b[0;34m:\u001b[0m\u001b[0;34m\u001b[0m\u001b[0;34m\u001b[0m\u001b[0m\n",
      "\u001b[0;32m/opt/miniconda-latest/envs/neuro/lib/python3.7/site-packages/nipype/pipeline/engine/nodes.py\u001b[0m in \u001b[0;36m_run_command\u001b[0;34m(self, execute, copyfiles)\u001b[0m\n\u001b[1;32m    739\u001b[0m         \u001b[0mlogger\u001b[0m\u001b[0;34m.\u001b[0m\u001b[0minfo\u001b[0m\u001b[0;34m(\u001b[0m\u001b[0mmessage\u001b[0m\u001b[0;34m)\u001b[0m\u001b[0;34m\u001b[0m\u001b[0;34m\u001b[0m\u001b[0m\n\u001b[1;32m    740\u001b[0m         \u001b[0;32mtry\u001b[0m\u001b[0;34m:\u001b[0m\u001b[0;34m\u001b[0m\u001b[0;34m\u001b[0m\u001b[0m\n\u001b[0;32m--> 741\u001b[0;31m             \u001b[0mresult\u001b[0m \u001b[0;34m=\u001b[0m \u001b[0mself\u001b[0m\u001b[0;34m.\u001b[0m\u001b[0m_interface\u001b[0m\u001b[0;34m.\u001b[0m\u001b[0mrun\u001b[0m\u001b[0;34m(\u001b[0m\u001b[0mcwd\u001b[0m\u001b[0;34m=\u001b[0m\u001b[0moutdir\u001b[0m\u001b[0;34m)\u001b[0m\u001b[0;34m\u001b[0m\u001b[0;34m\u001b[0m\u001b[0m\n\u001b[0m\u001b[1;32m    742\u001b[0m         \u001b[0;32mexcept\u001b[0m \u001b[0mException\u001b[0m \u001b[0;32mas\u001b[0m \u001b[0mmsg\u001b[0m\u001b[0;34m:\u001b[0m\u001b[0;34m\u001b[0m\u001b[0;34m\u001b[0m\u001b[0m\n\u001b[1;32m    743\u001b[0m             result.runtime.stderr = \"%s\\n\\n%s\".format(\n",
      "\u001b[0;32m/opt/miniconda-latest/envs/neuro/lib/python3.7/site-packages/nipype/interfaces/base/core.py\u001b[0m in \u001b[0;36mrun\u001b[0;34m(self, cwd, ignore_exception, **inputs)\u001b[0m\n\u001b[1;32m    395\u001b[0m         \u001b[0;32mtry\u001b[0m\u001b[0;34m:\u001b[0m\u001b[0;34m\u001b[0m\u001b[0;34m\u001b[0m\u001b[0m\n\u001b[1;32m    396\u001b[0m             \u001b[0mruntime\u001b[0m \u001b[0;34m=\u001b[0m \u001b[0mself\u001b[0m\u001b[0;34m.\u001b[0m\u001b[0m_pre_run_hook\u001b[0m\u001b[0;34m(\u001b[0m\u001b[0mruntime\u001b[0m\u001b[0;34m)\u001b[0m\u001b[0;34m\u001b[0m\u001b[0;34m\u001b[0m\u001b[0m\n\u001b[0;32m--> 397\u001b[0;31m             \u001b[0mruntime\u001b[0m \u001b[0;34m=\u001b[0m \u001b[0mself\u001b[0m\u001b[0;34m.\u001b[0m\u001b[0m_run_interface\u001b[0m\u001b[0;34m(\u001b[0m\u001b[0mruntime\u001b[0m\u001b[0;34m)\u001b[0m\u001b[0;34m\u001b[0m\u001b[0;34m\u001b[0m\u001b[0m\n\u001b[0m\u001b[1;32m    398\u001b[0m             \u001b[0mruntime\u001b[0m \u001b[0;34m=\u001b[0m \u001b[0mself\u001b[0m\u001b[0;34m.\u001b[0m\u001b[0m_post_run_hook\u001b[0m\u001b[0;34m(\u001b[0m\u001b[0mruntime\u001b[0m\u001b[0;34m)\u001b[0m\u001b[0;34m\u001b[0m\u001b[0;34m\u001b[0m\u001b[0m\n\u001b[1;32m    399\u001b[0m             \u001b[0moutputs\u001b[0m \u001b[0;34m=\u001b[0m \u001b[0mself\u001b[0m\u001b[0;34m.\u001b[0m\u001b[0maggregate_outputs\u001b[0m\u001b[0;34m(\u001b[0m\u001b[0mruntime\u001b[0m\u001b[0;34m)\u001b[0m\u001b[0;34m\u001b[0m\u001b[0;34m\u001b[0m\u001b[0m\n",
      "\u001b[0;32m/opt/miniconda-latest/envs/neuro/lib/python3.7/site-packages/nipype/interfaces/spm/base.py\u001b[0m in \u001b[0;36m_run_interface\u001b[0;34m(self, runtime)\u001b[0m\n\u001b[1;32m    385\u001b[0m             \u001b[0mdeepcopy\u001b[0m\u001b[0;34m(\u001b[0m\u001b[0mself\u001b[0m\u001b[0;34m.\u001b[0m\u001b[0m_parse_inputs\u001b[0m\u001b[0;34m(\u001b[0m\u001b[0;34m)\u001b[0m\u001b[0;34m)\u001b[0m\u001b[0;34m\u001b[0m\u001b[0;34m\u001b[0m\u001b[0m\n\u001b[1;32m    386\u001b[0m         )\n\u001b[0;32m--> 387\u001b[0;31m         \u001b[0mresults\u001b[0m \u001b[0;34m=\u001b[0m \u001b[0mself\u001b[0m\u001b[0;34m.\u001b[0m\u001b[0mmlab\u001b[0m\u001b[0;34m.\u001b[0m\u001b[0mrun\u001b[0m\u001b[0;34m(\u001b[0m\u001b[0;34m)\u001b[0m\u001b[0;34m\u001b[0m\u001b[0;34m\u001b[0m\u001b[0m\n\u001b[0m\u001b[1;32m    388\u001b[0m         \u001b[0mruntime\u001b[0m\u001b[0;34m.\u001b[0m\u001b[0mreturncode\u001b[0m \u001b[0;34m=\u001b[0m \u001b[0mresults\u001b[0m\u001b[0;34m.\u001b[0m\u001b[0mruntime\u001b[0m\u001b[0;34m.\u001b[0m\u001b[0mreturncode\u001b[0m\u001b[0;34m\u001b[0m\u001b[0;34m\u001b[0m\u001b[0m\n\u001b[1;32m    389\u001b[0m         \u001b[0;32mif\u001b[0m \u001b[0mself\u001b[0m\u001b[0;34m.\u001b[0m\u001b[0mmlab\u001b[0m\u001b[0;34m.\u001b[0m\u001b[0minputs\u001b[0m\u001b[0;34m.\u001b[0m\u001b[0muses_mcr\u001b[0m\u001b[0;34m:\u001b[0m\u001b[0;34m\u001b[0m\u001b[0;34m\u001b[0m\u001b[0m\n",
      "\u001b[0;32m/opt/miniconda-latest/envs/neuro/lib/python3.7/site-packages/nipype/interfaces/base/core.py\u001b[0m in \u001b[0;36mrun\u001b[0;34m(self, cwd, ignore_exception, **inputs)\u001b[0m\n\u001b[1;32m    395\u001b[0m         \u001b[0;32mtry\u001b[0m\u001b[0;34m:\u001b[0m\u001b[0;34m\u001b[0m\u001b[0;34m\u001b[0m\u001b[0m\n\u001b[1;32m    396\u001b[0m             \u001b[0mruntime\u001b[0m \u001b[0;34m=\u001b[0m \u001b[0mself\u001b[0m\u001b[0;34m.\u001b[0m\u001b[0m_pre_run_hook\u001b[0m\u001b[0;34m(\u001b[0m\u001b[0mruntime\u001b[0m\u001b[0;34m)\u001b[0m\u001b[0;34m\u001b[0m\u001b[0;34m\u001b[0m\u001b[0m\n\u001b[0;32m--> 397\u001b[0;31m             \u001b[0mruntime\u001b[0m \u001b[0;34m=\u001b[0m \u001b[0mself\u001b[0m\u001b[0;34m.\u001b[0m\u001b[0m_run_interface\u001b[0m\u001b[0;34m(\u001b[0m\u001b[0mruntime\u001b[0m\u001b[0;34m)\u001b[0m\u001b[0;34m\u001b[0m\u001b[0;34m\u001b[0m\u001b[0m\n\u001b[0m\u001b[1;32m    398\u001b[0m             \u001b[0mruntime\u001b[0m \u001b[0;34m=\u001b[0m \u001b[0mself\u001b[0m\u001b[0;34m.\u001b[0m\u001b[0m_post_run_hook\u001b[0m\u001b[0;34m(\u001b[0m\u001b[0mruntime\u001b[0m\u001b[0;34m)\u001b[0m\u001b[0;34m\u001b[0m\u001b[0;34m\u001b[0m\u001b[0m\n\u001b[1;32m    399\u001b[0m             \u001b[0moutputs\u001b[0m \u001b[0;34m=\u001b[0m \u001b[0mself\u001b[0m\u001b[0;34m.\u001b[0m\u001b[0maggregate_outputs\u001b[0m\u001b[0;34m(\u001b[0m\u001b[0mruntime\u001b[0m\u001b[0;34m)\u001b[0m\u001b[0;34m\u001b[0m\u001b[0;34m\u001b[0m\u001b[0m\n",
      "\u001b[0;32m/opt/miniconda-latest/envs/neuro/lib/python3.7/site-packages/nipype/interfaces/matlab.py\u001b[0m in \u001b[0;36m_run_interface\u001b[0;34m(self, runtime)\u001b[0m\n\u001b[1;32m    176\u001b[0m             \u001b[0;32mpass\u001b[0m\u001b[0;34m\u001b[0m\u001b[0;34m\u001b[0m\u001b[0m\n\u001b[1;32m    177\u001b[0m         \u001b[0;32mif\u001b[0m \u001b[0;34m\"MATLAB code threw an exception\"\u001b[0m \u001b[0;32min\u001b[0m \u001b[0mruntime\u001b[0m\u001b[0;34m.\u001b[0m\u001b[0mstderr\u001b[0m\u001b[0;34m:\u001b[0m\u001b[0;34m\u001b[0m\u001b[0;34m\u001b[0m\u001b[0m\n\u001b[0;32m--> 178\u001b[0;31m             \u001b[0mself\u001b[0m\u001b[0;34m.\u001b[0m\u001b[0mraise_exception\u001b[0m\u001b[0;34m(\u001b[0m\u001b[0mruntime\u001b[0m\u001b[0;34m)\u001b[0m\u001b[0;34m\u001b[0m\u001b[0;34m\u001b[0m\u001b[0m\n\u001b[0m\u001b[1;32m    179\u001b[0m         \u001b[0;32mreturn\u001b[0m \u001b[0mruntime\u001b[0m\u001b[0;34m\u001b[0m\u001b[0;34m\u001b[0m\u001b[0m\n\u001b[1;32m    180\u001b[0m \u001b[0;34m\u001b[0m\u001b[0m\n",
      "\u001b[0;32m/opt/miniconda-latest/envs/neuro/lib/python3.7/site-packages/nipype/interfaces/base/core.py\u001b[0m in \u001b[0;36mraise_exception\u001b[0;34m(self, runtime)\u001b[0m\n\u001b[1;32m    721\u001b[0m                 \u001b[0;34m\"Command:\\n{cmdline}\\nStandard output:\\n{stdout}\\n\"\u001b[0m\u001b[0;34m\u001b[0m\u001b[0;34m\u001b[0m\u001b[0m\n\u001b[1;32m    722\u001b[0m                 \u001b[0;34m\"Standard error:\\n{stderr}\\nReturn code: {returncode}\"\u001b[0m\u001b[0;34m\u001b[0m\u001b[0;34m\u001b[0m\u001b[0m\n\u001b[0;32m--> 723\u001b[0;31m             ).format(**runtime.dictcopy())\n\u001b[0m\u001b[1;32m    724\u001b[0m         )\n\u001b[1;32m    725\u001b[0m \u001b[0;34m\u001b[0m\u001b[0m\n",
      "\u001b[0;31mRuntimeError\u001b[0m: Command:\n/opt/spm12-r7219/run_spm12.sh /opt/matlabmcr-2010a/v713 script /VBM/MultipleRegression/estimate_MReg/estimate_Contrats/pyscript_estimatecontrast.m\nStandard output:\nWarning: No display specified.  You will not be able to display graphics on the screen.\nSPM12, version 7219 (standalone)\nMATLAB, version 7.10.0.499 (R2010a)\n ___  ____  __  __                                            \n/ __)(  _ \\(  \\/  )                                           \n\\__ \\ )___/ )    (   Statistical Parametric Mapping           \n(___/(__)  (_/\\/\\_)  SPM12 - http://www.fil.ion.ucl.ac.uk/spm/\n\nExecuting /VBM/MultipleRegression/estimate_MReg/estimate_Contrats/pyscript_estimatecontrast.m at 20-Feb-2020 16:14:39:\n-------------------------------------------------------------------------------------\nMATLAB Version 7.10.0.499 (R2010a)\nMATLAB License Number: unknown\nOperating System: Linux 4.15.0-74-generic #84-Ubuntu SMP Thu Dec 19 08:06:28 UTC 2019 x86_64\nJava VM Version: Java 1.6.0_12-b04 with Sun Microsystems Inc. Java HotSpot(TM) 64-Bit Server VM mixed mode\n-------------------------------------------------------------------------------------\nMATLAB                                                Version 7.10       (R2010a)\nMATLAB Compiler                                       Version 4.13       (R2010a)\nSignal Processing Toolbox                             Version 6.13       (R2010a)\n{\bWarning: The argument for the %s format specifier must be of type char (a\nstring).}\b \n  In spm at 1210\n  In spm_standalone at 115\nStandard error:\nMATLAB code threw an exception:\nIndex exceeds matrix dimensions.\n\nFile:\n/opt/spm12-r7219/spm12_mcr/spm12/spm.m\n\nName:\n/opt/spm12-r7219/spm12_mcr/spm12/spm_standalone.m\n\nLine:\n115\n\nFile:\npm\n\nName:\nspm_standalone\n\nLine:\n1210\n\nFile:\ns\n\nName:\nReturn code: 0"
     ]
    }
   ],
   "source": [
    "# run estimation and print output\n",
    "results = est_contrasts.run() \n",
    "print(results.outputsuts)"
   ]
  },
  {
   "cell_type": "markdown",
   "metadata": {},
   "source": [
    "Testing Zone:"
   ]
  },
  {
   "cell_type": "code",
   "execution_count": 16,
   "metadata": {},
   "outputs": [
    {
     "data": {
      "text/plain": [
       "True"
      ]
     },
     "execution_count": 16,
     "metadata": {},
     "output_type": "execute_result"
    }
   ],
   "source": [
    "# TODO: think about sorting values of different lists (globals, covariates all assigned to right subjects\n"
   ]
  }
 ],
 "metadata": {
  "kernelspec": {
   "display_name": "Python [conda env:neuro] *",
   "language": "python",
   "name": "conda-env-neuro-py"
  },
  "language_info": {
   "codemirror_mode": {
    "name": "ipython",
    "version": 3
   },
   "file_extension": ".py",
   "mimetype": "text/x-python",
   "name": "python",
   "nbconvert_exporter": "python",
   "pygments_lexer": "ipython3",
   "version": "3.7.6"
  }
 },
 "nbformat": 4,
 "nbformat_minor": 4
}
