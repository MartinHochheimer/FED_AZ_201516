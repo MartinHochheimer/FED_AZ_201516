{
 "cells": [
  {
   "cell_type": "markdown",
   "metadata": {},
   "source": [
    "import data and filesettings notebook"
   ]
  },
  {
   "cell_type": "code",
   "execution_count": 1,
   "metadata": {
    "collapsed": true,
    "jupyter": {
     "outputs_hidden": true
    }
   },
   "outputs": [
    {
     "name": "stdout",
     "output_type": "stream",
     "text": [
      "FED047 \n",
      " Not enough GRE_FIELD sequences to read out (0).... exclude/investigate \n",
      "\n",
      "FED037 \n",
      " Not enough GRE_FIELD sequences to read out (0).... exclude/investigate \n",
      "\n",
      "FED006 \n",
      " Not enough GRE_FIELD sequences to read out (0).... exclude/investigate \n",
      "\n",
      "FED022 \n",
      " More than 2 GRE_FIELD sequences (4) .... select only first two for TE extraction \n",
      "\n",
      "FED067 \n",
      " Not enough GRE_FIELD sequences to read out (0).... exclude/investigate \n",
      "\n",
      "FED008 \n",
      " Not enough GRE_FIELD sequences to read out (0).... exclude/investigate \n",
      "\n",
      "FED023 \n",
      " More than 2 GRE_FIELD sequences (4) .... select only first two for TE extraction \n",
      "\n",
      "FED029 \n",
      " Not enough GRE_FIELD sequences to read out (0).... exclude/investigate \n",
      "\n",
      "\n",
      "\n",
      " The following subjects where excluded from distortion correction due to false file numbers:  \n",
      " GRE:  ['FED006', 'FED008', 'FED029', 'FED037', 'FED047', 'FED067'] EPI:  []\n",
      "FED022 \n",
      " More than 2 GRE_FIELD sequences (4) .... selecting first two for TE extraction \n",
      "\n",
      "FED066's json file does not specify DwellTime \n",
      " noting issue ... \n",
      "FED023 \n",
      " More than 2 GRE_FIELD sequences (4) .... selecting first two for TE extraction \n",
      "\n",
      "FED064's json file does not specify DwellTime \n",
      " noting issue ... \n",
      "FED065's json file does not specify DwellTime \n",
      " noting issue ... \n",
      "FED063's json file does not specify DwellTime \n",
      " noting issue ... \n",
      "The following parameters where not available from subjects' json files: \n",
      " ['FED063_DwellTime', 'FED064_DwellTime', 'FED065_DwellTime', 'FED066_DwellTime']\n",
      "\n",
      "\n",
      " The following subjects where excluded from distortion correction due to flase file numbers or missing parameters:  \n",
      " GRE:  ['FED006', 'FED008', 'FED029', 'FED037', 'FED047', 'FED067'] EPI:  ['FED063', 'FED064', 'FED065', 'FED066'] \n",
      " 10   subjects in total\n"
     ]
    }
   ],
   "source": [
    "%run fMRI_prestats0_general.ipynb"
   ]
  },
  {
   "cell_type": "code",
   "execution_count": 24,
   "metadata": {
    "collapsed": true,
    "jupyter": {
     "outputs_hidden": true
    }
   },
   "outputs": [
    {
     "name": "stdout",
     "output_type": "stream",
     "text": [
      "{'files': ['/fMRI/FED067/FMRI_0007_20160311133810_7.json', '/fMRI/FED067/FMRI_0007_20160311133810_7.nii', '/fMRI/FED067/T1_MPRAGE_0005_20160311133810.json', '/fMRI/FED067/T1_MPRAGE_0005_20160311133810.nii'], 'parameters': {}}\n",
      "{'files': ['/fMRI/FED012/FMRI_FS_0010_20141124150148_10.json', '/fMRI/FED012/FMRI_FS_0010_20141124150148_10.nii', '/fMRI/FED012/GRE_FIELD_MAPPING_0006_20141124150148_e1.json', '/fMRI/FED012/GRE_FIELD_MAPPING_0006_20141124150148_e1.nii', '/fMRI/FED012/GRE_FIELD_MAPPING_0006_20141124150148_e2.json', '/fMRI/FED012/GRE_FIELD_MAPPING_0006_20141124150148_e2.nii', '/fMRI/FED012/GRE_FIELD_MAPPING_0007_20141124150148_e2_ph.json', '/fMRI/FED012/GRE_FIELD_MAPPING_0007_20141124150148_e2_ph.nii', '/fMRI/FED012/GRE_e1mag_bet_B.nii', '/fMRI/FED012/GRE_e1mag_bet_B_mask.nii', '/fMRI/FED012/GRE_fieldmap.nii', '/fMRI/FED012/T1_MPRAGE_0005_20141124150148.json', '/fMRI/FED012/T1_MPRAGE_0005_20141124150148.nii'], 'parameters': {'GRE_ET': [0.00492, 0.00738], 'GRE_PED': ['i'], 'EPI_ET': [0.025], 'EPI_RT': [1.8], 'EPI_ETL': [33], 'EPI_PES': [67], 'EPI_PED': ['y-'], 'EPI_DT': [3e-06], 'EPI_TRT': [0.01742], 'EPI_EES': [0.00026], 'EPI_PB': [2315]}}\n"
     ]
    }
   ],
   "source": [
    "# control results\n",
    "key= random.sample(data.keys(), 1)\n",
    "print(data[key[0]])\n",
    "print(data[\"FED012\"])"
   ]
  },
  {
   "cell_type": "markdown",
   "metadata": {},
   "source": [
    "# Processing"
   ]
  },
  {
   "cell_type": "markdown",
   "metadata": {},
   "source": [
    "Motion correct / realign"
   ]
  },
  {
   "cell_type": "code",
   "execution_count": 34,
   "metadata": {},
   "outputs": [],
   "source": []
  },
  {
   "cell_type": "code",
   "execution_count": null,
   "metadata": {},
   "outputs": [],
   "source": []
  },
  {
   "cell_type": "markdown",
   "metadata": {},
   "source": [
    "Slicetime correction (?)"
   ]
  },
  {
   "cell_type": "markdown",
   "metadata": {},
   "source": [
    "I will omit this step as advised by Poldrack, Nichols and Mumford \"Handbook of fMRI data analysis\"(2011)\\\n",
    "TR= 1800ms  > 2seconds, interleaved acquisition\\\n",
    "event related analysis is relatively robust to slice-timing problems here."
   ]
  },
  {
   "cell_type": "markdown",
   "metadata": {},
   "source": [
    "Spatial normalisation"
   ]
  },
  {
   "cell_type": "code",
   "execution_count": null,
   "metadata": {},
   "outputs": [],
   "source": []
  },
  {
   "cell_type": "code",
   "execution_count": null,
   "metadata": {},
   "outputs": [],
   "source": []
  },
  {
   "cell_type": "markdown",
   "metadata": {},
   "source": [
    "Spatial Smoothing"
   ]
  },
  {
   "cell_type": "code",
   "execution_count": null,
   "metadata": {},
   "outputs": [],
   "source": []
  },
  {
   "cell_type": "code",
   "execution_count": null,
   "metadata": {},
   "outputs": [],
   "source": []
  },
  {
   "cell_type": "markdown",
   "metadata": {},
   "source": [
    "# QC"
   ]
  },
  {
   "cell_type": "code",
   "execution_count": null,
   "metadata": {},
   "outputs": [],
   "source": []
  },
  {
   "cell_type": "code",
   "execution_count": null,
   "metadata": {},
   "outputs": [],
   "source": []
  }
 ],
 "metadata": {
  "kernelspec": {
   "display_name": "Python [conda env:neuro] *",
   "language": "python",
   "name": "conda-env-neuro-py"
  },
  "language_info": {
   "codemirror_mode": {
    "name": "ipython",
    "version": 3
   },
   "file_extension": ".py",
   "mimetype": "text/x-python",
   "name": "python",
   "nbconvert_exporter": "python",
   "pygments_lexer": "ipython3",
   "version": "3.7.8"
  }
 },
 "nbformat": 4,
 "nbformat_minor": 4
}
