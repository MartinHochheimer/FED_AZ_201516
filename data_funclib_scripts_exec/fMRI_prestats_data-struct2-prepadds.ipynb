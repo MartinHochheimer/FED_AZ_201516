{
 "cells": [
  {
   "cell_type": "markdown",
   "metadata": {},
   "source": [
    "Import primary data-structure"
   ]
  },
  {
   "cell_type": "code",
   "execution_count": 2,
   "metadata": {
    "collapsed": true,
    "jupyter": {
     "outputs_hidden": true
    }
   },
   "outputs": [
    {
     "name": "stdout",
     "output_type": "stream",
     "text": [
      "subject(s) missing!\n",
      "First line of list-alignment:   FED006 FED006 FED007\n",
      "Control relevant files!\n",
      "\n",
      "\n",
      " The following subjects where excluded from further analysis due to false file numbers or missing data:  \n",
      " EPI:  ['FED006'] T1:  ['FED006']\n",
      "The new subject list after initial data and image file checkup:\n",
      "\n",
      "['FED007', 'FED008', 'FED009', 'FED010', 'FED011', 'FED012', 'FED013', 'FED014', 'FED015', 'FED016', 'FED017', 'FED018', 'FED019', 'FED020', 'FED021', 'FED022', 'FED023', 'FED024', 'FED025', 'FED026', 'FED027', 'FED028', 'FED029', 'FED030', 'FED031', 'FED032', 'FED033', 'FED034', 'FED035', 'FED036', 'FED037', 'FED038', 'FED039', 'FED040', 'FED041', 'FED042', 'FED043', 'FED044', 'FED045', 'FED046', 'FED047', 'FED048', 'FED049', 'FED050', 'FED051', 'FED052', 'FED053', 'FED054', 'FED055', 'FED056', 'FED057', 'FED058', 'FED059', 'FED060', 'FED061', 'FED062', 'FED063', 'FED064', 'FED065', 'FED066', 'FED067', 'FED068']\n",
      "\n",
      "\n",
      "That leaves a total of  62 remaining subjects.\n",
      "\n",
      "\n",
      "The following parameters where not available from subjects' json files: \n",
      " ['FED063_EPI-DwellTime', 'FED064_EPI-DwellTime', 'FED065_EPI-DwellTime', 'FED066_EPI-DwellTime']\n",
      "The following parameters where available multiple times from subjects' json files: \n",
      " []\n"
     ]
    }
   ],
   "source": [
    "%run fMRI_prestats_data-struct.ipynb"
   ]
  },
  {
   "cell_type": "code",
   "execution_count": 5,
   "metadata": {},
   "outputs": [],
   "source": [
    "# As these steps involve nipype workflow nodes and give too much information, we'll raise the logging level\n",
    "logging.getLogger('nipype.interface').setLevel(\"WARNING\")\n",
    "logging.getLogger('nipype.workflow').setLevel(\"WARNING\")"
   ]
  },
  {
   "cell_type": "markdown",
   "metadata": {},
   "source": [
    "Changes to the FED subject list made during preprocessing (\"III\" - prefix to all steps related)"
   ]
  },
  {
   "cell_type": "markdown",
   "metadata": {},
   "source": [
    "III. motion correction and outlier detection"
   ]
  },
  {
   "cell_type": "code",
   "execution_count": 151,
   "metadata": {
    "collapsed": true,
    "jupyter": {
     "outputs_hidden": true
    },
    "tags": []
   },
   "outputs": [
    {
     "name": "stdout",
     "output_type": "stream",
     "text": [
      "For /fMRI/FED007/, 0,  of outlier timepoints have been identified at the current rapidart-settings.\n",
      "For /fMRI/FED008/, 4,  of outlier timepoints have been identified at the current rapidart-settings.\n",
      "For /fMRI/FED009/, 3,  of outlier timepoints have been identified at the current rapidart-settings.\n",
      "For /fMRI/FED010/, 6,  of outlier timepoints have been identified at the current rapidart-settings.\n",
      "For /fMRI/FED011/, 3,  of outlier timepoints have been identified at the current rapidart-settings.\n",
      "For /fMRI/FED012/, 3,  of outlier timepoints have been identified at the current rapidart-settings.\n",
      "For /fMRI/FED013/, 3,  of outlier timepoints have been identified at the current rapidart-settings.\n",
      "For /fMRI/FED014/, 5,  of outlier timepoints have been identified at the current rapidart-settings.\n",
      "For /fMRI/FED015/, 5,  of outlier timepoints have been identified at the current rapidart-settings.\n",
      "For /fMRI/FED016/, 4,  of outlier timepoints have been identified at the current rapidart-settings.\n",
      "For /fMRI/FED017/, 5,  of outlier timepoints have been identified at the current rapidart-settings.\n",
      "For /fMRI/FED018/, 5,  of outlier timepoints have been identified at the current rapidart-settings.\n",
      "For /fMRI/FED019/, 10,  of outlier timepoints have been identified at the current rapidart-settings.\n",
      "For /fMRI/FED020/, 3,  of outlier timepoints have been identified at the current rapidart-settings.\n",
      "For /fMRI/FED021/, 5,  of outlier timepoints have been identified at the current rapidart-settings.\n",
      "For /fMRI/FED022/, 7,  of outlier timepoints have been identified at the current rapidart-settings.\n",
      "For /fMRI/FED023/, 2,  of outlier timepoints have been identified at the current rapidart-settings.\n",
      "For /fMRI/FED024/, 2,  of outlier timepoints have been identified at the current rapidart-settings.\n",
      "For /fMRI/FED025/, 0,  of outlier timepoints have been identified at the current rapidart-settings.\n",
      "For /fMRI/FED026/, 1,  of outlier timepoints have been identified at the current rapidart-settings.\n",
      "For /fMRI/FED027/, 2,  of outlier timepoints have been identified at the current rapidart-settings.\n",
      "For /fMRI/FED028/, 0,  of outlier timepoints have been identified at the current rapidart-settings.\n",
      "For /fMRI/FED029/, 1,  of outlier timepoints have been identified at the current rapidart-settings.\n",
      "For /fMRI/FED030/, 4,  of outlier timepoints have been identified at the current rapidart-settings.\n",
      "For /fMRI/FED031/, 4,  of outlier timepoints have been identified at the current rapidart-settings.\n",
      "For /fMRI/FED032/, 9,  of outlier timepoints have been identified at the current rapidart-settings.\n",
      "For /fMRI/FED033/, 2,  of outlier timepoints have been identified at the current rapidart-settings.\n",
      "For /fMRI/FED034/, 3,  of outlier timepoints have been identified at the current rapidart-settings.\n",
      "For /fMRI/FED035/, 1,  of outlier timepoints have been identified at the current rapidart-settings.\n",
      "For /fMRI/FED036/, 1,  of outlier timepoints have been identified at the current rapidart-settings.\n",
      "For /fMRI/FED037/, 3,  of outlier timepoints have been identified at the current rapidart-settings.\n",
      "For /fMRI/FED038/, 3,  of outlier timepoints have been identified at the current rapidart-settings.\n",
      "For /fMRI/FED039/, 0,  of outlier timepoints have been identified at the current rapidart-settings.\n",
      "For /fMRI/FED040/, 4,  of outlier timepoints have been identified at the current rapidart-settings.\n",
      "For /fMRI/FED041/, 1,  of outlier timepoints have been identified at the current rapidart-settings.\n",
      "For /fMRI/FED042/, 5,  of outlier timepoints have been identified at the current rapidart-settings.\n",
      "For /fMRI/FED043/, 3,  of outlier timepoints have been identified at the current rapidart-settings.\n",
      "For /fMRI/FED044/, 6,  of outlier timepoints have been identified at the current rapidart-settings.\n",
      "For /fMRI/FED045/, 5,  of outlier timepoints have been identified at the current rapidart-settings.\n",
      "For /fMRI/FED046/, 2,  of outlier timepoints have been identified at the current rapidart-settings.\n",
      "For /fMRI/FED047/, 0,  of outlier timepoints have been identified at the current rapidart-settings.\n",
      "For /fMRI/FED048/, 44,  of outlier timepoints have been identified at the current rapidart-settings.\n",
      "For /fMRI/FED049/, 8,  of outlier timepoints have been identified at the current rapidart-settings.\n",
      "For /fMRI/FED050/, 2,  of outlier timepoints have been identified at the current rapidart-settings.\n",
      "For /fMRI/FED051/, 2,  of outlier timepoints have been identified at the current rapidart-settings.\n",
      "For /fMRI/FED052/, 1,  of outlier timepoints have been identified at the current rapidart-settings.\n",
      "For /fMRI/FED053/, 2,  of outlier timepoints have been identified at the current rapidart-settings.\n",
      "For /fMRI/FED054/, 5,  of outlier timepoints have been identified at the current rapidart-settings.\n",
      "For /fMRI/FED055/, 14,  of outlier timepoints have been identified at the current rapidart-settings.\n",
      "For /fMRI/FED056/, 10,  of outlier timepoints have been identified at the current rapidart-settings.\n",
      "For /fMRI/FED057/, 6,  of outlier timepoints have been identified at the current rapidart-settings.\n",
      "For /fMRI/FED058/, 1,  of outlier timepoints have been identified at the current rapidart-settings.\n",
      "For /fMRI/FED059/, 1,  of outlier timepoints have been identified at the current rapidart-settings.\n",
      "For /fMRI/FED060/, 2,  of outlier timepoints have been identified at the current rapidart-settings.\n",
      "For /fMRI/FED061/, 1,  of outlier timepoints have been identified at the current rapidart-settings.\n",
      "For /fMRI/FED062/, 3,  of outlier timepoints have been identified at the current rapidart-settings.\n",
      "For /fMRI/FED063/, 5,  of outlier timepoints have been identified at the current rapidart-settings.\n",
      "For /fMRI/FED064/, 6,  of outlier timepoints have been identified at the current rapidart-settings.\n",
      "For /fMRI/FED065/, 2,  of outlier timepoints have been identified at the current rapidart-settings.\n",
      "For /fMRI/FED066/, 11,  of outlier timepoints have been identified at the current rapidart-settings.\n",
      "For /fMRI/FED067/, 6,  of outlier timepoints have been identified at the current rapidart-settings.\n",
      "For /fMRI/FED068/, 8,  of outlier timepoints have been identified at the current rapidart-settings.\n"
     ]
    }
   ],
   "source": [
    "# print length of outlier file for each subject to determine number of timepoints deemed outliers \n",
    "# by the current rapidart routine\n",
    "# define list of outlier numbers\n",
    "art_detect = {}\n",
    "outlier_nums = []\n",
    "\n",
    "for sub, subdir in zip(FEDs, FED_dirs):\n",
    "    artdetect_dir = subdir + \"artdetect/\"\n",
    "    if os.path.exists(artdetect_dir):\n",
    "        for file in os.listdir(artdetect_dir):\n",
    "            if re.match(r'.*outliers.txt', file):\n",
    "                outlier_file = os.path.join(artdetect_dir, file)\n",
    "                with open(outlier_file) as outliers:\n",
    "                    # amount of outliers is equal to the length of the outlier file\n",
    "                    amount = len(outliers.readlines())\n",
    "                    # for later comparison\n",
    "                    art_detect[sub] = amount\n",
    "                    # for present analysis\n",
    "                    outlier_nums.append(amount)\n",
    "                    print(f\"For {subdir}, {amount} \",\n",
    "                          \"outlier timepoints have been identified at the current rapidart-settings.\")\n",
    "    else:\n",
    "        print(f\"There is no directory named {artdetect_dir} yet\",\n",
    "              \"Check whether motion correction and outlier detection via rapidart have already been performed\")"
   ]
  },
  {
   "cell_type": "code",
   "execution_count": 152,
   "metadata": {},
   "outputs": [
    {
     "name": "stdout",
     "output_type": "stream",
     "text": [
      "FED048, with 44 outliers,  exceeds an outlier threshold of 2z in a normal distribution of the outlier numbers. \n",
      "FED048 will therefore be excluded from further analysis\n"
     ]
    }
   ],
   "source": [
    "# write loop that executes only if the required files exist and are complete\n",
    "if len(art_detect.keys()) == len(FEDs) and len(outlier_nums) == len(FEDs):\n",
    "    # create z-scores from outlier numbers and determine outlying subjects to be removed from further analysis\n",
    "    # transform list into np.array\n",
    "    outlier_zs = np.abs(sp.stats.zscore(outlier_nums))\n",
    "\n",
    "    # print values exceeding a custom threshold\n",
    "    out_threshold = 2  # standard definition of z-based outliers\n",
    "    excess_motion = outlier_zs[outlier_zs > out_threshold]\n",
    "\n",
    "    # form a combined list (nums & zs have the same orientation and size) and identify the outlier(s)\n",
    "    outlier_combined = [[a, b] for a, b in zip(outlier_nums, outlier_zs)]\n",
    "    to_be_removed = [x[0] for x in outlier_combined if x[1] in excess_motion]\n",
    "\n",
    "    # compare art_detect with to_be_removed and identify the FED subject ID\n",
    "    for sub in FEDs:\n",
    "        if art_detect[sub] in to_be_removed:\n",
    "            print(\"\\n\")\n",
    "            print(f\"{sub}, with {art_detect[sub]} outliers, \",\n",
    "                  f\"exceeds an outlier threshold of {out_threshold}z in a normal distribution of the outlier numbers.\",\n",
    "                  f\"\\n{sub} will therefore be excluded from further analysis\")\n",
    "            # remove subject from data\n",
    "            data.pop(sub)\n",
    "\n",
    "# update FEDs\n",
    "FEDs = [sub for sub in FEDs if sub in data.keys()]\n",
    "# re-define FED_dirs accordingly\n",
    "FED_dirs = sorted([os.path.join(basedir, f\"{fed}/\") for fed in FEDs])"
   ]
  },
  {
   "cell_type": "code",
   "execution_count": 4,
   "metadata": {},
   "outputs": [
    {
     "name": "stdout",
     "output_type": "stream",
     "text": [
      "\n",
      "\n",
      "The new subject list after motion correction and additional parameter calculations:\n",
      "\n",
      "['FED007', 'FED008', 'FED009', 'FED010', 'FED011', 'FED012', 'FED013', 'FED014', 'FED015', 'FED016', 'FED017', 'FED018', 'FED019', 'FED020', 'FED021', 'FED022', 'FED023', 'FED024', 'FED025', 'FED026', 'FED027', 'FED028', 'FED029', 'FED030', 'FED031', 'FED032', 'FED033', 'FED034', 'FED035', 'FED036', 'FED037', 'FED038', 'FED039', 'FED040', 'FED041', 'FED042', 'FED043', 'FED044', 'FED045', 'FED046', 'FED047', 'FED048', 'FED049', 'FED050', 'FED051', 'FED052', 'FED053', 'FED054', 'FED055', 'FED056', 'FED057', 'FED058', 'FED059', 'FED060', 'FED061', 'FED062', 'FED063', 'FED064', 'FED065', 'FED066', 'FED067', 'FED068']\n",
      "\n",
      "\n",
      "That leaves a total of  62 remaining subjects.\n",
      "\n",
      "\n"
     ]
    }
   ],
   "source": [
    "# control new subject list\n",
    "print(\"\\n\")\n",
    "print(\"The new subject list after motion correction and additional parameter calculations:\\n\")\n",
    "print(FEDs)\n",
    "print(\"\\n\")\n",
    "print(\"That leaves a total of \", len(FEDs), \"remaining subjects.\")\n",
    "print(\"\\n\")"
   ]
  },
  {
   "cell_type": "markdown",
   "metadata": {},
   "source": [
    "# QC"
   ]
  },
  {
   "cell_type": "markdown",
   "metadata": {},
   "source": [
    "Check rapidart thresholds with corresponding outlier numbers and think about their suitability"
   ]
  },
  {
   "cell_type": "markdown",
   "metadata": {},
   "source": [
    "Rapidart's global threshold level for spm_global masking -> needed, advisable, suitable?"
   ]
  }
 ],
 "metadata": {
  "kernelspec": {
   "display_name": "Python [conda env:neuro] *",
   "language": "python",
   "name": "conda-env-neuro-py"
  },
  "language_info": {
   "codemirror_mode": {
    "name": "ipython",
    "version": 3
   },
   "file_extension": ".py",
   "mimetype": "text/x-python",
   "name": "python",
   "nbconvert_exporter": "python",
   "pygments_lexer": "ipython3",
   "version": "3.7.10"
  }
 },
 "nbformat": 4,
 "nbformat_minor": 4
}
