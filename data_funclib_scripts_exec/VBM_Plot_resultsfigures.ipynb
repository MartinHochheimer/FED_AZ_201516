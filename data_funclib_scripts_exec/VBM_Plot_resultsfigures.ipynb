{
 "cells": [
  {
   "cell_type": "markdown",
   "metadata": {},
   "source": [
    "Gather necessary pre-requisites:"
   ]
  },
  {
   "cell_type": "code",
   "execution_count": 1,
   "metadata": {},
   "outputs": [
    {
     "name": "stdout",
     "output_type": "stream",
     "text": [
      "200404-08:19:50,907 nipype.utils INFO:\n",
      "\t Running nipype version 1.5.0-dev (latest: 1.4.2)\n"
     ]
    }
   ],
   "source": [
    "# import everything you need\n",
    "from nipype import Node, Workflow\n",
    "import nipype.interfaces.spm as spm\n",
    "from nilearn import plotting, datasets\n",
    "import numpy as np\n",
    "import matplotlib.pyplot as plt\n",
    "import pandas as pd\n",
    "import nibabel as nb\n",
    "import os, re\n",
    "from itertools import zip_longest"
   ]
  },
  {
   "cell_type": "code",
   "execution_count": 2,
   "metadata": {},
   "outputs": [],
   "source": [
    "# define useful functions\n",
    "# define show-slices function\n",
    "def show_slices(slices):\n",
    "    \"\"\" Function to display row of image slices \"\"\"\n",
    "    fig, axes = plt.subplots(1, len(slices))\n",
    "    for i, slice in enumerate(slices):\n",
    "        axes[i].imshow(slice.T, cmap=\"gray\", origin=\"lower\")\n",
    "# add suptitle via plt.suptitle\n",
    "        \n",
    "# check size of items and delete them when above a certain threshold\n",
    "from sys import getsizeof # function is not fully indicative -> look for better option\n",
    "def check_itemsize(items):\n",
    "    for i in items:\n",
    "        # return size of object in bytes\n",
    "        print(\"size of item\", i, \"is:\", getsizeof(i))\n",
    "        if getsizeof(i) > 10000: # think about dynamic coding for this\n",
    "            del i\n",
    "            print(\"deleted, object exceeded set threshold.\")\n",
    "        else:\n",
    "            print(\"retained, object is sufficiently small.\")"
   ]
  },
  {
   "cell_type": "code",
   "execution_count": 3,
   "metadata": {},
   "outputs": [],
   "source": [
    "# specify relevant directories\n",
    "VBM_dir = \"/VBM/\"\n",
    "norm_dirs = [os.path.join(VBM_dir, normdir)\n",
    "             for normdir in os.listdir(VBM_dir)\n",
    "             if normdir.startswith(\"DARTEL_norm2mni\")]\n",
    "\n",
    "MReg_dirs = [os.path.join(normdir, regdir)\n",
    "             for normdir in norm_dirs \n",
    "             for regdir in os.listdir(normdir)\n",
    "             if re.match(r'.*SPM_M.*', regdir)]\n",
    "\n",
    "MReg_ests = [os.path.join(regdir, estdir)\n",
    "             for regdir in MReg_dirs \n",
    "             for estdir in os.listdir(regdir)\n",
    "             if re.match(r'est.*', estdir)]\n",
    "\n",
    "Contrast_dirs = sorted([os.path.join(estdir, contdir)\n",
    "                        for estdir in MReg_ests \n",
    "                        for contdir in os.listdir(estdir)\n",
    "                        if re.match(r'est.*Cont.*', contdir)])\n"
   ]
  },
  {
   "cell_type": "code",
   "execution_count": 4,
   "metadata": {},
   "outputs": [
    {
     "name": "stdout",
     "output_type": "stream",
     "text": [
      "['/VBM/DARTEL_norm2mni_c1/GM_SPM_MReg_ANCScale/estimate_MReg/estimate_Contrasts', '/VBM/DARTEL_norm2mni_c1/GM_SPM_MReg_PropScale/estimate_MReg/estimate_Contrasts', '/VBM/DARTEL_norm2mni_c2/WM_SPM_MReg_ANCScale/estimate_MReg/estimate_Contrasts', '/VBM/DARTEL_norm2mni_c2/WM_SPM_MReg_PropScale/estimate_MReg/estimate_Contrasts']\n"
     ]
    }
   ],
   "source": [
    "print(Contrast_dirs)"
   ]
  },
  {
   "cell_type": "markdown",
   "metadata": {},
   "source": [
    "Get files"
   ]
  },
  {
   "cell_type": "code",
   "execution_count": 5,
   "metadata": {},
   "outputs": [],
   "source": [
    "# make one dict of all post-FDR dirs sorted into lists by content\n",
    "# [contrasts 1-4: dep>con, con>dep, male>female, young>old]\n",
    "\n",
    "# specify number of spmT_images\n",
    "spmT_img_nr=4\n",
    "stat_dirs_FDR={}\n",
    "\n",
    "# enter content in alphabetically sorted order\n",
    "stat_dirs_FDR[\"GM_ANCscale\"] = sorted([os.path.join(contdir, f\"FDR_spmT{contrast_index}\")\n",
    "                                  for contdir in Contrast_dirs \n",
    "                                  for contrast_index in range(1, (spmT_img_nr + 1))\n",
    "                                  if re.match(r'.*GM.*ANCScale.*', contdir)])\n",
    "\n",
    "stat_dirs_FDR[\"GM_propscale\"] = sorted([os.path.join(contdir, f\"FDR_spmT{contrast_index}\")\n",
    "                                   for contdir in Contrast_dirs \n",
    "                                   for contrast_index in range(1, (spmT_img_nr + 1))\n",
    "                                   if re.match(r'.*GM.*PropScale.*', contdir)])\n",
    "\n",
    "stat_dirs_FDR[\"WM_ANCscale\"] = sorted([os.path.join(contdir, f\"FDR_spmT{contrast_index}\")\n",
    "                                  for contdir in Contrast_dirs \n",
    "                                  for contrast_index in range(1, (spmT_img_nr + 1))\n",
    "                                  if re.match(r'.*WM.*ANCScale.*', contdir)])\n",
    "\n",
    "stat_dirs_FDR[\"WM_propscale\"] = sorted([os.path.join(contdir, f\"FDR_spmT{contrast_index}\")\n",
    "                                       for contdir in Contrast_dirs \n",
    "                                       for contrast_index in range(1, (spmT_img_nr + 1))\n",
    "                                       if re.match(r'.*WM.*PropScale.*', contdir)])\n",
    "\n",
    "# get the spmT images after FDR thresholding (show only surviving clusters)\n",
    "stat_images_postFDR={}\n",
    "\n",
    "for key in stat_dirs_FDR.keys():\n",
    "    stat_images_postFDR[key] = sorted([os.path.join(stat_dirs_FDR[key][index], img)\n",
    "                                       for index in range(0, len(stat_dirs_FDR[key]))\n",
    "                                       for img in os.listdir(stat_dirs_FDR[key][index])\n",
    "                                       if re.match(r'(^spmT.*\\d{4}_thr.nii)', img)])\n",
    "\n",
    "# define contrast names in order of creation (MReg model)\n",
    "con_names = [\"dep>con\", \"con>dep\", \"male>female\", \"young>old\"]\n",
    "\n",
    "# define the split GM and WM templates\n",
    "DARTEL_templates = [VBM_dir + f\"DARTEL_template/template_6_{i}.nii\" for i in [\"GM\", \"WM\"]]"
   ]
  },
  {
   "cell_type": "code",
   "execution_count": 6,
   "metadata": {
    "collapsed": true,
    "jupyter": {
     "outputs_hidden": true
    }
   },
   "outputs": [
    {
     "name": "stdout",
     "output_type": "stream",
     "text": [
      "FDR directories ...\n",
      "\n",
      "GM_ANCscale \n",
      " ['/VBM/DARTEL_norm2mni_c1/GM_SPM_MReg_ANCScale/estimate_MReg/estimate_Contrasts/FDR_spmT1', '/VBM/DARTEL_norm2mni_c1/GM_SPM_MReg_ANCScale/estimate_MReg/estimate_Contrasts/FDR_spmT2', '/VBM/DARTEL_norm2mni_c1/GM_SPM_MReg_ANCScale/estimate_MReg/estimate_Contrasts/FDR_spmT3', '/VBM/DARTEL_norm2mni_c1/GM_SPM_MReg_ANCScale/estimate_MReg/estimate_Contrasts/FDR_spmT4'] \n",
      " 4\n",
      "GM_propscale \n",
      " ['/VBM/DARTEL_norm2mni_c1/GM_SPM_MReg_PropScale/estimate_MReg/estimate_Contrasts/FDR_spmT1', '/VBM/DARTEL_norm2mni_c1/GM_SPM_MReg_PropScale/estimate_MReg/estimate_Contrasts/FDR_spmT2', '/VBM/DARTEL_norm2mni_c1/GM_SPM_MReg_PropScale/estimate_MReg/estimate_Contrasts/FDR_spmT3', '/VBM/DARTEL_norm2mni_c1/GM_SPM_MReg_PropScale/estimate_MReg/estimate_Contrasts/FDR_spmT4'] \n",
      " 4\n",
      "WM_ANCscale \n",
      " ['/VBM/DARTEL_norm2mni_c2/WM_SPM_MReg_ANCScale/estimate_MReg/estimate_Contrasts/FDR_spmT1', '/VBM/DARTEL_norm2mni_c2/WM_SPM_MReg_ANCScale/estimate_MReg/estimate_Contrasts/FDR_spmT2', '/VBM/DARTEL_norm2mni_c2/WM_SPM_MReg_ANCScale/estimate_MReg/estimate_Contrasts/FDR_spmT3', '/VBM/DARTEL_norm2mni_c2/WM_SPM_MReg_ANCScale/estimate_MReg/estimate_Contrasts/FDR_spmT4'] \n",
      " 4\n",
      "WM_propscale \n",
      " ['/VBM/DARTEL_norm2mni_c2/WM_SPM_MReg_PropScale/estimate_MReg/estimate_Contrasts/FDR_spmT1', '/VBM/DARTEL_norm2mni_c2/WM_SPM_MReg_PropScale/estimate_MReg/estimate_Contrasts/FDR_spmT2', '/VBM/DARTEL_norm2mni_c2/WM_SPM_MReg_PropScale/estimate_MReg/estimate_Contrasts/FDR_spmT3', '/VBM/DARTEL_norm2mni_c2/WM_SPM_MReg_PropScale/estimate_MReg/estimate_Contrasts/FDR_spmT4'] \n",
      " 4\n",
      "FDR thresholded statistical images ...\n",
      "\n",
      "GM_ANCscale \n",
      " ['/VBM/DARTEL_norm2mni_c1/GM_SPM_MReg_ANCScale/estimate_MReg/estimate_Contrasts/FDR_spmT1/spmT_0001_thr.nii', '/VBM/DARTEL_norm2mni_c1/GM_SPM_MReg_ANCScale/estimate_MReg/estimate_Contrasts/FDR_spmT2/spmT_0002_thr.nii', '/VBM/DARTEL_norm2mni_c1/GM_SPM_MReg_ANCScale/estimate_MReg/estimate_Contrasts/FDR_spmT3/spmT_0003_thr.nii', '/VBM/DARTEL_norm2mni_c1/GM_SPM_MReg_ANCScale/estimate_MReg/estimate_Contrasts/FDR_spmT4/spmT_0004_thr.nii'] \n",
      " 4\n",
      "GM_propscale \n",
      " ['/VBM/DARTEL_norm2mni_c1/GM_SPM_MReg_PropScale/estimate_MReg/estimate_Contrasts/FDR_spmT1/spmT_0001_thr.nii', '/VBM/DARTEL_norm2mni_c1/GM_SPM_MReg_PropScale/estimate_MReg/estimate_Contrasts/FDR_spmT2/spmT_0002_thr.nii', '/VBM/DARTEL_norm2mni_c1/GM_SPM_MReg_PropScale/estimate_MReg/estimate_Contrasts/FDR_spmT3/spmT_0003_thr.nii', '/VBM/DARTEL_norm2mni_c1/GM_SPM_MReg_PropScale/estimate_MReg/estimate_Contrasts/FDR_spmT4/spmT_0004_thr.nii'] \n",
      " 4\n",
      "WM_ANCscale \n",
      " ['/VBM/DARTEL_norm2mni_c2/WM_SPM_MReg_ANCScale/estimate_MReg/estimate_Contrasts/FDR_spmT1/spmT_0001_thr.nii', '/VBM/DARTEL_norm2mni_c2/WM_SPM_MReg_ANCScale/estimate_MReg/estimate_Contrasts/FDR_spmT2/spmT_0002_thr.nii', '/VBM/DARTEL_norm2mni_c2/WM_SPM_MReg_ANCScale/estimate_MReg/estimate_Contrasts/FDR_spmT3/spmT_0003_thr.nii', '/VBM/DARTEL_norm2mni_c2/WM_SPM_MReg_ANCScale/estimate_MReg/estimate_Contrasts/FDR_spmT4/spmT_0004_thr.nii'] \n",
      " 4\n",
      "WM_propscale \n",
      " ['/VBM/DARTEL_norm2mni_c2/WM_SPM_MReg_PropScale/estimate_MReg/estimate_Contrasts/FDR_spmT1/spmT_0001_thr.nii', '/VBM/DARTEL_norm2mni_c2/WM_SPM_MReg_PropScale/estimate_MReg/estimate_Contrasts/FDR_spmT2/spmT_0002_thr.nii', '/VBM/DARTEL_norm2mni_c2/WM_SPM_MReg_PropScale/estimate_MReg/estimate_Contrasts/FDR_spmT3/spmT_0003_thr.nii', '/VBM/DARTEL_norm2mni_c2/WM_SPM_MReg_PropScale/estimate_MReg/estimate_Contrasts/FDR_spmT4/spmT_0004_thr.nii'] \n",
      " 4\n"
     ]
    }
   ],
   "source": [
    "# control results \n",
    "print(\"FDR directories ...\\n\")\n",
    "for k,v in stat_dirs_FDR.items():\n",
    "    print(k,\"\\n\",v,\"\\n\",len(v))\n",
    "    \n",
    "print(\"FDR thresholded statistical images ...\\n\")\n",
    "for k,v in stat_images_postFDR.items():\n",
    "    print(k,\"\\n\",v,\"\\n\",len(v))"
   ]
  },
  {
   "cell_type": "markdown",
   "metadata": {},
   "source": [
    "Plot VBM results"
   ]
  },
  {
   "cell_type": "code",
   "execution_count": 47,
   "metadata": {
    "collapsed": true,
    "jupyter": {
     "outputs_hidden": true
    }
   },
   "outputs": [
    {
     "name": "stdout",
     "output_type": "stream",
     "text": [
      "This image seems to be empty. Continuing with next image ...\n",
      "This image seems to be empty. Continuing with next image ...\n",
      "This image seems to be empty. Continuing with next image ...\n",
      "This image seems to be empty. Continuing with next image ...\n",
      "This image seems to be empty. Continuing with next image ...\n",
      "This image seems to be empty. Continuing with next image ...\n",
      " Statistical image   /VBM/DARTEL_norm2mni_c1/GM_SPM_MReg_PropScale/estimate_MReg/estimate_Contrasts/FDR_spmT3/spmT_0003_thr.nii in   is not empty.\n",
      "Proceeding with figrue creation ...\n"
     ]
    },
    {
     "name": "stderr",
     "output_type": "stream",
     "text": [
      "/opt/miniconda-latest/envs/neuro/lib/python3.7/site-packages/ipykernel_launcher.py:7: RuntimeWarning: invalid value encountered in greater\n",
      "  import sys\n",
      "/opt/miniconda-latest/envs/neuro/lib/python3.7/site-packages/nilearn/plotting/displays.py:602: RuntimeWarning: More than 20 figures have been opened. Figures created through the pyplot interface (`matplotlib.pyplot.figure`) are retained until explicitly closed and may consume too much memory. (To control this warning, see the rcParam `figure.max_open_warning`).\n",
      "  facecolor=facecolor)\n"
     ]
    },
    {
     "name": "stdout",
     "output_type": "stream",
     "text": [
      "This image seems to be empty. Continuing with next image ...\n",
      "This image seems to be empty. Continuing with next image ...\n",
      "This image seems to be empty. Continuing with next image ...\n",
      "This image seems to be empty. Continuing with next image ...\n",
      "This image seems to be empty. Continuing with next image ...\n",
      "This image seems to be empty. Continuing with next image ...\n",
      "This image seems to be empty. Continuing with next image ...\n",
      " Statistical image   /VBM/DARTEL_norm2mni_c2/WM_SPM_MReg_PropScale/estimate_MReg/estimate_Contrasts/FDR_spmT3/spmT_0003_thr.nii in   is not empty.\n",
      "Proceeding with figrue creation ...\n"
     ]
    },
    {
     "name": "stderr",
     "output_type": "stream",
     "text": [
      "/opt/miniconda-latest/envs/neuro/lib/python3.7/site-packages/ipykernel_launcher.py:7: RuntimeWarning: invalid value encountered in greater\n",
      "  import sys\n",
      "/opt/miniconda-latest/envs/neuro/lib/python3.7/site-packages/nilearn/plotting/displays.py:602: RuntimeWarning: More than 20 figures have been opened. Figures created through the pyplot interface (`matplotlib.pyplot.figure`) are retained until explicitly closed and may consume too much memory. (To control this warning, see the rcParam `figure.max_open_warning`).\n",
      "  facecolor=facecolor)\n"
     ]
    },
    {
     "name": "stdout",
     "output_type": "stream",
     "text": [
      "This image seems to be empty. Continuing with next image ...\n",
      "This image seems to be empty. Continuing with next image ...\n",
      "This image seems to be empty. Continuing with next image ...\n",
      "This image seems to be empty. Continuing with next image ...\n",
      "This image seems to be empty. Continuing with next image ...\n",
      "This image seems to be empty. Continuing with next image ...\n",
      "This image seems to be empty. Continuing with next image ...\n",
      " Statistical image   /VBM/DARTEL_norm2mni_c1/GM_SPM_MReg_PropScale/estimate_MReg/estimate_Contrasts/FDR_spmT3/spmT_0003_thr.nii in   is not empty.\n",
      "Proceeding with figrue creation ...\n"
     ]
    },
    {
     "name": "stderr",
     "output_type": "stream",
     "text": [
      "/opt/miniconda-latest/envs/neuro/lib/python3.7/site-packages/ipykernel_launcher.py:37: RuntimeWarning: invalid value encountered in greater\n"
     ]
    },
    {
     "name": "stdout",
     "output_type": "stream",
     "text": [
      "This image seems to be empty. Continuing with next image ...\n",
      "This image seems to be empty. Continuing with next image ...\n",
      "This image seems to be empty. Continuing with next image ...\n",
      "This image seems to be empty. Continuing with next image ...\n",
      "This image seems to be empty. Continuing with next image ...\n",
      "This image seems to be empty. Continuing with next image ...\n",
      "This image seems to be empty. Continuing with next image ...\n",
      " Statistical image   /VBM/DARTEL_norm2mni_c2/WM_SPM_MReg_PropScale/estimate_MReg/estimate_Contrasts/FDR_spmT3/spmT_0003_thr.nii in   is not empty.\n",
      "Proceeding with figrue creation ...\n",
      "This image seems to be empty. Continuing with next image ...\n"
     ]
    }
   ],
   "source": [
    "# plot results only for any non-empty contrast after thresholding\n",
    "# for GM and WM (separately for proportional and ANCOVA scaling)\n",
    "\n",
    "for img_list,dir_list in zip(stat_images_postFDR.keys(),stat_dirs_FDR.keys()):\n",
    "    for index in range(0, len(stat_images_postFDR[img_list])):\n",
    "        index_nb = nb.load(stat_images_postFDR[img_list][index])\n",
    "        if index_nb.dataobj[:,:,:][index_nb.dataobj[:,:,:] > 0].any():\n",
    "            print(\" Statistical image  \", stat_images_postFDR[img_list][index], \"in \", \" is not empty.\")\n",
    "            print(\"Proceeding with figure creation ...\")\n",
    "            stat_img_3D_GM = plotting.view_img(stat_images_postFDR[img_list][index],\n",
    "                                               threshold=0, cut_coords=[-42, -16, 52],\n",
    "                                               title=con_names[2])\n",
    "            stat_map_zslice10_GM = plotting.plot_stat_map(stat_images_postFDR[img_list][index],\n",
    "                                                          threshold=0, display_mode=\"z\",\n",
    "                                                          cut_coords=10, title=con_names[2])\n",
    "            stat_map_xslice10_GM = plotting.plot_stat_map(stat_images_postFDR[img_list][index],\n",
    "                                                          threshold=0, display_mode=\"x\",\n",
    "                                                          cut_coords=10, title=con_names[2])\n",
    "            stat_map_yslice10_GM = plotting.plot_stat_map(stat_images_postFDR[img_list][index],\n",
    "                                                          threshold=0, display_mode=\"y\",\n",
    "                                                          cut_coords=10, title=con_names[2])\n",
    "            stat_img_3D_GM.save_as_html(os.path.join(stat_dirs_FDR[dir_list][index],\n",
    "                                                     f\"{stat_dirs_FDR[dir_list][index].rsplit('_', 1)[1]}_3Dimg_{dir_list.split('_', 1)[0]}.html\"))\n",
    "            stat_map_zslice10_GM.savefig(os.path.join(stat_dirs_FDR[dir_list][index],\n",
    "                                                      f\"{stat_dirs_FDR[dir_list][index].rsplit('_', 1)[1]}_statmap_Zslice10_{dir_list.split('_', 1)[0]}.png\"))\n",
    "            stat_map_xslice10_GM.savefig(os.path.join(stat_dirs_FDR[dir_list][index],\n",
    "                                                      f\"{stat_dirs_FDR[dir_list][index].rsplit('_', 1)[1]}_statmap_Xslice10_{dir_list.split('_', 1)[0]}.png\"))\n",
    "            stat_map_yslice10_GM.savefig(os.path.join(stat_dirs_FDR[dir_list][index],\n",
    "                                                      f\"{stat_dirs_FDR[dir_list][index].rsplit('_', 1)[1]}_statmap_Yslice10_{dir_list.split('_', 1)[0]}.png\"))\n",
    "        else:\n",
    "            print(\"This image seems to be empty. Continuing with next image ...\")\n",
    "\n",
    "\n",
    "for img_list,dir_list in zip(stat_images_postFDR.keys(),stat_dirs_FDR.keys()):\n",
    "    for index in range(0, len(stat_images_postFDR[img_list])):\n",
    "        index_nb = nb.load(stat_images_postFDR[img_list][index])\n",
    "        if index_nb.dataobj[:,:,:][index_nb.dataobj[:,:,:] > 0].any():\n",
    "            print(\" Statistical image  \", stat_images_postFDR[img_list][index], \"in \", \" is not empty.\")\n",
    "            print(\"Proceeding with figure creation ...\")\n",
    "            index_nb = nb.load(stat_images_postFDR[img_list][index])\n",
    "            for temp in range(0, len(DARTEL_templates)):\n",
    "                stat_map_zslice10_ontemplate_GM = plotting.plot_stat_map(stat_images_postFDR[img_list][index],\n",
    "                                                                         threshold=0, display_mode=\"z\",\n",
    "                                                                         cut_coords=10, title=con_names[index],\n",
    "                                                                         bg_img=DARTEL_templates[temp])\n",
    "                stat_map_zslice10_ontemplate_GM.savefig(os.path.join(stat_dirs_FDR[dir_list][index],\n",
    "                                                                     f\"{stat_dirs_FDR[dir_list][index].rsplit('_', 1)[1]}_statmap_Zslice10_ontemplate_{dir_list.split('_', 1)[0]}.png\"))\n",
    "        else:\n",
    "            print(\"This image seems to be empty. Continuing with next image ...\")"
   ]
  },
  {
   "cell_type": "code",
   "execution_count": null,
   "metadata": {},
   "outputs": [],
   "source": []
  },
  {
   "cell_type": "code",
   "execution_count": null,
   "metadata": {},
   "outputs": [],
   "source": []
  },
  {
   "cell_type": "markdown",
   "metadata": {},
   "source": [
    "Testing Zone"
   ]
  },
  {
   "cell_type": "code",
   "execution_count": 61,
   "metadata": {},
   "outputs": [
    {
     "name": "stdout",
     "output_type": "stream",
     "text": [
      "/VBM/DARTEL_norm2mni_c2/SPM_MultiReg_WM/estimate_MReg/estimate_Contrats/FDR_spmT3\n"
     ]
    }
   ],
   "source": [
    "print(FDR_dirs[6])"
   ]
  },
  {
   "cell_type": "code",
   "execution_count": null,
   "metadata": {},
   "outputs": [],
   "source": [
    "# make presentation figure showing middle slice of one struct and one fMRI\n",
    "# activate in-line magic\n",
    "%matplotlib inline\n",
    "\n",
    "# get the relevant volume out of the 4D nifti\n",
    "fmri1=nimg.load_img(FMRI[0])\n",
    "fmri1_middle=nimg.index_img(fmri1, fmri1.shape[3] // 2)\n",
    "\n",
    "#plot everything\n",
    "bettercolours=plot_epi(fmri1_middle, cut_coords=(10,10,40),\n",
    "          display_mode='ortho', cmap=\"CMRmap\", draw_cross=False, annotate=False)\n",
    "normal=plot_epi(fmri1_middle, cut_coords=(10,10,40),\n",
    "          display_mode='ortho', cmap=\"gray\", draw_cross=False, annotate=False)\n",
    "\n",
    "# safe files for presentation\n",
    "\n",
    "bettercolours.savefig(\"/fMRI/fMRI_bettercolours.png\")\n",
    "normal.savefig(\"/fMRI/fMRI_normal.png\")\n",
    "struct.savefig(\"/fMRI/structMRI_normal.png\")"
   ]
  }
 ],
 "metadata": {
  "kernelspec": {
   "display_name": "Python [conda env:neuro] *",
   "language": "python",
   "name": "conda-env-neuro-py"
  },
  "language_info": {
   "codemirror_mode": {
    "name": "ipython",
    "version": 3
   },
   "file_extension": ".py",
   "mimetype": "text/x-python",
   "name": "python",
   "nbconvert_exporter": "python",
   "pygments_lexer": "ipython3",
   "version": "3.7.6"
  }
 },
 "nbformat": 4,
 "nbformat_minor": 4
}
