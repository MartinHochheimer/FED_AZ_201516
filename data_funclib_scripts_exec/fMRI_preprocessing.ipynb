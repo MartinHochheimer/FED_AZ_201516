{
 "cells": [
  {
   "cell_type": "markdown",
   "metadata": {},
   "source": [
    "Gather necessary pre-requisites:"
   ]
  },
  {
   "cell_type": "code",
   "execution_count": 1,
   "metadata": {},
   "outputs": [],
   "source": [
    "# import everything you need\n",
    "from nipype import Node, Workflow\n",
    "import nipype.interfaces.fsl as fsl\n",
    "import nipype.interfaces.spm as spm\n",
    "import nibabel as nb\n",
    "import numpy as np\n",
    "import pandas as pd\n",
    "import matplotlib.pyplot as plt\n",
    "import os, re, json"
   ]
  },
  {
   "cell_type": "code",
   "execution_count": 7,
   "metadata": {},
   "outputs": [],
   "source": [
    "# define base diectory for fMRI folder structure and FEDs\n",
    "basedir=\"/fMRI/\"\n",
    "FED_dirs=[os.path.join(basedir, FED) \n",
    "          for FED in os.listdir(basedir)]"
   ]
  },
  {
   "cell_type": "markdown",
   "metadata": {},
   "source": [
    "Get relevant files"
   ]
  },
  {
   "cell_type": "code",
   "execution_count": 8,
   "metadata": {},
   "outputs": [],
   "source": [
    "# collect structural images\n",
    "files=sorted([os.path.join(basedir, subdir, content)\n",
    "       for subdir in FED_dirs\n",
    "       for content in os.listdir(subdir)\n",
    "       if re.match(r'(.*.(nii|json))', content)])"
   ]
  },
  {
   "cell_type": "code",
   "execution_count": 9,
   "metadata": {},
   "outputs": [],
   "source": [
    "# create a dictionary storing all files/subject\n",
    "data={}\n",
    "for fed in FED_dirs:\n",
    "    ID=fed.rsplit('/', 1)[1]\n",
    "    # define partition for each subject\n",
    "    subject={\"files\":[], \"parameters\":{}}\n",
    "    content=[]\n",
    "    for file in files:\n",
    "        if re.match(fr'(.*{ID}.*)', file):\n",
    "            content.append(file)\n",
    "    subject[\"files\"].extend(content)\n",
    "    data[ID]=subject\n",
    "    \n",
    "# create shortcut to FEDs\n",
    "FEDs=[key for key in data.keys()]"
   ]
  },
  {
   "cell_type": "code",
   "execution_count": 10,
   "metadata": {
    "collapsed": true,
    "jupyter": {
     "outputs_hidden": true
    }
   },
   "outputs": [
    {
     "name": "stdout",
     "output_type": "stream",
     "text": [
      "{'files': ['/fMRI/FED023/FMRI_FS_0010_20141216144604_10.json', '/fMRI/FED023/FMRI_FS_0010_20141216144604_10.nii', '/fMRI/FED023/GRE_FIELD_MAPPING_0006_20141216144604_e1.json', '/fMRI/FED023/GRE_FIELD_MAPPING_0006_20141216144604_e1.nii', '/fMRI/FED023/GRE_FIELD_MAPPING_0006_20141216144604_e2.json', '/fMRI/FED023/GRE_FIELD_MAPPING_0006_20141216144604_e2.nii', '/fMRI/FED023/GRE_FIELD_MAPPING_0007_20141216144604_e2_ph.json', '/fMRI/FED023/GRE_FIELD_MAPPING_0007_20141216144604_e2_ph.nii', '/fMRI/FED023/GRE_FIELD_MAPPING_0021_20141216144604_e1.json', '/fMRI/FED023/GRE_FIELD_MAPPING_0021_20141216144604_e1.nii', '/fMRI/FED023/GRE_FIELD_MAPPING_0021_20141216144604_e2.json', '/fMRI/FED023/GRE_FIELD_MAPPING_0021_20141216144604_e2.nii', '/fMRI/FED023/GRE_FIELD_MAPPING_0022_20141216144604_e2_ph.json', '/fMRI/FED023/GRE_FIELD_MAPPING_0022_20141216144604_e2_ph.nii', '/fMRI/FED023/T1_MPRAGE_0005_20141216144604.json', '/fMRI/FED023/T1_MPRAGE_0005_20141216144604.nii'], 'parameters': {}}\n"
     ]
    }
   ],
   "source": [
    "# control results\n",
    "print(data[\"FED023\"])"
   ]
  },
  {
   "cell_type": "markdown",
   "metadata": {},
   "source": [
    "Processing"
   ]
  },
  {
   "cell_type": "markdown",
   "metadata": {},
   "source": [
    "Raw data artefact rejection (visual inspection)"
   ]
  },
  {
   "cell_type": "markdown",
   "metadata": {},
   "source": [
    "decided against ICA, as it potentially introduces a lot of artifical signal into the data and is, after visual QC, redundant at this point."
   ]
  },
  {
   "cell_type": "markdown",
   "metadata": {},
   "source": [
    "Distortion correction \\\n",
    "(minimised with Scott @ scantime\n",
    "-> still present in frontal poles etc.)"
   ]
  },
  {
   "cell_type": "code",
   "execution_count": 11,
   "metadata": {},
   "outputs": [
    {
     "name": "stdout",
     "output_type": "stream",
     "text": [
      "FED022 \n",
      " More than 2 GRE_FIELD sequences {4} .... selecting first two for TE extraction \n",
      "\n",
      "FED023 \n",
      " More than 2 GRE_FIELD sequences {4} .... selecting first two for TE extraction \n",
      "\n"
     ]
    }
   ],
   "source": [
    "# read json info data for Echo times etc.\n",
    "# define info of interest\n",
    "GREspecs=[\"EchoTime\"]\n",
    "#fMRIspecs=[]\n",
    "for subject in FEDs:\n",
    "    # collect files/FED\n",
    "    GREs=[file for file in data[subject][\"files\"]\n",
    "           if re.match(r'(.*(e1|e2(?!_ph)).*.json)', file)]\n",
    "#    funcs=[file for file in data[subject][\"files\"]\n",
    "#           if re.match(r'(.*(FMRI).*.json)', file)]\n",
    "\n",
    "    # collect short and long TE from the respective echoes\n",
    "    gre=[]\n",
    "    for file in GREs:\n",
    "        with open(file) as json_file:\n",
    "            info=json.load(json_file)\n",
    "            gre.extend([info[param] for param in GREspecs])\n",
    "    # if there is more than one echo set, take the first one as they are likely to be closer to the fMRI acquisition\n",
    "    if len(gre) > 2:\n",
    "        print(subject, \"\\n\", \"More than 2 GRE_FIELD sequences\",\n",
    "              {len(gre)}, \".... selecting first two for TE extraction\", \"\\n\")\n",
    "        gre = gre[0:2]\n",
    "    # put TEs into data\n",
    "    data[subject][\"parameters\"][\"grefield_TEs\"]=gre"
   ]
  },
  {
   "cell_type": "code",
   "execution_count": 35,
   "metadata": {
    "collapsed": true,
    "jupyter": {
     "outputs_hidden": true
    }
   },
   "outputs": [
    {
     "name": "stdout",
     "output_type": "stream",
     "text": [
      "FED015 \n",
      " [0.00492, 0.00738]\n",
      "2 GRE_FIELD sequences  \n",
      "\n",
      "FED012 \n",
      " [0.00492, 0.00738]\n",
      "2 GRE_FIELD sequences  \n",
      "\n",
      "FED047 \n",
      " []\n",
      "Not enough GRE_FIELD sequences to read out .... investigate \n",
      "\n",
      "FED037 \n",
      " []\n",
      "Not enough GRE_FIELD sequences to read out .... investigate \n",
      "\n",
      "FED030 \n",
      " [0.00492, 0.00738]\n",
      "2 GRE_FIELD sequences  \n",
      "\n",
      "FED006 \n",
      " []\n",
      "Not enough GRE_FIELD sequences to read out .... investigate \n",
      "\n",
      "FED054 \n",
      " [0.00492, 0.00738]\n",
      "2 GRE_FIELD sequences  \n",
      "\n",
      "FED042 \n",
      " [0.00492, 0.00738]\n",
      "2 GRE_FIELD sequences  \n",
      "\n",
      "FED024 \n",
      " [0.00492, 0.00738]\n",
      "2 GRE_FIELD sequences  \n",
      "\n",
      "FED038 \n",
      " [0.00492, 0.00738]\n",
      "2 GRE_FIELD sequences  \n",
      "\n",
      "FED045 \n",
      " [0.00492, 0.00738]\n",
      "2 GRE_FIELD sequences  \n",
      "\n",
      "FED061 \n",
      " [0.00492, 0.00738]\n",
      "2 GRE_FIELD sequences  \n",
      "\n",
      "FED035 \n",
      " [0.00492, 0.00738]\n",
      "2 GRE_FIELD sequences  \n",
      "\n",
      "FED022 \n",
      " [0.00492, 0.00738]\n",
      "2 GRE_FIELD sequences  \n",
      "\n",
      "FED009 \n",
      " [0.00492, 0.00738]\n",
      "2 GRE_FIELD sequences  \n",
      "\n",
      "FED036 \n",
      " [0.00492, 0.00738]\n",
      "2 GRE_FIELD sequences  \n",
      "\n",
      "FED019 \n",
      " [0.00492, 0.00738]\n",
      "2 GRE_FIELD sequences  \n",
      "\n",
      "FED017 \n",
      " [0.00492, 0.00738]\n",
      "2 GRE_FIELD sequences  \n",
      "\n",
      "FED053 \n",
      " [0.00492, 0.00738]\n",
      "2 GRE_FIELD sequences  \n",
      "\n",
      "FED043 \n",
      " [0.00492, 0.00738]\n",
      "2 GRE_FIELD sequences  \n",
      "\n",
      "FED055 \n",
      " [0.00492, 0.00738]\n",
      "2 GRE_FIELD sequences  \n",
      "\n",
      "FED058 \n",
      " [0.00492, 0.00738]\n",
      "2 GRE_FIELD sequences  \n",
      "\n",
      "FED066 \n",
      " [0.00492, 0.00738]\n",
      "2 GRE_FIELD sequences  \n",
      "\n",
      "FED021 \n",
      " [0.00492, 0.00738]\n",
      "2 GRE_FIELD sequences  \n",
      "\n",
      "FED056 \n",
      " [0.00492, 0.00738]\n",
      "2 GRE_FIELD sequences  \n",
      "\n",
      "FED027 \n",
      " [0.00492, 0.00738]\n",
      "2 GRE_FIELD sequences  \n",
      "\n",
      "FED067 \n",
      " []\n",
      "Not enough GRE_FIELD sequences to read out .... investigate \n",
      "\n",
      "FED020 \n",
      " [0.00492, 0.00738]\n",
      "2 GRE_FIELD sequences  \n",
      "\n",
      "FED048 \n",
      " [0.00492, 0.00738]\n",
      "2 GRE_FIELD sequences  \n",
      "\n",
      "FED026 \n",
      " [0.00492, 0.00738]\n",
      "2 GRE_FIELD sequences  \n",
      "\n",
      "FED008 \n",
      " []\n",
      "Not enough GRE_FIELD sequences to read out .... investigate \n",
      "\n",
      "FED016 \n",
      " [0.00492, 0.00738]\n",
      "2 GRE_FIELD sequences  \n",
      "\n",
      "FED013 \n",
      " [0.00492, 0.00738]\n",
      "2 GRE_FIELD sequences  \n",
      "\n",
      "FED031 \n",
      " [0.00492, 0.00738]\n",
      "2 GRE_FIELD sequences  \n",
      "\n",
      "FED039 \n",
      " [0.00492, 0.00738]\n",
      "2 GRE_FIELD sequences  \n",
      "\n",
      "FED025 \n",
      " [0.00492, 0.00738]\n",
      "2 GRE_FIELD sequences  \n",
      "\n",
      "FED023 \n",
      " [0.00492, 0.00738]\n",
      "2 GRE_FIELD sequences  \n",
      "\n",
      "FED044 \n",
      " [0.00492, 0.00738]\n",
      "2 GRE_FIELD sequences  \n",
      "\n",
      "FED057 \n",
      " [0.00492, 0.00738]\n",
      "2 GRE_FIELD sequences  \n",
      "\n",
      "FED064 \n",
      " [0.00492, 0.00738]\n",
      "2 GRE_FIELD sequences  \n",
      "\n",
      "FED010 \n",
      " [0.00492, 0.00738]\n",
      "2 GRE_FIELD sequences  \n",
      "\n",
      "FED065 \n",
      " [0.00492, 0.00738]\n",
      "2 GRE_FIELD sequences  \n",
      "\n",
      "FED068 \n",
      " [0.00492, 0.00738]\n",
      "2 GRE_FIELD sequences  \n",
      "\n",
      "FED014 \n",
      " [0.00492, 0.00738]\n",
      "2 GRE_FIELD sequences  \n",
      "\n",
      "FED033 \n",
      " [0.00492, 0.00738]\n",
      "2 GRE_FIELD sequences  \n",
      "\n",
      "FED063 \n",
      " [0.00492, 0.00738]\n",
      "2 GRE_FIELD sequences  \n",
      "\n",
      "FED050 \n",
      " [0.00492, 0.00738]\n",
      "2 GRE_FIELD sequences  \n",
      "\n",
      "FED040 \n",
      " [0.00492, 0.00738]\n",
      "2 GRE_FIELD sequences  \n",
      "\n",
      "FED062 \n",
      " [0.00492, 0.00738]\n",
      "2 GRE_FIELD sequences  \n",
      "\n",
      "FED052 \n",
      " [0.00492, 0.00738]\n",
      "2 GRE_FIELD sequences  \n",
      "\n",
      "FED029 \n",
      " []\n",
      "Not enough GRE_FIELD sequences to read out .... investigate \n",
      "\n",
      "FED034 \n",
      " [0.00492, 0.00738]\n",
      "2 GRE_FIELD sequences  \n",
      "\n",
      "FED007 \n",
      " [0.00492, 0.00738]\n",
      "2 GRE_FIELD sequences  \n",
      "\n",
      "FED041 \n",
      " [0.00492, 0.00738]\n",
      "2 GRE_FIELD sequences  \n",
      "\n",
      "FED028 \n",
      " [0.00492, 0.00738]\n",
      "2 GRE_FIELD sequences  \n",
      "\n",
      "FED011 \n",
      " [0.00492, 0.00738]\n",
      "2 GRE_FIELD sequences  \n",
      "\n",
      "FED059 \n",
      " [0.00492, 0.00738]\n",
      "2 GRE_FIELD sequences  \n",
      "\n",
      "FED049 \n",
      " [0.00492, 0.00738]\n",
      "2 GRE_FIELD sequences  \n",
      "\n",
      "FED046 \n",
      " [0.00492, 0.00738]\n",
      "2 GRE_FIELD sequences  \n",
      "\n",
      "FED032 \n",
      " [0.00492, 0.00738]\n",
      "2 GRE_FIELD sequences  \n",
      "\n",
      "FED018 \n",
      " [0.00492, 0.00738]\n",
      "2 GRE_FIELD sequences  \n",
      "\n",
      "FED051 \n",
      " [0.00492, 0.00738]\n",
      "2 GRE_FIELD sequences  \n",
      "\n",
      "FED060 \n",
      " [0.00492, 0.00738]\n",
      "2 GRE_FIELD sequences  \n",
      "\n",
      "\n",
      "\n",
      " The following subjects where excluded from distortion correction due to insufficient data:  \n",
      " ['FED006', 'FED008', 'FED029', 'FED037', 'FED047', 'FED067']\n"
     ]
    }
   ],
   "source": [
    "# control data\n",
    "\n",
    "# There seem to be several more omissions than expected\n",
    "# investigate\n",
    "GRE_excluded=[]\n",
    "for sub in FEDs:\n",
    "    print(sub, \"\\n\", data[sub][\"parameters\"][\"grefield_TEs\"])\n",
    "    if len(data[sub][\"parameters\"][\"grefield_TEs\"]) < 2:\n",
    "        print(\"Not enough GRE_FIELD sequences to read out .... investigate\", \"\\n\")\n",
    "        GRE_excluded.append(sub)\n",
    "    # can't be larger than 2 ... see above^^\n",
    "    else:\n",
    "        print(len(data[sub][\"parameters\"][\"grefield_TEs\"]),\n",
    "              \"GRE_FIELD sequences\", \" \\n\")\n",
    "        \n",
    "# exclude FEDs from distortion correction\n",
    "print(\"\\n\\n\", \"The following subjects where excluded from distortion correction due to insufficient data: \", \"\\n\", sorted(GRE_excluded))\n",
    "\n",
    "# make new list for calculating fieldmaps\n",
    "gre_FEDs=[file for file in FEDs if file not in GRE_excluded]"
   ]
  },
  {
   "cell_type": "code",
   "execution_count": 1,
   "metadata": {},
   "outputs": [],
   "source": [
    "# prepare the gradient field scans (1 phase and 1 magnitude image)\n",
    "# for usage in distortion correction: fieldmap FSL, rest SPM\n",
    "\n"
   ]
  },
  {
   "cell_type": "code",
   "execution_count": null,
   "metadata": {},
   "outputs": [],
   "source": [
    "# BET on magnitude images\n"
   ]
  },
  {
   "cell_type": "code",
   "execution_count": 56,
   "metadata": {
    "collapsed": true,
    "jupyter": {
     "outputs_hidden": true
    }
   },
   "outputs": [
    {
     "name": "stdout",
     "output_type": "stream",
     "text": [
      "200914-16:11:06,845 nipype.workflow INFO:\n",
      "\t [Node] Setting-up \"GRE_fieldmap\" in \"/tmp/tmpjqq1raod/GRE_fieldmap\".\n",
      "200914-16:11:06,849 nipype.workflow INFO:\n",
      "\t [Node] Running \"GRE_fieldmap\" (\"nipype.interfaces.fsl.epi.PrepareFieldmap\"), a CommandLine Interface with command:\n",
      "fsl_prepare_fieldmap SIEMENS /fMRI/FED015/GRE_FIELD_MAPPING_0007_20141202145526_e2_ph.nii /fMRI/FED015/GRE_FIELD_MAPPING_0006_20141202145526_e1.nii /fMRI/FED015/GRE_FieldMap 2.460000\n",
      "200914-16:11:07,63 nipype.interface INFO:\n",
      "\t stdout 2020-09-14T16:11:07.062894:Magntiude (abs) image should be brain extracted\n",
      "200914-16:11:07,64 nipype.interface INFO:\n",
      "\t stdout 2020-09-14T16:11:07.062894:Please run BET on image /fMRI/FED015/GRE_FIELD_MAPPING_0006_20141202145526_e1 before using it here\n",
      "200914-16:11:07,171 nipype.workflow WARNING:\n",
      "\t Storing result file without outputs\n",
      "200914-16:11:07,173 nipype.workflow WARNING:\n",
      "\t [Node] Error on \"GRE_fieldmap\" (/tmp/tmpjqq1raod/GRE_fieldmap)\n"
     ]
    },
    {
     "ename": "RuntimeError",
     "evalue": "Command:\nfsl_prepare_fieldmap SIEMENS /fMRI/FED015/GRE_FIELD_MAPPING_0007_20141202145526_e2_ph.nii /fMRI/FED015/GRE_FIELD_MAPPING_0006_20141202145526_e1.nii /fMRI/FED015/GRE_FieldMap 2.460000\nStandard output:\nMagntiude (abs) image should be brain extracted\nPlease run BET on image /fMRI/FED015/GRE_FIELD_MAPPING_0006_20141202145526_e1 before using it here\nStandard error:\n\nReturn code: 2",
     "output_type": "error",
     "traceback": [
      "\u001b[0;31m---------------------------------------------------------------------------\u001b[0m",
      "\u001b[0;31mRuntimeError\u001b[0m                              Traceback (most recent call last)",
      "\u001b[0;32m<ipython-input-56-20b4e8aad1de>\u001b[0m in \u001b[0;36m<module>\u001b[0;34m\u001b[0m\n\u001b[1;32m     18\u001b[0m     \u001b[0mbuild_fieldmap\u001b[0m\u001b[0;34m.\u001b[0m\u001b[0minputs\u001b[0m\u001b[0;34m.\u001b[0m\u001b[0mout_fieldmap\u001b[0m\u001b[0;34m=\u001b[0m\u001b[0;34mf\"{os.path.join(basedir, sub)}/GRE_FieldMap\"\u001b[0m\u001b[0;34m\u001b[0m\u001b[0;34m\u001b[0m\u001b[0m\n\u001b[1;32m     19\u001b[0m     \u001b[0mbuild_fieldmap\u001b[0m\u001b[0;34m.\u001b[0m\u001b[0minputs\u001b[0m\u001b[0;34m.\u001b[0m\u001b[0moutput_type\u001b[0m\u001b[0;34m=\u001b[0m\u001b[0;34m\"NIFTI\"\u001b[0m\u001b[0;34m\u001b[0m\u001b[0;34m\u001b[0m\u001b[0m\n\u001b[0;32m---> 20\u001b[0;31m     \u001b[0mresults\u001b[0m\u001b[0;34m=\u001b[0m \u001b[0mbuild_fieldmap\u001b[0m\u001b[0;34m.\u001b[0m\u001b[0mrun\u001b[0m\u001b[0;34m(\u001b[0m\u001b[0;34m)\u001b[0m\u001b[0;34m\u001b[0m\u001b[0;34m\u001b[0m\u001b[0m\n\u001b[0m\u001b[1;32m     21\u001b[0m     \u001b[0mprint\u001b[0m\u001b[0;34m(\u001b[0m\u001b[0mresults\u001b[0m\u001b[0;34m.\u001b[0m\u001b[0moutputs\u001b[0m\u001b[0;34m)\u001b[0m\u001b[0;34m\u001b[0m\u001b[0;34m\u001b[0m\u001b[0m\n",
      "\u001b[0;32m/opt/miniconda-latest/envs/neuro/lib/python3.7/site-packages/nipype/pipeline/engine/nodes.py\u001b[0m in \u001b[0;36mrun\u001b[0;34m(self, updatehash)\u001b[0m\n\u001b[1;32m    514\u001b[0m \u001b[0;34m\u001b[0m\u001b[0m\n\u001b[1;32m    515\u001b[0m         \u001b[0;32mtry\u001b[0m\u001b[0;34m:\u001b[0m\u001b[0;34m\u001b[0m\u001b[0;34m\u001b[0m\u001b[0m\n\u001b[0;32m--> 516\u001b[0;31m             \u001b[0mresult\u001b[0m \u001b[0;34m=\u001b[0m \u001b[0mself\u001b[0m\u001b[0;34m.\u001b[0m\u001b[0m_run_interface\u001b[0m\u001b[0;34m(\u001b[0m\u001b[0mexecute\u001b[0m\u001b[0;34m=\u001b[0m\u001b[0;32mTrue\u001b[0m\u001b[0;34m)\u001b[0m\u001b[0;34m\u001b[0m\u001b[0;34m\u001b[0m\u001b[0m\n\u001b[0m\u001b[1;32m    517\u001b[0m         \u001b[0;32mexcept\u001b[0m \u001b[0mException\u001b[0m\u001b[0;34m:\u001b[0m\u001b[0;34m\u001b[0m\u001b[0;34m\u001b[0m\u001b[0m\n\u001b[1;32m    518\u001b[0m             \u001b[0mlogger\u001b[0m\u001b[0;34m.\u001b[0m\u001b[0mwarning\u001b[0m\u001b[0;34m(\u001b[0m\u001b[0;34m'[Node] Error on \"%s\" (%s)'\u001b[0m\u001b[0;34m,\u001b[0m \u001b[0mself\u001b[0m\u001b[0;34m.\u001b[0m\u001b[0mfullname\u001b[0m\u001b[0;34m,\u001b[0m \u001b[0moutdir\u001b[0m\u001b[0;34m)\u001b[0m\u001b[0;34m\u001b[0m\u001b[0;34m\u001b[0m\u001b[0m\n",
      "\u001b[0;32m/opt/miniconda-latest/envs/neuro/lib/python3.7/site-packages/nipype/pipeline/engine/nodes.py\u001b[0m in \u001b[0;36m_run_interface\u001b[0;34m(self, execute, updatehash)\u001b[0m\n\u001b[1;32m    633\u001b[0m             \u001b[0mself\u001b[0m\u001b[0;34m.\u001b[0m\u001b[0m_update_hash\u001b[0m\u001b[0;34m(\u001b[0m\u001b[0;34m)\u001b[0m\u001b[0;34m\u001b[0m\u001b[0;34m\u001b[0m\u001b[0m\n\u001b[1;32m    634\u001b[0m             \u001b[0;32mreturn\u001b[0m \u001b[0mself\u001b[0m\u001b[0;34m.\u001b[0m\u001b[0m_load_results\u001b[0m\u001b[0;34m(\u001b[0m\u001b[0;34m)\u001b[0m\u001b[0;34m\u001b[0m\u001b[0;34m\u001b[0m\u001b[0m\n\u001b[0;32m--> 635\u001b[0;31m         \u001b[0;32mreturn\u001b[0m \u001b[0mself\u001b[0m\u001b[0;34m.\u001b[0m\u001b[0m_run_command\u001b[0m\u001b[0;34m(\u001b[0m\u001b[0mexecute\u001b[0m\u001b[0;34m)\u001b[0m\u001b[0;34m\u001b[0m\u001b[0;34m\u001b[0m\u001b[0m\n\u001b[0m\u001b[1;32m    636\u001b[0m \u001b[0;34m\u001b[0m\u001b[0m\n\u001b[1;32m    637\u001b[0m     \u001b[0;32mdef\u001b[0m \u001b[0m_load_results\u001b[0m\u001b[0;34m(\u001b[0m\u001b[0mself\u001b[0m\u001b[0;34m)\u001b[0m\u001b[0;34m:\u001b[0m\u001b[0;34m\u001b[0m\u001b[0;34m\u001b[0m\u001b[0m\n",
      "\u001b[0;32m/opt/miniconda-latest/envs/neuro/lib/python3.7/site-packages/nipype/pipeline/engine/nodes.py\u001b[0m in \u001b[0;36m_run_command\u001b[0;34m(self, execute, copyfiles)\u001b[0m\n\u001b[1;32m    739\u001b[0m         \u001b[0mlogger\u001b[0m\u001b[0;34m.\u001b[0m\u001b[0minfo\u001b[0m\u001b[0;34m(\u001b[0m\u001b[0mmessage\u001b[0m\u001b[0;34m)\u001b[0m\u001b[0;34m\u001b[0m\u001b[0;34m\u001b[0m\u001b[0m\n\u001b[1;32m    740\u001b[0m         \u001b[0;32mtry\u001b[0m\u001b[0;34m:\u001b[0m\u001b[0;34m\u001b[0m\u001b[0;34m\u001b[0m\u001b[0m\n\u001b[0;32m--> 741\u001b[0;31m             \u001b[0mresult\u001b[0m \u001b[0;34m=\u001b[0m \u001b[0mself\u001b[0m\u001b[0;34m.\u001b[0m\u001b[0m_interface\u001b[0m\u001b[0;34m.\u001b[0m\u001b[0mrun\u001b[0m\u001b[0;34m(\u001b[0m\u001b[0mcwd\u001b[0m\u001b[0;34m=\u001b[0m\u001b[0moutdir\u001b[0m\u001b[0;34m)\u001b[0m\u001b[0;34m\u001b[0m\u001b[0;34m\u001b[0m\u001b[0m\n\u001b[0m\u001b[1;32m    742\u001b[0m         \u001b[0;32mexcept\u001b[0m \u001b[0mException\u001b[0m \u001b[0;32mas\u001b[0m \u001b[0mmsg\u001b[0m\u001b[0;34m:\u001b[0m\u001b[0;34m\u001b[0m\u001b[0;34m\u001b[0m\u001b[0m\n\u001b[1;32m    743\u001b[0m             result.runtime.stderr = \"%s\\n\\n%s\".format(\n",
      "\u001b[0;32m/opt/miniconda-latest/envs/neuro/lib/python3.7/site-packages/nipype/interfaces/base/core.py\u001b[0m in \u001b[0;36mrun\u001b[0;34m(self, cwd, ignore_exception, **inputs)\u001b[0m\n\u001b[1;32m    417\u001b[0m         \u001b[0;32mtry\u001b[0m\u001b[0;34m:\u001b[0m\u001b[0;34m\u001b[0m\u001b[0;34m\u001b[0m\u001b[0m\n\u001b[1;32m    418\u001b[0m             \u001b[0mruntime\u001b[0m \u001b[0;34m=\u001b[0m \u001b[0mself\u001b[0m\u001b[0;34m.\u001b[0m\u001b[0m_pre_run_hook\u001b[0m\u001b[0;34m(\u001b[0m\u001b[0mruntime\u001b[0m\u001b[0;34m)\u001b[0m\u001b[0;34m\u001b[0m\u001b[0;34m\u001b[0m\u001b[0m\n\u001b[0;32m--> 419\u001b[0;31m             \u001b[0mruntime\u001b[0m \u001b[0;34m=\u001b[0m \u001b[0mself\u001b[0m\u001b[0;34m.\u001b[0m\u001b[0m_run_interface\u001b[0m\u001b[0;34m(\u001b[0m\u001b[0mruntime\u001b[0m\u001b[0;34m)\u001b[0m\u001b[0;34m\u001b[0m\u001b[0;34m\u001b[0m\u001b[0m\n\u001b[0m\u001b[1;32m    420\u001b[0m             \u001b[0mruntime\u001b[0m \u001b[0;34m=\u001b[0m \u001b[0mself\u001b[0m\u001b[0;34m.\u001b[0m\u001b[0m_post_run_hook\u001b[0m\u001b[0;34m(\u001b[0m\u001b[0mruntime\u001b[0m\u001b[0;34m)\u001b[0m\u001b[0;34m\u001b[0m\u001b[0;34m\u001b[0m\u001b[0m\n\u001b[1;32m    421\u001b[0m             \u001b[0moutputs\u001b[0m \u001b[0;34m=\u001b[0m \u001b[0mself\u001b[0m\u001b[0;34m.\u001b[0m\u001b[0maggregate_outputs\u001b[0m\u001b[0;34m(\u001b[0m\u001b[0mruntime\u001b[0m\u001b[0;34m)\u001b[0m\u001b[0;34m\u001b[0m\u001b[0;34m\u001b[0m\u001b[0m\n",
      "\u001b[0;32m/opt/miniconda-latest/envs/neuro/lib/python3.7/site-packages/nipype/interfaces/fsl/epi.py\u001b[0m in \u001b[0;36m_run_interface\u001b[0;34m(self, runtime)\u001b[0m\n\u001b[1;32m    114\u001b[0m \u001b[0;34m\u001b[0m\u001b[0m\n\u001b[1;32m    115\u001b[0m     \u001b[0;32mdef\u001b[0m \u001b[0m_run_interface\u001b[0m\u001b[0;34m(\u001b[0m\u001b[0mself\u001b[0m\u001b[0;34m,\u001b[0m \u001b[0mruntime\u001b[0m\u001b[0;34m)\u001b[0m\u001b[0;34m:\u001b[0m\u001b[0;34m\u001b[0m\u001b[0;34m\u001b[0m\u001b[0m\n\u001b[0;32m--> 116\u001b[0;31m         \u001b[0mruntime\u001b[0m \u001b[0;34m=\u001b[0m \u001b[0msuper\u001b[0m\u001b[0;34m(\u001b[0m\u001b[0mPrepareFieldmap\u001b[0m\u001b[0;34m,\u001b[0m \u001b[0mself\u001b[0m\u001b[0;34m)\u001b[0m\u001b[0;34m.\u001b[0m\u001b[0m_run_interface\u001b[0m\u001b[0;34m(\u001b[0m\u001b[0mruntime\u001b[0m\u001b[0;34m)\u001b[0m\u001b[0;34m\u001b[0m\u001b[0;34m\u001b[0m\u001b[0m\n\u001b[0m\u001b[1;32m    117\u001b[0m \u001b[0;34m\u001b[0m\u001b[0m\n\u001b[1;32m    118\u001b[0m         \u001b[0;32mif\u001b[0m \u001b[0mruntime\u001b[0m\u001b[0;34m.\u001b[0m\u001b[0mreturncode\u001b[0m \u001b[0;34m==\u001b[0m \u001b[0;36m0\u001b[0m\u001b[0;34m:\u001b[0m\u001b[0;34m\u001b[0m\u001b[0;34m\u001b[0m\u001b[0m\n",
      "\u001b[0;32m/opt/miniconda-latest/envs/neuro/lib/python3.7/site-packages/nipype/interfaces/base/core.py\u001b[0m in \u001b[0;36m_run_interface\u001b[0;34m(self, runtime, correct_return_codes)\u001b[0m\n\u001b[1;32m    812\u001b[0m         \u001b[0mruntime\u001b[0m \u001b[0;34m=\u001b[0m \u001b[0mrun_command\u001b[0m\u001b[0;34m(\u001b[0m\u001b[0mruntime\u001b[0m\u001b[0;34m,\u001b[0m \u001b[0moutput\u001b[0m\u001b[0;34m=\u001b[0m\u001b[0mself\u001b[0m\u001b[0;34m.\u001b[0m\u001b[0mterminal_output\u001b[0m\u001b[0;34m)\u001b[0m\u001b[0;34m\u001b[0m\u001b[0;34m\u001b[0m\u001b[0m\n\u001b[1;32m    813\u001b[0m         \u001b[0;32mif\u001b[0m \u001b[0mruntime\u001b[0m\u001b[0;34m.\u001b[0m\u001b[0mreturncode\u001b[0m \u001b[0;32mis\u001b[0m \u001b[0;32mNone\u001b[0m \u001b[0;32mor\u001b[0m \u001b[0mruntime\u001b[0m\u001b[0;34m.\u001b[0m\u001b[0mreturncode\u001b[0m \u001b[0;32mnot\u001b[0m \u001b[0;32min\u001b[0m \u001b[0mcorrect_return_codes\u001b[0m\u001b[0;34m:\u001b[0m\u001b[0;34m\u001b[0m\u001b[0;34m\u001b[0m\u001b[0m\n\u001b[0;32m--> 814\u001b[0;31m             \u001b[0mself\u001b[0m\u001b[0;34m.\u001b[0m\u001b[0mraise_exception\u001b[0m\u001b[0;34m(\u001b[0m\u001b[0mruntime\u001b[0m\u001b[0;34m)\u001b[0m\u001b[0;34m\u001b[0m\u001b[0;34m\u001b[0m\u001b[0m\n\u001b[0m\u001b[1;32m    815\u001b[0m \u001b[0;34m\u001b[0m\u001b[0m\n\u001b[1;32m    816\u001b[0m         \u001b[0;32mreturn\u001b[0m \u001b[0mruntime\u001b[0m\u001b[0;34m\u001b[0m\u001b[0;34m\u001b[0m\u001b[0m\n",
      "\u001b[0;32m/opt/miniconda-latest/envs/neuro/lib/python3.7/site-packages/nipype/interfaces/base/core.py\u001b[0m in \u001b[0;36mraise_exception\u001b[0;34m(self, runtime)\u001b[0m\n\u001b[1;32m    743\u001b[0m                 \u001b[0;34m\"Command:\\n{cmdline}\\nStandard output:\\n{stdout}\\n\"\u001b[0m\u001b[0;34m\u001b[0m\u001b[0;34m\u001b[0m\u001b[0m\n\u001b[1;32m    744\u001b[0m                 \u001b[0;34m\"Standard error:\\n{stderr}\\nReturn code: {returncode}\"\u001b[0m\u001b[0;34m\u001b[0m\u001b[0;34m\u001b[0m\u001b[0m\n\u001b[0;32m--> 745\u001b[0;31m             ).format(**runtime.dictcopy())\n\u001b[0m\u001b[1;32m    746\u001b[0m         )\n\u001b[1;32m    747\u001b[0m \u001b[0;34m\u001b[0m\u001b[0m\n",
      "\u001b[0;31mRuntimeError\u001b[0m: Command:\nfsl_prepare_fieldmap SIEMENS /fMRI/FED015/GRE_FIELD_MAPPING_0007_20141202145526_e2_ph.nii /fMRI/FED015/GRE_FIELD_MAPPING_0006_20141202145526_e1.nii /fMRI/FED015/GRE_FieldMap 2.460000\nStandard output:\nMagntiude (abs) image should be brain extracted\nPlease run BET on image /fMRI/FED015/GRE_FIELD_MAPPING_0006_20141202145526_e1 before using it here\nStandard error:\n\nReturn code: 2"
     ]
    }
   ],
   "source": [
    "# build the fieldmaps\n",
    "for sub in gre_FEDs[0:1]:\n",
    "    # collect relevant data\n",
    "    for i in data[sub][\"files\"]:\n",
    "        if re.match(r'.*(FMRI).*.nii', i):\n",
    "            func=i\n",
    "        elif re.match(r'.*(_ph).*.nii', i):\n",
    "            phase=i\n",
    "        elif re.match(r'.*(e1).*.nii', i):\n",
    "            mag=i\n",
    "    # get delta TE (ms)\n",
    "    deltaTE=(data[sub][\"parameters\"][\"grefield_TEs\"][1] - data[sub][\"parameters\"][\"grefield_TEs\"][0])*1000\n",
    "    # call FSL interface to calculate fieldmaps\n",
    "    build_fieldmap=Node(fsl.PrepareFieldmap(), name='GRE_fieldmap')\n",
    "    build_fieldmap.inputs.in_phase= phase\n",
    "    build_fieldmap.inputs.in_magnitude= mag\n",
    "    build_fieldmap.inputs.delta_TE= deltaTE\n",
    "    build_fieldmap.inputs.out_fieldmap=f\"{os.path.join(basedir, sub)}/GRE_FieldMap\"\n",
    "    build_fieldmap.inputs.output_type=\"NIFTI\"\n",
    "    results= build_fieldmap.run()\n",
    "    print(results.outputs)"
   ]
  },
  {
   "cell_type": "markdown",
   "metadata": {},
   "source": [
    "Motion correct / realign"
   ]
  },
  {
   "cell_type": "code",
   "execution_count": null,
   "metadata": {},
   "outputs": [],
   "source": []
  },
  {
   "cell_type": "code",
   "execution_count": null,
   "metadata": {},
   "outputs": [],
   "source": []
  },
  {
   "cell_type": "markdown",
   "metadata": {},
   "source": [
    "Slicetime correction (?)"
   ]
  },
  {
   "cell_type": "code",
   "execution_count": null,
   "metadata": {},
   "outputs": [],
   "source": []
  },
  {
   "cell_type": "code",
   "execution_count": null,
   "metadata": {},
   "outputs": [],
   "source": []
  },
  {
   "cell_type": "markdown",
   "metadata": {},
   "source": [
    "Spatial normalisation"
   ]
  },
  {
   "cell_type": "code",
   "execution_count": null,
   "metadata": {},
   "outputs": [],
   "source": []
  },
  {
   "cell_type": "code",
   "execution_count": null,
   "metadata": {},
   "outputs": [],
   "source": []
  },
  {
   "cell_type": "markdown",
   "metadata": {},
   "source": [
    "Spatial Smoothing"
   ]
  },
  {
   "cell_type": "code",
   "execution_count": null,
   "metadata": {},
   "outputs": [],
   "source": []
  },
  {
   "cell_type": "code",
   "execution_count": null,
   "metadata": {},
   "outputs": [],
   "source": []
  }
 ],
 "metadata": {
  "kernelspec": {
   "display_name": "Python [conda env:neuro] *",
   "language": "python",
   "name": "conda-env-neuro-py"
  },
  "language_info": {
   "codemirror_mode": {
    "name": "ipython",
    "version": 3
   },
   "file_extension": ".py",
   "mimetype": "text/x-python",
   "name": "python",
   "nbconvert_exporter": "python",
   "pygments_lexer": "ipython3",
   "version": "3.7.8"
  }
 },
 "nbformat": 4,
 "nbformat_minor": 4
}
