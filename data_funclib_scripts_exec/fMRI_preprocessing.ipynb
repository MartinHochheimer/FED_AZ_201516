{
 "cells": [
  {
   "cell_type": "markdown",
   "metadata": {},
   "source": [
    "Gather necessary pre-requisites:"
   ]
  },
  {
   "cell_type": "code",
   "execution_count": 118,
   "metadata": {},
   "outputs": [],
   "source": [
    "# import everything you need\n",
    "from nipype import Node, Workflow\n",
    "import nipype.interfaces.spm as spm\n",
    "from nipype.interfaces.base import CommandLine\n",
    "import nibabel as nb\n",
    "import numpy as np\n",
    "import pandas as pd\n",
    "from nilearn import image as nimg\n",
    "import matplotlib.pyplot as plt\n",
    "from nilearn.plotting import plot_anat, plot_epi\n",
    "import os, re, json"
   ]
  },
  {
   "cell_type": "code",
   "execution_count": 119,
   "metadata": {},
   "outputs": [],
   "source": [
    "# define base diectory for fMRI folder structure and FEDs\n",
    "basedir=\"/fMRI/\"\n",
    "FED_dirs=[os.path.join(basedir, FED) \n",
    "          for FED in os.listdir(basedir)]"
   ]
  },
  {
   "cell_type": "markdown",
   "metadata": {},
   "source": [
    "Get relevant files"
   ]
  },
  {
   "cell_type": "code",
   "execution_count": 120,
   "metadata": {},
   "outputs": [],
   "source": [
    "# collect structural images\n",
    "files=sorted([os.path.join(basedir, subdir, content)\n",
    "       for subdir in FED_dirs\n",
    "       for content in os.listdir(subdir)\n",
    "       if re.match(r'(.*.(nii|json))', content)])"
   ]
  },
  {
   "cell_type": "code",
   "execution_count": 121,
   "metadata": {},
   "outputs": [],
   "source": [
    "# create a dictionary storing all files/subject\n",
    "data={}\n",
    "for fed in FED_dirs:\n",
    "    ID=fed.rsplit('/', 1)[1]\n",
    "    content=[]\n",
    "    for file in files:\n",
    "        if re.match(fr'(.*{ID}.*)', file):\n",
    "            content.append(file)\n",
    "    data[ID]=content              "
   ]
  },
  {
   "cell_type": "code",
   "execution_count": 124,
   "metadata": {},
   "outputs": [
    {
     "name": "stdout",
     "output_type": "stream",
     "text": [
      "['/fMRI/FED006/FMRI_FS_0009_20141106153429.json', '/fMRI/FED006/FMRI_FS_0009_20141106153429.nii', '/fMRI/FED006/GRE_FIELD_MAPPING_0006_20141106153429_e2_ph.json', '/fMRI/FED006/GRE_FIELD_MAPPING_0006_20141106153429_e2_ph.nii', '/fMRI/FED006/T1_MPRAGE_SAG_ISO_0_9_0005_20141106153429.json', '/fMRI/FED006/T1_MPRAGE_SAG_ISO_0_9_0005_20141106153429.nii']\n"
     ]
    }
   ],
   "source": [
    "# control results\n",
    "print(data[\"FED006\"])"
   ]
  },
  {
   "cell_type": "markdown",
   "metadata": {},
   "source": [
    "Processing"
   ]
  },
  {
   "cell_type": "code",
   "execution_count": 131,
   "metadata": {},
   "outputs": [
    {
     "name": "stdout",
     "output_type": "stream",
     "text": [
      "FED015 \n",
      " /fMRI/FED015/GRE_FIELD_MAPPING_0006_20141202145526_e1.json\n",
      "0.00492\n",
      "2.69e-05\n",
      "FED015 \n",
      " /fMRI/FED015/GRE_FIELD_MAPPING_0007_20141202145526_e2_ph.json\n",
      "0.00738\n",
      "2.69e-05\n",
      "FED012 \n",
      " /fMRI/FED012/GRE_FIELD_MAPPING_0006_20141124150148_e1.json\n",
      "0.00492\n",
      "2.69e-05\n",
      "FED012 \n",
      " /fMRI/FED012/GRE_FIELD_MAPPING_0007_20141124150148_e2_ph.json\n",
      "0.00738\n",
      "2.69e-05\n",
      "FED030 \n",
      " /fMRI/FED030/GRE_FIELD_MAPPING_0006_20150226154844_e1.json\n",
      "0.00492\n",
      "2.69e-05\n",
      "FED030 \n",
      " /fMRI/FED030/GRE_FIELD_MAPPING_0007_20150226154844_e2_ph.json\n",
      "0.00738\n",
      "2.69e-05\n",
      "FED006 \n",
      " /fMRI/FED006/GRE_FIELD_MAPPING_0006_20141106153429_e2_ph.json\n",
      "0.00738\n",
      "2.69e-05\n",
      "FED054 \n",
      " /fMRI/FED054/GRE_FIELD_MAPPING_0006_20151208140706_e1.json\n",
      "0.00492\n",
      "2.69e-05\n",
      "FED054 \n",
      " /fMRI/FED054/GRE_FIELD_MAPPING_0007_20151208140706_e2_ph.json\n",
      "0.00738\n",
      "2.69e-05\n",
      "FED042 \n",
      " /fMRI/FED042/GRE_FIELD_MAPPING_0007_20151013110112_e1.json\n",
      "0.00492\n",
      "2.69e-05\n",
      "FED042 \n",
      " /fMRI/FED042/GRE_FIELD_MAPPING_0008_20151013110112_e2_ph.json\n",
      "0.00738\n",
      "2.69e-05\n",
      "FED024 \n",
      " /fMRI/FED024/GRE_FIELD_MAPPING_0006_20150204145018_e1.json\n",
      "0.00492\n",
      "2.69e-05\n",
      "FED024 \n",
      " /fMRI/FED024/GRE_FIELD_MAPPING_0007_20150204145018_e2_ph.json\n",
      "0.00738\n",
      "2.69e-05\n",
      "FED038 \n",
      " /fMRI/FED038/GRE_FIELD_MAPPING_0006_20151001125857_e1.json\n",
      "0.00492\n",
      "2.69e-05\n",
      "FED038 \n",
      " /fMRI/FED038/GRE_FIELD_MAPPING_0007_20151001125857_e2_ph.json\n",
      "0.00738\n",
      "2.69e-05\n",
      "FED045 \n",
      " /fMRI/FED045/GRE_FIELD_MAPPING_0006_20151105173027_e1.json\n",
      "0.00492\n",
      "2.69e-05\n",
      "FED045 \n",
      " /fMRI/FED045/GRE_FIELD_MAPPING_0007_20151105173027_e2_ph.json\n",
      "0.00738\n",
      "2.69e-05\n",
      "FED061 \n",
      " /fMRI/FED061/GRE_FIELD_MAPPING_0006_20160301111011_e1.json\n",
      "0.00492\n",
      "2.69e-05\n",
      "FED061 \n",
      " /fMRI/FED061/GRE_FIELD_MAPPING_0007_20160301111011_e2_ph.json\n",
      "0.00738\n",
      "2.69e-05\n",
      "FED035 \n",
      " /fMRI/FED035/GRE_FIELD_MAPPING_0006_20150917120306_e1.json\n",
      "0.00492\n",
      "2.69e-05\n",
      "FED035 \n",
      " /fMRI/FED035/GRE_FIELD_MAPPING_0007_20150917120306_e2_ph.json\n",
      "0.00738\n",
      "2.69e-05\n",
      "FED022 \n",
      " /fMRI/FED022/GRE_FIELD_MAPPING_0006_20141211155503_e1.json\n",
      "0.00492\n",
      "2.69e-05\n",
      "FED022 \n",
      " /fMRI/FED022/GRE_FIELD_MAPPING_0007_20141211155503_e2_ph.json\n",
      "0.00738\n",
      "2.69e-05\n",
      "FED022 \n",
      " /fMRI/FED022/GRE_FIELD_MAPPING_0021_20141211155503_e1.json\n",
      "0.00492\n",
      "2.69e-05\n",
      "FED022 \n",
      " /fMRI/FED022/GRE_FIELD_MAPPING_0022_20141211155503_e2_ph.json\n",
      "0.00738\n",
      "2.69e-05\n",
      "FED009 \n",
      " /fMRI/FED009/GRE_FIELD_MAPPING_0012_20141117154954_e2_ph.json\n",
      "0.00738\n",
      "2.69e-05\n",
      "FED009 \n",
      " /fMRI/FED009/GRE_FIELD_MAPPING_0020_20141117154954_e1.json\n",
      "0.00492\n",
      "2.69e-05\n",
      "FED009 \n",
      " /fMRI/FED009/GRE_FIELD_MAPPING_0021_20141117154954_e2_ph.json\n",
      "0.00738\n",
      "2.69e-05\n",
      "FED036 \n",
      " /fMRI/FED036/GRE_FIELD_MAPPING_0006_20150924172133_e1.json\n",
      "0.00492\n",
      "2.69e-05\n",
      "FED036 \n",
      " /fMRI/FED036/GRE_FIELD_MAPPING_0007_20150924172133_e2_ph.json\n",
      "0.00738\n",
      "2.69e-05\n",
      "FED019 \n",
      " /fMRI/FED019/GRE_FIELD_MAPPING_0006_20141210090147_e1.json\n",
      "0.00492\n",
      "2.69e-05\n",
      "FED019 \n",
      " /fMRI/FED019/GRE_FIELD_MAPPING_0007_20141210090147_e2_ph.json\n",
      "0.00738\n",
      "2.69e-05\n",
      "FED017 \n",
      " /fMRI/FED017/GRE_FIELD_MAPPING_0012_20141204151043_e1.json\n",
      "0.00492\n",
      "2.69e-05\n",
      "FED017 \n",
      " /fMRI/FED017/GRE_FIELD_MAPPING_0013_20141204151043_e2_ph.json\n",
      "0.00738\n",
      "2.69e-05\n",
      "FED053 \n",
      " /fMRI/FED053/GRE_FIELD_MAPPING_0006_20151208115820_e1.json\n",
      "0.00492\n",
      "2.69e-05\n",
      "FED053 \n",
      " /fMRI/FED053/GRE_FIELD_MAPPING_0007_20151208115820_e2_ph.json\n",
      "0.00738\n",
      "2.69e-05\n",
      "FED043 \n",
      " /fMRI/FED043/GRE_FIELD_MAPPING_0006_20151015122011_e1.json\n",
      "0.00492\n",
      "2.69e-05\n",
      "FED043 \n",
      " /fMRI/FED043/GRE_FIELD_MAPPING_0007_20151015122011_e2_ph.json\n",
      "0.00738\n",
      "2.69e-05\n",
      "FED055 \n",
      " /fMRI/FED055/GRE_FIELD_MAPPING_0006_20151214092109_e1.json\n",
      "0.00492\n",
      "2.69e-05\n",
      "FED055 \n",
      " /fMRI/FED055/GRE_FIELD_MAPPING_0007_20151214092109_e2_ph.json\n",
      "0.00738\n",
      "2.69e-05\n",
      "FED058 \n",
      " /fMRI/FED058/GRE_FIELD_MAPPING_0006_20160217151251_e1.json\n",
      "0.00492\n",
      "2.69e-05\n",
      "FED058 \n",
      " /fMRI/FED058/GRE_FIELD_MAPPING_0007_20160217151251_e2_ph.json\n",
      "0.00738\n",
      "2.69e-05\n",
      "FED066 \n",
      " /fMRI/FED066/GRE_FIELD_MAPPING_0010_20160310171152_e1.json\n",
      "0.00492\n"
     ]
    },
    {
     "ename": "KeyError",
     "evalue": "'DwellTime'",
     "output_type": "error",
     "traceback": [
      "\u001b[0;31m---------------------------------------------------------------------------\u001b[0m",
      "\u001b[0;31mKeyError\u001b[0m                                  Traceback (most recent call last)",
      "\u001b[0;32m<ipython-input-131-a7c8b9de388c>\u001b[0m in \u001b[0;36m<module>\u001b[0;34m\u001b[0m\n\u001b[1;32m     10\u001b[0m                 \u001b[0minfo\u001b[0m\u001b[0;34m=\u001b[0m\u001b[0mjson\u001b[0m\u001b[0;34m.\u001b[0m\u001b[0mload\u001b[0m\u001b[0;34m(\u001b[0m\u001b[0mjson_file\u001b[0m\u001b[0;34m)\u001b[0m\u001b[0;34m\u001b[0m\u001b[0;34m\u001b[0m\u001b[0m\n\u001b[1;32m     11\u001b[0m                 \u001b[0;32mfor\u001b[0m \u001b[0mitem\u001b[0m \u001b[0;32min\u001b[0m \u001b[0mspecs\u001b[0m\u001b[0;34m:\u001b[0m\u001b[0;34m\u001b[0m\u001b[0;34m\u001b[0m\u001b[0m\n\u001b[0;32m---> 12\u001b[0;31m                     \u001b[0mprint\u001b[0m\u001b[0;34m(\u001b[0m\u001b[0minfo\u001b[0m\u001b[0;34m[\u001b[0m\u001b[0mitem\u001b[0m\u001b[0;34m]\u001b[0m\u001b[0;34m)\u001b[0m\u001b[0;34m\u001b[0m\u001b[0;34m\u001b[0m\u001b[0m\n\u001b[0m",
      "\u001b[0;31mKeyError\u001b[0m: 'DwellTime'"
     ]
    }
   ],
   "source": [
    "# read json info data for Echo times etc.\n",
    "# define info of interest\n",
    "specs=[\"EchoTime\", \"DwellTime\"]\n",
    "for key in data.keys():\n",
    "    for file in data[key]:\n",
    "        if re.match(r'(.*(e1|e2_ph).*.json)', file):\n",
    "            print(key, \"\\n\", file)\n",
    "            # use \"with\" to ensure jsons are closed \n",
    "            # at end of block; need \"as\" statement,\n",
    "            # otherwise file is considered string\n",
    "            with open(file) as json_file:\n",
    "                info=json.load(json_file)\n",
    "                for item in specs:\n",
    "                    print(info[item])"
   ]
  },
  {
   "cell_type": "code",
   "execution_count": 51,
   "metadata": {},
   "outputs": [
    {
     "name": "stdout",
     "output_type": "stream",
     "text": [
      "['/fMRI/FED006/GRE_FIELD_MAPPING_0006_gre_field_mapping_20141106153429_6_e2_ph.nii', '/fMRI/FED007/GRE_FIELD_MAPPING_0012_gre_field_mapping_20141107104226_12_e1.nii', '/fMRI/FED007/GRE_FIELD_MAPPING_0012_gre_field_mapping_20141107104226_12_e2.nii', '/fMRI/FED007/GRE_FIELD_MAPPING_0013_gre_field_mapping_20141107104226_13_e2_ph.nii', '/fMRI/FED008/GRE_FIELD_MAPPING_0012_gre_field_mapping_20141112155009_12_e2_ph.nii', '/fMRI/FED008/GRE_FIELD_MAPPING_0020_gre_field_mapping_20141112155009_20_e2_ph.nii', '/fMRI/FED009/GRE_FIELD_MAPPING_0012_gre_field_mapping_20141117154954_12_e2_ph.nii', '/fMRI/FED009/GRE_FIELD_MAPPING_0020_gre_field_mapping_20141117154954_20_e1.nii', '/fMRI/FED009/GRE_FIELD_MAPPING_0020_gre_field_mapping_20141117154954_20_e2.nii', '/fMRI/FED009/GRE_FIELD_MAPPING_0021_gre_field_mapping_20141117154954_21_e2_ph.nii', '/fMRI/FED010/GRE_FIELD_MAPPING_0010_gre_field_mapping_20141119091904_10_e1.nii', '/fMRI/FED010/GRE_FIELD_MAPPING_0010_gre_field_mapping_20141119091904_10_e2.nii', '/fMRI/FED010/GRE_FIELD_MAPPING_0011_gre_field_mapping_20141119091904_11_e2_ph.nii', '/fMRI/FED011/GRE_FIELD_MAPPING_0016_gre_field_mapping_20141119161708_16_e1.nii', '/fMRI/FED011/GRE_FIELD_MAPPING_0016_gre_field_mapping_20141119161708_16_e2.nii', '/fMRI/FED011/GRE_FIELD_MAPPING_0017_gre_field_mapping_20141119161708_17_e2_ph.nii', '/fMRI/FED012/GRE_FIELD_MAPPING_0006_gre_field_mapping_20141124150148_6_e1.nii', '/fMRI/FED012/GRE_FIELD_MAPPING_0006_gre_field_mapping_20141124150148_6_e2.nii', '/fMRI/FED012/GRE_FIELD_MAPPING_0007_gre_field_mapping_20141124150148_7_e2_ph.nii', '/fMRI/FED013/GRE_FIELD_MAPPING_0006_gre_field_mapping_20141125093955_6_e1.nii', '/fMRI/FED013/GRE_FIELD_MAPPING_0006_gre_field_mapping_20141125093955_6_e2.nii', '/fMRI/FED013/GRE_FIELD_MAPPING_0007_gre_field_mapping_20141125093955_7_e2_ph.nii', '/fMRI/FED014/GRE_FIELD_MAPPING_0010_gre_field_mapping_20141125153216_10_e1.nii', '/fMRI/FED014/GRE_FIELD_MAPPING_0010_gre_field_mapping_20141125153216_10_e2.nii', '/fMRI/FED014/GRE_FIELD_MAPPING_0011_gre_field_mapping_20141125153216_11_e2_ph.nii', '/fMRI/FED015/GRE_FIELD_MAPPING_0006_gre_field_mapping_20141202145526_6_e1.nii', '/fMRI/FED015/GRE_FIELD_MAPPING_0006_gre_field_mapping_20141202145526_6_e2.nii', '/fMRI/FED015/GRE_FIELD_MAPPING_0007_gre_field_mapping_20141202145526_7_e2_ph.nii', '/fMRI/FED016/GRE_FIELD_MAPPING_0006_gre_field_mapping_20141202164821_6_e1.nii', '/fMRI/FED016/GRE_FIELD_MAPPING_0006_gre_field_mapping_20141202164821_6_e2.nii', '/fMRI/FED016/GRE_FIELD_MAPPING_0007_gre_field_mapping_20141202164821_7_e2_ph.nii', '/fMRI/FED017/GRE_FIELD_MAPPING_0012_gre_field_mapping_20141204151043_12_e1.nii', '/fMRI/FED017/GRE_FIELD_MAPPING_0012_gre_field_mapping_20141204151043_12_e2.nii', '/fMRI/FED017/GRE_FIELD_MAPPING_0013_gre_field_mapping_20141204151043_13_e2_ph.nii', '/fMRI/FED018/GRE_FIELD_MAPPING_0006_gre_field_mapping_20141208163153_6_e1.nii', '/fMRI/FED018/GRE_FIELD_MAPPING_0006_gre_field_mapping_20141208163153_6_e2.nii', '/fMRI/FED018/GRE_FIELD_MAPPING_0007_gre_field_mapping_20141208163153_7_e2_ph.nii', '/fMRI/FED019/GRE_FIELD_MAPPING_0006_gre_field_mapping_20141210090147_6_e1.nii', '/fMRI/FED019/GRE_FIELD_MAPPING_0006_gre_field_mapping_20141210090147_6_e2.nii', '/fMRI/FED019/GRE_FIELD_MAPPING_0007_gre_field_mapping_20141210090147_7_e2_ph.nii', '/fMRI/FED020/GRE_FIELD_MAPPING_0006_gre_field_mapping_20141210170232_6_e1.nii', '/fMRI/FED020/GRE_FIELD_MAPPING_0006_gre_field_mapping_20141210170232_6_e2.nii', '/fMRI/FED020/GRE_FIELD_MAPPING_0007_gre_field_mapping_20141210170232_7_e2_ph.nii', '/fMRI/FED021/GRE_FIELD_MAPPING_0006_gre_field_mapping_20141211095930_6_e1.nii', '/fMRI/FED021/GRE_FIELD_MAPPING_0006_gre_field_mapping_20141211095930_6_e2.nii', '/fMRI/FED021/GRE_FIELD_MAPPING_0007_gre_field_mapping_20141211095930_7_e2_ph.nii', '/fMRI/FED022/GRE_FIELD_MAPPING_0006_gre_field_mapping_20141211155503_6_e1.nii', '/fMRI/FED022/GRE_FIELD_MAPPING_0006_gre_field_mapping_20141211155503_6_e2.nii', '/fMRI/FED022/GRE_FIELD_MAPPING_0007_gre_field_mapping_20141211155503_7_e2_ph.nii', '/fMRI/FED022/GRE_FIELD_MAPPING_0021_gre_field_mapping_20141211155503_21_e1.nii', '/fMRI/FED022/GRE_FIELD_MAPPING_0021_gre_field_mapping_20141211155503_21_e2.nii', '/fMRI/FED022/GRE_FIELD_MAPPING_0022_gre_field_mapping_20141211155503_22_e2_ph.nii', '/fMRI/FED023/GRE_FIELD_MAPPING_0006_gre_field_mapping_20141216144604_6_e1.nii', '/fMRI/FED023/GRE_FIELD_MAPPING_0006_gre_field_mapping_20141216144604_6_e2.nii', '/fMRI/FED023/GRE_FIELD_MAPPING_0007_gre_field_mapping_20141216144604_7_e2_ph.nii', '/fMRI/FED023/GRE_FIELD_MAPPING_0021_gre_field_mapping_20141216144604_21_e1.nii', '/fMRI/FED023/GRE_FIELD_MAPPING_0021_gre_field_mapping_20141216144604_21_e2.nii', '/fMRI/FED023/GRE_FIELD_MAPPING_0022_gre_field_mapping_20141216144604_22_e2_ph.nii', '/fMRI/FED024/GRE_FIELD_MAPPING_0006_gre_field_mapping_20150204145018_6_e1.nii', '/fMRI/FED024/GRE_FIELD_MAPPING_0006_gre_field_mapping_20150204145018_6_e2.nii', '/fMRI/FED024/GRE_FIELD_MAPPING_0007_gre_field_mapping_20150204145018_7_e2_ph.nii', '/fMRI/FED025/GRE_FIELD_MAPPING_0006_gre_field_mapping_20150206123507_6_e1.nii', '/fMRI/FED025/GRE_FIELD_MAPPING_0006_gre_field_mapping_20150206123507_6_e2.nii', '/fMRI/FED025/GRE_FIELD_MAPPING_0007_gre_field_mapping_20150206123507_7_e2_ph.nii', '/fMRI/FED026/GRE_FIELD_MAPPING_0006_gre_field_mapping_20150211171144_6_e1.nii', '/fMRI/FED026/GRE_FIELD_MAPPING_0006_gre_field_mapping_20150211171144_6_e2.nii', '/fMRI/FED026/GRE_FIELD_MAPPING_0007_gre_field_mapping_20150211171144_7_e2_ph.nii', '/fMRI/FED027/GRE_FIELD_MAPPING_0006_gre_field_mapping_20150218162601_6_e1.nii', '/fMRI/FED027/GRE_FIELD_MAPPING_0006_gre_field_mapping_20150218162601_6_e2.nii', '/fMRI/FED027/GRE_FIELD_MAPPING_0007_gre_field_mapping_20150218162601_7_e2_ph.nii', '/fMRI/FED028/GRE_FIELD_MAPPING_0006_gre_field_mapping_20150219142148_6_e1.nii', '/fMRI/FED028/GRE_FIELD_MAPPING_0006_gre_field_mapping_20150219142148_6_e2.nii', '/fMRI/FED028/GRE_FIELD_MAPPING_0007_gre_field_mapping_20150219142148_7_e2_ph.nii', '/fMRI/FED030/GRE_FIELD_MAPPING_0006_gre_field_mapping_20150226154844_6_e1.nii', '/fMRI/FED030/GRE_FIELD_MAPPING_0006_gre_field_mapping_20150226154844_6_e2.nii', '/fMRI/FED030/GRE_FIELD_MAPPING_0007_gre_field_mapping_20150226154844_7_e2_ph.nii', '/fMRI/FED031/GRE_FIELD_MAPPING_0006_gre_field_mapping_20150310152650_6_e1.nii', '/fMRI/FED031/GRE_FIELD_MAPPING_0006_gre_field_mapping_20150310152650_6_e2.nii', '/fMRI/FED031/GRE_FIELD_MAPPING_0007_gre_field_mapping_20150310152650_7_e2_ph.nii', '/fMRI/FED032/GRE_FIELD_MAPPING_0006_gre_field_mapping_20150313125246_6_e1.nii', '/fMRI/FED032/GRE_FIELD_MAPPING_0006_gre_field_mapping_20150313125246_6_e2.nii', '/fMRI/FED032/GRE_FIELD_MAPPING_0007_gre_field_mapping_20150313125246_7_e2_ph.nii', '/fMRI/FED033/GRE_FIELD_MAPPING_0006_gre_field_mapping_20150326151309_6_e1.nii', '/fMRI/FED033/GRE_FIELD_MAPPING_0006_gre_field_mapping_20150326151309_6_e2.nii', '/fMRI/FED033/GRE_FIELD_MAPPING_0007_gre_field_mapping_20150326151309_7_e2_ph.nii', '/fMRI/FED034/GRE_FIELD_MAPPING_0006_gre_field_mapping_20150909125805_6_e1.nii', '/fMRI/FED034/GRE_FIELD_MAPPING_0006_gre_field_mapping_20150909125805_6_e2.nii', '/fMRI/FED034/GRE_FIELD_MAPPING_0007_gre_field_mapping_20150909125805_7_e2_ph.nii', '/fMRI/FED035/GRE_FIELD_MAPPING_0006_gre_field_mapping_20150917120306_6_e1.nii', '/fMRI/FED035/GRE_FIELD_MAPPING_0006_gre_field_mapping_20150917120306_6_e2.nii', '/fMRI/FED035/GRE_FIELD_MAPPING_0007_gre_field_mapping_20150917120306_7_e2_ph.nii', '/fMRI/FED036/GRE_FIELD_MAPPING_0006_gre_field_mapping_20150924172133_6_e1.nii', '/fMRI/FED036/GRE_FIELD_MAPPING_0006_gre_field_mapping_20150924172133_6_e2.nii', '/fMRI/FED036/GRE_FIELD_MAPPING_0007_gre_field_mapping_20150924172133_7_e2_ph.nii', '/fMRI/FED038/GRE_FIELD_MAPPING_0006_gre_field_mapping_20151001125857_6_e1.nii', '/fMRI/FED038/GRE_FIELD_MAPPING_0006_gre_field_mapping_20151001125857_6_e2.nii', '/fMRI/FED038/GRE_FIELD_MAPPING_0007_gre_field_mapping_20151001125857_7_e2_ph.nii', '/fMRI/FED039/GRE_FIELD_MAPPING_0006_gre_field_mapping_20151001173950_6_e1.nii', '/fMRI/FED039/GRE_FIELD_MAPPING_0006_gre_field_mapping_20151001173950_6_e2.nii', '/fMRI/FED039/GRE_FIELD_MAPPING_0007_gre_field_mapping_20151001173950_7_e2_ph.nii', '/fMRI/FED040/GRE_FIELD_MAPPING_0006_gre_field_mapping_20151009111760_6_e1.nii', '/fMRI/FED040/GRE_FIELD_MAPPING_0006_gre_field_mapping_20151009111760_6_e2.nii', '/fMRI/FED040/GRE_FIELD_MAPPING_0007_gre_field_mapping_20151009111760_7_e2_ph.nii', '/fMRI/FED041/GRE_FIELD_MAPPING_0006_gre_field_mapping_20151009164129_6_e1.nii', '/fMRI/FED041/GRE_FIELD_MAPPING_0006_gre_field_mapping_20151009164129_6_e2.nii', '/fMRI/FED041/GRE_FIELD_MAPPING_0007_gre_field_mapping_20151009164129_7_e2_ph.nii', '/fMRI/FED042/GRE_FIELD_MAPPING_0007_gre_field_mapping_20151013110112_7_e1.nii', '/fMRI/FED042/GRE_FIELD_MAPPING_0007_gre_field_mapping_20151013110112_7_e2.nii', '/fMRI/FED042/GRE_FIELD_MAPPING_0008_gre_field_mapping_20151013110112_8_e2_ph.nii', '/fMRI/FED043/GRE_FIELD_MAPPING_0006_gre_field_mapping_20151015122011_6_e1.nii', '/fMRI/FED043/GRE_FIELD_MAPPING_0006_gre_field_mapping_20151015122011_6_e2.nii', '/fMRI/FED043/GRE_FIELD_MAPPING_0007_gre_field_mapping_20151015122011_7_e2_ph.nii', '/fMRI/FED044/GRE_FIELD_MAPPING_0006_gre_field_mapping_20151029121235_6_e1.nii', '/fMRI/FED044/GRE_FIELD_MAPPING_0006_gre_field_mapping_20151029121235_6_e2.nii', '/fMRI/FED044/GRE_FIELD_MAPPING_0007_gre_field_mapping_20151029121235_7_e2_ph.nii', '/fMRI/FED045/GRE_FIELD_MAPPING_0006_gre_field_mapping_20151105173027_6_e1.nii', '/fMRI/FED045/GRE_FIELD_MAPPING_0006_gre_field_mapping_20151105173027_6_e2.nii', '/fMRI/FED045/GRE_FIELD_MAPPING_0007_gre_field_mapping_20151105173027_7_e2_ph.nii', '/fMRI/FED046/GRE_FIELD_MAPPING_0006_gre_field_mapping_20151106125904_6_e1.nii', '/fMRI/FED046/GRE_FIELD_MAPPING_0006_gre_field_mapping_20151106125904_6_e2.nii', '/fMRI/FED046/GRE_FIELD_MAPPING_0007_gre_field_mapping_20151106125904_7_e2_ph.nii', '/fMRI/FED048/GRE_FIELD_MAPPING_0006_gre_field_mapping_20151118152060_6_e1.nii', '/fMRI/FED048/GRE_FIELD_MAPPING_0006_gre_field_mapping_20151118152060_6_e2.nii', '/fMRI/FED048/GRE_FIELD_MAPPING_0007_gre_field_mapping_20151118152060_7_e2_ph.nii', '/fMRI/FED049/GRE_FIELD_MAPPING_0010_gre_field_mapping_20151123115353_10_e1.nii', '/fMRI/FED049/GRE_FIELD_MAPPING_0010_gre_field_mapping_20151123115353_10_e2.nii', '/fMRI/FED049/GRE_FIELD_MAPPING_0011_gre_field_mapping_20151123115353_11_e2_ph.nii', '/fMRI/FED050/GRE_FIELD_MAPPING_0006_gre_field_mapping_20151201165820_6_e1.nii', '/fMRI/FED050/GRE_FIELD_MAPPING_0006_gre_field_mapping_20151201165820_6_e2.nii', '/fMRI/FED050/GRE_FIELD_MAPPING_0007_gre_field_mapping_20151201165820_7_e2_ph.nii', '/fMRI/FED051/GRE_FIELD_MAPPING_0006_gre_field_mapping_20151202153410_6_e1.nii', '/fMRI/FED051/GRE_FIELD_MAPPING_0006_gre_field_mapping_20151202153410_6_e2.nii', '/fMRI/FED051/GRE_FIELD_MAPPING_0007_gre_field_mapping_20151202153410_7_e2_ph.nii', '/fMRI/FED052/GRE_FIELD_MAPPING_0006_gre_field_mapping_20151203172751_6_e1.nii', '/fMRI/FED052/GRE_FIELD_MAPPING_0006_gre_field_mapping_20151203172751_6_e2.nii', '/fMRI/FED052/GRE_FIELD_MAPPING_0007_gre_field_mapping_20151203172751_7_e2_ph.nii', '/fMRI/FED053/GRE_FIELD_MAPPING_0006_gre_field_mapping_20151208115820_6_e1.nii', '/fMRI/FED053/GRE_FIELD_MAPPING_0006_gre_field_mapping_20151208115820_6_e2.nii', '/fMRI/FED053/GRE_FIELD_MAPPING_0007_gre_field_mapping_20151208115820_7_e2_ph.nii', '/fMRI/FED054/GRE_FIELD_MAPPING_0006_gre_field_mapping_20151208140706_6_e1.nii', '/fMRI/FED054/GRE_FIELD_MAPPING_0006_gre_field_mapping_20151208140706_6_e2.nii', '/fMRI/FED054/GRE_FIELD_MAPPING_0007_gre_field_mapping_20151208140706_7_e2_ph.nii', '/fMRI/FED055/GRE_FIELD_MAPPING_0006_gre_field_mapping_20151214092109_6_e1.nii', '/fMRI/FED055/GRE_FIELD_MAPPING_0006_gre_field_mapping_20151214092109_6_e2.nii', '/fMRI/FED055/GRE_FIELD_MAPPING_0007_gre_field_mapping_20151214092109_7_e2_ph.nii', '/fMRI/FED056/GRE_FIELD_MAPPING_0006_gre_field_mapping_20151215155556_6_e1.nii', '/fMRI/FED056/GRE_FIELD_MAPPING_0006_gre_field_mapping_20151215155556_6_e2.nii', '/fMRI/FED056/GRE_FIELD_MAPPING_0007_gre_field_mapping_20151215155556_7_e2_ph.nii', '/fMRI/FED057/GRE_FIELD_MAPPING_0006_gre_field_mapping_20151216154455_6_e1.nii', '/fMRI/FED057/GRE_FIELD_MAPPING_0006_gre_field_mapping_20151216154455_6_e2.nii', '/fMRI/FED057/GRE_FIELD_MAPPING_0007_gre_field_mapping_20151216154455_7_e2_ph.nii', '/fMRI/FED058/GRE_FIELD_MAPPING_0006_gre_field_mapping_20160217151251_6_e1.nii', '/fMRI/FED058/GRE_FIELD_MAPPING_0006_gre_field_mapping_20160217151251_6_e2.nii', '/fMRI/FED058/GRE_FIELD_MAPPING_0007_gre_field_mapping_20160217151251_7_e2_ph.nii', '/fMRI/FED059/GRE_FIELD_MAPPING_0006_gre_field_mapping_20160218100702_6_e1.nii', '/fMRI/FED059/GRE_FIELD_MAPPING_0006_gre_field_mapping_20160218100702_6_e2.nii', '/fMRI/FED059/GRE_FIELD_MAPPING_0007_gre_field_mapping_20160218100702_7_e2_ph.nii', '/fMRI/FED060/GRE_FIELD_MAPPING_0006_gre_field_mapping_20160224151260_6_e1.nii', '/fMRI/FED060/GRE_FIELD_MAPPING_0006_gre_field_mapping_20160224151260_6_e2.nii', '/fMRI/FED060/GRE_FIELD_MAPPING_0007_gre_field_mapping_20160224151260_7_e2_ph.nii', '/fMRI/FED061/GRE_FIELD_MAPPING_0006_gre_field_mapping_20160301111011_6_e1.nii', '/fMRI/FED061/GRE_FIELD_MAPPING_0006_gre_field_mapping_20160301111011_6_e2.nii', '/fMRI/FED061/GRE_FIELD_MAPPING_0007_gre_field_mapping_20160301111011_7_e2_ph.nii', '/fMRI/FED062/GRE_FIELD_MAPPING_0006_gre_field_mapping_20160301164049_6_e1.nii', '/fMRI/FED062/GRE_FIELD_MAPPING_0006_gre_field_mapping_20160301164049_6_e2.nii', '/fMRI/FED062/GRE_FIELD_MAPPING_0007_gre_field_mapping_20160301164049_7_e2_ph.nii', '/fMRI/FED063/GRE_FIELD_MAPPING_0009_gre_field_mapping_20160308162043_9_e1.nii', '/fMRI/FED063/GRE_FIELD_MAPPING_0009_gre_field_mapping_20160308162043_9_e2.nii', '/fMRI/FED063/GRE_FIELD_MAPPING_0010_gre_field_mapping_20160308162043_10_e2_ph.nii', '/fMRI/FED064/GRE_FIELD_MAPPING_0009_gre_field_mapping_20160309173936_9_e1.nii', '/fMRI/FED064/GRE_FIELD_MAPPING_0009_gre_field_mapping_20160309173936_9_e2.nii', '/fMRI/FED064/GRE_FIELD_MAPPING_0010_gre_field_mapping_20160309173936_10_e2_ph.nii', '/fMRI/FED065/GRE_FIELD_MAPPING_0016_gre_field_mapping_20160310090712_16_e1.nii', '/fMRI/FED065/GRE_FIELD_MAPPING_0016_gre_field_mapping_20160310090712_16_e2.nii', '/fMRI/FED065/GRE_FIELD_MAPPING_0017_gre_field_mapping_20160310090712_17_e2_ph.nii', '/fMRI/FED066/GRE_FIELD_MAPPING_0010_gre_field_mapping_20160310171152_10_e1.nii', '/fMRI/FED066/GRE_FIELD_MAPPING_0010_gre_field_mapping_20160310171152_10_e2.nii', '/fMRI/FED066/GRE_FIELD_MAPPING_0011_gre_field_mapping_20160310171152_11_e2_ph.nii', '/fMRI/FED068/GRE_FIELD_MAPPING_0009_gre_field_mapping_20160331140317_9_e1.nii', '/fMRI/FED068/GRE_FIELD_MAPPING_0009_gre_field_mapping_20160331140317_9_e2.nii', '/fMRI/FED068/GRE_FIELD_MAPPING_0010_gre_field_mapping_20160331140317_10_e2_ph.nii']\n",
      "181\n",
      "['/fMRI/FED006/GRE_FIELD_MAPPING_0006_gre_field_mapping_20141106153429_6_e2_ph.json', '/fMRI/FED007/GRE_FIELD_MAPPING_0012_gre_field_mapping_20141107104226_12_e1.json', '/fMRI/FED007/GRE_FIELD_MAPPING_0012_gre_field_mapping_20141107104226_12_e2.json', '/fMRI/FED007/GRE_FIELD_MAPPING_0013_gre_field_mapping_20141107104226_13_e2_ph.json', '/fMRI/FED008/GRE_FIELD_MAPPING_0012_gre_field_mapping_20141112155009_12_e2_ph.json', '/fMRI/FED008/GRE_FIELD_MAPPING_0020_gre_field_mapping_20141112155009_20_e2_ph.json', '/fMRI/FED009/GRE_FIELD_MAPPING_0012_gre_field_mapping_20141117154954_12_e2_ph.json', '/fMRI/FED009/GRE_FIELD_MAPPING_0020_gre_field_mapping_20141117154954_20_e1.json', '/fMRI/FED009/GRE_FIELD_MAPPING_0020_gre_field_mapping_20141117154954_20_e2.json', '/fMRI/FED009/GRE_FIELD_MAPPING_0021_gre_field_mapping_20141117154954_21_e2_ph.json', '/fMRI/FED010/GRE_FIELD_MAPPING_0010_gre_field_mapping_20141119091904_10_e1.json', '/fMRI/FED010/GRE_FIELD_MAPPING_0010_gre_field_mapping_20141119091904_10_e2.json', '/fMRI/FED010/GRE_FIELD_MAPPING_0011_gre_field_mapping_20141119091904_11_e2_ph.json', '/fMRI/FED011/GRE_FIELD_MAPPING_0016_gre_field_mapping_20141119161708_16_e1.json', '/fMRI/FED011/GRE_FIELD_MAPPING_0016_gre_field_mapping_20141119161708_16_e2.json', '/fMRI/FED011/GRE_FIELD_MAPPING_0017_gre_field_mapping_20141119161708_17_e2_ph.json', '/fMRI/FED012/GRE_FIELD_MAPPING_0006_gre_field_mapping_20141124150148_6_e1.json', '/fMRI/FED012/GRE_FIELD_MAPPING_0006_gre_field_mapping_20141124150148_6_e2.json', '/fMRI/FED012/GRE_FIELD_MAPPING_0007_gre_field_mapping_20141124150148_7_e2_ph.json', '/fMRI/FED013/GRE_FIELD_MAPPING_0006_gre_field_mapping_20141125093955_6_e1.json', '/fMRI/FED013/GRE_FIELD_MAPPING_0006_gre_field_mapping_20141125093955_6_e2.json', '/fMRI/FED013/GRE_FIELD_MAPPING_0007_gre_field_mapping_20141125093955_7_e2_ph.json', '/fMRI/FED014/GRE_FIELD_MAPPING_0010_gre_field_mapping_20141125153216_10_e1.json', '/fMRI/FED014/GRE_FIELD_MAPPING_0010_gre_field_mapping_20141125153216_10_e2.json', '/fMRI/FED014/GRE_FIELD_MAPPING_0011_gre_field_mapping_20141125153216_11_e2_ph.json', '/fMRI/FED015/GRE_FIELD_MAPPING_0006_gre_field_mapping_20141202145526_6_e1.json', '/fMRI/FED015/GRE_FIELD_MAPPING_0006_gre_field_mapping_20141202145526_6_e2.json', '/fMRI/FED015/GRE_FIELD_MAPPING_0007_gre_field_mapping_20141202145526_7_e2_ph.json', '/fMRI/FED016/GRE_FIELD_MAPPING_0006_gre_field_mapping_20141202164821_6_e1.json', '/fMRI/FED016/GRE_FIELD_MAPPING_0006_gre_field_mapping_20141202164821_6_e2.json', '/fMRI/FED016/GRE_FIELD_MAPPING_0007_gre_field_mapping_20141202164821_7_e2_ph.json', '/fMRI/FED017/GRE_FIELD_MAPPING_0012_gre_field_mapping_20141204151043_12_e1.json', '/fMRI/FED017/GRE_FIELD_MAPPING_0012_gre_field_mapping_20141204151043_12_e2.json', '/fMRI/FED017/GRE_FIELD_MAPPING_0013_gre_field_mapping_20141204151043_13_e2_ph.json', '/fMRI/FED018/GRE_FIELD_MAPPING_0006_gre_field_mapping_20141208163153_6_e1.json', '/fMRI/FED018/GRE_FIELD_MAPPING_0006_gre_field_mapping_20141208163153_6_e2.json', '/fMRI/FED018/GRE_FIELD_MAPPING_0007_gre_field_mapping_20141208163153_7_e2_ph.json', '/fMRI/FED019/GRE_FIELD_MAPPING_0006_gre_field_mapping_20141210090147_6_e1.json', '/fMRI/FED019/GRE_FIELD_MAPPING_0006_gre_field_mapping_20141210090147_6_e2.json', '/fMRI/FED019/GRE_FIELD_MAPPING_0007_gre_field_mapping_20141210090147_7_e2_ph.json', '/fMRI/FED020/GRE_FIELD_MAPPING_0006_gre_field_mapping_20141210170232_6_e1.json', '/fMRI/FED020/GRE_FIELD_MAPPING_0006_gre_field_mapping_20141210170232_6_e2.json', '/fMRI/FED020/GRE_FIELD_MAPPING_0007_gre_field_mapping_20141210170232_7_e2_ph.json', '/fMRI/FED021/GRE_FIELD_MAPPING_0006_gre_field_mapping_20141211095930_6_e1.json', '/fMRI/FED021/GRE_FIELD_MAPPING_0006_gre_field_mapping_20141211095930_6_e2.json', '/fMRI/FED021/GRE_FIELD_MAPPING_0007_gre_field_mapping_20141211095930_7_e2_ph.json', '/fMRI/FED022/GRE_FIELD_MAPPING_0006_gre_field_mapping_20141211155503_6_e1.json', '/fMRI/FED022/GRE_FIELD_MAPPING_0006_gre_field_mapping_20141211155503_6_e2.json', '/fMRI/FED022/GRE_FIELD_MAPPING_0007_gre_field_mapping_20141211155503_7_e2_ph.json', '/fMRI/FED022/GRE_FIELD_MAPPING_0021_gre_field_mapping_20141211155503_21_e1.json', '/fMRI/FED022/GRE_FIELD_MAPPING_0021_gre_field_mapping_20141211155503_21_e2.json', '/fMRI/FED022/GRE_FIELD_MAPPING_0022_gre_field_mapping_20141211155503_22_e2_ph.json', '/fMRI/FED023/GRE_FIELD_MAPPING_0006_gre_field_mapping_20141216144604_6_e1.json', '/fMRI/FED023/GRE_FIELD_MAPPING_0006_gre_field_mapping_20141216144604_6_e2.json', '/fMRI/FED023/GRE_FIELD_MAPPING_0007_gre_field_mapping_20141216144604_7_e2_ph.json', '/fMRI/FED023/GRE_FIELD_MAPPING_0021_gre_field_mapping_20141216144604_21_e1.json', '/fMRI/FED023/GRE_FIELD_MAPPING_0021_gre_field_mapping_20141216144604_21_e2.json', '/fMRI/FED023/GRE_FIELD_MAPPING_0022_gre_field_mapping_20141216144604_22_e2_ph.json', '/fMRI/FED024/GRE_FIELD_MAPPING_0006_gre_field_mapping_20150204145018_6_e1.json', '/fMRI/FED024/GRE_FIELD_MAPPING_0006_gre_field_mapping_20150204145018_6_e2.json', '/fMRI/FED024/GRE_FIELD_MAPPING_0007_gre_field_mapping_20150204145018_7_e2_ph.json', '/fMRI/FED025/GRE_FIELD_MAPPING_0006_gre_field_mapping_20150206123507_6_e1.json', '/fMRI/FED025/GRE_FIELD_MAPPING_0006_gre_field_mapping_20150206123507_6_e2.json', '/fMRI/FED025/GRE_FIELD_MAPPING_0007_gre_field_mapping_20150206123507_7_e2_ph.json', '/fMRI/FED026/GRE_FIELD_MAPPING_0006_gre_field_mapping_20150211171144_6_e1.json', '/fMRI/FED026/GRE_FIELD_MAPPING_0006_gre_field_mapping_20150211171144_6_e2.json', '/fMRI/FED026/GRE_FIELD_MAPPING_0007_gre_field_mapping_20150211171144_7_e2_ph.json', '/fMRI/FED027/GRE_FIELD_MAPPING_0006_gre_field_mapping_20150218162601_6_e1.json', '/fMRI/FED027/GRE_FIELD_MAPPING_0006_gre_field_mapping_20150218162601_6_e2.json', '/fMRI/FED027/GRE_FIELD_MAPPING_0007_gre_field_mapping_20150218162601_7_e2_ph.json', '/fMRI/FED028/GRE_FIELD_MAPPING_0006_gre_field_mapping_20150219142148_6_e1.json', '/fMRI/FED028/GRE_FIELD_MAPPING_0006_gre_field_mapping_20150219142148_6_e2.json', '/fMRI/FED028/GRE_FIELD_MAPPING_0007_gre_field_mapping_20150219142148_7_e2_ph.json', '/fMRI/FED030/GRE_FIELD_MAPPING_0006_gre_field_mapping_20150226154844_6_e1.json', '/fMRI/FED030/GRE_FIELD_MAPPING_0006_gre_field_mapping_20150226154844_6_e2.json', '/fMRI/FED030/GRE_FIELD_MAPPING_0007_gre_field_mapping_20150226154844_7_e2_ph.json', '/fMRI/FED031/GRE_FIELD_MAPPING_0006_gre_field_mapping_20150310152650_6_e1.json', '/fMRI/FED031/GRE_FIELD_MAPPING_0006_gre_field_mapping_20150310152650_6_e2.json', '/fMRI/FED031/GRE_FIELD_MAPPING_0007_gre_field_mapping_20150310152650_7_e2_ph.json', '/fMRI/FED032/GRE_FIELD_MAPPING_0006_gre_field_mapping_20150313125246_6_e1.json', '/fMRI/FED032/GRE_FIELD_MAPPING_0006_gre_field_mapping_20150313125246_6_e2.json', '/fMRI/FED032/GRE_FIELD_MAPPING_0007_gre_field_mapping_20150313125246_7_e2_ph.json', '/fMRI/FED033/GRE_FIELD_MAPPING_0006_gre_field_mapping_20150326151309_6_e1.json', '/fMRI/FED033/GRE_FIELD_MAPPING_0006_gre_field_mapping_20150326151309_6_e2.json', '/fMRI/FED033/GRE_FIELD_MAPPING_0007_gre_field_mapping_20150326151309_7_e2_ph.json', '/fMRI/FED034/GRE_FIELD_MAPPING_0006_gre_field_mapping_20150909125805_6_e1.json', '/fMRI/FED034/GRE_FIELD_MAPPING_0006_gre_field_mapping_20150909125805_6_e2.json', '/fMRI/FED034/GRE_FIELD_MAPPING_0007_gre_field_mapping_20150909125805_7_e2_ph.json', '/fMRI/FED035/GRE_FIELD_MAPPING_0006_gre_field_mapping_20150917120306_6_e1.json', '/fMRI/FED035/GRE_FIELD_MAPPING_0006_gre_field_mapping_20150917120306_6_e2.json', '/fMRI/FED035/GRE_FIELD_MAPPING_0007_gre_field_mapping_20150917120306_7_e2_ph.json', '/fMRI/FED036/GRE_FIELD_MAPPING_0006_gre_field_mapping_20150924172133_6_e1.json', '/fMRI/FED036/GRE_FIELD_MAPPING_0006_gre_field_mapping_20150924172133_6_e2.json', '/fMRI/FED036/GRE_FIELD_MAPPING_0007_gre_field_mapping_20150924172133_7_e2_ph.json', '/fMRI/FED038/GRE_FIELD_MAPPING_0006_gre_field_mapping_20151001125857_6_e1.json', '/fMRI/FED038/GRE_FIELD_MAPPING_0006_gre_field_mapping_20151001125857_6_e2.json', '/fMRI/FED038/GRE_FIELD_MAPPING_0007_gre_field_mapping_20151001125857_7_e2_ph.json', '/fMRI/FED039/GRE_FIELD_MAPPING_0006_gre_field_mapping_20151001173950_6_e1.json', '/fMRI/FED039/GRE_FIELD_MAPPING_0006_gre_field_mapping_20151001173950_6_e2.json', '/fMRI/FED039/GRE_FIELD_MAPPING_0007_gre_field_mapping_20151001173950_7_e2_ph.json', '/fMRI/FED040/GRE_FIELD_MAPPING_0006_gre_field_mapping_20151009111760_6_e1.json', '/fMRI/FED040/GRE_FIELD_MAPPING_0006_gre_field_mapping_20151009111760_6_e2.json', '/fMRI/FED040/GRE_FIELD_MAPPING_0007_gre_field_mapping_20151009111760_7_e2_ph.json', '/fMRI/FED041/GRE_FIELD_MAPPING_0006_gre_field_mapping_20151009164129_6_e1.json', '/fMRI/FED041/GRE_FIELD_MAPPING_0006_gre_field_mapping_20151009164129_6_e2.json', '/fMRI/FED041/GRE_FIELD_MAPPING_0007_gre_field_mapping_20151009164129_7_e2_ph.json', '/fMRI/FED042/GRE_FIELD_MAPPING_0007_gre_field_mapping_20151013110112_7_e1.json', '/fMRI/FED042/GRE_FIELD_MAPPING_0007_gre_field_mapping_20151013110112_7_e2.json', '/fMRI/FED042/GRE_FIELD_MAPPING_0008_gre_field_mapping_20151013110112_8_e2_ph.json', '/fMRI/FED043/GRE_FIELD_MAPPING_0006_gre_field_mapping_20151015122011_6_e1.json', '/fMRI/FED043/GRE_FIELD_MAPPING_0006_gre_field_mapping_20151015122011_6_e2.json', '/fMRI/FED043/GRE_FIELD_MAPPING_0007_gre_field_mapping_20151015122011_7_e2_ph.json', '/fMRI/FED044/GRE_FIELD_MAPPING_0006_gre_field_mapping_20151029121235_6_e1.json', '/fMRI/FED044/GRE_FIELD_MAPPING_0006_gre_field_mapping_20151029121235_6_e2.json', '/fMRI/FED044/GRE_FIELD_MAPPING_0007_gre_field_mapping_20151029121235_7_e2_ph.json', '/fMRI/FED045/GRE_FIELD_MAPPING_0006_gre_field_mapping_20151105173027_6_e1.json', '/fMRI/FED045/GRE_FIELD_MAPPING_0006_gre_field_mapping_20151105173027_6_e2.json', '/fMRI/FED045/GRE_FIELD_MAPPING_0007_gre_field_mapping_20151105173027_7_e2_ph.json', '/fMRI/FED046/GRE_FIELD_MAPPING_0006_gre_field_mapping_20151106125904_6_e1.json', '/fMRI/FED046/GRE_FIELD_MAPPING_0006_gre_field_mapping_20151106125904_6_e2.json', '/fMRI/FED046/GRE_FIELD_MAPPING_0007_gre_field_mapping_20151106125904_7_e2_ph.json', '/fMRI/FED048/GRE_FIELD_MAPPING_0006_gre_field_mapping_20151118152060_6_e1.json', '/fMRI/FED048/GRE_FIELD_MAPPING_0006_gre_field_mapping_20151118152060_6_e2.json', '/fMRI/FED048/GRE_FIELD_MAPPING_0007_gre_field_mapping_20151118152060_7_e2_ph.json', '/fMRI/FED049/GRE_FIELD_MAPPING_0010_gre_field_mapping_20151123115353_10_e1.json', '/fMRI/FED049/GRE_FIELD_MAPPING_0010_gre_field_mapping_20151123115353_10_e2.json', '/fMRI/FED049/GRE_FIELD_MAPPING_0011_gre_field_mapping_20151123115353_11_e2_ph.json', '/fMRI/FED050/GRE_FIELD_MAPPING_0006_gre_field_mapping_20151201165820_6_e1.json', '/fMRI/FED050/GRE_FIELD_MAPPING_0006_gre_field_mapping_20151201165820_6_e2.json', '/fMRI/FED050/GRE_FIELD_MAPPING_0007_gre_field_mapping_20151201165820_7_e2_ph.json', '/fMRI/FED051/GRE_FIELD_MAPPING_0006_gre_field_mapping_20151202153410_6_e1.json', '/fMRI/FED051/GRE_FIELD_MAPPING_0006_gre_field_mapping_20151202153410_6_e2.json', '/fMRI/FED051/GRE_FIELD_MAPPING_0007_gre_field_mapping_20151202153410_7_e2_ph.json', '/fMRI/FED052/GRE_FIELD_MAPPING_0006_gre_field_mapping_20151203172751_6_e1.json', '/fMRI/FED052/GRE_FIELD_MAPPING_0006_gre_field_mapping_20151203172751_6_e2.json', '/fMRI/FED052/GRE_FIELD_MAPPING_0007_gre_field_mapping_20151203172751_7_e2_ph.json', '/fMRI/FED053/GRE_FIELD_MAPPING_0006_gre_field_mapping_20151208115820_6_e1.json', '/fMRI/FED053/GRE_FIELD_MAPPING_0006_gre_field_mapping_20151208115820_6_e2.json', '/fMRI/FED053/GRE_FIELD_MAPPING_0007_gre_field_mapping_20151208115820_7_e2_ph.json', '/fMRI/FED054/GRE_FIELD_MAPPING_0006_gre_field_mapping_20151208140706_6_e1.json', '/fMRI/FED054/GRE_FIELD_MAPPING_0006_gre_field_mapping_20151208140706_6_e2.json', '/fMRI/FED054/GRE_FIELD_MAPPING_0007_gre_field_mapping_20151208140706_7_e2_ph.json', '/fMRI/FED055/GRE_FIELD_MAPPING_0006_gre_field_mapping_20151214092109_6_e1.json', '/fMRI/FED055/GRE_FIELD_MAPPING_0006_gre_field_mapping_20151214092109_6_e2.json', '/fMRI/FED055/GRE_FIELD_MAPPING_0007_gre_field_mapping_20151214092109_7_e2_ph.json', '/fMRI/FED056/GRE_FIELD_MAPPING_0006_gre_field_mapping_20151215155556_6_e1.json', '/fMRI/FED056/GRE_FIELD_MAPPING_0006_gre_field_mapping_20151215155556_6_e2.json', '/fMRI/FED056/GRE_FIELD_MAPPING_0007_gre_field_mapping_20151215155556_7_e2_ph.json', '/fMRI/FED057/GRE_FIELD_MAPPING_0006_gre_field_mapping_20151216154455_6_e1.json', '/fMRI/FED057/GRE_FIELD_MAPPING_0006_gre_field_mapping_20151216154455_6_e2.json', '/fMRI/FED057/GRE_FIELD_MAPPING_0007_gre_field_mapping_20151216154455_7_e2_ph.json', '/fMRI/FED058/GRE_FIELD_MAPPING_0006_gre_field_mapping_20160217151251_6_e1.json', '/fMRI/FED058/GRE_FIELD_MAPPING_0006_gre_field_mapping_20160217151251_6_e2.json', '/fMRI/FED058/GRE_FIELD_MAPPING_0007_gre_field_mapping_20160217151251_7_e2_ph.json', '/fMRI/FED059/GRE_FIELD_MAPPING_0006_gre_field_mapping_20160218100702_6_e1.json', '/fMRI/FED059/GRE_FIELD_MAPPING_0006_gre_field_mapping_20160218100702_6_e2.json', '/fMRI/FED059/GRE_FIELD_MAPPING_0007_gre_field_mapping_20160218100702_7_e2_ph.json', '/fMRI/FED060/GRE_FIELD_MAPPING_0006_gre_field_mapping_20160224151260_6_e1.json', '/fMRI/FED060/GRE_FIELD_MAPPING_0006_gre_field_mapping_20160224151260_6_e2.json', '/fMRI/FED060/GRE_FIELD_MAPPING_0007_gre_field_mapping_20160224151260_7_e2_ph.json', '/fMRI/FED061/GRE_FIELD_MAPPING_0006_gre_field_mapping_20160301111011_6_e1.json', '/fMRI/FED061/GRE_FIELD_MAPPING_0006_gre_field_mapping_20160301111011_6_e2.json', '/fMRI/FED061/GRE_FIELD_MAPPING_0007_gre_field_mapping_20160301111011_7_e2_ph.json', '/fMRI/FED062/GRE_FIELD_MAPPING_0006_gre_field_mapping_20160301164049_6_e1.json', '/fMRI/FED062/GRE_FIELD_MAPPING_0006_gre_field_mapping_20160301164049_6_e2.json', '/fMRI/FED062/GRE_FIELD_MAPPING_0007_gre_field_mapping_20160301164049_7_e2_ph.json', '/fMRI/FED063/GRE_FIELD_MAPPING_0009_gre_field_mapping_20160308162043_9_e1.json', '/fMRI/FED063/GRE_FIELD_MAPPING_0009_gre_field_mapping_20160308162043_9_e2.json', '/fMRI/FED063/GRE_FIELD_MAPPING_0010_gre_field_mapping_20160308162043_10_e2_ph.json', '/fMRI/FED064/GRE_FIELD_MAPPING_0009_gre_field_mapping_20160309173936_9_e1.json', '/fMRI/FED064/GRE_FIELD_MAPPING_0009_gre_field_mapping_20160309173936_9_e2.json', '/fMRI/FED064/GRE_FIELD_MAPPING_0010_gre_field_mapping_20160309173936_10_e2_ph.json', '/fMRI/FED065/GRE_FIELD_MAPPING_0016_gre_field_mapping_20160310090712_16_e1.json', '/fMRI/FED065/GRE_FIELD_MAPPING_0016_gre_field_mapping_20160310090712_16_e2.json', '/fMRI/FED065/GRE_FIELD_MAPPING_0017_gre_field_mapping_20160310090712_17_e2_ph.json', '/fMRI/FED066/GRE_FIELD_MAPPING_0010_gre_field_mapping_20160310171152_10_e1.json', '/fMRI/FED066/GRE_FIELD_MAPPING_0010_gre_field_mapping_20160310171152_10_e2.json', '/fMRI/FED066/GRE_FIELD_MAPPING_0011_gre_field_mapping_20160310171152_11_e2_ph.json', '/fMRI/FED068/GRE_FIELD_MAPPING_0009_gre_field_mapping_20160331140317_9_e1.json', '/fMRI/FED068/GRE_FIELD_MAPPING_0009_gre_field_mapping_20160331140317_9_e2.json', '/fMRI/FED068/GRE_FIELD_MAPPING_0010_gre_field_mapping_20160331140317_10_e2_ph.json']\n",
      "181\n"
     ]
    }
   ],
   "source": []
  },
  {
   "cell_type": "markdown",
   "metadata": {},
   "source": [
    "Raw data artefact rejection (visual inspection)"
   ]
  },
  {
   "cell_type": "markdown",
   "metadata": {},
   "source": [
    "decided against ICA, as it potentially introduces a lot of artifical signal into the data and is, after visual QC, redundant at this point."
   ]
  },
  {
   "cell_type": "markdown",
   "metadata": {},
   "source": [
    "Distortion correction \\\n",
    "(minimised with Scott @ scantime\n",
    "-> still present in frontal poles etc.)"
   ]
  },
  {
   "cell_type": "code",
   "execution_count": 1,
   "metadata": {},
   "outputs": [],
   "source": [
    "# prepare the gradient field scans \n",
    "# (1 phase and 1 magnitude image)\n",
    "# for usage in distortion correction\n",
    "\n",
    "# load all images as nibabel objects\n"
   ]
  },
  {
   "cell_type": "code",
   "execution_count": null,
   "metadata": {},
   "outputs": [],
   "source": []
  },
  {
   "cell_type": "markdown",
   "metadata": {},
   "source": [
    "Motion correct / realign"
   ]
  },
  {
   "cell_type": "code",
   "execution_count": null,
   "metadata": {},
   "outputs": [],
   "source": []
  },
  {
   "cell_type": "code",
   "execution_count": null,
   "metadata": {},
   "outputs": [],
   "source": []
  },
  {
   "cell_type": "markdown",
   "metadata": {},
   "source": [
    "Slicetime correction (?)"
   ]
  },
  {
   "cell_type": "code",
   "execution_count": null,
   "metadata": {},
   "outputs": [],
   "source": []
  },
  {
   "cell_type": "code",
   "execution_count": null,
   "metadata": {},
   "outputs": [],
   "source": []
  },
  {
   "cell_type": "markdown",
   "metadata": {},
   "source": [
    "Spatial normalisation"
   ]
  },
  {
   "cell_type": "code",
   "execution_count": null,
   "metadata": {},
   "outputs": [],
   "source": []
  },
  {
   "cell_type": "code",
   "execution_count": null,
   "metadata": {},
   "outputs": [],
   "source": []
  },
  {
   "cell_type": "markdown",
   "metadata": {},
   "source": [
    "Spatial Smoothing"
   ]
  },
  {
   "cell_type": "code",
   "execution_count": null,
   "metadata": {},
   "outputs": [],
   "source": []
  },
  {
   "cell_type": "code",
   "execution_count": null,
   "metadata": {},
   "outputs": [],
   "source": []
  }
 ],
 "metadata": {
  "kernelspec": {
   "display_name": "Python [conda env:neuro] *",
   "language": "python",
   "name": "conda-env-neuro-py"
  },
  "language_info": {
   "codemirror_mode": {
    "name": "ipython",
    "version": 3
   },
   "file_extension": ".py",
   "mimetype": "text/x-python",
   "name": "python",
   "nbconvert_exporter": "python",
   "pygments_lexer": "ipython3",
   "version": "3.7.8"
  }
 },
 "nbformat": 4,
 "nbformat_minor": 4
}
