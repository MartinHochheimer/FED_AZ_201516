{
 "cells": [
  {
   "cell_type": "markdown",
   "metadata": {},
   "source": [
    "Gather necessary pre-requisites:"
   ]
  },
  {
   "cell_type": "code",
   "execution_count": 1,
   "metadata": {},
   "outputs": [],
   "source": [
    "# import everything you need\n",
    "from nipype import Node, Workflow\n",
    "import nipype.interfaces.spm as spm\n",
    "from nipype.interfaces.base import CommandLine\n",
    "import nibabel as nb\n",
    "import numpy as np\n",
    "import pandas as pd\n",
    "from nilearn import image as nimg\n",
    "import matplotlib.pyplot as plt\n",
    "from nilearn.plotting import plot_anat, plot_epi\n",
    "import os, re, json"
   ]
  },
  {
   "cell_type": "code",
   "execution_count": 2,
   "metadata": {},
   "outputs": [],
   "source": [
    "# define base diectory for fMRI folder structure and FEDs\n",
    "basedir=\"/fMRI/\"\n",
    "FED_dirs=[os.path.join(basedir, FED) \n",
    "          for FED in os.listdir(basedir)]"
   ]
  },
  {
   "cell_type": "markdown",
   "metadata": {},
   "source": [
    "Get relevant files"
   ]
  },
  {
   "cell_type": "code",
   "execution_count": 3,
   "metadata": {},
   "outputs": [],
   "source": [
    "# collect structural images\n",
    "files=sorted([os.path.join(basedir, subdir, content)\n",
    "       for subdir in FED_dirs\n",
    "       for content in os.listdir(subdir)\n",
    "       if re.match(r'(.*.(nii|json))', content)])"
   ]
  },
  {
   "cell_type": "code",
   "execution_count": 4,
   "metadata": {},
   "outputs": [],
   "source": [
    "# create a dictionary storing all files/subject\n",
    "data={}\n",
    "for fed in FED_dirs:\n",
    "    ID=fed.rsplit('/', 1)[1]\n",
    "    # define partition for each subject\n",
    "    subject={\"files\":[], \"parameters\":{}}\n",
    "    content=[]\n",
    "    for file in files:\n",
    "        if re.match(fr'(.*{ID}.*)', file):\n",
    "            content.append(file)\n",
    "    subject[\"files\"].extend(content)\n",
    "    data[ID]=subject\n",
    "    \n",
    "# create shortcut to FEDs\n",
    "FEDs=[key for key in data.keys()]"
   ]
  },
  {
   "cell_type": "code",
   "execution_count": 5,
   "metadata": {},
   "outputs": [
    {
     "name": "stdout",
     "output_type": "stream",
     "text": [
      "{'files': ['/fMRI/FED007/FMRI_FS_0008_20141107104226.json', '/fMRI/FED007/FMRI_FS_0008_20141107104226.nii', '/fMRI/FED007/GRE_FIELD_MAPPING_0012_20141107104226_e1.json', '/fMRI/FED007/GRE_FIELD_MAPPING_0012_20141107104226_e1.nii', '/fMRI/FED007/GRE_FIELD_MAPPING_0012_20141107104226_e2.json', '/fMRI/FED007/GRE_FIELD_MAPPING_0012_20141107104226_e2.nii', '/fMRI/FED007/GRE_FIELD_MAPPING_0013_20141107104226_e2_ph.json', '/fMRI/FED007/GRE_FIELD_MAPPING_0013_20141107104226_e2_ph.nii', '/fMRI/FED007/T1_MPRAGE_SAG_ISO_0_9_0005_20141107104226.json', '/fMRI/FED007/T1_MPRAGE_SAG_ISO_0_9_0005_20141107104226.nii'], 'parameters': {}}\n"
     ]
    }
   ],
   "source": [
    "# control results\n",
    "print(data[\"FED007\"])"
   ]
  },
  {
   "cell_type": "markdown",
   "metadata": {},
   "source": [
    "Processing"
   ]
  },
  {
   "cell_type": "markdown",
   "metadata": {},
   "source": [
    "Raw data artefact rejection (visual inspection)"
   ]
  },
  {
   "cell_type": "markdown",
   "metadata": {},
   "source": [
    "decided against ICA, as it potentially introduces a lot of artifical signal into the data and is, after visual QC, redundant at this point."
   ]
  },
  {
   "cell_type": "markdown",
   "metadata": {},
   "source": [
    "Distortion correction \\\n",
    "(minimised with Scott @ scantime\n",
    "-> still present in frontal poles etc.)"
   ]
  },
  {
   "cell_type": "code",
   "execution_count": 9,
   "metadata": {
    "collapsed": true,
    "jupyter": {
     "outputs_hidden": true
    }
   },
   "outputs": [
    {
     "name": "stdout",
     "output_type": "stream",
     "text": [
      "FED015 \n",
      " There are  2 files that contain at least one echo 1 and 2 .. \n",
      "\n",
      "FED012 \n",
      " There are  2 files that contain at least one echo 1 and 2 .. \n",
      "\n",
      "FED047 \n",
      " There are  0 files that contain at least one echo 1 and 2 .. \n",
      "\n",
      "FED037 \n",
      " There are  0 files that contain at least one echo 1 and 2 .. \n",
      "\n",
      "FED030 \n",
      " There are  2 files that contain at least one echo 1 and 2 .. \n",
      "\n",
      "FED006 \n",
      " There are  0 files that contain at least one echo 1 and 2 .. \n",
      "\n",
      "FED054 \n",
      " There are  2 files that contain at least one echo 1 and 2 .. \n",
      "\n",
      "FED042 \n",
      " There are  2 files that contain at least one echo 1 and 2 .. \n",
      "\n",
      "FED024 \n",
      " There are  2 files that contain at least one echo 1 and 2 .. \n",
      "\n",
      "FED038 \n",
      " There are  2 files that contain at least one echo 1 and 2 .. \n",
      "\n",
      "FED045 \n",
      " There are  2 files that contain at least one echo 1 and 2 .. \n",
      "\n",
      "FED061 \n",
      " There are  2 files that contain at least one echo 1 and 2 .. \n",
      "\n",
      "FED035 \n",
      " There are  2 files that contain at least one echo 1 and 2 .. \n",
      "\n",
      "FED022 \n",
      " There are  4 files that contain at least one echo 1 and 2 .. \n",
      "\n",
      "FED009 \n",
      " There are  2 files that contain at least one echo 1 and 2 .. \n",
      "\n",
      "FED036 \n",
      " There are  2 files that contain at least one echo 1 and 2 .. \n",
      "\n",
      "FED019 \n",
      " There are  2 files that contain at least one echo 1 and 2 .. \n",
      "\n",
      "FED017 \n",
      " There are  2 files that contain at least one echo 1 and 2 .. \n",
      "\n",
      "FED053 \n",
      " There are  2 files that contain at least one echo 1 and 2 .. \n",
      "\n",
      "FED043 \n",
      " There are  2 files that contain at least one echo 1 and 2 .. \n",
      "\n",
      "FED055 \n",
      " There are  2 files that contain at least one echo 1 and 2 .. \n",
      "\n",
      "FED058 \n",
      " There are  2 files that contain at least one echo 1 and 2 .. \n",
      "\n",
      "FED066 \n",
      " There are  2 files that contain at least one echo 1 and 2 .. \n",
      "\n",
      "FED021 \n",
      " There are  2 files that contain at least one echo 1 and 2 .. \n",
      "\n",
      "FED056 \n",
      " There are  2 files that contain at least one echo 1 and 2 .. \n",
      "\n",
      "FED027 \n",
      " There are  2 files that contain at least one echo 1 and 2 .. \n",
      "\n",
      "FED067 \n",
      " There are  0 files that contain at least one echo 1 and 2 .. \n",
      "\n",
      "FED020 \n",
      " There are  2 files that contain at least one echo 1 and 2 .. \n",
      "\n",
      "FED048 \n",
      " There are  2 files that contain at least one echo 1 and 2 .. \n",
      "\n",
      "FED026 \n",
      " There are  2 files that contain at least one echo 1 and 2 .. \n",
      "\n",
      "FED008 \n",
      " There are  0 files that contain at least one echo 1 and 2 .. \n",
      "\n",
      "FED016 \n",
      " There are  2 files that contain at least one echo 1 and 2 .. \n",
      "\n",
      "FED013 \n",
      " There are  2 files that contain at least one echo 1 and 2 .. \n",
      "\n",
      "FED031 \n",
      " There are  2 files that contain at least one echo 1 and 2 .. \n",
      "\n",
      "FED039 \n",
      " There are  2 files that contain at least one echo 1 and 2 .. \n",
      "\n",
      "FED025 \n",
      " There are  2 files that contain at least one echo 1 and 2 .. \n",
      "\n",
      "FED023 \n",
      " There are  4 files that contain at least one echo 1 and 2 .. \n",
      "\n",
      "FED044 \n",
      " There are  2 files that contain at least one echo 1 and 2 .. \n",
      "\n",
      "FED057 \n",
      " There are  2 files that contain at least one echo 1 and 2 .. \n",
      "\n",
      "FED064 \n",
      " There are  2 files that contain at least one echo 1 and 2 .. \n",
      "\n",
      "FED010 \n",
      " There are  2 files that contain at least one echo 1 and 2 .. \n",
      "\n",
      "FED065 \n",
      " There are  2 files that contain at least one echo 1 and 2 .. \n",
      "\n",
      "FED068 \n",
      " There are  2 files that contain at least one echo 1 and 2 .. \n",
      "\n",
      "FED014 \n",
      " There are  2 files that contain at least one echo 1 and 2 .. \n",
      "\n",
      "FED033 \n",
      " There are  2 files that contain at least one echo 1 and 2 .. \n",
      "\n",
      "FED063 \n",
      " There are  2 files that contain at least one echo 1 and 2 .. \n",
      "\n",
      "FED050 \n",
      " There are  2 files that contain at least one echo 1 and 2 .. \n",
      "\n",
      "FED040 \n",
      " There are  2 files that contain at least one echo 1 and 2 .. \n",
      "\n",
      "FED062 \n",
      " There are  2 files that contain at least one echo 1 and 2 .. \n",
      "\n",
      "FED052 \n",
      " There are  2 files that contain at least one echo 1 and 2 .. \n",
      "\n",
      "FED029 \n",
      " There are  0 files that contain at least one echo 1 and 2 .. \n",
      "\n",
      "FED034 \n",
      " There are  2 files that contain at least one echo 1 and 2 .. \n",
      "\n",
      "FED007 \n",
      " There are  2 files that contain at least one echo 1 and 2 .. \n",
      "\n",
      "FED041 \n",
      " There are  2 files that contain at least one echo 1 and 2 .. \n",
      "\n",
      "FED028 \n",
      " There are  2 files that contain at least one echo 1 and 2 .. \n",
      "\n",
      "FED011 \n",
      " There are  2 files that contain at least one echo 1 and 2 .. \n",
      "\n",
      "FED059 \n",
      " There are  2 files that contain at least one echo 1 and 2 .. \n",
      "\n",
      "FED049 \n",
      " There are  2 files that contain at least one echo 1 and 2 .. \n",
      "\n",
      "FED046 \n",
      " There are  2 files that contain at least one echo 1 and 2 .. \n",
      "\n",
      "FED032 \n",
      " There are  2 files that contain at least one echo 1 and 2 .. \n",
      "\n",
      "FED018 \n",
      " There are  2 files that contain at least one echo 1 and 2 .. \n",
      "\n",
      "FED051 \n",
      " There are  2 files that contain at least one echo 1 and 2 .. \n",
      "\n",
      "FED060 \n",
      " There are  2 files that contain at least one echo 1 and 2 .. \n",
      "\n"
     ]
    }
   ],
   "source": [
    "# read json info data for Echo times etc.\n",
    "# define info of interest\n",
    "specs=[\"EchoTime\"]\n",
    "\n",
    "for subject in FEDs:\n",
    "    # collect files/FED\n",
    "    files=[file for file in data[subject][\"files\"]\n",
    "           if re.match(r'(.*(e1|e2(?!_ph)).*.json)', file)]\n",
    "    # control data\n",
    "    print(subject, \"\\n\", \"There are \", len(files), \n",
    "          \"files that contain at least one echo 1 and 2 ..\", \"\\n\")\n",
    "    # collect short and long TE from the respective echoes\n",
    "    tes=[]\n",
    "    for file in files:\n",
    "        with open(file) as json_file:\n",
    "            info=json.load(json_file)\n",
    "            tes.extend([info[param] for param in specs])\n",
    "    # put TEs into data\n",
    "    data[subject][\"parameters\"][\"grefield_TEs\"]=tes"
   ]
  },
  {
   "cell_type": "code",
   "execution_count": 7,
   "metadata": {},
   "outputs": [
    {
     "name": "stdout",
     "output_type": "stream",
     "text": [
      "[0.00492, 0.00738]\n",
      "[0.00492, 0.00738]\n",
      "[]\n",
      "[]\n",
      "[0.00492, 0.00738]\n",
      "[]\n",
      "[0.00492, 0.00738]\n",
      "[0.00492, 0.00738]\n",
      "[0.00492, 0.00738]\n",
      "[0.00492, 0.00738]\n",
      "[0.00492, 0.00738]\n",
      "[0.00492, 0.00738]\n",
      "[0.00492, 0.00738]\n",
      "[0.00492, 0.00738, 0.00492, 0.00738]\n",
      "[0.00492, 0.00738]\n",
      "[0.00492, 0.00738]\n",
      "[0.00492, 0.00738]\n",
      "[0.00492, 0.00738]\n",
      "[0.00492, 0.00738]\n",
      "[0.00492, 0.00738]\n",
      "[0.00492, 0.00738]\n",
      "[0.00492, 0.00738]\n",
      "[0.00492, 0.00738]\n",
      "[0.00492, 0.00738]\n",
      "[0.00492, 0.00738]\n",
      "[0.00492, 0.00738]\n",
      "[]\n",
      "[0.00492, 0.00738]\n",
      "[0.00492, 0.00738]\n",
      "[0.00492, 0.00738]\n",
      "[]\n",
      "[0.00492, 0.00738]\n",
      "[0.00492, 0.00738]\n",
      "[0.00492, 0.00738]\n",
      "[0.00492, 0.00738]\n",
      "[0.00492, 0.00738]\n",
      "[0.00492, 0.00738, 0.00492, 0.00738]\n",
      "[0.00492, 0.00738]\n",
      "[0.00492, 0.00738]\n",
      "[0.00492, 0.00738]\n",
      "[0.00492, 0.00738]\n",
      "[0.00492, 0.00738]\n",
      "[0.00492, 0.00738]\n",
      "[0.00492, 0.00738]\n",
      "[0.00492, 0.00738]\n",
      "[0.00492, 0.00738]\n",
      "[0.00492, 0.00738]\n",
      "[0.00492, 0.00738]\n",
      "[0.00492, 0.00738]\n",
      "[0.00492, 0.00738]\n",
      "[]\n",
      "[0.00492, 0.00738]\n",
      "[0.00492, 0.00738]\n",
      "[0.00492, 0.00738]\n",
      "[0.00492, 0.00738]\n",
      "[0.00492, 0.00738]\n",
      "[0.00492, 0.00738]\n",
      "[0.00492, 0.00738]\n",
      "[0.00492, 0.00738]\n",
      "[0.00492, 0.00738]\n",
      "[0.00492, 0.00738]\n",
      "[0.00492, 0.00738]\n",
      "[0.00492, 0.00738]\n"
     ]
    }
   ],
   "source": [
    "for sub in FEDs:\n",
    "    print(data[sub][\"parameters\"][\"grefield_TEs\"])"
   ]
  },
  {
   "cell_type": "code",
   "execution_count": 1,
   "metadata": {},
   "outputs": [],
   "source": [
    "# prepare the gradient field scans (1 phase and 1 magnitude image)\n",
    "# for usage in distortion correction: fieldmap FSL, rest SPM\n"
   ]
  },
  {
   "cell_type": "code",
   "execution_count": null,
   "metadata": {},
   "outputs": [],
   "source": []
  },
  {
   "cell_type": "markdown",
   "metadata": {},
   "source": [
    "Motion correct / realign"
   ]
  },
  {
   "cell_type": "code",
   "execution_count": null,
   "metadata": {},
   "outputs": [],
   "source": []
  },
  {
   "cell_type": "code",
   "execution_count": null,
   "metadata": {},
   "outputs": [],
   "source": []
  },
  {
   "cell_type": "markdown",
   "metadata": {},
   "source": [
    "Slicetime correction (?)"
   ]
  },
  {
   "cell_type": "code",
   "execution_count": null,
   "metadata": {},
   "outputs": [],
   "source": []
  },
  {
   "cell_type": "code",
   "execution_count": null,
   "metadata": {},
   "outputs": [],
   "source": []
  },
  {
   "cell_type": "markdown",
   "metadata": {},
   "source": [
    "Spatial normalisation"
   ]
  },
  {
   "cell_type": "code",
   "execution_count": null,
   "metadata": {},
   "outputs": [],
   "source": []
  },
  {
   "cell_type": "code",
   "execution_count": null,
   "metadata": {},
   "outputs": [],
   "source": []
  },
  {
   "cell_type": "markdown",
   "metadata": {},
   "source": [
    "Spatial Smoothing"
   ]
  },
  {
   "cell_type": "code",
   "execution_count": null,
   "metadata": {},
   "outputs": [],
   "source": []
  },
  {
   "cell_type": "code",
   "execution_count": null,
   "metadata": {},
   "outputs": [],
   "source": []
  }
 ],
 "metadata": {
  "kernelspec": {
   "display_name": "Python [conda env:neuro] *",
   "language": "python",
   "name": "conda-env-neuro-py"
  },
  "language_info": {
   "codemirror_mode": {
    "name": "ipython",
    "version": 3
   },
   "file_extension": ".py",
   "mimetype": "text/x-python",
   "name": "python",
   "nbconvert_exporter": "python",
   "pygments_lexer": "ipython3",
   "version": "3.7.8"
  }
 },
 "nbformat": 4,
 "nbformat_minor": 4
}
